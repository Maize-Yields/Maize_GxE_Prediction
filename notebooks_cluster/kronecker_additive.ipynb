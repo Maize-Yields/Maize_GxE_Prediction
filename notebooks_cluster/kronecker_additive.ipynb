{
 "cells": [
  {
   "cell_type": "code",
   "execution_count": 253,
   "id": "babc01c7",
   "metadata": {},
   "outputs": [],
   "source": [
    "# !pip3 install pyarrow\n",
    "# !pip3 install lightgbm\n",
    "# !pip3 install optuna"
   ]
  },
  {
   "cell_type": "code",
   "execution_count": 254,
   "id": "ce58b9cd",
   "metadata": {},
   "outputs": [],
   "source": [
    "import pandas as pd\n",
    "import lightgbm as lgbm\n",
    "from sklearn.metrics import mean_squared_error, r2_score\n",
    "from IPython.display import display"
   ]
  },
  {
   "cell_type": "code",
   "execution_count": 3,
   "id": "023f0bf0",
   "metadata": {},
   "outputs": [],
   "source": [
    "def preprocess(df, year):\n",
    "    df[['Env', 'Hybrid']] = df['id'].str.split(':', expand=True)\n",
    "    df['Env'] += \"_\" + str(year)\n",
    "    df = df.drop('id', axis=1).set_index(['Env', 'Hybrid'])\n",
    "    return df"
   ]
  },
  {
   "cell_type": "code",
   "execution_count": 4,
   "id": "52786c92",
   "metadata": {},
   "outputs": [
    {
     "name": "stdout",
     "output_type": "stream",
     "text": [
      "CPU times: user 14min 30s, sys: 3min, total: 17min 30s\n",
      "Wall time: 17min 36s\n"
     ]
    }
   ],
   "source": [
    "%%time\n",
    "\n",
    "ytrain = pd.read_csv('../output/ytrain.csv').set_index(['Env', 'Hybrid'])\n",
    "xtrain = pd.read_parquet('../output/kronecker_additive_train.parquet')\n",
    "xtrain = preprocess(xtrain, year=2020)\n",
    "xtrain = xtrain.merge(ytrain, on=['Env', 'Hybrid'], how='inner')\n",
    "ytrain = xtrain['Yield_Mg_ha']\n",
    "del xtrain['Yield_Mg_ha']\n",
    "\n",
    "yval = pd.read_csv('../output/yval.csv').set_index(['Env', 'Hybrid'])\n",
    "xval = pd.read_parquet('../output/kronecker_additive_val.parquet')\n",
    "xval = preprocess(xval, year=2021)\n",
    "xval = xval.merge(yval, on=['Env', 'Hybrid'], how='inner')\n",
    "yval = xval['Yield_Mg_ha']\n",
    "del xval['Yield_Mg_ha']"
   ]
  },
  {
   "cell_type": "code",
   "execution_count": 5,
   "id": "0e9ee4a6",
   "metadata": {},
   "outputs": [
    {
     "data": {
      "text/html": [
       "<div>\n",
       "<style scoped>\n",
       "    .dataframe tbody tr th:only-of-type {\n",
       "        vertical-align: middle;\n",
       "    }\n",
       "\n",
       "    .dataframe tbody tr th {\n",
       "        vertical-align: top;\n",
       "    }\n",
       "\n",
       "    .dataframe thead th {\n",
       "        text-align: right;\n",
       "    }\n",
       "</style>\n",
       "<table border=\"1\" class=\"dataframe\">\n",
       "  <thead>\n",
       "    <tr style=\"text-align: right;\">\n",
       "      <th></th>\n",
       "      <th></th>\n",
       "      <th>weather_station_lat.2369.DK3IIH6</th>\n",
       "      <th>weather_station_lat.2369.PHN82</th>\n",
       "      <th>weather_station_lat.2369.PHZ51</th>\n",
       "      <th>weather_station_lat.2FACC.DK3IIH6</th>\n",
       "      <th>weather_station_lat.4N506.DK3IIH6</th>\n",
       "      <th>weather_station_lat.6F629.DK3IIH6</th>\n",
       "      <th>weather_station_lat.740.PB80</th>\n",
       "      <th>weather_station_lat.740.PHB47</th>\n",
       "      <th>weather_station_lat.A632.DK3IIH6</th>\n",
       "      <th>weather_station_lat.A634.DK3IIH6</th>\n",
       "      <th>...</th>\n",
       "      <th>T2M_min_fall_X_weather_station_lat.Z036E0057.PHZ51</th>\n",
       "      <th>T2M_min_fall_X_weather_station_lat.Z037E0012.DK3IIH6</th>\n",
       "      <th>T2M_min_fall_X_weather_station_lat.Z037E0012.LH162</th>\n",
       "      <th>T2M_min_fall_X_weather_station_lat.Z037E0012.PHZ51</th>\n",
       "      <th>T2M_min_fall_X_weather_station_lat.Z037E0054.DK3IIH6</th>\n",
       "      <th>T2M_min_fall_X_weather_station_lat.Z037E0054.LH162</th>\n",
       "      <th>T2M_min_fall_X_weather_station_lat.Z037E0054.PHZ51</th>\n",
       "      <th>T2M_min_fall_X_weather_station_lat.Z038E0057.DK3IIH6</th>\n",
       "      <th>T2M_min_fall_X_weather_station_lat.Z038E0057.LH162</th>\n",
       "      <th>T2M_min_fall_X_weather_station_lat.Z038E0057.PHZ51</th>\n",
       "    </tr>\n",
       "    <tr>\n",
       "      <th>Env</th>\n",
       "      <th>Hybrid</th>\n",
       "      <th></th>\n",
       "      <th></th>\n",
       "      <th></th>\n",
       "      <th></th>\n",
       "      <th></th>\n",
       "      <th></th>\n",
       "      <th></th>\n",
       "      <th></th>\n",
       "      <th></th>\n",
       "      <th></th>\n",
       "      <th></th>\n",
       "      <th></th>\n",
       "      <th></th>\n",
       "      <th></th>\n",
       "      <th></th>\n",
       "      <th></th>\n",
       "      <th></th>\n",
       "      <th></th>\n",
       "      <th></th>\n",
       "      <th></th>\n",
       "      <th></th>\n",
       "    </tr>\n",
       "  </thead>\n",
       "  <tbody>\n",
       "    <tr>\n",
       "      <th rowspan=\"5\" valign=\"top\">DEH1_2020</th>\n",
       "      <th>B14A/H95</th>\n",
       "      <td>-1.007870</td>\n",
       "      <td>-1.837566</td>\n",
       "      <td>-1.605795</td>\n",
       "      <td>-0.658180</td>\n",
       "      <td>0.631492</td>\n",
       "      <td>-0.578920</td>\n",
       "      <td>0.266626</td>\n",
       "      <td>-1.095703</td>\n",
       "      <td>0.719545</td>\n",
       "      <td>0.326670</td>\n",
       "      <td>...</td>\n",
       "      <td>-3.466781</td>\n",
       "      <td>-2.213300</td>\n",
       "      <td>2.877887</td>\n",
       "      <td>-3.638996</td>\n",
       "      <td>-1.763505</td>\n",
       "      <td>3.385181</td>\n",
       "      <td>-3.167276</td>\n",
       "      <td>-2.213121</td>\n",
       "      <td>2.944125</td>\n",
       "      <td>-3.580641</td>\n",
       "    </tr>\n",
       "    <tr>\n",
       "      <th>B14A/MO17</th>\n",
       "      <td>-2.618794</td>\n",
       "      <td>-2.621807</td>\n",
       "      <td>-0.972598</td>\n",
       "      <td>-0.964012</td>\n",
       "      <td>-0.132151</td>\n",
       "      <td>-2.128988</td>\n",
       "      <td>15.759511</td>\n",
       "      <td>14.352243</td>\n",
       "      <td>-1.073005</td>\n",
       "      <td>-1.112924</td>\n",
       "      <td>...</td>\n",
       "      <td>-1.956570</td>\n",
       "      <td>-6.238562</td>\n",
       "      <td>14.312551</td>\n",
       "      <td>-2.378889</td>\n",
       "      <td>-5.629409</td>\n",
       "      <td>14.974776</td>\n",
       "      <td>-1.732318</td>\n",
       "      <td>-6.548245</td>\n",
       "      <td>14.037940</td>\n",
       "      <td>-2.661383</td>\n",
       "    </tr>\n",
       "    <tr>\n",
       "      <th>B14A/OH43</th>\n",
       "      <td>-1.091436</td>\n",
       "      <td>-2.703812</td>\n",
       "      <td>-2.264200</td>\n",
       "      <td>-0.599440</td>\n",
       "      <td>0.423410</td>\n",
       "      <td>-0.875007</td>\n",
       "      <td>-0.393651</td>\n",
       "      <td>-1.502265</td>\n",
       "      <td>0.424393</td>\n",
       "      <td>0.243105</td>\n",
       "      <td>...</td>\n",
       "      <td>-5.547858</td>\n",
       "      <td>-3.110260</td>\n",
       "      <td>1.312510</td>\n",
       "      <td>-5.903778</td>\n",
       "      <td>-2.547586</td>\n",
       "      <td>1.939322</td>\n",
       "      <td>-5.290406</td>\n",
       "      <td>-2.952936</td>\n",
       "      <td>1.522612</td>\n",
       "      <td>-5.683851</td>\n",
       "    </tr>\n",
       "    <tr>\n",
       "      <th>B37/H95</th>\n",
       "      <td>-4.214089</td>\n",
       "      <td>-5.455722</td>\n",
       "      <td>-4.986150</td>\n",
       "      <td>-1.992894</td>\n",
       "      <td>-3.038155</td>\n",
       "      <td>3.469633</td>\n",
       "      <td>-4.958083</td>\n",
       "      <td>8.926871</td>\n",
       "      <td>-1.603818</td>\n",
       "      <td>-1.718635</td>\n",
       "      <td>...</td>\n",
       "      <td>-14.244774</td>\n",
       "      <td>-13.380835</td>\n",
       "      <td>-8.249808</td>\n",
       "      <td>-15.202713</td>\n",
       "      <td>-13.145730</td>\n",
       "      <td>-8.008111</td>\n",
       "      <td>-14.965603</td>\n",
       "      <td>-13.267777</td>\n",
       "      <td>-8.123812</td>\n",
       "      <td>-15.062465</td>\n",
       "    </tr>\n",
       "    <tr>\n",
       "      <th>B37/MO17</th>\n",
       "      <td>-5.779743</td>\n",
       "      <td>-6.227461</td>\n",
       "      <td>-4.337643</td>\n",
       "      <td>-2.276862</td>\n",
       "      <td>-3.764019</td>\n",
       "      <td>1.891808</td>\n",
       "      <td>10.520153</td>\n",
       "      <td>24.330209</td>\n",
       "      <td>-3.316458</td>\n",
       "      <td>-3.121386</td>\n",
       "      <td>...</td>\n",
       "      <td>-12.680663</td>\n",
       "      <td>-17.292437</td>\n",
       "      <td>3.101532</td>\n",
       "      <td>-13.913051</td>\n",
       "      <td>-16.882481</td>\n",
       "      <td>3.513653</td>\n",
       "      <td>-13.483384</td>\n",
       "      <td>-17.480388</td>\n",
       "      <td>2.897746</td>\n",
       "      <td>-14.091519</td>\n",
       "    </tr>\n",
       "    <tr>\n",
       "      <th>...</th>\n",
       "      <th>...</th>\n",
       "      <td>...</td>\n",
       "      <td>...</td>\n",
       "      <td>...</td>\n",
       "      <td>...</td>\n",
       "      <td>...</td>\n",
       "      <td>...</td>\n",
       "      <td>...</td>\n",
       "      <td>...</td>\n",
       "      <td>...</td>\n",
       "      <td>...</td>\n",
       "      <td>...</td>\n",
       "      <td>...</td>\n",
       "      <td>...</td>\n",
       "      <td>...</td>\n",
       "      <td>...</td>\n",
       "      <td>...</td>\n",
       "      <td>...</td>\n",
       "      <td>...</td>\n",
       "      <td>...</td>\n",
       "      <td>...</td>\n",
       "      <td>...</td>\n",
       "    </tr>\n",
       "    <tr>\n",
       "      <th rowspan=\"5\" valign=\"top\">WIH3_2020</th>\n",
       "      <th>W10004_1123/PHP02</th>\n",
       "      <td>7.057471</td>\n",
       "      <td>9.981057</td>\n",
       "      <td>-6.068796</td>\n",
       "      <td>11.749178</td>\n",
       "      <td>7.632591</td>\n",
       "      <td>8.148819</td>\n",
       "      <td>-4.476307</td>\n",
       "      <td>-4.044620</td>\n",
       "      <td>13.391804</td>\n",
       "      <td>12.363161</td>\n",
       "      <td>...</td>\n",
       "      <td>24.429283</td>\n",
       "      <td>-23.480928</td>\n",
       "      <td>13.697483</td>\n",
       "      <td>24.746053</td>\n",
       "      <td>-23.133308</td>\n",
       "      <td>14.033570</td>\n",
       "      <td>25.101780</td>\n",
       "      <td>-23.334104</td>\n",
       "      <td>13.810055</td>\n",
       "      <td>24.903391</td>\n",
       "    </tr>\n",
       "    <tr>\n",
       "      <th>W10004_1140/PHP02</th>\n",
       "      <td>6.124553</td>\n",
       "      <td>8.849074</td>\n",
       "      <td>-5.284921</td>\n",
       "      <td>8.710817</td>\n",
       "      <td>7.151516</td>\n",
       "      <td>6.832518</td>\n",
       "      <td>-2.248429</td>\n",
       "      <td>-2.420253</td>\n",
       "      <td>8.184805</td>\n",
       "      <td>7.417368</td>\n",
       "      <td>...</td>\n",
       "      <td>19.181701</td>\n",
       "      <td>-22.699725</td>\n",
       "      <td>7.780036</td>\n",
       "      <td>19.289380</td>\n",
       "      <td>-22.839984</td>\n",
       "      <td>7.612756</td>\n",
       "      <td>19.145613</td>\n",
       "      <td>-22.703911</td>\n",
       "      <td>7.772575</td>\n",
       "      <td>19.276348</td>\n",
       "    </tr>\n",
       "    <tr>\n",
       "      <th>W10004_1143/PHP02</th>\n",
       "      <td>3.914119</td>\n",
       "      <td>6.381648</td>\n",
       "      <td>-7.568028</td>\n",
       "      <td>9.096639</td>\n",
       "      <td>5.145412</td>\n",
       "      <td>7.323665</td>\n",
       "      <td>-3.797423</td>\n",
       "      <td>0.584996</td>\n",
       "      <td>8.396842</td>\n",
       "      <td>7.967497</td>\n",
       "      <td>...</td>\n",
       "      <td>28.353366</td>\n",
       "      <td>-14.437993</td>\n",
       "      <td>14.620725</td>\n",
       "      <td>27.841516</td>\n",
       "      <td>-14.938353</td>\n",
       "      <td>14.135937</td>\n",
       "      <td>27.357008</td>\n",
       "      <td>-14.407331</td>\n",
       "      <td>14.679089</td>\n",
       "      <td>27.882693</td>\n",
       "    </tr>\n",
       "    <tr>\n",
       "      <th>W10004_1146/PHP02</th>\n",
       "      <td>6.426950</td>\n",
       "      <td>8.690150</td>\n",
       "      <td>-5.422780</td>\n",
       "      <td>9.648323</td>\n",
       "      <td>8.427114</td>\n",
       "      <td>7.389801</td>\n",
       "      <td>-3.355277</td>\n",
       "      <td>-4.124293</td>\n",
       "      <td>11.419445</td>\n",
       "      <td>10.336034</td>\n",
       "      <td>...</td>\n",
       "      <td>20.792050</td>\n",
       "      <td>-22.471699</td>\n",
       "      <td>11.427084</td>\n",
       "      <td>21.135924</td>\n",
       "      <td>-22.232497</td>\n",
       "      <td>11.674113</td>\n",
       "      <td>21.406466</td>\n",
       "      <td>-22.336492</td>\n",
       "      <td>11.593865</td>\n",
       "      <td>21.301006</td>\n",
       "    </tr>\n",
       "    <tr>\n",
       "      <th>W10004_1156/PHP02</th>\n",
       "      <td>7.071355</td>\n",
       "      <td>10.321447</td>\n",
       "      <td>-5.151226</td>\n",
       "      <td>10.094717</td>\n",
       "      <td>7.295743</td>\n",
       "      <td>7.585522</td>\n",
       "      <td>-3.265934</td>\n",
       "      <td>-4.068654</td>\n",
       "      <td>9.920490</td>\n",
       "      <td>9.614375</td>\n",
       "      <td>...</td>\n",
       "      <td>22.376393</td>\n",
       "      <td>-21.564965</td>\n",
       "      <td>12.558397</td>\n",
       "      <td>23.394004</td>\n",
       "      <td>-21.395460</td>\n",
       "      <td>12.735730</td>\n",
       "      <td>23.587105</td>\n",
       "      <td>-21.073529</td>\n",
       "      <td>13.062047</td>\n",
       "      <td>23.907571</td>\n",
       "    </tr>\n",
       "  </tbody>\n",
       "</table>\n",
       "<p>11277 rows × 413952 columns</p>\n",
       "</div>"
      ],
      "text/plain": [
       "                             weather_station_lat.2369.DK3IIH6  \\\n",
       "Env       Hybrid                                                \n",
       "DEH1_2020 B14A/H95                                  -1.007870   \n",
       "          B14A/MO17                                 -2.618794   \n",
       "          B14A/OH43                                 -1.091436   \n",
       "          B37/H95                                   -4.214089   \n",
       "          B37/MO17                                  -5.779743   \n",
       "...                                                       ...   \n",
       "WIH3_2020 W10004_1123/PHP02                          7.057471   \n",
       "          W10004_1140/PHP02                          6.124553   \n",
       "          W10004_1143/PHP02                          3.914119   \n",
       "          W10004_1146/PHP02                          6.426950   \n",
       "          W10004_1156/PHP02                          7.071355   \n",
       "\n",
       "                             weather_station_lat.2369.PHN82  \\\n",
       "Env       Hybrid                                              \n",
       "DEH1_2020 B14A/H95                                -1.837566   \n",
       "          B14A/MO17                               -2.621807   \n",
       "          B14A/OH43                               -2.703812   \n",
       "          B37/H95                                 -5.455722   \n",
       "          B37/MO17                                -6.227461   \n",
       "...                                                     ...   \n",
       "WIH3_2020 W10004_1123/PHP02                        9.981057   \n",
       "          W10004_1140/PHP02                        8.849074   \n",
       "          W10004_1143/PHP02                        6.381648   \n",
       "          W10004_1146/PHP02                        8.690150   \n",
       "          W10004_1156/PHP02                       10.321447   \n",
       "\n",
       "                             weather_station_lat.2369.PHZ51  \\\n",
       "Env       Hybrid                                              \n",
       "DEH1_2020 B14A/H95                                -1.605795   \n",
       "          B14A/MO17                               -0.972598   \n",
       "          B14A/OH43                               -2.264200   \n",
       "          B37/H95                                 -4.986150   \n",
       "          B37/MO17                                -4.337643   \n",
       "...                                                     ...   \n",
       "WIH3_2020 W10004_1123/PHP02                       -6.068796   \n",
       "          W10004_1140/PHP02                       -5.284921   \n",
       "          W10004_1143/PHP02                       -7.568028   \n",
       "          W10004_1146/PHP02                       -5.422780   \n",
       "          W10004_1156/PHP02                       -5.151226   \n",
       "\n",
       "                             weather_station_lat.2FACC.DK3IIH6  \\\n",
       "Env       Hybrid                                                 \n",
       "DEH1_2020 B14A/H95                                   -0.658180   \n",
       "          B14A/MO17                                  -0.964012   \n",
       "          B14A/OH43                                  -0.599440   \n",
       "          B37/H95                                    -1.992894   \n",
       "          B37/MO17                                   -2.276862   \n",
       "...                                                        ...   \n",
       "WIH3_2020 W10004_1123/PHP02                          11.749178   \n",
       "          W10004_1140/PHP02                           8.710817   \n",
       "          W10004_1143/PHP02                           9.096639   \n",
       "          W10004_1146/PHP02                           9.648323   \n",
       "          W10004_1156/PHP02                          10.094717   \n",
       "\n",
       "                             weather_station_lat.4N506.DK3IIH6  \\\n",
       "Env       Hybrid                                                 \n",
       "DEH1_2020 B14A/H95                                    0.631492   \n",
       "          B14A/MO17                                  -0.132151   \n",
       "          B14A/OH43                                   0.423410   \n",
       "          B37/H95                                    -3.038155   \n",
       "          B37/MO17                                   -3.764019   \n",
       "...                                                        ...   \n",
       "WIH3_2020 W10004_1123/PHP02                           7.632591   \n",
       "          W10004_1140/PHP02                           7.151516   \n",
       "          W10004_1143/PHP02                           5.145412   \n",
       "          W10004_1146/PHP02                           8.427114   \n",
       "          W10004_1156/PHP02                           7.295743   \n",
       "\n",
       "                             weather_station_lat.6F629.DK3IIH6  \\\n",
       "Env       Hybrid                                                 \n",
       "DEH1_2020 B14A/H95                                   -0.578920   \n",
       "          B14A/MO17                                  -2.128988   \n",
       "          B14A/OH43                                  -0.875007   \n",
       "          B37/H95                                     3.469633   \n",
       "          B37/MO17                                    1.891808   \n",
       "...                                                        ...   \n",
       "WIH3_2020 W10004_1123/PHP02                           8.148819   \n",
       "          W10004_1140/PHP02                           6.832518   \n",
       "          W10004_1143/PHP02                           7.323665   \n",
       "          W10004_1146/PHP02                           7.389801   \n",
       "          W10004_1156/PHP02                           7.585522   \n",
       "\n",
       "                             weather_station_lat.740.PB80  \\\n",
       "Env       Hybrid                                            \n",
       "DEH1_2020 B14A/H95                               0.266626   \n",
       "          B14A/MO17                             15.759511   \n",
       "          B14A/OH43                             -0.393651   \n",
       "          B37/H95                               -4.958083   \n",
       "          B37/MO17                              10.520153   \n",
       "...                                                   ...   \n",
       "WIH3_2020 W10004_1123/PHP02                     -4.476307   \n",
       "          W10004_1140/PHP02                     -2.248429   \n",
       "          W10004_1143/PHP02                     -3.797423   \n",
       "          W10004_1146/PHP02                     -3.355277   \n",
       "          W10004_1156/PHP02                     -3.265934   \n",
       "\n",
       "                             weather_station_lat.740.PHB47  \\\n",
       "Env       Hybrid                                             \n",
       "DEH1_2020 B14A/H95                               -1.095703   \n",
       "          B14A/MO17                              14.352243   \n",
       "          B14A/OH43                              -1.502265   \n",
       "          B37/H95                                 8.926871   \n",
       "          B37/MO17                               24.330209   \n",
       "...                                                    ...   \n",
       "WIH3_2020 W10004_1123/PHP02                      -4.044620   \n",
       "          W10004_1140/PHP02                      -2.420253   \n",
       "          W10004_1143/PHP02                       0.584996   \n",
       "          W10004_1146/PHP02                      -4.124293   \n",
       "          W10004_1156/PHP02                      -4.068654   \n",
       "\n",
       "                             weather_station_lat.A632.DK3IIH6  \\\n",
       "Env       Hybrid                                                \n",
       "DEH1_2020 B14A/H95                                   0.719545   \n",
       "          B14A/MO17                                 -1.073005   \n",
       "          B14A/OH43                                  0.424393   \n",
       "          B37/H95                                   -1.603818   \n",
       "          B37/MO17                                  -3.316458   \n",
       "...                                                       ...   \n",
       "WIH3_2020 W10004_1123/PHP02                         13.391804   \n",
       "          W10004_1140/PHP02                          8.184805   \n",
       "          W10004_1143/PHP02                          8.396842   \n",
       "          W10004_1146/PHP02                         11.419445   \n",
       "          W10004_1156/PHP02                          9.920490   \n",
       "\n",
       "                             weather_station_lat.A634.DK3IIH6  ...  \\\n",
       "Env       Hybrid                                               ...   \n",
       "DEH1_2020 B14A/H95                                   0.326670  ...   \n",
       "          B14A/MO17                                 -1.112924  ...   \n",
       "          B14A/OH43                                  0.243105  ...   \n",
       "          B37/H95                                   -1.718635  ...   \n",
       "          B37/MO17                                  -3.121386  ...   \n",
       "...                                                       ...  ...   \n",
       "WIH3_2020 W10004_1123/PHP02                         12.363161  ...   \n",
       "          W10004_1140/PHP02                          7.417368  ...   \n",
       "          W10004_1143/PHP02                          7.967497  ...   \n",
       "          W10004_1146/PHP02                         10.336034  ...   \n",
       "          W10004_1156/PHP02                          9.614375  ...   \n",
       "\n",
       "                             T2M_min_fall_X_weather_station_lat.Z036E0057.PHZ51  \\\n",
       "Env       Hybrid                                                                  \n",
       "DEH1_2020 B14A/H95                                                   -3.466781    \n",
       "          B14A/MO17                                                  -1.956570    \n",
       "          B14A/OH43                                                  -5.547858    \n",
       "          B37/H95                                                   -14.244774    \n",
       "          B37/MO17                                                  -12.680663    \n",
       "...                                                                        ...    \n",
       "WIH3_2020 W10004_1123/PHP02                                          24.429283    \n",
       "          W10004_1140/PHP02                                          19.181701    \n",
       "          W10004_1143/PHP02                                          28.353366    \n",
       "          W10004_1146/PHP02                                          20.792050    \n",
       "          W10004_1156/PHP02                                          22.376393    \n",
       "\n",
       "                             T2M_min_fall_X_weather_station_lat.Z037E0012.DK3IIH6  \\\n",
       "Env       Hybrid                                                                    \n",
       "DEH1_2020 B14A/H95                                                   -2.213300      \n",
       "          B14A/MO17                                                  -6.238562      \n",
       "          B14A/OH43                                                  -3.110260      \n",
       "          B37/H95                                                   -13.380835      \n",
       "          B37/MO17                                                  -17.292437      \n",
       "...                                                                        ...      \n",
       "WIH3_2020 W10004_1123/PHP02                                         -23.480928      \n",
       "          W10004_1140/PHP02                                         -22.699725      \n",
       "          W10004_1143/PHP02                                         -14.437993      \n",
       "          W10004_1146/PHP02                                         -22.471699      \n",
       "          W10004_1156/PHP02                                         -21.564965      \n",
       "\n",
       "                             T2M_min_fall_X_weather_station_lat.Z037E0012.LH162  \\\n",
       "Env       Hybrid                                                                  \n",
       "DEH1_2020 B14A/H95                                                    2.877887    \n",
       "          B14A/MO17                                                  14.312551    \n",
       "          B14A/OH43                                                   1.312510    \n",
       "          B37/H95                                                    -8.249808    \n",
       "          B37/MO17                                                    3.101532    \n",
       "...                                                                        ...    \n",
       "WIH3_2020 W10004_1123/PHP02                                          13.697483    \n",
       "          W10004_1140/PHP02                                           7.780036    \n",
       "          W10004_1143/PHP02                                          14.620725    \n",
       "          W10004_1146/PHP02                                          11.427084    \n",
       "          W10004_1156/PHP02                                          12.558397    \n",
       "\n",
       "                             T2M_min_fall_X_weather_station_lat.Z037E0012.PHZ51  \\\n",
       "Env       Hybrid                                                                  \n",
       "DEH1_2020 B14A/H95                                                   -3.638996    \n",
       "          B14A/MO17                                                  -2.378889    \n",
       "          B14A/OH43                                                  -5.903778    \n",
       "          B37/H95                                                   -15.202713    \n",
       "          B37/MO17                                                  -13.913051    \n",
       "...                                                                        ...    \n",
       "WIH3_2020 W10004_1123/PHP02                                          24.746053    \n",
       "          W10004_1140/PHP02                                          19.289380    \n",
       "          W10004_1143/PHP02                                          27.841516    \n",
       "          W10004_1146/PHP02                                          21.135924    \n",
       "          W10004_1156/PHP02                                          23.394004    \n",
       "\n",
       "                             T2M_min_fall_X_weather_station_lat.Z037E0054.DK3IIH6  \\\n",
       "Env       Hybrid                                                                    \n",
       "DEH1_2020 B14A/H95                                                   -1.763505      \n",
       "          B14A/MO17                                                  -5.629409      \n",
       "          B14A/OH43                                                  -2.547586      \n",
       "          B37/H95                                                   -13.145730      \n",
       "          B37/MO17                                                  -16.882481      \n",
       "...                                                                        ...      \n",
       "WIH3_2020 W10004_1123/PHP02                                         -23.133308      \n",
       "          W10004_1140/PHP02                                         -22.839984      \n",
       "          W10004_1143/PHP02                                         -14.938353      \n",
       "          W10004_1146/PHP02                                         -22.232497      \n",
       "          W10004_1156/PHP02                                         -21.395460      \n",
       "\n",
       "                             T2M_min_fall_X_weather_station_lat.Z037E0054.LH162  \\\n",
       "Env       Hybrid                                                                  \n",
       "DEH1_2020 B14A/H95                                                    3.385181    \n",
       "          B14A/MO17                                                  14.974776    \n",
       "          B14A/OH43                                                   1.939322    \n",
       "          B37/H95                                                    -8.008111    \n",
       "          B37/MO17                                                    3.513653    \n",
       "...                                                                        ...    \n",
       "WIH3_2020 W10004_1123/PHP02                                          14.033570    \n",
       "          W10004_1140/PHP02                                           7.612756    \n",
       "          W10004_1143/PHP02                                          14.135937    \n",
       "          W10004_1146/PHP02                                          11.674113    \n",
       "          W10004_1156/PHP02                                          12.735730    \n",
       "\n",
       "                             T2M_min_fall_X_weather_station_lat.Z037E0054.PHZ51  \\\n",
       "Env       Hybrid                                                                  \n",
       "DEH1_2020 B14A/H95                                                   -3.167276    \n",
       "          B14A/MO17                                                  -1.732318    \n",
       "          B14A/OH43                                                  -5.290406    \n",
       "          B37/H95                                                   -14.965603    \n",
       "          B37/MO17                                                  -13.483384    \n",
       "...                                                                        ...    \n",
       "WIH3_2020 W10004_1123/PHP02                                          25.101780    \n",
       "          W10004_1140/PHP02                                          19.145613    \n",
       "          W10004_1143/PHP02                                          27.357008    \n",
       "          W10004_1146/PHP02                                          21.406466    \n",
       "          W10004_1156/PHP02                                          23.587105    \n",
       "\n",
       "                             T2M_min_fall_X_weather_station_lat.Z038E0057.DK3IIH6  \\\n",
       "Env       Hybrid                                                                    \n",
       "DEH1_2020 B14A/H95                                                   -2.213121      \n",
       "          B14A/MO17                                                  -6.548245      \n",
       "          B14A/OH43                                                  -2.952936      \n",
       "          B37/H95                                                   -13.267777      \n",
       "          B37/MO17                                                  -17.480388      \n",
       "...                                                                        ...      \n",
       "WIH3_2020 W10004_1123/PHP02                                         -23.334104      \n",
       "          W10004_1140/PHP02                                         -22.703911      \n",
       "          W10004_1143/PHP02                                         -14.407331      \n",
       "          W10004_1146/PHP02                                         -22.336492      \n",
       "          W10004_1156/PHP02                                         -21.073529      \n",
       "\n",
       "                             T2M_min_fall_X_weather_station_lat.Z038E0057.LH162  \\\n",
       "Env       Hybrid                                                                  \n",
       "DEH1_2020 B14A/H95                                                    2.944125    \n",
       "          B14A/MO17                                                  14.037940    \n",
       "          B14A/OH43                                                   1.522612    \n",
       "          B37/H95                                                    -8.123812    \n",
       "          B37/MO17                                                    2.897746    \n",
       "...                                                                        ...    \n",
       "WIH3_2020 W10004_1123/PHP02                                          13.810055    \n",
       "          W10004_1140/PHP02                                           7.772575    \n",
       "          W10004_1143/PHP02                                          14.679089    \n",
       "          W10004_1146/PHP02                                          11.593865    \n",
       "          W10004_1156/PHP02                                          13.062047    \n",
       "\n",
       "                             T2M_min_fall_X_weather_station_lat.Z038E0057.PHZ51  \n",
       "Env       Hybrid                                                                 \n",
       "DEH1_2020 B14A/H95                                                   -3.580641   \n",
       "          B14A/MO17                                                  -2.661383   \n",
       "          B14A/OH43                                                  -5.683851   \n",
       "          B37/H95                                                   -15.062465   \n",
       "          B37/MO17                                                  -14.091519   \n",
       "...                                                                        ...   \n",
       "WIH3_2020 W10004_1123/PHP02                                          24.903391   \n",
       "          W10004_1140/PHP02                                          19.276348   \n",
       "          W10004_1143/PHP02                                          27.882693   \n",
       "          W10004_1146/PHP02                                          21.301006   \n",
       "          W10004_1156/PHP02                                          23.907571   \n",
       "\n",
       "[11277 rows x 413952 columns]"
      ]
     },
     "execution_count": 5,
     "metadata": {},
     "output_type": "execute_result"
    }
   ],
   "source": [
    "xtrain"
   ]
  },
  {
   "cell_type": "markdown",
   "id": "e674f3cb",
   "metadata": {},
   "source": [
    "### Training"
   ]
  },
  {
   "cell_type": "code",
   "execution_count": 1,
   "id": "87ce3bbc",
   "metadata": {},
   "outputs": [],
   "source": [
    "# %%time\n",
    "\n",
    "# NCOLS = xtrain.shape[1]\n",
    "# print('features:', NCOLS)\n",
    "\n",
    "# best_params = {'feature_fraction': 0.4953070809776986, 'num_leaves': 247, \n",
    "#                'bagging_fraction': 0.9866458243098336, 'lambda_l1': 3.680660098838679, \n",
    "#                'lambda_l2': 1.1632141265265e-06, 'n_estimators': 232, 'max_depth': 3}\n",
    "# model = lgbm.LGBMRegressor(random_state=42, **best_params)\n",
    "# model.fit(xtrain.iloc[:, :NCOLS], ytrain)\n",
    "\n",
    "# # predict\n",
    "# ypred = model.predict(xval.iloc[:, :NCOLS])\n",
    "\n",
    "# # validate\n",
    "# df_eval = pd.DataFrame()\n",
    "# df_eval['Env'] = xval.index.get_level_values(0)\n",
    "# df_eval['ytrue'] = list(yval)\n",
    "# df_eval['ypred'] = ypred\n",
    "# rmse_per_group = df_eval.groupby('Env').apply(lambda x: mean_squared_error(x['ytrue'], x['ypred'], squared=False))\n",
    "# print(rmse_per_group)\n",
    "\n",
    "# rmse = sum(rmse_per_group) / len(rmse_per_group)\n",
    "# print('RMSE:', rmse)"
   ]
  },
  {
   "cell_type": "code",
   "execution_count": 2,
   "id": "9022f662",
   "metadata": {},
   "outputs": [],
   "source": [
    "# print(r2_score(df_eval['ytrue'], df_eval['ypred']))\n",
    "# df_eval.plot.scatter('ytrue', 'ypred', figsize=(6, 6));"
   ]
  },
  {
   "cell_type": "code",
   "execution_count": 7,
   "id": "e14942e2",
   "metadata": {},
   "outputs": [],
   "source": [
    "# max_depth=2 -> RMSE: 2.25325370257595\n",
    "# max_depth=3 -> RMSE: 2.230505324397102"
   ]
  },
  {
   "cell_type": "code",
   "execution_count": 8,
   "id": "95c941f8",
   "metadata": {},
   "outputs": [],
   "source": [
    "from sklearn.decomposition import TruncatedSVD"
   ]
  },
  {
   "cell_type": "code",
   "execution_count": 184,
   "id": "cec39a62",
   "metadata": {},
   "outputs": [
    {
     "name": "stdout",
     "output_type": "stream",
     "text": [
      "0.9953586892772078\n",
      "CPU times: user 5min 28s, sys: 10.7 s, total: 5min 38s\n",
      "Wall time: 5min 39s\n"
     ]
    }
   ],
   "source": [
    "%%time\n",
    "\n",
    "n_components = 100\n",
    "svd = TruncatedSVD(n_components=n_components, random_state=42)\n",
    "svd.fit(xtrain)\n",
    "print(svd.explained_variance_ratio_.sum())"
   ]
  },
  {
   "cell_type": "code",
   "execution_count": 185,
   "id": "80af6b75",
   "metadata": {},
   "outputs": [
    {
     "name": "stdout",
     "output_type": "stream",
     "text": [
      "CPU times: user 57.3 s, sys: 970 µs, total: 57.3 s\n",
      "Wall time: 57.5 s\n"
     ]
    }
   ],
   "source": [
    "%%time\n",
    "\n",
    "xtrain_svd = pd.DataFrame(svd.transform(xtrain), index=xtrain.index)\n",
    "xtrain_svd.columns = [f'kron_svd{i}' for i in range(n_components)]\n",
    "\n",
    "xval_svd = pd.DataFrame(svd.transform(xval), index=xval.index)\n",
    "xval_svd.columns = [f'kron_svd{i}' for i in range(n_components)]"
   ]
  },
  {
   "cell_type": "code",
   "execution_count": 186,
   "id": "f7f289db",
   "metadata": {},
   "outputs": [],
   "source": [
    "# %%time\n",
    "\n",
    "# from sklearn.svm import LinearSVR\n",
    "\n",
    "# model2 = LinearSVR(random_state=42, max_iter=5000)\n",
    "# model2.fit(xtrain_svd, ytrain)\n",
    "\n",
    "# # predict\n",
    "# ypred2 = model2.predict(xval_svd)\n",
    "\n",
    "# # validate\n",
    "# df_eval2 = pd.DataFrame()\n",
    "# df_eval2['Env'] = xval_svd.index.get_level_values(0)\n",
    "# df_eval2['ytrue'] = list(yval)\n",
    "# df_eval2['ypred'] = ypred2\n",
    "# rmse_per_group2 = df_eval2.groupby('Env').apply(lambda x: mean_squared_error(x['ytrue'], x['ypred'], squared=False))\n",
    "# # print(rmse_per_group2)\n",
    "\n",
    "# rmse2 = sum(rmse_per_group2) / len(rmse_per_group2)\n",
    "# print('RMSE:', rmse2)"
   ]
  },
  {
   "cell_type": "code",
   "execution_count": 187,
   "id": "2dc46545",
   "metadata": {},
   "outputs": [],
   "source": [
    "xtrain_lag = pd.read_csv('../output/xtrain.csv', usecols=lambda x: 'yield_lag' in x or x in ['Env', 'Hybrid']).set_index(['Env', 'Hybrid'])\n",
    "xval_lag = pd.read_csv('../output/xval.csv', usecols=lambda x: 'yield_lag' in x or x in ['Env', 'Hybrid']).set_index(['Env', 'Hybrid'])\n",
    "xtrain_svd = xtrain_svd.merge(xtrain_lag, on=['Env', 'Hybrid'], how='inner')\n",
    "xval_svd = xval_svd.merge(xval_lag, on=['Env', 'Hybrid'], how='inner')"
   ]
  },
  {
   "cell_type": "code",
   "execution_count": 188,
   "id": "441a7ca0",
   "metadata": {},
   "outputs": [
    {
     "data": {
      "text/html": [
       "<div>\n",
       "<style scoped>\n",
       "    .dataframe tbody tr th:only-of-type {\n",
       "        vertical-align: middle;\n",
       "    }\n",
       "\n",
       "    .dataframe tbody tr th {\n",
       "        vertical-align: top;\n",
       "    }\n",
       "\n",
       "    .dataframe thead th {\n",
       "        text-align: right;\n",
       "    }\n",
       "</style>\n",
       "<table border=\"1\" class=\"dataframe\">\n",
       "  <thead>\n",
       "    <tr style=\"text-align: right;\">\n",
       "      <th></th>\n",
       "      <th></th>\n",
       "      <th>kron_svd0</th>\n",
       "      <th>kron_svd1</th>\n",
       "      <th>kron_svd2</th>\n",
       "      <th>kron_svd3</th>\n",
       "      <th>kron_svd4</th>\n",
       "      <th>kron_svd5</th>\n",
       "      <th>kron_svd6</th>\n",
       "      <th>kron_svd7</th>\n",
       "      <th>kron_svd8</th>\n",
       "      <th>kron_svd9</th>\n",
       "      <th>...</th>\n",
       "      <th>kron_svd96</th>\n",
       "      <th>kron_svd97</th>\n",
       "      <th>kron_svd98</th>\n",
       "      <th>kron_svd99</th>\n",
       "      <th>mean_yield_lag_2</th>\n",
       "      <th>min_yield_lag_2</th>\n",
       "      <th>p1_yield_lag_2</th>\n",
       "      <th>q1_yield_lag_2</th>\n",
       "      <th>q3_yield_lag_2</th>\n",
       "      <th>p90_yield_lag_2</th>\n",
       "    </tr>\n",
       "    <tr>\n",
       "      <th>Env</th>\n",
       "      <th>Hybrid</th>\n",
       "      <th></th>\n",
       "      <th></th>\n",
       "      <th></th>\n",
       "      <th></th>\n",
       "      <th></th>\n",
       "      <th></th>\n",
       "      <th></th>\n",
       "      <th></th>\n",
       "      <th></th>\n",
       "      <th></th>\n",
       "      <th></th>\n",
       "      <th></th>\n",
       "      <th></th>\n",
       "      <th></th>\n",
       "      <th></th>\n",
       "      <th></th>\n",
       "      <th></th>\n",
       "      <th></th>\n",
       "      <th></th>\n",
       "      <th></th>\n",
       "      <th></th>\n",
       "    </tr>\n",
       "  </thead>\n",
       "  <tbody>\n",
       "    <tr>\n",
       "      <th rowspan=\"5\" valign=\"top\">DEH1_2020</th>\n",
       "      <th>B14A/H95</th>\n",
       "      <td>709.053009</td>\n",
       "      <td>-3345.149715</td>\n",
       "      <td>2005.585009</td>\n",
       "      <td>308.199408</td>\n",
       "      <td>1166.379681</td>\n",
       "      <td>-15.876066</td>\n",
       "      <td>54.457018</td>\n",
       "      <td>-2039.714959</td>\n",
       "      <td>7166.727516</td>\n",
       "      <td>92.873134</td>\n",
       "      <td>...</td>\n",
       "      <td>-229.970611</td>\n",
       "      <td>602.120149</td>\n",
       "      <td>22.897197</td>\n",
       "      <td>-1059.957935</td>\n",
       "      <td>10.056423</td>\n",
       "      <td>0.725594</td>\n",
       "      <td>2.516387</td>\n",
       "      <td>8.232294</td>\n",
       "      <td>11.94657</td>\n",
       "      <td>13.500556</td>\n",
       "    </tr>\n",
       "    <tr>\n",
       "      <th>B14A/MO17</th>\n",
       "      <td>5880.056458</td>\n",
       "      <td>-5823.276578</td>\n",
       "      <td>5595.856179</td>\n",
       "      <td>-608.270282</td>\n",
       "      <td>2506.520689</td>\n",
       "      <td>37.596511</td>\n",
       "      <td>44.557171</td>\n",
       "      <td>-8577.970418</td>\n",
       "      <td>18284.478370</td>\n",
       "      <td>1141.251448</td>\n",
       "      <td>...</td>\n",
       "      <td>-273.329000</td>\n",
       "      <td>84.121809</td>\n",
       "      <td>-49.118897</td>\n",
       "      <td>-406.422263</td>\n",
       "      <td>10.056423</td>\n",
       "      <td>0.725594</td>\n",
       "      <td>2.516387</td>\n",
       "      <td>8.232294</td>\n",
       "      <td>11.94657</td>\n",
       "      <td>13.500556</td>\n",
       "    </tr>\n",
       "    <tr>\n",
       "      <th>B14A/OH43</th>\n",
       "      <td>340.571897</td>\n",
       "      <td>-6599.946344</td>\n",
       "      <td>3759.077266</td>\n",
       "      <td>866.011085</td>\n",
       "      <td>1905.456239</td>\n",
       "      <td>-48.490717</td>\n",
       "      <td>121.162037</td>\n",
       "      <td>-2126.175538</td>\n",
       "      <td>8282.797514</td>\n",
       "      <td>227.177410</td>\n",
       "      <td>...</td>\n",
       "      <td>-302.033371</td>\n",
       "      <td>-335.471062</td>\n",
       "      <td>-239.637131</td>\n",
       "      <td>362.520382</td>\n",
       "      <td>10.056423</td>\n",
       "      <td>0.725594</td>\n",
       "      <td>2.516387</td>\n",
       "      <td>8.232294</td>\n",
       "      <td>11.94657</td>\n",
       "      <td>13.500556</td>\n",
       "    </tr>\n",
       "    <tr>\n",
       "      <th>B37/H95</th>\n",
       "      <td>-1457.096478</td>\n",
       "      <td>-4011.181244</td>\n",
       "      <td>3688.293012</td>\n",
       "      <td>884.307320</td>\n",
       "      <td>-18936.667615</td>\n",
       "      <td>81.912352</td>\n",
       "      <td>-850.708874</td>\n",
       "      <td>10032.644936</td>\n",
       "      <td>6159.191220</td>\n",
       "      <td>-336.867730</td>\n",
       "      <td>...</td>\n",
       "      <td>394.342672</td>\n",
       "      <td>309.671249</td>\n",
       "      <td>331.665141</td>\n",
       "      <td>-962.515925</td>\n",
       "      <td>10.056423</td>\n",
       "      <td>0.725594</td>\n",
       "      <td>2.516387</td>\n",
       "      <td>8.232294</td>\n",
       "      <td>11.94657</td>\n",
       "      <td>13.500556</td>\n",
       "    </tr>\n",
       "    <tr>\n",
       "      <th>B37/MO17</th>\n",
       "      <td>3694.017087</td>\n",
       "      <td>-6486.706019</td>\n",
       "      <td>7260.578456</td>\n",
       "      <td>-27.190738</td>\n",
       "      <td>-17437.783007</td>\n",
       "      <td>134.085650</td>\n",
       "      <td>-852.634927</td>\n",
       "      <td>3344.337603</td>\n",
       "      <td>17221.375686</td>\n",
       "      <td>708.265933</td>\n",
       "      <td>...</td>\n",
       "      <td>347.287627</td>\n",
       "      <td>-205.154835</td>\n",
       "      <td>250.278626</td>\n",
       "      <td>-324.220118</td>\n",
       "      <td>10.056423</td>\n",
       "      <td>0.725594</td>\n",
       "      <td>2.516387</td>\n",
       "      <td>8.232294</td>\n",
       "      <td>11.94657</td>\n",
       "      <td>13.500556</td>\n",
       "    </tr>\n",
       "    <tr>\n",
       "      <th>...</th>\n",
       "      <th>...</th>\n",
       "      <td>...</td>\n",
       "      <td>...</td>\n",
       "      <td>...</td>\n",
       "      <td>...</td>\n",
       "      <td>...</td>\n",
       "      <td>...</td>\n",
       "      <td>...</td>\n",
       "      <td>...</td>\n",
       "      <td>...</td>\n",
       "      <td>...</td>\n",
       "      <td>...</td>\n",
       "      <td>...</td>\n",
       "      <td>...</td>\n",
       "      <td>...</td>\n",
       "      <td>...</td>\n",
       "      <td>...</td>\n",
       "      <td>...</td>\n",
       "      <td>...</td>\n",
       "      <td>...</td>\n",
       "      <td>...</td>\n",
       "      <td>...</td>\n",
       "    </tr>\n",
       "    <tr>\n",
       "      <th rowspan=\"5\" valign=\"top\">WIH3_2020</th>\n",
       "      <th>W10004_1123/PHP02</th>\n",
       "      <td>-20300.209466</td>\n",
       "      <td>40164.583711</td>\n",
       "      <td>10592.273859</td>\n",
       "      <td>-7000.991428</td>\n",
       "      <td>-708.106554</td>\n",
       "      <td>-9027.661259</td>\n",
       "      <td>35496.368768</td>\n",
       "      <td>-1147.134094</td>\n",
       "      <td>-606.998851</td>\n",
       "      <td>735.251171</td>\n",
       "      <td>...</td>\n",
       "      <td>-573.616181</td>\n",
       "      <td>-80.490390</td>\n",
       "      <td>-583.050219</td>\n",
       "      <td>142.306806</td>\n",
       "      <td>9.010208</td>\n",
       "      <td>1.129919</td>\n",
       "      <td>2.885705</td>\n",
       "      <td>7.453720</td>\n",
       "      <td>10.67770</td>\n",
       "      <td>12.001967</td>\n",
       "    </tr>\n",
       "    <tr>\n",
       "      <th>W10004_1140/PHP02</th>\n",
       "      <td>-18429.430028</td>\n",
       "      <td>33978.459661</td>\n",
       "      <td>8692.844851</td>\n",
       "      <td>-6318.937809</td>\n",
       "      <td>1760.533905</td>\n",
       "      <td>-7829.699286</td>\n",
       "      <td>30349.789898</td>\n",
       "      <td>1581.032386</td>\n",
       "      <td>2269.677465</td>\n",
       "      <td>266.250041</td>\n",
       "      <td>...</td>\n",
       "      <td>444.870235</td>\n",
       "      <td>-17.443303</td>\n",
       "      <td>-609.464869</td>\n",
       "      <td>-113.518067</td>\n",
       "      <td>9.010208</td>\n",
       "      <td>1.129919</td>\n",
       "      <td>2.885705</td>\n",
       "      <td>7.453720</td>\n",
       "      <td>10.67770</td>\n",
       "      <td>12.001967</td>\n",
       "    </tr>\n",
       "    <tr>\n",
       "      <th>W10004_1143/PHP02</th>\n",
       "      <td>-18925.493349</td>\n",
       "      <td>34037.374161</td>\n",
       "      <td>10821.036005</td>\n",
       "      <td>-6505.100710</td>\n",
       "      <td>-6300.291993</td>\n",
       "      <td>-7951.329510</td>\n",
       "      <td>30595.056717</td>\n",
       "      <td>1362.607082</td>\n",
       "      <td>2298.776698</td>\n",
       "      <td>1291.608054</td>\n",
       "      <td>...</td>\n",
       "      <td>300.925015</td>\n",
       "      <td>-215.954379</td>\n",
       "      <td>-184.390384</td>\n",
       "      <td>514.040491</td>\n",
       "      <td>9.010208</td>\n",
       "      <td>1.129919</td>\n",
       "      <td>2.885705</td>\n",
       "      <td>7.453720</td>\n",
       "      <td>10.67770</td>\n",
       "      <td>12.001967</td>\n",
       "    </tr>\n",
       "    <tr>\n",
       "      <th>W10004_1146/PHP02</th>\n",
       "      <td>-18073.106753</td>\n",
       "      <td>34738.854272</td>\n",
       "      <td>10116.546210</td>\n",
       "      <td>-6218.710303</td>\n",
       "      <td>1072.092603</td>\n",
       "      <td>-7934.251671</td>\n",
       "      <td>31059.512431</td>\n",
       "      <td>-1331.708873</td>\n",
       "      <td>333.684801</td>\n",
       "      <td>569.090921</td>\n",
       "      <td>...</td>\n",
       "      <td>198.941710</td>\n",
       "      <td>-130.794861</td>\n",
       "      <td>-302.677391</td>\n",
       "      <td>246.063511</td>\n",
       "      <td>9.010208</td>\n",
       "      <td>1.129919</td>\n",
       "      <td>2.885705</td>\n",
       "      <td>7.453720</td>\n",
       "      <td>10.67770</td>\n",
       "      <td>12.001967</td>\n",
       "    </tr>\n",
       "    <tr>\n",
       "      <th>W10004_1156/PHP02</th>\n",
       "      <td>-19810.305465</td>\n",
       "      <td>34267.716562</td>\n",
       "      <td>8581.293496</td>\n",
       "      <td>-6750.300988</td>\n",
       "      <td>1643.747388</td>\n",
       "      <td>-8079.339332</td>\n",
       "      <td>30908.638212</td>\n",
       "      <td>-1354.700042</td>\n",
       "      <td>525.468135</td>\n",
       "      <td>169.747100</td>\n",
       "      <td>...</td>\n",
       "      <td>81.125904</td>\n",
       "      <td>-380.517029</td>\n",
       "      <td>-234.812505</td>\n",
       "      <td>-218.412593</td>\n",
       "      <td>9.010208</td>\n",
       "      <td>1.129919</td>\n",
       "      <td>2.885705</td>\n",
       "      <td>7.453720</td>\n",
       "      <td>10.67770</td>\n",
       "      <td>12.001967</td>\n",
       "    </tr>\n",
       "  </tbody>\n",
       "</table>\n",
       "<p>11277 rows × 106 columns</p>\n",
       "</div>"
      ],
      "text/plain": [
       "                                kron_svd0     kron_svd1     kron_svd2  \\\n",
       "Env       Hybrid                                                        \n",
       "DEH1_2020 B14A/H95             709.053009  -3345.149715   2005.585009   \n",
       "          B14A/MO17           5880.056458  -5823.276578   5595.856179   \n",
       "          B14A/OH43            340.571897  -6599.946344   3759.077266   \n",
       "          B37/H95            -1457.096478  -4011.181244   3688.293012   \n",
       "          B37/MO17            3694.017087  -6486.706019   7260.578456   \n",
       "...                                   ...           ...           ...   \n",
       "WIH3_2020 W10004_1123/PHP02 -20300.209466  40164.583711  10592.273859   \n",
       "          W10004_1140/PHP02 -18429.430028  33978.459661   8692.844851   \n",
       "          W10004_1143/PHP02 -18925.493349  34037.374161  10821.036005   \n",
       "          W10004_1146/PHP02 -18073.106753  34738.854272  10116.546210   \n",
       "          W10004_1156/PHP02 -19810.305465  34267.716562   8581.293496   \n",
       "\n",
       "                               kron_svd3     kron_svd4    kron_svd5  \\\n",
       "Env       Hybrid                                                      \n",
       "DEH1_2020 B14A/H95            308.199408   1166.379681   -15.876066   \n",
       "          B14A/MO17          -608.270282   2506.520689    37.596511   \n",
       "          B14A/OH43           866.011085   1905.456239   -48.490717   \n",
       "          B37/H95             884.307320 -18936.667615    81.912352   \n",
       "          B37/MO17            -27.190738 -17437.783007   134.085650   \n",
       "...                                  ...           ...          ...   \n",
       "WIH3_2020 W10004_1123/PHP02 -7000.991428   -708.106554 -9027.661259   \n",
       "          W10004_1140/PHP02 -6318.937809   1760.533905 -7829.699286   \n",
       "          W10004_1143/PHP02 -6505.100710  -6300.291993 -7951.329510   \n",
       "          W10004_1146/PHP02 -6218.710303   1072.092603 -7934.251671   \n",
       "          W10004_1156/PHP02 -6750.300988   1643.747388 -8079.339332   \n",
       "\n",
       "                                kron_svd6     kron_svd7     kron_svd8  \\\n",
       "Env       Hybrid                                                        \n",
       "DEH1_2020 B14A/H95              54.457018  -2039.714959   7166.727516   \n",
       "          B14A/MO17             44.557171  -8577.970418  18284.478370   \n",
       "          B14A/OH43            121.162037  -2126.175538   8282.797514   \n",
       "          B37/H95             -850.708874  10032.644936   6159.191220   \n",
       "          B37/MO17            -852.634927   3344.337603  17221.375686   \n",
       "...                                   ...           ...           ...   \n",
       "WIH3_2020 W10004_1123/PHP02  35496.368768  -1147.134094   -606.998851   \n",
       "          W10004_1140/PHP02  30349.789898   1581.032386   2269.677465   \n",
       "          W10004_1143/PHP02  30595.056717   1362.607082   2298.776698   \n",
       "          W10004_1146/PHP02  31059.512431  -1331.708873    333.684801   \n",
       "          W10004_1156/PHP02  30908.638212  -1354.700042    525.468135   \n",
       "\n",
       "                               kron_svd9  ...  kron_svd96  kron_svd97  \\\n",
       "Env       Hybrid                          ...                           \n",
       "DEH1_2020 B14A/H95             92.873134  ... -229.970611  602.120149   \n",
       "          B14A/MO17          1141.251448  ... -273.329000   84.121809   \n",
       "          B14A/OH43           227.177410  ... -302.033371 -335.471062   \n",
       "          B37/H95            -336.867730  ...  394.342672  309.671249   \n",
       "          B37/MO17            708.265933  ...  347.287627 -205.154835   \n",
       "...                                  ...  ...         ...         ...   \n",
       "WIH3_2020 W10004_1123/PHP02   735.251171  ... -573.616181  -80.490390   \n",
       "          W10004_1140/PHP02   266.250041  ...  444.870235  -17.443303   \n",
       "          W10004_1143/PHP02  1291.608054  ...  300.925015 -215.954379   \n",
       "          W10004_1146/PHP02   569.090921  ...  198.941710 -130.794861   \n",
       "          W10004_1156/PHP02   169.747100  ...   81.125904 -380.517029   \n",
       "\n",
       "                             kron_svd98   kron_svd99  mean_yield_lag_2  \\\n",
       "Env       Hybrid                                                         \n",
       "DEH1_2020 B14A/H95            22.897197 -1059.957935         10.056423   \n",
       "          B14A/MO17          -49.118897  -406.422263         10.056423   \n",
       "          B14A/OH43         -239.637131   362.520382         10.056423   \n",
       "          B37/H95            331.665141  -962.515925         10.056423   \n",
       "          B37/MO17           250.278626  -324.220118         10.056423   \n",
       "...                                 ...          ...               ...   \n",
       "WIH3_2020 W10004_1123/PHP02 -583.050219   142.306806          9.010208   \n",
       "          W10004_1140/PHP02 -609.464869  -113.518067          9.010208   \n",
       "          W10004_1143/PHP02 -184.390384   514.040491          9.010208   \n",
       "          W10004_1146/PHP02 -302.677391   246.063511          9.010208   \n",
       "          W10004_1156/PHP02 -234.812505  -218.412593          9.010208   \n",
       "\n",
       "                             min_yield_lag_2  p1_yield_lag_2  q1_yield_lag_2  \\\n",
       "Env       Hybrid                                                               \n",
       "DEH1_2020 B14A/H95                  0.725594        2.516387        8.232294   \n",
       "          B14A/MO17                 0.725594        2.516387        8.232294   \n",
       "          B14A/OH43                 0.725594        2.516387        8.232294   \n",
       "          B37/H95                   0.725594        2.516387        8.232294   \n",
       "          B37/MO17                  0.725594        2.516387        8.232294   \n",
       "...                                      ...             ...             ...   \n",
       "WIH3_2020 W10004_1123/PHP02         1.129919        2.885705        7.453720   \n",
       "          W10004_1140/PHP02         1.129919        2.885705        7.453720   \n",
       "          W10004_1143/PHP02         1.129919        2.885705        7.453720   \n",
       "          W10004_1146/PHP02         1.129919        2.885705        7.453720   \n",
       "          W10004_1156/PHP02         1.129919        2.885705        7.453720   \n",
       "\n",
       "                             q3_yield_lag_2  p90_yield_lag_2  \n",
       "Env       Hybrid                                              \n",
       "DEH1_2020 B14A/H95                 11.94657        13.500556  \n",
       "          B14A/MO17                11.94657        13.500556  \n",
       "          B14A/OH43                11.94657        13.500556  \n",
       "          B37/H95                  11.94657        13.500556  \n",
       "          B37/MO17                 11.94657        13.500556  \n",
       "...                                     ...              ...  \n",
       "WIH3_2020 W10004_1123/PHP02        10.67770        12.001967  \n",
       "          W10004_1140/PHP02        10.67770        12.001967  \n",
       "          W10004_1143/PHP02        10.67770        12.001967  \n",
       "          W10004_1146/PHP02        10.67770        12.001967  \n",
       "          W10004_1156/PHP02        10.67770        12.001967  \n",
       "\n",
       "[11277 rows x 106 columns]"
      ]
     },
     "execution_count": 188,
     "metadata": {},
     "output_type": "execute_result"
    }
   ],
   "source": [
    "xtrain_svd"
   ]
  },
  {
   "cell_type": "code",
   "execution_count": 189,
   "id": "21d5822b",
   "metadata": {},
   "outputs": [],
   "source": [
    "import optuna"
   ]
  },
  {
   "cell_type": "code",
   "execution_count": 215,
   "id": "d42ce010",
   "metadata": {},
   "outputs": [
    {
     "name": "stderr",
     "output_type": "stream",
     "text": [
      "\u001b[32m[I 2023-01-31 15:07:31,632]\u001b[0m A new study created in memory with name: no-name-31552917-ed18-4fb2-afd8-97552bc34d73\u001b[0m\n"
     ]
    },
    {
     "name": "stdout",
     "output_type": "stream",
     "text": [
      "[LightGBM] [Warning] lambda_l1 is set=0.0024430162614261413, reg_alpha=0.0 will be ignored. Current value: lambda_l1=0.0024430162614261413\n",
      "[LightGBM] [Warning] bagging_fraction is set=0.7855951534491241, subsample=1.0 will be ignored. Current value: bagging_fraction=0.7855951534491241\n",
      "[LightGBM] [Warning] feature_fraction is set=0.49963209507789, colsample_bytree=1.0 will be ignored. Current value: feature_fraction=0.49963209507789\n",
      "[LightGBM] [Warning] lambda_l2 is set=2.5361081166471375e-07, reg_lambda=0.0 will be ignored. Current value: lambda_l2=2.5361081166471375e-07\n"
     ]
    },
    {
     "name": "stderr",
     "output_type": "stream",
     "text": [
      "\u001b[32m[I 2023-01-31 15:07:32,011]\u001b[0m Trial 0 finished with value: 2.3516689231623427 and parameters: {'feature_fraction': 0.49963209507789, 'num_leaves': 244, 'bagging_fraction': 0.7855951534491241, 'lambda_l1': 0.0024430162614261413, 'lambda_l2': 2.5361081166471375e-07, 'n_estimators': 55, 'max_depth': 2}. Best is trial 0 with value: 2.3516689231623427.\u001b[0m\n"
     ]
    },
    {
     "name": "stdout",
     "output_type": "stream",
     "text": [
      "[LightGBM] [Warning] lambda_l1 is set=1.5320059381854043e-08, reg_alpha=0.0 will be ignored. Current value: lambda_l1=1.5320059381854043e-08\n",
      "[LightGBM] [Warning] bagging_fraction is set=0.7664580622368364, subsample=1.0 will be ignored. Current value: bagging_fraction=0.7664580622368364\n",
      "[LightGBM] [Warning] feature_fraction is set=0.8929409166199482, colsample_bytree=1.0 will be ignored. Current value: feature_fraction=0.8929409166199482\n",
      "[LightGBM] [Warning] lambda_l2 is set=5.360294728728285, reg_lambda=0.0 will be ignored. Current value: lambda_l2=5.360294728728285\n"
     ]
    },
    {
     "name": "stderr",
     "output_type": "stream",
     "text": [
      "\u001b[32m[I 2023-01-31 15:07:33,408]\u001b[0m Trial 1 finished with value: 2.303270291472141 and parameters: {'feature_fraction': 0.8929409166199482, 'num_leaves': 155, 'bagging_fraction': 0.7664580622368364, 'lambda_l1': 1.5320059381854043e-08, 'lambda_l2': 5.360294728728285, 'n_estimators': 252, 'max_depth': 3}. Best is trial 1 with value: 2.303270291472141.\u001b[0m\n"
     ]
    },
    {
     "name": "stdout",
     "output_type": "stream",
     "text": [
      "[LightGBM] [Warning] lambda_l1 is set=0.00052821153945323, reg_alpha=0.0 will be ignored. Current value: lambda_l1=0.00052821153945323\n",
      "[LightGBM] [Warning] bagging_fraction is set=0.4433937943676302, subsample=1.0 will be ignored. Current value: bagging_fraction=0.4433937943676302\n",
      "[LightGBM] [Warning] feature_fraction is set=0.3454599737656805, colsample_bytree=1.0 will be ignored. Current value: feature_fraction=0.3454599737656805\n",
      "[LightGBM] [Warning] lambda_l2 is set=7.71800699380605e-05, reg_lambda=0.0 will be ignored. Current value: lambda_l2=7.71800699380605e-05\n"
     ]
    },
    {
     "name": "stderr",
     "output_type": "stream",
     "text": [
      "\u001b[32m[I 2023-01-31 15:07:34,125]\u001b[0m Trial 2 finished with value: 2.2854076933348315 and parameters: {'feature_fraction': 0.3454599737656805, 'num_leaves': 48, 'bagging_fraction': 0.4433937943676302, 'lambda_l1': 0.00052821153945323, 'lambda_l2': 7.71800699380605e-05, 'n_estimators': 94, 'max_depth': 5}. Best is trial 2 with value: 2.2854076933348315.\u001b[0m\n"
     ]
    },
    {
     "name": "stdout",
     "output_type": "stream",
     "text": [
      "[LightGBM] [Warning] lambda_l1 is set=0.00012724181576752517, reg_alpha=0.0 will be ignored. Current value: lambda_l1=0.00012724181576752517\n",
      "[LightGBM] [Warning] bagging_fraction is set=0.4930894746349534, subsample=1.0 will be ignored. Current value: bagging_fraction=0.4930894746349534\n",
      "[LightGBM] [Warning] feature_fraction is set=0.3115950885216335, colsample_bytree=1.0 will be ignored. Current value: feature_fraction=0.3115950885216335\n",
      "[LightGBM] [Warning] lambda_l2 is set=0.1165691561324743, reg_lambda=0.0 will be ignored. Current value: lambda_l2=0.1165691561324743\n"
     ]
    },
    {
     "name": "stderr",
     "output_type": "stream",
     "text": [
      "\u001b[32m[I 2023-01-31 15:07:34,609]\u001b[0m Trial 3 finished with value: 2.2950563493423144 and parameters: {'feature_fraction': 0.3115950885216335, 'num_leaves': 76, 'bagging_fraction': 0.4930894746349534, 'lambda_l1': 0.00012724181576752517, 'lambda_l2': 0.1165691561324743, 'n_estimators': 68, 'max_depth': 4}. Best is trial 2 with value: 2.2854076933348315.\u001b[0m\n"
     ]
    },
    {
     "name": "stdout",
     "output_type": "stream",
     "text": [
      "[LightGBM] [Warning] lambda_l1 is set=3.425445902633376e-07, reg_alpha=0.0 will be ignored. Current value: lambda_l1=3.425445902633376e-07\n",
      "[LightGBM] [Warning] bagging_fraction is set=0.6860358815211507, subsample=1.0 will be ignored. Current value: bagging_fraction=0.6860358815211507\n",
      "[LightGBM] [Warning] feature_fraction is set=0.6739316550896339, colsample_bytree=1.0 will be ignored. Current value: feature_fraction=0.6739316550896339\n",
      "[LightGBM] [Warning] lambda_l2 is set=3.850031979199519e-08, reg_lambda=0.0 will be ignored. Current value: lambda_l2=3.850031979199519e-08\n"
     ]
    },
    {
     "name": "stderr",
     "output_type": "stream",
     "text": [
      "\u001b[32m[I 2023-01-31 15:07:36,478]\u001b[0m Trial 4 finished with value: 2.3015410563171277 and parameters: {'feature_fraction': 0.6739316550896339, 'num_leaves': 13, 'bagging_fraction': 0.6860358815211507, 'lambda_l1': 3.425445902633376e-07, 'lambda_l2': 3.850031979199519e-08, 'n_estimators': 286, 'max_depth': 6}. Best is trial 2 with value: 2.2854076933348315.\u001b[0m\n"
     ]
    },
    {
     "name": "stdout",
     "output_type": "stream",
     "text": [
      "[LightGBM] [Warning] lambda_l1 is set=0.014391207615728067, reg_alpha=0.0 will be ignored. Current value: lambda_l1=0.014391207615728067\n",
      "[LightGBM] [Warning] bagging_fraction is set=0.2781376912051071, subsample=1.0 will be ignored. Current value: bagging_fraction=0.2781376912051071\n",
      "[LightGBM] [Warning] feature_fraction is set=0.846717878493169, colsample_bytree=1.0 will be ignored. Current value: feature_fraction=0.846717878493169\n",
      "[LightGBM] [Warning] lambda_l2 is set=9.148975058772307e-05, reg_lambda=0.0 will be ignored. Current value: lambda_l2=9.148975058772307e-05\n"
     ]
    },
    {
     "name": "stderr",
     "output_type": "stream",
     "text": [
      "\u001b[32m[I 2023-01-31 15:07:37,053]\u001b[0m Trial 5 finished with value: 2.3272118565623994 and parameters: {'feature_fraction': 0.846717878493169, 'num_leaves': 79, 'bagging_fraction': 0.2781376912051071, 'lambda_l1': 0.014391207615728067, 'lambda_l2': 9.148975058772307e-05, 'n_estimators': 45, 'max_depth': 4}. Best is trial 2 with value: 2.2854076933348315.\u001b[0m\n"
     ]
    },
    {
     "name": "stdout",
     "output_type": "stream",
     "text": [
      "[LightGBM] [Warning] lambda_l1 is set=0.009176996354542699, reg_alpha=0.0 will be ignored. Current value: lambda_l1=0.009176996354542699\n",
      "[LightGBM] [Warning] bagging_fraction is set=0.40702398528001354, subsample=1.0 will be ignored. Current value: bagging_fraction=0.40702398528001354\n",
      "[LightGBM] [Warning] feature_fraction is set=0.22751081689217473, colsample_bytree=1.0 will be ignored. Current value: feature_fraction=0.22751081689217473\n",
      "[LightGBM] [Warning] lambda_l2 is set=6.388511557344611e-06, reg_lambda=0.0 will be ignored. Current value: lambda_l2=6.388511557344611e-06\n"
     ]
    },
    {
     "name": "stderr",
     "output_type": "stream",
     "text": [
      "\u001b[32m[I 2023-01-31 15:07:37,714]\u001b[0m Trial 6 finished with value: 2.2648671272314203 and parameters: {'feature_fraction': 0.22751081689217473, 'num_leaves': 233, 'bagging_fraction': 0.40702398528001354, 'lambda_l1': 0.009176996354542699, 'lambda_l2': 6.388511557344611e-06, 'n_estimators': 161, 'max_depth': 4}. Best is trial 6 with value: 2.2648671272314203.\u001b[0m\n"
     ]
    },
    {
     "name": "stdout",
     "output_type": "stream",
     "text": [
      "[LightGBM] [Warning] lambda_l1 is set=2.854239907497756, reg_alpha=0.0 will be ignored. Current value: lambda_l1=2.854239907497756\n",
      "[LightGBM] [Warning] bagging_fraction is set=0.8201062586888916, subsample=1.0 will be ignored. Current value: bagging_fraction=0.8201062586888916\n",
      "[LightGBM] [Warning] feature_fraction is set=0.3478835644204217, colsample_bytree=1.0 will be ignored. Current value: feature_fraction=0.3478835644204217\n",
      "[LightGBM] [Warning] lambda_l2 is set=1.1309571585271483, reg_lambda=0.0 will be ignored. Current value: lambda_l2=1.1309571585271483\n"
     ]
    },
    {
     "name": "stderr",
     "output_type": "stream",
     "text": [
      "\u001b[32m[I 2023-01-31 15:07:39,214]\u001b[0m Trial 7 finished with value: 2.3754119946715995 and parameters: {'feature_fraction': 0.3478835644204217, 'num_leaves': 249, 'bagging_fraction': 0.8201062586888916, 'lambda_l1': 2.854239907497756, 'lambda_l2': 1.1309571585271483, 'n_estimators': 183, 'max_depth': 6}. Best is trial 6 with value: 2.2648671272314203.\u001b[0m\n"
     ]
    },
    {
     "name": "stdout",
     "output_type": "stream",
     "text": [
      "[LightGBM] [Warning] lambda_l1 is set=8.471746987003668e-06, reg_alpha=0.0 will be ignored. Current value: lambda_l1=8.471746987003668e-06\n",
      "[LightGBM] [Warning] bagging_fraction is set=0.23618183112843047, subsample=1.0 will be ignored. Current value: bagging_fraction=0.23618183112843047\n",
      "[LightGBM] [Warning] feature_fraction is set=0.2707940016415356, colsample_bytree=1.0 will be ignored. Current value: feature_fraction=0.2707940016415356\n",
      "[LightGBM] [Warning] lambda_l2 is set=3.148441347423712e-05, reg_lambda=0.0 will be ignored. Current value: lambda_l2=3.148441347423712e-05\n"
     ]
    },
    {
     "name": "stderr",
     "output_type": "stream",
     "text": [
      "\u001b[32m[I 2023-01-31 15:07:39,982]\u001b[0m Trial 8 finished with value: 2.323168563524801 and parameters: {'feature_fraction': 0.2707940016415356, 'num_leaves': 51, 'bagging_fraction': 0.23618183112843047, 'lambda_l1': 8.471746987003668e-06, 'lambda_l2': 3.148441347423712e-05, 'n_estimators': 88, 'max_depth': 6}. Best is trial 6 with value: 2.2648671272314203.\u001b[0m\n"
     ]
    },
    {
     "name": "stdout",
     "output_type": "stream",
     "text": [
      "[LightGBM] [Warning] lambda_l1 is set=1.8548894229694903e-07, reg_alpha=0.0 will be ignored. Current value: lambda_l1=1.8548894229694903e-07\n",
      "[LightGBM] [Warning] bagging_fraction is set=0.6341568665265989, subsample=1.0 will be ignored. Current value: bagging_fraction=0.6341568665265989\n",
      "[LightGBM] [Warning] feature_fraction is set=0.4854026613548714, colsample_bytree=1.0 will be ignored. Current value: feature_fraction=0.4854026613548714\n",
      "[LightGBM] [Warning] lambda_l2 is set=0.16587190283399655, reg_lambda=0.0 will be ignored. Current value: lambda_l2=0.16587190283399655\n"
     ]
    },
    {
     "name": "stderr",
     "output_type": "stream",
     "text": [
      "\u001b[32m[I 2023-01-31 15:07:40,569]\u001b[0m Trial 9 finished with value: 2.351799610938574 and parameters: {'feature_fraction': 0.4854026613548714, 'num_leaves': 73, 'bagging_fraction': 0.6341568665265989, 'lambda_l1': 1.8548894229694903e-07, 'lambda_l2': 0.16587190283399655, 'n_estimators': 31, 'max_depth': 6}. Best is trial 6 with value: 2.2648671272314203.\u001b[0m\n"
     ]
    },
    {
     "name": "stdout",
     "output_type": "stream",
     "text": [
      "[LightGBM] [Warning] lambda_l1 is set=0.19237494135966834, reg_alpha=0.0 will be ignored. Current value: lambda_l1=0.19237494135966834\n",
      "[LightGBM] [Warning] bagging_fraction is set=0.9756296886302929, subsample=1.0 will be ignored. Current value: bagging_fraction=0.9756296886302929\n",
      "[LightGBM] [Warning] feature_fraction is set=0.21641114280259444, colsample_bytree=1.0 will be ignored. Current value: feature_fraction=0.21641114280259444\n",
      "[LightGBM] [Warning] lambda_l2 is set=6.739006603244534e-07, reg_lambda=0.0 will be ignored. Current value: lambda_l2=6.739006603244534e-07\n"
     ]
    },
    {
     "name": "stderr",
     "output_type": "stream",
     "text": [
      "\u001b[32m[I 2023-01-31 15:07:41,148]\u001b[0m Trial 10 finished with value: 2.2266286743467165 and parameters: {'feature_fraction': 0.21641114280259444, 'num_leaves': 182, 'bagging_fraction': 0.9756296886302929, 'lambda_l1': 0.19237494135966834, 'lambda_l2': 6.739006603244534e-07, 'n_estimators': 167, 'max_depth': 3}. Best is trial 10 with value: 2.2266286743467165.\u001b[0m\n"
     ]
    },
    {
     "name": "stdout",
     "output_type": "stream",
     "text": [
      "[LightGBM] [Warning] lambda_l1 is set=0.11731504557993938, reg_alpha=0.0 will be ignored. Current value: lambda_l1=0.11731504557993938\n",
      "[LightGBM] [Warning] bagging_fraction is set=0.9966394390611305, subsample=1.0 will be ignored. Current value: bagging_fraction=0.9966394390611305\n",
      "[LightGBM] [Warning] feature_fraction is set=0.20870058074871745, colsample_bytree=1.0 will be ignored. Current value: feature_fraction=0.20870058074871745\n",
      "[LightGBM] [Warning] lambda_l2 is set=8.956408095934925e-07, reg_lambda=0.0 will be ignored. Current value: lambda_l2=8.956408095934925e-07\n"
     ]
    },
    {
     "name": "stderr",
     "output_type": "stream",
     "text": [
      "\u001b[32m[I 2023-01-31 15:07:41,719]\u001b[0m Trial 11 finished with value: 2.257916384046502 and parameters: {'feature_fraction': 0.20870058074871745, 'num_leaves': 185, 'bagging_fraction': 0.9966394390611305, 'lambda_l1': 0.11731504557993938, 'lambda_l2': 8.956408095934925e-07, 'n_estimators': 166, 'max_depth': 3}. Best is trial 10 with value: 2.2266286743467165.\u001b[0m\n"
     ]
    },
    {
     "name": "stdout",
     "output_type": "stream",
     "text": [
      "[LightGBM] [Warning] lambda_l1 is set=0.39360189438657295, reg_alpha=0.0 will be ignored. Current value: lambda_l1=0.39360189438657295\n",
      "[LightGBM] [Warning] bagging_fraction is set=0.9961494121373188, subsample=1.0 will be ignored. Current value: bagging_fraction=0.9961494121373188\n",
      "[LightGBM] [Warning] feature_fraction is set=0.21344318692353204, colsample_bytree=1.0 will be ignored. Current value: feature_fraction=0.21344318692353204\n",
      "[LightGBM] [Warning] lambda_l2 is set=7.531727823788722e-07, reg_lambda=0.0 will be ignored. Current value: lambda_l2=7.531727823788722e-07\n"
     ]
    },
    {
     "name": "stderr",
     "output_type": "stream",
     "text": [
      "\u001b[32m[I 2023-01-31 15:07:42,259]\u001b[0m Trial 12 finished with value: 2.3378130119349425 and parameters: {'feature_fraction': 0.21344318692353204, 'num_leaves': 179, 'bagging_fraction': 0.9961494121373188, 'lambda_l1': 0.39360189438657295, 'lambda_l2': 7.531727823788722e-07, 'n_estimators': 209, 'max_depth': 2}. Best is trial 10 with value: 2.2266286743467165.\u001b[0m\n"
     ]
    },
    {
     "name": "stdout",
     "output_type": "stream",
     "text": [
      "[LightGBM] [Warning] lambda_l1 is set=0.19208412244124926, reg_alpha=0.0 will be ignored. Current value: lambda_l1=0.19208412244124926\n",
      "[LightGBM] [Warning] bagging_fraction is set=0.9661743429626015, subsample=1.0 will be ignored. Current value: bagging_fraction=0.9661743429626015\n",
      "[LightGBM] [Warning] feature_fraction is set=0.2055186523473571, colsample_bytree=1.0 will be ignored. Current value: feature_fraction=0.2055186523473571\n",
      "[LightGBM] [Warning] lambda_l2 is set=2.005732281713045e-08, reg_lambda=0.0 will be ignored. Current value: lambda_l2=2.005732281713045e-08\n"
     ]
    },
    {
     "name": "stderr",
     "output_type": "stream",
     "text": [
      "\u001b[32m[I 2023-01-31 15:07:42,779]\u001b[0m Trial 13 finished with value: 2.265692721655805 and parameters: {'feature_fraction': 0.2055186523473571, 'num_leaves': 194, 'bagging_fraction': 0.9661743429626015, 'lambda_l1': 0.19208412244124926, 'lambda_l2': 2.005732281713045e-08, 'n_estimators': 134, 'max_depth': 3}. Best is trial 10 with value: 2.2266286743467165.\u001b[0m\n"
     ]
    },
    {
     "name": "stdout",
     "output_type": "stream",
     "text": [
      "[LightGBM] [Warning] lambda_l1 is set=5.229858459779272, reg_alpha=0.0 will be ignored. Current value: lambda_l1=5.229858459779272\n",
      "[LightGBM] [Warning] bagging_fraction is set=0.903131743368793, subsample=1.0 will be ignored. Current value: bagging_fraction=0.903131743368793\n",
      "[LightGBM] [Warning] feature_fraction is set=0.4267311214977873, colsample_bytree=1.0 will be ignored. Current value: feature_fraction=0.4267311214977873\n",
      "[LightGBM] [Warning] lambda_l2 is set=1.5929224526621622e-06, reg_lambda=0.0 will be ignored. Current value: lambda_l2=1.5929224526621622e-06\n"
     ]
    },
    {
     "name": "stderr",
     "output_type": "stream",
     "text": [
      "\u001b[32m[I 2023-01-31 15:07:43,632]\u001b[0m Trial 14 finished with value: 2.2402739485716174 and parameters: {'feature_fraction': 0.4267311214977873, 'num_leaves': 126, 'bagging_fraction': 0.903131743368793, 'lambda_l1': 5.229858459779272, 'lambda_l2': 1.5929224526621622e-06, 'n_estimators': 213, 'max_depth': 3}. Best is trial 10 with value: 2.2266286743467165.\u001b[0m\n"
     ]
    },
    {
     "name": "stdout",
     "output_type": "stream",
     "text": [
      "[LightGBM] [Warning] lambda_l1 is set=8.956867678512117, reg_alpha=0.0 will be ignored. Current value: lambda_l1=8.956867678512117\n",
      "[LightGBM] [Warning] bagging_fraction is set=0.8882317447956023, subsample=1.0 will be ignored. Current value: bagging_fraction=0.8882317447956023\n",
      "[LightGBM] [Warning] feature_fraction is set=0.4238147508275065, colsample_bytree=1.0 will be ignored. Current value: feature_fraction=0.4238147508275065\n",
      "[LightGBM] [Warning] lambda_l2 is set=0.0005420509194468828, reg_lambda=0.0 will be ignored. Current value: lambda_l2=0.0005420509194468828\n"
     ]
    },
    {
     "name": "stderr",
     "output_type": "stream",
     "text": [
      "\u001b[32m[I 2023-01-31 15:07:44,523]\u001b[0m Trial 15 finished with value: 2.2272057448955143 and parameters: {'feature_fraction': 0.4238147508275065, 'num_leaves': 125, 'bagging_fraction': 0.8882317447956023, 'lambda_l1': 8.956867678512117, 'lambda_l2': 0.0005420509194468828, 'n_estimators': 226, 'max_depth': 3}. Best is trial 10 with value: 2.2266286743467165.\u001b[0m\n"
     ]
    },
    {
     "name": "stdout",
     "output_type": "stream",
     "text": [
      "[LightGBM] [Warning] lambda_l1 is set=7.2421962493203775, reg_alpha=0.0 will be ignored. Current value: lambda_l1=7.2421962493203775\n",
      "[LightGBM] [Warning] bagging_fraction is set=0.8563778025493536, subsample=1.0 will be ignored. Current value: bagging_fraction=0.8563778025493536\n",
      "[LightGBM] [Warning] feature_fraction is set=0.5882481569579695, colsample_bytree=1.0 will be ignored. Current value: feature_fraction=0.5882481569579695\n",
      "[LightGBM] [Warning] lambda_l2 is set=0.0016447293604905234, reg_lambda=0.0 will be ignored. Current value: lambda_l2=0.0016447293604905234\n"
     ]
    },
    {
     "name": "stderr",
     "output_type": "stream",
     "text": [
      "\u001b[32m[I 2023-01-31 15:07:45,347]\u001b[0m Trial 16 finished with value: 2.2877622030853564 and parameters: {'feature_fraction': 0.5882481569579695, 'num_leaves': 124, 'bagging_fraction': 0.8563778025493536, 'lambda_l1': 7.2421962493203775, 'lambda_l2': 0.0016447293604905234, 'n_estimators': 241, 'max_depth': 2}. Best is trial 10 with value: 2.2266286743467165.\u001b[0m\n"
     ]
    },
    {
     "name": "stdout",
     "output_type": "stream",
     "text": [
      "[LightGBM] [Warning] lambda_l1 is set=0.3701571298286474, reg_alpha=0.0 will be ignored. Current value: lambda_l1=0.3701571298286474\n",
      "[LightGBM] [Warning] bagging_fraction is set=0.9000292653213244, subsample=1.0 will be ignored. Current value: bagging_fraction=0.9000292653213244\n",
      "[LightGBM] [Warning] feature_fraction is set=0.39617095161223803, colsample_bytree=1.0 will be ignored. Current value: feature_fraction=0.39617095161223803\n",
      "[LightGBM] [Warning] lambda_l2 is set=0.0017482274705964054, reg_lambda=0.0 will be ignored. Current value: lambda_l2=0.0017482274705964054\n"
     ]
    },
    {
     "name": "stderr",
     "output_type": "stream",
     "text": [
      "\u001b[32m[I 2023-01-31 15:07:47,081]\u001b[0m Trial 17 finished with value: 2.287178578714348 and parameters: {'feature_fraction': 0.39617095161223803, 'num_leaves': 149, 'bagging_fraction': 0.9000292653213244, 'lambda_l1': 0.3701571298286474, 'lambda_l2': 0.0017482274705964054, 'n_estimators': 277, 'max_depth': 5}. Best is trial 10 with value: 2.2266286743467165.\u001b[0m\n"
     ]
    },
    {
     "name": "stdout",
     "output_type": "stream",
     "text": [
      "[LightGBM] [Warning] lambda_l1 is set=0.03615794893273959, reg_alpha=0.0 will be ignored. Current value: lambda_l1=0.03615794893273959\n",
      "[LightGBM] [Warning] bagging_fraction is set=0.7235558323722407, subsample=1.0 will be ignored. Current value: bagging_fraction=0.7235558323722407\n",
      "[LightGBM] [Warning] feature_fraction is set=0.33746378742001476, colsample_bytree=1.0 will be ignored. Current value: feature_fraction=0.33746378742001476\n",
      "[LightGBM] [Warning] lambda_l2 is set=0.00041144117469956245, reg_lambda=0.0 will be ignored. Current value: lambda_l2=0.00041144117469956245\n"
     ]
    },
    {
     "name": "stderr",
     "output_type": "stream",
     "text": [
      "\u001b[32m[I 2023-01-31 15:07:47,652]\u001b[0m Trial 18 finished with value: 2.2500439626768447 and parameters: {'feature_fraction': 0.33746378742001476, 'num_leaves': 215, 'bagging_fraction': 0.7235558323722407, 'lambda_l1': 0.03615794893273959, 'lambda_l2': 0.00041144117469956245, 'n_estimators': 123, 'max_depth': 3}. Best is trial 10 with value: 2.2266286743467165.\u001b[0m\n"
     ]
    },
    {
     "name": "stdout",
     "output_type": "stream",
     "text": [
      "[LightGBM] [Warning] lambda_l1 is set=1.219556065779806, reg_alpha=0.0 will be ignored. Current value: lambda_l1=1.219556065779806\n",
      "[LightGBM] [Warning] bagging_fraction is set=0.8565061005847393, subsample=1.0 will be ignored. Current value: bagging_fraction=0.8565061005847393\n",
      "[LightGBM] [Warning] feature_fraction is set=0.42077358709346574, colsample_bytree=1.0 will be ignored. Current value: feature_fraction=0.42077358709346574\n",
      "[LightGBM] [Warning] lambda_l2 is set=6.7432947603879495e-06, reg_lambda=0.0 will be ignored. Current value: lambda_l2=6.7432947603879495e-06\n"
     ]
    },
    {
     "name": "stderr",
     "output_type": "stream",
     "text": [
      "\u001b[32m[I 2023-01-31 15:07:49,047]\u001b[0m Trial 19 finished with value: 2.3324787367737034 and parameters: {'feature_fraction': 0.42077358709346574, 'num_leaves': 113, 'bagging_fraction': 0.8565061005847393, 'lambda_l1': 1.219556065779806, 'lambda_l2': 6.7432947603879495e-06, 'n_estimators': 199, 'max_depth': 5}. Best is trial 10 with value: 2.2266286743467165.\u001b[0m\n"
     ]
    },
    {
     "name": "stdout",
     "output_type": "stream",
     "text": [
      "[LightGBM] [Warning] lambda_l1 is set=1.693259615774155, reg_alpha=0.0 will be ignored. Current value: lambda_l1=1.693259615774155\n",
      "[LightGBM] [Warning] bagging_fraction is set=0.9338607576952394, subsample=1.0 will be ignored. Current value: bagging_fraction=0.9338607576952394\n",
      "[LightGBM] [Warning] feature_fraction is set=0.2908346669047859, colsample_bytree=1.0 will be ignored. Current value: feature_fraction=0.2908346669047859\n",
      "[LightGBM] [Warning] lambda_l2 is set=0.003906253501269363, reg_lambda=0.0 will be ignored. Current value: lambda_l2=0.003906253501269363\n"
     ]
    },
    {
     "name": "stderr",
     "output_type": "stream",
     "text": [
      "\u001b[32m[I 2023-01-31 15:07:49,672]\u001b[0m Trial 20 finished with value: 2.262388336069726 and parameters: {'feature_fraction': 0.2908346669047859, 'num_leaves': 156, 'bagging_fraction': 0.9338607576952394, 'lambda_l1': 1.693259615774155, 'lambda_l2': 0.003906253501269363, 'n_estimators': 240, 'max_depth': 2}. Best is trial 10 with value: 2.2266286743467165.\u001b[0m\n"
     ]
    },
    {
     "name": "stdout",
     "output_type": "stream",
     "text": [
      "[LightGBM] [Warning] lambda_l1 is set=7.814525815977844, reg_alpha=0.0 will be ignored. Current value: lambda_l1=7.814525815977844\n",
      "[LightGBM] [Warning] bagging_fraction is set=0.9154028319577739, subsample=1.0 will be ignored. Current value: bagging_fraction=0.9154028319577739\n",
      "[LightGBM] [Warning] feature_fraction is set=0.44667278909235303, colsample_bytree=1.0 will be ignored. Current value: feature_fraction=0.44667278909235303\n",
      "[LightGBM] [Warning] lambda_l2 is set=1.3260275582914776e-07, reg_lambda=0.0 will be ignored. Current value: lambda_l2=1.3260275582914776e-07\n"
     ]
    },
    {
     "name": "stderr",
     "output_type": "stream",
     "text": [
      "\u001b[32m[I 2023-01-31 15:07:50,562]\u001b[0m Trial 21 finished with value: 2.245960797556528 and parameters: {'feature_fraction': 0.44667278909235303, 'num_leaves': 106, 'bagging_fraction': 0.9154028319577739, 'lambda_l1': 7.814525815977844, 'lambda_l2': 1.3260275582914776e-07, 'n_estimators': 218, 'max_depth': 3}. Best is trial 10 with value: 2.2266286743467165.\u001b[0m\n"
     ]
    },
    {
     "name": "stdout",
     "output_type": "stream",
     "text": [
      "[LightGBM] [Warning] lambda_l1 is set=8.064388155277886, reg_alpha=0.0 will be ignored. Current value: lambda_l1=8.064388155277886\n",
      "[LightGBM] [Warning] bagging_fraction is set=0.8796761159928412, subsample=1.0 will be ignored. Current value: bagging_fraction=0.8796761159928412\n",
      "[LightGBM] [Warning] feature_fraction is set=0.5413633388532098, colsample_bytree=1.0 will be ignored. Current value: feature_fraction=0.5413633388532098\n",
      "[LightGBM] [Warning] lambda_l2 is set=2.5560287198268226e-06, reg_lambda=0.0 will be ignored. Current value: lambda_l2=2.5560287198268226e-06\n"
     ]
    },
    {
     "name": "stderr",
     "output_type": "stream",
     "text": [
      "\u001b[32m[I 2023-01-31 15:07:51,438]\u001b[0m Trial 22 finished with value: 2.260681954561392 and parameters: {'feature_fraction': 0.5413633388532098, 'num_leaves': 138, 'bagging_fraction': 0.8796761159928412, 'lambda_l1': 8.064388155277886, 'lambda_l2': 2.5560287198268226e-06, 'n_estimators': 185, 'max_depth': 3}. Best is trial 10 with value: 2.2266286743467165.\u001b[0m\n"
     ]
    },
    {
     "name": "stdout",
     "output_type": "stream",
     "text": [
      "[LightGBM] [Warning] lambda_l1 is set=1.2055145761052841, reg_alpha=0.0 will be ignored. Current value: lambda_l1=1.2055145761052841\n",
      "[LightGBM] [Warning] bagging_fraction is set=0.807302856335356, subsample=1.0 will be ignored. Current value: bagging_fraction=0.807302856335356\n",
      "[LightGBM] [Warning] feature_fraction is set=0.3981571295359069, colsample_bytree=1.0 will be ignored. Current value: feature_fraction=0.3981571295359069\n",
      "[LightGBM] [Warning] lambda_l2 is set=1.7657517855762206e-05, reg_lambda=0.0 will be ignored. Current value: lambda_l2=1.7657517855762206e-05\n"
     ]
    },
    {
     "name": "stderr",
     "output_type": "stream",
     "text": [
      "\u001b[32m[I 2023-01-31 15:07:52,540]\u001b[0m Trial 23 finished with value: 2.269456468399343 and parameters: {'feature_fraction': 0.3981571295359069, 'num_leaves': 105, 'bagging_fraction': 0.807302856335356, 'lambda_l1': 1.2055145761052841, 'lambda_l2': 1.7657517855762206e-05, 'n_estimators': 223, 'max_depth': 4}. Best is trial 10 with value: 2.2266286743467165.\u001b[0m\n"
     ]
    },
    {
     "name": "stdout",
     "output_type": "stream",
     "text": [
      "[LightGBM] [Warning] lambda_l1 is set=0.11348674670431042, reg_alpha=0.0 will be ignored. Current value: lambda_l1=0.11348674670431042\n",
      "[LightGBM] [Warning] bagging_fraction is set=0.9190633380253411, subsample=1.0 will be ignored. Current value: bagging_fraction=0.9190633380253411\n",
      "[LightGBM] [Warning] feature_fraction is set=0.45229325130236087, colsample_bytree=1.0 will be ignored. Current value: feature_fraction=0.45229325130236087\n",
      "[LightGBM] [Warning] lambda_l2 is set=2.3312702276997374e-06, reg_lambda=0.0 will be ignored. Current value: lambda_l2=2.3312702276997374e-06\n"
     ]
    },
    {
     "name": "stderr",
     "output_type": "stream",
     "text": [
      "\u001b[32m[I 2023-01-31 15:07:53,206]\u001b[0m Trial 24 finished with value: 2.248297585495069 and parameters: {'feature_fraction': 0.45229325130236087, 'num_leaves': 162, 'bagging_fraction': 0.9190633380253411, 'lambda_l1': 0.11348674670431042, 'lambda_l2': 2.3312702276997374e-06, 'n_estimators': 135, 'max_depth': 3}. Best is trial 10 with value: 2.2266286743467165.\u001b[0m\n"
     ]
    },
    {
     "name": "stdout",
     "output_type": "stream",
     "text": [
      "[LightGBM] [Warning] lambda_l1 is set=0.9049305122388587, reg_alpha=0.0 will be ignored. Current value: lambda_l1=0.9049305122388587\n",
      "[LightGBM] [Warning] bagging_fraction is set=0.9965154878225136, subsample=1.0 will be ignored. Current value: bagging_fraction=0.9965154878225136\n",
      "[LightGBM] [Warning] feature_fraction is set=0.2754678006312852, colsample_bytree=1.0 will be ignored. Current value: feature_fraction=0.2754678006312852\n",
      "[LightGBM] [Warning] lambda_l2 is set=1.6780257069494478e-07, reg_lambda=0.0 will be ignored. Current value: lambda_l2=1.6780257069494478e-07\n"
     ]
    },
    {
     "name": "stderr",
     "output_type": "stream",
     "text": [
      "\u001b[32m[I 2023-01-31 15:07:53,849]\u001b[0m Trial 25 finished with value: 2.249870462345708 and parameters: {'feature_fraction': 0.2754678006312852, 'num_leaves': 209, 'bagging_fraction': 0.9965154878225136, 'lambda_l1': 0.9049305122388587, 'lambda_l2': 1.6780257069494478e-07, 'n_estimators': 262, 'max_depth': 2}. Best is trial 10 with value: 2.2266286743467165.\u001b[0m\n"
     ]
    },
    {
     "name": "stdout",
     "output_type": "stream",
     "text": [
      "[LightGBM] [Warning] lambda_l1 is set=9.48917500724616, reg_alpha=0.0 will be ignored. Current value: lambda_l1=9.48917500724616\n",
      "[LightGBM] [Warning] bagging_fraction is set=0.8486711670603425, subsample=1.0 will be ignored. Current value: bagging_fraction=0.8486711670603425\n",
      "[LightGBM] [Warning] feature_fraction is set=0.3794764954931881, colsample_bytree=1.0 will be ignored. Current value: feature_fraction=0.3794764954931881\n",
      "[LightGBM] [Warning] lambda_l2 is set=1.730786151343309e-08, reg_lambda=0.0 will be ignored. Current value: lambda_l2=1.730786151343309e-08\n"
     ]
    },
    {
     "name": "stderr",
     "output_type": "stream",
     "text": [
      "\u001b[32m[I 2023-01-31 15:07:54,813]\u001b[0m Trial 26 finished with value: 2.254586276245327 and parameters: {'feature_fraction': 0.3794764954931881, 'num_leaves': 132, 'bagging_fraction': 0.8486711670603425, 'lambda_l1': 9.48917500724616, 'lambda_l2': 1.730786151343309e-08, 'n_estimators': 185, 'max_depth': 4}. Best is trial 10 with value: 2.2266286743467165.\u001b[0m\n"
     ]
    },
    {
     "name": "stdout",
     "output_type": "stream",
     "text": [
      "[LightGBM] [Warning] lambda_l1 is set=0.04909547717893523, reg_alpha=0.0 will be ignored. Current value: lambda_l1=0.04909547717893523\n",
      "[LightGBM] [Warning] bagging_fraction is set=0.7517578079709415, subsample=1.0 will be ignored. Current value: bagging_fraction=0.7517578079709415\n",
      "[LightGBM] [Warning] feature_fraction is set=0.5281522024162479, colsample_bytree=1.0 will be ignored. Current value: feature_fraction=0.5281522024162479\n",
      "[LightGBM] [Warning] lambda_l2 is set=1.3367906945085835e-05, reg_lambda=0.0 will be ignored. Current value: lambda_l2=1.3367906945085835e-05\n"
     ]
    },
    {
     "name": "stderr",
     "output_type": "stream",
     "text": [
      "\u001b[32m[I 2023-01-31 15:07:55,788]\u001b[0m Trial 27 finished with value: 2.2412783708688937 and parameters: {'feature_fraction': 0.5281522024162479, 'num_leaves': 95, 'bagging_fraction': 0.7517578079709415, 'lambda_l1': 0.04909547717893523, 'lambda_l2': 1.3367906945085835e-05, 'n_estimators': 228, 'max_depth': 3}. Best is trial 10 with value: 2.2266286743467165.\u001b[0m\n"
     ]
    },
    {
     "name": "stdout",
     "output_type": "stream",
     "text": [
      "[LightGBM] [Warning] lambda_l1 is set=0.5461602600174729, reg_alpha=0.0 will be ignored. Current value: lambda_l1=0.5461602600174729\n",
      "[LightGBM] [Warning] bagging_fraction is set=0.9370758964556462, subsample=1.0 will be ignored. Current value: bagging_fraction=0.9370758964556462\n",
      "[LightGBM] [Warning] feature_fraction is set=0.6397252338697575, colsample_bytree=1.0 will be ignored. Current value: feature_fraction=0.6397252338697575\n",
      "[LightGBM] [Warning] lambda_l2 is set=0.00010446871991266757, reg_lambda=0.0 will be ignored. Current value: lambda_l2=0.00010446871991266757\n"
     ]
    },
    {
     "name": "stderr",
     "output_type": "stream",
     "text": [
      "\u001b[32m[I 2023-01-31 15:07:56,640]\u001b[0m Trial 28 finished with value: 2.2474420895564773 and parameters: {'feature_fraction': 0.6397252338697575, 'num_leaves': 169, 'bagging_fraction': 0.9370758964556462, 'lambda_l1': 0.5461602600174729, 'lambda_l2': 0.00010446871991266757, 'n_estimators': 157, 'max_depth': 3}. Best is trial 10 with value: 2.2266286743467165.\u001b[0m\n"
     ]
    },
    {
     "name": "stdout",
     "output_type": "stream",
     "text": [
      "[LightGBM] [Warning] lambda_l1 is set=0.004398832961306833, reg_alpha=0.0 will be ignored. Current value: lambda_l1=0.004398832961306833\n",
      "[LightGBM] [Warning] bagging_fraction is set=0.7866039908652767, subsample=1.0 will be ignored. Current value: bagging_fraction=0.7866039908652767\n",
      "[LightGBM] [Warning] feature_fraction is set=0.4521724712901236, colsample_bytree=1.0 will be ignored. Current value: feature_fraction=0.4521724712901236\n",
      "[LightGBM] [Warning] lambda_l2 is set=5.834188439483881e-07, reg_lambda=0.0 will be ignored. Current value: lambda_l2=5.834188439483881e-07\n"
     ]
    },
    {
     "name": "stderr",
     "output_type": "stream",
     "text": [
      "\u001b[32m[I 2023-01-31 15:07:57,416]\u001b[0m Trial 29 finished with value: 2.2794065696609467 and parameters: {'feature_fraction': 0.4521724712901236, 'num_leaves': 200, 'bagging_fraction': 0.7866039908652767, 'lambda_l1': 0.004398832961306833, 'lambda_l2': 5.834188439483881e-07, 'n_estimators': 268, 'max_depth': 2}. Best is trial 10 with value: 2.2266286743467165.\u001b[0m\n"
     ]
    },
    {
     "name": "stdout",
     "output_type": "stream",
     "text": [
      "[LightGBM] [Warning] lambda_l1 is set=2.513293911739502, reg_alpha=0.0 will be ignored. Current value: lambda_l1=2.513293911739502\n",
      "[LightGBM] [Warning] bagging_fraction is set=0.8240513294519086, subsample=1.0 will be ignored. Current value: bagging_fraction=0.8240513294519086\n",
      "[LightGBM] [Warning] feature_fraction is set=0.2736162044789914, colsample_bytree=1.0 will be ignored. Current value: feature_fraction=0.2736162044789914\n",
      "[LightGBM] [Warning] lambda_l2 is set=5.3289464362072205e-08, reg_lambda=0.0 will be ignored. Current value: lambda_l2=5.3289464362072205e-08\n"
     ]
    },
    {
     "name": "stderr",
     "output_type": "stream",
     "text": [
      "\u001b[32m[I 2023-01-31 15:07:57,749]\u001b[0m Trial 30 finished with value: 2.4403692761890317 and parameters: {'feature_fraction': 0.2736162044789914, 'num_leaves': 123, 'bagging_fraction': 0.8240513294519086, 'lambda_l1': 2.513293911739502, 'lambda_l2': 5.3289464362072205e-08, 'n_estimators': 10, 'max_depth': 4}. Best is trial 10 with value: 2.2266286743467165.\u001b[0m\n"
     ]
    },
    {
     "name": "stdout",
     "output_type": "stream",
     "text": [
      "[LightGBM] [Warning] lambda_l1 is set=0.06107593195981605, reg_alpha=0.0 will be ignored. Current value: lambda_l1=0.06107593195981605\n",
      "[LightGBM] [Warning] bagging_fraction is set=0.7561632214877823, subsample=1.0 will be ignored. Current value: bagging_fraction=0.7561632214877823\n",
      "[LightGBM] [Warning] feature_fraction is set=0.5277011502711956, colsample_bytree=1.0 will be ignored. Current value: feature_fraction=0.5277011502711956\n",
      "[LightGBM] [Warning] lambda_l2 is set=2.0148538654924187e-07, reg_lambda=0.0 will be ignored. Current value: lambda_l2=2.0148538654924187e-07\n"
     ]
    },
    {
     "name": "stderr",
     "output_type": "stream",
     "text": [
      "\u001b[32m[I 2023-01-31 15:07:58,724]\u001b[0m Trial 31 finished with value: 2.2414513403493466 and parameters: {'feature_fraction': 0.5277011502711956, 'num_leaves': 94, 'bagging_fraction': 0.7561632214877823, 'lambda_l1': 0.06107593195981605, 'lambda_l2': 2.0148538654924187e-07, 'n_estimators': 226, 'max_depth': 3}. Best is trial 10 with value: 2.2266286743467165.\u001b[0m\n"
     ]
    },
    {
     "name": "stdout",
     "output_type": "stream",
     "text": [
      "[LightGBM] [Warning] lambda_l1 is set=0.039467029083497446, reg_alpha=0.0 will be ignored. Current value: lambda_l1=0.039467029083497446\n",
      "[LightGBM] [Warning] bagging_fraction is set=0.8793979716548781, subsample=1.0 will be ignored. Current value: bagging_fraction=0.8793979716548781\n",
      "[LightGBM] [Warning] feature_fraction is set=0.49247771181319033, colsample_bytree=1.0 will be ignored. Current value: feature_fraction=0.49247771181319033\n",
      "[LightGBM] [Warning] lambda_l2 is set=1.1058005474183613e-05, reg_lambda=0.0 will be ignored. Current value: lambda_l2=1.1058005474183613e-05\n"
     ]
    },
    {
     "name": "stderr",
     "output_type": "stream",
     "text": [
      "\u001b[32m[I 2023-01-31 15:07:59,585]\u001b[0m Trial 32 finished with value: 2.2476099940022944 and parameters: {'feature_fraction': 0.49247771181319033, 'num_leaves': 143, 'bagging_fraction': 0.8793979716548781, 'lambda_l1': 0.039467029083497446, 'lambda_l2': 1.1058005474183613e-05, 'n_estimators': 199, 'max_depth': 3}. Best is trial 10 with value: 2.2266286743467165.\u001b[0m\n"
     ]
    },
    {
     "name": "stdout",
     "output_type": "stream",
     "text": [
      "[LightGBM] [Warning] lambda_l1 is set=0.18947951773044236, reg_alpha=0.0 will be ignored. Current value: lambda_l1=0.18947951773044236\n",
      "[LightGBM] [Warning] bagging_fraction is set=0.750304342927008, subsample=1.0 will be ignored. Current value: bagging_fraction=0.750304342927008\n",
      "[LightGBM] [Warning] feature_fraction is set=0.34995907199610243, colsample_bytree=1.0 will be ignored. Current value: feature_fraction=0.34995907199610243\n",
      "[LightGBM] [Warning] lambda_l2 is set=2.9849757148840373e-06, reg_lambda=0.0 will be ignored. Current value: lambda_l2=2.9849757148840373e-06\n"
     ]
    },
    {
     "name": "stderr",
     "output_type": "stream",
     "text": [
      "\u001b[32m[I 2023-01-31 15:08:00,254]\u001b[0m Trial 33 finished with value: 2.2612390852305455 and parameters: {'feature_fraction': 0.34995907199610243, 'num_leaves': 93, 'bagging_fraction': 0.750304342927008, 'lambda_l1': 0.18947951773044236, 'lambda_l2': 2.9849757148840373e-06, 'n_estimators': 245, 'max_depth': 2}. Best is trial 10 with value: 2.2266286743467165.\u001b[0m\n"
     ]
    },
    {
     "name": "stdout",
     "output_type": "stream",
     "text": [
      "[LightGBM] [Warning] lambda_l1 is set=0.0013655887441484699, reg_alpha=0.0 will be ignored. Current value: lambda_l1=0.0013655887441484699\n",
      "[LightGBM] [Warning] bagging_fraction is set=0.9349659675714197, subsample=1.0 will be ignored. Current value: bagging_fraction=0.9349659675714197\n",
      "[LightGBM] [Warning] feature_fraction is set=0.55448233825216, colsample_bytree=1.0 will be ignored. Current value: feature_fraction=0.55448233825216\n",
      "[LightGBM] [Warning] lambda_l2 is set=3.00899807969525e-05, reg_lambda=0.0 will be ignored. Current value: lambda_l2=3.00899807969525e-05\n"
     ]
    },
    {
     "name": "stderr",
     "output_type": "stream",
     "text": [
      "\u001b[32m[I 2023-01-31 15:08:01,253]\u001b[0m Trial 34 finished with value: 2.2420094315446377 and parameters: {'feature_fraction': 0.55448233825216, 'num_leaves': 58, 'bagging_fraction': 0.9349659675714197, 'lambda_l1': 0.0013655887441484699, 'lambda_l2': 3.00899807969525e-05, 'n_estimators': 230, 'max_depth': 3}. Best is trial 10 with value: 2.2266286743467165.\u001b[0m\n"
     ]
    },
    {
     "name": "stdout",
     "output_type": "stream",
     "text": [
      "[LightGBM] [Warning] lambda_l1 is set=0.4833984829338797, reg_alpha=0.0 will be ignored. Current value: lambda_l1=0.4833984829338797\n",
      "[LightGBM] [Warning] bagging_fraction is set=0.791326068649688, subsample=1.0 will be ignored. Current value: bagging_fraction=0.791326068649688\n",
      "[LightGBM] [Warning] feature_fraction is set=0.4977827041929699, colsample_bytree=1.0 will be ignored. Current value: feature_fraction=0.4977827041929699\n",
      "[LightGBM] [Warning] lambda_l2 is set=4.874111797410883e-07, reg_lambda=0.0 will be ignored. Current value: lambda_l2=4.874111797410883e-07\n"
     ]
    },
    {
     "name": "stderr",
     "output_type": "stream",
     "text": [
      "\u001b[32m[I 2023-01-31 15:08:02,064]\u001b[0m Trial 35 finished with value: 2.2386624742426955 and parameters: {'feature_fraction': 0.4977827041929699, 'num_leaves': 5, 'bagging_fraction': 0.791326068649688, 'lambda_l1': 0.4833984829338797, 'lambda_l2': 4.874111797410883e-07, 'n_estimators': 203, 'max_depth': 3}. Best is trial 10 with value: 2.2266286743467165.\u001b[0m\n"
     ]
    },
    {
     "name": "stdout",
     "output_type": "stream",
     "text": [
      "[LightGBM] [Warning] lambda_l1 is set=0.4089913974556769, reg_alpha=0.0 will be ignored. Current value: lambda_l1=0.4089913974556769\n",
      "[LightGBM] [Warning] bagging_fraction is set=0.8177362929976578, subsample=1.0 will be ignored. Current value: bagging_fraction=0.8177362929976578\n",
      "[LightGBM] [Warning] feature_fraction is set=0.3716005618877879, colsample_bytree=1.0 will be ignored. Current value: feature_fraction=0.3716005618877879\n",
      "[LightGBM] [Warning] lambda_l2 is set=1.0885391895506398e-08, reg_lambda=0.0 will be ignored. Current value: lambda_l2=1.0885391895506398e-08\n"
     ]
    },
    {
     "name": "stderr",
     "output_type": "stream",
     "text": [
      "\u001b[32m[I 2023-01-31 15:08:02,969]\u001b[0m Trial 36 finished with value: 2.2870814321426414 and parameters: {'feature_fraction': 0.3716005618877879, 'num_leaves': 15, 'bagging_fraction': 0.8177362929976578, 'lambda_l1': 0.4089913974556769, 'lambda_l2': 1.0885391895506398e-08, 'n_estimators': 177, 'max_depth': 4}. Best is trial 10 with value: 2.2266286743467165.\u001b[0m\n"
     ]
    },
    {
     "name": "stdout",
     "output_type": "stream",
     "text": [
      "[LightGBM] [Warning] lambda_l1 is set=2.4212813439317786, reg_alpha=0.0 will be ignored. Current value: lambda_l1=2.4212813439317786\n",
      "[LightGBM] [Warning] bagging_fraction is set=0.6818152276832583, subsample=1.0 will be ignored. Current value: bagging_fraction=0.6818152276832583\n",
      "[LightGBM] [Warning] feature_fraction is set=0.3060917349046356, colsample_bytree=1.0 will be ignored. Current value: feature_fraction=0.3060917349046356\n",
      "[LightGBM] [Warning] lambda_l2 is set=3.577116071081852e-07, reg_lambda=0.0 will be ignored. Current value: lambda_l2=3.577116071081852e-07\n"
     ]
    },
    {
     "name": "stderr",
     "output_type": "stream",
     "text": [
      "\u001b[32m[I 2023-01-31 15:08:04,173]\u001b[0m Trial 37 finished with value: 2.2912055495851877 and parameters: {'feature_fraction': 0.3060917349046356, 'num_leaves': 22, 'bagging_fraction': 0.6818152276832583, 'lambda_l1': 2.4212813439317786, 'lambda_l2': 3.577116071081852e-07, 'n_estimators': 300, 'max_depth': 4}. Best is trial 10 with value: 2.2266286743467165.\u001b[0m\n"
     ]
    },
    {
     "name": "stdout",
     "output_type": "stream",
     "text": [
      "[LightGBM] [Warning] lambda_l1 is set=0.012752841687602209, reg_alpha=0.0 will be ignored. Current value: lambda_l1=0.012752841687602209\n",
      "[LightGBM] [Warning] bagging_fraction is set=0.9557521269284206, subsample=1.0 will be ignored. Current value: bagging_fraction=0.9557521269284206\n",
      "[LightGBM] [Warning] feature_fraction is set=0.42359731270281087, colsample_bytree=1.0 will be ignored. Current value: feature_fraction=0.42359731270281087\n",
      "[LightGBM] [Warning] lambda_l2 is set=5.183513986102281e-08, reg_lambda=0.0 will be ignored. Current value: lambda_l2=5.183513986102281e-08\n"
     ]
    },
    {
     "name": "stderr",
     "output_type": "stream",
     "text": [
      "\u001b[32m[I 2023-01-31 15:08:04,630]\u001b[0m Trial 38 finished with value: 2.4017503133640936 and parameters: {'feature_fraction': 0.42359731270281087, 'num_leaves': 2, 'bagging_fraction': 0.9557521269284206, 'lambda_l1': 0.012752841687602209, 'lambda_l2': 5.183513986102281e-08, 'n_estimators': 141, 'max_depth': 2}. Best is trial 10 with value: 2.2266286743467165.\u001b[0m\n"
     ]
    },
    {
     "name": "stdout",
     "output_type": "stream",
     "text": [
      "[LightGBM] [Warning] lambda_l1 is set=3.0912784989518203, reg_alpha=0.0 will be ignored. Current value: lambda_l1=3.0912784989518203\n",
      "[LightGBM] [Warning] bagging_fraction is set=0.882355653788589, subsample=1.0 will be ignored. Current value: bagging_fraction=0.882355653788589\n",
      "[LightGBM] [Warning] feature_fraction is set=0.4768555785556641, colsample_bytree=1.0 will be ignored. Current value: feature_fraction=0.4768555785556641\n",
      "[LightGBM] [Warning] lambda_l2 is set=1.2628734575342906e-06, reg_lambda=0.0 will be ignored. Current value: lambda_l2=1.2628734575342906e-06\n"
     ]
    },
    {
     "name": "stderr",
     "output_type": "stream",
     "text": [
      "\u001b[32m[I 2023-01-31 15:08:05,391]\u001b[0m Trial 39 finished with value: 2.279811979089381 and parameters: {'feature_fraction': 0.4768555785556641, 'num_leaves': 38, 'bagging_fraction': 0.882355653788589, 'lambda_l1': 3.0912784989518203, 'lambda_l2': 1.2628734575342906e-06, 'n_estimators': 108, 'max_depth': 4}. Best is trial 10 with value: 2.2266286743467165.\u001b[0m\n"
     ]
    },
    {
     "name": "stdout",
     "output_type": "stream",
     "text": [
      "[LightGBM] [Warning] lambda_l1 is set=0.758540050933932, reg_alpha=0.0 will be ignored. Current value: lambda_l1=0.758540050933932\n",
      "[LightGBM] [Warning] bagging_fraction is set=0.7906898019086401, subsample=1.0 will be ignored. Current value: bagging_fraction=0.7906898019086401\n",
      "[LightGBM] [Warning] feature_fraction is set=0.3331687170691925, colsample_bytree=1.0 will be ignored. Current value: feature_fraction=0.3331687170691925\n",
      "[LightGBM] [Warning] lambda_l2 is set=1.0131879625550604e-07, reg_lambda=0.0 will be ignored. Current value: lambda_l2=1.0131879625550604e-07\n"
     ]
    },
    {
     "name": "stderr",
     "output_type": "stream",
     "text": [
      "\u001b[32m[I 2023-01-31 15:08:06,136]\u001b[0m Trial 40 finished with value: 2.2757484531483247 and parameters: {'feature_fraction': 0.3331687170691925, 'num_leaves': 232, 'bagging_fraction': 0.7906898019086401, 'lambda_l1': 0.758540050933932, 'lambda_l2': 1.0131879625550604e-07, 'n_estimators': 203, 'max_depth': 3}. Best is trial 10 with value: 2.2266286743467165.\u001b[0m\n"
     ]
    },
    {
     "name": "stdout",
     "output_type": "stream",
     "text": [
      "[LightGBM] [Warning] lambda_l1 is set=0.08312739580440576, reg_alpha=0.0 will be ignored. Current value: lambda_l1=0.08312739580440576\n",
      "[LightGBM] [Warning] bagging_fraction is set=0.7185082712700506, subsample=1.0 will be ignored. Current value: bagging_fraction=0.7185082712700506\n",
      "[LightGBM] [Warning] feature_fraction is set=0.49861107590596265, colsample_bytree=1.0 will be ignored. Current value: feature_fraction=0.49861107590596265\n",
      "[LightGBM] [Warning] lambda_l2 is set=4.729944244515125e-06, reg_lambda=0.0 will be ignored. Current value: lambda_l2=4.729944244515125e-06\n"
     ]
    },
    {
     "name": "stderr",
     "output_type": "stream",
     "text": [
      "\u001b[32m[I 2023-01-31 15:08:07,176]\u001b[0m Trial 41 finished with value: 2.2516157028484978 and parameters: {'feature_fraction': 0.49861107590596265, 'num_leaves': 67, 'bagging_fraction': 0.7185082712700506, 'lambda_l1': 0.08312739580440576, 'lambda_l2': 4.729944244515125e-06, 'n_estimators': 258, 'max_depth': 3}. Best is trial 10 with value: 2.2266286743467165.\u001b[0m\n"
     ]
    },
    {
     "name": "stdout",
     "output_type": "stream",
     "text": [
      "[LightGBM] [Warning] lambda_l1 is set=0.039114065031208574, reg_alpha=0.0 will be ignored. Current value: lambda_l1=0.039114065031208574\n",
      "[LightGBM] [Warning] bagging_fraction is set=0.8288265975059803, subsample=1.0 will be ignored. Current value: bagging_fraction=0.8288265975059803\n",
      "[LightGBM] [Warning] feature_fraction is set=0.6050272476703696, colsample_bytree=1.0 will be ignored. Current value: feature_fraction=0.6050272476703696\n",
      "[LightGBM] [Warning] lambda_l2 is set=4.2434689419731036e-07, reg_lambda=0.0 will be ignored. Current value: lambda_l2=4.2434689419731036e-07\n"
     ]
    },
    {
     "name": "stderr",
     "output_type": "stream",
     "text": [
      "\u001b[32m[I 2023-01-31 15:08:08,174]\u001b[0m Trial 42 finished with value: 2.316309926150397 and parameters: {'feature_fraction': 0.6050272476703696, 'num_leaves': 87, 'bagging_fraction': 0.8288265975059803, 'lambda_l1': 0.039114065031208574, 'lambda_l2': 4.2434689419731036e-07, 'n_estimators': 212, 'max_depth': 3}. Best is trial 10 with value: 2.2266286743467165.\u001b[0m\n"
     ]
    },
    {
     "name": "stdout",
     "output_type": "stream",
     "text": [
      "[LightGBM] [Warning] lambda_l1 is set=0.21994936786072566, reg_alpha=0.0 will be ignored. Current value: lambda_l1=0.21994936786072566\n",
      "[LightGBM] [Warning] bagging_fraction is set=0.8988919563424018, subsample=1.0 will be ignored. Current value: bagging_fraction=0.8988919563424018\n",
      "[LightGBM] [Warning] feature_fraction is set=0.7033578649656045, colsample_bytree=1.0 will be ignored. Current value: feature_fraction=0.7033578649656045\n",
      "[LightGBM] [Warning] lambda_l2 is set=1.4411038488425859e-06, reg_lambda=0.0 will be ignored. Current value: lambda_l2=1.4411038488425859e-06\n"
     ]
    },
    {
     "name": "stderr",
     "output_type": "stream",
     "text": [
      "\u001b[32m[I 2023-01-31 15:08:09,145]\u001b[0m Trial 43 finished with value: 2.293358896453384 and parameters: {'feature_fraction': 0.7033578649656045, 'num_leaves': 40, 'bagging_fraction': 0.8988919563424018, 'lambda_l1': 0.21994936786072566, 'lambda_l2': 1.4411038488425859e-06, 'n_estimators': 177, 'max_depth': 3}. Best is trial 10 with value: 2.2266286743467165.\u001b[0m\n"
     ]
    },
    {
     "name": "stdout",
     "output_type": "stream",
     "text": [
      "[LightGBM] [Warning] lambda_l1 is set=3.963368540698799, reg_alpha=0.0 will be ignored. Current value: lambda_l1=3.963368540698799\n",
      "[LightGBM] [Warning] bagging_fraction is set=0.7734592125533563, subsample=1.0 will be ignored. Current value: bagging_fraction=0.7734592125533563\n",
      "[LightGBM] [Warning] feature_fraction is set=0.24829453942050383, colsample_bytree=1.0 will be ignored. Current value: feature_fraction=0.24829453942050383\n",
      "[LightGBM] [Warning] lambda_l2 is set=1.1246703453981223e-05, reg_lambda=0.0 will be ignored. Current value: lambda_l2=1.1246703453981223e-05\n"
     ]
    },
    {
     "name": "stderr",
     "output_type": "stream",
     "text": [
      "\u001b[32m[I 2023-01-31 15:08:09,808]\u001b[0m Trial 44 finished with value: 2.252751983530766 and parameters: {'feature_fraction': 0.24829453942050383, 'num_leaves': 116, 'bagging_fraction': 0.7734592125533563, 'lambda_l1': 3.963368540698799, 'lambda_l2': 1.1246703453981223e-05, 'n_estimators': 196, 'max_depth': 3}. Best is trial 10 with value: 2.2266286743467165.\u001b[0m\n"
     ]
    },
    {
     "name": "stdout",
     "output_type": "stream",
     "text": [
      "[LightGBM] [Warning] lambda_l1 is set=0.9075036384386169, reg_alpha=0.0 will be ignored. Current value: lambda_l1=0.9075036384386169\n",
      "[LightGBM] [Warning] bagging_fraction is set=0.571723552300096, subsample=1.0 will be ignored. Current value: bagging_fraction=0.571723552300096\n",
      "[LightGBM] [Warning] feature_fraction is set=0.5244594487101797, colsample_bytree=1.0 will be ignored. Current value: feature_fraction=0.5244594487101797\n",
      "[LightGBM] [Warning] lambda_l2 is set=6.273048152733895e-07, reg_lambda=0.0 will be ignored. Current value: lambda_l2=6.273048152733895e-07\n"
     ]
    },
    {
     "name": "stderr",
     "output_type": "stream",
     "text": [
      "\u001b[32m[I 2023-01-31 15:08:10,448]\u001b[0m Trial 45 finished with value: 2.2981602845809186 and parameters: {'feature_fraction': 0.5244594487101797, 'num_leaves': 172, 'bagging_fraction': 0.571723552300096, 'lambda_l1': 0.9075036384386169, 'lambda_l2': 6.273048152733895e-07, 'n_estimators': 167, 'max_depth': 2}. Best is trial 10 with value: 2.2266286743467165.\u001b[0m\n"
     ]
    },
    {
     "name": "stdout",
     "output_type": "stream",
     "text": [
      "[LightGBM] [Warning] lambda_l1 is set=0.02001448023318089, reg_alpha=0.0 will be ignored. Current value: lambda_l1=0.02001448023318089\n",
      "[LightGBM] [Warning] bagging_fraction is set=0.9642499354914073, subsample=1.0 will be ignored. Current value: bagging_fraction=0.9642499354914073\n",
      "[LightGBM] [Warning] feature_fraction is set=0.4214216816232639, colsample_bytree=1.0 will be ignored. Current value: feature_fraction=0.4214216816232639\n",
      "[LightGBM] [Warning] lambda_l2 is set=5.268941066273401e-05, reg_lambda=0.0 will be ignored. Current value: lambda_l2=5.268941066273401e-05\n"
     ]
    },
    {
     "name": "stderr",
     "output_type": "stream",
     "text": [
      "\u001b[32m[I 2023-01-31 15:08:11,345]\u001b[0m Trial 46 finished with value: 2.2514361386851904 and parameters: {'feature_fraction': 0.4214216816232639, 'num_leaves': 137, 'bagging_fraction': 0.9642499354914073, 'lambda_l1': 0.02001448023318089, 'lambda_l2': 5.268941066273401e-05, 'n_estimators': 235, 'max_depth': 3}. Best is trial 10 with value: 2.2266286743467165.\u001b[0m\n"
     ]
    },
    {
     "name": "stdout",
     "output_type": "stream",
     "text": [
      "[LightGBM] [Warning] lambda_l1 is set=0.27003463223369734, reg_alpha=0.0 will be ignored. Current value: lambda_l1=0.27003463223369734\n",
      "[LightGBM] [Warning] bagging_fraction is set=0.8489080561724726, subsample=1.0 will be ignored. Current value: bagging_fraction=0.8489080561724726\n",
      "[LightGBM] [Warning] feature_fraction is set=0.3117075531546959, colsample_bytree=1.0 will be ignored. Current value: feature_fraction=0.3117075531546959\n",
      "[LightGBM] [Warning] lambda_l2 is set=5.272713646136174e-06, reg_lambda=0.0 will be ignored. Current value: lambda_l2=5.272713646136174e-06\n"
     ]
    },
    {
     "name": "stderr",
     "output_type": "stream",
     "text": [
      "\u001b[32m[I 2023-01-31 15:08:12,699]\u001b[0m Trial 47 finished with value: 2.3171634093855276 and parameters: {'feature_fraction': 0.3117075531546959, 'num_leaves': 155, 'bagging_fraction': 0.8489080561724726, 'lambda_l1': 0.27003463223369734, 'lambda_l2': 5.272713646136174e-06, 'n_estimators': 250, 'max_depth': 5}. Best is trial 10 with value: 2.2266286743467165.\u001b[0m\n"
     ]
    },
    {
     "name": "stdout",
     "output_type": "stream",
     "text": [
      "[LightGBM] [Warning] lambda_l1 is set=0.12826291841250798, reg_alpha=0.0 will be ignored. Current value: lambda_l1=0.12826291841250798\n",
      "[LightGBM] [Warning] bagging_fraction is set=0.9640199766551752, subsample=1.0 will be ignored. Current value: bagging_fraction=0.9640199766551752\n",
      "[LightGBM] [Warning] feature_fraction is set=0.24006473831933667, colsample_bytree=1.0 will be ignored. Current value: feature_fraction=0.24006473831933667\n",
      "[LightGBM] [Warning] lambda_l2 is set=3.058390447555773e-07, reg_lambda=0.0 will be ignored. Current value: lambda_l2=3.058390447555773e-07\n"
     ]
    },
    {
     "name": "stderr",
     "output_type": "stream",
     "text": [
      "\u001b[32m[I 2023-01-31 15:08:13,557]\u001b[0m Trial 48 finished with value: 2.276351410127052 and parameters: {'feature_fraction': 0.24006473831933667, 'num_leaves': 189, 'bagging_fraction': 0.9640199766551752, 'lambda_l1': 0.12826291841250798, 'lambda_l2': 3.058390447555773e-07, 'n_estimators': 218, 'max_depth': 4}. Best is trial 10 with value: 2.2266286743467165.\u001b[0m\n"
     ]
    },
    {
     "name": "stdout",
     "output_type": "stream",
     "text": [
      "[LightGBM] [Warning] lambda_l1 is set=3.3835031948520284, reg_alpha=0.0 will be ignored. Current value: lambda_l1=3.3835031948520284\n",
      "[LightGBM] [Warning] bagging_fraction is set=0.9008407006663097, subsample=1.0 will be ignored. Current value: bagging_fraction=0.9008407006663097\n",
      "[LightGBM] [Warning] feature_fraction is set=0.3602009710098131, colsample_bytree=1.0 will be ignored. Current value: feature_fraction=0.3602009710098131\n",
      "[LightGBM] [Warning] lambda_l2 is set=1.0339829269989162e-06, reg_lambda=0.0 will be ignored. Current value: lambda_l2=1.0339829269989162e-06\n"
     ]
    },
    {
     "name": "stderr",
     "output_type": "stream",
     "text": [
      "\u001b[32m[I 2023-01-31 15:08:14,193]\u001b[0m Trial 49 finished with value: 2.2651833210499803 and parameters: {'feature_fraction': 0.3602009710098131, 'num_leaves': 78, 'bagging_fraction': 0.9008407006663097, 'lambda_l1': 3.3835031948520284, 'lambda_l2': 1.0339829269989162e-06, 'n_estimators': 143, 'max_depth': 3}. Best is trial 10 with value: 2.2266286743467165.\u001b[0m\n"
     ]
    },
    {
     "name": "stdout",
     "output_type": "stream",
     "text": [
      "[LightGBM] [Warning] lambda_l1 is set=0.642041900504443, reg_alpha=0.0 will be ignored. Current value: lambda_l1=0.642041900504443\n",
      "[LightGBM] [Warning] bagging_fraction is set=0.8701149985643302, subsample=1.0 will be ignored. Current value: bagging_fraction=0.8701149985643302\n",
      "[LightGBM] [Warning] feature_fraction is set=0.47394929683687, colsample_bytree=1.0 will be ignored. Current value: feature_fraction=0.47394929683687\n",
      "[LightGBM] [Warning] lambda_l2 is set=2.3884752917752506e-06, reg_lambda=0.0 will be ignored. Current value: lambda_l2=2.3884752917752506e-06\n"
     ]
    },
    {
     "name": "stderr",
     "output_type": "stream",
     "text": [
      "\u001b[32m[I 2023-01-31 15:08:15,013]\u001b[0m Trial 50 finished with value: 2.2814905634209697 and parameters: {'feature_fraction': 0.47394929683687, 'num_leaves': 103, 'bagging_fraction': 0.8701149985643302, 'lambda_l1': 0.642041900504443, 'lambda_l2': 2.3884752917752506e-06, 'n_estimators': 280, 'max_depth': 2}. Best is trial 10 with value: 2.2266286743467165.\u001b[0m\n"
     ]
    },
    {
     "name": "stdout",
     "output_type": "stream",
     "text": [
      "[LightGBM] [Warning] lambda_l1 is set=0.06790015281942127, reg_alpha=0.0 will be ignored. Current value: lambda_l1=0.06790015281942127\n",
      "[LightGBM] [Warning] bagging_fraction is set=0.7477746223866362, subsample=1.0 will be ignored. Current value: bagging_fraction=0.7477746223866362\n",
      "[LightGBM] [Warning] feature_fraction is set=0.5211305076038077, colsample_bytree=1.0 will be ignored. Current value: feature_fraction=0.5211305076038077\n",
      "[LightGBM] [Warning] lambda_l2 is set=1.7806140397058737e-07, reg_lambda=0.0 will be ignored. Current value: lambda_l2=1.7806140397058737e-07\n"
     ]
    },
    {
     "name": "stderr",
     "output_type": "stream",
     "text": [
      "\u001b[32m[I 2023-01-31 15:08:15,986]\u001b[0m Trial 51 finished with value: 2.2406353081059165 and parameters: {'feature_fraction': 0.5211305076038077, 'num_leaves': 92, 'bagging_fraction': 0.7477746223866362, 'lambda_l1': 0.06790015281942127, 'lambda_l2': 1.7806140397058737e-07, 'n_estimators': 228, 'max_depth': 3}. Best is trial 10 with value: 2.2266286743467165.\u001b[0m\n"
     ]
    },
    {
     "name": "stdout",
     "output_type": "stream",
     "text": [
      "[LightGBM] [Warning] lambda_l1 is set=0.005844843521865169, reg_alpha=0.0 will be ignored. Current value: lambda_l1=0.005844843521865169\n",
      "[LightGBM] [Warning] bagging_fraction is set=0.7342577013975577, subsample=1.0 will be ignored. Current value: bagging_fraction=0.7342577013975577\n",
      "[LightGBM] [Warning] feature_fraction is set=0.5553118065544318, colsample_bytree=1.0 will be ignored. Current value: feature_fraction=0.5553118065544318\n",
      "[LightGBM] [Warning] lambda_l2 is set=9.298725070953378e-08, reg_lambda=0.0 will be ignored. Current value: lambda_l2=9.298725070953378e-08\n"
     ]
    },
    {
     "name": "stderr",
     "output_type": "stream",
     "text": [
      "\u001b[32m[I 2023-01-31 15:08:16,869]\u001b[0m Trial 52 finished with value: 2.242461325219079 and parameters: {'feature_fraction': 0.5553118065544318, 'num_leaves': 125, 'bagging_fraction': 0.7342577013975577, 'lambda_l1': 0.005844843521865169, 'lambda_l2': 9.298725070953378e-08, 'n_estimators': 190, 'max_depth': 3}. Best is trial 10 with value: 2.2266286743467165.\u001b[0m\n"
     ]
    },
    {
     "name": "stdout",
     "output_type": "stream",
     "text": [
      "[LightGBM] [Warning] lambda_l1 is set=1.6816938847327072, reg_alpha=0.0 will be ignored. Current value: lambda_l1=1.6816938847327072\n",
      "[LightGBM] [Warning] bagging_fraction is set=0.7842676453685337, subsample=1.0 will be ignored. Current value: bagging_fraction=0.7842676453685337\n",
      "[LightGBM] [Warning] feature_fraction is set=0.5157738137399411, colsample_bytree=1.0 will be ignored. Current value: feature_fraction=0.5157738137399411\n",
      "[LightGBM] [Warning] lambda_l2 is set=3.430655354273293e-07, reg_lambda=0.0 will be ignored. Current value: lambda_l2=3.430655354273293e-07\n"
     ]
    },
    {
     "name": "stderr",
     "output_type": "stream",
     "text": [
      "\u001b[32m[I 2023-01-31 15:08:17,810]\u001b[0m Trial 53 finished with value: 2.2403168611329938 and parameters: {'feature_fraction': 0.5157738137399411, 'num_leaves': 60, 'bagging_fraction': 0.7842676453685337, 'lambda_l1': 1.6816938847327072, 'lambda_l2': 3.430655354273293e-07, 'n_estimators': 211, 'max_depth': 3}. Best is trial 10 with value: 2.2266286743467165.\u001b[0m\n"
     ]
    },
    {
     "name": "stdout",
     "output_type": "stream",
     "text": [
      "[LightGBM] [Warning] lambda_l1 is set=1.7293845604091131, reg_alpha=0.0 will be ignored. Current value: lambda_l1=1.7293845604091131\n",
      "[LightGBM] [Warning] bagging_fraction is set=0.7906254437902542, subsample=1.0 will be ignored. Current value: bagging_fraction=0.7906254437902542\n",
      "[LightGBM] [Warning] feature_fraction is set=0.3975796835295161, colsample_bytree=1.0 will be ignored. Current value: feature_fraction=0.3975796835295161\n",
      "[LightGBM] [Warning] lambda_l2 is set=2.673832413231722e-08, reg_lambda=0.0 will be ignored. Current value: lambda_l2=2.673832413231722e-08\n"
     ]
    },
    {
     "name": "stderr",
     "output_type": "stream",
     "text": [
      "\u001b[32m[I 2023-01-31 15:08:18,625]\u001b[0m Trial 54 finished with value: 2.2547340331222676 and parameters: {'feature_fraction': 0.3975796835295161, 'num_leaves': 60, 'bagging_fraction': 0.7906254437902542, 'lambda_l1': 1.7293845604091131, 'lambda_l2': 2.673832413231722e-08, 'n_estimators': 205, 'max_depth': 3}. Best is trial 10 with value: 2.2266286743467165.\u001b[0m\n"
     ]
    },
    {
     "name": "stdout",
     "output_type": "stream",
     "text": [
      "[LightGBM] [Warning] lambda_l1 is set=5.098927462727831, reg_alpha=0.0 will be ignored. Current value: lambda_l1=5.098927462727831\n",
      "[LightGBM] [Warning] bagging_fraction is set=0.8400736305100416, subsample=1.0 will be ignored. Current value: bagging_fraction=0.8400736305100416\n",
      "[LightGBM] [Warning] feature_fraction is set=0.45087370472302496, colsample_bytree=1.0 will be ignored. Current value: feature_fraction=0.45087370472302496\n",
      "[LightGBM] [Warning] lambda_l2 is set=2.3175152582138793e-07, reg_lambda=0.0 will be ignored. Current value: lambda_l2=2.3175152582138793e-07\n"
     ]
    },
    {
     "name": "stderr",
     "output_type": "stream",
     "text": [
      "\u001b[32m[I 2023-01-31 15:08:19,395]\u001b[0m Trial 55 finished with value: 2.2512408771526786 and parameters: {'feature_fraction': 0.45087370472302496, 'num_leaves': 34, 'bagging_fraction': 0.8400736305100416, 'lambda_l1': 5.098927462727831, 'lambda_l2': 2.3175152582138793e-07, 'n_estimators': 170, 'max_depth': 3}. Best is trial 10 with value: 2.2266286743467165.\u001b[0m\n"
     ]
    },
    {
     "name": "stdout",
     "output_type": "stream",
     "text": [
      "[LightGBM] [Warning] lambda_l1 is set=1.4310431103678396, reg_alpha=0.0 will be ignored. Current value: lambda_l1=1.4310431103678396\n",
      "[LightGBM] [Warning] bagging_fraction is set=0.9162335433700497, subsample=1.0 will be ignored. Current value: bagging_fraction=0.9162335433700497\n",
      "[LightGBM] [Warning] feature_fraction is set=0.5128244893963867, colsample_bytree=1.0 will be ignored. Current value: feature_fraction=0.5128244893963867\n",
      "[LightGBM] [Warning] lambda_l2 is set=5.8725614030139797e-08, reg_lambda=0.0 will be ignored. Current value: lambda_l2=5.8725614030139797e-08\n"
     ]
    },
    {
     "name": "stderr",
     "output_type": "stream",
     "text": [
      "\u001b[32m[I 2023-01-31 15:08:20,371]\u001b[0m Trial 56 finished with value: 2.27781200083455 and parameters: {'feature_fraction': 0.5128244893963867, 'num_leaves': 84, 'bagging_fraction': 0.9162335433700497, 'lambda_l1': 1.4310431103678396, 'lambda_l2': 5.8725614030139797e-08, 'n_estimators': 152, 'max_depth': 4}. Best is trial 10 with value: 2.2266286743467165.\u001b[0m\n"
     ]
    },
    {
     "name": "stdout",
     "output_type": "stream",
     "text": [
      "[LightGBM] [Warning] lambda_l1 is set=0.3778438973742458, reg_alpha=0.0 will be ignored. Current value: lambda_l1=0.3778438973742458\n",
      "[LightGBM] [Warning] bagging_fraction is set=0.7003658700029071, subsample=1.0 will be ignored. Current value: bagging_fraction=0.7003658700029071\n",
      "[LightGBM] [Warning] feature_fraction is set=0.47638721502575737, colsample_bytree=1.0 will be ignored. Current value: feature_fraction=0.47638721502575737\n",
      "[LightGBM] [Warning] lambda_l2 is set=1.1866865865972064e-07, reg_lambda=0.0 will be ignored. Current value: lambda_l2=1.1866865865972064e-07\n"
     ]
    },
    {
     "name": "stderr",
     "output_type": "stream",
     "text": [
      "\u001b[32m[I 2023-01-31 15:08:21,067]\u001b[0m Trial 57 finished with value: 2.293499380307844 and parameters: {'feature_fraction': 0.47638721502575737, 'num_leaves': 114, 'bagging_fraction': 0.7003658700029071, 'lambda_l1': 0.3778438973742458, 'lambda_l2': 1.1866865865972064e-07, 'n_estimators': 212, 'max_depth': 2}. Best is trial 10 with value: 2.2266286743467165.\u001b[0m\n"
     ]
    },
    {
     "name": "stdout",
     "output_type": "stream",
     "text": [
      "[LightGBM] [Warning] lambda_l1 is set=1.352181380998531, reg_alpha=0.0 will be ignored. Current value: lambda_l1=1.352181380998531\n",
      "[LightGBM] [Warning] bagging_fraction is set=0.80702653874333, subsample=1.0 will be ignored. Current value: bagging_fraction=0.80702653874333\n",
      "[LightGBM] [Warning] feature_fraction is set=0.5817480612219259, colsample_bytree=1.0 will be ignored. Current value: feature_fraction=0.5817480612219259\n",
      "[LightGBM] [Warning] lambda_l2 is set=3.5037796992518645e-08, reg_lambda=0.0 will be ignored. Current value: lambda_l2=3.5037796992518645e-08\n"
     ]
    },
    {
     "name": "stderr",
     "output_type": "stream",
     "text": [
      "\u001b[32m[I 2023-01-31 15:08:22,161]\u001b[0m Trial 58 finished with value: 2.2892696158641184 and parameters: {'feature_fraction': 0.5817480612219259, 'num_leaves': 69, 'bagging_fraction': 0.80702653874333, 'lambda_l1': 1.352181380998531, 'lambda_l2': 3.5037796992518645e-08, 'n_estimators': 241, 'max_depth': 3}. Best is trial 10 with value: 2.2266286743467165.\u001b[0m\n"
     ]
    },
    {
     "name": "stdout",
     "output_type": "stream",
     "text": [
      "[LightGBM] [Warning] lambda_l1 is set=8.670504466106454, reg_alpha=0.0 will be ignored. Current value: lambda_l1=8.670504466106454\n",
      "[LightGBM] [Warning] bagging_fraction is set=0.8574577531090154, subsample=1.0 will be ignored. Current value: bagging_fraction=0.8574577531090154\n",
      "[LightGBM] [Warning] feature_fraction is set=0.3293753841742007, colsample_bytree=1.0 will be ignored. Current value: feature_fraction=0.3293753841742007\n",
      "[LightGBM] [Warning] lambda_l2 is set=7.542906362559265e-07, reg_lambda=0.0 will be ignored. Current value: lambda_l2=7.542906362559265e-07\n"
     ]
    },
    {
     "name": "stderr",
     "output_type": "stream",
     "text": [
      "\u001b[32m[I 2023-01-31 15:08:22,947]\u001b[0m Trial 59 finished with value: 2.2839725890148106 and parameters: {'feature_fraction': 0.3293753841742007, 'num_leaves': 49, 'bagging_fraction': 0.8574577531090154, 'lambda_l1': 8.670504466106454, 'lambda_l2': 7.542906362559265e-07, 'n_estimators': 216, 'max_depth': 3}. Best is trial 10 with value: 2.2266286743467165.\u001b[0m\n"
     ]
    },
    {
     "name": "stdout",
     "output_type": "stream",
     "text": [
      "[LightGBM] [Warning] lambda_l1 is set=4.408265007146521, reg_alpha=0.0 will be ignored. Current value: lambda_l1=4.408265007146521\n",
      "[LightGBM] [Warning] bagging_fraction is set=0.9811670487680455, subsample=1.0 will be ignored. Current value: bagging_fraction=0.9811670487680455\n",
      "[LightGBM] [Warning] feature_fraction is set=0.3804596639020476, colsample_bytree=1.0 will be ignored. Current value: feature_fraction=0.3804596639020476\n",
      "[LightGBM] [Warning] lambda_l2 is set=2.3038493244007282e-07, reg_lambda=0.0 will be ignored. Current value: lambda_l2=2.3038493244007282e-07\n"
     ]
    },
    {
     "name": "stderr",
     "output_type": "stream",
     "text": [
      "\u001b[32m[I 2023-01-31 15:08:23,930]\u001b[0m Trial 60 finished with value: 2.2584622259575604 and parameters: {'feature_fraction': 0.3804596639020476, 'num_leaves': 103, 'bagging_fraction': 0.9811670487680455, 'lambda_l1': 4.408265007146521, 'lambda_l2': 2.3038493244007282e-07, 'n_estimators': 191, 'max_depth': 4}. Best is trial 10 with value: 2.2266286743467165.\u001b[0m\n"
     ]
    },
    {
     "name": "stdout",
     "output_type": "stream",
     "text": [
      "[LightGBM] [Warning] lambda_l1 is set=0.12175682282846209, reg_alpha=0.0 will be ignored. Current value: lambda_l1=0.12175682282846209\n",
      "[LightGBM] [Warning] bagging_fraction is set=0.7673473494851788, subsample=1.0 will be ignored. Current value: bagging_fraction=0.7673473494851788\n",
      "[LightGBM] [Warning] feature_fraction is set=0.5086878126232818, colsample_bytree=1.0 will be ignored. Current value: feature_fraction=0.5086878126232818\n",
      "[LightGBM] [Warning] lambda_l2 is set=1.5539508513498585e-06, reg_lambda=0.0 will be ignored. Current value: lambda_l2=1.5539508513498585e-06\n"
     ]
    },
    {
     "name": "stderr",
     "output_type": "stream",
     "text": [
      "\u001b[32m[I 2023-01-31 15:08:24,900]\u001b[0m Trial 61 finished with value: 2.2512766128138044 and parameters: {'feature_fraction': 0.5086878126232818, 'num_leaves': 92, 'bagging_fraction': 0.7673473494851788, 'lambda_l1': 0.12175682282846209, 'lambda_l2': 1.5539508513498585e-06, 'n_estimators': 230, 'max_depth': 3}. Best is trial 10 with value: 2.2266286743467165.\u001b[0m\n"
     ]
    },
    {
     "name": "stdout",
     "output_type": "stream",
     "text": [
      "[LightGBM] [Warning] lambda_l1 is set=0.4146548313044353, reg_alpha=0.0 will be ignored. Current value: lambda_l1=0.4146548313044353\n",
      "[LightGBM] [Warning] bagging_fraction is set=0.7421526267000476, subsample=1.0 will be ignored. Current value: bagging_fraction=0.7421526267000476\n",
      "[LightGBM] [Warning] feature_fraction is set=0.4250945268633222, colsample_bytree=1.0 will be ignored. Current value: feature_fraction=0.4250945268633222\n",
      "[LightGBM] [Warning] lambda_l2 is set=4.13422772289073e-07, reg_lambda=0.0 will be ignored. Current value: lambda_l2=4.13422772289073e-07\n"
     ]
    },
    {
     "name": "stderr",
     "output_type": "stream",
     "text": [
      "\u001b[32m[I 2023-01-31 15:08:25,791]\u001b[0m Trial 62 finished with value: 2.2569564807696603 and parameters: {'feature_fraction': 0.4250945268633222, 'num_leaves': 119, 'bagging_fraction': 0.7421526267000476, 'lambda_l1': 0.4146548313044353, 'lambda_l2': 4.13422772289073e-07, 'n_estimators': 226, 'max_depth': 3}. Best is trial 10 with value: 2.2266286743467165.\u001b[0m\n"
     ]
    },
    {
     "name": "stdout",
     "output_type": "stream",
     "text": [
      "[LightGBM] [Warning] lambda_l1 is set=0.018943606255432784, reg_alpha=0.0 will be ignored. Current value: lambda_l1=0.018943606255432784\n",
      "[LightGBM] [Warning] bagging_fraction is set=0.6579803238489123, subsample=1.0 will be ignored. Current value: bagging_fraction=0.6579803238489123\n",
      "[LightGBM] [Warning] feature_fraction is set=0.5451654279648284, colsample_bytree=1.0 will be ignored. Current value: feature_fraction=0.5451654279648284\n",
      "[LightGBM] [Warning] lambda_l2 is set=7.435681846524584e-07, reg_lambda=0.0 will be ignored. Current value: lambda_l2=7.435681846524584e-07\n"
     ]
    },
    {
     "name": "stderr",
     "output_type": "stream",
     "text": [
      "\u001b[32m[I 2023-01-31 15:08:26,885]\u001b[0m Trial 63 finished with value: 2.2164504120043564 and parameters: {'feature_fraction': 0.5451654279648284, 'num_leaves': 134, 'bagging_fraction': 0.6579803238489123, 'lambda_l1': 0.018943606255432784, 'lambda_l2': 7.435681846524584e-07, 'n_estimators': 260, 'max_depth': 3}. Best is trial 63 with value: 2.2164504120043564.\u001b[0m\n"
     ]
    },
    {
     "name": "stdout",
     "output_type": "stream",
     "text": [
      "[LightGBM] [Warning] lambda_l1 is set=0.02346096285719357, reg_alpha=0.0 will be ignored. Current value: lambda_l1=0.02346096285719357\n",
      "[LightGBM] [Warning] bagging_fraction is set=0.6913388054988333, subsample=1.0 will be ignored. Current value: bagging_fraction=0.6913388054988333\n",
      "[LightGBM] [Warning] feature_fraction is set=0.5607640614731473, colsample_bytree=1.0 will be ignored. Current value: feature_fraction=0.5607640614731473\n",
      "[LightGBM] [Warning] lambda_l2 is set=9.490287724357696e-07, reg_lambda=0.0 will be ignored. Current value: lambda_l2=9.490287724357696e-07\n"
     ]
    },
    {
     "name": "stderr",
     "output_type": "stream",
     "text": [
      "\u001b[32m[I 2023-01-31 15:08:27,996]\u001b[0m Trial 64 finished with value: 2.25448246794082 and parameters: {'feature_fraction': 0.5607640614731473, 'num_leaves': 142, 'bagging_fraction': 0.6913388054988333, 'lambda_l1': 0.02346096285719357, 'lambda_l2': 9.490287724357696e-07, 'n_estimators': 264, 'max_depth': 3}. Best is trial 63 with value: 2.2164504120043564.\u001b[0m\n"
     ]
    },
    {
     "name": "stdout",
     "output_type": "stream",
     "text": [
      "[LightGBM] [Warning] lambda_l1 is set=0.6595403988718225, reg_alpha=0.0 will be ignored. Current value: lambda_l1=0.6595403988718225\n",
      "[LightGBM] [Warning] bagging_fraction is set=0.9416104460540169, subsample=1.0 will be ignored. Current value: bagging_fraction=0.9416104460540169\n",
      "[LightGBM] [Warning] feature_fraction is set=0.4921949758191232, colsample_bytree=1.0 will be ignored. Current value: feature_fraction=0.4921949758191232\n",
      "[LightGBM] [Warning] lambda_l2 is set=1.595778319501465e-07, reg_lambda=0.0 will be ignored. Current value: lambda_l2=1.595778319501465e-07\n"
     ]
    },
    {
     "name": "stderr",
     "output_type": "stream",
     "text": [
      "\u001b[32m[I 2023-01-31 15:08:29,019]\u001b[0m Trial 65 finished with value: 2.2486787258775713 and parameters: {'feature_fraction': 0.4921949758191232, 'num_leaves': 133, 'bagging_fraction': 0.9416104460540169, 'lambda_l1': 0.6595403988718225, 'lambda_l2': 1.595778319501465e-07, 'n_estimators': 251, 'max_depth': 3}. Best is trial 63 with value: 2.2164504120043564.\u001b[0m\n"
     ]
    },
    {
     "name": "stdout",
     "output_type": "stream",
     "text": [
      "[LightGBM] [Warning] lambda_l1 is set=0.19999887326629048, reg_alpha=0.0 will be ignored. Current value: lambda_l1=0.19999887326629048\n",
      "[LightGBM] [Warning] bagging_fraction is set=0.6433186430686724, subsample=1.0 will be ignored. Current value: bagging_fraction=0.6433186430686724\n",
      "[LightGBM] [Warning] feature_fraction is set=0.5324180349092297, colsample_bytree=1.0 will be ignored. Current value: feature_fraction=0.5324180349092297\n",
      "[LightGBM] [Warning] lambda_l2 is set=8.089921142111515e-08, reg_lambda=0.0 will be ignored. Current value: lambda_l2=8.089921142111515e-08\n"
     ]
    },
    {
     "name": "stderr",
     "output_type": "stream",
     "text": [
      "\u001b[32m[I 2023-01-31 15:08:29,874]\u001b[0m Trial 66 finished with value: 2.302852811980394 and parameters: {'feature_fraction': 0.5324180349092297, 'num_leaves': 150, 'bagging_fraction': 0.6433186430686724, 'lambda_l1': 0.19999887326629048, 'lambda_l2': 8.089921142111515e-08, 'n_estimators': 277, 'max_depth': 2}. Best is trial 63 with value: 2.2164504120043564.\u001b[0m\n"
     ]
    },
    {
     "name": "stdout",
     "output_type": "stream",
     "text": [
      "[LightGBM] [Warning] lambda_l1 is set=0.08696219437284151, reg_alpha=0.0 will be ignored. Current value: lambda_l1=0.08696219437284151\n",
      "[LightGBM] [Warning] bagging_fraction is set=0.8038078119129853, subsample=1.0 will be ignored. Current value: bagging_fraction=0.8038078119129853\n",
      "[LightGBM] [Warning] feature_fraction is set=0.4577617404184657, colsample_bytree=1.0 will be ignored. Current value: feature_fraction=0.4577617404184657\n",
      "[LightGBM] [Warning] lambda_l2 is set=3.3240235459114668e-06, reg_lambda=0.0 will be ignored. Current value: lambda_l2=3.3240235459114668e-06\n"
     ]
    },
    {
     "name": "stderr",
     "output_type": "stream",
     "text": [
      "\u001b[32m[I 2023-01-31 15:08:30,361]\u001b[0m Trial 67 finished with value: 2.3010896585267115 and parameters: {'feature_fraction': 0.4577617404184657, 'num_leaves': 255, 'bagging_fraction': 0.8038078119129853, 'lambda_l1': 0.08696219437284151, 'lambda_l2': 3.3240235459114668e-06, 'n_estimators': 66, 'max_depth': 3}. Best is trial 63 with value: 2.2164504120043564.\u001b[0m\n"
     ]
    },
    {
     "name": "stdout",
     "output_type": "stream",
     "text": [
      "[LightGBM] [Warning] lambda_l1 is set=2.159240696167542, reg_alpha=0.0 will be ignored. Current value: lambda_l1=2.159240696167542\n",
      "[LightGBM] [Warning] bagging_fraction is set=0.8231448191496701, subsample=1.0 will be ignored. Current value: bagging_fraction=0.8231448191496701\n",
      "[LightGBM] [Warning] feature_fraction is set=0.20756520397152195, colsample_bytree=1.0 will be ignored. Current value: feature_fraction=0.20756520397152195\n",
      "[LightGBM] [Warning] lambda_l2 is set=5.089968384421592e-07, reg_lambda=0.0 will be ignored. Current value: lambda_l2=5.089968384421592e-07\n"
     ]
    },
    {
     "name": "stderr",
     "output_type": "stream",
     "text": [
      "\u001b[32m[I 2023-01-31 15:08:31,012]\u001b[0m Trial 68 finished with value: 2.28036647070868 and parameters: {'feature_fraction': 0.20756520397152195, 'num_leaves': 28, 'bagging_fraction': 0.8231448191496701, 'lambda_l1': 2.159240696167542, 'lambda_l2': 5.089968384421592e-07, 'n_estimators': 206, 'max_depth': 3}. Best is trial 63 with value: 2.2164504120043564.\u001b[0m\n"
     ]
    },
    {
     "name": "stdout",
     "output_type": "stream",
     "text": [
      "[LightGBM] [Warning] lambda_l1 is set=1.1694066942383892, reg_alpha=0.0 will be ignored. Current value: lambda_l1=1.1694066942383892\n",
      "[LightGBM] [Warning] bagging_fraction is set=0.7704497357603095, subsample=1.0 will be ignored. Current value: bagging_fraction=0.7704497357603095\n",
      "[LightGBM] [Warning] feature_fraction is set=0.41159813915511373, colsample_bytree=1.0 will be ignored. Current value: feature_fraction=0.41159813915511373\n",
      "[LightGBM] [Warning] lambda_l2 is set=2.0393806841542544e-08, reg_lambda=0.0 will be ignored. Current value: lambda_l2=2.0393806841542544e-08\n"
     ]
    },
    {
     "name": "stderr",
     "output_type": "stream",
     "text": [
      "\u001b[32m[I 2023-01-31 15:08:32,410]\u001b[0m Trial 69 finished with value: 2.289195772499352 and parameters: {'feature_fraction': 0.41159813915511373, 'num_leaves': 226, 'bagging_fraction': 0.7704497357603095, 'lambda_l1': 1.1694066942383892, 'lambda_l2': 2.0393806841542544e-08, 'n_estimators': 293, 'max_depth': 4}. Best is trial 63 with value: 2.2164504120043564.\u001b[0m\n"
     ]
    },
    {
     "name": "stdout",
     "output_type": "stream",
     "text": [
      "[LightGBM] [Warning] lambda_l1 is set=5.494448343445741, reg_alpha=0.0 will be ignored. Current value: lambda_l1=5.494448343445741\n",
      "[LightGBM] [Warning] bagging_fraction is set=0.8795833935284387, subsample=1.0 will be ignored. Current value: bagging_fraction=0.8795833935284387\n",
      "[LightGBM] [Warning] feature_fraction is set=0.4390025130508316, colsample_bytree=1.0 will be ignored. Current value: feature_fraction=0.4390025130508316\n",
      "[LightGBM] [Warning] lambda_l2 is set=6.839117782275779e-06, reg_lambda=0.0 will be ignored. Current value: lambda_l2=6.839117782275779e-06\n"
     ]
    },
    {
     "name": "stderr",
     "output_type": "stream",
     "text": [
      "\u001b[32m[I 2023-01-31 15:08:33,440]\u001b[0m Trial 70 finished with value: 2.253499245645067 and parameters: {'feature_fraction': 0.4390025130508316, 'num_leaves': 163, 'bagging_fraction': 0.8795833935284387, 'lambda_l1': 5.494448343445741, 'lambda_l2': 6.839117782275779e-06, 'n_estimators': 269, 'max_depth': 3}. Best is trial 63 with value: 2.2164504120043564.\u001b[0m\n"
     ]
    },
    {
     "name": "stdout",
     "output_type": "stream",
     "text": [
      "[LightGBM] [Warning] lambda_l1 is set=0.009813529830327747, reg_alpha=0.0 will be ignored. Current value: lambda_l1=0.009813529830327747\n",
      "[LightGBM] [Warning] bagging_fraction is set=0.7513809090238428, subsample=1.0 will be ignored. Current value: bagging_fraction=0.7513809090238428\n",
      "[LightGBM] [Warning] feature_fraction is set=0.5149826559638707, colsample_bytree=1.0 will be ignored. Current value: feature_fraction=0.5149826559638707\n",
      "[LightGBM] [Warning] lambda_l2 is set=1.4406358962458598e-06, reg_lambda=0.0 will be ignored. Current value: lambda_l2=1.4406358962458598e-06\n"
     ]
    },
    {
     "name": "stderr",
     "output_type": "stream",
     "text": [
      "\u001b[32m[I 2023-01-31 15:08:34,436]\u001b[0m Trial 71 finished with value: 2.2138158947937234 and parameters: {'feature_fraction': 0.5149826559638707, 'num_leaves': 107, 'bagging_fraction': 0.7513809090238428, 'lambda_l1': 0.009813529830327747, 'lambda_l2': 1.4406358962458598e-06, 'n_estimators': 236, 'max_depth': 3}. Best is trial 71 with value: 2.2138158947937234.\u001b[0m\n"
     ]
    },
    {
     "name": "stdout",
     "output_type": "stream",
     "text": [
      "[LightGBM] [Warning] lambda_l1 is set=0.022882794736421404, reg_alpha=0.0 will be ignored. Current value: lambda_l1=0.022882794736421404\n",
      "[LightGBM] [Warning] bagging_fraction is set=0.7854101415419561, subsample=1.0 will be ignored. Current value: bagging_fraction=0.7854101415419561\n",
      "[LightGBM] [Warning] feature_fraction is set=0.5042337564139613, colsample_bytree=1.0 will be ignored. Current value: feature_fraction=0.5042337564139613\n",
      "[LightGBM] [Warning] lambda_l2 is set=1.915368416846865e-06, reg_lambda=0.0 will be ignored. Current value: lambda_l2=1.915368416846865e-06\n"
     ]
    },
    {
     "name": "stderr",
     "output_type": "stream",
     "text": [
      "\u001b[32m[I 2023-01-31 15:08:35,422]\u001b[0m Trial 72 finished with value: 2.2424627174237797 and parameters: {'feature_fraction': 0.5042337564139613, 'num_leaves': 108, 'bagging_fraction': 0.7854101415419561, 'lambda_l1': 0.022882794736421404, 'lambda_l2': 1.915368416846865e-06, 'n_estimators': 238, 'max_depth': 3}. Best is trial 71 with value: 2.2138158947937234.\u001b[0m\n"
     ]
    },
    {
     "name": "stdout",
     "output_type": "stream",
     "text": [
      "[LightGBM] [Warning] lambda_l1 is set=0.011897544888331973, reg_alpha=0.0 will be ignored. Current value: lambda_l1=0.011897544888331973\n",
      "[LightGBM] [Warning] bagging_fraction is set=0.7334322723199728, subsample=1.0 will be ignored. Current value: bagging_fraction=0.7334322723199728\n",
      "[LightGBM] [Warning] feature_fraction is set=0.48274906514829397, colsample_bytree=1.0 will be ignored. Current value: feature_fraction=0.48274906514829397\n",
      "[LightGBM] [Warning] lambda_l2 is set=2.430673197172349e-07, reg_lambda=0.0 will be ignored. Current value: lambda_l2=2.430673197172349e-07\n"
     ]
    },
    {
     "name": "stderr",
     "output_type": "stream",
     "text": [
      "\u001b[32m[I 2023-01-31 15:08:36,407]\u001b[0m Trial 73 finished with value: 2.247057105520462 and parameters: {'feature_fraction': 0.48274906514829397, 'num_leaves': 125, 'bagging_fraction': 0.7334322723199728, 'lambda_l1': 0.011897544888331973, 'lambda_l2': 2.430673197172349e-07, 'n_estimators': 246, 'max_depth': 3}. Best is trial 71 with value: 2.2138158947937234.\u001b[0m\n"
     ]
    },
    {
     "name": "stdout",
     "output_type": "stream",
     "text": [
      "[LightGBM] [Warning] lambda_l1 is set=0.0717081129061385, reg_alpha=0.0 will be ignored. Current value: lambda_l1=0.0717081129061385\n",
      "[LightGBM] [Warning] bagging_fraction is set=0.8380840578723057, subsample=1.0 will be ignored. Current value: bagging_fraction=0.8380840578723057\n",
      "[LightGBM] [Warning] feature_fraction is set=0.4654433588217365, colsample_bytree=1.0 will be ignored. Current value: feature_fraction=0.4654433588217365\n",
      "[LightGBM] [Warning] lambda_l2 is set=6.021899400045814e-07, reg_lambda=0.0 will be ignored. Current value: lambda_l2=6.021899400045814e-07\n"
     ]
    },
    {
     "name": "stderr",
     "output_type": "stream",
     "text": [
      "\u001b[32m[I 2023-01-31 15:08:37,310]\u001b[0m Trial 74 finished with value: 2.250053523169076 and parameters: {'feature_fraction': 0.4654433588217365, 'num_leaves': 131, 'bagging_fraction': 0.8380840578723057, 'lambda_l1': 0.0717081129061385, 'lambda_l2': 6.021899400045814e-07, 'n_estimators': 220, 'max_depth': 3}. Best is trial 71 with value: 2.2138158947937234.\u001b[0m\n"
     ]
    },
    {
     "name": "stdout",
     "output_type": "stream",
     "text": [
      "[LightGBM] [Warning] lambda_l1 is set=0.0019638074716770153, reg_alpha=0.0 will be ignored. Current value: lambda_l1=0.0019638074716770153\n",
      "[LightGBM] [Warning] bagging_fraction is set=0.7168372342764208, subsample=1.0 will be ignored. Current value: bagging_fraction=0.7168372342764208\n",
      "[LightGBM] [Warning] feature_fraction is set=0.5392394537318668, colsample_bytree=1.0 will be ignored. Current value: feature_fraction=0.5392394537318668\n",
      "[LightGBM] [Warning] lambda_l2 is set=1.2221418457229657e-06, reg_lambda=0.0 will be ignored. Current value: lambda_l2=1.2221418457229657e-06\n"
     ]
    },
    {
     "name": "stderr",
     "output_type": "stream",
     "text": [
      "\u001b[32m[I 2023-01-31 15:08:37,941]\u001b[0m Trial 75 finished with value: 2.3917710313938176 and parameters: {'feature_fraction': 0.5392394537318668, 'num_leaves': 2, 'bagging_fraction': 0.7168372342764208, 'lambda_l1': 0.0019638074716770153, 'lambda_l2': 1.2221418457229657e-06, 'n_estimators': 255, 'max_depth': 3}. Best is trial 71 with value: 2.2138158947937234.\u001b[0m\n"
     ]
    },
    {
     "name": "stdout",
     "output_type": "stream",
     "text": [
      "[LightGBM] [Warning] lambda_l1 is set=0.2962997639974642, reg_alpha=0.0 will be ignored. Current value: lambda_l1=0.2962997639974642\n",
      "[LightGBM] [Warning] bagging_fraction is set=0.759840117224803, subsample=1.0 will be ignored. Current value: bagging_fraction=0.759840117224803\n",
      "[LightGBM] [Warning] feature_fraction is set=0.5722318024862407, colsample_bytree=1.0 will be ignored. Current value: feature_fraction=0.5722318024862407\n",
      "[LightGBM] [Warning] lambda_l2 is set=1.3522559368094223e-07, reg_lambda=0.0 will be ignored. Current value: lambda_l2=1.3522559368094223e-07\n"
     ]
    },
    {
     "name": "stderr",
     "output_type": "stream",
     "text": [
      "\u001b[32m[I 2023-01-31 15:08:38,747]\u001b[0m Trial 76 finished with value: 2.254519586396059 and parameters: {'feature_fraction': 0.5722318024862407, 'num_leaves': 110, 'bagging_fraction': 0.759840117224803, 'lambda_l1': 0.2962997639974642, 'lambda_l2': 1.3522559368094223e-07, 'n_estimators': 234, 'max_depth': 2}. Best is trial 71 with value: 2.2138158947937234.\u001b[0m\n"
     ]
    },
    {
     "name": "stdout",
     "output_type": "stream",
     "text": [
      "[LightGBM] [Warning] lambda_l1 is set=0.04587116909506455, reg_alpha=0.0 will be ignored. Current value: lambda_l1=0.04587116909506455\n",
      "[LightGBM] [Warning] bagging_fraction is set=0.6617458276756919, subsample=1.0 will be ignored. Current value: bagging_fraction=0.6617458276756919\n",
      "[LightGBM] [Warning] feature_fraction is set=0.595562318723687, colsample_bytree=1.0 will be ignored. Current value: feature_fraction=0.595562318723687\n",
      "[LightGBM] [Warning] lambda_l2 is set=3.36941213020064e-07, reg_lambda=0.0 will be ignored. Current value: lambda_l2=3.36941213020064e-07\n"
     ]
    },
    {
     "name": "stderr",
     "output_type": "stream",
     "text": [
      "\u001b[32m[I 2023-01-31 15:08:39,642]\u001b[0m Trial 77 finished with value: 2.2910534939822926 and parameters: {'feature_fraction': 0.595562318723687, 'num_leaves': 178, 'bagging_fraction': 0.6617458276756919, 'lambda_l1': 0.04587116909506455, 'lambda_l2': 3.36941213020064e-07, 'n_estimators': 178, 'max_depth': 3}. Best is trial 71 with value: 2.2138158947937234.\u001b[0m\n"
     ]
    },
    {
     "name": "stdout",
     "output_type": "stream",
     "text": [
      "[LightGBM] [Warning] lambda_l1 is set=0.1571386509390448, reg_alpha=0.0 will be ignored. Current value: lambda_l1=0.1571386509390448\n",
      "[LightGBM] [Warning] bagging_fraction is set=0.7055343022153727, subsample=1.0 will be ignored. Current value: bagging_fraction=0.7055343022153727\n",
      "[LightGBM] [Warning] feature_fraction is set=0.4355921483616444, colsample_bytree=1.0 will be ignored. Current value: feature_fraction=0.4355921483616444\n",
      "[LightGBM] [Warning] lambda_l2 is set=4.578052284019224e-08, reg_lambda=0.0 will be ignored. Current value: lambda_l2=4.578052284019224e-08\n"
     ]
    },
    {
     "name": "stderr",
     "output_type": "stream",
     "text": [
      "\u001b[32m[I 2023-01-31 15:08:41,483]\u001b[0m Trial 78 finished with value: 2.3949299057857822 and parameters: {'feature_fraction': 0.4355921483616444, 'num_leaves': 59, 'bagging_fraction': 0.7055343022153727, 'lambda_l1': 0.1571386509390448, 'lambda_l2': 4.578052284019224e-08, 'n_estimators': 197, 'max_depth': 6}. Best is trial 71 with value: 2.2138158947937234.\u001b[0m\n"
     ]
    },
    {
     "name": "stdout",
     "output_type": "stream",
     "text": [
      "[LightGBM] [Warning] lambda_l1 is set=9.82881767504422, reg_alpha=0.0 will be ignored. Current value: lambda_l1=9.82881767504422\n",
      "[LightGBM] [Warning] bagging_fraction is set=0.6716725553840864, subsample=1.0 will be ignored. Current value: bagging_fraction=0.6716725553840864\n",
      "[LightGBM] [Warning] feature_fraction is set=0.5125399777376769, colsample_bytree=1.0 will be ignored. Current value: feature_fraction=0.5125399777376769\n",
      "[LightGBM] [Warning] lambda_l2 is set=3.129316031769491e-06, reg_lambda=0.0 will be ignored. Current value: lambda_l2=3.129316031769491e-06\n"
     ]
    },
    {
     "name": "stderr",
     "output_type": "stream",
     "text": [
      "\u001b[32m[I 2023-01-31 15:08:42,791]\u001b[0m Trial 79 finished with value: 2.2997327818497433 and parameters: {'feature_fraction': 0.5125399777376769, 'num_leaves': 84, 'bagging_fraction': 0.6716725553840864, 'lambda_l1': 9.82881767504422, 'lambda_l2': 3.129316031769491e-06, 'n_estimators': 224, 'max_depth': 4}. Best is trial 71 with value: 2.2138158947937234.\u001b[0m\n"
     ]
    },
    {
     "name": "stdout",
     "output_type": "stream",
     "text": [
      "[LightGBM] [Warning] lambda_l1 is set=0.00833227103190191, reg_alpha=0.0 will be ignored. Current value: lambda_l1=0.00833227103190191\n",
      "[LightGBM] [Warning] bagging_fraction is set=0.9904064485005311, subsample=1.0 will be ignored. Current value: bagging_fraction=0.9904064485005311\n",
      "[LightGBM] [Warning] feature_fraction is set=0.4024145089225305, colsample_bytree=1.0 will be ignored. Current value: feature_fraction=0.4024145089225305\n",
      "[LightGBM] [Warning] lambda_l2 is set=0.00018604296673697832, reg_lambda=0.0 will be ignored. Current value: lambda_l2=0.00018604296673697832\n"
     ]
    },
    {
     "name": "stderr",
     "output_type": "stream",
     "text": [
      "\u001b[32m[I 2023-01-31 15:08:43,620]\u001b[0m Trial 80 finished with value: 2.229198767237532 and parameters: {'feature_fraction': 0.4024145089225305, 'num_leaves': 98, 'bagging_fraction': 0.9904064485005311, 'lambda_l1': 0.00833227103190191, 'lambda_l2': 0.00018604296673697832, 'n_estimators': 213, 'max_depth': 3}. Best is trial 71 with value: 2.2138158947937234.\u001b[0m\n"
     ]
    },
    {
     "name": "stdout",
     "output_type": "stream",
     "text": [
      "[LightGBM] [Warning] lambda_l1 is set=0.006948578728433779, reg_alpha=0.0 will be ignored. Current value: lambda_l1=0.006948578728433779\n",
      "[LightGBM] [Warning] bagging_fraction is set=0.9857406069630147, subsample=1.0 will be ignored. Current value: bagging_fraction=0.9857406069630147\n",
      "[LightGBM] [Warning] feature_fraction is set=0.4009549354143606, colsample_bytree=1.0 will be ignored. Current value: feature_fraction=0.4009549354143606\n",
      "[LightGBM] [Warning] lambda_l2 is set=3.0074630333103825e-05, reg_lambda=0.0 will be ignored. Current value: lambda_l2=3.0074630333103825e-05\n"
     ]
    },
    {
     "name": "stderr",
     "output_type": "stream",
     "text": [
      "\u001b[32m[I 2023-01-31 15:08:44,442]\u001b[0m Trial 81 finished with value: 2.2271259301786857 and parameters: {'feature_fraction': 0.4009549354143606, 'num_leaves': 96, 'bagging_fraction': 0.9857406069630147, 'lambda_l1': 0.006948578728433779, 'lambda_l2': 3.0074630333103825e-05, 'n_estimators': 210, 'max_depth': 3}. Best is trial 71 with value: 2.2138158947937234.\u001b[0m\n"
     ]
    },
    {
     "name": "stdout",
     "output_type": "stream",
     "text": [
      "[LightGBM] [Warning] lambda_l1 is set=0.0005090599208005276, reg_alpha=0.0 will be ignored. Current value: lambda_l1=0.0005090599208005276\n",
      "[LightGBM] [Warning] bagging_fraction is set=0.9773169623727531, subsample=1.0 will be ignored. Current value: bagging_fraction=0.9773169623727531\n",
      "[LightGBM] [Warning] feature_fraction is set=0.3898935116118226, colsample_bytree=1.0 will be ignored. Current value: feature_fraction=0.3898935116118226\n",
      "[LightGBM] [Warning] lambda_l2 is set=0.00017572437410517301, reg_lambda=0.0 will be ignored. Current value: lambda_l2=0.00017572437410517301\n"
     ]
    },
    {
     "name": "stderr",
     "output_type": "stream",
     "text": [
      "\u001b[32m[I 2023-01-31 15:08:45,250]\u001b[0m Trial 82 finished with value: 2.223696028254285 and parameters: {'feature_fraction': 0.3898935116118226, 'num_leaves': 99, 'bagging_fraction': 0.9773169623727531, 'lambda_l1': 0.0005090599208005276, 'lambda_l2': 0.00017572437410517301, 'n_estimators': 213, 'max_depth': 3}. Best is trial 71 with value: 2.2138158947937234.\u001b[0m\n"
     ]
    },
    {
     "name": "stdout",
     "output_type": "stream",
     "text": [
      "[LightGBM] [Warning] lambda_l1 is set=0.0025347080176907253, reg_alpha=0.0 will be ignored. Current value: lambda_l1=0.0025347080176907253\n",
      "[LightGBM] [Warning] bagging_fraction is set=0.9940004257875059, subsample=1.0 will be ignored. Current value: bagging_fraction=0.9940004257875059\n",
      "[LightGBM] [Warning] feature_fraction is set=0.38885437462641437, colsample_bytree=1.0 will be ignored. Current value: feature_fraction=0.38885437462641437\n",
      "[LightGBM] [Warning] lambda_l2 is set=0.00028177514372249235, reg_lambda=0.0 will be ignored. Current value: lambda_l2=0.00028177514372249235\n"
     ]
    },
    {
     "name": "stderr",
     "output_type": "stream",
     "text": [
      "\u001b[32m[I 2023-01-31 15:08:46,010]\u001b[0m Trial 83 finished with value: 2.224059802376369 and parameters: {'feature_fraction': 0.38885437462641437, 'num_leaves': 99, 'bagging_fraction': 0.9940004257875059, 'lambda_l1': 0.0025347080176907253, 'lambda_l2': 0.00028177514372249235, 'n_estimators': 191, 'max_depth': 3}. Best is trial 71 with value: 2.2138158947937234.\u001b[0m\n"
     ]
    },
    {
     "name": "stdout",
     "output_type": "stream",
     "text": [
      "[LightGBM] [Warning] lambda_l1 is set=0.006170418063389999, reg_alpha=0.0 will be ignored. Current value: lambda_l1=0.006170418063389999\n",
      "[LightGBM] [Warning] bagging_fraction is set=0.9915169359715336, subsample=1.0 will be ignored. Current value: bagging_fraction=0.9915169359715336\n",
      "[LightGBM] [Warning] feature_fraction is set=0.38151305915264905, colsample_bytree=1.0 will be ignored. Current value: feature_fraction=0.38151305915264905\n",
      "[LightGBM] [Warning] lambda_l2 is set=0.0003063245649669254, reg_lambda=0.0 will be ignored. Current value: lambda_l2=0.0003063245649669254\n"
     ]
    },
    {
     "name": "stderr",
     "output_type": "stream",
     "text": [
      "\u001b[32m[I 2023-01-31 15:08:46,757]\u001b[0m Trial 84 finished with value: 2.22138796436052 and parameters: {'feature_fraction': 0.38151305915264905, 'num_leaves': 101, 'bagging_fraction': 0.9915169359715336, 'lambda_l1': 0.006170418063389999, 'lambda_l2': 0.0003063245649669254, 'n_estimators': 188, 'max_depth': 3}. Best is trial 71 with value: 2.2138158947937234.\u001b[0m\n"
     ]
    },
    {
     "name": "stdout",
     "output_type": "stream",
     "text": [
      "[LightGBM] [Warning] lambda_l1 is set=0.006759185816267074, reg_alpha=0.0 will be ignored. Current value: lambda_l1=0.006759185816267074\n",
      "[LightGBM] [Warning] bagging_fraction is set=0.9940881277530711, subsample=1.0 will be ignored. Current value: bagging_fraction=0.9940881277530711\n",
      "[LightGBM] [Warning] feature_fraction is set=0.37665100570439136, colsample_bytree=1.0 will be ignored. Current value: feature_fraction=0.37665100570439136\n",
      "[LightGBM] [Warning] lambda_l2 is set=0.0001664769616600169, reg_lambda=0.0 will be ignored. Current value: lambda_l2=0.0001664769616600169\n"
     ]
    },
    {
     "name": "stderr",
     "output_type": "stream",
     "text": [
      "\u001b[32m[I 2023-01-31 15:08:47,500]\u001b[0m Trial 85 finished with value: 2.222054464584396 and parameters: {'feature_fraction': 0.37665100570439136, 'num_leaves': 98, 'bagging_fraction': 0.9940881277530711, 'lambda_l1': 0.006759185816267074, 'lambda_l2': 0.0001664769616600169, 'n_estimators': 186, 'max_depth': 3}. Best is trial 71 with value: 2.2138158947937234.\u001b[0m\n"
     ]
    },
    {
     "name": "stdout",
     "output_type": "stream",
     "text": [
      "[LightGBM] [Warning] lambda_l1 is set=0.003675471586181828, reg_alpha=0.0 will be ignored. Current value: lambda_l1=0.003675471586181828\n",
      "[LightGBM] [Warning] bagging_fraction is set=0.99940756521599, subsample=1.0 will be ignored. Current value: bagging_fraction=0.99940756521599\n",
      "[LightGBM] [Warning] feature_fraction is set=0.38018301535042426, colsample_bytree=1.0 will be ignored. Current value: feature_fraction=0.38018301535042426\n",
      "[LightGBM] [Warning] lambda_l2 is set=0.0004113222523244301, reg_lambda=0.0 will be ignored. Current value: lambda_l2=0.0004113222523244301\n"
     ]
    },
    {
     "name": "stderr",
     "output_type": "stream",
     "text": [
      "\u001b[32m[I 2023-01-31 15:08:48,270]\u001b[0m Trial 86 finished with value: 2.2271121293033436 and parameters: {'feature_fraction': 0.38018301535042426, 'num_leaves': 100, 'bagging_fraction': 0.99940756521599, 'lambda_l1': 0.003675471586181828, 'lambda_l2': 0.0004113222523244301, 'n_estimators': 163, 'max_depth': 3}. Best is trial 71 with value: 2.2138158947937234.\u001b[0m\n"
     ]
    },
    {
     "name": "stdout",
     "output_type": "stream",
     "text": [
      "[LightGBM] [Warning] lambda_l1 is set=0.003573134699754345, reg_alpha=0.0 will be ignored. Current value: lambda_l1=0.003573134699754345\n",
      "[LightGBM] [Warning] bagging_fraction is set=0.9768695424838925, subsample=1.0 will be ignored. Current value: bagging_fraction=0.9768695424838925\n",
      "[LightGBM] [Warning] feature_fraction is set=0.363414200465571, colsample_bytree=1.0 will be ignored. Current value: feature_fraction=0.363414200465571\n",
      "[LightGBM] [Warning] lambda_l2 is set=0.0003033570248810293, reg_lambda=0.0 will be ignored. Current value: lambda_l2=0.0003033570248810293\n"
     ]
    },
    {
     "name": "stderr",
     "output_type": "stream",
     "text": [
      "\u001b[32m[I 2023-01-31 15:08:48,948]\u001b[0m Trial 87 finished with value: 2.247262383441579 and parameters: {'feature_fraction': 0.363414200465571, 'num_leaves': 102, 'bagging_fraction': 0.9768695424838925, 'lambda_l1': 0.003573134699754345, 'lambda_l2': 0.0003033570248810293, 'n_estimators': 160, 'max_depth': 3}. Best is trial 71 with value: 2.2138158947937234.\u001b[0m\n"
     ]
    },
    {
     "name": "stdout",
     "output_type": "stream",
     "text": [
      "[LightGBM] [Warning] lambda_l1 is set=0.000847645151009823, reg_alpha=0.0 will be ignored. Current value: lambda_l1=0.000847645151009823\n",
      "[LightGBM] [Warning] bagging_fraction is set=0.99367648385435, subsample=1.0 will be ignored. Current value: bagging_fraction=0.99367648385435\n",
      "[LightGBM] [Warning] feature_fraction is set=0.38190942825185786, colsample_bytree=1.0 will be ignored. Current value: feature_fraction=0.38190942825185786\n",
      "[LightGBM] [Warning] lambda_l2 is set=0.0008305869903715456, reg_lambda=0.0 will be ignored. Current value: lambda_l2=0.0008305869903715456\n"
     ]
    },
    {
     "name": "stderr",
     "output_type": "stream",
     "text": [
      "\u001b[32m[I 2023-01-31 15:08:49,611]\u001b[0m Trial 88 finished with value: 2.224772017662227 and parameters: {'feature_fraction': 0.38190942825185786, 'num_leaves': 87, 'bagging_fraction': 0.99367648385435, 'lambda_l1': 0.000847645151009823, 'lambda_l2': 0.0008305869903715456, 'n_estimators': 151, 'max_depth': 3}. Best is trial 71 with value: 2.2138158947937234.\u001b[0m\n"
     ]
    },
    {
     "name": "stdout",
     "output_type": "stream",
     "text": [
      "[LightGBM] [Warning] lambda_l1 is set=0.0007623007287735104, reg_alpha=0.0 will be ignored. Current value: lambda_l1=0.0007623007287735104\n",
      "[LightGBM] [Warning] bagging_fraction is set=0.9992665626715278, subsample=1.0 will be ignored. Current value: bagging_fraction=0.9992665626715278\n",
      "[LightGBM] [Warning] feature_fraction is set=0.3822633837804188, colsample_bytree=1.0 will be ignored. Current value: feature_fraction=0.3822633837804188\n",
      "[LightGBM] [Warning] lambda_l2 is set=0.0008800155389506851, reg_lambda=0.0 will be ignored. Current value: lambda_l2=0.0008800155389506851\n"
     ]
    },
    {
     "name": "stderr",
     "output_type": "stream",
     "text": [
      "\u001b[32m[I 2023-01-31 15:08:50,163]\u001b[0m Trial 89 finished with value: 2.3380394250662935 and parameters: {'feature_fraction': 0.3822633837804188, 'num_leaves': 79, 'bagging_fraction': 0.9992665626715278, 'lambda_l1': 0.0007623007287735104, 'lambda_l2': 0.0008800155389506851, 'n_estimators': 151, 'max_depth': 2}. Best is trial 71 with value: 2.2138158947937234.\u001b[0m\n"
     ]
    },
    {
     "name": "stdout",
     "output_type": "stream",
     "text": [
      "[LightGBM] [Warning] lambda_l1 is set=0.00299440094415833, reg_alpha=0.0 will be ignored. Current value: lambda_l1=0.00299440094415833\n",
      "[LightGBM] [Warning] bagging_fraction is set=0.9492047719908984, subsample=1.0 will be ignored. Current value: bagging_fraction=0.9492047719908984\n",
      "[LightGBM] [Warning] feature_fraction is set=0.34729001152555644, colsample_bytree=1.0 will be ignored. Current value: feature_fraction=0.34729001152555644\n",
      "[LightGBM] [Warning] lambda_l2 is set=0.00014831554940701705, reg_lambda=0.0 will be ignored. Current value: lambda_l2=0.00014831554940701705\n"
     ]
    },
    {
     "name": "stderr",
     "output_type": "stream",
     "text": [
      "\u001b[32m[I 2023-01-31 15:08:50,859]\u001b[0m Trial 90 finished with value: 2.2644679813775985 and parameters: {'feature_fraction': 0.34729001152555644, 'num_leaves': 73, 'bagging_fraction': 0.9492047719908984, 'lambda_l1': 0.00299440094415833, 'lambda_l2': 0.00014831554940701705, 'n_estimators': 173, 'max_depth': 3}. Best is trial 71 with value: 2.2138158947937234.\u001b[0m\n"
     ]
    },
    {
     "name": "stdout",
     "output_type": "stream",
     "text": [
      "[LightGBM] [Warning] lambda_l1 is set=0.0059096598358955674, reg_alpha=0.0 will be ignored. Current value: lambda_l1=0.0059096598358955674\n",
      "[LightGBM] [Warning] bagging_fraction is set=0.9774764082711497, subsample=1.0 will be ignored. Current value: bagging_fraction=0.9774764082711497\n",
      "[LightGBM] [Warning] feature_fraction is set=0.388325714583458, colsample_bytree=1.0 will be ignored. Current value: feature_fraction=0.388325714583458\n",
      "[LightGBM] [Warning] lambda_l2 is set=0.0006654398798617308, reg_lambda=0.0 will be ignored. Current value: lambda_l2=0.0006654398798617308\n"
     ]
    },
    {
     "name": "stderr",
     "output_type": "stream",
     "text": [
      "\u001b[32m[I 2023-01-31 15:08:51,460]\u001b[0m Trial 91 finished with value: 2.233463951125384 and parameters: {'feature_fraction': 0.388325714583458, 'num_leaves': 118, 'bagging_fraction': 0.9774764082711497, 'lambda_l1': 0.0059096598358955674, 'lambda_l2': 0.0006654398798617308, 'n_estimators': 123, 'max_depth': 3}. Best is trial 71 with value: 2.2138158947937234.\u001b[0m\n"
     ]
    },
    {
     "name": "stdout",
     "output_type": "stream",
     "text": [
      "[LightGBM] [Warning] lambda_l1 is set=0.0013606950844097848, reg_alpha=0.0 will be ignored. Current value: lambda_l1=0.0013606950844097848\n",
      "[LightGBM] [Warning] bagging_fraction is set=0.9684542050047736, subsample=1.0 will be ignored. Current value: bagging_fraction=0.9684542050047736\n",
      "[LightGBM] [Warning] feature_fraction is set=0.3218125206467142, colsample_bytree=1.0 will be ignored. Current value: feature_fraction=0.3218125206467142\n",
      "[LightGBM] [Warning] lambda_l2 is set=6.256360562152577e-05, reg_lambda=0.0 will be ignored. Current value: lambda_l2=6.256360562152577e-05\n"
     ]
    },
    {
     "name": "stderr",
     "output_type": "stream",
     "text": [
      "\u001b[32m[I 2023-01-31 15:08:52,155]\u001b[0m Trial 92 finished with value: 2.277480987366232 and parameters: {'feature_fraction': 0.3218125206467142, 'num_leaves': 89, 'bagging_fraction': 0.9684542050047736, 'lambda_l1': 0.0013606950844097848, 'lambda_l2': 6.256360562152577e-05, 'n_estimators': 184, 'max_depth': 3}. Best is trial 71 with value: 2.2138158947937234.\u001b[0m\n"
     ]
    },
    {
     "name": "stdout",
     "output_type": "stream",
     "text": [
      "[LightGBM] [Warning] lambda_l1 is set=0.00034783276018449224, reg_alpha=0.0 will be ignored. Current value: lambda_l1=0.00034783276018449224\n",
      "[LightGBM] [Warning] bagging_fraction is set=0.9998804951312651, subsample=1.0 will be ignored. Current value: bagging_fraction=0.9998804951312651\n",
      "[LightGBM] [Warning] feature_fraction is set=0.3616314318431187, colsample_bytree=1.0 will be ignored. Current value: feature_fraction=0.3616314318431187\n",
      "[LightGBM] [Warning] lambda_l2 is set=0.0002856623574669233, reg_lambda=0.0 will be ignored. Current value: lambda_l2=0.0002856623574669233\n"
     ]
    },
    {
     "name": "stderr",
     "output_type": "stream",
     "text": [
      "\u001b[32m[I 2023-01-31 15:08:52,825]\u001b[0m Trial 93 finished with value: 2.2359909300208134 and parameters: {'feature_fraction': 0.3616314318431187, 'num_leaves': 100, 'bagging_fraction': 0.9998804951312651, 'lambda_l1': 0.00034783276018449224, 'lambda_l2': 0.0002856623574669233, 'n_estimators': 162, 'max_depth': 3}. Best is trial 71 with value: 2.2138158947937234.\u001b[0m\n"
     ]
    },
    {
     "name": "stdout",
     "output_type": "stream",
     "text": [
      "[LightGBM] [Warning] lambda_l1 is set=0.0054641453241806946, reg_alpha=0.0 will be ignored. Current value: lambda_l1=0.0054641453241806946\n",
      "[LightGBM] [Warning] bagging_fraction is set=0.9304943435253542, subsample=1.0 will be ignored. Current value: bagging_fraction=0.9304943435253542\n",
      "[LightGBM] [Warning] feature_fraction is set=0.28751260430604114, colsample_bytree=1.0 will be ignored. Current value: feature_fraction=0.28751260430604114\n",
      "[LightGBM] [Warning] lambda_l2 is set=0.00011599917773357322, reg_lambda=0.0 will be ignored. Current value: lambda_l2=0.00011599917773357322\n"
     ]
    },
    {
     "name": "stderr",
     "output_type": "stream",
     "text": [
      "\u001b[32m[I 2023-01-31 15:08:53,507]\u001b[0m Trial 94 finished with value: 2.2725891259226754 and parameters: {'feature_fraction': 0.28751260430604114, 'num_leaves': 110, 'bagging_fraction': 0.9304943435253542, 'lambda_l1': 0.0054641453241806946, 'lambda_l2': 0.00011599917773357322, 'n_estimators': 192, 'max_depth': 3}. Best is trial 71 with value: 2.2138158947937234.\u001b[0m\n"
     ]
    },
    {
     "name": "stdout",
     "output_type": "stream",
     "text": [
      "[LightGBM] [Warning] lambda_l1 is set=0.008730438902627946, reg_alpha=0.0 will be ignored. Current value: lambda_l1=0.008730438902627946\n",
      "[LightGBM] [Warning] bagging_fraction is set=0.9525537419025173, subsample=1.0 will be ignored. Current value: bagging_fraction=0.9525537419025173\n",
      "[LightGBM] [Warning] feature_fraction is set=0.4063852176311279, colsample_bytree=1.0 will be ignored. Current value: feature_fraction=0.4063852176311279\n",
      "[LightGBM] [Warning] lambda_l2 is set=0.0004767858106351641, reg_lambda=0.0 will be ignored. Current value: lambda_l2=0.0004767858106351641\n"
     ]
    },
    {
     "name": "stderr",
     "output_type": "stream",
     "text": [
      "\u001b[32m[I 2023-01-31 15:08:54,178]\u001b[0m Trial 95 finished with value: 2.2399121937562985 and parameters: {'feature_fraction': 0.4063852176311279, 'num_leaves': 81, 'bagging_fraction': 0.9525537419025173, 'lambda_l1': 0.008730438902627946, 'lambda_l2': 0.0004767858106351641, 'n_estimators': 147, 'max_depth': 3}. Best is trial 71 with value: 2.2138158947937234.\u001b[0m\n"
     ]
    },
    {
     "name": "stdout",
     "output_type": "stream",
     "text": [
      "[LightGBM] [Warning] lambda_l1 is set=0.002301724648902821, reg_alpha=0.0 will be ignored. Current value: lambda_l1=0.002301724648902821\n",
      "[LightGBM] [Warning] bagging_fraction is set=0.9638232506979177, subsample=1.0 will be ignored. Current value: bagging_fraction=0.9638232506979177\n",
      "[LightGBM] [Warning] feature_fraction is set=0.34677662755047584, colsample_bytree=1.0 will be ignored. Current value: feature_fraction=0.34677662755047584\n",
      "[LightGBM] [Warning] lambda_l2 is set=0.00021144628500097113, reg_lambda=0.0 will be ignored. Current value: lambda_l2=0.00021144628500097113\n"
     ]
    },
    {
     "name": "stderr",
     "output_type": "stream",
     "text": [
      "\u001b[32m[I 2023-01-31 15:08:54,784]\u001b[0m Trial 96 finished with value: 2.2725392749863937 and parameters: {'feature_fraction': 0.34677662755047584, 'num_leaves': 95, 'bagging_fraction': 0.9638232506979177, 'lambda_l1': 0.002301724648902821, 'lambda_l2': 0.00021144628500097113, 'n_estimators': 132, 'max_depth': 3}. Best is trial 71 with value: 2.2138158947937234.\u001b[0m\n"
     ]
    },
    {
     "name": "stdout",
     "output_type": "stream",
     "text": [
      "[LightGBM] [Warning] lambda_l1 is set=0.0007192105987317907, reg_alpha=0.0 will be ignored. Current value: lambda_l1=0.0007192105987317907\n",
      "[LightGBM] [Warning] bagging_fraction is set=0.9218578053885021, subsample=1.0 will be ignored. Current value: bagging_fraction=0.9218578053885021\n",
      "[LightGBM] [Warning] feature_fraction is set=0.30551227043439183, colsample_bytree=1.0 will be ignored. Current value: feature_fraction=0.30551227043439183\n",
      "[LightGBM] [Warning] lambda_l2 is set=8.55175975539215e-05, reg_lambda=0.0 will be ignored. Current value: lambda_l2=8.55175975539215e-05\n"
     ]
    },
    {
     "name": "stderr",
     "output_type": "stream",
     "text": [
      "\u001b[32m[I 2023-01-31 15:08:55,453]\u001b[0m Trial 97 finished with value: 2.2674301162602486 and parameters: {'feature_fraction': 0.30551227043439183, 'num_leaves': 72, 'bagging_fraction': 0.9218578053885021, 'lambda_l1': 0.0007192105987317907, 'lambda_l2': 8.55175975539215e-05, 'n_estimators': 180, 'max_depth': 3}. Best is trial 71 with value: 2.2138158947937234.\u001b[0m\n"
     ]
    },
    {
     "name": "stdout",
     "output_type": "stream",
     "text": [
      "[LightGBM] [Warning] lambda_l1 is set=0.0037900117830780675, reg_alpha=0.0 will be ignored. Current value: lambda_l1=0.0037900117830780675\n",
      "[LightGBM] [Warning] bagging_fraction is set=0.985465428054583, subsample=1.0 will be ignored. Current value: bagging_fraction=0.985465428054583\n",
      "[LightGBM] [Warning] feature_fraction is set=0.36717116069550937, colsample_bytree=1.0 will be ignored. Current value: feature_fraction=0.36717116069550937\n",
      "[LightGBM] [Warning] lambda_l2 is set=3.224094071089076e-05, reg_lambda=0.0 will be ignored. Current value: lambda_l2=3.224094071089076e-05\n"
     ]
    },
    {
     "name": "stderr",
     "output_type": "stream",
     "text": [
      "\u001b[32m[I 2023-01-31 15:08:56,284]\u001b[0m Trial 98 finished with value: 2.3255603716264273 and parameters: {'feature_fraction': 0.36717116069550937, 'num_leaves': 87, 'bagging_fraction': 0.985465428054583, 'lambda_l1': 0.0037900117830780675, 'lambda_l2': 3.224094071089076e-05, 'n_estimators': 157, 'max_depth': 4}. Best is trial 71 with value: 2.2138158947937234.\u001b[0m\n"
     ]
    },
    {
     "name": "stdout",
     "output_type": "stream",
     "text": [
      "[LightGBM] [Warning] lambda_l1 is set=0.015939683062408526, reg_alpha=0.0 will be ignored. Current value: lambda_l1=0.015939683062408526\n",
      "[LightGBM] [Warning] bagging_fraction is set=0.9500426090030923, subsample=1.0 will be ignored. Current value: bagging_fraction=0.9500426090030923\n",
      "[LightGBM] [Warning] feature_fraction is set=0.25535541788305316, colsample_bytree=1.0 will be ignored. Current value: feature_fraction=0.25535541788305316\n",
      "[LightGBM] [Warning] lambda_l2 is set=0.001643576335291024, reg_lambda=0.0 will be ignored. Current value: lambda_l2=0.001643576335291024\n"
     ]
    },
    {
     "name": "stderr",
     "output_type": "stream",
     "text": [
      "\u001b[32m[I 2023-01-31 15:08:56,899]\u001b[0m Trial 99 finished with value: 2.253498281630091 and parameters: {'feature_fraction': 0.25535541788305316, 'num_leaves': 99, 'bagging_fraction': 0.9500426090030923, 'lambda_l1': 0.015939683062408526, 'lambda_l2': 0.001643576335291024, 'n_estimators': 167, 'max_depth': 3}. Best is trial 71 with value: 2.2138158947937234.\u001b[0m\n"
     ]
    },
    {
     "name": "stdout",
     "output_type": "stream",
     "text": [
      "Number of finished trials: 100\n",
      "Best trial: {'feature_fraction': 0.5149826559638707, 'num_leaves': 107, 'bagging_fraction': 0.7513809090238428, 'lambda_l1': 0.009813529830327747, 'lambda_l2': 1.4406358962458598e-06, 'n_estimators': 236, 'max_depth': 3}\n",
      "Best RMSE: 2.2138158947937234\n"
     ]
    }
   ],
   "source": [
    "def objective(trial):\n",
    "    \"\"\"\n",
    "    https://medium.com/optuna/lightgbm-tuner-new-optuna-integration-for-hyperparameter-optimization-8b7095e99258\n",
    "    \"\"\"\n",
    "    params = {\n",
    "\n",
    "#         'bagging_freq': trial.suggest_int('bagging_freq', 1, 7),\n",
    "#         'min_child_samples': trial.suggest_int('min_child_samples', 5, 100),\n",
    "        'feature_fraction': trial.suggest_float('feature_fraction', 0.0, 1.0),\n",
    "        'num_leaves': trial.suggest_int('num_leaves', 2, 256),\n",
    "        'bagging_fraction': trial.suggest_float('bagging_fraction', 0.4, 1.0),\n",
    "        'lambda_l1': trial.suggest_float('lambda_l1', 1e-8, 10.0, log=True),\n",
    "        'lambda_l2': trial.suggest_float('lambda_l2', 1e-8, 10.0, log=True),\n",
    "#         'min_samples_leaf': trial.suggest_int('min_samples_leaf', 1, 10),\n",
    "        'n_estimators': trial.suggest_int('n_estimators', 10, 300),\n",
    "        'max_depth': trial.suggest_int('max_depth', 2, 6),\n",
    "        'deterministic': True,\n",
    "        'random_state': 42\n",
    "    }\n",
    "    \n",
    "    model2 = lgbm.LGBMRegressor(**params)\n",
    "    model2.fit(xtrain_svd, ytrain)\n",
    "\n",
    "    # predict\n",
    "    ypred2 = model2.predict(xval_svd)\n",
    "\n",
    "    # validate\n",
    "    df_eval2 = pd.DataFrame()\n",
    "    df_eval2['Env'] = xval_svd.index.get_level_values(0)\n",
    "    df_eval2['ytrue'] = list(yval)\n",
    "    df_eval2['ypred'] = ypred2\n",
    "    rmse_per_group2 = df_eval2.groupby('Env').apply(lambda x: mean_squared_error(x['ytrue'], x['ypred'], squared=False))\n",
    "    # print(rmse_per_group2)\n",
    "\n",
    "    rmse2 = sum(rmse_per_group2) / len(rmse_per_group2)\n",
    "    return rmse2\n",
    "\n",
    "\n",
    "study = optuna.create_study(direction='minimize', sampler=optuna.samplers.TPESampler(seed=42))\n",
    "study.optimize(objective, n_trials=100)\n",
    " \n",
    "print('Number of finished trials:', len(study.trials))\n",
    "print('Best trial:', study.best_trial.params)\n",
    "print('Best RMSE:', study.best_value)"
   ]
  },
  {
   "cell_type": "code",
   "execution_count": null,
   "id": "daacc60f",
   "metadata": {},
   "outputs": [],
   "source": [
    "# Best RMSE: 2.2441845469191484\n",
    "# Best RMSE: 2.233798525370981\n",
    "# Best RMSE: 2.20834202664147\n",
    "\n",
    "# Best RMSE: 2.190665536741229\n",
    "# additive matrix\n",
    "# svd: 100 components\n",
    "# add yield lagged features\n",
    "# {'feature_fraction': 0.4953070809776986, 'num_leaves': 247, 'bagging_fraction': 0.9866458243098336, \n",
    "# 'lambda_l1': 3.680660098838679, 'lambda_l2': 1.1632141265265e-06, 'n_estimators': 232, 'max_depth': 3}"
   ]
  },
  {
   "cell_type": "markdown",
   "id": "568cf60d",
   "metadata": {},
   "source": [
    "### Best model"
   ]
  },
  {
   "cell_type": "code",
   "execution_count": 248,
   "id": "e873086a",
   "metadata": {},
   "outputs": [
    {
     "name": "stdout",
     "output_type": "stream",
     "text": [
      "[LightGBM] [Warning] lambda_l1 is set=3.680660098838679, reg_alpha=0.0 will be ignored. Current value: lambda_l1=3.680660098838679\n",
      "[LightGBM] [Warning] bagging_fraction is set=0.9866458243098336, subsample=1.0 will be ignored. Current value: bagging_fraction=0.9866458243098336\n",
      "[LightGBM] [Warning] feature_fraction is set=0.4953070809776986, colsample_bytree=1.0 will be ignored. Current value: feature_fraction=0.4953070809776986\n",
      "[LightGBM] [Warning] lambda_l2 is set=1.1632141265265e-06, reg_lambda=0.0 will be ignored. Current value: lambda_l2=1.1632141265265e-06\n",
      "Env\n",
      "COH1_2021    3.569341\n",
      "DEH1_2021    2.021064\n",
      "GAH1_2021    2.155276\n",
      "GAH2_2021    2.258557\n",
      "GEH1_2021    2.282111\n",
      "IAH1_2021    2.359202\n",
      "IAH2_2021    1.357010\n",
      "IAH3_2021    2.043989\n",
      "IAH4_2021    1.667005\n",
      "ILH1_2021    1.588165\n",
      "INH1_2021    1.726374\n",
      "MIH1_2021    1.333580\n",
      "MNH1_2021    1.527768\n",
      "NCH1_2021    1.831821\n",
      "NEH1_2021    2.994718\n",
      "NEH2_2021    1.984332\n",
      "NEH3_2021    3.153148\n",
      "NYH2_2021    2.233233\n",
      "NYH3_2021    1.990596\n",
      "NYS1_2021    2.008782\n",
      "SCH1_2021    2.183096\n",
      "TXH1_2021    1.687226\n",
      "TXH2_2021    1.781160\n",
      "TXH3_2021    4.304008\n",
      "WIH1_2021    2.431581\n",
      "WIH2_2021    2.571849\n",
      "WIH3_2021    2.102978\n",
      "dtype: float64\n",
      "RMSE: 2.190665536741229\n",
      "CPU times: user 948 ms, sys: 4.97 ms, total: 953 ms\n",
      "Wall time: 958 ms\n"
     ]
    }
   ],
   "source": [
    "%%time\n",
    "\n",
    "best_params = {'feature_fraction': 0.4953070809776986, 'num_leaves': 247, \n",
    "               'bagging_fraction': 0.9866458243098336, 'lambda_l1': 3.680660098838679, \n",
    "               'lambda_l2': 1.1632141265265e-06, 'n_estimators': 232, 'max_depth': 3}\n",
    "model2 = lgbm.LGBMRegressor(random_state=42, **best_params)\n",
    "model2.fit(xtrain_svd, ytrain)\n",
    "\n",
    "# predict\n",
    "ypred2 = model2.predict(xval_svd)\n",
    "\n",
    "# validate\n",
    "df_eval2 = pd.DataFrame()\n",
    "df_eval2['Env'] = xval_svd.index.get_level_values(0)\n",
    "df_eval2['Hybrid'] = xval_svd.index.get_level_values(1)\n",
    "df_eval2['ytrue'] = list(yval)\n",
    "df_eval2['ypred'] = ypred2\n",
    "rmse_per_group2 = df_eval2.groupby('Env').apply(lambda x: mean_squared_error(x['ytrue'], x['ypred'], squared=False))\n",
    "print(rmse_per_group2)\n",
    "\n",
    "rmse2 = sum(rmse_per_group2) / len(rmse_per_group2)\n",
    "print('RMSE:', rmse2)"
   ]
  },
  {
   "cell_type": "code",
   "execution_count": 249,
   "id": "598a71be",
   "metadata": {},
   "outputs": [
    {
     "name": "stdout",
     "output_type": "stream",
     "text": [
      "0.264448150747395\n"
     ]
    },
    {
     "data": {
      "image/png": "[encoded data removed]",
      "text/plain": [
       "<Figure size 432x432 with 1 Axes>"
      ]
     },
     "metadata": {
      "needs_background": "light"
     },
     "output_type": "display_data"
    }
   ],
   "source": [
    "print(r2_score(df_eval2['ytrue'], df_eval2['ypred']))\n",
    "df_eval2.plot.scatter('ytrue', 'ypred', figsize=(6, 6));"
   ]
  },
  {
   "cell_type": "code",
   "execution_count": 256,
   "id": "ff0b754c",
   "metadata": {},
   "outputs": [],
   "source": [
    "df_eval2.to_csv('../output/oof_kronecker_additive.csv', index=False)"
   ]
  },
  {
   "cell_type": "code",
   "execution_count": 257,
   "id": "c5fbaf60",
   "metadata": {},
   "outputs": [
    {
     "name": "stdout",
     "output_type": "stream",
     "text": [
      "total 97G\r\n",
      "-rw-r--r-- 1 igorf samuelbf 4.1G Jan 26 23:55 genotype.csv\r\n",
      "-rw-r--r-- 1 igorf samuelbf 418M Jan 28 16:41 genotype.parquet\r\n",
      "-rw-r--r-- 1 igorf samuelbf 445M Jan 26 19:36 kinship_additive.txt\r\n",
      "-rw-r--r-- 1 igorf samuelbf  42G Jan 30 19:45 kronecker_additive_train.parquet\r\n",
      "-rw-r--r-- 1 igorf samuelbf  51G Jan 30 20:16 kronecker_additive_val.parquet\r\n",
      "-rw-r--r-- 1 igorf samuelbf 839K Jan 31 19:25 oof_kronecker_additive.csv\r\n",
      "-rw-r--r-- 1 igorf samuelbf 839K Jan 31 15:34 oof_kronecker.csv\r\n",
      "-rw-r--r-- 1 igorf samuelbf 908K Jan 31 15:32 oof_solution_4th_sub.csv\r\n",
      "-rw-r--r-- 1 igorf samuelbf 581K Jan 26 21:49 submission_4th_sub.csv\r\n",
      "-rw-r--r-- 1 igorf samuelbf  17K Jan 26 19:23 test_weather_features.csv\r\n",
      "-rw-r--r-- 1 igorf samuelbf  18K Jan 26 19:23 train_weather_features.csv\r\n",
      "-rw-r--r-- 1 igorf samuelbf  19K Jan 26 19:23 val_weather_features.csv\r\n",
      "-rw-r--r-- 1 igorf samuelbf  14M Jan 26 21:49 xtest.csv\r\n",
      "-rw-r--r-- 1 igorf samuelbf  13M Jan 26 21:49 xtrain.csv\r\n",
      "-rw-r--r-- 1 igorf samuelbf  16M Jan 26 21:49 xval.csv\r\n",
      "-rw-r--r-- 1 igorf samuelbf 496K Jan 26 21:49 ytrain.csv\r\n",
      "-rw-r--r-- 1 igorf samuelbf 596K Jan 26 21:49 yval.csv\r\n"
     ]
    }
   ],
   "source": [
    "!ls -lh ../output/"
   ]
  },
  {
   "cell_type": "code",
   "execution_count": 260,
   "id": "fd074dfa",
   "metadata": {},
   "outputs": [
    {
     "data": {
      "text/html": [
       "<div>\n",
       "<style scoped>\n",
       "    .dataframe tbody tr th:only-of-type {\n",
       "        vertical-align: middle;\n",
       "    }\n",
       "\n",
       "    .dataframe tbody tr th {\n",
       "        vertical-align: top;\n",
       "    }\n",
       "\n",
       "    .dataframe thead th {\n",
       "        text-align: right;\n",
       "    }\n",
       "</style>\n",
       "<table border=\"1\" class=\"dataframe\">\n",
       "  <thead>\n",
       "    <tr style=\"text-align: right;\">\n",
       "      <th></th>\n",
       "      <th>0</th>\n",
       "      <th>1</th>\n",
       "    </tr>\n",
       "    <tr>\n",
       "      <th>Env</th>\n",
       "      <th></th>\n",
       "      <th></th>\n",
       "    </tr>\n",
       "  </thead>\n",
       "  <tbody>\n",
       "    <tr>\n",
       "      <th>COH1_2021</th>\n",
       "      <td>1.793489</td>\n",
       "      <td>3.569341</td>\n",
       "    </tr>\n",
       "    <tr>\n",
       "      <th>DEH1_2021</th>\n",
       "      <td>1.895454</td>\n",
       "      <td>2.021064</td>\n",
       "    </tr>\n",
       "    <tr>\n",
       "      <th>GAH1_2021</th>\n",
       "      <td>2.224581</td>\n",
       "      <td>2.155276</td>\n",
       "    </tr>\n",
       "    <tr>\n",
       "      <th>GAH2_2021</th>\n",
       "      <td>3.889274</td>\n",
       "      <td>2.258557</td>\n",
       "    </tr>\n",
       "    <tr>\n",
       "      <th>GEH1_2021</th>\n",
       "      <td>2.938794</td>\n",
       "      <td>2.282111</td>\n",
       "    </tr>\n",
       "    <tr>\n",
       "      <th>IAH1_2021</th>\n",
       "      <td>2.048194</td>\n",
       "      <td>2.359202</td>\n",
       "    </tr>\n",
       "    <tr>\n",
       "      <th>IAH2_2021</th>\n",
       "      <td>1.617109</td>\n",
       "      <td>1.357010</td>\n",
       "    </tr>\n",
       "    <tr>\n",
       "      <th>IAH3_2021</th>\n",
       "      <td>2.195066</td>\n",
       "      <td>2.043989</td>\n",
       "    </tr>\n",
       "    <tr>\n",
       "      <th>IAH4_2021</th>\n",
       "      <td>1.381125</td>\n",
       "      <td>1.667005</td>\n",
       "    </tr>\n",
       "    <tr>\n",
       "      <th>ILH1_2021</th>\n",
       "      <td>1.656795</td>\n",
       "      <td>1.588165</td>\n",
       "    </tr>\n",
       "    <tr>\n",
       "      <th>INH1_2021</th>\n",
       "      <td>1.499748</td>\n",
       "      <td>1.726374</td>\n",
       "    </tr>\n",
       "    <tr>\n",
       "      <th>MIH1_2021</th>\n",
       "      <td>2.685846</td>\n",
       "      <td>1.333580</td>\n",
       "    </tr>\n",
       "    <tr>\n",
       "      <th>MNH1_2021</th>\n",
       "      <td>1.441850</td>\n",
       "      <td>1.527768</td>\n",
       "    </tr>\n",
       "    <tr>\n",
       "      <th>NCH1_2021</th>\n",
       "      <td>1.539255</td>\n",
       "      <td>1.831821</td>\n",
       "    </tr>\n",
       "    <tr>\n",
       "      <th>NEH1_2021</th>\n",
       "      <td>3.195944</td>\n",
       "      <td>2.994718</td>\n",
       "    </tr>\n",
       "    <tr>\n",
       "      <th>NEH2_2021</th>\n",
       "      <td>1.704865</td>\n",
       "      <td>1.984332</td>\n",
       "    </tr>\n",
       "    <tr>\n",
       "      <th>NEH3_2021</th>\n",
       "      <td>2.632649</td>\n",
       "      <td>3.153148</td>\n",
       "    </tr>\n",
       "    <tr>\n",
       "      <th>NYH2_2021</th>\n",
       "      <td>1.968293</td>\n",
       "      <td>2.233233</td>\n",
       "    </tr>\n",
       "    <tr>\n",
       "      <th>NYH3_2021</th>\n",
       "      <td>1.935547</td>\n",
       "      <td>1.990596</td>\n",
       "    </tr>\n",
       "    <tr>\n",
       "      <th>NYS1_2021</th>\n",
       "      <td>1.677938</td>\n",
       "      <td>2.008782</td>\n",
       "    </tr>\n",
       "    <tr>\n",
       "      <th>SCH1_2021</th>\n",
       "      <td>2.295421</td>\n",
       "      <td>2.183096</td>\n",
       "    </tr>\n",
       "    <tr>\n",
       "      <th>TXH1_2021</th>\n",
       "      <td>2.287405</td>\n",
       "      <td>1.687226</td>\n",
       "    </tr>\n",
       "    <tr>\n",
       "      <th>TXH2_2021</th>\n",
       "      <td>2.236641</td>\n",
       "      <td>1.781160</td>\n",
       "    </tr>\n",
       "    <tr>\n",
       "      <th>TXH3_2021</th>\n",
       "      <td>4.937793</td>\n",
       "      <td>4.304008</td>\n",
       "    </tr>\n",
       "    <tr>\n",
       "      <th>WIH1_2021</th>\n",
       "      <td>3.007042</td>\n",
       "      <td>2.431581</td>\n",
       "    </tr>\n",
       "    <tr>\n",
       "      <th>WIH2_2021</th>\n",
       "      <td>2.434749</td>\n",
       "      <td>2.571849</td>\n",
       "    </tr>\n",
       "    <tr>\n",
       "      <th>WIH3_2021</th>\n",
       "      <td>2.287231</td>\n",
       "      <td>2.102978</td>\n",
       "    </tr>\n",
       "  </tbody>\n",
       "</table>\n",
       "</div>"
      ],
      "text/plain": [
       "                  0         1\n",
       "Env                          \n",
       "COH1_2021  1.793489  3.569341\n",
       "DEH1_2021  1.895454  2.021064\n",
       "GAH1_2021  2.224581  2.155276\n",
       "GAH2_2021  3.889274  2.258557\n",
       "GEH1_2021  2.938794  2.282111\n",
       "IAH1_2021  2.048194  2.359202\n",
       "IAH2_2021  1.617109  1.357010\n",
       "IAH3_2021  2.195066  2.043989\n",
       "IAH4_2021  1.381125  1.667005\n",
       "ILH1_2021  1.656795  1.588165\n",
       "INH1_2021  1.499748  1.726374\n",
       "MIH1_2021  2.685846  1.333580\n",
       "MNH1_2021  1.441850  1.527768\n",
       "NCH1_2021  1.539255  1.831821\n",
       "NEH1_2021  3.195944  2.994718\n",
       "NEH2_2021  1.704865  1.984332\n",
       "NEH3_2021  2.632649  3.153148\n",
       "NYH2_2021  1.968293  2.233233\n",
       "NYH3_2021  1.935547  1.990596\n",
       "NYS1_2021  1.677938  2.008782\n",
       "SCH1_2021  2.295421  2.183096\n",
       "TXH1_2021  2.287405  1.687226\n",
       "TXH2_2021  2.236641  1.781160\n",
       "TXH3_2021  4.937793  4.304008\n",
       "WIH1_2021  3.007042  2.431581\n",
       "WIH2_2021  2.434749  2.571849\n",
       "WIH3_2021  2.287231  2.102978"
      ]
     },
     "execution_count": 260,
     "metadata": {},
     "output_type": "execute_result"
    }
   ],
   "source": [
    "pd.concat([rmse_per_group, rmse_per_group2], axis=1)"
   ]
  }
 ],
 "metadata": {
  "kernelspec": {
   "display_name": "Python 3 (ipykernel)",
   "language": "python",
   "name": "python3"
  },
  "language_info": {
   "codemirror_mode": {
    "name": "ipython",
    "version": 3
   },
   "file_extension": ".py",
   "mimetype": "text/x-python",
   "name": "python",
   "nbconvert_exporter": "python",
   "pygments_lexer": "ipython3",
   "version": "3.9.6"
  }
 },
 "nbformat": 4,
 "nbformat_minor": 5
}
