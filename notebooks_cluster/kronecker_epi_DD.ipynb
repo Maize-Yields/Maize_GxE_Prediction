{
 "cells": [
  {
   "cell_type": "code",
   "execution_count": 1,
   "id": "babc01c7",
   "metadata": {},
   "outputs": [],
   "source": [
    "# !pip3 install pyarrow\n",
    "# !pip3 install lightgbm\n",
    "# !pip3 install optuna"
   ]
  },
  {
   "cell_type": "code",
   "execution_count": 2,
   "id": "ce58b9cd",
   "metadata": {},
   "outputs": [],
   "source": [
    "import pandas as pd\n",
    "import lightgbm as lgbm\n",
    "from sklearn.metrics import mean_squared_error, r2_score\n",
    "from IPython.display import display"
   ]
  },
  {
   "cell_type": "code",
   "execution_count": 3,
   "id": "023f0bf0",
   "metadata": {},
   "outputs": [],
   "source": [
    "def preprocess(df, year):\n",
    "    df[['Env', 'Hybrid']] = df['id'].str.split(':', expand=True)\n",
    "    df['Env'] += \"_\" + str(year)\n",
    "    df = df.drop('id', axis=1).set_index(['Env', 'Hybrid'])\n",
    "    return df"
   ]
  },
  {
   "cell_type": "code",
   "execution_count": 4,
   "id": "52786c92",
   "metadata": {},
   "outputs": [
    {
     "name": "stdout",
     "output_type": "stream",
     "text": [
      "CPU times: user 14min 48s, sys: 3min 5s, total: 17min 54s\n",
      "Wall time: 18min 3s\n"
     ]
    }
   ],
   "source": [
    "%%time\n",
    "\n",
    "ytrain = pd.read_csv('../output/ytrain.csv').set_index(['Env', 'Hybrid'])\n",
    "xtrain = pd.read_parquet('../output/kronecker_epi_DD_train.parquet')\n",
    "xtrain = preprocess(xtrain, year=2020)\n",
    "xtrain = xtrain.merge(ytrain, on=['Env', 'Hybrid'], how='inner')\n",
    "ytrain = xtrain['Yield_Mg_ha']\n",
    "del xtrain['Yield_Mg_ha']\n",
    "\n",
    "yval = pd.read_csv('../output/yval.csv').set_index(['Env', 'Hybrid'])\n",
    "xval = pd.read_parquet('../output/kronecker_epi_DD_val.parquet')\n",
    "xval = preprocess(xval, year=2021)\n",
    "xval = xval.merge(yval, on=['Env', 'Hybrid'], how='inner')\n",
    "yval = xval['Yield_Mg_ha']\n",
    "del xval['Yield_Mg_ha']"
   ]
  },
  {
   "cell_type": "code",
   "execution_count": 5,
   "id": "0e9ee4a6",
   "metadata": {},
   "outputs": [
    {
     "data": {
      "text/html": [
       "<div>\n",
       "<style scoped>\n",
       "    .dataframe tbody tr th:only-of-type {\n",
       "        vertical-align: middle;\n",
       "    }\n",
       "\n",
       "    .dataframe tbody tr th {\n",
       "        vertical-align: top;\n",
       "    }\n",
       "\n",
       "    .dataframe thead th {\n",
       "        text-align: right;\n",
       "    }\n",
       "</style>\n",
       "<table border=\"1\" class=\"dataframe\">\n",
       "  <thead>\n",
       "    <tr style=\"text-align: right;\">\n",
       "      <th></th>\n",
       "      <th></th>\n",
       "      <th>weather_station_lat.2369.DK3IIH6</th>\n",
       "      <th>weather_station_lat.2369.PHN82</th>\n",
       "      <th>weather_station_lat.2369.PHZ51</th>\n",
       "      <th>weather_station_lat.2FACC.DK3IIH6</th>\n",
       "      <th>weather_station_lat.4N506.DK3IIH6</th>\n",
       "      <th>weather_station_lat.6F629.DK3IIH6</th>\n",
       "      <th>weather_station_lat.740.PB80</th>\n",
       "      <th>weather_station_lat.740.PHB47</th>\n",
       "      <th>weather_station_lat.A632.DK3IIH6</th>\n",
       "      <th>weather_station_lat.A634.DK3IIH6</th>\n",
       "      <th>...</th>\n",
       "      <th>T2M_min_fall_X_weather_station_lat.Z036E0057.PHZ51</th>\n",
       "      <th>T2M_min_fall_X_weather_station_lat.Z037E0012.DK3IIH6</th>\n",
       "      <th>T2M_min_fall_X_weather_station_lat.Z037E0012.LH162</th>\n",
       "      <th>T2M_min_fall_X_weather_station_lat.Z037E0012.PHZ51</th>\n",
       "      <th>T2M_min_fall_X_weather_station_lat.Z037E0054.DK3IIH6</th>\n",
       "      <th>T2M_min_fall_X_weather_station_lat.Z037E0054.LH162</th>\n",
       "      <th>T2M_min_fall_X_weather_station_lat.Z037E0054.PHZ51</th>\n",
       "      <th>T2M_min_fall_X_weather_station_lat.Z038E0057.DK3IIH6</th>\n",
       "      <th>T2M_min_fall_X_weather_station_lat.Z038E0057.LH162</th>\n",
       "      <th>T2M_min_fall_X_weather_station_lat.Z038E0057.PHZ51</th>\n",
       "    </tr>\n",
       "    <tr>\n",
       "      <th>Env</th>\n",
       "      <th>Hybrid</th>\n",
       "      <th></th>\n",
       "      <th></th>\n",
       "      <th></th>\n",
       "      <th></th>\n",
       "      <th></th>\n",
       "      <th></th>\n",
       "      <th></th>\n",
       "      <th></th>\n",
       "      <th></th>\n",
       "      <th></th>\n",
       "      <th></th>\n",
       "      <th></th>\n",
       "      <th></th>\n",
       "      <th></th>\n",
       "      <th></th>\n",
       "      <th></th>\n",
       "      <th></th>\n",
       "      <th></th>\n",
       "      <th></th>\n",
       "      <th></th>\n",
       "      <th></th>\n",
       "    </tr>\n",
       "  </thead>\n",
       "  <tbody>\n",
       "    <tr>\n",
       "      <th rowspan=\"5\" valign=\"top\">DEH1_2020</th>\n",
       "      <th>B14A/H95</th>\n",
       "      <td>0.000066</td>\n",
       "      <td>0.001501</td>\n",
       "      <td>0.012171</td>\n",
       "      <td>0.002416</td>\n",
       "      <td>0.002644</td>\n",
       "      <td>0.001394</td>\n",
       "      <td>0.005837</td>\n",
       "      <td>0.011089</td>\n",
       "      <td>0.001166</td>\n",
       "      <td>0.002159</td>\n",
       "      <td>...</td>\n",
       "      <td>0.024413</td>\n",
       "      <td>0.003055</td>\n",
       "      <td>0.008532</td>\n",
       "      <td>0.025549</td>\n",
       "      <td>0.001539</td>\n",
       "      <td>0.010320</td>\n",
       "      <td>0.026581</td>\n",
       "      <td>0.003241</td>\n",
       "      <td>0.006948</td>\n",
       "      <td>0.028590</td>\n",
       "    </tr>\n",
       "    <tr>\n",
       "      <th>B14A/MO17</th>\n",
       "      <td>0.019086</td>\n",
       "      <td>0.027402</td>\n",
       "      <td>0.111940</td>\n",
       "      <td>0.001855</td>\n",
       "      <td>0.014349</td>\n",
       "      <td>0.013199</td>\n",
       "      <td>0.882067</td>\n",
       "      <td>0.007542</td>\n",
       "      <td>0.008267</td>\n",
       "      <td>0.001784</td>\n",
       "      <td>...</td>\n",
       "      <td>0.180161</td>\n",
       "      <td>0.076634</td>\n",
       "      <td>0.481756</td>\n",
       "      <td>0.240495</td>\n",
       "      <td>0.066570</td>\n",
       "      <td>0.501368</td>\n",
       "      <td>0.256295</td>\n",
       "      <td>0.077890</td>\n",
       "      <td>0.495152</td>\n",
       "      <td>0.281786</td>\n",
       "    </tr>\n",
       "    <tr>\n",
       "      <th>B14A/OH43</th>\n",
       "      <td>0.006919</td>\n",
       "      <td>0.002716</td>\n",
       "      <td>0.012258</td>\n",
       "      <td>0.000009</td>\n",
       "      <td>0.012784</td>\n",
       "      <td>0.000980</td>\n",
       "      <td>0.001843</td>\n",
       "      <td>0.013963</td>\n",
       "      <td>0.006549</td>\n",
       "      <td>0.004186</td>\n",
       "      <td>...</td>\n",
       "      <td>0.020416</td>\n",
       "      <td>0.028696</td>\n",
       "      <td>0.006350</td>\n",
       "      <td>0.032009</td>\n",
       "      <td>0.017772</td>\n",
       "      <td>0.007836</td>\n",
       "      <td>0.023178</td>\n",
       "      <td>0.025742</td>\n",
       "      <td>0.007667</td>\n",
       "      <td>0.025512</td>\n",
       "    </tr>\n",
       "    <tr>\n",
       "      <th>B37/H95</th>\n",
       "      <td>0.037608</td>\n",
       "      <td>0.054923</td>\n",
       "      <td>0.036838</td>\n",
       "      <td>0.004375</td>\n",
       "      <td>0.013699</td>\n",
       "      <td>0.024827</td>\n",
       "      <td>0.030125</td>\n",
       "      <td>0.040616</td>\n",
       "      <td>0.009723</td>\n",
       "      <td>0.003956</td>\n",
       "      <td>...</td>\n",
       "      <td>0.093974</td>\n",
       "      <td>0.070806</td>\n",
       "      <td>0.040789</td>\n",
       "      <td>0.097188</td>\n",
       "      <td>0.073483</td>\n",
       "      <td>0.039650</td>\n",
       "      <td>0.082428</td>\n",
       "      <td>0.069376</td>\n",
       "      <td>0.034541</td>\n",
       "      <td>0.111459</td>\n",
       "    </tr>\n",
       "    <tr>\n",
       "      <th>B37/MO17</th>\n",
       "      <td>0.066114</td>\n",
       "      <td>0.050840</td>\n",
       "      <td>0.064654</td>\n",
       "      <td>0.019343</td>\n",
       "      <td>0.045999</td>\n",
       "      <td>0.032468</td>\n",
       "      <td>0.023369</td>\n",
       "      <td>9.291706</td>\n",
       "      <td>0.027733</td>\n",
       "      <td>0.016620</td>\n",
       "      <td>...</td>\n",
       "      <td>0.189692</td>\n",
       "      <td>0.221462</td>\n",
       "      <td>0.001567</td>\n",
       "      <td>0.232871</td>\n",
       "      <td>0.209049</td>\n",
       "      <td>0.000007</td>\n",
       "      <td>0.215165</td>\n",
       "      <td>0.242430</td>\n",
       "      <td>0.000244</td>\n",
       "      <td>0.211236</td>\n",
       "    </tr>\n",
       "    <tr>\n",
       "      <th>...</th>\n",
       "      <th>...</th>\n",
       "      <td>...</td>\n",
       "      <td>...</td>\n",
       "      <td>...</td>\n",
       "      <td>...</td>\n",
       "      <td>...</td>\n",
       "      <td>...</td>\n",
       "      <td>...</td>\n",
       "      <td>...</td>\n",
       "      <td>...</td>\n",
       "      <td>...</td>\n",
       "      <td>...</td>\n",
       "      <td>...</td>\n",
       "      <td>...</td>\n",
       "      <td>...</td>\n",
       "      <td>...</td>\n",
       "      <td>...</td>\n",
       "      <td>...</td>\n",
       "      <td>...</td>\n",
       "      <td>...</td>\n",
       "      <td>...</td>\n",
       "      <td>...</td>\n",
       "    </tr>\n",
       "    <tr>\n",
       "      <th rowspan=\"5\" valign=\"top\">WIH3_2020</th>\n",
       "      <th>W10004_1123/PHP02</th>\n",
       "      <td>0.102522</td>\n",
       "      <td>0.191140</td>\n",
       "      <td>0.023652</td>\n",
       "      <td>0.000061</td>\n",
       "      <td>0.051705</td>\n",
       "      <td>0.030747</td>\n",
       "      <td>0.006904</td>\n",
       "      <td>0.000211</td>\n",
       "      <td>0.363591</td>\n",
       "      <td>0.228313</td>\n",
       "      <td>...</td>\n",
       "      <td>-0.035699</td>\n",
       "      <td>-0.283746</td>\n",
       "      <td>-0.002792</td>\n",
       "      <td>-0.013704</td>\n",
       "      <td>-0.216394</td>\n",
       "      <td>-0.001116</td>\n",
       "      <td>-0.018640</td>\n",
       "      <td>-0.309509</td>\n",
       "      <td>-0.000622</td>\n",
       "      <td>-0.011250</td>\n",
       "    </tr>\n",
       "    <tr>\n",
       "      <th>W10004_1140/PHP02</th>\n",
       "      <td>0.152754</td>\n",
       "      <td>0.384603</td>\n",
       "      <td>0.085095</td>\n",
       "      <td>0.004083</td>\n",
       "      <td>0.127558</td>\n",
       "      <td>0.170044</td>\n",
       "      <td>0.034723</td>\n",
       "      <td>0.028440</td>\n",
       "      <td>0.131237</td>\n",
       "      <td>0.069614</td>\n",
       "      <td>...</td>\n",
       "      <td>-0.440383</td>\n",
       "      <td>-0.653624</td>\n",
       "      <td>-0.065563</td>\n",
       "      <td>-0.434010</td>\n",
       "      <td>-0.665345</td>\n",
       "      <td>-0.049727</td>\n",
       "      <td>-0.420013</td>\n",
       "      <td>-0.717682</td>\n",
       "      <td>-0.064499</td>\n",
       "      <td>-0.413652</td>\n",
       "    </tr>\n",
       "    <tr>\n",
       "      <th>W10004_1143/PHP02</th>\n",
       "      <td>0.049357</td>\n",
       "      <td>0.036129</td>\n",
       "      <td>0.071117</td>\n",
       "      <td>0.100550</td>\n",
       "      <td>0.061279</td>\n",
       "      <td>0.330113</td>\n",
       "      <td>0.011621</td>\n",
       "      <td>0.000003</td>\n",
       "      <td>0.110466</td>\n",
       "      <td>0.065472</td>\n",
       "      <td>...</td>\n",
       "      <td>-0.373063</td>\n",
       "      <td>-0.339694</td>\n",
       "      <td>-0.033528</td>\n",
       "      <td>-0.399890</td>\n",
       "      <td>-0.375490</td>\n",
       "      <td>-0.042697</td>\n",
       "      <td>-0.394757</td>\n",
       "      <td>-0.387811</td>\n",
       "      <td>-0.030441</td>\n",
       "      <td>-0.379793</td>\n",
       "    </tr>\n",
       "    <tr>\n",
       "      <th>W10004_1146/PHP02</th>\n",
       "      <td>0.319984</td>\n",
       "      <td>0.788487</td>\n",
       "      <td>0.067091</td>\n",
       "      <td>0.014238</td>\n",
       "      <td>0.335755</td>\n",
       "      <td>0.130675</td>\n",
       "      <td>0.035337</td>\n",
       "      <td>0.014357</td>\n",
       "      <td>0.416782</td>\n",
       "      <td>0.285215</td>\n",
       "      <td>...</td>\n",
       "      <td>-0.211926</td>\n",
       "      <td>-1.259008</td>\n",
       "      <td>-0.001466</td>\n",
       "      <td>-0.252707</td>\n",
       "      <td>-1.127908</td>\n",
       "      <td>-0.001471</td>\n",
       "      <td>-0.249352</td>\n",
       "      <td>-1.281408</td>\n",
       "      <td>-0.000729</td>\n",
       "      <td>-0.246643</td>\n",
       "    </tr>\n",
       "    <tr>\n",
       "      <th>W10004_1156/PHP02</th>\n",
       "      <td>0.307950</td>\n",
       "      <td>0.573545</td>\n",
       "      <td>0.106272</td>\n",
       "      <td>0.024463</td>\n",
       "      <td>0.094817</td>\n",
       "      <td>0.099873</td>\n",
       "      <td>0.030797</td>\n",
       "      <td>0.013165</td>\n",
       "      <td>0.168592</td>\n",
       "      <td>0.163295</td>\n",
       "      <td>...</td>\n",
       "      <td>-0.343425</td>\n",
       "      <td>-0.715337</td>\n",
       "      <td>-0.063692</td>\n",
       "      <td>-0.358885</td>\n",
       "      <td>-0.672732</td>\n",
       "      <td>-0.053008</td>\n",
       "      <td>-0.365400</td>\n",
       "      <td>-0.692466</td>\n",
       "      <td>-0.049757</td>\n",
       "      <td>-0.388751</td>\n",
       "    </tr>\n",
       "  </tbody>\n",
       "</table>\n",
       "<p>11277 rows × 413952 columns</p>\n",
       "</div>"
      ],
      "text/plain": [
       "                             weather_station_lat.2369.DK3IIH6  \\\n",
       "Env       Hybrid                                                \n",
       "DEH1_2020 B14A/H95                                   0.000066   \n",
       "          B14A/MO17                                  0.019086   \n",
       "          B14A/OH43                                  0.006919   \n",
       "          B37/H95                                    0.037608   \n",
       "          B37/MO17                                   0.066114   \n",
       "...                                                       ...   \n",
       "WIH3_2020 W10004_1123/PHP02                          0.102522   \n",
       "          W10004_1140/PHP02                          0.152754   \n",
       "          W10004_1143/PHP02                          0.049357   \n",
       "          W10004_1146/PHP02                          0.319984   \n",
       "          W10004_1156/PHP02                          0.307950   \n",
       "\n",
       "                             weather_station_lat.2369.PHN82  \\\n",
       "Env       Hybrid                                              \n",
       "DEH1_2020 B14A/H95                                 0.001501   \n",
       "          B14A/MO17                                0.027402   \n",
       "          B14A/OH43                                0.002716   \n",
       "          B37/H95                                  0.054923   \n",
       "          B37/MO17                                 0.050840   \n",
       "...                                                     ...   \n",
       "WIH3_2020 W10004_1123/PHP02                        0.191140   \n",
       "          W10004_1140/PHP02                        0.384603   \n",
       "          W10004_1143/PHP02                        0.036129   \n",
       "          W10004_1146/PHP02                        0.788487   \n",
       "          W10004_1156/PHP02                        0.573545   \n",
       "\n",
       "                             weather_station_lat.2369.PHZ51  \\\n",
       "Env       Hybrid                                              \n",
       "DEH1_2020 B14A/H95                                 0.012171   \n",
       "          B14A/MO17                                0.111940   \n",
       "          B14A/OH43                                0.012258   \n",
       "          B37/H95                                  0.036838   \n",
       "          B37/MO17                                 0.064654   \n",
       "...                                                     ...   \n",
       "WIH3_2020 W10004_1123/PHP02                        0.023652   \n",
       "          W10004_1140/PHP02                        0.085095   \n",
       "          W10004_1143/PHP02                        0.071117   \n",
       "          W10004_1146/PHP02                        0.067091   \n",
       "          W10004_1156/PHP02                        0.106272   \n",
       "\n",
       "                             weather_station_lat.2FACC.DK3IIH6  \\\n",
       "Env       Hybrid                                                 \n",
       "DEH1_2020 B14A/H95                                    0.002416   \n",
       "          B14A/MO17                                   0.001855   \n",
       "          B14A/OH43                                   0.000009   \n",
       "          B37/H95                                     0.004375   \n",
       "          B37/MO17                                    0.019343   \n",
       "...                                                        ...   \n",
       "WIH3_2020 W10004_1123/PHP02                           0.000061   \n",
       "          W10004_1140/PHP02                           0.004083   \n",
       "          W10004_1143/PHP02                           0.100550   \n",
       "          W10004_1146/PHP02                           0.014238   \n",
       "          W10004_1156/PHP02                           0.024463   \n",
       "\n",
       "                             weather_station_lat.4N506.DK3IIH6  \\\n",
       "Env       Hybrid                                                 \n",
       "DEH1_2020 B14A/H95                                    0.002644   \n",
       "          B14A/MO17                                   0.014349   \n",
       "          B14A/OH43                                   0.012784   \n",
       "          B37/H95                                     0.013699   \n",
       "          B37/MO17                                    0.045999   \n",
       "...                                                        ...   \n",
       "WIH3_2020 W10004_1123/PHP02                           0.051705   \n",
       "          W10004_1140/PHP02                           0.127558   \n",
       "          W10004_1143/PHP02                           0.061279   \n",
       "          W10004_1146/PHP02                           0.335755   \n",
       "          W10004_1156/PHP02                           0.094817   \n",
       "\n",
       "                             weather_station_lat.6F629.DK3IIH6  \\\n",
       "Env       Hybrid                                                 \n",
       "DEH1_2020 B14A/H95                                    0.001394   \n",
       "          B14A/MO17                                   0.013199   \n",
       "          B14A/OH43                                   0.000980   \n",
       "          B37/H95                                     0.024827   \n",
       "          B37/MO17                                    0.032468   \n",
       "...                                                        ...   \n",
       "WIH3_2020 W10004_1123/PHP02                           0.030747   \n",
       "          W10004_1140/PHP02                           0.170044   \n",
       "          W10004_1143/PHP02                           0.330113   \n",
       "          W10004_1146/PHP02                           0.130675   \n",
       "          W10004_1156/PHP02                           0.099873   \n",
       "\n",
       "                             weather_station_lat.740.PB80  \\\n",
       "Env       Hybrid                                            \n",
       "DEH1_2020 B14A/H95                               0.005837   \n",
       "          B14A/MO17                              0.882067   \n",
       "          B14A/OH43                              0.001843   \n",
       "          B37/H95                                0.030125   \n",
       "          B37/MO17                               0.023369   \n",
       "...                                                   ...   \n",
       "WIH3_2020 W10004_1123/PHP02                      0.006904   \n",
       "          W10004_1140/PHP02                      0.034723   \n",
       "          W10004_1143/PHP02                      0.011621   \n",
       "          W10004_1146/PHP02                      0.035337   \n",
       "          W10004_1156/PHP02                      0.030797   \n",
       "\n",
       "                             weather_station_lat.740.PHB47  \\\n",
       "Env       Hybrid                                             \n",
       "DEH1_2020 B14A/H95                                0.011089   \n",
       "          B14A/MO17                               0.007542   \n",
       "          B14A/OH43                               0.013963   \n",
       "          B37/H95                                 0.040616   \n",
       "          B37/MO17                                9.291706   \n",
       "...                                                    ...   \n",
       "WIH3_2020 W10004_1123/PHP02                       0.000211   \n",
       "          W10004_1140/PHP02                       0.028440   \n",
       "          W10004_1143/PHP02                       0.000003   \n",
       "          W10004_1146/PHP02                       0.014357   \n",
       "          W10004_1156/PHP02                       0.013165   \n",
       "\n",
       "                             weather_station_lat.A632.DK3IIH6  \\\n",
       "Env       Hybrid                                                \n",
       "DEH1_2020 B14A/H95                                   0.001166   \n",
       "          B14A/MO17                                  0.008267   \n",
       "          B14A/OH43                                  0.006549   \n",
       "          B37/H95                                    0.009723   \n",
       "          B37/MO17                                   0.027733   \n",
       "...                                                       ...   \n",
       "WIH3_2020 W10004_1123/PHP02                          0.363591   \n",
       "          W10004_1140/PHP02                          0.131237   \n",
       "          W10004_1143/PHP02                          0.110466   \n",
       "          W10004_1146/PHP02                          0.416782   \n",
       "          W10004_1156/PHP02                          0.168592   \n",
       "\n",
       "                             weather_station_lat.A634.DK3IIH6  ...  \\\n",
       "Env       Hybrid                                               ...   \n",
       "DEH1_2020 B14A/H95                                   0.002159  ...   \n",
       "          B14A/MO17                                  0.001784  ...   \n",
       "          B14A/OH43                                  0.004186  ...   \n",
       "          B37/H95                                    0.003956  ...   \n",
       "          B37/MO17                                   0.016620  ...   \n",
       "...                                                       ...  ...   \n",
       "WIH3_2020 W10004_1123/PHP02                          0.228313  ...   \n",
       "          W10004_1140/PHP02                          0.069614  ...   \n",
       "          W10004_1143/PHP02                          0.065472  ...   \n",
       "          W10004_1146/PHP02                          0.285215  ...   \n",
       "          W10004_1156/PHP02                          0.163295  ...   \n",
       "\n",
       "                             T2M_min_fall_X_weather_station_lat.Z036E0057.PHZ51  \\\n",
       "Env       Hybrid                                                                  \n",
       "DEH1_2020 B14A/H95                                                    0.024413    \n",
       "          B14A/MO17                                                   0.180161    \n",
       "          B14A/OH43                                                   0.020416    \n",
       "          B37/H95                                                     0.093974    \n",
       "          B37/MO17                                                    0.189692    \n",
       "...                                                                        ...    \n",
       "WIH3_2020 W10004_1123/PHP02                                          -0.035699    \n",
       "          W10004_1140/PHP02                                          -0.440383    \n",
       "          W10004_1143/PHP02                                          -0.373063    \n",
       "          W10004_1146/PHP02                                          -0.211926    \n",
       "          W10004_1156/PHP02                                          -0.343425    \n",
       "\n",
       "                             T2M_min_fall_X_weather_station_lat.Z037E0012.DK3IIH6  \\\n",
       "Env       Hybrid                                                                    \n",
       "DEH1_2020 B14A/H95                                                    0.003055      \n",
       "          B14A/MO17                                                   0.076634      \n",
       "          B14A/OH43                                                   0.028696      \n",
       "          B37/H95                                                     0.070806      \n",
       "          B37/MO17                                                    0.221462      \n",
       "...                                                                        ...      \n",
       "WIH3_2020 W10004_1123/PHP02                                          -0.283746      \n",
       "          W10004_1140/PHP02                                          -0.653624      \n",
       "          W10004_1143/PHP02                                          -0.339694      \n",
       "          W10004_1146/PHP02                                          -1.259008      \n",
       "          W10004_1156/PHP02                                          -0.715337      \n",
       "\n",
       "                             T2M_min_fall_X_weather_station_lat.Z037E0012.LH162  \\\n",
       "Env       Hybrid                                                                  \n",
       "DEH1_2020 B14A/H95                                                    0.008532    \n",
       "          B14A/MO17                                                   0.481756    \n",
       "          B14A/OH43                                                   0.006350    \n",
       "          B37/H95                                                     0.040789    \n",
       "          B37/MO17                                                    0.001567    \n",
       "...                                                                        ...    \n",
       "WIH3_2020 W10004_1123/PHP02                                          -0.002792    \n",
       "          W10004_1140/PHP02                                          -0.065563    \n",
       "          W10004_1143/PHP02                                          -0.033528    \n",
       "          W10004_1146/PHP02                                          -0.001466    \n",
       "          W10004_1156/PHP02                                          -0.063692    \n",
       "\n",
       "                             T2M_min_fall_X_weather_station_lat.Z037E0012.PHZ51  \\\n",
       "Env       Hybrid                                                                  \n",
       "DEH1_2020 B14A/H95                                                    0.025549    \n",
       "          B14A/MO17                                                   0.240495    \n",
       "          B14A/OH43                                                   0.032009    \n",
       "          B37/H95                                                     0.097188    \n",
       "          B37/MO17                                                    0.232871    \n",
       "...                                                                        ...    \n",
       "WIH3_2020 W10004_1123/PHP02                                          -0.013704    \n",
       "          W10004_1140/PHP02                                          -0.434010    \n",
       "          W10004_1143/PHP02                                          -0.399890    \n",
       "          W10004_1146/PHP02                                          -0.252707    \n",
       "          W10004_1156/PHP02                                          -0.358885    \n",
       "\n",
       "                             T2M_min_fall_X_weather_station_lat.Z037E0054.DK3IIH6  \\\n",
       "Env       Hybrid                                                                    \n",
       "DEH1_2020 B14A/H95                                                    0.001539      \n",
       "          B14A/MO17                                                   0.066570      \n",
       "          B14A/OH43                                                   0.017772      \n",
       "          B37/H95                                                     0.073483      \n",
       "          B37/MO17                                                    0.209049      \n",
       "...                                                                        ...      \n",
       "WIH3_2020 W10004_1123/PHP02                                          -0.216394      \n",
       "          W10004_1140/PHP02                                          -0.665345      \n",
       "          W10004_1143/PHP02                                          -0.375490      \n",
       "          W10004_1146/PHP02                                          -1.127908      \n",
       "          W10004_1156/PHP02                                          -0.672732      \n",
       "\n",
       "                             T2M_min_fall_X_weather_station_lat.Z037E0054.LH162  \\\n",
       "Env       Hybrid                                                                  \n",
       "DEH1_2020 B14A/H95                                                    0.010320    \n",
       "          B14A/MO17                                                   0.501368    \n",
       "          B14A/OH43                                                   0.007836    \n",
       "          B37/H95                                                     0.039650    \n",
       "          B37/MO17                                                    0.000007    \n",
       "...                                                                        ...    \n",
       "WIH3_2020 W10004_1123/PHP02                                          -0.001116    \n",
       "          W10004_1140/PHP02                                          -0.049727    \n",
       "          W10004_1143/PHP02                                          -0.042697    \n",
       "          W10004_1146/PHP02                                          -0.001471    \n",
       "          W10004_1156/PHP02                                          -0.053008    \n",
       "\n",
       "                             T2M_min_fall_X_weather_station_lat.Z037E0054.PHZ51  \\\n",
       "Env       Hybrid                                                                  \n",
       "DEH1_2020 B14A/H95                                                    0.026581    \n",
       "          B14A/MO17                                                   0.256295    \n",
       "          B14A/OH43                                                   0.023178    \n",
       "          B37/H95                                                     0.082428    \n",
       "          B37/MO17                                                    0.215165    \n",
       "...                                                                        ...    \n",
       "WIH3_2020 W10004_1123/PHP02                                          -0.018640    \n",
       "          W10004_1140/PHP02                                          -0.420013    \n",
       "          W10004_1143/PHP02                                          -0.394757    \n",
       "          W10004_1146/PHP02                                          -0.249352    \n",
       "          W10004_1156/PHP02                                          -0.365400    \n",
       "\n",
       "                             T2M_min_fall_X_weather_station_lat.Z038E0057.DK3IIH6  \\\n",
       "Env       Hybrid                                                                    \n",
       "DEH1_2020 B14A/H95                                                    0.003241      \n",
       "          B14A/MO17                                                   0.077890      \n",
       "          B14A/OH43                                                   0.025742      \n",
       "          B37/H95                                                     0.069376      \n",
       "          B37/MO17                                                    0.242430      \n",
       "...                                                                        ...      \n",
       "WIH3_2020 W10004_1123/PHP02                                          -0.309509      \n",
       "          W10004_1140/PHP02                                          -0.717682      \n",
       "          W10004_1143/PHP02                                          -0.387811      \n",
       "          W10004_1146/PHP02                                          -1.281408      \n",
       "          W10004_1156/PHP02                                          -0.692466      \n",
       "\n",
       "                             T2M_min_fall_X_weather_station_lat.Z038E0057.LH162  \\\n",
       "Env       Hybrid                                                                  \n",
       "DEH1_2020 B14A/H95                                                    0.006948    \n",
       "          B14A/MO17                                                   0.495152    \n",
       "          B14A/OH43                                                   0.007667    \n",
       "          B37/H95                                                     0.034541    \n",
       "          B37/MO17                                                    0.000244    \n",
       "...                                                                        ...    \n",
       "WIH3_2020 W10004_1123/PHP02                                          -0.000622    \n",
       "          W10004_1140/PHP02                                          -0.064499    \n",
       "          W10004_1143/PHP02                                          -0.030441    \n",
       "          W10004_1146/PHP02                                          -0.000729    \n",
       "          W10004_1156/PHP02                                          -0.049757    \n",
       "\n",
       "                             T2M_min_fall_X_weather_station_lat.Z038E0057.PHZ51  \n",
       "Env       Hybrid                                                                 \n",
       "DEH1_2020 B14A/H95                                                    0.028590   \n",
       "          B14A/MO17                                                   0.281786   \n",
       "          B14A/OH43                                                   0.025512   \n",
       "          B37/H95                                                     0.111459   \n",
       "          B37/MO17                                                    0.211236   \n",
       "...                                                                        ...   \n",
       "WIH3_2020 W10004_1123/PHP02                                          -0.011250   \n",
       "          W10004_1140/PHP02                                          -0.413652   \n",
       "          W10004_1143/PHP02                                          -0.379793   \n",
       "          W10004_1146/PHP02                                          -0.246643   \n",
       "          W10004_1156/PHP02                                          -0.388751   \n",
       "\n",
       "[11277 rows x 413952 columns]"
      ]
     },
     "execution_count": 5,
     "metadata": {},
     "output_type": "execute_result"
    }
   ],
   "source": [
    "xtrain"
   ]
  },
  {
   "cell_type": "markdown",
   "id": "e674f3cb",
   "metadata": {},
   "source": [
    "### Training"
   ]
  },
  {
   "cell_type": "code",
   "execution_count": 6,
   "id": "87ce3bbc",
   "metadata": {},
   "outputs": [],
   "source": [
    "# %%time\n",
    "\n",
    "# NCOLS = xtrain.shape[1]\n",
    "# print('features:', NCOLS)\n",
    "\n",
    "# best_params = {'feature_fraction': 0.4953070809776986, 'num_leaves': 247, \n",
    "#                'bagging_fraction': 0.9866458243098336, 'lambda_l1': 3.680660098838679, \n",
    "#                'lambda_l2': 1.1632141265265e-06, 'n_estimators': 232, 'max_depth': 3}\n",
    "# model = lgbm.LGBMRegressor(random_state=42, **best_params)\n",
    "# model.fit(xtrain.iloc[:, :NCOLS], ytrain)\n",
    "\n",
    "# # predict\n",
    "# ypred = model.predict(xval.iloc[:, :NCOLS])\n",
    "\n",
    "# # validate\n",
    "# df_eval = pd.DataFrame()\n",
    "# df_eval['Env'] = xval.index.get_level_values(0)\n",
    "# df_eval['ytrue'] = list(yval)\n",
    "# df_eval['ypred'] = ypred\n",
    "# rmse_per_group = df_eval.groupby('Env').apply(lambda x: mean_squared_error(x['ytrue'], x['ypred'], squared=False))\n",
    "# print(rmse_per_group)\n",
    "\n",
    "# rmse = sum(rmse_per_group) / len(rmse_per_group)\n",
    "# print('RMSE:', rmse)"
   ]
  },
  {
   "cell_type": "code",
   "execution_count": 7,
   "id": "b8f8cde0",
   "metadata": {},
   "outputs": [],
   "source": [
    "# print(r2_score(df_eval['ytrue'], df_eval['ypred']))\n",
    "# df_eval.plot.scatter('ytrue', 'ypred', figsize=(6, 6));"
   ]
  },
  {
   "cell_type": "code",
   "execution_count": 8,
   "id": "722fc063",
   "metadata": {},
   "outputs": [],
   "source": [
    "from sklearn.decomposition import TruncatedSVD"
   ]
  },
  {
   "cell_type": "code",
   "execution_count": 31,
   "id": "bec224ef",
   "metadata": {},
   "outputs": [
    {
     "name": "stdout",
     "output_type": "stream",
     "text": [
      "0.8192256649193372\n",
      "CPU times: user 18min 40s, sys: 14.1 s, total: 18min 54s\n",
      "Wall time: 18min 58s\n"
     ]
    }
   ],
   "source": [
    "%%time\n",
    "\n",
    "n_components = 500\n",
    "svd = TruncatedSVD(n_components=n_components, random_state=42)\n",
    "svd.fit(xtrain)\n",
    "print(svd.explained_variance_ratio_.sum())"
   ]
  },
  {
   "cell_type": "code",
   "execution_count": 32,
   "id": "59dece5d",
   "metadata": {},
   "outputs": [
    {
     "name": "stdout",
     "output_type": "stream",
     "text": [
      "CPU times: user 2min 59s, sys: 8.86 ms, total: 2min 59s\n",
      "Wall time: 3min\n"
     ]
    }
   ],
   "source": [
    "%%time\n",
    "\n",
    "xtrain_svd = pd.DataFrame(svd.transform(xtrain), index=xtrain.index)\n",
    "xtrain_svd.columns = [f'kron_svd{i}' for i in range(n_components)]\n",
    "\n",
    "xval_svd = pd.DataFrame(svd.transform(xval), index=xval.index)\n",
    "xval_svd.columns = [f'kron_svd{i}' for i in range(n_components)]"
   ]
  },
  {
   "cell_type": "code",
   "execution_count": 33,
   "id": "1940988c",
   "metadata": {},
   "outputs": [],
   "source": [
    "xtrain_lag = pd.read_csv('../output/xtrain.csv', usecols=lambda x: 'yield_lag' in x or x in ['Env', 'Hybrid']).set_index(['Env', 'Hybrid'])\n",
    "xval_lag = pd.read_csv('../output/xval.csv', usecols=lambda x: 'yield_lag' in x or x in ['Env', 'Hybrid']).set_index(['Env', 'Hybrid'])\n",
    "xtrain_svd = xtrain_svd.merge(xtrain_lag, on=['Env', 'Hybrid'], how='inner')\n",
    "xval_svd = xval_svd.merge(xval_lag, on=['Env', 'Hybrid'], how='inner')"
   ]
  },
  {
   "cell_type": "code",
   "execution_count": 34,
   "id": "a67b89c8",
   "metadata": {},
   "outputs": [
    {
     "data": {
      "text/html": [
       "<div>\n",
       "<style scoped>\n",
       "    .dataframe tbody tr th:only-of-type {\n",
       "        vertical-align: middle;\n",
       "    }\n",
       "\n",
       "    .dataframe tbody tr th {\n",
       "        vertical-align: top;\n",
       "    }\n",
       "\n",
       "    .dataframe thead th {\n",
       "        text-align: right;\n",
       "    }\n",
       "</style>\n",
       "<table border=\"1\" class=\"dataframe\">\n",
       "  <thead>\n",
       "    <tr style=\"text-align: right;\">\n",
       "      <th></th>\n",
       "      <th></th>\n",
       "      <th>kron_svd0</th>\n",
       "      <th>kron_svd1</th>\n",
       "      <th>kron_svd2</th>\n",
       "      <th>kron_svd3</th>\n",
       "      <th>kron_svd4</th>\n",
       "      <th>kron_svd5</th>\n",
       "      <th>kron_svd6</th>\n",
       "      <th>kron_svd7</th>\n",
       "      <th>kron_svd8</th>\n",
       "      <th>kron_svd9</th>\n",
       "      <th>...</th>\n",
       "      <th>kron_svd496</th>\n",
       "      <th>kron_svd497</th>\n",
       "      <th>kron_svd498</th>\n",
       "      <th>kron_svd499</th>\n",
       "      <th>mean_yield_lag_2</th>\n",
       "      <th>min_yield_lag_2</th>\n",
       "      <th>p1_yield_lag_2</th>\n",
       "      <th>q1_yield_lag_2</th>\n",
       "      <th>q3_yield_lag_2</th>\n",
       "      <th>p90_yield_lag_2</th>\n",
       "    </tr>\n",
       "    <tr>\n",
       "      <th>Env</th>\n",
       "      <th>Hybrid</th>\n",
       "      <th></th>\n",
       "      <th></th>\n",
       "      <th></th>\n",
       "      <th></th>\n",
       "      <th></th>\n",
       "      <th></th>\n",
       "      <th></th>\n",
       "      <th></th>\n",
       "      <th></th>\n",
       "      <th></th>\n",
       "      <th></th>\n",
       "      <th></th>\n",
       "      <th></th>\n",
       "      <th></th>\n",
       "      <th></th>\n",
       "      <th></th>\n",
       "      <th></th>\n",
       "      <th></th>\n",
       "      <th></th>\n",
       "      <th></th>\n",
       "      <th></th>\n",
       "    </tr>\n",
       "  </thead>\n",
       "  <tbody>\n",
       "    <tr>\n",
       "      <th rowspan=\"5\" valign=\"top\">DEH1_2020</th>\n",
       "      <th>B14A/H95</th>\n",
       "      <td>31.062005</td>\n",
       "      <td>11.519208</td>\n",
       "      <td>24.925608</td>\n",
       "      <td>8.536405</td>\n",
       "      <td>11.895186</td>\n",
       "      <td>57.473938</td>\n",
       "      <td>0.674779</td>\n",
       "      <td>3.084213</td>\n",
       "      <td>37.613658</td>\n",
       "      <td>-2.899462</td>\n",
       "      <td>...</td>\n",
       "      <td>-10.631505</td>\n",
       "      <td>-2.643726</td>\n",
       "      <td>-4.159507</td>\n",
       "      <td>-1.316196</td>\n",
       "      <td>10.056423</td>\n",
       "      <td>0.725594</td>\n",
       "      <td>2.516387</td>\n",
       "      <td>8.232294</td>\n",
       "      <td>11.94657</td>\n",
       "      <td>13.500556</td>\n",
       "    </tr>\n",
       "    <tr>\n",
       "      <th>B14A/MO17</th>\n",
       "      <td>148.315943</td>\n",
       "      <td>38.944967</td>\n",
       "      <td>93.175006</td>\n",
       "      <td>46.752351</td>\n",
       "      <td>78.224297</td>\n",
       "      <td>180.980091</td>\n",
       "      <td>-12.820731</td>\n",
       "      <td>-9.061439</td>\n",
       "      <td>176.060961</td>\n",
       "      <td>-14.517423</td>\n",
       "      <td>...</td>\n",
       "      <td>14.309485</td>\n",
       "      <td>12.817731</td>\n",
       "      <td>10.703952</td>\n",
       "      <td>7.822974</td>\n",
       "      <td>10.056423</td>\n",
       "      <td>0.725594</td>\n",
       "      <td>2.516387</td>\n",
       "      <td>8.232294</td>\n",
       "      <td>11.94657</td>\n",
       "      <td>13.500556</td>\n",
       "    </tr>\n",
       "    <tr>\n",
       "      <th>B14A/OH43</th>\n",
       "      <td>55.335939</td>\n",
       "      <td>27.858750</td>\n",
       "      <td>75.332532</td>\n",
       "      <td>12.356843</td>\n",
       "      <td>19.026774</td>\n",
       "      <td>84.435580</td>\n",
       "      <td>-1.851921</td>\n",
       "      <td>4.352019</td>\n",
       "      <td>52.521669</td>\n",
       "      <td>-4.044724</td>\n",
       "      <td>...</td>\n",
       "      <td>-7.953957</td>\n",
       "      <td>-1.648535</td>\n",
       "      <td>-3.656967</td>\n",
       "      <td>-0.325722</td>\n",
       "      <td>10.056423</td>\n",
       "      <td>0.725594</td>\n",
       "      <td>2.516387</td>\n",
       "      <td>8.232294</td>\n",
       "      <td>11.94657</td>\n",
       "      <td>13.500556</td>\n",
       "    </tr>\n",
       "    <tr>\n",
       "      <th>B37/H95</th>\n",
       "      <td>77.142166</td>\n",
       "      <td>54.118841</td>\n",
       "      <td>50.280988</td>\n",
       "      <td>21.891793</td>\n",
       "      <td>39.158020</td>\n",
       "      <td>133.055443</td>\n",
       "      <td>-8.167243</td>\n",
       "      <td>7.540720</td>\n",
       "      <td>43.932385</td>\n",
       "      <td>-3.315137</td>\n",
       "      <td>...</td>\n",
       "      <td>18.072062</td>\n",
       "      <td>21.807978</td>\n",
       "      <td>-5.865823</td>\n",
       "      <td>-11.445374</td>\n",
       "      <td>10.056423</td>\n",
       "      <td>0.725594</td>\n",
       "      <td>2.516387</td>\n",
       "      <td>8.232294</td>\n",
       "      <td>11.94657</td>\n",
       "      <td>13.500556</td>\n",
       "    </tr>\n",
       "    <tr>\n",
       "      <th>B37/MO17</th>\n",
       "      <td>271.799827</td>\n",
       "      <td>103.787376</td>\n",
       "      <td>138.474896</td>\n",
       "      <td>70.255232</td>\n",
       "      <td>52.863758</td>\n",
       "      <td>320.731352</td>\n",
       "      <td>39.405834</td>\n",
       "      <td>-14.344401</td>\n",
       "      <td>183.263269</td>\n",
       "      <td>-15.499910</td>\n",
       "      <td>...</td>\n",
       "      <td>12.742887</td>\n",
       "      <td>9.486140</td>\n",
       "      <td>-10.932046</td>\n",
       "      <td>-9.590945</td>\n",
       "      <td>10.056423</td>\n",
       "      <td>0.725594</td>\n",
       "      <td>2.516387</td>\n",
       "      <td>8.232294</td>\n",
       "      <td>11.94657</td>\n",
       "      <td>13.500556</td>\n",
       "    </tr>\n",
       "    <tr>\n",
       "      <th>...</th>\n",
       "      <th>...</th>\n",
       "      <td>...</td>\n",
       "      <td>...</td>\n",
       "      <td>...</td>\n",
       "      <td>...</td>\n",
       "      <td>...</td>\n",
       "      <td>...</td>\n",
       "      <td>...</td>\n",
       "      <td>...</td>\n",
       "      <td>...</td>\n",
       "      <td>...</td>\n",
       "      <td>...</td>\n",
       "      <td>...</td>\n",
       "      <td>...</td>\n",
       "      <td>...</td>\n",
       "      <td>...</td>\n",
       "      <td>...</td>\n",
       "      <td>...</td>\n",
       "      <td>...</td>\n",
       "      <td>...</td>\n",
       "      <td>...</td>\n",
       "      <td>...</td>\n",
       "    </tr>\n",
       "    <tr>\n",
       "      <th rowspan=\"5\" valign=\"top\">WIH3_2020</th>\n",
       "      <th>W10004_1123/PHP02</th>\n",
       "      <td>237.474437</td>\n",
       "      <td>1403.132216</td>\n",
       "      <td>-177.749785</td>\n",
       "      <td>-84.387525</td>\n",
       "      <td>-59.323886</td>\n",
       "      <td>-1013.244686</td>\n",
       "      <td>217.682401</td>\n",
       "      <td>-192.498540</td>\n",
       "      <td>1808.161491</td>\n",
       "      <td>269.721373</td>\n",
       "      <td>...</td>\n",
       "      <td>127.473764</td>\n",
       "      <td>-105.806845</td>\n",
       "      <td>54.175214</td>\n",
       "      <td>160.232472</td>\n",
       "      <td>9.010208</td>\n",
       "      <td>1.129919</td>\n",
       "      <td>2.885705</td>\n",
       "      <td>7.453720</td>\n",
       "      <td>10.67770</td>\n",
       "      <td>12.001967</td>\n",
       "    </tr>\n",
       "    <tr>\n",
       "      <th>W10004_1140/PHP02</th>\n",
       "      <td>548.577009</td>\n",
       "      <td>2303.099765</td>\n",
       "      <td>-261.912540</td>\n",
       "      <td>-143.700342</td>\n",
       "      <td>61.472955</td>\n",
       "      <td>307.487639</td>\n",
       "      <td>-25.779047</td>\n",
       "      <td>16.386156</td>\n",
       "      <td>117.000646</td>\n",
       "      <td>805.751021</td>\n",
       "      <td>...</td>\n",
       "      <td>96.751344</td>\n",
       "      <td>-137.584279</td>\n",
       "      <td>201.710158</td>\n",
       "      <td>187.768549</td>\n",
       "      <td>9.010208</td>\n",
       "      <td>1.129919</td>\n",
       "      <td>2.885705</td>\n",
       "      <td>7.453720</td>\n",
       "      <td>10.67770</td>\n",
       "      <td>12.001967</td>\n",
       "    </tr>\n",
       "    <tr>\n",
       "      <th>W10004_1143/PHP02</th>\n",
       "      <td>426.371092</td>\n",
       "      <td>1785.898928</td>\n",
       "      <td>-203.605479</td>\n",
       "      <td>-110.482701</td>\n",
       "      <td>56.037537</td>\n",
       "      <td>165.575212</td>\n",
       "      <td>-59.542245</td>\n",
       "      <td>16.598932</td>\n",
       "      <td>-320.939740</td>\n",
       "      <td>679.062925</td>\n",
       "      <td>...</td>\n",
       "      <td>-90.347569</td>\n",
       "      <td>46.805518</td>\n",
       "      <td>152.677390</td>\n",
       "      <td>-82.865706</td>\n",
       "      <td>9.010208</td>\n",
       "      <td>1.129919</td>\n",
       "      <td>2.885705</td>\n",
       "      <td>7.453720</td>\n",
       "      <td>10.67770</td>\n",
       "      <td>12.001967</td>\n",
       "    </tr>\n",
       "    <tr>\n",
       "      <th>W10004_1146/PHP02</th>\n",
       "      <td>543.728034</td>\n",
       "      <td>2562.667281</td>\n",
       "      <td>-302.400722</td>\n",
       "      <td>-157.575643</td>\n",
       "      <td>-1.284683</td>\n",
       "      <td>-304.091562</td>\n",
       "      <td>110.590192</td>\n",
       "      <td>-29.904510</td>\n",
       "      <td>245.997515</td>\n",
       "      <td>894.978622</td>\n",
       "      <td>...</td>\n",
       "      <td>-123.775786</td>\n",
       "      <td>-30.873204</td>\n",
       "      <td>-82.421683</td>\n",
       "      <td>-73.508551</td>\n",
       "      <td>9.010208</td>\n",
       "      <td>1.129919</td>\n",
       "      <td>2.885705</td>\n",
       "      <td>7.453720</td>\n",
       "      <td>10.67770</td>\n",
       "      <td>12.001967</td>\n",
       "    </tr>\n",
       "    <tr>\n",
       "      <th>W10004_1156/PHP02</th>\n",
       "      <td>380.379157</td>\n",
       "      <td>1564.464278</td>\n",
       "      <td>-186.541368</td>\n",
       "      <td>-102.356569</td>\n",
       "      <td>39.809947</td>\n",
       "      <td>-192.854943</td>\n",
       "      <td>84.351118</td>\n",
       "      <td>-33.492003</td>\n",
       "      <td>325.643174</td>\n",
       "      <td>535.028922</td>\n",
       "      <td>...</td>\n",
       "      <td>-86.310013</td>\n",
       "      <td>-89.147532</td>\n",
       "      <td>-11.277675</td>\n",
       "      <td>3.321518</td>\n",
       "      <td>9.010208</td>\n",
       "      <td>1.129919</td>\n",
       "      <td>2.885705</td>\n",
       "      <td>7.453720</td>\n",
       "      <td>10.67770</td>\n",
       "      <td>12.001967</td>\n",
       "    </tr>\n",
       "  </tbody>\n",
       "</table>\n",
       "<p>11277 rows × 506 columns</p>\n",
       "</div>"
      ],
      "text/plain": [
       "                              kron_svd0    kron_svd1   kron_svd2   kron_svd3  \\\n",
       "Env       Hybrid                                                               \n",
       "DEH1_2020 B14A/H95            31.062005    11.519208   24.925608    8.536405   \n",
       "          B14A/MO17          148.315943    38.944967   93.175006   46.752351   \n",
       "          B14A/OH43           55.335939    27.858750   75.332532   12.356843   \n",
       "          B37/H95             77.142166    54.118841   50.280988   21.891793   \n",
       "          B37/MO17           271.799827   103.787376  138.474896   70.255232   \n",
       "...                                 ...          ...         ...         ...   \n",
       "WIH3_2020 W10004_1123/PHP02  237.474437  1403.132216 -177.749785  -84.387525   \n",
       "          W10004_1140/PHP02  548.577009  2303.099765 -261.912540 -143.700342   \n",
       "          W10004_1143/PHP02  426.371092  1785.898928 -203.605479 -110.482701   \n",
       "          W10004_1146/PHP02  543.728034  2562.667281 -302.400722 -157.575643   \n",
       "          W10004_1156/PHP02  380.379157  1564.464278 -186.541368 -102.356569   \n",
       "\n",
       "                             kron_svd4    kron_svd5   kron_svd6   kron_svd7  \\\n",
       "Env       Hybrid                                                              \n",
       "DEH1_2020 B14A/H95           11.895186    57.473938    0.674779    3.084213   \n",
       "          B14A/MO17          78.224297   180.980091  -12.820731   -9.061439   \n",
       "          B14A/OH43          19.026774    84.435580   -1.851921    4.352019   \n",
       "          B37/H95            39.158020   133.055443   -8.167243    7.540720   \n",
       "          B37/MO17           52.863758   320.731352   39.405834  -14.344401   \n",
       "...                                ...          ...         ...         ...   \n",
       "WIH3_2020 W10004_1123/PHP02 -59.323886 -1013.244686  217.682401 -192.498540   \n",
       "          W10004_1140/PHP02  61.472955   307.487639  -25.779047   16.386156   \n",
       "          W10004_1143/PHP02  56.037537   165.575212  -59.542245   16.598932   \n",
       "          W10004_1146/PHP02  -1.284683  -304.091562  110.590192  -29.904510   \n",
       "          W10004_1156/PHP02  39.809947  -192.854943   84.351118  -33.492003   \n",
       "\n",
       "                               kron_svd8   kron_svd9  ...  kron_svd496  \\\n",
       "Env       Hybrid                                      ...                \n",
       "DEH1_2020 B14A/H95             37.613658   -2.899462  ...   -10.631505   \n",
       "          B14A/MO17           176.060961  -14.517423  ...    14.309485   \n",
       "          B14A/OH43            52.521669   -4.044724  ...    -7.953957   \n",
       "          B37/H95              43.932385   -3.315137  ...    18.072062   \n",
       "          B37/MO17            183.263269  -15.499910  ...    12.742887   \n",
       "...                                  ...         ...  ...          ...   \n",
       "WIH3_2020 W10004_1123/PHP02  1808.161491  269.721373  ...   127.473764   \n",
       "          W10004_1140/PHP02   117.000646  805.751021  ...    96.751344   \n",
       "          W10004_1143/PHP02  -320.939740  679.062925  ...   -90.347569   \n",
       "          W10004_1146/PHP02   245.997515  894.978622  ...  -123.775786   \n",
       "          W10004_1156/PHP02   325.643174  535.028922  ...   -86.310013   \n",
       "\n",
       "                             kron_svd497  kron_svd498  kron_svd499  \\\n",
       "Env       Hybrid                                                     \n",
       "DEH1_2020 B14A/H95             -2.643726    -4.159507    -1.316196   \n",
       "          B14A/MO17            12.817731    10.703952     7.822974   \n",
       "          B14A/OH43            -1.648535    -3.656967    -0.325722   \n",
       "          B37/H95              21.807978    -5.865823   -11.445374   \n",
       "          B37/MO17              9.486140   -10.932046    -9.590945   \n",
       "...                                  ...          ...          ...   \n",
       "WIH3_2020 W10004_1123/PHP02  -105.806845    54.175214   160.232472   \n",
       "          W10004_1140/PHP02  -137.584279   201.710158   187.768549   \n",
       "          W10004_1143/PHP02    46.805518   152.677390   -82.865706   \n",
       "          W10004_1146/PHP02   -30.873204   -82.421683   -73.508551   \n",
       "          W10004_1156/PHP02   -89.147532   -11.277675     3.321518   \n",
       "\n",
       "                             mean_yield_lag_2  min_yield_lag_2  \\\n",
       "Env       Hybrid                                                 \n",
       "DEH1_2020 B14A/H95                  10.056423         0.725594   \n",
       "          B14A/MO17                 10.056423         0.725594   \n",
       "          B14A/OH43                 10.056423         0.725594   \n",
       "          B37/H95                   10.056423         0.725594   \n",
       "          B37/MO17                  10.056423         0.725594   \n",
       "...                                       ...              ...   \n",
       "WIH3_2020 W10004_1123/PHP02          9.010208         1.129919   \n",
       "          W10004_1140/PHP02          9.010208         1.129919   \n",
       "          W10004_1143/PHP02          9.010208         1.129919   \n",
       "          W10004_1146/PHP02          9.010208         1.129919   \n",
       "          W10004_1156/PHP02          9.010208         1.129919   \n",
       "\n",
       "                             p1_yield_lag_2  q1_yield_lag_2  q3_yield_lag_2  \\\n",
       "Env       Hybrid                                                              \n",
       "DEH1_2020 B14A/H95                 2.516387        8.232294        11.94657   \n",
       "          B14A/MO17                2.516387        8.232294        11.94657   \n",
       "          B14A/OH43                2.516387        8.232294        11.94657   \n",
       "          B37/H95                  2.516387        8.232294        11.94657   \n",
       "          B37/MO17                 2.516387        8.232294        11.94657   \n",
       "...                                     ...             ...             ...   \n",
       "WIH3_2020 W10004_1123/PHP02        2.885705        7.453720        10.67770   \n",
       "          W10004_1140/PHP02        2.885705        7.453720        10.67770   \n",
       "          W10004_1143/PHP02        2.885705        7.453720        10.67770   \n",
       "          W10004_1146/PHP02        2.885705        7.453720        10.67770   \n",
       "          W10004_1156/PHP02        2.885705        7.453720        10.67770   \n",
       "\n",
       "                             p90_yield_lag_2  \n",
       "Env       Hybrid                              \n",
       "DEH1_2020 B14A/H95                 13.500556  \n",
       "          B14A/MO17                13.500556  \n",
       "          B14A/OH43                13.500556  \n",
       "          B37/H95                  13.500556  \n",
       "          B37/MO17                 13.500556  \n",
       "...                                      ...  \n",
       "WIH3_2020 W10004_1123/PHP02        12.001967  \n",
       "          W10004_1140/PHP02        12.001967  \n",
       "          W10004_1143/PHP02        12.001967  \n",
       "          W10004_1146/PHP02        12.001967  \n",
       "          W10004_1156/PHP02        12.001967  \n",
       "\n",
       "[11277 rows x 506 columns]"
      ]
     },
     "execution_count": 34,
     "metadata": {},
     "output_type": "execute_result"
    }
   ],
   "source": [
    "xtrain_svd"
   ]
  },
  {
   "cell_type": "code",
   "execution_count": 35,
   "id": "ab9ca86b",
   "metadata": {},
   "outputs": [],
   "source": [
    "import optuna"
   ]
  },
  {
   "cell_type": "code",
   "execution_count": 36,
   "id": "fb977fdb",
   "metadata": {},
   "outputs": [
    {
     "name": "stderr",
     "output_type": "stream",
     "text": [
      "\u001b[32m[I 2023-02-01 18:09:59,772]\u001b[0m A new study created in memory with name: no-name-7eee89dd-036f-4e28-a7f8-524034e80fec\u001b[0m\n"
     ]
    },
    {
     "name": "stdout",
     "output_type": "stream",
     "text": [
      "[LightGBM] [Warning] lambda_l1 is set=0.0024430162614261413, reg_alpha=0.0 will be ignored. Current value: lambda_l1=0.0024430162614261413\n",
      "[LightGBM] [Warning] bagging_fraction is set=0.839196365086843, subsample=1.0 will be ignored. Current value: bagging_fraction=0.839196365086843\n",
      "[LightGBM] [Warning] feature_fraction is set=0.3745401188473625, colsample_bytree=1.0 will be ignored. Current value: feature_fraction=0.3745401188473625\n",
      "[LightGBM] [Warning] lambda_l2 is set=2.5361081166471375e-07, reg_lambda=0.0 will be ignored. Current value: lambda_l2=2.5361081166471375e-07\n"
     ]
    },
    {
     "name": "stderr",
     "output_type": "stream",
     "text": [
      "\u001b[32m[I 2023-02-01 18:10:01,394]\u001b[0m Trial 0 finished with value: 2.283029810739097 and parameters: {'feature_fraction': 0.3745401188473625, 'num_leaves': 244, 'bagging_fraction': 0.839196365086843, 'lambda_l1': 0.0024430162614261413, 'lambda_l2': 2.5361081166471375e-07, 'n_estimators': 55, 'max_depth': 2}. Best is trial 0 with value: 2.283029810739097.\u001b[0m\n"
     ]
    },
    {
     "name": "stdout",
     "output_type": "stream",
     "text": [
      "[LightGBM] [Warning] lambda_l1 is set=1.5320059381854043e-08, reg_alpha=0.0 will be ignored. Current value: lambda_l1=1.5320059381854043e-08\n",
      "[LightGBM] [Warning] bagging_fraction is set=0.8248435466776274, subsample=1.0 will be ignored. Current value: bagging_fraction=0.8248435466776274\n",
      "[LightGBM] [Warning] feature_fraction is set=0.8661761457749352, colsample_bytree=1.0 will be ignored. Current value: feature_fraction=0.8661761457749352\n",
      "[LightGBM] [Warning] lambda_l2 is set=5.360294728728285, reg_lambda=0.0 will be ignored. Current value: lambda_l2=5.360294728728285\n"
     ]
    },
    {
     "name": "stderr",
     "output_type": "stream",
     "text": [
      "\u001b[32m[I 2023-02-01 18:10:07,304]\u001b[0m Trial 1 finished with value: 2.2340052209292605 and parameters: {'feature_fraction': 0.8661761457749352, 'num_leaves': 155, 'bagging_fraction': 0.8248435466776274, 'lambda_l1': 1.5320059381854043e-08, 'lambda_l2': 5.360294728728285, 'n_estimators': 252, 'max_depth': 3}. Best is trial 1 with value: 2.2340052209292605.\u001b[0m\n"
     ]
    },
    {
     "name": "stdout",
     "output_type": "stream",
     "text": [
      "[LightGBM] [Warning] lambda_l1 is set=0.00052821153945323, reg_alpha=0.0 will be ignored. Current value: lambda_l1=0.00052821153945323\n",
      "[LightGBM] [Warning] bagging_fraction is set=0.5825453457757226, subsample=1.0 will be ignored. Current value: bagging_fraction=0.5825453457757226\n",
      "[LightGBM] [Warning] feature_fraction is set=0.18182496720710062, colsample_bytree=1.0 will be ignored. Current value: feature_fraction=0.18182496720710062\n",
      "[LightGBM] [Warning] lambda_l2 is set=7.71800699380605e-05, reg_lambda=0.0 will be ignored. Current value: lambda_l2=7.71800699380605e-05\n"
     ]
    },
    {
     "name": "stderr",
     "output_type": "stream",
     "text": [
      "\u001b[32m[I 2023-02-01 18:10:09,644]\u001b[0m Trial 2 finished with value: 2.2862502530385336 and parameters: {'feature_fraction': 0.18182496720710062, 'num_leaves': 48, 'bagging_fraction': 0.5825453457757226, 'lambda_l1': 0.00052821153945323, 'lambda_l2': 7.71800699380605e-05, 'n_estimators': 94, 'max_depth': 5}. Best is trial 1 with value: 2.2340052209292605.\u001b[0m\n"
     ]
    },
    {
     "name": "stdout",
     "output_type": "stream",
     "text": [
      "[LightGBM] [Warning] lambda_l1 is set=0.00012724181576752517, reg_alpha=0.0 will be ignored. Current value: lambda_l1=0.00012724181576752517\n",
      "[LightGBM] [Warning] bagging_fraction is set=0.619817105976215, subsample=1.0 will be ignored. Current value: bagging_fraction=0.619817105976215\n",
      "[LightGBM] [Warning] feature_fraction is set=0.13949386065204183, colsample_bytree=1.0 will be ignored. Current value: feature_fraction=0.13949386065204183\n",
      "[LightGBM] [Warning] lambda_l2 is set=0.1165691561324743, reg_lambda=0.0 will be ignored. Current value: lambda_l2=0.1165691561324743\n"
     ]
    },
    {
     "name": "stderr",
     "output_type": "stream",
     "text": [
      "\u001b[32m[I 2023-02-01 18:10:11,332]\u001b[0m Trial 3 finished with value: 2.291888046614327 and parameters: {'feature_fraction': 0.13949386065204183, 'num_leaves': 76, 'bagging_fraction': 0.619817105976215, 'lambda_l1': 0.00012724181576752517, 'lambda_l2': 0.1165691561324743, 'n_estimators': 68, 'max_depth': 4}. Best is trial 1 with value: 2.2340052209292605.\u001b[0m\n"
     ]
    },
    {
     "name": "stdout",
     "output_type": "stream",
     "text": [
      "[LightGBM] [Warning] lambda_l1 is set=3.425445902633376e-07, reg_alpha=0.0 will be ignored. Current value: lambda_l1=3.425445902633376e-07\n",
      "[LightGBM] [Warning] bagging_fraction is set=0.764526911140863, subsample=1.0 will be ignored. Current value: bagging_fraction=0.764526911140863\n",
      "[LightGBM] [Warning] feature_fraction is set=0.5924145688620425, colsample_bytree=1.0 will be ignored. Current value: feature_fraction=0.5924145688620425\n",
      "[LightGBM] [Warning] lambda_l2 is set=3.850031979199519e-08, reg_lambda=0.0 will be ignored. Current value: lambda_l2=3.850031979199519e-08\n"
     ]
    },
    {
     "name": "stderr",
     "output_type": "stream",
     "text": [
      "\u001b[32m[I 2023-02-01 18:10:19,163]\u001b[0m Trial 4 finished with value: 2.3185772808061595 and parameters: {'feature_fraction': 0.5924145688620425, 'num_leaves': 13, 'bagging_fraction': 0.764526911140863, 'lambda_l1': 3.425445902633376e-07, 'lambda_l2': 3.850031979199519e-08, 'n_estimators': 286, 'max_depth': 6}. Best is trial 1 with value: 2.2340052209292605.\u001b[0m\n"
     ]
    },
    {
     "name": "stdout",
     "output_type": "stream",
     "text": [
      "[LightGBM] [Warning] lambda_l1 is set=0.014391207615728067, reg_alpha=0.0 will be ignored. Current value: lambda_l1=0.014391207615728067\n",
      "[LightGBM] [Warning] bagging_fraction is set=0.45860326840383037, subsample=1.0 will be ignored. Current value: bagging_fraction=0.45860326840383037\n",
      "[LightGBM] [Warning] feature_fraction is set=0.8083973481164611, colsample_bytree=1.0 will be ignored. Current value: feature_fraction=0.8083973481164611\n",
      "[LightGBM] [Warning] lambda_l2 is set=9.148975058772307e-05, reg_lambda=0.0 will be ignored. Current value: lambda_l2=9.148975058772307e-05\n"
     ]
    },
    {
     "name": "stderr",
     "output_type": "stream",
     "text": [
      "\u001b[32m[I 2023-02-01 18:10:21,807]\u001b[0m Trial 5 finished with value: 2.3852410701656006 and parameters: {'feature_fraction': 0.8083973481164611, 'num_leaves': 79, 'bagging_fraction': 0.45860326840383037, 'lambda_l1': 0.014391207615728067, 'lambda_l2': 9.148975058772307e-05, 'n_estimators': 45, 'max_depth': 4}. Best is trial 1 with value: 2.2340052209292605.\u001b[0m\n"
     ]
    },
    {
     "name": "stdout",
     "output_type": "stream",
     "text": [
      "[LightGBM] [Warning] lambda_l1 is set=0.009176996354542699, reg_alpha=0.0 will be ignored. Current value: lambda_l1=0.009176996354542699\n",
      "[LightGBM] [Warning] bagging_fraction is set=0.5552679889600102, subsample=1.0 will be ignored. Current value: bagging_fraction=0.5552679889600102\n",
      "[LightGBM] [Warning] feature_fraction is set=0.034388521115218396, colsample_bytree=1.0 will be ignored. Current value: feature_fraction=0.034388521115218396\n",
      "[LightGBM] [Warning] lambda_l2 is set=6.388511557344611e-06, reg_lambda=0.0 will be ignored. Current value: lambda_l2=6.388511557344611e-06\n"
     ]
    },
    {
     "name": "stderr",
     "output_type": "stream",
     "text": [
      "\u001b[32m[I 2023-02-01 18:10:23,437]\u001b[0m Trial 6 finished with value: 2.185984572474408 and parameters: {'feature_fraction': 0.034388521115218396, 'num_leaves': 233, 'bagging_fraction': 0.5552679889600102, 'lambda_l1': 0.009176996354542699, 'lambda_l2': 6.388511557344611e-06, 'n_estimators': 161, 'max_depth': 4}. Best is trial 6 with value: 2.185984572474408.\u001b[0m\n"
     ]
    },
    {
     "name": "stdout",
     "output_type": "stream",
     "text": [
      "[LightGBM] [Warning] lambda_l1 is set=2.854239907497756, reg_alpha=0.0 will be ignored. Current value: lambda_l1=2.854239907497756\n",
      "[LightGBM] [Warning] bagging_fraction is set=0.8650796940166687, subsample=1.0 will be ignored. Current value: bagging_fraction=0.8650796940166687\n",
      "[LightGBM] [Warning] feature_fraction is set=0.18485445552552704, colsample_bytree=1.0 will be ignored. Current value: feature_fraction=0.18485445552552704\n",
      "[LightGBM] [Warning] lambda_l2 is set=1.1309571585271483, reg_lambda=0.0 will be ignored. Current value: lambda_l2=1.1309571585271483\n"
     ]
    },
    {
     "name": "stderr",
     "output_type": "stream",
     "text": [
      "\u001b[32m[I 2023-02-01 18:10:27,870]\u001b[0m Trial 7 finished with value: 2.3368517012363483 and parameters: {'feature_fraction': 0.18485445552552704, 'num_leaves': 249, 'bagging_fraction': 0.8650796940166687, 'lambda_l1': 2.854239907497756, 'lambda_l2': 1.1309571585271483, 'n_estimators': 183, 'max_depth': 6}. Best is trial 6 with value: 2.185984572474408.\u001b[0m\n"
     ]
    },
    {
     "name": "stdout",
     "output_type": "stream",
     "text": [
      "[LightGBM] [Warning] lambda_l1 is set=8.471746987003668e-06, reg_alpha=0.0 will be ignored. Current value: lambda_l1=8.471746987003668e-06\n",
      "[LightGBM] [Warning] bagging_fraction is set=0.4271363733463229, subsample=1.0 will be ignored. Current value: bagging_fraction=0.4271363733463229\n",
      "[LightGBM] [Warning] feature_fraction is set=0.0884925020519195, colsample_bytree=1.0 will be ignored. Current value: feature_fraction=0.0884925020519195\n",
      "[LightGBM] [Warning] lambda_l2 is set=3.148441347423712e-05, reg_lambda=0.0 will be ignored. Current value: lambda_l2=3.148441347423712e-05\n"
     ]
    },
    {
     "name": "stderr",
     "output_type": "stream",
     "text": [
      "\u001b[32m[I 2023-02-01 18:10:29,943]\u001b[0m Trial 8 finished with value: 2.2463839945317874 and parameters: {'feature_fraction': 0.0884925020519195, 'num_leaves': 51, 'bagging_fraction': 0.4271363733463229, 'lambda_l1': 8.471746987003668e-06, 'lambda_l2': 3.148441347423712e-05, 'n_estimators': 88, 'max_depth': 6}. Best is trial 6 with value: 2.185984572474408.\u001b[0m\n"
     ]
    },
    {
     "name": "stdout",
     "output_type": "stream",
     "text": [
      "[LightGBM] [Warning] lambda_l1 is set=1.8548894229694903e-07, reg_alpha=0.0 will be ignored. Current value: lambda_l1=1.8548894229694903e-07\n",
      "[LightGBM] [Warning] bagging_fraction is set=0.7256176498949491, subsample=1.0 will be ignored. Current value: bagging_fraction=0.7256176498949491\n",
      "[LightGBM] [Warning] feature_fraction is set=0.3567533266935893, colsample_bytree=1.0 will be ignored. Current value: feature_fraction=0.3567533266935893\n",
      "[LightGBM] [Warning] lambda_l2 is set=0.16587190283399655, reg_lambda=0.0 will be ignored. Current value: lambda_l2=0.16587190283399655\n"
     ]
    },
    {
     "name": "stderr",
     "output_type": "stream",
     "text": [
      "\u001b[32m[I 2023-02-01 18:10:32,355]\u001b[0m Trial 9 finished with value: 2.2964876022140492 and parameters: {'feature_fraction': 0.3567533266935893, 'num_leaves': 73, 'bagging_fraction': 0.7256176498949491, 'lambda_l1': 1.8548894229694903e-07, 'lambda_l2': 0.16587190283399655, 'n_estimators': 31, 'max_depth': 6}. Best is trial 6 with value: 2.185984572474408.\u001b[0m\n"
     ]
    },
    {
     "name": "stdout",
     "output_type": "stream",
     "text": [
      "[LightGBM] [Warning] lambda_l1 is set=0.19237494135966834, reg_alpha=0.0 will be ignored. Current value: lambda_l1=0.19237494135966834\n",
      "[LightGBM] [Warning] bagging_fraction is set=0.9817222664727197, subsample=1.0 will be ignored. Current value: bagging_fraction=0.9817222664727197\n",
      "[LightGBM] [Warning] feature_fraction is set=0.02051392850324301, colsample_bytree=1.0 will be ignored. Current value: feature_fraction=0.02051392850324301\n",
      "[LightGBM] [Warning] lambda_l2 is set=6.739006603244534e-07, reg_lambda=0.0 will be ignored. Current value: lambda_l2=6.739006603244534e-07\n"
     ]
    },
    {
     "name": "stderr",
     "output_type": "stream",
     "text": [
      "\u001b[32m[I 2023-02-01 18:10:33,873]\u001b[0m Trial 10 finished with value: 2.210064596787756 and parameters: {'feature_fraction': 0.02051392850324301, 'num_leaves': 182, 'bagging_fraction': 0.9817222664727197, 'lambda_l1': 0.19237494135966834, 'lambda_l2': 6.739006603244534e-07, 'n_estimators': 167, 'max_depth': 3}. Best is trial 6 with value: 2.185984572474408.\u001b[0m\n"
     ]
    },
    {
     "name": "stdout",
     "output_type": "stream",
     "text": [
      "[LightGBM] [Warning] lambda_l1 is set=0.11731504557993938, reg_alpha=0.0 will be ignored. Current value: lambda_l1=0.11731504557993938\n",
      "[LightGBM] [Warning] bagging_fraction is set=0.997479579295848, subsample=1.0 will be ignored. Current value: bagging_fraction=0.997479579295848\n",
      "[LightGBM] [Warning] feature_fraction is set=0.0108757259358968, colsample_bytree=1.0 will be ignored. Current value: feature_fraction=0.0108757259358968\n",
      "[LightGBM] [Warning] lambda_l2 is set=8.956408095934925e-07, reg_lambda=0.0 will be ignored. Current value: lambda_l2=8.956408095934925e-07\n"
     ]
    },
    {
     "name": "stderr",
     "output_type": "stream",
     "text": [
      "\u001b[32m[I 2023-02-01 18:10:35,358]\u001b[0m Trial 11 finished with value: 2.316168477858715 and parameters: {'feature_fraction': 0.0108757259358968, 'num_leaves': 185, 'bagging_fraction': 0.997479579295848, 'lambda_l1': 0.11731504557993938, 'lambda_l2': 8.956408095934925e-07, 'n_estimators': 166, 'max_depth': 3}. Best is trial 6 with value: 2.185984572474408.\u001b[0m\n"
     ]
    },
    {
     "name": "stdout",
     "output_type": "stream",
     "text": [
      "[LightGBM] [Warning] lambda_l1 is set=0.23641781747396198, reg_alpha=0.0 will be ignored. Current value: lambda_l1=0.23641781747396198\n",
      "[LightGBM] [Warning] bagging_fraction is set=0.9945707878065353, subsample=1.0 will be ignored. Current value: bagging_fraction=0.9945707878065353\n",
      "[LightGBM] [Warning] feature_fraction is set=0.017321165717232034, colsample_bytree=1.0 will be ignored. Current value: feature_fraction=0.017321165717232034\n",
      "[LightGBM] [Warning] lambda_l2 is set=2.528830125346676e-06, reg_lambda=0.0 will be ignored. Current value: lambda_l2=2.528830125346676e-06\n"
     ]
    },
    {
     "name": "stderr",
     "output_type": "stream",
     "text": [
      "\u001b[32m[I 2023-02-01 18:10:36,914]\u001b[0m Trial 12 finished with value: 2.301709787355232 and parameters: {'feature_fraction': 0.017321165717232034, 'num_leaves': 201, 'bagging_fraction': 0.9945707878065353, 'lambda_l1': 0.23641781747396198, 'lambda_l2': 2.528830125346676e-06, 'n_estimators': 204, 'max_depth': 3}. Best is trial 6 with value: 2.185984572474408.\u001b[0m\n"
     ]
    },
    {
     "name": "stdout",
     "output_type": "stream",
     "text": [
      "[LightGBM] [Warning] lambda_l1 is set=7.0557555476473155, reg_alpha=0.0 will be ignored. Current value: lambda_l1=7.0557555476473155\n",
      "[LightGBM] [Warning] bagging_fraction is set=0.6264965712313106, subsample=1.0 will be ignored. Current value: bagging_fraction=0.6264965712313106\n",
      "[LightGBM] [Warning] feature_fraction is set=0.24080793750091012, colsample_bytree=1.0 will be ignored. Current value: feature_fraction=0.24080793750091012\n",
      "[LightGBM] [Warning] lambda_l2 is set=2.005732281713045e-08, reg_lambda=0.0 will be ignored. Current value: lambda_l2=2.005732281713045e-08\n"
     ]
    },
    {
     "name": "stderr",
     "output_type": "stream",
     "text": [
      "\u001b[32m[I 2023-02-01 18:10:38,717]\u001b[0m Trial 13 finished with value: 2.2180390775056793 and parameters: {'feature_fraction': 0.24080793750091012, 'num_leaves': 205, 'bagging_fraction': 0.6264965712313106, 'lambda_l1': 7.0557555476473155, 'lambda_l2': 2.005732281713045e-08, 'n_estimators': 129, 'max_depth': 2}. Best is trial 6 with value: 2.185984572474408.\u001b[0m\n"
     ]
    },
    {
     "name": "stdout",
     "output_type": "stream",
     "text": [
      "[LightGBM] [Warning] lambda_l1 is set=0.030465573763507302, reg_alpha=0.0 will be ignored. Current value: lambda_l1=0.030465573763507302\n",
      "[LightGBM] [Warning] bagging_fraction is set=0.5501279035873242, subsample=1.0 will be ignored. Current value: bagging_fraction=0.5501279035873242\n",
      "[LightGBM] [Warning] feature_fraction is set=0.3082829246820051, colsample_bytree=1.0 will be ignored. Current value: feature_fraction=0.3082829246820051\n",
      "[LightGBM] [Warning] lambda_l2 is set=0.0020762047805725683, reg_lambda=0.0 will be ignored. Current value: lambda_l2=0.0020762047805725683\n"
     ]
    },
    {
     "name": "stderr",
     "output_type": "stream",
     "text": [
      "\u001b[32m[I 2023-02-01 18:10:43,620]\u001b[0m Trial 14 finished with value: 2.3069276822565463 and parameters: {'feature_fraction': 0.3082829246820051, 'num_leaves': 133, 'bagging_fraction': 0.5501279035873242, 'lambda_l1': 0.030465573763507302, 'lambda_l2': 0.0020762047805725683, 'n_estimators': 208, 'max_depth': 5}. Best is trial 6 with value: 2.185984572474408.\u001b[0m\n"
     ]
    },
    {
     "name": "stdout",
     "output_type": "stream",
     "text": [
      "[LightGBM] [Warning] lambda_l1 is set=0.48655210851246833, reg_alpha=0.0 will be ignored. Current value: lambda_l1=0.48655210851246833\n",
      "[LightGBM] [Warning] bagging_fraction is set=0.6854856055112454, subsample=1.0 will be ignored. Current value: bagging_fraction=0.6854856055112454\n",
      "[LightGBM] [Warning] feature_fraction is set=0.019309651780764506, colsample_bytree=1.0 will be ignored. Current value: feature_fraction=0.019309651780764506\n",
      "[LightGBM] [Warning] lambda_l2 is set=4.733285371660662e-06, reg_lambda=0.0 will be ignored. Current value: lambda_l2=4.733285371660662e-06\n"
     ]
    },
    {
     "name": "stderr",
     "output_type": "stream",
     "text": [
      "\u001b[32m[I 2023-02-01 18:10:45,165]\u001b[0m Trial 15 finished with value: 2.1946517830314063 and parameters: {'feature_fraction': 0.019309651780764506, 'num_leaves': 166, 'bagging_fraction': 0.6854856055112454, 'lambda_l1': 0.48655210851246833, 'lambda_l2': 4.733285371660662e-06, 'n_estimators': 130, 'max_depth': 4}. Best is trial 6 with value: 2.185984572474408.\u001b[0m\n"
     ]
    },
    {
     "name": "stdout",
     "output_type": "stream",
     "text": [
      "[LightGBM] [Warning] lambda_l1 is set=0.004928442672028538, reg_alpha=0.0 will be ignored. Current value: lambda_l1=0.004928442672028538\n",
      "[LightGBM] [Warning] bagging_fraction is set=0.671395787726565, subsample=1.0 will be ignored. Current value: bagging_fraction=0.671395787726565\n",
      "[LightGBM] [Warning] feature_fraction is set=0.4820473222840905, colsample_bytree=1.0 will be ignored. Current value: feature_fraction=0.4820473222840905\n",
      "[LightGBM] [Warning] lambda_l2 is set=1.2820466417378132e-05, reg_lambda=0.0 will be ignored. Current value: lambda_l2=1.2820466417378132e-05\n"
     ]
    },
    {
     "name": "stderr",
     "output_type": "stream",
     "text": [
      "\u001b[32m[I 2023-02-01 18:10:49,761]\u001b[0m Trial 16 finished with value: 2.259840431704728 and parameters: {'feature_fraction': 0.4820473222840905, 'num_leaves': 218, 'bagging_fraction': 0.671395787726565, 'lambda_l1': 0.004928442672028538, 'lambda_l2': 1.2820466417378132e-05, 'n_estimators': 123, 'max_depth': 5}. Best is trial 6 with value: 2.185984572474408.\u001b[0m\n"
     ]
    },
    {
     "name": "stdout",
     "output_type": "stream",
     "text": [
      "[LightGBM] [Warning] lambda_l1 is set=0.9558057619128076, reg_alpha=0.0 will be ignored. Current value: lambda_l1=0.9558057619128076\n",
      "[LightGBM] [Warning] bagging_fraction is set=0.5284161801248887, subsample=1.0 will be ignored. Current value: bagging_fraction=0.5284161801248887\n",
      "[LightGBM] [Warning] feature_fraction is set=0.10345880604163472, colsample_bytree=1.0 will be ignored. Current value: feature_fraction=0.10345880604163472\n",
      "[LightGBM] [Warning] lambda_l2 is set=0.0010797510794422597, reg_lambda=0.0 will be ignored. Current value: lambda_l2=0.0010797510794422597\n"
     ]
    },
    {
     "name": "stderr",
     "output_type": "stream",
     "text": [
      "\u001b[32m[I 2023-02-01 18:10:51,639]\u001b[0m Trial 17 finished with value: 2.233179913103924 and parameters: {'feature_fraction': 0.10345880604163472, 'num_leaves': 141, 'bagging_fraction': 0.5284161801248887, 'lambda_l1': 0.9558057619128076, 'lambda_l2': 0.0010797510794422597, 'n_estimators': 114, 'max_depth': 4}. Best is trial 6 with value: 2.185984572474408.\u001b[0m\n"
     ]
    },
    {
     "name": "stdout",
     "output_type": "stream",
     "text": [
      "[LightGBM] [Warning] lambda_l1 is set=0.9771702525675117, reg_alpha=0.0 will be ignored. Current value: lambda_l1=0.9771702525675117\n",
      "[LightGBM] [Warning] bagging_fraction is set=0.5022212849190505, subsample=1.0 will be ignored. Current value: bagging_fraction=0.5022212849190505\n",
      "[LightGBM] [Warning] feature_fraction is set=0.25432836726550717, colsample_bytree=1.0 will be ignored. Current value: feature_fraction=0.25432836726550717\n",
      "[LightGBM] [Warning] lambda_l2 is set=6.127834359657691e-06, reg_lambda=0.0 will be ignored. Current value: lambda_l2=6.127834359657691e-06\n"
     ]
    },
    {
     "name": "stderr",
     "output_type": "stream",
     "text": [
      "\u001b[32m[I 2023-02-01 18:10:55,238]\u001b[0m Trial 18 finished with value: 2.2645247035680267 and parameters: {'feature_fraction': 0.25432836726550717, 'num_leaves': 105, 'bagging_fraction': 0.5022212849190505, 'lambda_l1': 0.9771702525675117, 'lambda_l2': 6.127834359657691e-06, 'n_estimators': 232, 'max_depth': 4}. Best is trial 6 with value: 2.185984572474408.\u001b[0m\n"
     ]
    },
    {
     "name": "stdout",
     "output_type": "stream",
     "text": [
      "[LightGBM] [Warning] lambda_l1 is set=0.040999293322360054, reg_alpha=0.0 will be ignored. Current value: lambda_l1=0.040999293322360054\n",
      "[LightGBM] [Warning] bagging_fraction is set=0.6676870252449375, subsample=1.0 will be ignored. Current value: bagging_fraction=0.6676870252449375\n",
      "[LightGBM] [Warning] feature_fraction is set=0.10028971186127349, colsample_bytree=1.0 will be ignored. Current value: feature_fraction=0.10028971186127349\n",
      "[LightGBM] [Warning] lambda_l2 is set=1.2806146614744405e-07, reg_lambda=0.0 will be ignored. Current value: lambda_l2=1.2806146614744405e-07\n"
     ]
    },
    {
     "name": "stderr",
     "output_type": "stream",
     "text": [
      "\u001b[32m[I 2023-02-01 18:10:57,509]\u001b[0m Trial 19 finished with value: 2.242967186549896 and parameters: {'feature_fraction': 0.10028971186127349, 'num_leaves': 165, 'bagging_fraction': 0.6676870252449375, 'lambda_l1': 0.040999293322360054, 'lambda_l2': 1.2806146614744405e-07, 'n_estimators': 144, 'max_depth': 5}. Best is trial 6 with value: 2.185984572474408.\u001b[0m\n"
     ]
    },
    {
     "name": "stdout",
     "output_type": "stream",
     "text": [
      "[LightGBM] [Warning] lambda_l1 is set=0.003309099524584676, reg_alpha=0.0 will be ignored. Current value: lambda_l1=0.003309099524584676\n",
      "[LightGBM] [Warning] bagging_fraction is set=0.47276569567174453, subsample=1.0 will be ignored. Current value: bagging_fraction=0.47276569567174453\n",
      "[LightGBM] [Warning] feature_fraction is set=0.2511546236069977, colsample_bytree=1.0 will be ignored. Current value: feature_fraction=0.2511546236069977\n",
      "[LightGBM] [Warning] lambda_l2 is set=4.248382899022941e-06, reg_lambda=0.0 will be ignored. Current value: lambda_l2=4.248382899022941e-06\n"
     ]
    },
    {
     "name": "stderr",
     "output_type": "stream",
     "text": [
      "\u001b[32m[I 2023-02-01 18:10:58,900]\u001b[0m Trial 20 finished with value: 2.4269701598402142 and parameters: {'feature_fraction': 0.2511546236069977, 'num_leaves': 226, 'bagging_fraction': 0.47276569567174453, 'lambda_l1': 0.003309099524584676, 'lambda_l2': 4.248382899022941e-06, 'n_estimators': 10, 'max_depth': 3}. Best is trial 6 with value: 2.185984572474408.\u001b[0m\n"
     ]
    },
    {
     "name": "stdout",
     "output_type": "stream",
     "text": [
      "[LightGBM] [Warning] lambda_l1 is set=0.2554011272484672, reg_alpha=0.0 will be ignored. Current value: lambda_l1=0.2554011272484672\n",
      "[LightGBM] [Warning] bagging_fraction is set=0.7162893893801279, subsample=1.0 will be ignored. Current value: bagging_fraction=0.7162893893801279\n",
      "[LightGBM] [Warning] feature_fraction is set=0.015112170706085854, colsample_bytree=1.0 will be ignored. Current value: feature_fraction=0.015112170706085854\n",
      "[LightGBM] [Warning] lambda_l2 is set=3.8830182612352955e-07, reg_lambda=0.0 will be ignored. Current value: lambda_l2=3.8830182612352955e-07\n"
     ]
    },
    {
     "name": "stderr",
     "output_type": "stream",
     "text": [
      "\u001b[32m[I 2023-02-01 18:11:00,402]\u001b[0m Trial 21 finished with value: 2.2605881201645235 and parameters: {'feature_fraction': 0.015112170706085854, 'num_leaves': 173, 'bagging_fraction': 0.7162893893801279, 'lambda_l1': 0.2554011272484672, 'lambda_l2': 3.8830182612352955e-07, 'n_estimators': 168, 'max_depth': 3}. Best is trial 6 with value: 2.185984572474408.\u001b[0m\n"
     ]
    },
    {
     "name": "stdout",
     "output_type": "stream",
     "text": [
      "[LightGBM] [Warning] lambda_l1 is set=0.11335583274752624, reg_alpha=0.0 will be ignored. Current value: lambda_l1=0.11335583274752624\n",
      "[LightGBM] [Warning] bagging_fraction is set=0.5928426933510111, subsample=1.0 will be ignored. Current value: bagging_fraction=0.5928426933510111\n",
      "[LightGBM] [Warning] feature_fraction is set=0.027922408888402916, colsample_bytree=1.0 will be ignored. Current value: feature_fraction=0.027922408888402916\n",
      "[LightGBM] [Warning] lambda_l2 is set=9.055464432435397e-07, reg_lambda=0.0 will be ignored. Current value: lambda_l2=9.055464432435397e-07\n"
     ]
    },
    {
     "name": "stderr",
     "output_type": "stream",
     "text": [
      "\u001b[32m[I 2023-02-01 18:11:02,008]\u001b[0m Trial 22 finished with value: 2.1962149979611163 and parameters: {'feature_fraction': 0.027922408888402916, 'num_leaves': 190, 'bagging_fraction': 0.5928426933510111, 'lambda_l1': 0.11335583274752624, 'lambda_l2': 9.055464432435397e-07, 'n_estimators': 145, 'max_depth': 4}. Best is trial 6 with value: 2.185984572474408.\u001b[0m\n"
     ]
    },
    {
     "name": "stdout",
     "output_type": "stream",
     "text": [
      "[LightGBM] [Warning] lambda_l1 is set=9.52582938946564, reg_alpha=0.0 will be ignored. Current value: lambda_l1=9.52582938946564\n",
      "[LightGBM] [Warning] bagging_fraction is set=0.5689779279954031, subsample=1.0 will be ignored. Current value: bagging_fraction=0.5689779279954031\n",
      "[LightGBM] [Warning] feature_fraction is set=0.14241065498337135, colsample_bytree=1.0 will be ignored. Current value: feature_fraction=0.14241065498337135\n",
      "[LightGBM] [Warning] lambda_l2 is set=1.4477928778418136e-06, reg_lambda=0.0 will be ignored. Current value: lambda_l2=1.4477928778418136e-06\n"
     ]
    },
    {
     "name": "stderr",
     "output_type": "stream",
     "text": [
      "\u001b[32m[I 2023-02-01 18:11:04,181]\u001b[0m Trial 23 finished with value: 2.27822839042889 and parameters: {'feature_fraction': 0.14241065498337135, 'num_leaves': 230, 'bagging_fraction': 0.5689779279954031, 'lambda_l1': 9.52582938946564, 'lambda_l2': 1.4477928778418136e-06, 'n_estimators': 144, 'max_depth': 4}. Best is trial 6 with value: 2.185984572474408.\u001b[0m\n"
     ]
    },
    {
     "name": "stdout",
     "output_type": "stream",
     "text": [
      "[LightGBM] [Warning] lambda_l1 is set=0.02692613111941447, reg_alpha=0.0 will be ignored. Current value: lambda_l1=0.02692613111941447\n",
      "[LightGBM] [Warning] bagging_fraction is set=0.6114424806873628, subsample=1.0 will be ignored. Current value: bagging_fraction=0.6114424806873628\n",
      "[LightGBM] [Warning] feature_fraction is set=0.06320300751036168, colsample_bytree=1.0 will be ignored. Current value: feature_fraction=0.06320300751036168\n",
      "[LightGBM] [Warning] lambda_l2 is set=1.720516237193766e-05, reg_lambda=0.0 will be ignored. Current value: lambda_l2=1.720516237193766e-05\n"
     ]
    },
    {
     "name": "stderr",
     "output_type": "stream",
     "text": [
      "\u001b[32m[I 2023-02-01 18:11:05,973]\u001b[0m Trial 24 finished with value: 2.2329987989670355 and parameters: {'feature_fraction': 0.06320300751036168, 'num_leaves': 199, 'bagging_fraction': 0.6114424806873628, 'lambda_l1': 0.02692613111941447, 'lambda_l2': 1.720516237193766e-05, 'n_estimators': 99, 'max_depth': 5}. Best is trial 6 with value: 2.185984572474408.\u001b[0m\n"
     ]
    },
    {
     "name": "stdout",
     "output_type": "stream",
     "text": [
      "[LightGBM] [Warning] lambda_l1 is set=1.1244492589264536, reg_alpha=0.0 will be ignored. Current value: lambda_l1=1.1244492589264536\n",
      "[LightGBM] [Warning] bagging_fraction is set=0.5125648148170738, subsample=1.0 will be ignored. Current value: bagging_fraction=0.5125648148170738\n",
      "[LightGBM] [Warning] feature_fraction is set=0.16006210943489052, colsample_bytree=1.0 will be ignored. Current value: feature_fraction=0.16006210943489052\n",
      "[LightGBM] [Warning] lambda_l2 is set=8.252322859997551e-08, reg_lambda=0.0 will be ignored. Current value: lambda_l2=8.252322859997551e-08\n"
     ]
    },
    {
     "name": "stderr",
     "output_type": "stream",
     "text": [
      "\u001b[32m[I 2023-02-01 18:11:08,624]\u001b[0m Trial 25 finished with value: 2.2470393377466307 and parameters: {'feature_fraction': 0.16006210943489052, 'num_leaves': 118, 'bagging_fraction': 0.5125648148170738, 'lambda_l1': 1.1244492589264536, 'lambda_l2': 8.252322859997551e-08, 'n_estimators': 201, 'max_depth': 4}. Best is trial 6 with value: 2.185984572474408.\u001b[0m\n"
     ]
    },
    {
     "name": "stdout",
     "output_type": "stream",
     "text": [
      "[LightGBM] [Warning] lambda_l1 is set=0.06228553680241676, reg_alpha=0.0 will be ignored. Current value: lambda_l1=0.06228553680241676\n",
      "[LightGBM] [Warning] bagging_fraction is set=0.5792810002968508, subsample=1.0 will be ignored. Current value: bagging_fraction=0.5792810002968508\n",
      "[LightGBM] [Warning] feature_fraction is set=0.08471628775706005, colsample_bytree=1.0 will be ignored. Current value: feature_fraction=0.08471628775706005\n",
      "[LightGBM] [Warning] lambda_l2 is set=3.151567049842782e-06, reg_lambda=0.0 will be ignored. Current value: lambda_l2=3.151567049842782e-06\n"
     ]
    },
    {
     "name": "stderr",
     "output_type": "stream",
     "text": [
      "\u001b[32m[I 2023-02-01 18:11:10,489]\u001b[0m Trial 26 finished with value: 2.193373747748334 and parameters: {'feature_fraction': 0.08471628775706005, 'num_leaves': 147, 'bagging_fraction': 0.5792810002968508, 'lambda_l1': 0.06228553680241676, 'lambda_l2': 3.151567049842782e-06, 'n_estimators': 139, 'max_depth': 4}. Best is trial 6 with value: 2.185984572474408.\u001b[0m\n"
     ]
    },
    {
     "name": "stdout",
     "output_type": "stream",
     "text": [
      "[LightGBM] [Warning] lambda_l1 is set=0.013937709580325716, reg_alpha=0.0 will be ignored. Current value: lambda_l1=0.013937709580325716\n",
      "[LightGBM] [Warning] bagging_fraction is set=0.547546689656343, subsample=1.0 will be ignored. Current value: bagging_fraction=0.547546689656343\n",
      "[LightGBM] [Warning] feature_fraction is set=0.10601387086809581, colsample_bytree=1.0 will be ignored. Current value: feature_fraction=0.10601387086809581\n",
      "[LightGBM] [Warning] lambda_l2 is set=1.1877957177298207e-08, reg_lambda=0.0 will be ignored. Current value: lambda_l2=1.1877957177298207e-08\n"
     ]
    },
    {
     "name": "stderr",
     "output_type": "stream",
     "text": [
      "\u001b[32m[I 2023-02-01 18:11:13,064]\u001b[0m Trial 27 finished with value: 2.267144273039968 and parameters: {'feature_fraction': 0.10601387086809581, 'num_leaves': 146, 'bagging_fraction': 0.547546689656343, 'lambda_l1': 0.013937709580325716, 'lambda_l2': 1.1877957177298207e-08, 'n_estimators': 188, 'max_depth': 5}. Best is trial 6 with value: 2.185984572474408.\u001b[0m\n"
     ]
    },
    {
     "name": "stdout",
     "output_type": "stream",
     "text": [
      "[LightGBM] [Warning] lambda_l1 is set=0.0002672719859908737, reg_alpha=0.0 will be ignored. Current value: lambda_l1=0.0002672719859908737\n",
      "[LightGBM] [Warning] bagging_fraction is set=0.4128673898932509, subsample=1.0 will be ignored. Current value: bagging_fraction=0.4128673898932509\n",
      "[LightGBM] [Warning] feature_fraction is set=0.21292956743649316, colsample_bytree=1.0 will be ignored. Current value: feature_fraction=0.21292956743649316\n",
      "[LightGBM] [Warning] lambda_l2 is set=0.00019780094119080854, reg_lambda=0.0 will be ignored. Current value: lambda_l2=0.00019780094119080854\n"
     ]
    },
    {
     "name": "stderr",
     "output_type": "stream",
     "text": [
      "\u001b[32m[I 2023-02-01 18:11:16,135]\u001b[0m Trial 28 finished with value: 2.2617892374400648 and parameters: {'feature_fraction': 0.21292956743649316, 'num_leaves': 110, 'bagging_fraction': 0.4128673898932509, 'lambda_l1': 0.0002672719859908737, 'lambda_l2': 0.00019780094119080854, 'n_estimators': 226, 'max_depth': 4}. Best is trial 6 with value: 2.185984572474408.\u001b[0m\n"
     ]
    },
    {
     "name": "stdout",
     "output_type": "stream",
     "text": [
      "[LightGBM] [Warning] lambda_l1 is set=0.002323164867247539, reg_alpha=0.0 will be ignored. Current value: lambda_l1=0.002323164867247539\n",
      "[LightGBM] [Warning] bagging_fraction is set=0.6618399119198247, subsample=1.0 will be ignored. Current value: bagging_fraction=0.6618399119198247\n",
      "[LightGBM] [Warning] feature_fraction is set=0.3040999172239286, colsample_bytree=1.0 will be ignored. Current value: feature_fraction=0.3040999172239286\n",
      "[LightGBM] [Warning] lambda_l2 is set=1.2905900902759903e-07, reg_lambda=0.0 will be ignored. Current value: lambda_l2=1.2905900902759903e-07\n"
     ]
    },
    {
     "name": "stderr",
     "output_type": "stream",
     "text": [
      "\u001b[32m[I 2023-02-01 18:11:18,302]\u001b[0m Trial 29 finished with value: 2.2577355727343806 and parameters: {'feature_fraction': 0.3040999172239286, 'num_leaves': 251, 'bagging_fraction': 0.6618399119198247, 'lambda_l1': 0.002323164867247539, 'lambda_l2': 1.2905900902759903e-07, 'n_estimators': 74, 'max_depth': 4}. Best is trial 6 with value: 2.185984572474408.\u001b[0m\n"
     ]
    },
    {
     "name": "stdout",
     "output_type": "stream",
     "text": [
      "[LightGBM] [Warning] lambda_l1 is set=0.6788716940844829, reg_alpha=0.0 will be ignored. Current value: lambda_l1=0.6788716940844829\n",
      "[LightGBM] [Warning] bagging_fraction is set=0.569508278517381, subsample=1.0 will be ignored. Current value: bagging_fraction=0.569508278517381\n",
      "[LightGBM] [Warning] feature_fraction is set=0.07846330335511344, colsample_bytree=1.0 will be ignored. Current value: feature_fraction=0.07846330335511344\n",
      "[LightGBM] [Warning] lambda_l2 is set=6.622065218937442e-06, reg_lambda=0.0 will be ignored. Current value: lambda_l2=6.622065218937442e-06\n"
     ]
    },
    {
     "name": "stderr",
     "output_type": "stream",
     "text": [
      "\u001b[32m[I 2023-02-01 18:11:19,810]\u001b[0m Trial 30 finished with value: 2.244228613691346 and parameters: {'feature_fraction': 0.07846330335511344, 'num_leaves': 163, 'bagging_fraction': 0.569508278517381, 'lambda_l1': 0.6788716940844829, 'lambda_l2': 6.622065218937442e-06, 'n_estimators': 117, 'max_depth': 2}. Best is trial 6 with value: 2.185984572474408.\u001b[0m\n"
     ]
    },
    {
     "name": "stdout",
     "output_type": "stream",
     "text": [
      "[LightGBM] [Warning] lambda_l1 is set=0.0652741351474146, reg_alpha=0.0 will be ignored. Current value: lambda_l1=0.0652741351474146\n",
      "[LightGBM] [Warning] bagging_fraction is set=0.6055539124370094, subsample=1.0 will be ignored. Current value: bagging_fraction=0.6055539124370094\n",
      "[LightGBM] [Warning] feature_fraction is set=0.0021975772011636023, colsample_bytree=1.0 will be ignored. Current value: feature_fraction=0.0021975772011636023\n",
      "[LightGBM] [Warning] lambda_l2 is set=4.0069438498963983e-07, reg_lambda=0.0 will be ignored. Current value: lambda_l2=4.0069438498963983e-07\n"
     ]
    },
    {
     "name": "stderr",
     "output_type": "stream",
     "text": [
      "\u001b[32m[I 2023-02-01 18:11:21,286]\u001b[0m Trial 31 finished with value: 2.379239460301213 and parameters: {'feature_fraction': 0.0021975772011636023, 'num_leaves': 188, 'bagging_fraction': 0.6055539124370094, 'lambda_l1': 0.0652741351474146, 'lambda_l2': 4.0069438498963983e-07, 'n_estimators': 149, 'max_depth': 4}. Best is trial 6 with value: 2.185984572474408.\u001b[0m\n"
     ]
    },
    {
     "name": "stdout",
     "output_type": "stream",
     "text": [
      "[LightGBM] [Warning] lambda_l1 is set=0.08789882113450002, reg_alpha=0.0 will be ignored. Current value: lambda_l1=0.08789882113450002\n",
      "[LightGBM] [Warning] bagging_fraction is set=0.6431573905829224, subsample=1.0 will be ignored. Current value: bagging_fraction=0.6431573905829224\n",
      "[LightGBM] [Warning] feature_fraction is set=0.06665132565774179, colsample_bytree=1.0 will be ignored. Current value: feature_fraction=0.06665132565774179\n",
      "[LightGBM] [Warning] lambda_l2 is set=3.104030250056324e-06, reg_lambda=0.0 will be ignored. Current value: lambda_l2=3.104030250056324e-06\n"
     ]
    },
    {
     "name": "stderr",
     "output_type": "stream",
     "text": [
      "\u001b[32m[I 2023-02-01 18:11:23,052]\u001b[0m Trial 32 finished with value: 2.203067119176229 and parameters: {'feature_fraction': 0.06665132565774179, 'num_leaves': 234, 'bagging_fraction': 0.6431573905829224, 'lambda_l1': 0.08789882113450002, 'lambda_l2': 3.104030250056324e-06, 'n_estimators': 136, 'max_depth': 4}. Best is trial 6 with value: 2.185984572474408.\u001b[0m\n"
     ]
    },
    {
     "name": "stdout",
     "output_type": "stream",
     "text": [
      "[LightGBM] [Warning] lambda_l1 is set=0.2764250776177965, reg_alpha=0.0 will be ignored. Current value: lambda_l1=0.2764250776177965\n",
      "[LightGBM] [Warning] bagging_fraction is set=0.5859897319974459, subsample=1.0 will be ignored. Current value: bagging_fraction=0.5859897319974459\n",
      "[LightGBM] [Warning] feature_fraction is set=0.16791746793610846, colsample_bytree=1.0 will be ignored. Current value: feature_fraction=0.16791746793610846\n",
      "[LightGBM] [Warning] lambda_l2 is set=1.449369604446006e-06, reg_lambda=0.0 will be ignored. Current value: lambda_l2=1.449369604446006e-06\n"
     ]
    },
    {
     "name": "stderr",
     "output_type": "stream",
     "text": [
      "\u001b[32m[I 2023-02-01 18:11:25,481]\u001b[0m Trial 33 finished with value: 2.2948503359808003 and parameters: {'feature_fraction': 0.16791746793610846, 'num_leaves': 212, 'bagging_fraction': 0.5859897319974459, 'lambda_l1': 0.2764250776177965, 'lambda_l2': 1.449369604446006e-06, 'n_estimators': 103, 'max_depth': 5}. Best is trial 6 with value: 2.185984572474408.\u001b[0m\n"
     ]
    },
    {
     "name": "stdout",
     "output_type": "stream",
     "text": [
      "[LightGBM] [Warning] lambda_l1 is set=0.018073082473312897, reg_alpha=0.0 will be ignored. Current value: lambda_l1=0.018073082473312897\n",
      "[LightGBM] [Warning] bagging_fraction is set=0.5938758909112674, subsample=1.0 will be ignored. Current value: bagging_fraction=0.5938758909112674\n",
      "[LightGBM] [Warning] feature_fraction is set=0.14422986274682967, colsample_bytree=1.0 will be ignored. Current value: feature_fraction=0.14422986274682967\n",
      "[LightGBM] [Warning] lambda_l2 is set=3.526103546176815e-05, reg_lambda=0.0 will be ignored. Current value: lambda_l2=3.526103546176815e-05\n"
     ]
    },
    {
     "name": "stderr",
     "output_type": "stream",
     "text": [
      "\u001b[32m[I 2023-02-01 18:11:27,384]\u001b[0m Trial 34 finished with value: 2.2934089781467817 and parameters: {'feature_fraction': 0.14422986274682967, 'num_leaves': 153, 'bagging_fraction': 0.5938758909112674, 'lambda_l1': 0.018073082473312897, 'lambda_l2': 3.526103546176815e-05, 'n_estimators': 157, 'max_depth': 3}. Best is trial 6 with value: 2.185984572474408.\u001b[0m\n"
     ]
    },
    {
     "name": "stdout",
     "output_type": "stream",
     "text": [
      "[LightGBM] [Warning] lambda_l1 is set=0.0010401002794065222, reg_alpha=0.0 will be ignored. Current value: lambda_l1=0.0010401002794065222\n",
      "[LightGBM] [Warning] bagging_fraction is set=0.540362675205506, subsample=1.0 will be ignored. Current value: bagging_fraction=0.540362675205506\n",
      "[LightGBM] [Warning] feature_fraction is set=0.04914105150035468, colsample_bytree=1.0 will be ignored. Current value: feature_fraction=0.04914105150035468\n",
      "[LightGBM] [Warning] lambda_l2 is set=2.564156217667231e-07, reg_lambda=0.0 will be ignored. Current value: lambda_l2=2.564156217667231e-07\n"
     ]
    },
    {
     "name": "stderr",
     "output_type": "stream",
     "text": [
      "\u001b[32m[I 2023-02-01 18:11:29,192]\u001b[0m Trial 35 finished with value: 2.228608871480907 and parameters: {'feature_fraction': 0.04914105150035468, 'num_leaves': 127, 'bagging_fraction': 0.540362675205506, 'lambda_l1': 0.0010401002794065222, 'lambda_l2': 2.564156217667231e-07, 'n_estimators': 185, 'max_depth': 4}. Best is trial 6 with value: 2.185984572474408.\u001b[0m\n"
     ]
    },
    {
     "name": "stdout",
     "output_type": "stream",
     "text": [
      "[LightGBM] [Warning] lambda_l1 is set=0.009537287386690066, reg_alpha=0.0 will be ignored. Current value: lambda_l1=0.009537287386690066\n",
      "[LightGBM] [Warning] bagging_fraction is set=0.6397056546533177, subsample=1.0 will be ignored. Current value: bagging_fraction=0.6397056546533177\n",
      "[LightGBM] [Warning] feature_fraction is set=0.13282144520607542, colsample_bytree=1.0 will be ignored. Current value: feature_fraction=0.13282144520607542\n",
      "[LightGBM] [Warning] lambda_l2 is set=1.014103493337975e-05, reg_lambda=0.0 will be ignored. Current value: lambda_l2=1.014103493337975e-05\n"
     ]
    },
    {
     "name": "stderr",
     "output_type": "stream",
     "text": [
      "\u001b[32m[I 2023-02-01 18:11:31,896]\u001b[0m Trial 36 finished with value: 2.249390075230704 and parameters: {'feature_fraction': 0.13282144520607542, 'num_leaves': 175, 'bagging_fraction': 0.6397056546533177, 'lambda_l1': 0.009537287386690066, 'lambda_l2': 1.014103493337975e-05, 'n_estimators': 261, 'max_depth': 4}. Best is trial 6 with value: 2.185984572474408.\u001b[0m\n"
     ]
    },
    {
     "name": "stdout",
     "output_type": "stream",
     "text": [
      "[LightGBM] [Warning] lambda_l1 is set=0.06824168945889049, reg_alpha=0.0 will be ignored. Current value: lambda_l1=0.06824168945889049\n",
      "[LightGBM] [Warning] bagging_fraction is set=0.579680366394544, subsample=1.0 will be ignored. Current value: bagging_fraction=0.579680366394544\n",
      "[LightGBM] [Warning] feature_fraction is set=0.19714689918112016, colsample_bytree=1.0 will be ignored. Current value: feature_fraction=0.19714689918112016\n",
      "[LightGBM] [Warning] lambda_l2 is set=8.333346858600149e-05, reg_lambda=0.0 will be ignored. Current value: lambda_l2=8.333346858600149e-05\n"
     ]
    },
    {
     "name": "stderr",
     "output_type": "stream",
     "text": [
      "\u001b[32m[I 2023-02-01 18:11:34,230]\u001b[0m Trial 37 finished with value: 2.290607288240984 and parameters: {'feature_fraction': 0.19714689918112016, 'num_leaves': 98, 'bagging_fraction': 0.579680366394544, 'lambda_l1': 0.06824168945889049, 'lambda_l2': 8.333346858600149e-05, 'n_estimators': 81, 'max_depth': 5}. Best is trial 6 with value: 2.185984572474408.\u001b[0m\n"
     ]
    },
    {
     "name": "stdout",
     "output_type": "stream",
     "text": [
      "[LightGBM] [Warning] lambda_l1 is set=2.8686226449745154, reg_alpha=0.0 will be ignored. Current value: lambda_l1=2.8686226449745154\n",
      "[LightGBM] [Warning] bagging_fraction is set=0.49181078618058804, subsample=1.0 will be ignored. Current value: bagging_fraction=0.49181078618058804\n",
      "[LightGBM] [Warning] feature_fraction is set=0.00021739755996383336, colsample_bytree=1.0 will be ignored. Current value: feature_fraction=0.00021739755996383336\n",
      "[LightGBM] [Warning] lambda_l2 is set=9.339012093109552e-07, reg_lambda=0.0 will be ignored. Current value: lambda_l2=9.339012093109552e-07\n"
     ]
    },
    {
     "name": "stderr",
     "output_type": "stream",
     "text": [
      "\u001b[32m[I 2023-02-01 18:11:35,602]\u001b[0m Trial 38 finished with value: 2.5229676552953246 and parameters: {'feature_fraction': 0.00021739755996383336, 'num_leaves': 159, 'bagging_fraction': 0.49181078618058804, 'lambda_l1': 2.8686226449745154, 'lambda_l2': 9.339012093109552e-07, 'n_estimators': 60, 'max_depth': 3}. Best is trial 6 with value: 2.185984572474408.\u001b[0m\n"
     ]
    },
    {
     "name": "stdout",
     "output_type": "stream",
     "text": [
      "[LightGBM] [Warning] lambda_l1 is set=0.006621574378483632, reg_alpha=0.0 will be ignored. Current value: lambda_l1=0.006621574378483632\n",
      "[LightGBM] [Warning] bagging_fraction is set=0.6932431038153428, subsample=1.0 will be ignored. Current value: bagging_fraction=0.6932431038153428\n",
      "[LightGBM] [Warning] feature_fraction is set=0.07856646975644843, colsample_bytree=1.0 will be ignored. Current value: feature_fraction=0.07856646975644843\n",
      "[LightGBM] [Warning] lambda_l2 is set=5.81778430139e-08, reg_lambda=0.0 will be ignored. Current value: lambda_l2=5.81778430139e-08\n"
     ]
    },
    {
     "name": "stderr",
     "output_type": "stream",
     "text": [
      "\u001b[32m[I 2023-02-01 18:11:37,204]\u001b[0m Trial 39 finished with value: 2.205141515975949 and parameters: {'feature_fraction': 0.07856646975644843, 'num_leaves': 6, 'bagging_fraction': 0.6932431038153428, 'lambda_l1': 0.006621574378483632, 'lambda_l2': 5.81778430139e-08, 'n_estimators': 108, 'max_depth': 4}. Best is trial 6 with value: 2.185984572474408.\u001b[0m\n"
     ]
    },
    {
     "name": "stdout",
     "output_type": "stream",
     "text": [
      "[LightGBM] [Warning] lambda_l1 is set=0.00088915927114311, reg_alpha=0.0 will be ignored. Current value: lambda_l1=0.00088915927114311\n",
      "[LightGBM] [Warning] bagging_fraction is set=0.45820546495786796, subsample=1.0 will be ignored. Current value: bagging_fraction=0.45820546495786796\n",
      "[LightGBM] [Warning] feature_fraction is set=0.1975890049824967, colsample_bytree=1.0 will be ignored. Current value: feature_fraction=0.1975890049824967\n",
      "[LightGBM] [Warning] lambda_l2 is set=3.805451442013305e-05, reg_lambda=0.0 will be ignored. Current value: lambda_l2=3.805451442013305e-05\n"
     ]
    },
    {
     "name": "stderr",
     "output_type": "stream",
     "text": [
      "\u001b[32m[I 2023-02-01 18:11:39,503]\u001b[0m Trial 40 finished with value: 2.2404376399013253 and parameters: {'feature_fraction': 0.1975890049824967, 'num_leaves': 243, 'bagging_fraction': 0.45820546495786796, 'lambda_l1': 0.00088915927114311, 'lambda_l2': 3.805451442013305e-05, 'n_estimators': 131, 'max_depth': 4}. Best is trial 6 with value: 2.185984572474408.\u001b[0m\n"
     ]
    },
    {
     "name": "stdout",
     "output_type": "stream",
     "text": [
      "[LightGBM] [Warning] lambda_l1 is set=0.08312739580440576, reg_alpha=0.0 will be ignored. Current value: lambda_l1=0.08312739580440576\n",
      "[LightGBM] [Warning] bagging_fraction is set=0.6455207579402016, subsample=1.0 will be ignored. Current value: bagging_fraction=0.6455207579402016\n",
      "[LightGBM] [Warning] feature_fraction is set=0.05325213530593432, colsample_bytree=1.0 will be ignored. Current value: feature_fraction=0.05325213530593432\n",
      "[LightGBM] [Warning] lambda_l2 is set=4.813627285969264e-06, reg_lambda=0.0 will be ignored. Current value: lambda_l2=4.813627285969264e-06\n"
     ]
    },
    {
     "name": "stderr",
     "output_type": "stream",
     "text": [
      "\u001b[32m[I 2023-02-01 18:11:41,221]\u001b[0m Trial 41 finished with value: 2.17549532600143 and parameters: {'feature_fraction': 0.05325213530593432, 'num_leaves': 233, 'bagging_fraction': 0.6455207579402016, 'lambda_l1': 0.08312739580440576, 'lambda_l2': 4.813627285969264e-06, 'n_estimators': 139, 'max_depth': 4}. Best is trial 41 with value: 2.17549532600143.\u001b[0m\n"
     ]
    },
    {
     "name": "stdout",
     "output_type": "stream",
     "text": [
      "[LightGBM] [Warning] lambda_l1 is set=0.055386495045370694, reg_alpha=0.0 will be ignored. Current value: lambda_l1=0.055386495045370694\n",
      "[LightGBM] [Warning] bagging_fraction is set=0.6212582059239197, subsample=1.0 will be ignored. Current value: bagging_fraction=0.6212582059239197\n",
      "[LightGBM] [Warning] feature_fraction is set=0.052045500780936116, colsample_bytree=1.0 will be ignored. Current value: feature_fraction=0.052045500780936116\n",
      "[LightGBM] [Warning] lambda_l2 is set=2.9194592795805136e-06, reg_lambda=0.0 will be ignored. Current value: lambda_l2=2.9194592795805136e-06\n"
     ]
    },
    {
     "name": "stderr",
     "output_type": "stream",
     "text": [
      "\u001b[32m[I 2023-02-01 18:11:43,020]\u001b[0m Trial 42 finished with value: 2.2295012801427663 and parameters: {'feature_fraction': 0.052045500780936116, 'num_leaves': 218, 'bagging_fraction': 0.6212582059239197, 'lambda_l1': 0.055386495045370694, 'lambda_l2': 2.9194592795805136e-06, 'n_estimators': 174, 'max_depth': 4}. Best is trial 41 with value: 2.17549532600143.\u001b[0m\n"
     ]
    },
    {
     "name": "stdout",
     "output_type": "stream",
     "text": [
      "[LightGBM] [Warning] lambda_l1 is set=0.1382157145514317, reg_alpha=0.0 will be ignored. Current value: lambda_l1=0.1382157145514317\n",
      "[LightGBM] [Warning] bagging_fraction is set=0.6931993386065474, subsample=1.0 will be ignored. Current value: bagging_fraction=0.6931993386065474\n",
      "[LightGBM] [Warning] feature_fraction is set=0.11080737861603146, colsample_bytree=1.0 will be ignored. Current value: feature_fraction=0.11080737861603146\n",
      "[LightGBM] [Warning] lambda_l2 is set=4.353637985508709e-07, reg_lambda=0.0 will be ignored. Current value: lambda_l2=4.353637985508709e-07\n"
     ]
    },
    {
     "name": "stderr",
     "output_type": "stream",
     "text": [
      "\u001b[32m[I 2023-02-01 18:11:45,088]\u001b[0m Trial 43 finished with value: 2.2605338258420407 and parameters: {'feature_fraction': 0.11080737861603146, 'num_leaves': 194, 'bagging_fraction': 0.6931993386065474, 'lambda_l1': 0.1382157145514317, 'lambda_l2': 4.353637985508709e-07, 'n_estimators': 156, 'max_depth': 4}. Best is trial 41 with value: 2.17549532600143.\u001b[0m\n"
     ]
    },
    {
     "name": "stdout",
     "output_type": "stream",
     "text": [
      "[LightGBM] [Warning] lambda_l1 is set=0.014644678299502441, reg_alpha=0.0 will be ignored. Current value: lambda_l1=0.014644678299502441\n",
      "[LightGBM] [Warning] bagging_fraction is set=0.7616861362426468, subsample=1.0 will be ignored. Current value: bagging_fraction=0.7616861362426468\n",
      "[LightGBM] [Warning] feature_fraction is set=0.04941138675246867, colsample_bytree=1.0 will be ignored. Current value: feature_fraction=0.04941138675246867\n",
      "[LightGBM] [Warning] lambda_l2 is set=1.8168200487952742e-06, reg_lambda=0.0 will be ignored. Current value: lambda_l2=1.8168200487952742e-06\n"
     ]
    },
    {
     "name": "stderr",
     "output_type": "stream",
     "text": [
      "\u001b[32m[I 2023-02-01 18:11:46,777]\u001b[0m Trial 44 finished with value: 2.2102536043126726 and parameters: {'feature_fraction': 0.04941138675246867, 'num_leaves': 255, 'bagging_fraction': 0.7616861362426468, 'lambda_l1': 0.014644678299502441, 'lambda_l2': 1.8168200487952742e-06, 'n_estimators': 90, 'max_depth': 5}. Best is trial 41 with value: 2.17549532600143.\u001b[0m\n"
     ]
    },
    {
     "name": "stdout",
     "output_type": "stream",
     "text": [
      "[LightGBM] [Warning] lambda_l1 is set=0.37459255829620447, reg_alpha=0.0 will be ignored. Current value: lambda_l1=0.37459255829620447\n",
      "[LightGBM] [Warning] bagging_fraction is set=0.6057198023153805, subsample=1.0 will be ignored. Current value: bagging_fraction=0.6057198023153805\n",
      "[LightGBM] [Warning] feature_fraction is set=0.1396870546856147, colsample_bytree=1.0 will be ignored. Current value: feature_fraction=0.1396870546856147\n",
      "[LightGBM] [Warning] lambda_l2 is set=8.13631876378065e-06, reg_lambda=0.0 will be ignored. Current value: lambda_l2=8.13631876378065e-06\n"
     ]
    },
    {
     "name": "stderr",
     "output_type": "stream",
     "text": [
      "\u001b[32m[I 2023-02-01 18:11:48,617]\u001b[0m Trial 45 finished with value: 2.2487875933267434 and parameters: {'feature_fraction': 0.1396870546856147, 'num_leaves': 238, 'bagging_fraction': 0.6057198023153805, 'lambda_l1': 0.37459255829620447, 'lambda_l2': 8.13631876378065e-06, 'n_estimators': 136, 'max_depth': 3}. Best is trial 41 with value: 2.17549532600143.\u001b[0m\n"
     ]
    },
    {
     "name": "stdout",
     "output_type": "stream",
     "text": [
      "[LightGBM] [Warning] lambda_l1 is set=0.10946609848773947, reg_alpha=0.0 will be ignored. Current value: lambda_l1=0.10946609848773947\n",
      "[LightGBM] [Warning] bagging_fraction is set=0.6426330198842559, subsample=1.0 will be ignored. Current value: bagging_fraction=0.6426330198842559\n",
      "[LightGBM] [Warning] feature_fraction is set=0.041676312853194585, colsample_bytree=1.0 will be ignored. Current value: feature_fraction=0.041676312853194585\n",
      "[LightGBM] [Warning] lambda_l2 is set=7.590847757738342e-07, reg_lambda=0.0 will be ignored. Current value: lambda_l2=7.590847757738342e-07\n"
     ]
    },
    {
     "name": "stderr",
     "output_type": "stream",
     "text": [
      "\u001b[32m[I 2023-02-01 18:11:50,310]\u001b[0m Trial 46 finished with value: 2.2068569650518906 and parameters: {'feature_fraction': 0.041676312853194585, 'num_leaves': 210, 'bagging_fraction': 0.6426330198842559, 'lambda_l1': 0.10946609848773947, 'lambda_l2': 7.590847757738342e-07, 'n_estimators': 154, 'max_depth': 4}. Best is trial 41 with value: 2.17549532600143.\u001b[0m\n"
     ]
    },
    {
     "name": "stdout",
     "output_type": "stream",
     "text": [
      "[LightGBM] [Warning] lambda_l1 is set=0.3813141920328615, reg_alpha=0.0 will be ignored. Current value: lambda_l1=0.3813141920328615\n",
      "[LightGBM] [Warning] bagging_fraction is set=0.5521662889978632, subsample=1.0 will be ignored. Current value: bagging_fraction=0.5521662889978632\n",
      "[LightGBM] [Warning] feature_fraction is set=0.08805415275573228, colsample_bytree=1.0 will be ignored. Current value: feature_fraction=0.08805415275573228\n",
      "[LightGBM] [Warning] lambda_l2 is set=2.219248736129126e-05, reg_lambda=0.0 will be ignored. Current value: lambda_l2=2.219248736129126e-05\n"
     ]
    },
    {
     "name": "stderr",
     "output_type": "stream",
     "text": [
      "\u001b[32m[I 2023-02-01 18:11:52,158]\u001b[0m Trial 47 finished with value: 2.2111127804407436 and parameters: {'feature_fraction': 0.08805415275573228, 'num_leaves': 181, 'bagging_fraction': 0.5521662889978632, 'lambda_l1': 0.3813141920328615, 'lambda_l2': 2.219248736129126e-05, 'n_estimators': 129, 'max_depth': 4}. Best is trial 41 with value: 2.17549532600143.\u001b[0m\n"
     ]
    },
    {
     "name": "stdout",
     "output_type": "stream",
     "text": [
      "[LightGBM] [Warning] lambda_l1 is set=2.0267091330531226, reg_alpha=0.0 will be ignored. Current value: lambda_l1=2.0267091330531226\n",
      "[LightGBM] [Warning] bagging_fraction is set=0.5305327337038802, subsample=1.0 will be ignored. Current value: bagging_fraction=0.5305327337038802\n",
      "[LightGBM] [Warning] feature_fraction is set=0.0005056823382729239, colsample_bytree=1.0 will be ignored. Current value: feature_fraction=0.0005056823382729239\n",
      "[LightGBM] [Warning] lambda_l2 is set=1.6151375216439197e-07, reg_lambda=0.0 will be ignored. Current value: lambda_l2=1.6151375216439197e-07\n"
     ]
    },
    {
     "name": "stderr",
     "output_type": "stream",
     "text": [
      "\u001b[32m[I 2023-02-01 18:11:53,622]\u001b[0m Trial 48 finished with value: 2.3815784075022615 and parameters: {'feature_fraction': 0.0005056823382729239, 'num_leaves': 24, 'bagging_fraction': 0.5305327337038802, 'lambda_l1': 2.0267091330531226, 'lambda_l2': 1.6151375216439197e-07, 'n_estimators': 178, 'max_depth': 3}. Best is trial 41 with value: 2.17549532600143.\u001b[0m\n"
     ]
    },
    {
     "name": "stdout",
     "output_type": "stream",
     "text": [
      "[LightGBM] [Warning] lambda_l1 is set=0.03448159607316021, reg_alpha=0.0 will be ignored. Current value: lambda_l1=0.03448159607316021\n",
      "[LightGBM] [Warning] bagging_fraction is set=0.5667228598236109, subsample=1.0 will be ignored. Current value: bagging_fraction=0.5667228598236109\n",
      "[LightGBM] [Warning] feature_fraction is set=0.1749235180633116, colsample_bytree=1.0 will be ignored. Current value: feature_fraction=0.1749235180633116\n",
      "[LightGBM] [Warning] lambda_l2 is set=3.306561979932528e-06, reg_lambda=0.0 will be ignored. Current value: lambda_l2=3.306561979932528e-06\n"
     ]
    },
    {
     "name": "stderr",
     "output_type": "stream",
     "text": [
      "\u001b[32m[I 2023-02-01 18:11:55,813]\u001b[0m Trial 49 finished with value: 2.2651895316042348 and parameters: {'feature_fraction': 0.1749235180633116, 'num_leaves': 224, 'bagging_fraction': 0.5667228598236109, 'lambda_l1': 0.03448159607316021, 'lambda_l2': 3.306561979932528e-06, 'n_estimators': 123, 'max_depth': 4}. Best is trial 41 with value: 2.17549532600143.\u001b[0m\n"
     ]
    },
    {
     "name": "stdout",
     "output_type": "stream",
     "text": [
      "[LightGBM] [Warning] lambda_l1 is set=0.0066985685170564795, reg_alpha=0.0 will be ignored. Current value: lambda_l1=0.0066985685170564795\n",
      "[LightGBM] [Warning] bagging_fraction is set=0.5981396597738949, subsample=1.0 will be ignored. Current value: bagging_fraction=0.5981396597738949\n",
      "[LightGBM] [Warning] feature_fraction is set=0.11515434175835111, colsample_bytree=1.0 will be ignored. Current value: feature_fraction=0.11515434175835111\n",
      "[LightGBM] [Warning] lambda_l2 is set=4.766215584004366e-08, reg_lambda=0.0 will be ignored. Current value: lambda_l2=4.766215584004366e-08\n"
     ]
    },
    {
     "name": "stderr",
     "output_type": "stream",
     "text": [
      "\u001b[32m[I 2023-02-01 18:11:58,308]\u001b[0m Trial 50 finished with value: 2.226148810857575 and parameters: {'feature_fraction': 0.11515434175835111, 'num_leaves': 140, 'bagging_fraction': 0.5981396597738949, 'lambda_l1': 0.0066985685170564795, 'lambda_l2': 4.766215584004366e-08, 'n_estimators': 163, 'max_depth': 5}. Best is trial 41 with value: 2.17549532600143.\u001b[0m\n"
     ]
    },
    {
     "name": "stdout",
     "output_type": "stream",
     "text": [
      "[LightGBM] [Warning] lambda_l1 is set=0.12194073670412967, reg_alpha=0.0 will be ignored. Current value: lambda_l1=0.12194073670412967\n",
      "[LightGBM] [Warning] bagging_fraction is set=0.6405951938380092, subsample=1.0 will be ignored. Current value: bagging_fraction=0.6405951938380092\n",
      "[LightGBM] [Warning] feature_fraction is set=0.05173867157263075, colsample_bytree=1.0 will be ignored. Current value: feature_fraction=0.05173867157263075\n",
      "[LightGBM] [Warning] lambda_l2 is set=4.476400850984029e-06, reg_lambda=0.0 will be ignored. Current value: lambda_l2=4.476400850984029e-06\n"
     ]
    },
    {
     "name": "stderr",
     "output_type": "stream",
     "text": [
      "\u001b[32m[I 2023-02-01 18:12:00,021]\u001b[0m Trial 51 finished with value: 2.217238124819907 and parameters: {'feature_fraction': 0.05173867157263075, 'num_leaves': 234, 'bagging_fraction': 0.6405951938380092, 'lambda_l1': 0.12194073670412967, 'lambda_l2': 4.476400850984029e-06, 'n_estimators': 140, 'max_depth': 4}. Best is trial 41 with value: 2.17549532600143.\u001b[0m\n"
     ]
    },
    {
     "name": "stdout",
     "output_type": "stream",
     "text": [
      "[LightGBM] [Warning] lambda_l1 is set=0.48787849871743655, reg_alpha=0.0 will be ignored. Current value: lambda_l1=0.48787849871743655\n",
      "[LightGBM] [Warning] bagging_fraction is set=0.6659401144635865, subsample=1.0 will be ignored. Current value: bagging_fraction=0.6659401144635865\n",
      "[LightGBM] [Warning] feature_fraction is set=0.0651941718165619, colsample_bytree=1.0 will be ignored. Current value: feature_fraction=0.0651941718165619\n",
      "[LightGBM] [Warning] lambda_l2 is set=1.981734438340825e-06, reg_lambda=0.0 will be ignored. Current value: lambda_l2=1.981734438340825e-06\n"
     ]
    },
    {
     "name": "stderr",
     "output_type": "stream",
     "text": [
      "\u001b[32m[I 2023-02-01 18:12:01,971]\u001b[0m Trial 52 finished with value: 2.230833126238887 and parameters: {'feature_fraction': 0.0651941718165619, 'num_leaves': 241, 'bagging_fraction': 0.6659401144635865, 'lambda_l1': 0.48787849871743655, 'lambda_l2': 1.981734438340825e-06, 'n_estimators': 192, 'max_depth': 4}. Best is trial 41 with value: 2.17549532600143.\u001b[0m\n"
     ]
    },
    {
     "name": "stdout",
     "output_type": "stream",
     "text": [
      "[LightGBM] [Warning] lambda_l1 is set=0.08006625229722397, reg_alpha=0.0 will be ignored. Current value: lambda_l1=0.08006625229722397\n",
      "[LightGBM] [Warning] bagging_fraction is set=0.6361636247513869, subsample=1.0 will be ignored. Current value: bagging_fraction=0.6361636247513869\n",
      "[LightGBM] [Warning] feature_fraction is set=0.03948732068565708, colsample_bytree=1.0 will be ignored. Current value: feature_fraction=0.03948732068565708\n",
      "[LightGBM] [Warning] lambda_l2 is set=1.3219229857972457e-05, reg_lambda=0.0 will be ignored. Current value: lambda_l2=1.3219229857972457e-05\n"
     ]
    },
    {
     "name": "stderr",
     "output_type": "stream",
     "text": [
      "\u001b[32m[I 2023-02-01 18:12:03,555]\u001b[0m Trial 53 finished with value: 2.2229479400092758 and parameters: {'feature_fraction': 0.03948732068565708, 'num_leaves': 195, 'bagging_fraction': 0.6361636247513869, 'lambda_l1': 0.08006625229722397, 'lambda_l2': 1.3219229857972457e-05, 'n_estimators': 112, 'max_depth': 4}. Best is trial 41 with value: 2.17549532600143.\u001b[0m\n"
     ]
    },
    {
     "name": "stdout",
     "output_type": "stream",
     "text": [
      "[LightGBM] [Warning] lambda_l1 is set=0.02733086364085516, reg_alpha=0.0 will be ignored. Current value: lambda_l1=0.02733086364085516\n",
      "[LightGBM] [Warning] bagging_fraction is set=0.6194613636577487, subsample=1.0 will be ignored. Current value: bagging_fraction=0.6194613636577487\n",
      "[LightGBM] [Warning] feature_fraction is set=0.0987061000811402, colsample_bytree=1.0 will be ignored. Current value: feature_fraction=0.0987061000811402\n",
      "[LightGBM] [Warning] lambda_l2 is set=1.0355687257892888e-06, reg_lambda=0.0 will be ignored. Current value: lambda_l2=1.0355687257892888e-06\n"
     ]
    },
    {
     "name": "stderr",
     "output_type": "stream",
     "text": [
      "\u001b[32m[I 2023-02-01 18:12:05,300]\u001b[0m Trial 54 finished with value: 2.207124200879697 and parameters: {'feature_fraction': 0.0987061000811402, 'num_leaves': 219, 'bagging_fraction': 0.6194613636577487, 'lambda_l1': 0.02733086364085516, 'lambda_l2': 1.0355687257892888e-06, 'n_estimators': 147, 'max_depth': 3}. Best is trial 41 with value: 2.17549532600143.\u001b[0m\n"
     ]
    },
    {
     "name": "stdout",
     "output_type": "stream",
     "text": [
      "[LightGBM] [Warning] lambda_l1 is set=0.2174914569757959, reg_alpha=0.0 will be ignored. Current value: lambda_l1=0.2174914569757959\n",
      "[LightGBM] [Warning] bagging_fraction is set=0.7198768543705808, subsample=1.0 will be ignored. Current value: bagging_fraction=0.7198768543705808\n",
      "[LightGBM] [Warning] feature_fraction is set=0.12144790149565463, colsample_bytree=1.0 will be ignored. Current value: feature_fraction=0.12144790149565463\n",
      "[LightGBM] [Warning] lambda_l2 is set=4.5257542289487035e-06, reg_lambda=0.0 will be ignored. Current value: lambda_l2=4.5257542289487035e-06\n"
     ]
    },
    {
     "name": "stderr",
     "output_type": "stream",
     "text": [
      "\u001b[32m[I 2023-02-01 18:12:07,346]\u001b[0m Trial 55 finished with value: 2.239532228427364 and parameters: {'feature_fraction': 0.12144790149565463, 'num_leaves': 170, 'bagging_fraction': 0.7198768543705808, 'lambda_l1': 0.2174914569757959, 'lambda_l2': 4.5257542289487035e-06, 'n_estimators': 136, 'max_depth': 4}. Best is trial 41 with value: 2.17549532600143.\u001b[0m\n"
     ]
    },
    {
     "name": "stdout",
     "output_type": "stream",
     "text": [
      "[LightGBM] [Warning] lambda_l1 is set=0.15653935461710833, reg_alpha=0.0 will be ignored. Current value: lambda_l1=0.15653935461710833\n",
      "[LightGBM] [Warning] bagging_fraction is set=0.6548110469942198, subsample=1.0 will be ignored. Current value: bagging_fraction=0.6548110469942198\n",
      "[LightGBM] [Warning] feature_fraction is set=0.03473758617532156, colsample_bytree=1.0 will be ignored. Current value: feature_fraction=0.03473758617532156\n",
      "[LightGBM] [Warning] lambda_l2 is set=4.8170764464278116e-05, reg_lambda=0.0 will be ignored. Current value: lambda_l2=4.8170764464278116e-05\n"
     ]
    },
    {
     "name": "stderr",
     "output_type": "stream",
     "text": [
      "\u001b[32m[I 2023-02-01 18:12:08,946]\u001b[0m Trial 56 finished with value: 2.2305303978599826 and parameters: {'feature_fraction': 0.03473758617532156, 'num_leaves': 205, 'bagging_fraction': 0.6548110469942198, 'lambda_l1': 0.15653935461710833, 'lambda_l2': 4.8170764464278116e-05, 'n_estimators': 120, 'max_depth': 4}. Best is trial 41 with value: 2.17549532600143.\u001b[0m\n"
     ]
    },
    {
     "name": "stdout",
     "output_type": "stream",
     "text": [
      "[LightGBM] [Warning] lambda_l1 is set=0.035465872681452626, reg_alpha=0.0 will be ignored. Current value: lambda_l1=0.035465872681452626\n",
      "[LightGBM] [Warning] bagging_fraction is set=0.5980106736953151, subsample=1.0 will be ignored. Current value: bagging_fraction=0.5980106736953151\n",
      "[LightGBM] [Warning] feature_fraction is set=0.15675858038518606, colsample_bytree=1.0 will be ignored. Current value: feature_fraction=0.15675858038518606\n",
      "[LightGBM] [Warning] lambda_l2 is set=1.8582400662752517e-05, reg_lambda=0.0 will be ignored. Current value: lambda_l2=1.8582400662752517e-05\n"
     ]
    },
    {
     "name": "stderr",
     "output_type": "stream",
     "text": [
      "\u001b[32m[I 2023-02-01 18:12:11,307]\u001b[0m Trial 57 finished with value: 2.2075246829293564 and parameters: {'feature_fraction': 0.15675858038518606, 'num_leaves': 150, 'bagging_fraction': 0.5980106736953151, 'lambda_l1': 0.035465872681452626, 'lambda_l2': 1.8582400662752517e-05, 'n_estimators': 167, 'max_depth': 4}. Best is trial 41 with value: 2.17549532600143.\u001b[0m\n"
     ]
    },
    {
     "name": "stdout",
     "output_type": "stream",
     "text": [
      "[LightGBM] [Warning] lambda_l1 is set=0.8012268311030029, reg_alpha=0.0 will be ignored. Current value: lambda_l1=0.8012268311030029\n",
      "[LightGBM] [Warning] bagging_fraction is set=0.6867816596523157, subsample=1.0 will be ignored. Current value: bagging_fraction=0.6867816596523157\n",
      "[LightGBM] [Warning] feature_fraction is set=0.07513575713842917, colsample_bytree=1.0 will be ignored. Current value: feature_fraction=0.07513575713842917\n",
      "[LightGBM] [Warning] lambda_l2 is set=4.7065402936319973e-07, reg_lambda=0.0 will be ignored. Current value: lambda_l2=4.7065402936319973e-07\n"
     ]
    },
    {
     "name": "stderr",
     "output_type": "stream",
     "text": [
      "\u001b[32m[I 2023-02-01 18:12:13,144]\u001b[0m Trial 58 finished with value: 2.229180332115782 and parameters: {'feature_fraction': 0.07513575713842917, 'num_leaves': 232, 'bagging_fraction': 0.6867816596523157, 'lambda_l1': 0.8012268311030029, 'lambda_l2': 4.7065402936319973e-07, 'n_estimators': 216, 'max_depth': 3}. Best is trial 41 with value: 2.17549532600143.\u001b[0m\n"
     ]
    },
    {
     "name": "stdout",
     "output_type": "stream",
     "text": [
      "[LightGBM] [Warning] lambda_l1 is set=0.0036652932183607527, reg_alpha=0.0 will be ignored. Current value: lambda_l1=0.0036652932183607527\n",
      "[LightGBM] [Warning] bagging_fraction is set=0.6225282874638673, subsample=1.0 will be ignored. Current value: bagging_fraction=0.6225282874638673\n",
      "[LightGBM] [Warning] feature_fraction is set=0.20981111084183884, colsample_bytree=1.0 will be ignored. Current value: feature_fraction=0.20981111084183884\n",
      "[LightGBM] [Warning] lambda_l2 is set=0.00014811101721822707, reg_lambda=0.0 will be ignored. Current value: lambda_l2=0.00014811101721822707\n"
     ]
    },
    {
     "name": "stderr",
     "output_type": "stream",
     "text": [
      "\u001b[32m[I 2023-02-01 18:12:15,677]\u001b[0m Trial 59 finished with value: 2.270423164850722 and parameters: {'feature_fraction': 0.20981111084183884, 'num_leaves': 247, 'bagging_fraction': 0.6225282874638673, 'lambda_l1': 0.0036652932183607527, 'lambda_l2': 0.00014811101721822707, 'n_estimators': 95, 'max_depth': 5}. Best is trial 41 with value: 2.17549532600143.\u001b[0m\n"
     ]
    },
    {
     "name": "stdout",
     "output_type": "stream",
     "text": [
      "[LightGBM] [Warning] lambda_l1 is set=0.013639130172900764, reg_alpha=0.0 will be ignored. Current value: lambda_l1=0.013639130172900764\n",
      "[LightGBM] [Warning] bagging_fraction is set=0.5204160229172023, subsample=1.0 will be ignored. Current value: bagging_fraction=0.5204160229172023\n",
      "[LightGBM] [Warning] feature_fraction is set=0.44019762857603606, colsample_bytree=1.0 will be ignored. Current value: feature_fraction=0.44019762857603606\n",
      "[LightGBM] [Warning] lambda_l2 is set=9.549021413184327e-06, reg_lambda=0.0 will be ignored. Current value: lambda_l2=9.549021413184327e-06\n"
     ]
    },
    {
     "name": "stderr",
     "output_type": "stream",
     "text": [
      "\u001b[32m[I 2023-02-01 18:12:20,002]\u001b[0m Trial 60 finished with value: 2.264129873311621 and parameters: {'feature_fraction': 0.44019762857603606, 'num_leaves': 187, 'bagging_fraction': 0.5204160229172023, 'lambda_l1': 0.013639130172900764, 'lambda_l2': 9.549021413184327e-06, 'n_estimators': 195, 'max_depth': 4}. Best is trial 41 with value: 2.17549532600143.\u001b[0m\n"
     ]
    },
    {
     "name": "stdout",
     "output_type": "stream",
     "text": [
      "[LightGBM] [Warning] lambda_l1 is set=0.006739199547713996, reg_alpha=0.0 will be ignored. Current value: lambda_l1=0.006739199547713996\n",
      "[LightGBM] [Warning] bagging_fraction is set=0.6908333284805233, subsample=1.0 will be ignored. Current value: bagging_fraction=0.6908333284805233\n",
      "[LightGBM] [Warning] feature_fraction is set=0.09666875861460603, colsample_bytree=1.0 will be ignored. Current value: feature_fraction=0.09666875861460603\n",
      "[LightGBM] [Warning] lambda_l2 is set=4.378173597279366e-08, reg_lambda=0.0 will be ignored. Current value: lambda_l2=4.378173597279366e-08\n"
     ]
    },
    {
     "name": "stderr",
     "output_type": "stream",
     "text": [
      "\u001b[32m[I 2023-02-01 18:12:21,782]\u001b[0m Trial 61 finished with value: 2.263010480420544 and parameters: {'feature_fraction': 0.09666875861460603, 'num_leaves': 61, 'bagging_fraction': 0.6908333284805233, 'lambda_l1': 0.006739199547713996, 'lambda_l2': 4.378173597279366e-08, 'n_estimators': 107, 'max_depth': 4}. Best is trial 41 with value: 2.17549532600143.\u001b[0m\n"
     ]
    },
    {
     "name": "stdout",
     "output_type": "stream",
     "text": [
      "[LightGBM] [Warning] lambda_l1 is set=0.09433842436410517, reg_alpha=0.0 will be ignored. Current value: lambda_l1=0.09433842436410517\n",
      "[LightGBM] [Warning] bagging_fraction is set=0.6709282391507226, subsample=1.0 will be ignored. Current value: bagging_fraction=0.6709282391507226\n",
      "[LightGBM] [Warning] feature_fraction is set=0.08241275557786198, colsample_bytree=1.0 will be ignored. Current value: feature_fraction=0.08241275557786198\n",
      "[LightGBM] [Warning] lambda_l2 is set=2.5470250366710097e-07, reg_lambda=0.0 will be ignored. Current value: lambda_l2=2.5470250366710097e-07\n"
     ]
    },
    {
     "name": "stderr",
     "output_type": "stream",
     "text": [
      "\u001b[32m[I 2023-02-01 18:12:23,592]\u001b[0m Trial 62 finished with value: 2.2511837153450713 and parameters: {'feature_fraction': 0.08241275557786198, 'num_leaves': 31, 'bagging_fraction': 0.6709282391507226, 'lambda_l1': 0.09433842436410517, 'lambda_l2': 2.5470250366710097e-07, 'n_estimators': 128, 'max_depth': 4}. Best is trial 41 with value: 2.17549532600143.\u001b[0m\n"
     ]
    },
    {
     "name": "stdout",
     "output_type": "stream",
     "text": [
      "[LightGBM] [Warning] lambda_l1 is set=0.04653670945820848, reg_alpha=0.0 will be ignored. Current value: lambda_l1=0.04653670945820848\n",
      "[LightGBM] [Warning] bagging_fraction is set=0.7056660413159788, subsample=1.0 will be ignored. Current value: bagging_fraction=0.7056660413159788\n",
      "[LightGBM] [Warning] feature_fraction is set=0.001711186598710144, colsample_bytree=1.0 will be ignored. Current value: feature_fraction=0.001711186598710144\n",
      "[LightGBM] [Warning] lambda_l2 is set=2.449664440938729e-06, reg_lambda=0.0 will be ignored. Current value: lambda_l2=2.449664440938729e-06\n"
     ]
    },
    {
     "name": "stderr",
     "output_type": "stream",
     "text": [
      "\u001b[32m[I 2023-02-01 18:12:25,028]\u001b[0m Trial 63 finished with value: 2.4828192985030637 and parameters: {'feature_fraction': 0.001711186598710144, 'num_leaves': 89, 'bagging_fraction': 0.7056660413159788, 'lambda_l1': 0.04653670945820848, 'lambda_l2': 2.449664440938729e-06, 'n_estimators': 107, 'max_depth': 4}. Best is trial 41 with value: 2.17549532600143.\u001b[0m\n"
     ]
    },
    {
     "name": "stdout",
     "output_type": "stream",
     "text": [
      "[LightGBM] [Warning] lambda_l1 is set=0.0017633591827750552, reg_alpha=0.0 will be ignored. Current value: lambda_l1=0.0017633591827750552\n",
      "[LightGBM] [Warning] bagging_fraction is set=0.7374687356636407, subsample=1.0 will be ignored. Current value: bagging_fraction=0.7374687356636407\n",
      "[LightGBM] [Warning] feature_fraction is set=0.028335104779309513, colsample_bytree=1.0 will be ignored. Current value: feature_fraction=0.028335104779309513\n",
      "[LightGBM] [Warning] lambda_l2 is set=1.106879523753653e-06, reg_lambda=0.0 will be ignored. Current value: lambda_l2=1.106879523753653e-06\n"
     ]
    },
    {
     "name": "stderr",
     "output_type": "stream",
     "text": [
      "\u001b[32m[I 2023-02-01 18:12:26,629]\u001b[0m Trial 64 finished with value: 2.191222326033158 and parameters: {'feature_fraction': 0.028335104779309513, 'num_leaves': 134, 'bagging_fraction': 0.7374687356636407, 'lambda_l1': 0.0017633591827750552, 'lambda_l2': 1.106879523753653e-06, 'n_estimators': 145, 'max_depth': 4}. Best is trial 41 with value: 2.17549532600143.\u001b[0m\n"
     ]
    },
    {
     "name": "stdout",
     "output_type": "stream",
     "text": [
      "[LightGBM] [Warning] lambda_l1 is set=0.0020771654687575746, reg_alpha=0.0 will be ignored. Current value: lambda_l1=0.0020771654687575746\n",
      "[LightGBM] [Warning] bagging_fraction is set=0.7405277725515464, subsample=1.0 will be ignored. Current value: bagging_fraction=0.7405277725515464\n",
      "[LightGBM] [Warning] feature_fraction is set=0.02031545566539026, colsample_bytree=1.0 will be ignored. Current value: feature_fraction=0.02031545566539026\n",
      "[LightGBM] [Warning] lambda_l2 is set=1.0923851555077083e-06, reg_lambda=0.0 will be ignored. Current value: lambda_l2=1.0923851555077083e-06\n"
     ]
    },
    {
     "name": "stderr",
     "output_type": "stream",
     "text": [
      "\u001b[32m[I 2023-02-01 18:12:28,288]\u001b[0m Trial 65 finished with value: 2.1862288334353375 and parameters: {'feature_fraction': 0.02031545566539026, 'num_leaves': 135, 'bagging_fraction': 0.7405277725515464, 'lambda_l1': 0.0020771654687575746, 'lambda_l2': 1.0923851555077083e-06, 'n_estimators': 143, 'max_depth': 5}. Best is trial 41 with value: 2.17549532600143.\u001b[0m\n"
     ]
    },
    {
     "name": "stdout",
     "output_type": "stream",
     "text": [
      "[LightGBM] [Warning] lambda_l1 is set=0.0015084759219428459, reg_alpha=0.0 will be ignored. Current value: lambda_l1=0.0015084759219428459\n",
      "[LightGBM] [Warning] bagging_fraction is set=0.7970325748174741, subsample=1.0 will be ignored. Current value: bagging_fraction=0.7970325748174741\n",
      "[LightGBM] [Warning] feature_fraction is set=0.02709574272222997, colsample_bytree=1.0 will be ignored. Current value: feature_fraction=0.02709574272222997\n",
      "[LightGBM] [Warning] lambda_l2 is set=7.209715851907261e-07, reg_lambda=0.0 will be ignored. Current value: lambda_l2=7.209715851907261e-07\n"
     ]
    },
    {
     "name": "stderr",
     "output_type": "stream",
     "text": [
      "\u001b[32m[I 2023-02-01 18:12:30,216]\u001b[0m Trial 66 finished with value: 2.2326445851102728 and parameters: {'feature_fraction': 0.02709574272222997, 'num_leaves': 127, 'bagging_fraction': 0.7970325748174741, 'lambda_l1': 0.0015084759219428459, 'lambda_l2': 7.209715851907261e-07, 'n_estimators': 158, 'max_depth': 6}. Best is trial 41 with value: 2.17549532600143.\u001b[0m\n"
     ]
    },
    {
     "name": "stdout",
     "output_type": "stream",
     "text": [
      "[LightGBM] [Warning] lambda_l1 is set=0.0003629035462391922, reg_alpha=0.0 will be ignored. Current value: lambda_l1=0.0003629035462391922\n",
      "[LightGBM] [Warning] bagging_fraction is set=0.7264655783539697, subsample=1.0 will be ignored. Current value: bagging_fraction=0.7264655783539697\n",
      "[LightGBM] [Warning] feature_fraction is set=0.028189293468094026, colsample_bytree=1.0 will be ignored. Current value: feature_fraction=0.028189293468094026\n",
      "[LightGBM] [Warning] lambda_l2 is set=1.2262536783731975e-06, reg_lambda=0.0 will be ignored. Current value: lambda_l2=1.2262536783731975e-06\n"
     ]
    },
    {
     "name": "stderr",
     "output_type": "stream",
     "text": [
      "\u001b[32m[I 2023-02-01 18:12:32,029]\u001b[0m Trial 67 finished with value: 2.2155859527479835 and parameters: {'feature_fraction': 0.028189293468094026, 'num_leaves': 136, 'bagging_fraction': 0.7264655783539697, 'lambda_l1': 0.0003629035462391922, 'lambda_l2': 1.2262536783731975e-06, 'n_estimators': 178, 'max_depth': 5}. Best is trial 41 with value: 2.17549532600143.\u001b[0m\n"
     ]
    },
    {
     "name": "stdout",
     "output_type": "stream",
     "text": [
      "[LightGBM] [Warning] lambda_l1 is set=0.004159027338188331, reg_alpha=0.0 will be ignored. Current value: lambda_l1=0.004159027338188331\n",
      "[LightGBM] [Warning] bagging_fraction is set=0.7540530201165683, subsample=1.0 will be ignored. Current value: bagging_fraction=0.7540530201165683\n",
      "[LightGBM] [Warning] feature_fraction is set=0.13068659908915917, colsample_bytree=1.0 will be ignored. Current value: feature_fraction=0.13068659908915917\n",
      "[LightGBM] [Warning] lambda_l2 is set=6.610898404755913e-06, reg_lambda=0.0 will be ignored. Current value: lambda_l2=6.610898404755913e-06\n"
     ]
    },
    {
     "name": "stderr",
     "output_type": "stream",
     "text": [
      "\u001b[32m[I 2023-02-01 18:12:35,136]\u001b[0m Trial 68 finished with value: 2.268327418062989 and parameters: {'feature_fraction': 0.13068659908915917, 'num_leaves': 144, 'bagging_fraction': 0.7540530201165683, 'lambda_l1': 0.004159027338188331, 'lambda_l2': 6.610898404755913e-06, 'n_estimators': 151, 'max_depth': 6}. Best is trial 41 with value: 2.17549532600143.\u001b[0m\n"
     ]
    },
    {
     "name": "stdout",
     "output_type": "stream",
     "text": [
      "[LightGBM] [Warning] lambda_l1 is set=0.001714514611373794, reg_alpha=0.0 will be ignored. Current value: lambda_l1=0.001714514611373794\n",
      "[LightGBM] [Warning] bagging_fraction is set=0.7411574422437418, subsample=1.0 will be ignored. Current value: bagging_fraction=0.7411574422437418\n",
      "[LightGBM] [Warning] feature_fraction is set=0.033264892923307865, colsample_bytree=1.0 will be ignored. Current value: feature_fraction=0.033264892923307865\n",
      "[LightGBM] [Warning] lambda_l2 is set=1.8436447839594635e-07, reg_lambda=0.0 will be ignored. Current value: lambda_l2=1.8436447839594635e-07\n"
     ]
    },
    {
     "name": "stderr",
     "output_type": "stream",
     "text": [
      "\u001b[32m[I 2023-02-01 18:12:36,975]\u001b[0m Trial 69 finished with value: 2.192377781388319 and parameters: {'feature_fraction': 0.033264892923307865, 'num_leaves': 115, 'bagging_fraction': 0.7411574422437418, 'lambda_l1': 0.001714514611373794, 'lambda_l2': 1.8436447839594635e-07, 'n_estimators': 173, 'max_depth': 5}. Best is trial 41 with value: 2.17549532600143.\u001b[0m\n"
     ]
    },
    {
     "name": "stdout",
     "output_type": "stream",
     "text": [
      "[LightGBM] [Warning] lambda_l1 is set=0.0024408253639008866, reg_alpha=0.0 will be ignored. Current value: lambda_l1=0.0024408253639008866\n",
      "[LightGBM] [Warning] bagging_fraction is set=0.7869396883051256, subsample=1.0 will be ignored. Current value: bagging_fraction=0.7869396883051256\n",
      "[LightGBM] [Warning] feature_fraction is set=0.1738835311739795, colsample_bytree=1.0 will be ignored. Current value: feature_fraction=0.1738835311739795\n",
      "[LightGBM] [Warning] lambda_l2 is set=8.715513734655983e-08, reg_lambda=0.0 will be ignored. Current value: lambda_l2=8.715513734655983e-08\n"
     ]
    },
    {
     "name": "stderr",
     "output_type": "stream",
     "text": [
      "\u001b[32m[I 2023-02-01 18:12:40,061]\u001b[0m Trial 70 finished with value: 2.302947364536899 and parameters: {'feature_fraction': 0.1738835311739795, 'num_leaves': 123, 'bagging_fraction': 0.7869396883051256, 'lambda_l1': 0.0024408253639008866, 'lambda_l2': 8.715513734655983e-08, 'n_estimators': 172, 'max_depth': 5}. Best is trial 41 with value: 2.17549532600143.\u001b[0m\n"
     ]
    },
    {
     "name": "stdout",
     "output_type": "stream",
     "text": [
      "[LightGBM] [Warning] lambda_l1 is set=0.0006484593171008384, reg_alpha=0.0 will be ignored. Current value: lambda_l1=0.0006484593171008384\n",
      "[LightGBM] [Warning] bagging_fraction is set=0.7243060823379022, subsample=1.0 will be ignored. Current value: bagging_fraction=0.7243060823379022\n",
      "[LightGBM] [Warning] feature_fraction is set=0.024006054123845384, colsample_bytree=1.0 will be ignored. Current value: feature_fraction=0.024006054123845384\n",
      "[LightGBM] [Warning] lambda_l2 is set=2.212589335536877e-07, reg_lambda=0.0 will be ignored. Current value: lambda_l2=2.212589335536877e-07\n"
     ]
    },
    {
     "name": "stderr",
     "output_type": "stream",
     "text": [
      "\u001b[32m[I 2023-02-01 18:12:41,754]\u001b[0m Trial 71 finished with value: 2.210110704226624 and parameters: {'feature_fraction': 0.024006054123845384, 'num_leaves': 116, 'bagging_fraction': 0.7243060823379022, 'lambda_l1': 0.0006484593171008384, 'lambda_l2': 2.212589335536877e-07, 'n_estimators': 143, 'max_depth': 5}. Best is trial 41 with value: 2.17549532600143.\u001b[0m\n"
     ]
    },
    {
     "name": "stdout",
     "output_type": "stream",
     "text": [
      "[LightGBM] [Warning] lambda_l1 is set=0.0022423735811275074, reg_alpha=0.0 will be ignored. Current value: lambda_l1=0.0022423735811275074\n",
      "[LightGBM] [Warning] bagging_fraction is set=0.7404869000222795, subsample=1.0 will be ignored. Current value: bagging_fraction=0.7404869000222795\n",
      "[LightGBM] [Warning] feature_fraction is set=0.06389813866542896, colsample_bytree=1.0 will be ignored. Current value: feature_fraction=0.06389813866542896\n",
      "[LightGBM] [Warning] lambda_l2 is set=5.04850494237646e-07, reg_lambda=0.0 will be ignored. Current value: lambda_l2=5.04850494237646e-07\n"
     ]
    },
    {
     "name": "stderr",
     "output_type": "stream",
     "text": [
      "\u001b[32m[I 2023-02-01 18:12:43,809]\u001b[0m Trial 72 finished with value: 2.2468527433642898 and parameters: {'feature_fraction': 0.06389813866542896, 'num_leaves': 155, 'bagging_fraction': 0.7404869000222795, 'lambda_l1': 0.0022423735811275074, 'lambda_l2': 5.04850494237646e-07, 'n_estimators': 161, 'max_depth': 5}. Best is trial 41 with value: 2.17549532600143.\u001b[0m\n"
     ]
    },
    {
     "name": "stdout",
     "output_type": "stream",
     "text": [
      "[LightGBM] [Warning] lambda_l1 is set=0.01911518760634249, reg_alpha=0.0 will be ignored. Current value: lambda_l1=0.01911518760634249\n",
      "[LightGBM] [Warning] bagging_fraction is set=0.7402442580121749, subsample=1.0 will be ignored. Current value: bagging_fraction=0.7402442580121749\n",
      "[LightGBM] [Warning] feature_fraction is set=0.026737869327775755, colsample_bytree=1.0 will be ignored. Current value: feature_fraction=0.026737869327775755\n",
      "[LightGBM] [Warning] lambda_l2 is set=1.5248047249263148e-06, reg_lambda=0.0 will be ignored. Current value: lambda_l2=1.5248047249263148e-06\n"
     ]
    },
    {
     "name": "stderr",
     "output_type": "stream",
     "text": [
      "\u001b[32m[I 2023-02-01 18:12:45,548]\u001b[0m Trial 73 finished with value: 2.217801710240739 and parameters: {'feature_fraction': 0.026737869327775755, 'num_leaves': 102, 'bagging_fraction': 0.7402442580121749, 'lambda_l1': 0.01911518760634249, 'lambda_l2': 1.5248047249263148e-06, 'n_estimators': 147, 'max_depth': 5}. Best is trial 41 with value: 2.17549532600143.\u001b[0m\n"
     ]
    },
    {
     "name": "stdout",
     "output_type": "stream",
     "text": [
      "[LightGBM] [Warning] lambda_l1 is set=9.775555776748795e-05, reg_alpha=0.0 will be ignored. Current value: lambda_l1=9.775555776748795e-05\n",
      "[LightGBM] [Warning] bagging_fraction is set=0.7063917785167554, subsample=1.0 will be ignored. Current value: bagging_fraction=0.7063917785167554\n",
      "[LightGBM] [Warning] feature_fraction is set=0.11544174209410281, colsample_bytree=1.0 will be ignored. Current value: feature_fraction=0.11544174209410281\n",
      "[LightGBM] [Warning] lambda_l2 is set=2.853338910588485e-07, reg_lambda=0.0 will be ignored. Current value: lambda_l2=2.853338910588485e-07\n"
     ]
    },
    {
     "name": "stderr",
     "output_type": "stream",
     "text": [
      "\u001b[32m[I 2023-02-01 18:12:47,499]\u001b[0m Trial 74 finished with value: 2.232140968759739 and parameters: {'feature_fraction': 0.11544174209410281, 'num_leaves': 132, 'bagging_fraction': 0.7063917785167554, 'lambda_l1': 9.775555776748795e-05, 'lambda_l2': 2.853338910588485e-07, 'n_estimators': 132, 'max_depth': 4}. Best is trial 41 with value: 2.17549532600143.\u001b[0m\n"
     ]
    },
    {
     "name": "stdout",
     "output_type": "stream",
     "text": [
      "[LightGBM] [Warning] lambda_l1 is set=0.009878588158582042, reg_alpha=0.0 will be ignored. Current value: lambda_l1=0.009878588158582042\n",
      "[LightGBM] [Warning] bagging_fraction is set=0.5841470829243686, subsample=1.0 will be ignored. Current value: bagging_fraction=0.5841470829243686\n",
      "[LightGBM] [Warning] feature_fraction is set=0.08071592372303177, colsample_bytree=1.0 will be ignored. Current value: feature_fraction=0.08071592372303177\n",
      "[LightGBM] [Warning] lambda_l2 is set=7.21684923586497e-07, reg_lambda=0.0 will be ignored. Current value: lambda_l2=7.21684923586497e-07\n"
     ]
    },
    {
     "name": "stderr",
     "output_type": "stream",
     "text": [
      "\u001b[32m[I 2023-02-01 18:12:49,491]\u001b[0m Trial 75 finished with value: 2.2041834614784652 and parameters: {'feature_fraction': 0.08071592372303177, 'num_leaves': 164, 'bagging_fraction': 0.5841470829243686, 'lambda_l1': 0.009878588158582042, 'lambda_l2': 7.21684923586497e-07, 'n_estimators': 117, 'max_depth': 5}. Best is trial 41 with value: 2.17549532600143.\u001b[0m\n"
     ]
    },
    {
     "name": "stdout",
     "output_type": "stream",
     "text": [
      "[LightGBM] [Warning] lambda_l1 is set=0.0012903802956344469, reg_alpha=0.0 will be ignored. Current value: lambda_l1=0.0012903802956344469\n",
      "[LightGBM] [Warning] bagging_fraction is set=0.680899166964619, subsample=1.0 will be ignored. Current value: bagging_fraction=0.680899166964619\n",
      "[LightGBM] [Warning] feature_fraction is set=0.008621457199321593, colsample_bytree=1.0 will be ignored. Current value: feature_fraction=0.008621457199321593\n",
      "[LightGBM] [Warning] lambda_l2 is set=5.45294916357749e-06, reg_lambda=0.0 will be ignored. Current value: lambda_l2=5.45294916357749e-06\n"
     ]
    },
    {
     "name": "stderr",
     "output_type": "stream",
     "text": [
      "\u001b[32m[I 2023-02-01 18:12:51,181]\u001b[0m Trial 76 finished with value: 2.2615965233673987 and parameters: {'feature_fraction': 0.008621457199321593, 'num_leaves': 111, 'bagging_fraction': 0.680899166964619, 'lambda_l1': 0.0012903802956344469, 'lambda_l2': 5.45294916357749e-06, 'n_estimators': 291, 'max_depth': 4}. Best is trial 41 with value: 2.17549532600143.\u001b[0m\n"
     ]
    },
    {
     "name": "stdout",
     "output_type": "stream",
     "text": [
      "[LightGBM] [Warning] lambda_l1 is set=0.023144259347847872, reg_alpha=0.0 will be ignored. Current value: lambda_l1=0.023144259347847872\n",
      "[LightGBM] [Warning] bagging_fraction is set=0.6565704464956996, subsample=1.0 will be ignored. Current value: bagging_fraction=0.6565704464956996\n",
      "[LightGBM] [Warning] feature_fraction is set=0.05442980841984933, colsample_bytree=1.0 will be ignored. Current value: feature_fraction=0.05442980841984933\n",
      "[LightGBM] [Warning] lambda_l2 is set=2.3377933070441705e-06, reg_lambda=0.0 will be ignored. Current value: lambda_l2=2.3377933070441705e-06\n"
     ]
    },
    {
     "name": "stderr",
     "output_type": "stream",
     "text": [
      "\u001b[32m[I 2023-02-01 18:12:53,102]\u001b[0m Trial 77 finished with value: 2.195711494272336 and parameters: {'feature_fraction': 0.05442980841984933, 'num_leaves': 119, 'bagging_fraction': 0.6565704464956996, 'lambda_l1': 0.023144259347847872, 'lambda_l2': 2.3377933070441705e-06, 'n_estimators': 183, 'max_depth': 4}. Best is trial 41 with value: 2.17549532600143.\u001b[0m\n"
     ]
    },
    {
     "name": "stdout",
     "output_type": "stream",
     "text": [
      "[LightGBM] [Warning] lambda_l1 is set=0.004204758782795879, reg_alpha=0.0 will be ignored. Current value: lambda_l1=0.004204758782795879\n",
      "[LightGBM] [Warning] bagging_fraction is set=0.7005048579914268, subsample=1.0 will be ignored. Current value: bagging_fraction=0.7005048579914268\n",
      "[LightGBM] [Warning] feature_fraction is set=0.1492688415271474, colsample_bytree=1.0 will be ignored. Current value: feature_fraction=0.1492688415271474\n",
      "[LightGBM] [Warning] lambda_l2 is set=2.286658510442131e-06, reg_lambda=0.0 will be ignored. Current value: lambda_l2=2.286658510442131e-06\n"
     ]
    },
    {
     "name": "stderr",
     "output_type": "stream",
     "text": [
      "\u001b[32m[I 2023-02-01 18:12:57,099]\u001b[0m Trial 78 finished with value: 2.29004239928494 and parameters: {'feature_fraction': 0.1492688415271474, 'num_leaves': 90, 'bagging_fraction': 0.7005048579914268, 'lambda_l1': 0.004204758782795879, 'lambda_l2': 2.286658510442131e-06, 'n_estimators': 212, 'max_depth': 6}. Best is trial 41 with value: 2.17549532600143.\u001b[0m\n"
     ]
    },
    {
     "name": "stdout",
     "output_type": "stream",
     "text": [
      "[LightGBM] [Warning] lambda_l1 is set=0.022223246082861095, reg_alpha=0.0 will be ignored. Current value: lambda_l1=0.022223246082861095\n",
      "[LightGBM] [Warning] bagging_fraction is set=0.676610630456933, subsample=1.0 will be ignored. Current value: bagging_fraction=0.676610630456933\n",
      "[LightGBM] [Warning] feature_fraction is set=0.0549090584217968, colsample_bytree=1.0 will be ignored. Current value: feature_fraction=0.0549090584217968\n",
      "[LightGBM] [Warning] lambda_l2 is set=1.346399733756388e-05, reg_lambda=0.0 will be ignored. Current value: lambda_l2=1.346399733756388e-05\n"
     ]
    },
    {
     "name": "stderr",
     "output_type": "stream",
     "text": [
      "\u001b[32m[I 2023-02-01 18:12:58,955]\u001b[0m Trial 79 finished with value: 2.1972575384790485 and parameters: {'feature_fraction': 0.0549090584217968, 'num_leaves': 121, 'bagging_fraction': 0.676610630456933, 'lambda_l1': 0.022223246082861095, 'lambda_l2': 1.346399733756388e-05, 'n_estimators': 187, 'max_depth': 4}. Best is trial 41 with value: 2.17549532600143.\u001b[0m\n"
     ]
    },
    {
     "name": "stdout",
     "output_type": "stream",
     "text": [
      "[LightGBM] [Warning] lambda_l1 is set=0.010722501425321974, reg_alpha=0.0 will be ignored. Current value: lambda_l1=0.010722501425321974\n",
      "[LightGBM] [Warning] bagging_fraction is set=0.6501937928339476, subsample=1.0 will be ignored. Current value: bagging_fraction=0.6501937928339476\n",
      "[LightGBM] [Warning] feature_fraction is set=0.23851920330501608, colsample_bytree=1.0 will be ignored. Current value: feature_fraction=0.23851920330501608\n",
      "[LightGBM] [Warning] lambda_l2 is set=1.384101286096572e-07, reg_lambda=0.0 will be ignored. Current value: lambda_l2=1.384101286096572e-07\n"
     ]
    },
    {
     "name": "stderr",
     "output_type": "stream",
     "text": [
      "\u001b[32m[I 2023-02-01 18:13:02,055]\u001b[0m Trial 80 finished with value: 2.2773155410266606 and parameters: {'feature_fraction': 0.23851920330501608, 'num_leaves': 92, 'bagging_fraction': 0.6501937928339476, 'lambda_l1': 0.010722501425321974, 'lambda_l2': 1.384101286096572e-07, 'n_estimators': 201, 'max_depth': 4}. Best is trial 41 with value: 2.17549532600143.\u001b[0m\n"
     ]
    },
    {
     "name": "stdout",
     "output_type": "stream",
     "text": [
      "[LightGBM] [Warning] lambda_l1 is set=0.048936984001041614, reg_alpha=0.0 will be ignored. Current value: lambda_l1=0.048936984001041614\n",
      "[LightGBM] [Warning] bagging_fraction is set=0.6611565567923057, subsample=1.0 will be ignored. Current value: bagging_fraction=0.6611565567923057\n",
      "[LightGBM] [Warning] feature_fraction is set=0.0247288607327364, colsample_bytree=1.0 will be ignored. Current value: feature_fraction=0.0247288607327364\n",
      "[LightGBM] [Warning] lambda_l2 is set=1.3583709436411613e-06, reg_lambda=0.0 will be ignored. Current value: lambda_l2=1.3583709436411613e-06\n"
     ]
    },
    {
     "name": "stderr",
     "output_type": "stream",
     "text": [
      "\u001b[32m[I 2023-02-01 18:13:03,695]\u001b[0m Trial 81 finished with value: 2.1905437094036535 and parameters: {'feature_fraction': 0.0247288607327364, 'num_leaves': 137, 'bagging_fraction': 0.6611565567923057, 'lambda_l1': 0.048936984001041614, 'lambda_l2': 1.3583709436411613e-06, 'n_estimators': 165, 'max_depth': 4}. Best is trial 41 with value: 2.17549532600143.\u001b[0m\n"
     ]
    },
    {
     "name": "stdout",
     "output_type": "stream",
     "text": [
      "[LightGBM] [Warning] lambda_l1 is set=0.045426954720018765, reg_alpha=0.0 will be ignored. Current value: lambda_l1=0.045426954720018765\n",
      "[LightGBM] [Warning] bagging_fraction is set=0.6644380343790712, subsample=1.0 will be ignored. Current value: bagging_fraction=0.6644380343790712\n",
      "[LightGBM] [Warning] feature_fraction is set=0.09409847857455356, colsample_bytree=1.0 will be ignored. Current value: feature_fraction=0.09409847857455356\n",
      "[LightGBM] [Warning] lambda_l2 is set=1.5320551362278114e-06, reg_lambda=0.0 will be ignored. Current value: lambda_l2=1.5320551362278114e-06\n"
     ]
    },
    {
     "name": "stderr",
     "output_type": "stream",
     "text": [
      "\u001b[32m[I 2023-02-01 18:13:05,732]\u001b[0m Trial 82 finished with value: 2.235975154975107 and parameters: {'feature_fraction': 0.09409847857455356, 'num_leaves': 148, 'bagging_fraction': 0.6644380343790712, 'lambda_l1': 0.045426954720018765, 'lambda_l2': 1.5320551362278114e-06, 'n_estimators': 169, 'max_depth': 4}. Best is trial 41 with value: 2.17549532600143.\u001b[0m\n"
     ]
    },
    {
     "name": "stdout",
     "output_type": "stream",
     "text": [
      "[LightGBM] [Warning] lambda_l1 is set=0.1884678602833604, reg_alpha=0.0 will be ignored. Current value: lambda_l1=0.1884678602833604\n",
      "[LightGBM] [Warning] bagging_fraction is set=0.6772183157530826, subsample=1.0 will be ignored. Current value: bagging_fraction=0.6772183157530826\n",
      "[LightGBM] [Warning] feature_fraction is set=0.041466384576573076, colsample_bytree=1.0 will be ignored. Current value: feature_fraction=0.041466384576573076\n",
      "[LightGBM] [Warning] lambda_l2 is set=3.3624910242557557e-06, reg_lambda=0.0 will be ignored. Current value: lambda_l2=3.3624910242557557e-06\n"
     ]
    },
    {
     "name": "stderr",
     "output_type": "stream",
     "text": [
      "\u001b[32m[I 2023-02-01 18:13:07,496]\u001b[0m Trial 83 finished with value: 2.199817601498722 and parameters: {'feature_fraction': 0.041466384576573076, 'num_leaves': 137, 'bagging_fraction': 0.6772183157530826, 'lambda_l1': 0.1884678602833604, 'lambda_l2': 3.3624910242557557e-06, 'n_estimators': 181, 'max_depth': 4}. Best is trial 41 with value: 2.17549532600143.\u001b[0m\n"
     ]
    },
    {
     "name": "stdout",
     "output_type": "stream",
     "text": [
      "[LightGBM] [Warning] lambda_l1 is set=0.023773499118476194, reg_alpha=0.0 will be ignored. Current value: lambda_l1=0.023773499118476194\n",
      "[LightGBM] [Warning] bagging_fraction is set=0.6560653556177859, subsample=1.0 will be ignored. Current value: bagging_fraction=0.6560653556177859\n",
      "[LightGBM] [Warning] feature_fraction is set=0.006580956082653772, colsample_bytree=1.0 will be ignored. Current value: feature_fraction=0.006580956082653772\n",
      "[LightGBM] [Warning] lambda_l2 is set=7.834006973544243e-06, reg_lambda=0.0 will be ignored. Current value: lambda_l2=7.834006973544243e-06\n"
     ]
    },
    {
     "name": "stderr",
     "output_type": "stream",
     "text": [
      "\u001b[32m[I 2023-02-01 18:13:09,004]\u001b[0m Trial 84 finished with value: 2.3628331446552284 and parameters: {'feature_fraction': 0.006580956082653772, 'num_leaves': 112, 'bagging_fraction': 0.6560653556177859, 'lambda_l1': 0.023773499118476194, 'lambda_l2': 7.834006973544243e-06, 'n_estimators': 152, 'max_depth': 4}. Best is trial 41 with value: 2.17549532600143.\u001b[0m\n"
     ]
    },
    {
     "name": "stdout",
     "output_type": "stream",
     "text": [
      "[LightGBM] [Warning] lambda_l1 is set=0.008371234726729345, reg_alpha=0.0 will be ignored. Current value: lambda_l1=0.008371234726729345\n",
      "[LightGBM] [Warning] bagging_fraction is set=0.7375883191542272, subsample=1.0 will be ignored. Current value: bagging_fraction=0.7375883191542272\n",
      "[LightGBM] [Warning] feature_fraction is set=0.06606912137909078, colsample_bytree=1.0 will be ignored. Current value: feature_fraction=0.06606912137909078\n",
      "[LightGBM] [Warning] lambda_l2 is set=1.1320733313957785e-06, reg_lambda=0.0 will be ignored. Current value: lambda_l2=1.1320733313957785e-06\n"
     ]
    },
    {
     "name": "stderr",
     "output_type": "stream",
     "text": [
      "\u001b[32m[I 2023-02-01 18:13:10,845]\u001b[0m Trial 85 finished with value: 2.2301420333318784 and parameters: {'feature_fraction': 0.06606912137909078, 'num_leaves': 129, 'bagging_fraction': 0.7375883191542272, 'lambda_l1': 0.008371234726729345, 'lambda_l2': 1.1320733313957785e-06, 'n_estimators': 162, 'max_depth': 4}. Best is trial 41 with value: 2.17549532600143.\u001b[0m\n"
     ]
    },
    {
     "name": "stdout",
     "output_type": "stream",
     "text": [
      "[LightGBM] [Warning] lambda_l1 is set=0.05550447684850008, reg_alpha=0.0 will be ignored. Current value: lambda_l1=0.05550447684850008\n",
      "[LightGBM] [Warning] bagging_fraction is set=0.7055405170398711, subsample=1.0 will be ignored. Current value: bagging_fraction=0.7055405170398711\n",
      "[LightGBM] [Warning] feature_fraction is set=0.13090852868975647, colsample_bytree=1.0 will be ignored. Current value: feature_fraction=0.13090852868975647\n",
      "[LightGBM] [Warning] lambda_l2 is set=5.354303824767788e-07, reg_lambda=0.0 will be ignored. Current value: lambda_l2=5.354303824767788e-07\n"
     ]
    },
    {
     "name": "stderr",
     "output_type": "stream",
     "text": [
      "\u001b[32m[I 2023-02-01 18:13:12,919]\u001b[0m Trial 86 finished with value: 2.2375063463527125 and parameters: {'feature_fraction': 0.13090852868975647, 'num_leaves': 79, 'bagging_fraction': 0.7055405170398711, 'lambda_l1': 0.05550447684850008, 'lambda_l2': 5.354303824767788e-07, 'n_estimators': 139, 'max_depth': 4}. Best is trial 41 with value: 2.17549532600143.\u001b[0m\n"
     ]
    },
    {
     "name": "stdout",
     "output_type": "stream",
     "text": [
      "[LightGBM] [Warning] lambda_l1 is set=0.004391581459541927, reg_alpha=0.0 will be ignored. Current value: lambda_l1=0.004391581459541927\n",
      "[LightGBM] [Warning] bagging_fraction is set=0.6319661406002477, subsample=1.0 will be ignored. Current value: bagging_fraction=0.6319661406002477\n",
      "[LightGBM] [Warning] feature_fraction is set=0.1002269570632136, colsample_bytree=1.0 will be ignored. Current value: feature_fraction=0.1002269570632136\n",
      "[LightGBM] [Warning] lambda_l2 is set=3.875246416560505e-06, reg_lambda=0.0 will be ignored. Current value: lambda_l2=3.875246416560505e-06\n"
     ]
    },
    {
     "name": "stderr",
     "output_type": "stream",
     "text": [
      "\u001b[32m[I 2023-02-01 18:13:15,067]\u001b[0m Trial 87 finished with value: 2.241758430646877 and parameters: {'feature_fraction': 0.1002269570632136, 'num_leaves': 143, 'bagging_fraction': 0.6319661406002477, 'lambda_l1': 0.004391581459541927, 'lambda_l2': 3.875246416560505e-06, 'n_estimators': 125, 'max_depth': 5}. Best is trial 41 with value: 2.17549532600143.\u001b[0m\n"
     ]
    },
    {
     "name": "stdout",
     "output_type": "stream",
     "text": [
      "[LightGBM] [Warning] lambda_l1 is set=0.014414722529327396, reg_alpha=0.0 will be ignored. Current value: lambda_l1=0.014414722529327396\n",
      "[LightGBM] [Warning] bagging_fraction is set=0.6168159608071806, subsample=1.0 will be ignored. Current value: bagging_fraction=0.6168159608071806\n",
      "[LightGBM] [Warning] feature_fraction is set=0.03135273313422034, colsample_bytree=1.0 will be ignored. Current value: feature_fraction=0.03135273313422034\n",
      "[LightGBM] [Warning] lambda_l2 is set=2.259949377199684e-05, reg_lambda=0.0 will be ignored. Current value: lambda_l2=2.259949377199684e-05\n"
     ]
    },
    {
     "name": "stderr",
     "output_type": "stream",
     "text": [
      "\u001b[32m[I 2023-02-01 18:13:16,806]\u001b[0m Trial 88 finished with value: 2.225354267832875 and parameters: {'feature_fraction': 0.03135273313422034, 'num_leaves': 106, 'bagging_fraction': 0.6168159608071806, 'lambda_l1': 0.014414722529327396, 'lambda_l2': 2.259949377199684e-05, 'n_estimators': 195, 'max_depth': 4}. Best is trial 41 with value: 2.17549532600143.\u001b[0m\n"
     ]
    },
    {
     "name": "stdout",
     "output_type": "stream",
     "text": [
      "[LightGBM] [Warning] lambda_l1 is set=0.0019172779174753867, reg_alpha=0.0 will be ignored. Current value: lambda_l1=0.0019172779174753867\n",
      "[LightGBM] [Warning] bagging_fraction is set=0.7148778466937774, subsample=1.0 will be ignored. Current value: bagging_fraction=0.7148778466937774\n",
      "[LightGBM] [Warning] feature_fraction is set=0.06966168374120481, colsample_bytree=1.0 will be ignored. Current value: feature_fraction=0.06966168374120481\n",
      "[LightGBM] [Warning] lambda_l2 is set=2.635009629601127e-06, reg_lambda=0.0 will be ignored. Current value: lambda_l2=2.635009629601127e-06\n"
     ]
    },
    {
     "name": "stderr",
     "output_type": "stream",
     "text": [
      "\u001b[32m[I 2023-02-01 18:13:18,508]\u001b[0m Trial 89 finished with value: 2.2220783829063384 and parameters: {'feature_fraction': 0.06966168374120481, 'num_leaves': 156, 'bagging_fraction': 0.7148778466937774, 'lambda_l1': 0.0019172779174753867, 'lambda_l2': 2.635009629601127e-06, 'n_estimators': 172, 'max_depth': 3}. Best is trial 41 with value: 2.17549532600143.\u001b[0m\n"
     ]
    },
    {
     "name": "stdout",
     "output_type": "stream",
     "text": [
      "[LightGBM] [Warning] lambda_l1 is set=0.030784969682145214, reg_alpha=0.0 will be ignored. Current value: lambda_l1=0.030784969682145214\n",
      "[LightGBM] [Warning] bagging_fraction is set=0.6871610095505554, subsample=1.0 will be ignored. Current value: bagging_fraction=0.6871610095505554\n",
      "[LightGBM] [Warning] feature_fraction is set=0.050312200383441294, colsample_bytree=1.0 will be ignored. Current value: feature_fraction=0.050312200383441294\n",
      "[LightGBM] [Warning] lambda_l2 is set=8.640788803907244e-07, reg_lambda=0.0 will be ignored. Current value: lambda_l2=8.640788803907244e-07\n"
     ]
    },
    {
     "name": "stderr",
     "output_type": "stream",
     "text": [
      "\u001b[32m[I 2023-02-01 18:13:20,246]\u001b[0m Trial 90 finished with value: 2.2317785651416977 and parameters: {'feature_fraction': 0.050312200383441294, 'num_leaves': 120, 'bagging_fraction': 0.6871610095505554, 'lambda_l1': 0.030784969682145214, 'lambda_l2': 8.640788803907244e-07, 'n_estimators': 152, 'max_depth': 4}. Best is trial 41 with value: 2.17549532600143.\u001b[0m\n"
     ]
    },
    {
     "name": "stdout",
     "output_type": "stream",
     "text": [
      "[LightGBM] [Warning] lambda_l1 is set=0.07392523737952246, reg_alpha=0.0 will be ignored. Current value: lambda_l1=0.07392523737952246\n",
      "[LightGBM] [Warning] bagging_fraction is set=0.57766777375875, subsample=1.0 will be ignored. Current value: bagging_fraction=0.57766777375875\n",
      "[LightGBM] [Warning] feature_fraction is set=1.8543966061261574e-05, colsample_bytree=1.0 will be ignored. Current value: feature_fraction=1.8543966061261574e-05\n",
      "[LightGBM] [Warning] lambda_l2 is set=3.860282575306412e-07, reg_lambda=0.0 will be ignored. Current value: lambda_l2=3.860282575306412e-07\n"
     ]
    },
    {
     "name": "stderr",
     "output_type": "stream",
     "text": [
      "\u001b[32m[I 2023-02-01 18:13:21,723]\u001b[0m Trial 91 finished with value: 2.382430391030874 and parameters: {'feature_fraction': 1.8543966061261574e-05, 'num_leaves': 180, 'bagging_fraction': 0.57766777375875, 'lambda_l1': 0.07392523737952246, 'lambda_l2': 3.860282575306412e-07, 'n_estimators': 144, 'max_depth': 4}. Best is trial 41 with value: 2.17549532600143.\u001b[0m\n"
     ]
    },
    {
     "name": "stdout",
     "output_type": "stream",
     "text": [
      "[LightGBM] [Warning] lambda_l1 is set=0.3716367695632784, reg_alpha=0.0 will be ignored. Current value: lambda_l1=0.3716367695632784\n",
      "[LightGBM] [Warning] bagging_fraction is set=0.5565103784515342, subsample=1.0 will be ignored. Current value: bagging_fraction=0.5565103784515342\n",
      "[LightGBM] [Warning] feature_fraction is set=0.022945752584792468, colsample_bytree=1.0 will be ignored. Current value: feature_fraction=0.022945752584792468\n",
      "[LightGBM] [Warning] lambda_l2 is set=1.4538508379488402e-06, reg_lambda=0.0 will be ignored. Current value: lambda_l2=1.4538508379488402e-06\n"
     ]
    },
    {
     "name": "stderr",
     "output_type": "stream",
     "text": [
      "\u001b[32m[I 2023-02-01 18:13:23,307]\u001b[0m Trial 92 finished with value: 2.21269530943767 and parameters: {'feature_fraction': 0.022945752584792468, 'num_leaves': 167, 'bagging_fraction': 0.5565103784515342, 'lambda_l1': 0.3716367695632784, 'lambda_l2': 1.4538508379488402e-06, 'n_estimators': 137, 'max_depth': 4}. Best is trial 41 with value: 2.17549532600143.\u001b[0m\n"
     ]
    },
    {
     "name": "stdout",
     "output_type": "stream",
     "text": [
      "[LightGBM] [Warning] lambda_l1 is set=0.21475323221687223, reg_alpha=0.0 will be ignored. Current value: lambda_l1=0.21475323221687223\n",
      "[LightGBM] [Warning] bagging_fraction is set=0.6495845606802452, subsample=1.0 will be ignored. Current value: bagging_fraction=0.6495845606802452\n",
      "[LightGBM] [Warning] feature_fraction is set=0.11112345934807702, colsample_bytree=1.0 will be ignored. Current value: feature_fraction=0.11112345934807702\n",
      "[LightGBM] [Warning] lambda_l2 is set=5.2565080752541575e-06, reg_lambda=0.0 will be ignored. Current value: lambda_l2=5.2565080752541575e-06\n"
     ]
    },
    {
     "name": "stderr",
     "output_type": "stream",
     "text": [
      "\u001b[32m[I 2023-02-01 18:13:25,409]\u001b[0m Trial 93 finished with value: 2.265050060681506 and parameters: {'feature_fraction': 0.11112345934807702, 'num_leaves': 176, 'bagging_fraction': 0.6495845606802452, 'lambda_l1': 0.21475323221687223, 'lambda_l2': 5.2565080752541575e-06, 'n_estimators': 160, 'max_depth': 4}. Best is trial 41 with value: 2.17549532600143.\u001b[0m\n"
     ]
    },
    {
     "name": "stdout",
     "output_type": "stream",
     "text": [
      "[LightGBM] [Warning] lambda_l1 is set=0.14292258698211596, reg_alpha=0.0 will be ignored. Current value: lambda_l1=0.14292258698211596\n",
      "[LightGBM] [Warning] bagging_fraction is set=0.6066996390043385, subsample=1.0 will be ignored. Current value: bagging_fraction=0.6066996390043385\n",
      "[LightGBM] [Warning] feature_fraction is set=0.04922571957220029, colsample_bytree=1.0 will be ignored. Current value: feature_fraction=0.04922571957220029\n",
      "[LightGBM] [Warning] lambda_l2 is set=2.054319745822585e-06, reg_lambda=0.0 will be ignored. Current value: lambda_l2=2.054319745822585e-06\n"
     ]
    },
    {
     "name": "stderr",
     "output_type": "stream",
     "text": [
      "\u001b[32m[I 2023-02-01 18:13:27,210]\u001b[0m Trial 94 finished with value: 2.22987332924214 and parameters: {'feature_fraction': 0.04922571957220029, 'num_leaves': 140, 'bagging_fraction': 0.6066996390043385, 'lambda_l1': 0.14292258698211596, 'lambda_l2': 2.054319745822585e-06, 'n_estimators': 175, 'max_depth': 4}. Best is trial 41 with value: 2.17549532600143.\u001b[0m\n"
     ]
    },
    {
     "name": "stdout",
     "output_type": "stream",
     "text": [
      "[LightGBM] [Warning] lambda_l1 is set=0.005870533613703132, reg_alpha=0.0 will be ignored. Current value: lambda_l1=0.005870533613703132\n",
      "[LightGBM] [Warning] bagging_fraction is set=0.6345750077585028, subsample=1.0 will be ignored. Current value: bagging_fraction=0.6345750077585028\n",
      "[LightGBM] [Warning] feature_fraction is set=0.08280330724841217, colsample_bytree=1.0 will be ignored. Current value: feature_fraction=0.08280330724841217\n",
      "[LightGBM] [Warning] lambda_l2 is set=7.61481283983511e-06, reg_lambda=0.0 will be ignored. Current value: lambda_l2=7.61481283983511e-06\n"
     ]
    },
    {
     "name": "stderr",
     "output_type": "stream",
     "text": [
      "\u001b[32m[I 2023-02-01 18:13:29,159]\u001b[0m Trial 95 finished with value: 2.2534615600074606 and parameters: {'feature_fraction': 0.08280330724841217, 'num_leaves': 161, 'bagging_fraction': 0.6345750077585028, 'lambda_l1': 0.005870533613703132, 'lambda_l2': 7.61481283983511e-06, 'n_estimators': 166, 'max_depth': 4}. Best is trial 41 with value: 2.17549532600143.\u001b[0m\n"
     ]
    },
    {
     "name": "stdout",
     "output_type": "stream",
     "text": [
      "[LightGBM] [Warning] lambda_l1 is set=0.04245173072181402, reg_alpha=0.0 will be ignored. Current value: lambda_l1=0.04245173072181402\n",
      "[LightGBM] [Warning] bagging_fraction is set=0.5970785264125578, subsample=1.0 will be ignored. Current value: bagging_fraction=0.5970785264125578\n",
      "[LightGBM] [Warning] feature_fraction is set=0.02192509159524147, colsample_bytree=1.0 will be ignored. Current value: feature_fraction=0.02192509159524147\n",
      "[LightGBM] [Warning] lambda_l2 is set=7.038550786430495e-07, reg_lambda=0.0 will be ignored. Current value: lambda_l2=7.038550786430495e-07\n"
     ]
    },
    {
     "name": "stderr",
     "output_type": "stream",
     "text": [
      "\u001b[32m[I 2023-02-01 18:13:30,756]\u001b[0m Trial 96 finished with value: 2.2333048565092124 and parameters: {'feature_fraction': 0.02192509159524147, 'num_leaves': 134, 'bagging_fraction': 0.5970785264125578, 'lambda_l1': 0.04245173072181402, 'lambda_l2': 7.038550786430495e-07, 'n_estimators': 133, 'max_depth': 4}. Best is trial 41 with value: 2.17549532600143.\u001b[0m\n"
     ]
    },
    {
     "name": "stdout",
     "output_type": "stream",
     "text": [
      "[LightGBM] [Warning] lambda_l1 is set=0.09091750275485502, reg_alpha=0.0 will be ignored. Current value: lambda_l1=0.09091750275485502\n",
      "[LightGBM] [Warning] bagging_fraction is set=0.5626525261428352, subsample=1.0 will be ignored. Current value: bagging_fraction=0.5626525261428352\n",
      "[LightGBM] [Warning] feature_fraction is set=0.06373631596386316, colsample_bytree=1.0 will be ignored. Current value: feature_fraction=0.06373631596386316\n",
      "[LightGBM] [Warning] lambda_l2 is set=3.329728275494766e-07, reg_lambda=0.0 will be ignored. Current value: lambda_l2=3.329728275494766e-07\n"
     ]
    },
    {
     "name": "stderr",
     "output_type": "stream",
     "text": [
      "\u001b[32m[I 2023-02-01 18:13:32,480]\u001b[0m Trial 97 finished with value: 2.2516314297361086 and parameters: {'feature_fraction': 0.06373631596386316, 'num_leaves': 128, 'bagging_fraction': 0.5626525261428352, 'lambda_l1': 0.09091750275485502, 'lambda_l2': 3.329728275494766e-07, 'n_estimators': 125, 'max_depth': 4}. Best is trial 41 with value: 2.17549532600143.\u001b[0m\n"
     ]
    },
    {
     "name": "stdout",
     "output_type": "stream",
     "text": [
      "[LightGBM] [Warning] lambda_l1 is set=0.0029363563349044095, reg_alpha=0.0 will be ignored. Current value: lambda_l1=0.0029363563349044095\n",
      "[LightGBM] [Warning] bagging_fraction is set=0.6244806055650671, subsample=1.0 will be ignored. Current value: bagging_fraction=0.6244806055650671\n",
      "[LightGBM] [Warning] feature_fraction is set=0.15850171499581434, colsample_bytree=1.0 will be ignored. Current value: feature_fraction=0.15850171499581434\n",
      "[LightGBM] [Warning] lambda_l2 is set=1.7459871119082143e-07, reg_lambda=0.0 will be ignored. Current value: lambda_l2=1.7459871119082143e-07\n"
     ]
    },
    {
     "name": "stderr",
     "output_type": "stream",
     "text": [
      "\u001b[32m[I 2023-02-01 18:13:34,779]\u001b[0m Trial 98 finished with value: 2.250941068306869 and parameters: {'feature_fraction': 0.15850171499581434, 'num_leaves': 150, 'bagging_fraction': 0.6244806055650671, 'lambda_l1': 0.0029363563349044095, 'lambda_l2': 1.7459871119082143e-07, 'n_estimators': 156, 'max_depth': 4}. Best is trial 41 with value: 2.17549532600143.\u001b[0m\n"
     ]
    },
    {
     "name": "stdout",
     "output_type": "stream",
     "text": [
      "[LightGBM] [Warning] lambda_l1 is set=0.01775371249242097, reg_alpha=0.0 will be ignored. Current value: lambda_l1=0.01775371249242097\n",
      "[LightGBM] [Warning] bagging_fraction is set=0.6637867565451122, subsample=1.0 will be ignored. Current value: bagging_fraction=0.6637867565451122\n",
      "[LightGBM] [Warning] feature_fraction is set=0.03845884058344995, colsample_bytree=1.0 will be ignored. Current value: feature_fraction=0.03845884058344995\n",
      "[LightGBM] [Warning] lambda_l2 is set=1.1588155857355874e-05, reg_lambda=0.0 will be ignored. Current value: lambda_l2=1.1588155857355874e-05\n"
     ]
    },
    {
     "name": "stderr",
     "output_type": "stream",
     "text": [
      "\u001b[32m[I 2023-02-01 18:13:36,699]\u001b[0m Trial 99 finished with value: 2.221366287770622 and parameters: {'feature_fraction': 0.03845884058344995, 'num_leaves': 225, 'bagging_fraction': 0.6637867565451122, 'lambda_l1': 0.01775371249242097, 'lambda_l2': 1.1588155857355874e-05, 'n_estimators': 181, 'max_depth': 5}. Best is trial 41 with value: 2.17549532600143.\u001b[0m\n"
     ]
    },
    {
     "name": "stdout",
     "output_type": "stream",
     "text": [
      "[LightGBM] [Warning] lambda_l1 is set=0.008421405567371979, reg_alpha=0.0 will be ignored. Current value: lambda_l1=0.008421405567371979\n",
      "[LightGBM] [Warning] bagging_fraction is set=0.5889655005074964, subsample=1.0 will be ignored. Current value: bagging_fraction=0.5889655005074964\n",
      "[LightGBM] [Warning] feature_fraction is set=0.1227311548946123, colsample_bytree=1.0 will be ignored. Current value: feature_fraction=0.1227311548946123\n",
      "[LightGBM] [Warning] lambda_l2 is set=4.034024020478833e-06, reg_lambda=0.0 will be ignored. Current value: lambda_l2=4.034024020478833e-06\n"
     ]
    },
    {
     "name": "stderr",
     "output_type": "stream",
     "text": [
      "\u001b[32m[I 2023-02-01 18:13:38,335]\u001b[0m Trial 100 finished with value: 2.2779408134472297 and parameters: {'feature_fraction': 0.1227311548946123, 'num_leaves': 124, 'bagging_fraction': 0.5889655005074964, 'lambda_l1': 0.008421405567371979, 'lambda_l2': 4.034024020478833e-06, 'n_estimators': 144, 'max_depth': 2}. Best is trial 41 with value: 2.17549532600143.\u001b[0m\n"
     ]
    },
    {
     "name": "stdout",
     "output_type": "stream",
     "text": [
      "[LightGBM] [Warning] lambda_l1 is set=0.02022427312751352, reg_alpha=0.0 will be ignored. Current value: lambda_l1=0.02022427312751352\n",
      "[LightGBM] [Warning] bagging_fraction is set=0.6861523598685733, subsample=1.0 will be ignored. Current value: bagging_fraction=0.6861523598685733\n",
      "[LightGBM] [Warning] feature_fraction is set=0.05745680087018738, colsample_bytree=1.0 will be ignored. Current value: feature_fraction=0.05745680087018738\n",
      "[LightGBM] [Warning] lambda_l2 is set=1.1648698493007016e-05, reg_lambda=0.0 will be ignored. Current value: lambda_l2=1.1648698493007016e-05\n"
     ]
    },
    {
     "name": "stderr",
     "output_type": "stream",
     "text": [
      "\u001b[32m[I 2023-02-01 18:13:40,338]\u001b[0m Trial 101 finished with value: 2.212210557445514 and parameters: {'feature_fraction': 0.05745680087018738, 'num_leaves': 114, 'bagging_fraction': 0.6861523598685733, 'lambda_l1': 0.02022427312751352, 'lambda_l2': 1.1648698493007016e-05, 'n_estimators': 232, 'max_depth': 4}. Best is trial 41 with value: 2.17549532600143.\u001b[0m\n"
     ]
    },
    {
     "name": "stdout",
     "output_type": "stream",
     "text": [
      "[LightGBM] [Warning] lambda_l1 is set=0.03132242054237768, reg_alpha=0.0 will be ignored. Current value: lambda_l1=0.03132242054237768\n",
      "[LightGBM] [Warning] bagging_fraction is set=0.6770687928956574, subsample=1.0 will be ignored. Current value: bagging_fraction=0.6770687928956574\n",
      "[LightGBM] [Warning] feature_fraction is set=0.08975646132828621, colsample_bytree=1.0 will be ignored. Current value: feature_fraction=0.08975646132828621\n",
      "[LightGBM] [Warning] lambda_l2 is set=2.0728174025195786e-06, reg_lambda=0.0 will be ignored. Current value: lambda_l2=2.0728174025195786e-06\n"
     ]
    },
    {
     "name": "stderr",
     "output_type": "stream",
     "text": [
      "\u001b[32m[I 2023-02-01 18:13:42,413]\u001b[0m Trial 102 finished with value: 2.211822142013374 and parameters: {'feature_fraction': 0.08975646132828621, 'num_leaves': 120, 'bagging_fraction': 0.6770687928956574, 'lambda_l1': 0.03132242054237768, 'lambda_l2': 2.0728174025195786e-06, 'n_estimators': 187, 'max_depth': 4}. Best is trial 41 with value: 2.17549532600143.\u001b[0m\n"
     ]
    },
    {
     "name": "stdout",
     "output_type": "stream",
     "text": [
      "[LightGBM] [Warning] lambda_l1 is set=0.12492964859802201, reg_alpha=0.0 will be ignored. Current value: lambda_l1=0.12492964859802201\n",
      "[LightGBM] [Warning] bagging_fraction is set=0.5378929079545877, subsample=1.0 will be ignored. Current value: bagging_fraction=0.5378929079545877\n",
      "[LightGBM] [Warning] feature_fraction is set=0.02401419289705382, colsample_bytree=1.0 will be ignored. Current value: feature_fraction=0.02401419289705382\n",
      "[LightGBM] [Warning] lambda_l2 is set=1.0582198947577977e-06, reg_lambda=0.0 will be ignored. Current value: lambda_l2=1.0582198947577977e-06\n"
     ]
    },
    {
     "name": "stderr",
     "output_type": "stream",
     "text": [
      "\u001b[32m[I 2023-02-01 18:13:44,094]\u001b[0m Trial 103 finished with value: 2.197490055304747 and parameters: {'feature_fraction': 0.02401419289705382, 'num_leaves': 212, 'bagging_fraction': 0.5378929079545877, 'lambda_l1': 0.12492964859802201, 'lambda_l2': 1.0582198947577977e-06, 'n_estimators': 192, 'max_depth': 4}. Best is trial 41 with value: 2.17549532600143.\u001b[0m\n"
     ]
    },
    {
     "name": "stdout",
     "output_type": "stream",
     "text": [
      "[LightGBM] [Warning] lambda_l1 is set=0.26961776086001044, reg_alpha=0.0 will be ignored. Current value: lambda_l1=0.26961776086001044\n",
      "[LightGBM] [Warning] bagging_fraction is set=0.6960090000881047, subsample=1.0 will be ignored. Current value: bagging_fraction=0.6960090000881047\n",
      "[LightGBM] [Warning] feature_fraction is set=0.04946383130661957, colsample_bytree=1.0 will be ignored. Current value: feature_fraction=0.04946383130661957\n",
      "[LightGBM] [Warning] lambda_l2 is set=1.8289492010447338e-05, reg_lambda=0.0 will be ignored. Current value: lambda_l2=1.8289492010447338e-05\n"
     ]
    },
    {
     "name": "stderr",
     "output_type": "stream",
     "text": [
      "\u001b[32m[I 2023-02-01 18:13:45,980]\u001b[0m Trial 104 finished with value: 2.2316104367062897 and parameters: {'feature_fraction': 0.04946383130661957, 'num_leaves': 98, 'bagging_fraction': 0.6960090000881047, 'lambda_l1': 0.26961776086001044, 'lambda_l2': 1.8289492010447338e-05, 'n_estimators': 204, 'max_depth': 4}. Best is trial 41 with value: 2.17549532600143.\u001b[0m\n"
     ]
    },
    {
     "name": "stdout",
     "output_type": "stream",
     "text": [
      "[LightGBM] [Warning] lambda_l1 is set=0.0587457967675752, reg_alpha=0.0 will be ignored. Current value: lambda_l1=0.0587457967675752\n",
      "[LightGBM] [Warning] bagging_fraction is set=0.6573096976937696, subsample=1.0 will be ignored. Current value: bagging_fraction=0.6573096976937696\n",
      "[LightGBM] [Warning] feature_fraction is set=0.07272390402489984, colsample_bytree=1.0 will be ignored. Current value: feature_fraction=0.07272390402489984\n",
      "[LightGBM] [Warning] lambda_l2 is set=3.332886965407394e-06, reg_lambda=0.0 will be ignored. Current value: lambda_l2=3.332886965407394e-06\n"
     ]
    },
    {
     "name": "stderr",
     "output_type": "stream",
     "text": [
      "\u001b[32m[I 2023-02-01 18:13:47,889]\u001b[0m Trial 105 finished with value: 2.235090897234703 and parameters: {'feature_fraction': 0.07272390402489984, 'num_leaves': 133, 'bagging_fraction': 0.6573096976937696, 'lambda_l1': 0.0587457967675752, 'lambda_l2': 3.332886965407394e-06, 'n_estimators': 166, 'max_depth': 4}. Best is trial 41 with value: 2.17549532600143.\u001b[0m\n"
     ]
    },
    {
     "name": "stdout",
     "output_type": "stream",
     "text": [
      "[LightGBM] [Warning] lambda_l1 is set=0.019824018332324583, reg_alpha=0.0 will be ignored. Current value: lambda_l1=0.019824018332324583\n",
      "[LightGBM] [Warning] bagging_fraction is set=0.6717354494320992, subsample=1.0 will be ignored. Current value: bagging_fraction=0.6717354494320992\n",
      "[LightGBM] [Warning] feature_fraction is set=0.0010030087114412632, colsample_bytree=1.0 will be ignored. Current value: feature_fraction=0.0010030087114412632\n",
      "[LightGBM] [Warning] lambda_l2 is set=5.438221232056214e-06, reg_lambda=0.0 will be ignored. Current value: lambda_l2=5.438221232056214e-06\n"
     ]
    },
    {
     "name": "stderr",
     "output_type": "stream",
     "text": [
      "\u001b[32m[I 2023-02-01 18:13:49,413]\u001b[0m Trial 106 finished with value: 2.3451321438173247 and parameters: {'feature_fraction': 0.0010030087114412632, 'num_leaves': 106, 'bagging_fraction': 0.6717354494320992, 'lambda_l1': 0.019824018332324583, 'lambda_l2': 5.438221232056214e-06, 'n_estimators': 184, 'max_depth': 4}. Best is trial 41 with value: 2.17549532600143.\u001b[0m\n"
     ]
    },
    {
     "name": "stdout",
     "output_type": "stream",
     "text": [
      "[LightGBM] [Warning] lambda_l1 is set=0.5408165079565581, reg_alpha=0.0 will be ignored. Current value: lambda_l1=0.5408165079565581\n",
      "[LightGBM] [Warning] bagging_fraction is set=0.6106422577483691, subsample=1.0 will be ignored. Current value: bagging_fraction=0.6106422577483691\n",
      "[LightGBM] [Warning] feature_fraction is set=0.10326448944857494, colsample_bytree=1.0 will be ignored. Current value: feature_fraction=0.10326448944857494\n",
      "[LightGBM] [Warning] lambda_l2 is set=5.524813345765691e-07, reg_lambda=0.0 will be ignored. Current value: lambda_l2=5.524813345765691e-07\n"
     ]
    },
    {
     "name": "stderr",
     "output_type": "stream",
     "text": [
      "\u001b[32m[I 2023-02-01 18:13:51,259]\u001b[0m Trial 107 finished with value: 2.23336896003236 and parameters: {'feature_fraction': 0.10326448944857494, 'num_leaves': 139, 'bagging_fraction': 0.6106422577483691, 'lambda_l1': 0.5408165079565581, 'lambda_l2': 5.524813345765691e-07, 'n_estimators': 113, 'max_depth': 4}. Best is trial 41 with value: 2.17549532600143.\u001b[0m\n"
     ]
    },
    {
     "name": "stdout",
     "output_type": "stream",
     "text": [
      "[LightGBM] [Warning] lambda_l1 is set=0.06660487628429006, reg_alpha=0.0 will be ignored. Current value: lambda_l1=0.06660487628429006\n",
      "[LightGBM] [Warning] bagging_fraction is set=0.6406997199195612, subsample=1.0 will be ignored. Current value: bagging_fraction=0.6406997199195612\n",
      "[LightGBM] [Warning] feature_fraction is set=0.03364710912027793, colsample_bytree=1.0 will be ignored. Current value: feature_fraction=0.03364710912027793\n",
      "[LightGBM] [Warning] lambda_l2 is set=1.018416352312125e-06, reg_lambda=0.0 will be ignored. Current value: lambda_l2=1.018416352312125e-06\n"
     ]
    },
    {
     "name": "stderr",
     "output_type": "stream",
     "text": [
      "\u001b[32m[I 2023-02-01 18:13:52,911]\u001b[0m Trial 108 finished with value: 2.1904011040472784 and parameters: {'feature_fraction': 0.03364710912027793, 'num_leaves': 253, 'bagging_fraction': 0.6406997199195612, 'lambda_l1': 0.06660487628429006, 'lambda_l2': 1.018416352312125e-06, 'n_estimators': 148, 'max_depth': 4}. Best is trial 41 with value: 2.17549532600143.\u001b[0m\n"
     ]
    },
    {
     "name": "stdout",
     "output_type": "stream",
     "text": [
      "[LightGBM] [Warning] lambda_l1 is set=0.06789017498332138, reg_alpha=0.0 will be ignored. Current value: lambda_l1=0.06789017498332138\n",
      "[LightGBM] [Warning] bagging_fraction is set=0.5723408533885643, subsample=1.0 will be ignored. Current value: bagging_fraction=0.5723408533885643\n",
      "[LightGBM] [Warning] feature_fraction is set=0.018689167154606265, colsample_bytree=1.0 will be ignored. Current value: feature_fraction=0.018689167154606265\n",
      "[LightGBM] [Warning] lambda_l2 is set=1.030293692971827e-06, reg_lambda=0.0 will be ignored. Current value: lambda_l2=1.030293692971827e-06\n"
     ]
    },
    {
     "name": "stderr",
     "output_type": "stream",
     "text": [
      "\u001b[32m[I 2023-02-01 18:13:54,412]\u001b[0m Trial 109 finished with value: 2.324922625279333 and parameters: {'feature_fraction': 0.018689167154606265, 'num_leaves': 229, 'bagging_fraction': 0.5723408533885643, 'lambda_l1': 0.06789017498332138, 'lambda_l2': 1.030293692971827e-06, 'n_estimators': 151, 'max_depth': 3}. Best is trial 41 with value: 2.17549532600143.\u001b[0m\n"
     ]
    },
    {
     "name": "stdout",
     "output_type": "stream",
     "text": [
      "[LightGBM] [Warning] lambda_l1 is set=0.10977723744344497, reg_alpha=0.0 will be ignored. Current value: lambda_l1=0.10977723744344497\n",
      "[LightGBM] [Warning] bagging_fraction is set=0.6441693617673766, subsample=1.0 will be ignored. Current value: bagging_fraction=0.6441693617673766\n",
      "[LightGBM] [Warning] feature_fraction is set=0.13377232918135273, colsample_bytree=1.0 will be ignored. Current value: feature_fraction=0.13377232918135273\n",
      "[LightGBM] [Warning] lambda_l2 is set=2.740261943075822e-07, reg_lambda=0.0 will be ignored. Current value: lambda_l2=2.740261943075822e-07\n"
     ]
    },
    {
     "name": "stderr",
     "output_type": "stream",
     "text": [
      "\u001b[32m[I 2023-02-01 18:13:56,773]\u001b[0m Trial 110 finished with value: 2.24994916169911 and parameters: {'feature_fraction': 0.13377232918135273, 'num_leaves': 240, 'bagging_fraction': 0.6441693617673766, 'lambda_l1': 0.10977723744344497, 'lambda_l2': 2.740261943075822e-07, 'n_estimators': 120, 'max_depth': 5}. Best is trial 41 with value: 2.17549532600143.\u001b[0m\n"
     ]
    },
    {
     "name": "stdout",
     "output_type": "stream",
     "text": [
      "[LightGBM] [Warning] lambda_l1 is set=0.012170337381636306, reg_alpha=0.0 will be ignored. Current value: lambda_l1=0.012170337381636306\n",
      "[LightGBM] [Warning] bagging_fraction is set=0.6402983725038335, subsample=1.0 will be ignored. Current value: bagging_fraction=0.6402983725038335\n",
      "[LightGBM] [Warning] feature_fraction is set=0.04315131490897496, colsample_bytree=1.0 will be ignored. Current value: feature_fraction=0.04315131490897496\n",
      "[LightGBM] [Warning] lambda_l2 is set=2.2380836029931197e-06, reg_lambda=0.0 will be ignored. Current value: lambda_l2=2.2380836029931197e-06\n"
     ]
    },
    {
     "name": "stderr",
     "output_type": "stream",
     "text": [
      "\u001b[32m[I 2023-02-01 18:13:58,468]\u001b[0m Trial 111 finished with value: 2.239261025997462 and parameters: {'feature_fraction': 0.04315131490897496, 'num_leaves': 245, 'bagging_fraction': 0.6402983725038335, 'lambda_l1': 0.012170337381636306, 'lambda_l2': 2.2380836029931197e-06, 'n_estimators': 148, 'max_depth': 4}. Best is trial 41 with value: 2.17549532600143.\u001b[0m\n"
     ]
    },
    {
     "name": "stdout",
     "output_type": "stream",
     "text": [
      "[LightGBM] [Warning] lambda_l1 is set=0.02757141019895342, reg_alpha=0.0 will be ignored. Current value: lambda_l1=0.02757141019895342\n",
      "[LightGBM] [Warning] bagging_fraction is set=0.6291851545575242, subsample=1.0 will be ignored. Current value: bagging_fraction=0.6291851545575242\n",
      "[LightGBM] [Warning] feature_fraction is set=0.0829155080603755, colsample_bytree=1.0 will be ignored. Current value: feature_fraction=0.0829155080603755\n",
      "[LightGBM] [Warning] lambda_l2 is set=1.4968886505842333e-06, reg_lambda=0.0 will be ignored. Current value: lambda_l2=1.4968886505842333e-06\n"
     ]
    },
    {
     "name": "stderr",
     "output_type": "stream",
     "text": [
      "\u001b[32m[I 2023-02-01 18:14:00,317]\u001b[0m Trial 112 finished with value: 2.2540863408661598 and parameters: {'feature_fraction': 0.0829155080603755, 'num_leaves': 251, 'bagging_fraction': 0.6291851545575242, 'lambda_l1': 0.02757141019895342, 'lambda_l2': 1.4968886505842333e-06, 'n_estimators': 139, 'max_depth': 4}. Best is trial 41 with value: 2.17549532600143.\u001b[0m\n"
     ]
    },
    {
     "name": "stdout",
     "output_type": "stream",
     "text": [
      "[LightGBM] [Warning] lambda_l1 is set=0.005876010662927701, reg_alpha=0.0 will be ignored. Current value: lambda_l1=0.005876010662927701\n",
      "[LightGBM] [Warning] bagging_fraction is set=0.7182928434466023, subsample=1.0 will be ignored. Current value: bagging_fraction=0.7182928434466023\n",
      "[LightGBM] [Warning] feature_fraction is set=0.06304776182397544, colsample_bytree=1.0 will be ignored. Current value: feature_fraction=0.06304776182397544\n",
      "[LightGBM] [Warning] lambda_l2 is set=2.909336266023116e-06, reg_lambda=0.0 will be ignored. Current value: lambda_l2=2.909336266023116e-06\n"
     ]
    },
    {
     "name": "stderr",
     "output_type": "stream",
     "text": [
      "\u001b[32m[I 2023-02-01 18:14:02,123]\u001b[0m Trial 113 finished with value: 2.255966301403243 and parameters: {'feature_fraction': 0.06304776182397544, 'num_leaves': 206, 'bagging_fraction': 0.7182928434466023, 'lambda_l1': 0.005876010662927701, 'lambda_l2': 2.909336266023116e-06, 'n_estimators': 156, 'max_depth': 4}. Best is trial 41 with value: 2.17549532600143.\u001b[0m\n"
     ]
    },
    {
     "name": "stdout",
     "output_type": "stream",
     "text": [
      "[LightGBM] [Warning] lambda_l1 is set=0.046805393516601464, reg_alpha=0.0 will be ignored. Current value: lambda_l1=0.046805393516601464\n",
      "[LightGBM] [Warning] bagging_fraction is set=0.6757636799995113, subsample=1.0 will be ignored. Current value: bagging_fraction=0.6757636799995113\n",
      "[LightGBM] [Warning] feature_fraction is set=0.02092233571190725, colsample_bytree=1.0 will be ignored. Current value: feature_fraction=0.02092233571190725\n",
      "[LightGBM] [Warning] lambda_l2 is set=7.585149026369613e-06, reg_lambda=0.0 will be ignored. Current value: lambda_l2=7.585149026369613e-06\n"
     ]
    },
    {
     "name": "stderr",
     "output_type": "stream",
     "text": [
      "\u001b[32m[I 2023-02-01 18:14:03,727]\u001b[0m Trial 114 finished with value: 2.2335220632436754 and parameters: {'feature_fraction': 0.02092233571190725, 'num_leaves': 254, 'bagging_fraction': 0.6757636799995113, 'lambda_l1': 0.046805393516601464, 'lambda_l2': 7.585149026369613e-06, 'n_estimators': 130, 'max_depth': 4}. Best is trial 41 with value: 2.17549532600143.\u001b[0m\n"
     ]
    },
    {
     "name": "stdout",
     "output_type": "stream",
     "text": [
      "[LightGBM] [Warning] lambda_l1 is set=0.17245486315842362, reg_alpha=0.0 will be ignored. Current value: lambda_l1=0.17245486315842362\n",
      "[LightGBM] [Warning] bagging_fraction is set=0.6513626024086046, subsample=1.0 will be ignored. Current value: bagging_fraction=0.6513626024086046\n",
      "[LightGBM] [Warning] feature_fraction is set=0.03896664692429769, colsample_bytree=1.0 will be ignored. Current value: feature_fraction=0.03896664692429769\n",
      "[LightGBM] [Warning] lambda_l2 is set=7.355931312686573e-07, reg_lambda=0.0 will be ignored. Current value: lambda_l2=7.355931312686573e-07\n"
     ]
    },
    {
     "name": "stderr",
     "output_type": "stream",
     "text": [
      "\u001b[32m[I 2023-02-01 18:14:05,467]\u001b[0m Trial 115 finished with value: 2.2097700644599776 and parameters: {'feature_fraction': 0.03896664692429769, 'num_leaves': 191, 'bagging_fraction': 0.6513626024086046, 'lambda_l1': 0.17245486315842362, 'lambda_l2': 7.355931312686573e-07, 'n_estimators': 176, 'max_depth': 4}. Best is trial 41 with value: 2.17549532600143.\u001b[0m\n"
     ]
    },
    {
     "name": "stdout",
     "output_type": "stream",
     "text": [
      "[LightGBM] [Warning] lambda_l1 is set=0.0007842142557105967, reg_alpha=0.0 will be ignored. Current value: lambda_l1=0.0007842142557105967\n",
      "[LightGBM] [Warning] bagging_fraction is set=0.6161202698767914, subsample=1.0 will be ignored. Current value: bagging_fraction=0.6161202698767914\n",
      "[LightGBM] [Warning] feature_fraction is set=0.10657300049503748, colsample_bytree=1.0 will be ignored. Current value: feature_fraction=0.10657300049503748\n",
      "[LightGBM] [Warning] lambda_l2 is set=2.8580199018374264e-05, reg_lambda=0.0 will be ignored. Current value: lambda_l2=2.8580199018374264e-05\n"
     ]
    },
    {
     "name": "stderr",
     "output_type": "stream",
     "text": [
      "\u001b[32m[I 2023-02-01 18:14:06,848]\u001b[0m Trial 116 finished with value: 2.388744026089297 and parameters: {'feature_fraction': 0.10657300049503748, 'num_leaves': 220, 'bagging_fraction': 0.6161202698767914, 'lambda_l1': 0.0007842142557105967, 'lambda_l2': 2.8580199018374264e-05, 'n_estimators': 10, 'max_depth': 4}. Best is trial 41 with value: 2.17549532600143.\u001b[0m\n"
     ]
    },
    {
     "name": "stdout",
     "output_type": "stream",
     "text": [
      "[LightGBM] [Warning] lambda_l1 is set=0.07975541876534435, reg_alpha=0.0 will be ignored. Current value: lambda_l1=0.07975541876534435\n",
      "[LightGBM] [Warning] bagging_fraction is set=0.7101164211427818, subsample=1.0 will be ignored. Current value: bagging_fraction=0.7101164211427818\n",
      "[LightGBM] [Warning] feature_fraction is set=0.05984617064772286, colsample_bytree=1.0 will be ignored. Current value: feature_fraction=0.05984617064772286\n",
      "[LightGBM] [Warning] lambda_l2 is set=4.0257050044175383e-07, reg_lambda=0.0 will be ignored. Current value: lambda_l2=4.0257050044175383e-07\n"
     ]
    },
    {
     "name": "stderr",
     "output_type": "stream",
     "text": [
      "\u001b[32m[I 2023-02-01 18:14:08,675]\u001b[0m Trial 117 finished with value: 2.2026291252799375 and parameters: {'feature_fraction': 0.05984617064772286, 'num_leaves': 117, 'bagging_fraction': 0.7101164211427818, 'lambda_l1': 0.07975541876534435, 'lambda_l2': 4.0257050044175383e-07, 'n_estimators': 164, 'max_depth': 4}. Best is trial 41 with value: 2.17549532600143.\u001b[0m\n"
     ]
    },
    {
     "name": "stdout",
     "output_type": "stream",
     "text": [
      "[LightGBM] [Warning] lambda_l1 is set=0.001493252591757479, reg_alpha=0.0 will be ignored. Current value: lambda_l1=0.001493252591757479\n",
      "[LightGBM] [Warning] bagging_fraction is set=0.6959067989778085, subsample=1.0 will be ignored. Current value: bagging_fraction=0.6959067989778085\n",
      "[LightGBM] [Warning] feature_fraction is set=0.015848704473308405, colsample_bytree=1.0 will be ignored. Current value: feature_fraction=0.015848704473308405\n",
      "[LightGBM] [Warning] lambda_l2 is set=4.77672815073405e-06, reg_lambda=0.0 will be ignored. Current value: lambda_l2=4.77672815073405e-06\n"
     ]
    },
    {
     "name": "stderr",
     "output_type": "stream",
     "text": [
      "\u001b[32m[I 2023-02-01 18:14:10,309]\u001b[0m Trial 118 finished with value: 2.2636025008833682 and parameters: {'feature_fraction': 0.015848704473308405, 'num_leaves': 123, 'bagging_fraction': 0.6959067989778085, 'lambda_l1': 0.001493252591757479, 'lambda_l2': 4.77672815073405e-06, 'n_estimators': 142, 'max_depth': 5}. Best is trial 41 with value: 2.17549532600143.\u001b[0m\n"
     ]
    },
    {
     "name": "stdout",
     "output_type": "stream",
     "text": [
      "[LightGBM] [Warning] lambda_l1 is set=0.0036352473186714814, reg_alpha=0.0 will be ignored. Current value: lambda_l1=0.0036352473186714814\n",
      "[LightGBM] [Warning] bagging_fraction is set=0.5482748490624338, subsample=1.0 will be ignored. Current value: bagging_fraction=0.5482748490624338\n",
      "[LightGBM] [Warning] feature_fraction is set=0.09022004644073076, colsample_bytree=1.0 will be ignored. Current value: feature_fraction=0.09022004644073076\n",
      "[LightGBM] [Warning] lambda_l2 is set=1.3950082061187478e-06, reg_lambda=0.0 will be ignored. Current value: lambda_l2=1.3950082061187478e-06\n"
     ]
    },
    {
     "name": "stderr",
     "output_type": "stream",
     "text": [
      "\u001b[32m[I 2023-02-01 18:14:12,620]\u001b[0m Trial 119 finished with value: 2.2068902726322346 and parameters: {'feature_fraction': 0.09022004644073076, 'num_leaves': 153, 'bagging_fraction': 0.5482748490624338, 'lambda_l1': 0.0036352473186714814, 'lambda_l2': 1.3950082061187478e-06, 'n_estimators': 248, 'max_depth': 4}. Best is trial 41 with value: 2.17549532600143.\u001b[0m\n"
     ]
    },
    {
     "name": "stdout",
     "output_type": "stream",
     "text": [
      "[LightGBM] [Warning] lambda_l1 is set=0.013916210583473636, reg_alpha=0.0 will be ignored. Current value: lambda_l1=0.013916210583473636\n",
      "[LightGBM] [Warning] bagging_fraction is set=0.7313283536563043, subsample=1.0 will be ignored. Current value: bagging_fraction=0.7313283536563043\n",
      "[LightGBM] [Warning] feature_fraction is set=0.03769241271453777, colsample_bytree=1.0 will be ignored. Current value: feature_fraction=0.03769241271453777\n",
      "[LightGBM] [Warning] lambda_l2 is set=5.063726598926248e-05, reg_lambda=0.0 will be ignored. Current value: lambda_l2=5.063726598926248e-05\n"
     ]
    },
    {
     "name": "stderr",
     "output_type": "stream",
     "text": [
      "\u001b[32m[I 2023-02-01 18:14:14,338]\u001b[0m Trial 120 finished with value: 2.2133087681782024 and parameters: {'feature_fraction': 0.03769241271453777, 'num_leaves': 238, 'bagging_fraction': 0.7313283536563043, 'lambda_l1': 0.013916210583473636, 'lambda_l2': 5.063726598926248e-05, 'n_estimators': 171, 'max_depth': 4}. Best is trial 41 with value: 2.17549532600143.\u001b[0m\n"
     ]
    },
    {
     "name": "stdout",
     "output_type": "stream",
     "text": [
      "[LightGBM] [Warning] lambda_l1 is set=0.11720505026257484, reg_alpha=0.0 will be ignored. Current value: lambda_l1=0.11720505026257484\n",
      "[LightGBM] [Warning] bagging_fraction is set=0.5390373457007529, subsample=1.0 will be ignored. Current value: bagging_fraction=0.5390373457007529\n",
      "[LightGBM] [Warning] feature_fraction is set=0.0002598144162707372, colsample_bytree=1.0 will be ignored. Current value: feature_fraction=0.0002598144162707372\n",
      "[LightGBM] [Warning] lambda_l2 is set=1.1727807904331021e-06, reg_lambda=0.0 will be ignored. Current value: lambda_l2=1.1727807904331021e-06\n"
     ]
    },
    {
     "name": "stderr",
     "output_type": "stream",
     "text": [
      "\u001b[32m[I 2023-02-01 18:14:15,868]\u001b[0m Trial 121 finished with value: 2.343228222101762 and parameters: {'feature_fraction': 0.0002598144162707372, 'num_leaves': 214, 'bagging_fraction': 0.5390373457007529, 'lambda_l1': 0.11720505026257484, 'lambda_l2': 1.1727807904331021e-06, 'n_estimators': 192, 'max_depth': 4}. Best is trial 41 with value: 2.17549532600143.\u001b[0m\n"
     ]
    },
    {
     "name": "stdout",
     "output_type": "stream",
     "text": [
      "[LightGBM] [Warning] lambda_l1 is set=0.3523158131310663, reg_alpha=0.0 will be ignored. Current value: lambda_l1=0.3523158131310663\n",
      "[LightGBM] [Warning] bagging_fraction is set=0.7583038059822185, subsample=1.0 will be ignored. Current value: bagging_fraction=0.7583038059822185\n",
      "[LightGBM] [Warning] feature_fraction is set=0.021147268203702472, colsample_bytree=1.0 will be ignored. Current value: feature_fraction=0.021147268203702472\n",
      "[LightGBM] [Warning] lambda_l2 is set=1.4546345905230475e-05, reg_lambda=0.0 will be ignored. Current value: lambda_l2=1.4546345905230475e-05\n"
     ]
    },
    {
     "name": "stderr",
     "output_type": "stream",
     "text": [
      "\u001b[32m[I 2023-02-01 18:14:17,528]\u001b[0m Trial 122 finished with value: 2.236662767393337 and parameters: {'feature_fraction': 0.021147268203702472, 'num_leaves': 146, 'bagging_fraction': 0.7583038059822185, 'lambda_l1': 0.3523158131310663, 'lambda_l2': 1.4546345905230475e-05, 'n_estimators': 189, 'max_depth': 4}. Best is trial 41 with value: 2.17549532600143.\u001b[0m\n"
     ]
    },
    {
     "name": "stdout",
     "output_type": "stream",
     "text": [
      "[LightGBM] [Warning] lambda_l1 is set=0.03741560975959298, reg_alpha=0.0 will be ignored. Current value: lambda_l1=0.03741560975959298\n",
      "[LightGBM] [Warning] bagging_fraction is set=0.581506781795516, subsample=1.0 will be ignored. Current value: bagging_fraction=0.581506781795516\n",
      "[LightGBM] [Warning] feature_fraction is set=0.06930542038025528, colsample_bytree=1.0 will be ignored. Current value: feature_fraction=0.06930542038025528\n",
      "[LightGBM] [Warning] lambda_l2 is set=1.0324417573452591e-06, reg_lambda=0.0 will be ignored. Current value: lambda_l2=1.0324417573452591e-06\n"
     ]
    },
    {
     "name": "stderr",
     "output_type": "stream",
     "text": [
      "\u001b[32m[I 2023-02-01 18:14:19,513]\u001b[0m Trial 123 finished with value: 2.2037238759739295 and parameters: {'feature_fraction': 0.06930542038025528, 'num_leaves': 232, 'bagging_fraction': 0.581506781795516, 'lambda_l1': 0.03741560975959298, 'lambda_l2': 1.0324417573452591e-06, 'n_estimators': 198, 'max_depth': 4}. Best is trial 41 with value: 2.17549532600143.\u001b[0m\n"
     ]
    },
    {
     "name": "stdout",
     "output_type": "stream",
     "text": [
      "[LightGBM] [Warning] lambda_l1 is set=0.17492604684366103, reg_alpha=0.0 will be ignored. Current value: lambda_l1=0.17492604684366103\n",
      "[LightGBM] [Warning] bagging_fraction is set=0.558368969887586, subsample=1.0 will be ignored. Current value: bagging_fraction=0.558368969887586\n",
      "[LightGBM] [Warning] feature_fraction is set=0.03739247866980058, colsample_bytree=1.0 will be ignored. Current value: feature_fraction=0.03739247866980058\n",
      "[LightGBM] [Warning] lambda_l2 is set=1.7789220402585891e-06, reg_lambda=0.0 will be ignored. Current value: lambda_l2=1.7789220402585891e-06\n"
     ]
    },
    {
     "name": "stderr",
     "output_type": "stream",
     "text": [
      "\u001b[32m[I 2023-02-01 18:14:21,214]\u001b[0m Trial 124 finished with value: 2.2203464577383065 and parameters: {'feature_fraction': 0.03739247866980058, 'num_leaves': 170, 'bagging_fraction': 0.558368969887586, 'lambda_l1': 0.17492604684366103, 'lambda_l2': 1.7789220402585891e-06, 'n_estimators': 160, 'max_depth': 4}. Best is trial 41 with value: 2.17549532600143.\u001b[0m\n"
     ]
    },
    {
     "name": "stdout",
     "output_type": "stream",
     "text": [
      "[LightGBM] [Warning] lambda_l1 is set=0.026025507699595083, reg_alpha=0.0 will be ignored. Current value: lambda_l1=0.026025507699595083\n",
      "[LightGBM] [Warning] bagging_fraction is set=0.5309447153189844, subsample=1.0 will be ignored. Current value: bagging_fraction=0.5309447153189844\n",
      "[LightGBM] [Warning] feature_fraction is set=0.05686360727594285, colsample_bytree=1.0 will be ignored. Current value: feature_fraction=0.05686360727594285\n",
      "[LightGBM] [Warning] lambda_l2 is set=6.15395934699942e-07, reg_lambda=0.0 will be ignored. Current value: lambda_l2=6.15395934699942e-07\n"
     ]
    },
    {
     "name": "stderr",
     "output_type": "stream",
     "text": [
      "\u001b[32m[I 2023-02-01 18:14:23,156]\u001b[0m Trial 125 finished with value: 2.211284264844106 and parameters: {'feature_fraction': 0.05686360727594285, 'num_leaves': 212, 'bagging_fraction': 0.5309447153189844, 'lambda_l1': 0.026025507699595083, 'lambda_l2': 6.15395934699942e-07, 'n_estimators': 209, 'max_depth': 4}. Best is trial 41 with value: 2.17549532600143.\u001b[0m\n"
     ]
    },
    {
     "name": "stdout",
     "output_type": "stream",
     "text": [
      "[LightGBM] [Warning] lambda_l1 is set=0.2762448830984122, reg_alpha=0.0 will be ignored. Current value: lambda_l1=0.2762448830984122\n",
      "[LightGBM] [Warning] bagging_fraction is set=0.5963118170846542, subsample=1.0 will be ignored. Current value: bagging_fraction=0.5963118170846542\n",
      "[LightGBM] [Warning] feature_fraction is set=0.015545754002164217, colsample_bytree=1.0 will be ignored. Current value: feature_fraction=0.015545754002164217\n",
      "[LightGBM] [Warning] lambda_l2 is set=9.15539854847029e-08, reg_lambda=0.0 will be ignored. Current value: lambda_l2=9.15539854847029e-08\n"
     ]
    },
    {
     "name": "stderr",
     "output_type": "stream",
     "text": [
      "\u001b[32m[I 2023-02-01 18:14:24,817]\u001b[0m Trial 126 finished with value: 2.2329046963029118 and parameters: {'feature_fraction': 0.015545754002164217, 'num_leaves': 202, 'bagging_fraction': 0.5963118170846542, 'lambda_l1': 0.2762448830984122, 'lambda_l2': 9.15539854847029e-08, 'n_estimators': 181, 'max_depth': 4}. Best is trial 41 with value: 2.17549532600143.\u001b[0m\n"
     ]
    },
    {
     "name": "stdout",
     "output_type": "stream",
     "text": [
      "[LightGBM] [Warning] lambda_l1 is set=0.05950940051633657, reg_alpha=0.0 will be ignored. Current value: lambda_l1=0.05950940051633657\n",
      "[LightGBM] [Warning] bagging_fraction is set=0.7454429559348121, subsample=1.0 will be ignored. Current value: bagging_fraction=0.7454429559348121\n",
      "[LightGBM] [Warning] feature_fraction is set=0.0831450562883224, colsample_bytree=1.0 will be ignored. Current value: feature_fraction=0.0831450562883224\n",
      "[LightGBM] [Warning] lambda_l2 is set=2.037578744756967e-07, reg_lambda=0.0 will be ignored. Current value: lambda_l2=2.037578744756967e-07\n"
     ]
    },
    {
     "name": "stderr",
     "output_type": "stream",
     "text": [
      "\u001b[32m[I 2023-02-01 18:14:26,659]\u001b[0m Trial 127 finished with value: 2.2516190363249304 and parameters: {'feature_fraction': 0.0831450562883224, 'num_leaves': 197, 'bagging_fraction': 0.7454429559348121, 'lambda_l1': 0.05950940051633657, 'lambda_l2': 2.037578744756967e-07, 'n_estimators': 135, 'max_depth': 4}. Best is trial 41 with value: 2.17549532600143.\u001b[0m\n"
     ]
    },
    {
     "name": "stdout",
     "output_type": "stream",
     "text": [
      "[LightGBM] [Warning] lambda_l1 is set=0.1113945115168658, reg_alpha=0.0 will be ignored. Current value: lambda_l1=0.1113945115168658\n",
      "[LightGBM] [Warning] bagging_fraction is set=0.663278844934792, subsample=1.0 will be ignored. Current value: bagging_fraction=0.663278844934792\n",
      "[LightGBM] [Warning] feature_fraction is set=0.1181718168786736, colsample_bytree=1.0 will be ignored. Current value: feature_fraction=0.1181718168786736\n",
      "[LightGBM] [Warning] lambda_l2 is set=2.568807916778557e-06, reg_lambda=0.0 will be ignored. Current value: lambda_l2=2.568807916778557e-06\n"
     ]
    },
    {
     "name": "stderr",
     "output_type": "stream",
     "text": [
      "\u001b[32m[I 2023-02-01 18:14:29,088]\u001b[0m Trial 128 finished with value: 2.220836363194588 and parameters: {'feature_fraction': 0.1181718168786736, 'num_leaves': 127, 'bagging_fraction': 0.663278844934792, 'lambda_l1': 0.1113945115168658, 'lambda_l2': 2.568807916778557e-06, 'n_estimators': 216, 'max_depth': 4}. Best is trial 41 with value: 2.17549532600143.\u001b[0m\n"
     ]
    },
    {
     "name": "stdout",
     "output_type": "stream",
     "text": [
      "[LightGBM] [Warning] lambda_l1 is set=0.00931857416590013, reg_alpha=0.0 will be ignored. Current value: lambda_l1=0.00931857416590013\n",
      "[LightGBM] [Warning] bagging_fraction is set=0.7714320219133752, subsample=1.0 will be ignored. Current value: bagging_fraction=0.7714320219133752\n",
      "[LightGBM] [Warning] feature_fraction is set=0.03385883053670104, colsample_bytree=1.0 will be ignored. Current value: feature_fraction=0.03385883053670104\n",
      "[LightGBM] [Warning] lambda_l2 is set=4.305224734293631e-06, reg_lambda=0.0 will be ignored. Current value: lambda_l2=4.305224734293631e-06\n"
     ]
    },
    {
     "name": "stderr",
     "output_type": "stream",
     "text": [
      "\u001b[32m[I 2023-02-01 18:14:30,738]\u001b[0m Trial 129 finished with value: 2.1890296688085833 and parameters: {'feature_fraction': 0.03385883053670104, 'num_leaves': 248, 'bagging_fraction': 0.7714320219133752, 'lambda_l1': 0.00931857416590013, 'lambda_l2': 4.305224734293631e-06, 'n_estimators': 149, 'max_depth': 4}. Best is trial 41 with value: 2.17549532600143.\u001b[0m\n"
     ]
    },
    {
     "name": "stdout",
     "output_type": "stream",
     "text": [
      "[LightGBM] [Warning] lambda_l1 is set=0.007217354297447837, reg_alpha=0.0 will be ignored. Current value: lambda_l1=0.007217354297447837\n",
      "[LightGBM] [Warning] bagging_fraction is set=0.7678306798773636, subsample=1.0 will be ignored. Current value: bagging_fraction=0.7678306798773636\n",
      "[LightGBM] [Warning] feature_fraction is set=0.038414007436125316, colsample_bytree=1.0 will be ignored. Current value: feature_fraction=0.038414007436125316\n",
      "[LightGBM] [Warning] lambda_l2 is set=5.176667036022559e-06, reg_lambda=0.0 will be ignored. Current value: lambda_l2=5.176667036022559e-06\n"
     ]
    },
    {
     "name": "stderr",
     "output_type": "stream",
     "text": [
      "\u001b[32m[I 2023-02-01 18:14:32,406]\u001b[0m Trial 130 finished with value: 2.220213731481037 and parameters: {'feature_fraction': 0.038414007436125316, 'num_leaves': 256, 'bagging_fraction': 0.7678306798773636, 'lambda_l1': 0.007217354297447837, 'lambda_l2': 5.176667036022559e-06, 'n_estimators': 148, 'max_depth': 4}. Best is trial 41 with value: 2.17549532600143.\u001b[0m\n"
     ]
    },
    {
     "name": "stdout",
     "output_type": "stream",
     "text": [
      "[LightGBM] [Warning] lambda_l1 is set=0.010538608621050268, reg_alpha=0.0 will be ignored. Current value: lambda_l1=0.010538608621050268\n",
      "[LightGBM] [Warning] bagging_fraction is set=0.7299807185268318, subsample=1.0 will be ignored. Current value: bagging_fraction=0.7299807185268318\n",
      "[LightGBM] [Warning] feature_fraction is set=0.019787470064854054, colsample_bytree=1.0 will be ignored. Current value: feature_fraction=0.019787470064854054\n",
      "[LightGBM] [Warning] lambda_l2 is set=9.433839190564825e-06, reg_lambda=0.0 will be ignored. Current value: lambda_l2=9.433839190564825e-06\n"
     ]
    },
    {
     "name": "stderr",
     "output_type": "stream",
     "text": [
      "\u001b[32m[I 2023-02-01 18:14:34,002]\u001b[0m Trial 131 finished with value: 2.1873694799618146 and parameters: {'feature_fraction': 0.019787470064854054, 'num_leaves': 237, 'bagging_fraction': 0.7299807185268318, 'lambda_l1': 0.010538608621050268, 'lambda_l2': 9.433839190564825e-06, 'n_estimators': 157, 'max_depth': 4}. Best is trial 41 with value: 2.17549532600143.\u001b[0m\n"
     ]
    },
    {
     "name": "stdout",
     "output_type": "stream",
     "text": [
      "[LightGBM] [Warning] lambda_l1 is set=0.010271289747052709, reg_alpha=0.0 will be ignored. Current value: lambda_l1=0.010271289747052709\n",
      "[LightGBM] [Warning] bagging_fraction is set=0.7245770851122032, subsample=1.0 will be ignored. Current value: bagging_fraction=0.7245770851122032\n",
      "[LightGBM] [Warning] feature_fraction is set=0.057099107882300215, colsample_bytree=1.0 will be ignored. Current value: feature_fraction=0.057099107882300215\n",
      "[LightGBM] [Warning] lambda_l2 is set=1.0658557258900022e-05, reg_lambda=0.0 will be ignored. Current value: lambda_l2=1.0658557258900022e-05\n"
     ]
    },
    {
     "name": "stderr",
     "output_type": "stream",
     "text": [
      "\u001b[32m[I 2023-02-01 18:14:35,413]\u001b[0m Trial 132 finished with value: 2.290937536960224 and parameters: {'feature_fraction': 0.057099107882300215, 'num_leaves': 244, 'bagging_fraction': 0.7245770851122032, 'lambda_l1': 0.010271289747052709, 'lambda_l2': 1.0658557258900022e-05, 'n_estimators': 26, 'max_depth': 4}. Best is trial 41 with value: 2.17549532600143.\u001b[0m\n"
     ]
    },
    {
     "name": "stdout",
     "output_type": "stream",
     "text": [
      "[LightGBM] [Warning] lambda_l1 is set=0.0026200507660319, reg_alpha=0.0 will be ignored. Current value: lambda_l1=0.0026200507660319\n",
      "[LightGBM] [Warning] bagging_fraction is set=0.7480431995222424, subsample=1.0 will be ignored. Current value: bagging_fraction=0.7480431995222424\n",
      "[LightGBM] [Warning] feature_fraction is set=0.004453681946799185, colsample_bytree=1.0 will be ignored. Current value: feature_fraction=0.004453681946799185\n",
      "[LightGBM] [Warning] lambda_l2 is set=7.277352494633791e-06, reg_lambda=0.0 will be ignored. Current value: lambda_l2=7.277352494633791e-06\n"
     ]
    },
    {
     "name": "stderr",
     "output_type": "stream",
     "text": [
      "\u001b[32m[I 2023-02-01 18:14:36,943]\u001b[0m Trial 133 finished with value: 2.325737723761339 and parameters: {'feature_fraction': 0.004453681946799185, 'num_leaves': 250, 'bagging_fraction': 0.7480431995222424, 'lambda_l1': 0.0026200507660319, 'lambda_l2': 7.277352494633791e-06, 'n_estimators': 155, 'max_depth': 4}. Best is trial 41 with value: 2.17549532600143.\u001b[0m\n"
     ]
    },
    {
     "name": "stdout",
     "output_type": "stream",
     "text": [
      "[LightGBM] [Warning] lambda_l1 is set=0.0051477800432631286, reg_alpha=0.0 will be ignored. Current value: lambda_l1=0.0051477800432631286\n",
      "[LightGBM] [Warning] bagging_fraction is set=0.7688198098508316, subsample=1.0 will be ignored. Current value: bagging_fraction=0.7688198098508316\n",
      "[LightGBM] [Warning] feature_fraction is set=0.07592147763083824, colsample_bytree=1.0 will be ignored. Current value: feature_fraction=0.07592147763083824\n",
      "[LightGBM] [Warning] lambda_l2 is set=3.5878873139742167e-06, reg_lambda=0.0 will be ignored. Current value: lambda_l2=3.5878873139742167e-06\n"
     ]
    },
    {
     "name": "stderr",
     "output_type": "stream",
     "text": [
      "\u001b[32m[I 2023-02-01 18:14:38,765]\u001b[0m Trial 134 finished with value: 2.240633228183612 and parameters: {'feature_fraction': 0.07592147763083824, 'num_leaves': 236, 'bagging_fraction': 0.7688198098508316, 'lambda_l1': 0.0051477800432631286, 'lambda_l2': 3.5878873139742167e-06, 'n_estimators': 142, 'max_depth': 4}. Best is trial 41 with value: 2.17549532600143.\u001b[0m\n"
     ]
    },
    {
     "name": "stdout",
     "output_type": "stream",
     "text": [
      "[LightGBM] [Warning] lambda_l1 is set=0.01410120138246237, reg_alpha=0.0 will be ignored. Current value: lambda_l1=0.01410120138246237\n",
      "[LightGBM] [Warning] bagging_fraction is set=0.7368403779122006, subsample=1.0 will be ignored. Current value: bagging_fraction=0.7368403779122006\n",
      "[LightGBM] [Warning] feature_fraction is set=0.03192274007885414, colsample_bytree=1.0 will be ignored. Current value: feature_fraction=0.03192274007885414\n",
      "[LightGBM] [Warning] lambda_l2 is set=1.1097001032136603e-05, reg_lambda=0.0 will be ignored. Current value: lambda_l2=1.1097001032136603e-05\n"
     ]
    },
    {
     "name": "stderr",
     "output_type": "stream",
     "text": [
      "\u001b[32m[I 2023-02-01 18:14:40,368]\u001b[0m Trial 135 finished with value: 2.225313745255164 and parameters: {'feature_fraction': 0.03192274007885414, 'num_leaves': 249, 'bagging_fraction': 0.7368403779122006, 'lambda_l1': 0.01410120138246237, 'lambda_l2': 1.1097001032136603e-05, 'n_estimators': 127, 'max_depth': 4}. Best is trial 41 with value: 2.17549532600143.\u001b[0m\n"
     ]
    },
    {
     "name": "stdout",
     "output_type": "stream",
     "text": [
      "[LightGBM] [Warning] lambda_l1 is set=0.001222657373065626, reg_alpha=0.0 will be ignored. Current value: lambda_l1=0.001222657373065626\n",
      "[LightGBM] [Warning] bagging_fraction is set=0.7265831064277641, subsample=1.0 will be ignored. Current value: bagging_fraction=0.7265831064277641\n",
      "[LightGBM] [Warning] feature_fraction is set=0.0004938509886679501, colsample_bytree=1.0 will be ignored. Current value: feature_fraction=0.0004938509886679501\n",
      "[LightGBM] [Warning] lambda_l2 is set=1.594927915391129e-05, reg_lambda=0.0 will be ignored. Current value: lambda_l2=1.594927915391129e-05\n"
     ]
    },
    {
     "name": "stderr",
     "output_type": "stream",
     "text": [
      "\u001b[32m[I 2023-02-01 18:14:41,879]\u001b[0m Trial 136 finished with value: 2.3481993745132104 and parameters: {'feature_fraction': 0.0004938509886679501, 'num_leaves': 225, 'bagging_fraction': 0.7265831064277641, 'lambda_l1': 0.001222657373065626, 'lambda_l2': 1.594927915391129e-05, 'n_estimators': 170, 'max_depth': 4}. Best is trial 41 with value: 2.17549532600143.\u001b[0m\n"
     ]
    },
    {
     "name": "stdout",
     "output_type": "stream",
     "text": [
      "[LightGBM] [Warning] lambda_l1 is set=0.023977970764067515, reg_alpha=0.0 will be ignored. Current value: lambda_l1=0.023977970764067515\n",
      "[LightGBM] [Warning] bagging_fraction is set=0.7093301977128396, subsample=1.0 will be ignored. Current value: bagging_fraction=0.7093301977128396\n",
      "[LightGBM] [Warning] feature_fraction is set=0.0979259969541997, colsample_bytree=1.0 will be ignored. Current value: feature_fraction=0.0979259969541997\n",
      "[LightGBM] [Warning] lambda_l2 is set=1.999512070421739e-06, reg_lambda=0.0 will be ignored. Current value: lambda_l2=1.999512070421739e-06\n"
     ]
    },
    {
     "name": "stderr",
     "output_type": "stream",
     "text": [
      "\u001b[32m[I 2023-02-01 18:14:43,856]\u001b[0m Trial 137 finished with value: 2.192821628920416 and parameters: {'feature_fraction': 0.0979259969541997, 'num_leaves': 133, 'bagging_fraction': 0.7093301977128396, 'lambda_l1': 0.023977970764067515, 'lambda_l2': 1.999512070421739e-06, 'n_estimators': 150, 'max_depth': 4}. Best is trial 41 with value: 2.17549532600143.\u001b[0m\n"
     ]
    },
    {
     "name": "stdout",
     "output_type": "stream",
     "text": [
      "[LightGBM] [Warning] lambda_l1 is set=0.037853215437558714, reg_alpha=0.0 will be ignored. Current value: lambda_l1=0.037853215437558714\n",
      "[LightGBM] [Warning] bagging_fraction is set=0.7137626467765578, subsample=1.0 will be ignored. Current value: bagging_fraction=0.7137626467765578\n",
      "[LightGBM] [Warning] feature_fraction is set=0.1467515203292381, colsample_bytree=1.0 will be ignored. Current value: feature_fraction=0.1467515203292381\n",
      "[LightGBM] [Warning] lambda_l2 is set=2.0361005061900994e-06, reg_lambda=0.0 will be ignored. Current value: lambda_l2=2.0361005061900994e-06\n"
     ]
    },
    {
     "name": "stderr",
     "output_type": "stream",
     "text": [
      "\u001b[32m[I 2023-02-01 18:14:47,361]\u001b[0m Trial 138 finished with value: 2.275910026897227 and parameters: {'feature_fraction': 0.1467515203292381, 'num_leaves': 143, 'bagging_fraction': 0.7137626467765578, 'lambda_l1': 0.037853215437558714, 'lambda_l2': 2.0361005061900994e-06, 'n_estimators': 151, 'max_depth': 6}. Best is trial 41 with value: 2.17549532600143.\u001b[0m\n"
     ]
    },
    {
     "name": "stdout",
     "output_type": "stream",
     "text": [
      "[LightGBM] [Warning] lambda_l1 is set=0.00924879069541081, reg_alpha=0.0 will be ignored. Current value: lambda_l1=0.00924879069541081\n",
      "[LightGBM] [Warning] bagging_fraction is set=0.7469682148336385, subsample=1.0 will be ignored. Current value: bagging_fraction=0.7469682148336385\n",
      "[LightGBM] [Warning] feature_fraction is set=0.10074131494715102, colsample_bytree=1.0 will be ignored. Current value: feature_fraction=0.10074131494715102\n",
      "[LightGBM] [Warning] lambda_l2 is set=3.203661838654023e-06, reg_lambda=0.0 will be ignored. Current value: lambda_l2=3.203661838654023e-06\n"
     ]
    },
    {
     "name": "stderr",
     "output_type": "stream",
     "text": [
      "\u001b[32m[I 2023-02-01 18:14:49,718]\u001b[0m Trial 139 finished with value: 2.2493595510658118 and parameters: {'feature_fraction': 0.10074131494715102, 'num_leaves': 131, 'bagging_fraction': 0.7469682148336385, 'lambda_l1': 0.00924879069541081, 'lambda_l2': 3.203661838654023e-06, 'n_estimators': 158, 'max_depth': 5}. Best is trial 41 with value: 2.17549532600143.\u001b[0m\n"
     ]
    },
    {
     "name": "stdout",
     "output_type": "stream",
     "text": [
      "[LightGBM] [Warning] lambda_l1 is set=0.020527893320401135, reg_alpha=0.0 will be ignored. Current value: lambda_l1=0.020527893320401135\n",
      "[LightGBM] [Warning] bagging_fraction is set=0.6914163761311167, subsample=1.0 will be ignored. Current value: bagging_fraction=0.6914163761311167\n",
      "[LightGBM] [Warning] feature_fraction is set=0.04779243687102097, colsample_bytree=1.0 will be ignored. Current value: feature_fraction=0.04779243687102097\n",
      "[LightGBM] [Warning] lambda_l2 is set=5.008551333626966e-07, reg_lambda=0.0 will be ignored. Current value: lambda_l2=5.008551333626966e-07\n"
     ]
    },
    {
     "name": "stderr",
     "output_type": "stream",
     "text": [
      "\u001b[32m[I 2023-02-01 18:14:51,472]\u001b[0m Trial 140 finished with value: 2.2280362473438537 and parameters: {'feature_fraction': 0.04779243687102097, 'num_leaves': 242, 'bagging_fraction': 0.6914163761311167, 'lambda_l1': 0.020527893320401135, 'lambda_l2': 5.008551333626966e-07, 'n_estimators': 146, 'max_depth': 4}. Best is trial 41 with value: 2.17549532600143.\u001b[0m\n"
     ]
    },
    {
     "name": "stdout",
     "output_type": "stream",
     "text": [
      "[LightGBM] [Warning] lambda_l1 is set=0.019959560963939877, reg_alpha=0.0 will be ignored. Current value: lambda_l1=0.019959560963939877\n",
      "[LightGBM] [Warning] bagging_fraction is set=0.7084126152601616, subsample=1.0 will be ignored. Current value: bagging_fraction=0.7084126152601616\n",
      "[LightGBM] [Warning] feature_fraction is set=0.07400913774883525, colsample_bytree=1.0 will be ignored. Current value: feature_fraction=0.07400913774883525\n",
      "[LightGBM] [Warning] lambda_l2 is set=6.142259450916655e-06, reg_lambda=0.0 will be ignored. Current value: lambda_l2=6.142259450916655e-06\n"
     ]
    },
    {
     "name": "stderr",
     "output_type": "stream",
     "text": [
      "\u001b[32m[I 2023-02-01 18:14:53,356]\u001b[0m Trial 141 finished with value: 2.2303909280738408 and parameters: {'feature_fraction': 0.07400913774883525, 'num_leaves': 121, 'bagging_fraction': 0.7084126152601616, 'lambda_l1': 0.019959560963939877, 'lambda_l2': 6.142259450916655e-06, 'n_estimators': 135, 'max_depth': 4}. Best is trial 41 with value: 2.17549532600143.\u001b[0m\n"
     ]
    },
    {
     "name": "stdout",
     "output_type": "stream",
     "text": [
      "[LightGBM] [Warning] lambda_l1 is set=0.04575035194934002, reg_alpha=0.0 will be ignored. Current value: lambda_l1=0.04575035194934002\n",
      "[LightGBM] [Warning] bagging_fraction is set=0.6795907633550451, subsample=1.0 will be ignored. Current value: bagging_fraction=0.6795907633550451\n",
      "[LightGBM] [Warning] feature_fraction is set=0.025218451824388068, colsample_bytree=1.0 will be ignored. Current value: feature_fraction=0.025218451824388068\n",
      "[LightGBM] [Warning] lambda_l2 is set=3.933385435038544e-06, reg_lambda=0.0 will be ignored. Current value: lambda_l2=3.933385435038544e-06\n"
     ]
    },
    {
     "name": "stderr",
     "output_type": "stream",
     "text": [
      "\u001b[32m[I 2023-02-01 18:14:54,995]\u001b[0m Trial 142 finished with value: 2.191941111293319 and parameters: {'feature_fraction': 0.025218451824388068, 'num_leaves': 131, 'bagging_fraction': 0.6795907633550451, 'lambda_l1': 0.04575035194934002, 'lambda_l2': 3.933385435038544e-06, 'n_estimators': 162, 'max_depth': 4}. Best is trial 41 with value: 2.17549532600143.\u001b[0m\n"
     ]
    },
    {
     "name": "stdout",
     "output_type": "stream",
     "text": [
      "[LightGBM] [Warning] lambda_l1 is set=0.04621211942405794, reg_alpha=0.0 will be ignored. Current value: lambda_l1=0.04621211942405794\n",
      "[LightGBM] [Warning] bagging_fraction is set=0.6966637572547094, subsample=1.0 will be ignored. Current value: bagging_fraction=0.6966637572547094\n",
      "[LightGBM] [Warning] feature_fraction is set=0.023370116331086245, colsample_bytree=1.0 will be ignored. Current value: feature_fraction=0.023370116331086245\n",
      "[LightGBM] [Warning] lambda_l2 is set=1.6851817677740388e-06, reg_lambda=0.0 will be ignored. Current value: lambda_l2=1.6851817677740388e-06\n"
     ]
    },
    {
     "name": "stderr",
     "output_type": "stream",
     "text": [
      "\u001b[32m[I 2023-02-01 18:14:56,629]\u001b[0m Trial 143 finished with value: 2.2042536314965497 and parameters: {'feature_fraction': 0.023370116331086245, 'num_leaves': 136, 'bagging_fraction': 0.6966637572547094, 'lambda_l1': 0.04621211942405794, 'lambda_l2': 1.6851817677740388e-06, 'n_estimators': 163, 'max_depth': 4}. Best is trial 41 with value: 2.17549532600143.\u001b[0m\n"
     ]
    },
    {
     "name": "stdout",
     "output_type": "stream",
     "text": [
      "[LightGBM] [Warning] lambda_l1 is set=0.07069470488160819, reg_alpha=0.0 will be ignored. Current value: lambda_l1=0.07069470488160819\n",
      "[LightGBM] [Warning] bagging_fraction is set=0.7787553633703441, subsample=1.0 will be ignored. Current value: bagging_fraction=0.7787553633703441\n",
      "[LightGBM] [Warning] feature_fraction is set=0.04112661807542065, colsample_bytree=1.0 will be ignored. Current value: feature_fraction=0.04112661807542065\n",
      "[LightGBM] [Warning] lambda_l2 is set=8.632587634541052e-07, reg_lambda=0.0 will be ignored. Current value: lambda_l2=8.632587634541052e-07\n"
     ]
    },
    {
     "name": "stderr",
     "output_type": "stream",
     "text": [
      "\u001b[32m[I 2023-02-01 18:14:58,293]\u001b[0m Trial 144 finished with value: 2.208714847103513 and parameters: {'feature_fraction': 0.04112661807542065, 'num_leaves': 148, 'bagging_fraction': 0.7787553633703441, 'lambda_l1': 0.07069470488160819, 'lambda_l2': 8.632587634541052e-07, 'n_estimators': 139, 'max_depth': 4}. Best is trial 41 with value: 2.17549532600143.\u001b[0m\n"
     ]
    },
    {
     "name": "stdout",
     "output_type": "stream",
     "text": [
      "[LightGBM] [Warning] lambda_l1 is set=0.003509511968435195, reg_alpha=0.0 will be ignored. Current value: lambda_l1=0.003509511968435195\n",
      "[LightGBM] [Warning] bagging_fraction is set=0.7366840255704579, subsample=1.0 will be ignored. Current value: bagging_fraction=0.7366840255704579\n",
      "[LightGBM] [Warning] feature_fraction is set=0.09131955355913514, colsample_bytree=1.0 will be ignored. Current value: feature_fraction=0.09131955355913514\n",
      "[LightGBM] [Warning] lambda_l2 is set=4.238667715343014e-06, reg_lambda=0.0 will be ignored. Current value: lambda_l2=4.238667715343014e-06\n"
     ]
    },
    {
     "name": "stderr",
     "output_type": "stream",
     "text": [
      "\u001b[32m[I 2023-02-01 18:15:00,237]\u001b[0m Trial 145 finished with value: 2.1969583520990112 and parameters: {'feature_fraction': 0.09131955355913514, 'num_leaves': 138, 'bagging_fraction': 0.7366840255704579, 'lambda_l1': 0.003509511968435195, 'lambda_l2': 4.238667715343014e-06, 'n_estimators': 153, 'max_depth': 4}. Best is trial 41 with value: 2.17549532600143.\u001b[0m\n"
     ]
    },
    {
     "name": "stdout",
     "output_type": "stream",
     "text": [
      "[LightGBM] [Warning] lambda_l1 is set=0.001909970766222839, reg_alpha=0.0 will be ignored. Current value: lambda_l1=0.001909970766222839\n",
      "[LightGBM] [Warning] bagging_fraction is set=0.7581048932447199, subsample=1.0 will be ignored. Current value: bagging_fraction=0.7581048932447199\n",
      "[LightGBM] [Warning] feature_fraction is set=0.019102577567940066, colsample_bytree=1.0 will be ignored. Current value: feature_fraction=0.019102577567940066\n",
      "[LightGBM] [Warning] lambda_l2 is set=2.595582528777251e-06, reg_lambda=0.0 will be ignored. Current value: lambda_l2=2.595582528777251e-06\n"
     ]
    },
    {
     "name": "stderr",
     "output_type": "stream",
     "text": [
      "\u001b[32m[I 2023-02-01 18:15:01,789]\u001b[0m Trial 146 finished with value: 2.195976430381744 and parameters: {'feature_fraction': 0.019102577567940066, 'num_leaves': 159, 'bagging_fraction': 0.7581048932447199, 'lambda_l1': 0.001909970766222839, 'lambda_l2': 2.595582528777251e-06, 'n_estimators': 131, 'max_depth': 4}. Best is trial 41 with value: 2.17549532600143.\u001b[0m\n"
     ]
    },
    {
     "name": "stdout",
     "output_type": "stream",
     "text": [
      "[LightGBM] [Warning] lambda_l1 is set=0.00045729716918272974, reg_alpha=0.0 will be ignored. Current value: lambda_l1=0.00045729716918272974\n",
      "[LightGBM] [Warning] bagging_fraction is set=0.7566569776552828, subsample=1.0 will be ignored. Current value: bagging_fraction=0.7566569776552828\n",
      "[LightGBM] [Warning] feature_fraction is set=0.018926037664953918, colsample_bytree=1.0 will be ignored. Current value: feature_fraction=0.018926037664953918\n",
      "[LightGBM] [Warning] lambda_l2 is set=2.716212664126386e-06, reg_lambda=0.0 will be ignored. Current value: lambda_l2=2.716212664126386e-06\n"
     ]
    },
    {
     "name": "stderr",
     "output_type": "stream",
     "text": [
      "\u001b[32m[I 2023-02-01 18:15:03,341]\u001b[0m Trial 147 finished with value: 2.1959755353920403 and parameters: {'feature_fraction': 0.018926037664953918, 'num_leaves': 110, 'bagging_fraction': 0.7566569776552828, 'lambda_l1': 0.00045729716918272974, 'lambda_l2': 2.716212664126386e-06, 'n_estimators': 131, 'max_depth': 4}. Best is trial 41 with value: 2.17549532600143.\u001b[0m\n"
     ]
    },
    {
     "name": "stdout",
     "output_type": "stream",
     "text": [
      "[LightGBM] [Warning] lambda_l1 is set=0.0008214383356529915, reg_alpha=0.0 will be ignored. Current value: lambda_l1=0.0008214383356529915\n",
      "[LightGBM] [Warning] bagging_fraction is set=0.7536193813719297, subsample=1.0 will be ignored. Current value: bagging_fraction=0.7536193813719297\n",
      "[LightGBM] [Warning] feature_fraction is set=0.05116229928665732, colsample_bytree=1.0 will be ignored. Current value: feature_fraction=0.05116229928665732\n",
      "[LightGBM] [Warning] lambda_l2 is set=7.082257562823105e-06, reg_lambda=0.0 will be ignored. Current value: lambda_l2=7.082257562823105e-06\n"
     ]
    },
    {
     "name": "stderr",
     "output_type": "stream",
     "text": [
      "\u001b[32m[I 2023-02-01 18:15:05,132]\u001b[0m Trial 148 finished with value: 2.232582292883023 and parameters: {'feature_fraction': 0.05116229928665732, 'num_leaves': 102, 'bagging_fraction': 0.7536193813719297, 'lambda_l1': 0.0008214383356529915, 'lambda_l2': 7.082257562823105e-06, 'n_estimators': 167, 'max_depth': 4}. Best is trial 41 with value: 2.17549532600143.\u001b[0m\n"
     ]
    },
    {
     "name": "stdout",
     "output_type": "stream",
     "text": [
      "[LightGBM] [Warning] lambda_l1 is set=0.0005471569232284584, reg_alpha=0.0 will be ignored. Current value: lambda_l1=0.0005471569232284584\n",
      "[LightGBM] [Warning] bagging_fraction is set=0.7205492135323815, subsample=1.0 will be ignored. Current value: bagging_fraction=0.7205492135323815\n",
      "[LightGBM] [Warning] feature_fraction is set=0.371476858853546, colsample_bytree=1.0 will be ignored. Current value: feature_fraction=0.371476858853546\n",
      "[LightGBM] [Warning] lambda_l2 is set=3.7452198104161577e-06, reg_lambda=0.0 will be ignored. Current value: lambda_l2=3.7452198104161577e-06\n"
     ]
    },
    {
     "name": "stderr",
     "output_type": "stream",
     "text": [
      "\u001b[32m[I 2023-02-01 18:15:08,078]\u001b[0m Trial 149 finished with value: 2.2462857824706948 and parameters: {'feature_fraction': 0.371476858853546, 'num_leaves': 109, 'bagging_fraction': 0.7205492135323815, 'lambda_l1': 0.0005471569232284584, 'lambda_l2': 3.7452198104161577e-06, 'n_estimators': 124, 'max_depth': 4}. Best is trial 41 with value: 2.17549532600143.\u001b[0m\n"
     ]
    },
    {
     "name": "stdout",
     "output_type": "stream",
     "text": [
      "[LightGBM] [Warning] lambda_l1 is set=0.0003496609664501947, reg_alpha=0.0 will be ignored. Current value: lambda_l1=0.0003496609664501947\n",
      "[LightGBM] [Warning] bagging_fraction is set=0.7942503692024518, subsample=1.0 will be ignored. Current value: bagging_fraction=0.7942503692024518\n",
      "[LightGBM] [Warning] feature_fraction is set=0.327893922168194, colsample_bytree=1.0 will be ignored. Current value: feature_fraction=0.327893922168194\n",
      "[LightGBM] [Warning] lambda_l2 is set=2.5586666839098458e-08, reg_lambda=0.0 will be ignored. Current value: lambda_l2=2.5586666839098458e-08\n"
     ]
    },
    {
     "name": "stderr",
     "output_type": "stream",
     "text": [
      "\u001b[32m[I 2023-02-01 18:15:11,128]\u001b[0m Trial 150 finished with value: 2.23607163520877 and parameters: {'feature_fraction': 0.327893922168194, 'num_leaves': 131, 'bagging_fraction': 0.7942503692024518, 'lambda_l1': 0.0003496609664501947, 'lambda_l2': 2.5586666839098458e-08, 'n_estimators': 149, 'max_depth': 4}. Best is trial 41 with value: 2.17549532600143.\u001b[0m\n"
     ]
    },
    {
     "name": "stdout",
     "output_type": "stream",
     "text": [
      "[LightGBM] [Warning] lambda_l1 is set=0.001113589582672813, reg_alpha=0.0 will be ignored. Current value: lambda_l1=0.001113589582672813\n",
      "[LightGBM] [Warning] bagging_fraction is set=0.7707482696134571, subsample=1.0 will be ignored. Current value: bagging_fraction=0.7707482696134571\n",
      "[LightGBM] [Warning] feature_fraction is set=0.017302980183433615, colsample_bytree=1.0 will be ignored. Current value: feature_fraction=0.017302980183433615\n",
      "[LightGBM] [Warning] lambda_l2 is set=2.2159126248859603e-06, reg_lambda=0.0 will be ignored. Current value: lambda_l2=2.2159126248859603e-06\n"
     ]
    },
    {
     "name": "stderr",
     "output_type": "stream",
     "text": [
      "\u001b[32m[I 2023-02-01 18:15:12,668]\u001b[0m Trial 151 finished with value: 2.292774284295443 and parameters: {'feature_fraction': 0.017302980183433615, 'num_leaves': 128, 'bagging_fraction': 0.7707482696134571, 'lambda_l1': 0.001113589582672813, 'lambda_l2': 2.2159126248859603e-06, 'n_estimators': 130, 'max_depth': 4}. Best is trial 41 with value: 2.17549532600143.\u001b[0m\n"
     ]
    },
    {
     "name": "stdout",
     "output_type": "stream",
     "text": [
      "[LightGBM] [Warning] lambda_l1 is set=0.002206268742299723, reg_alpha=0.0 will be ignored. Current value: lambda_l1=0.002206268742299723\n",
      "[LightGBM] [Warning] bagging_fraction is set=0.7557768778548782, subsample=1.0 will be ignored. Current value: bagging_fraction=0.7557768778548782\n",
      "[LightGBM] [Warning] feature_fraction is set=0.026301544494545227, colsample_bytree=1.0 will be ignored. Current value: feature_fraction=0.026301544494545227\n",
      "[LightGBM] [Warning] lambda_l2 is set=2.6117619133399536e-06, reg_lambda=0.0 will be ignored. Current value: lambda_l2=2.6117619133399536e-06\n"
     ]
    },
    {
     "name": "stderr",
     "output_type": "stream",
     "text": [
      "\u001b[32m[I 2023-02-01 18:15:14,228]\u001b[0m Trial 152 finished with value: 2.1923899561691735 and parameters: {'feature_fraction': 0.026301544494545227, 'num_leaves': 114, 'bagging_fraction': 0.7557768778548782, 'lambda_l1': 0.002206268742299723, 'lambda_l2': 2.6117619133399536e-06, 'n_estimators': 121, 'max_depth': 4}. Best is trial 41 with value: 2.17549532600143.\u001b[0m\n"
     ]
    },
    {
     "name": "stdout",
     "output_type": "stream",
     "text": [
      "[LightGBM] [Warning] lambda_l1 is set=0.005184673115211456, reg_alpha=0.0 will be ignored. Current value: lambda_l1=0.005184673115211456\n",
      "[LightGBM] [Warning] bagging_fraction is set=0.7360170718157459, subsample=1.0 will be ignored. Current value: bagging_fraction=0.7360170718157459\n",
      "[LightGBM] [Warning] feature_fraction is set=0.07115799885736582, colsample_bytree=1.0 will be ignored. Current value: feature_fraction=0.07115799885736582\n",
      "[LightGBM] [Warning] lambda_l2 is set=1.4255205413901449e-06, reg_lambda=0.0 will be ignored. Current value: lambda_l2=1.4255205413901449e-06\n"
     ]
    },
    {
     "name": "stderr",
     "output_type": "stream",
     "text": [
      "\u001b[32m[I 2023-02-01 18:15:15,966]\u001b[0m Trial 153 finished with value: 2.213866443088 and parameters: {'feature_fraction': 0.07115799885736582, 'num_leaves': 114, 'bagging_fraction': 0.7360170718157459, 'lambda_l1': 0.005184673115211456, 'lambda_l2': 1.4255205413901449e-06, 'n_estimators': 119, 'max_depth': 4}. Best is trial 41 with value: 2.17549532600143.\u001b[0m\n"
     ]
    },
    {
     "name": "stdout",
     "output_type": "stream",
     "text": [
      "[LightGBM] [Warning] lambda_l1 is set=0.0019813038492525396, reg_alpha=0.0 will be ignored. Current value: lambda_l1=0.0019813038492525396\n",
      "[LightGBM] [Warning] bagging_fraction is set=0.7573768158529101, subsample=1.0 will be ignored. Current value: bagging_fraction=0.7573768158529101\n",
      "[LightGBM] [Warning] feature_fraction is set=0.0365209552502976, colsample_bytree=1.0 will be ignored. Current value: feature_fraction=0.0365209552502976\n",
      "[LightGBM] [Warning] lambda_l2 is set=3.173883584321728e-06, reg_lambda=0.0 will be ignored. Current value: lambda_l2=3.173883584321728e-06\n"
     ]
    },
    {
     "name": "stderr",
     "output_type": "stream",
     "text": [
      "\u001b[32m[I 2023-02-01 18:15:17,530]\u001b[0m Trial 154 finished with value: 2.248308236339719 and parameters: {'feature_fraction': 0.0365209552502976, 'num_leaves': 96, 'bagging_fraction': 0.7573768158529101, 'lambda_l1': 0.0019813038492525396, 'lambda_l2': 3.173883584321728e-06, 'n_estimators': 103, 'max_depth': 4}. Best is trial 41 with value: 2.17549532600143.\u001b[0m\n"
     ]
    },
    {
     "name": "stdout",
     "output_type": "stream",
     "text": [
      "[LightGBM] [Warning] lambda_l1 is set=0.0029379064095560624, reg_alpha=0.0 will be ignored. Current value: lambda_l1=0.0029379064095560624\n",
      "[LightGBM] [Warning] bagging_fraction is set=0.7068597135158261, subsample=1.0 will be ignored. Current value: bagging_fraction=0.7068597135158261\n",
      "[LightGBM] [Warning] feature_fraction is set=0.0008785776675836535, colsample_bytree=1.0 will be ignored. Current value: feature_fraction=0.0008785776675836535\n",
      "[LightGBM] [Warning] lambda_l2 is set=8.886110457203664e-06, reg_lambda=0.0 will be ignored. Current value: lambda_l2=8.886110457203664e-06\n"
     ]
    },
    {
     "name": "stderr",
     "output_type": "stream",
     "text": [
      "\u001b[32m[I 2023-02-01 18:15:19,026]\u001b[0m Trial 155 finished with value: 2.3755178233012684 and parameters: {'feature_fraction': 0.0008785776675836535, 'num_leaves': 107, 'bagging_fraction': 0.7068597135158261, 'lambda_l1': 0.0029379064095560624, 'lambda_l2': 8.886110457203664e-06, 'n_estimators': 159, 'max_depth': 4}. Best is trial 41 with value: 2.17549532600143.\u001b[0m\n"
     ]
    },
    {
     "name": "stdout",
     "output_type": "stream",
     "text": [
      "[LightGBM] [Warning] lambda_l1 is set=0.007321159337090792, reg_alpha=0.0 will be ignored. Current value: lambda_l1=0.007321159337090792\n",
      "[LightGBM] [Warning] bagging_fraction is set=0.6811071910470363, subsample=1.0 will be ignored. Current value: bagging_fraction=0.6811071910470363\n",
      "[LightGBM] [Warning] feature_fraction is set=0.5856353901800336, colsample_bytree=1.0 will be ignored. Current value: feature_fraction=0.5856353901800336\n",
      "[LightGBM] [Warning] lambda_l2 is set=5.580823152061215e-06, reg_lambda=0.0 will be ignored. Current value: lambda_l2=5.580823152061215e-06\n"
     ]
    },
    {
     "name": "stderr",
     "output_type": "stream",
     "text": [
      "\u001b[32m[I 2023-02-01 18:15:23,268]\u001b[0m Trial 156 finished with value: 2.2658958696970704 and parameters: {'feature_fraction': 0.5856353901800336, 'num_leaves': 118, 'bagging_fraction': 0.6811071910470363, 'lambda_l1': 0.007321159337090792, 'lambda_l2': 5.580823152061215e-06, 'n_estimators': 143, 'max_depth': 4}. Best is trial 41 with value: 2.17549532600143.\u001b[0m\n"
     ]
    },
    {
     "name": "stdout",
     "output_type": "stream",
     "text": [
      "[LightGBM] [Warning] lambda_l1 is set=0.0005223543427855681, reg_alpha=0.0 will be ignored. Current value: lambda_l1=0.0005223543427855681\n",
      "[LightGBM] [Warning] bagging_fraction is set=0.8087862112688005, subsample=1.0 will be ignored. Current value: bagging_fraction=0.8087862112688005\n",
      "[LightGBM] [Warning] feature_fraction is set=0.05781479546018131, colsample_bytree=1.0 will be ignored. Current value: feature_fraction=0.05781479546018131\n",
      "[LightGBM] [Warning] lambda_l2 is set=1.0215483783023184e-06, reg_lambda=0.0 will be ignored. Current value: lambda_l2=1.0215483783023184e-06\n"
     ]
    },
    {
     "name": "stderr",
     "output_type": "stream",
     "text": [
      "\u001b[32m[I 2023-02-01 18:15:25,105]\u001b[0m Trial 157 finished with value: 2.210121809598274 and parameters: {'feature_fraction': 0.05781479546018131, 'num_leaves': 246, 'bagging_fraction': 0.8087862112688005, 'lambda_l1': 0.0005223543427855681, 'lambda_l2': 1.0215483783023184e-06, 'n_estimators': 176, 'max_depth': 4}. Best is trial 41 with value: 2.17549532600143.\u001b[0m\n"
     ]
    },
    {
     "name": "stdout",
     "output_type": "stream",
     "text": [
      "[LightGBM] [Warning] lambda_l1 is set=0.011058062417257463, reg_alpha=0.0 will be ignored. Current value: lambda_l1=0.011058062417257463\n",
      "[LightGBM] [Warning] bagging_fraction is set=0.7746725529537342, subsample=1.0 will be ignored. Current value: bagging_fraction=0.7746725529537342\n",
      "[LightGBM] [Warning] feature_fraction is set=0.11559086531176993, colsample_bytree=1.0 will be ignored. Current value: feature_fraction=0.11559086531176993\n",
      "[LightGBM] [Warning] lambda_l2 is set=1.9400090467157717e-06, reg_lambda=0.0 will be ignored. Current value: lambda_l2=1.9400090467157717e-06\n"
     ]
    },
    {
     "name": "stderr",
     "output_type": "stream",
     "text": [
      "\u001b[32m[I 2023-02-01 18:15:27,092]\u001b[0m Trial 158 finished with value: 2.2277692635851225 and parameters: {'feature_fraction': 0.11559086531176993, 'num_leaves': 127, 'bagging_fraction': 0.7746725529537342, 'lambda_l1': 0.011058062417257463, 'lambda_l2': 1.9400090467157717e-06, 'n_estimators': 137, 'max_depth': 4}. Best is trial 41 with value: 2.17549532600143.\u001b[0m\n"
     ]
    },
    {
     "name": "stdout",
     "output_type": "stream",
     "text": [
      "[LightGBM] [Warning] lambda_l1 is set=0.029087967654860943, reg_alpha=0.0 will be ignored. Current value: lambda_l1=0.029087967654860943\n",
      "[LightGBM] [Warning] bagging_fraction is set=0.785569283456717, subsample=1.0 will be ignored. Current value: bagging_fraction=0.785569283456717\n",
      "[LightGBM] [Warning] feature_fraction is set=0.03104097012871539, colsample_bytree=1.0 will be ignored. Current value: feature_fraction=0.03104097012871539\n",
      "[LightGBM] [Warning] lambda_l2 is set=6.651851440646351e-07, reg_lambda=0.0 will be ignored. Current value: lambda_l2=6.651851440646351e-07\n"
     ]
    },
    {
     "name": "stderr",
     "output_type": "stream",
     "text": [
      "\u001b[32m[I 2023-02-01 18:15:28,748]\u001b[0m Trial 159 finished with value: 2.2180794080739905 and parameters: {'feature_fraction': 0.03104097012871539, 'num_leaves': 84, 'bagging_fraction': 0.785569283456717, 'lambda_l1': 0.029087967654860943, 'lambda_l2': 6.651851440646351e-07, 'n_estimators': 152, 'max_depth': 4}. Best is trial 41 with value: 2.17549532600143.\u001b[0m\n"
     ]
    },
    {
     "name": "stdout",
     "output_type": "stream",
     "text": [
      "[LightGBM] [Warning] lambda_l1 is set=0.0016730677203952468, reg_alpha=0.0 will be ignored. Current value: lambda_l1=0.0016730677203952468\n",
      "[LightGBM] [Warning] bagging_fraction is set=0.6613632761583564, subsample=1.0 will be ignored. Current value: bagging_fraction=0.6613632761583564\n",
      "[LightGBM] [Warning] feature_fraction is set=0.09048001203257801, colsample_bytree=1.0 will be ignored. Current value: feature_fraction=0.09048001203257801\n",
      "[LightGBM] [Warning] lambda_l2 is set=2.413604431824355e-05, reg_lambda=0.0 will be ignored. Current value: lambda_l2=2.413604431824355e-05\n"
     ]
    },
    {
     "name": "stderr",
     "output_type": "stream",
     "text": [
      "\u001b[32m[I 2023-02-01 18:15:30,547]\u001b[0m Trial 160 finished with value: 2.195440150381366 and parameters: {'feature_fraction': 0.09048001203257801, 'num_leaves': 124, 'bagging_fraction': 0.6613632761583564, 'lambda_l1': 0.0016730677203952468, 'lambda_l2': 2.413604431824355e-05, 'n_estimators': 115, 'max_depth': 4}. Best is trial 41 with value: 2.17549532600143.\u001b[0m\n"
     ]
    },
    {
     "name": "stdout",
     "output_type": "stream",
     "text": [
      "[LightGBM] [Warning] lambda_l1 is set=0.0014881191300607716, reg_alpha=0.0 will be ignored. Current value: lambda_l1=0.0014881191300607716\n",
      "[LightGBM] [Warning] bagging_fraction is set=0.6549691585369366, subsample=1.0 will be ignored. Current value: bagging_fraction=0.6549691585369366\n",
      "[LightGBM] [Warning] feature_fraction is set=0.09475389080910342, colsample_bytree=1.0 will be ignored. Current value: feature_fraction=0.09475389080910342\n",
      "[LightGBM] [Warning] lambda_l2 is set=4.6606554943382014e-06, reg_lambda=0.0 will be ignored. Current value: lambda_l2=4.6606554943382014e-06\n"
     ]
    },
    {
     "name": "stderr",
     "output_type": "stream",
     "text": [
      "\u001b[32m[I 2023-02-01 18:15:32,357]\u001b[0m Trial 161 finished with value: 2.2418298198540647 and parameters: {'feature_fraction': 0.09475389080910342, 'num_leaves': 113, 'bagging_fraction': 0.6549691585369366, 'lambda_l1': 0.0014881191300607716, 'lambda_l2': 4.6606554943382014e-06, 'n_estimators': 116, 'max_depth': 4}. Best is trial 41 with value: 2.17549532600143.\u001b[0m\n"
     ]
    },
    {
     "name": "stdout",
     "output_type": "stream",
     "text": [
      "[LightGBM] [Warning] lambda_l1 is set=0.00017206688894830626, reg_alpha=0.0 will be ignored. Current value: lambda_l1=0.00017206688894830626\n",
      "[LightGBM] [Warning] bagging_fraction is set=0.6680161733078257, subsample=1.0 will be ignored. Current value: bagging_fraction=0.6680161733078257\n",
      "[LightGBM] [Warning] feature_fraction is set=0.06638231352934626, colsample_bytree=1.0 will be ignored. Current value: feature_fraction=0.06638231352934626\n",
      "[LightGBM] [Warning] lambda_l2 is set=2.2489180156375763e-05, reg_lambda=0.0 will be ignored. Current value: lambda_l2=2.2489180156375763e-05\n"
     ]
    },
    {
     "name": "stderr",
     "output_type": "stream",
     "text": [
      "\u001b[32m[I 2023-02-01 18:15:34,044]\u001b[0m Trial 162 finished with value: 2.210741537090126 and parameters: {'feature_fraction': 0.06638231352934626, 'num_leaves': 134, 'bagging_fraction': 0.6680161733078257, 'lambda_l1': 0.00017206688894830626, 'lambda_l2': 2.2489180156375763e-05, 'n_estimators': 112, 'max_depth': 4}. Best is trial 41 with value: 2.17549532600143.\u001b[0m\n"
     ]
    },
    {
     "name": "stdout",
     "output_type": "stream",
     "text": [
      "[LightGBM] [Warning] lambda_l1 is set=0.002538189740273499, reg_alpha=0.0 will be ignored. Current value: lambda_l1=0.002538189740273499\n",
      "[LightGBM] [Warning] bagging_fraction is set=0.6856661855907067, subsample=1.0 will be ignored. Current value: bagging_fraction=0.6856661855907067\n",
      "[LightGBM] [Warning] feature_fraction is set=0.04903640317424823, colsample_bytree=1.0 will be ignored. Current value: feature_fraction=0.04903640317424823\n",
      "[LightGBM] [Warning] lambda_l2 is set=9.445065603232944e-06, reg_lambda=0.0 will be ignored. Current value: lambda_l2=9.445065603232944e-06\n"
     ]
    },
    {
     "name": "stderr",
     "output_type": "stream",
     "text": [
      "\u001b[32m[I 2023-02-01 18:15:35,633]\u001b[0m Trial 163 finished with value: 2.2385716012237116 and parameters: {'feature_fraction': 0.04903640317424823, 'num_leaves': 124, 'bagging_fraction': 0.6856661855907067, 'lambda_l1': 0.002538189740273499, 'lambda_l2': 9.445065603232944e-06, 'n_estimators': 96, 'max_depth': 4}. Best is trial 41 with value: 2.17549532600143.\u001b[0m\n"
     ]
    },
    {
     "name": "stdout",
     "output_type": "stream",
     "text": [
      "[LightGBM] [Warning] lambda_l1 is set=0.0010950913771183312, reg_alpha=0.0 will be ignored. Current value: lambda_l1=0.0010950913771183312\n",
      "[LightGBM] [Warning] bagging_fraction is set=0.6404846694483386, subsample=1.0 will be ignored. Current value: bagging_fraction=0.6404846694483386\n",
      "[LightGBM] [Warning] feature_fraction is set=0.00014915588194647916, colsample_bytree=1.0 will be ignored. Current value: feature_fraction=0.00014915588194647916\n",
      "[LightGBM] [Warning] lambda_l2 is set=2.987692780811782e-06, reg_lambda=0.0 will be ignored. Current value: lambda_l2=2.987692780811782e-06\n"
     ]
    },
    {
     "name": "stderr",
     "output_type": "stream",
     "text": [
      "\u001b[32m[I 2023-02-01 18:15:37,093]\u001b[0m Trial 164 finished with value: 2.427465043785539 and parameters: {'feature_fraction': 0.00014915588194647916, 'num_leaves': 139, 'bagging_fraction': 0.6404846694483386, 'lambda_l1': 0.0010950913771183312, 'lambda_l2': 2.987692780811782e-06, 'n_estimators': 122, 'max_depth': 4}. Best is trial 41 with value: 2.17549532600143.\u001b[0m\n"
     ]
    },
    {
     "name": "stdout",
     "output_type": "stream",
     "text": [
      "[LightGBM] [Warning] lambda_l1 is set=0.005052815916800782, reg_alpha=0.0 will be ignored. Current value: lambda_l1=0.005052815916800782\n",
      "[LightGBM] [Warning] bagging_fraction is set=0.7275210652406012, subsample=1.0 will be ignored. Current value: bagging_fraction=0.7275210652406012\n",
      "[LightGBM] [Warning] feature_fraction is set=0.023442615550984206, colsample_bytree=1.0 will be ignored. Current value: feature_fraction=0.023442615550984206\n",
      "[LightGBM] [Warning] lambda_l2 is set=1.364608882698355e-06, reg_lambda=0.0 will be ignored. Current value: lambda_l2=1.364608882698355e-06\n"
     ]
    },
    {
     "name": "stderr",
     "output_type": "stream",
     "text": [
      "\u001b[32m[I 2023-02-01 18:15:38,684]\u001b[0m Trial 165 finished with value: 2.214358853254762 and parameters: {'feature_fraction': 0.023442615550984206, 'num_leaves': 103, 'bagging_fraction': 0.7275210652406012, 'lambda_l1': 0.005052815916800782, 'lambda_l2': 1.364608882698355e-06, 'n_estimators': 144, 'max_depth': 4}. Best is trial 41 with value: 2.17549532600143.\u001b[0m\n"
     ]
    },
    {
     "name": "stdout",
     "output_type": "stream",
     "text": [
      "[LightGBM] [Warning] lambda_l1 is set=0.01626236251265397, reg_alpha=0.0 will be ignored. Current value: lambda_l1=0.01626236251265397\n",
      "[LightGBM] [Warning] bagging_fraction is set=0.7465346024848847, subsample=1.0 will be ignored. Current value: bagging_fraction=0.7465346024848847\n",
      "[LightGBM] [Warning] feature_fraction is set=0.18526707283723423, colsample_bytree=1.0 will be ignored. Current value: feature_fraction=0.18526707283723423\n",
      "[LightGBM] [Warning] lambda_l2 is set=5.46197365622888e-06, reg_lambda=0.0 will be ignored. Current value: lambda_l2=5.46197365622888e-06\n"
     ]
    },
    {
     "name": "stderr",
     "output_type": "stream",
     "text": [
      "\u001b[32m[I 2023-02-01 18:15:41,180]\u001b[0m Trial 166 finished with value: 2.2537512699640443 and parameters: {'feature_fraction': 0.18526707283723423, 'num_leaves': 120, 'bagging_fraction': 0.7465346024848847, 'lambda_l1': 0.01626236251265397, 'lambda_l2': 5.46197365622888e-06, 'n_estimators': 162, 'max_depth': 4}. Best is trial 41 with value: 2.17549532600143.\u001b[0m\n"
     ]
    },
    {
     "name": "stdout",
     "output_type": "stream",
     "text": [
      "[LightGBM] [Warning] lambda_l1 is set=0.0036009244817403955, reg_alpha=0.0 will be ignored. Current value: lambda_l1=0.0036009244817403955\n",
      "[LightGBM] [Warning] bagging_fraction is set=0.6640236095601664, subsample=1.0 will be ignored. Current value: bagging_fraction=0.6640236095601664\n",
      "[LightGBM] [Warning] feature_fraction is set=0.08211215119108059, colsample_bytree=1.0 will be ignored. Current value: feature_fraction=0.08211215119108059\n",
      "[LightGBM] [Warning] lambda_l2 is set=2.653266904552625e-06, reg_lambda=0.0 will be ignored. Current value: lambda_l2=2.653266904552625e-06\n"
     ]
    },
    {
     "name": "stderr",
     "output_type": "stream",
     "text": [
      "\u001b[32m[I 2023-02-01 18:15:42,990]\u001b[0m Trial 167 finished with value: 2.2542390289695926 and parameters: {'feature_fraction': 0.08211215119108059, 'num_leaves': 229, 'bagging_fraction': 0.6640236095601664, 'lambda_l1': 0.0036009244817403955, 'lambda_l2': 2.653266904552625e-06, 'n_estimators': 128, 'max_depth': 4}. Best is trial 41 with value: 2.17549532600143.\u001b[0m\n"
     ]
    },
    {
     "name": "stdout",
     "output_type": "stream",
     "text": [
      "[LightGBM] [Warning] lambda_l1 is set=0.001605908072117982, reg_alpha=0.0 will be ignored. Current value: lambda_l1=0.001605908072117982\n",
      "[LightGBM] [Warning] bagging_fraction is set=0.629600518456663, subsample=1.0 will be ignored. Current value: bagging_fraction=0.629600518456663\n",
      "[LightGBM] [Warning] feature_fraction is set=0.13064909211950199, colsample_bytree=1.0 will be ignored. Current value: feature_fraction=0.13064909211950199\n",
      "[LightGBM] [Warning] lambda_l2 is set=4.25675549621596e-06, reg_lambda=0.0 will be ignored. Current value: lambda_l2=4.25675549621596e-06\n"
     ]
    },
    {
     "name": "stderr",
     "output_type": "stream",
     "text": [
      "\u001b[32m[I 2023-02-01 18:15:45,045]\u001b[0m Trial 168 finished with value: 2.2309252602568153 and parameters: {'feature_fraction': 0.13064909211950199, 'num_leaves': 110, 'bagging_fraction': 0.629600518456663, 'lambda_l1': 0.001605908072117982, 'lambda_l2': 4.25675549621596e-06, 'n_estimators': 136, 'max_depth': 4}. Best is trial 41 with value: 2.17549532600143.\u001b[0m\n"
     ]
    },
    {
     "name": "stdout",
     "output_type": "stream",
     "text": [
      "[LightGBM] [Warning] lambda_l1 is set=0.03231506725803033, reg_alpha=0.0 will be ignored. Current value: lambda_l1=0.03231506725803033\n",
      "[LightGBM] [Warning] bagging_fraction is set=0.7013542324714995, subsample=1.0 will be ignored. Current value: bagging_fraction=0.7013542324714995\n",
      "[LightGBM] [Warning] feature_fraction is set=0.04042822354169658, colsample_bytree=1.0 will be ignored. Current value: feature_fraction=0.04042822354169658\n",
      "[LightGBM] [Warning] lambda_l2 is set=3.489789892724633e-07, reg_lambda=0.0 will be ignored. Current value: lambda_l2=3.489789892724633e-07\n"
     ]
    },
    {
     "name": "stderr",
     "output_type": "stream",
     "text": [
      "\u001b[32m[I 2023-02-01 18:15:46,740]\u001b[0m Trial 169 finished with value: 2.219483356922901 and parameters: {'feature_fraction': 0.04042822354169658, 'num_leaves': 132, 'bagging_fraction': 0.7013542324714995, 'lambda_l1': 0.03231506725803033, 'lambda_l2': 3.489789892724633e-07, 'n_estimators': 157, 'max_depth': 4}. Best is trial 41 with value: 2.17549532600143.\u001b[0m\n"
     ]
    },
    {
     "name": "stdout",
     "output_type": "stream",
     "text": [
      "[LightGBM] [Warning] lambda_l1 is set=0.0008492295482495707, reg_alpha=0.0 will be ignored. Current value: lambda_l1=0.0008492295482495707\n",
      "[LightGBM] [Warning] bagging_fraction is set=0.7655044388767094, subsample=1.0 will be ignored. Current value: bagging_fraction=0.7655044388767094\n",
      "[LightGBM] [Warning] feature_fraction is set=0.05635390731028998, colsample_bytree=1.0 will be ignored. Current value: feature_fraction=0.05635390731028998\n",
      "[LightGBM] [Warning] lambda_l2 is set=3.277624971091799e-05, reg_lambda=0.0 will be ignored. Current value: lambda_l2=3.277624971091799e-05\n"
     ]
    },
    {
     "name": "stderr",
     "output_type": "stream",
     "text": [
      "\u001b[32m[I 2023-02-01 18:15:48,379]\u001b[0m Trial 170 finished with value: 2.2220861134225114 and parameters: {'feature_fraction': 0.05635390731028998, 'num_leaves': 144, 'bagging_fraction': 0.7655044388767094, 'lambda_l1': 0.0008492295482495707, 'lambda_l2': 3.277624971091799e-05, 'n_estimators': 106, 'max_depth': 4}. Best is trial 41 with value: 2.17549532600143.\u001b[0m\n"
     ]
    },
    {
     "name": "stdout",
     "output_type": "stream",
     "text": [
      "[LightGBM] [Warning] lambda_l1 is set=0.0024673623414895804, reg_alpha=0.0 will be ignored. Current value: lambda_l1=0.0024673623414895804\n",
      "[LightGBM] [Warning] bagging_fraction is set=0.7579051662463645, subsample=1.0 will be ignored. Current value: bagging_fraction=0.7579051662463645\n",
      "[LightGBM] [Warning] feature_fraction is set=0.02882577127483343, colsample_bytree=1.0 will be ignored. Current value: feature_fraction=0.02882577127483343\n",
      "[LightGBM] [Warning] lambda_l2 is set=2.2141890466881044e-06, reg_lambda=0.0 will be ignored. Current value: lambda_l2=2.2141890466881044e-06\n"
     ]
    },
    {
     "name": "stderr",
     "output_type": "stream",
     "text": [
      "\u001b[32m[I 2023-02-01 18:15:49,977]\u001b[0m Trial 171 finished with value: 2.201187693336387 and parameters: {'feature_fraction': 0.02882577127483343, 'num_leaves': 155, 'bagging_fraction': 0.7579051662463645, 'lambda_l1': 0.0024673623414895804, 'lambda_l2': 2.2141890466881044e-06, 'n_estimators': 133, 'max_depth': 4}. Best is trial 41 with value: 2.17549532600143.\u001b[0m\n"
     ]
    },
    {
     "name": "stdout",
     "output_type": "stream",
     "text": [
      "[LightGBM] [Warning] lambda_l1 is set=0.0014340598307591667, reg_alpha=0.0 will be ignored. Current value: lambda_l1=0.0014340598307591667\n",
      "[LightGBM] [Warning] bagging_fraction is set=0.748479539568074, subsample=1.0 will be ignored. Current value: bagging_fraction=0.748479539568074\n",
      "[LightGBM] [Warning] feature_fraction is set=0.024342852350257283, colsample_bytree=1.0 will be ignored. Current value: feature_fraction=0.024342852350257283\n",
      "[LightGBM] [Warning] lambda_l2 is set=7.5003403439168915e-06, reg_lambda=0.0 will be ignored. Current value: lambda_l2=7.5003403439168915e-06\n"
     ]
    },
    {
     "name": "stderr",
     "output_type": "stream",
     "text": [
      "\u001b[32m[I 2023-02-01 18:15:51,545]\u001b[0m Trial 172 finished with value: 2.2235479961468236 and parameters: {'feature_fraction': 0.024342852350257283, 'num_leaves': 162, 'bagging_fraction': 0.748479539568074, 'lambda_l1': 0.0014340598307591667, 'lambda_l2': 7.5003403439168915e-06, 'n_estimators': 131, 'max_depth': 4}. Best is trial 41 with value: 2.17549532600143.\u001b[0m\n"
     ]
    },
    {
     "name": "stdout",
     "output_type": "stream",
     "text": [
      "[LightGBM] [Warning] lambda_l1 is set=0.0018780027938475362, reg_alpha=0.0 will be ignored. Current value: lambda_l1=0.0018780027938475362\n",
      "[LightGBM] [Warning] bagging_fraction is set=0.7339879509366202, subsample=1.0 will be ignored. Current value: bagging_fraction=0.7339879509366202\n",
      "[LightGBM] [Warning] feature_fraction is set=0.28288488509308773, colsample_bytree=1.0 will be ignored. Current value: feature_fraction=0.28288488509308773\n",
      "[LightGBM] [Warning] lambda_l2 is set=2.9838806929586204e-06, reg_lambda=0.0 will be ignored. Current value: lambda_l2=2.9838806929586204e-06\n"
     ]
    },
    {
     "name": "stderr",
     "output_type": "stream",
     "text": [
      "\u001b[32m[I 2023-02-01 18:15:54,395]\u001b[0m Trial 173 finished with value: 2.258352336517785 and parameters: {'feature_fraction': 0.28288488509308773, 'num_leaves': 124, 'bagging_fraction': 0.7339879509366202, 'lambda_l1': 0.0018780027938475362, 'lambda_l2': 2.9838806929586204e-06, 'n_estimators': 147, 'max_depth': 4}. Best is trial 41 with value: 2.17549532600143.\u001b[0m\n"
     ]
    },
    {
     "name": "stdout",
     "output_type": "stream",
     "text": [
      "[LightGBM] [Warning] lambda_l1 is set=0.00046218632904970053, reg_alpha=0.0 will be ignored. Current value: lambda_l1=0.00046218632904970053\n",
      "[LightGBM] [Warning] bagging_fraction is set=0.7596766770906843, subsample=1.0 will be ignored. Current value: bagging_fraction=0.7596766770906843\n",
      "[LightGBM] [Warning] feature_fraction is set=0.016544535654491082, colsample_bytree=1.0 will be ignored. Current value: feature_fraction=0.016544535654491082\n",
      "[LightGBM] [Warning] lambda_l2 is set=1.739535462859659e-06, reg_lambda=0.0 will be ignored. Current value: lambda_l2=1.739535462859659e-06\n"
     ]
    },
    {
     "name": "stderr",
     "output_type": "stream",
     "text": [
      "\u001b[32m[I 2023-02-01 18:15:55,981]\u001b[0m Trial 174 finished with value: 2.2694856484811576 and parameters: {'feature_fraction': 0.016544535654491082, 'num_leaves': 235, 'bagging_fraction': 0.7596766770906843, 'lambda_l1': 0.00046218632904970053, 'lambda_l2': 1.739535462859659e-06, 'n_estimators': 141, 'max_depth': 4}. Best is trial 41 with value: 2.17549532600143.\u001b[0m\n"
     ]
    },
    {
     "name": "stdout",
     "output_type": "stream",
     "text": [
      "[LightGBM] [Warning] lambda_l1 is set=0.005631737326904005, reg_alpha=0.0 will be ignored. Current value: lambda_l1=0.005631737326904005\n",
      "[LightGBM] [Warning] bagging_fraction is set=0.7186788846680617, subsample=1.0 will be ignored. Current value: bagging_fraction=0.7186788846680617\n",
      "[LightGBM] [Warning] feature_fraction is set=0.07592023510320753, colsample_bytree=1.0 will be ignored. Current value: feature_fraction=0.07592023510320753\n",
      "[LightGBM] [Warning] lambda_l2 is set=1.3316749761324499e-05, reg_lambda=0.0 will be ignored. Current value: lambda_l2=1.3316749761324499e-05\n"
     ]
    },
    {
     "name": "stderr",
     "output_type": "stream",
     "text": [
      "\u001b[32m[I 2023-02-01 18:15:57,896]\u001b[0m Trial 175 finished with value: 2.247003107922001 and parameters: {'feature_fraction': 0.07592023510320753, 'num_leaves': 115, 'bagging_fraction': 0.7186788846680617, 'lambda_l1': 0.005631737326904005, 'lambda_l2': 1.3316749761324499e-05, 'n_estimators': 169, 'max_depth': 4}. Best is trial 41 with value: 2.17549532600143.\u001b[0m\n"
     ]
    },
    {
     "name": "stdout",
     "output_type": "stream",
     "text": [
      "[LightGBM] [Warning] lambda_l1 is set=0.0007490058677391737, reg_alpha=0.0 will be ignored. Current value: lambda_l1=0.0007490058677391737\n",
      "[LightGBM] [Warning] bagging_fraction is set=0.6487663480728468, subsample=1.0 will be ignored. Current value: bagging_fraction=0.6487663480728468\n",
      "[LightGBM] [Warning] feature_fraction is set=0.016176406499356824, colsample_bytree=1.0 will be ignored. Current value: feature_fraction=0.016176406499356824\n",
      "[LightGBM] [Warning] lambda_l2 is set=1.1108734229877585e-06, reg_lambda=0.0 will be ignored. Current value: lambda_l2=1.1108734229877585e-06\n"
     ]
    },
    {
     "name": "stderr",
     "output_type": "stream",
     "text": [
      "\u001b[32m[I 2023-02-01 18:15:59,420]\u001b[0m Trial 176 finished with value: 2.2693340623451452 and parameters: {'feature_fraction': 0.016176406499356824, 'num_leaves': 142, 'bagging_fraction': 0.6487663480728468, 'lambda_l1': 0.0007490058677391737, 'lambda_l2': 1.1108734229877585e-06, 'n_estimators': 123, 'max_depth': 4}. Best is trial 41 with value: 2.17549532600143.\u001b[0m\n"
     ]
    },
    {
     "name": "stdout",
     "output_type": "stream",
     "text": [
      "[LightGBM] [Warning] lambda_l1 is set=0.00883697659753307, reg_alpha=0.0 will be ignored. Current value: lambda_l1=0.00883697659753307\n",
      "[LightGBM] [Warning] bagging_fraction is set=0.6739900577619135, subsample=1.0 will be ignored. Current value: bagging_fraction=0.6739900577619135\n",
      "[LightGBM] [Warning] feature_fraction is set=0.04829546039098254, colsample_bytree=1.0 will be ignored. Current value: feature_fraction=0.04829546039098254\n",
      "[LightGBM] [Warning] lambda_l2 is set=3.8519507770839725e-06, reg_lambda=0.0 will be ignored. Current value: lambda_l2=3.8519507770839725e-06\n"
     ]
    },
    {
     "name": "stderr",
     "output_type": "stream",
     "text": [
      "\u001b[32m[I 2023-02-01 18:16:01,332]\u001b[0m Trial 177 finished with value: 2.243239142360285 and parameters: {'feature_fraction': 0.04829546039098254, 'num_leaves': 150, 'bagging_fraction': 0.6739900577619135, 'lambda_l1': 0.00883697659753307, 'lambda_l2': 3.8519507770839725e-06, 'n_estimators': 154, 'max_depth': 5}. Best is trial 41 with value: 2.17549532600143.\u001b[0m\n"
     ]
    },
    {
     "name": "stdout",
     "output_type": "stream",
     "text": [
      "[LightGBM] [Warning] lambda_l1 is set=1.136572607585351, reg_alpha=0.0 will be ignored. Current value: lambda_l1=1.136572607585351\n",
      "[LightGBM] [Warning] bagging_fraction is set=0.7803127693445018, subsample=1.0 will be ignored. Current value: bagging_fraction=0.7803127693445018\n",
      "[LightGBM] [Warning] feature_fraction is set=0.1021209850712347, colsample_bytree=1.0 will be ignored. Current value: feature_fraction=0.1021209850712347\n",
      "[LightGBM] [Warning] lambda_l2 is set=7.715861258434941e-07, reg_lambda=0.0 will be ignored. Current value: lambda_l2=7.715861258434941e-07\n"
     ]
    },
    {
     "name": "stderr",
     "output_type": "stream",
     "text": [
      "\u001b[32m[I 2023-02-01 18:16:03,182]\u001b[0m Trial 178 finished with value: 2.2348004287552268 and parameters: {'feature_fraction': 0.1021209850712347, 'num_leaves': 255, 'bagging_fraction': 0.7803127693445018, 'lambda_l1': 1.136572607585351, 'lambda_l2': 7.715861258434941e-07, 'n_estimators': 114, 'max_depth': 4}. Best is trial 41 with value: 2.17549532600143.\u001b[0m\n"
     ]
    },
    {
     "name": "stdout",
     "output_type": "stream",
     "text": [
      "[LightGBM] [Warning] lambda_l1 is set=0.05054886066557415, reg_alpha=0.0 will be ignored. Current value: lambda_l1=0.05054886066557415\n",
      "[LightGBM] [Warning] bagging_fraction is set=0.6876944388658712, subsample=1.0 will be ignored. Current value: bagging_fraction=0.6876944388658712\n",
      "[LightGBM] [Warning] feature_fraction is set=0.0730571974295414, colsample_bytree=1.0 will be ignored. Current value: feature_fraction=0.0730571974295414\n",
      "[LightGBM] [Warning] lambda_l2 is set=2.292451108315016e-06, reg_lambda=0.0 will be ignored. Current value: lambda_l2=2.292451108315016e-06\n"
     ]
    },
    {
     "name": "stderr",
     "output_type": "stream",
     "text": [
      "\u001b[32m[I 2023-02-01 18:16:04,963]\u001b[0m Trial 179 finished with value: 2.2315779424531024 and parameters: {'feature_fraction': 0.0730571974295414, 'num_leaves': 158, 'bagging_fraction': 0.6876944388658712, 'lambda_l1': 0.05054886066557415, 'lambda_l2': 2.292451108315016e-06, 'n_estimators': 128, 'max_depth': 4}. Best is trial 41 with value: 2.17549532600143.\u001b[0m\n"
     ]
    },
    {
     "name": "stdout",
     "output_type": "stream",
     "text": [
      "[LightGBM] [Warning] lambda_l1 is set=0.07827619325432758, reg_alpha=0.0 will be ignored. Current value: lambda_l1=0.07827619325432758\n",
      "[LightGBM] [Warning] bagging_fraction is set=0.7131327176971329, subsample=1.0 will be ignored. Current value: bagging_fraction=0.7131327176971329\n",
      "[LightGBM] [Warning] feature_fraction is set=0.0017716742757181818, colsample_bytree=1.0 will be ignored. Current value: feature_fraction=0.0017716742757181818\n",
      "[LightGBM] [Warning] lambda_l2 is set=6.471166895754895e-06, reg_lambda=0.0 will be ignored. Current value: lambda_l2=6.471166895754895e-06\n"
     ]
    },
    {
     "name": "stderr",
     "output_type": "stream",
     "text": [
      "\u001b[32m[I 2023-02-01 18:16:06,439]\u001b[0m Trial 180 finished with value: 2.383776158860025 and parameters: {'feature_fraction': 0.0017716742757181818, 'num_leaves': 135, 'bagging_fraction': 0.7131327176971329, 'lambda_l1': 0.07827619325432758, 'lambda_l2': 6.471166895754895e-06, 'n_estimators': 140, 'max_depth': 4}. Best is trial 41 with value: 2.17549532600143.\u001b[0m\n"
     ]
    },
    {
     "name": "stdout",
     "output_type": "stream",
     "text": [
      "[LightGBM] [Warning] lambda_l1 is set=0.17507813529089775, reg_alpha=0.0 will be ignored. Current value: lambda_l1=0.17507813529089775\n",
      "[LightGBM] [Warning] bagging_fraction is set=0.6061111353636408, subsample=1.0 will be ignored. Current value: bagging_fraction=0.6061111353636408\n",
      "[LightGBM] [Warning] feature_fraction is set=0.03691425631216615, colsample_bytree=1.0 will be ignored. Current value: feature_fraction=0.03691425631216615\n",
      "[LightGBM] [Warning] lambda_l2 is set=1.5128354087985982e-06, reg_lambda=0.0 will be ignored. Current value: lambda_l2=1.5128354087985982e-06\n"
     ]
    },
    {
     "name": "stderr",
     "output_type": "stream",
     "text": [
      "\u001b[32m[I 2023-02-01 18:16:08,111]\u001b[0m Trial 181 finished with value: 2.2276027454150262 and parameters: {'feature_fraction': 0.03691425631216615, 'num_leaves': 239, 'bagging_fraction': 0.6061111353636408, 'lambda_l1': 0.17507813529089775, 'lambda_l2': 1.5128354087985982e-06, 'n_estimators': 146, 'max_depth': 4}. Best is trial 41 with value: 2.17549532600143.\u001b[0m\n"
     ]
    },
    {
     "name": "stdout",
     "output_type": "stream",
     "text": [
      "[LightGBM] [Warning] lambda_l1 is set=0.08747949413722352, reg_alpha=0.0 will be ignored. Current value: lambda_l1=0.08747949413722352\n",
      "[LightGBM] [Warning] bagging_fraction is set=0.5642830125975998, subsample=1.0 will be ignored. Current value: bagging_fraction=0.5642830125975998\n",
      "[LightGBM] [Warning] feature_fraction is set=0.05375882562198651, colsample_bytree=1.0 will be ignored. Current value: feature_fraction=0.05375882562198651\n",
      "[LightGBM] [Warning] lambda_l2 is set=6.070463240244361e-07, reg_lambda=0.0 will be ignored. Current value: lambda_l2=6.070463240244361e-07\n"
     ]
    },
    {
     "name": "stderr",
     "output_type": "stream",
     "text": [
      "\u001b[32m[I 2023-02-01 18:16:09,821]\u001b[0m Trial 182 finished with value: 2.1756350593988194 and parameters: {'feature_fraction': 0.05375882562198651, 'num_leaves': 185, 'bagging_fraction': 0.5642830125975998, 'lambda_l1': 0.08747949413722352, 'lambda_l2': 6.070463240244361e-07, 'n_estimators': 133, 'max_depth': 4}. Best is trial 41 with value: 2.17549532600143.\u001b[0m\n"
     ]
    },
    {
     "name": "stdout",
     "output_type": "stream",
     "text": [
      "[LightGBM] [Warning] lambda_l1 is set=0.04121114593903315, reg_alpha=0.0 will be ignored. Current value: lambda_l1=0.04121114593903315\n",
      "[LightGBM] [Warning] bagging_fraction is set=0.5679088761441993, subsample=1.0 will be ignored. Current value: bagging_fraction=0.5679088761441993\n",
      "[LightGBM] [Warning] feature_fraction is set=0.05962601889766551, colsample_bytree=1.0 will be ignored. Current value: feature_fraction=0.05962601889766551\n",
      "[LightGBM] [Warning] lambda_l2 is set=5.304022504683102e-07, reg_lambda=0.0 will be ignored. Current value: lambda_l2=5.304022504683102e-07\n"
     ]
    },
    {
     "name": "stderr",
     "output_type": "stream",
     "text": [
      "\u001b[32m[I 2023-02-01 18:16:11,552]\u001b[0m Trial 183 finished with value: 2.2055914121868927 and parameters: {'feature_fraction': 0.05962601889766551, 'num_leaves': 176, 'bagging_fraction': 0.5679088761441993, 'lambda_l1': 0.04121114593903315, 'lambda_l2': 5.304022504683102e-07, 'n_estimators': 133, 'max_depth': 4}. Best is trial 41 with value: 2.17549532600143.\u001b[0m\n"
     ]
    },
    {
     "name": "stdout",
     "output_type": "stream",
     "text": [
      "[LightGBM] [Warning] lambda_l1 is set=0.023353376051693516, reg_alpha=0.0 will be ignored. Current value: lambda_l1=0.023353376051693516\n",
      "[LightGBM] [Warning] bagging_fraction is set=0.5786200046140612, subsample=1.0 will be ignored. Current value: bagging_fraction=0.5786200046140612\n",
      "[LightGBM] [Warning] feature_fraction is set=0.02198195490083693, colsample_bytree=1.0 will be ignored. Current value: feature_fraction=0.02198195490083693\n",
      "[LightGBM] [Warning] lambda_l2 is set=0.00047599931133030627, reg_lambda=0.0 will be ignored. Current value: lambda_l2=0.00047599931133030627\n"
     ]
    },
    {
     "name": "stderr",
     "output_type": "stream",
     "text": [
      "\u001b[32m[I 2023-02-01 18:16:13,100]\u001b[0m Trial 184 finished with value: 2.239560250511772 and parameters: {'feature_fraction': 0.02198195490083693, 'num_leaves': 151, 'bagging_fraction': 0.5786200046140612, 'lambda_l1': 0.023353376051693516, 'lambda_l2': 0.00047599931133030627, 'n_estimators': 124, 'max_depth': 4}. Best is trial 41 with value: 2.17549532600143.\u001b[0m\n"
     ]
    },
    {
     "name": "stdout",
     "output_type": "stream",
     "text": [
      "[LightGBM] [Warning] lambda_l1 is set=0.09014146309255103, reg_alpha=0.0 will be ignored. Current value: lambda_l1=0.09014146309255103\n",
      "[LightGBM] [Warning] bagging_fraction is set=0.6581428261390769, subsample=1.0 will be ignored. Current value: bagging_fraction=0.6581428261390769\n",
      "[LightGBM] [Warning] feature_fraction is set=0.045390921443633714, colsample_bytree=1.0 will be ignored. Current value: feature_fraction=0.045390921443633714\n",
      "[LightGBM] [Warning] lambda_l2 is set=1.0589036962816016e-06, reg_lambda=0.0 will be ignored. Current value: lambda_l2=1.0589036962816016e-06\n"
     ]
    },
    {
     "name": "stderr",
     "output_type": "stream",
     "text": [
      "\u001b[32m[I 2023-02-01 18:16:14,844]\u001b[0m Trial 185 finished with value: 2.2049950864589674 and parameters: {'feature_fraction': 0.045390921443633714, 'num_leaves': 127, 'bagging_fraction': 0.6581428261390769, 'lambda_l1': 0.09014146309255103, 'lambda_l2': 1.0589036962816016e-06, 'n_estimators': 165, 'max_depth': 4}. Best is trial 41 with value: 2.17549532600143.\u001b[0m\n"
     ]
    },
    {
     "name": "stdout",
     "output_type": "stream",
     "text": [
      "[LightGBM] [Warning] lambda_l1 is set=0.003368764955719767, reg_alpha=0.0 will be ignored. Current value: lambda_l1=0.003368764955719767\n",
      "[LightGBM] [Warning] bagging_fraction is set=0.7494034317306293, subsample=1.0 will be ignored. Current value: bagging_fraction=0.7494034317306293\n",
      "[LightGBM] [Warning] feature_fraction is set=0.09325075939668342, colsample_bytree=1.0 will be ignored. Current value: feature_fraction=0.09325075939668342\n",
      "[LightGBM] [Warning] lambda_l2 is set=2.7431148674193663e-06, reg_lambda=0.0 will be ignored. Current value: lambda_l2=2.7431148674193663e-06\n"
     ]
    },
    {
     "name": "stderr",
     "output_type": "stream",
     "text": [
      "\u001b[32m[I 2023-02-01 18:16:16,789]\u001b[0m Trial 186 finished with value: 2.2012744588328594 and parameters: {'feature_fraction': 0.09325075939668342, 'num_leaves': 166, 'bagging_fraction': 0.7494034317306293, 'lambda_l1': 0.003368764955719767, 'lambda_l2': 2.7431148674193663e-06, 'n_estimators': 151, 'max_depth': 4}. Best is trial 41 with value: 2.17549532600143.\u001b[0m\n"
     ]
    },
    {
     "name": "stdout",
     "output_type": "stream",
     "text": [
      "[LightGBM] [Warning] lambda_l1 is set=0.012076000556727202, reg_alpha=0.0 will be ignored. Current value: lambda_l1=0.012076000556727202\n",
      "[LightGBM] [Warning] bagging_fraction is set=0.7382802836685937, subsample=1.0 will be ignored. Current value: bagging_fraction=0.7382802836685937\n",
      "[LightGBM] [Warning] feature_fraction is set=0.4134302318565773, colsample_bytree=1.0 will be ignored. Current value: feature_fraction=0.4134302318565773\n",
      "[LightGBM] [Warning] lambda_l2 is set=4.904231747594035e-06, reg_lambda=0.0 will be ignored. Current value: lambda_l2=4.904231747594035e-06\n"
     ]
    },
    {
     "name": "stderr",
     "output_type": "stream",
     "text": [
      "\u001b[32m[I 2023-02-01 18:16:20,167]\u001b[0m Trial 187 finished with value: 2.2662085330938067 and parameters: {'feature_fraction': 0.4134302318565773, 'num_leaves': 182, 'bagging_fraction': 0.7382802836685937, 'lambda_l1': 0.012076000556727202, 'lambda_l2': 4.904231747594035e-06, 'n_estimators': 138, 'max_depth': 4}. Best is trial 41 with value: 2.17549532600143.\u001b[0m\n"
     ]
    },
    {
     "name": "stdout",
     "output_type": "stream",
     "text": [
      "[LightGBM] [Warning] lambda_l1 is set=0.05439423177564021, reg_alpha=0.0 will be ignored. Current value: lambda_l1=0.05439423177564021\n",
      "[LightGBM] [Warning] bagging_fraction is set=0.767831624032073, subsample=1.0 will be ignored. Current value: bagging_fraction=0.767831624032073\n",
      "[LightGBM] [Warning] feature_fraction is set=5.322812597249177e-05, colsample_bytree=1.0 will be ignored. Current value: feature_fraction=5.322812597249177e-05\n",
      "[LightGBM] [Warning] lambda_l2 is set=1.6348651130246211e-06, reg_lambda=0.0 will be ignored. Current value: lambda_l2=1.6348651130246211e-06\n"
     ]
    },
    {
     "name": "stderr",
     "output_type": "stream",
     "text": [
      "\u001b[32m[I 2023-02-01 18:16:21,677]\u001b[0m Trial 188 finished with value: 2.3472954779048654 and parameters: {'feature_fraction': 5.322812597249177e-05, 'num_leaves': 119, 'bagging_fraction': 0.767831624032073, 'lambda_l1': 0.05439423177564021, 'lambda_l2': 1.6348651130246211e-06, 'n_estimators': 173, 'max_depth': 4}. Best is trial 41 with value: 2.17549532600143.\u001b[0m\n"
     ]
    },
    {
     "name": "stdout",
     "output_type": "stream",
     "text": [
      "[LightGBM] [Warning] lambda_l1 is set=0.002165298694474047, reg_alpha=0.0 will be ignored. Current value: lambda_l1=0.002165298694474047\n",
      "[LightGBM] [Warning] bagging_fraction is set=0.6322772071225194, subsample=1.0 will be ignored. Current value: bagging_fraction=0.6322772071225194\n",
      "[LightGBM] [Warning] feature_fraction is set=0.06269547500020364, colsample_bytree=1.0 will be ignored. Current value: feature_fraction=0.06269547500020364\n",
      "[LightGBM] [Warning] lambda_l2 is set=2.2823229276085354e-07, reg_lambda=0.0 will be ignored. Current value: lambda_l2=2.2823229276085354e-07\n"
     ]
    },
    {
     "name": "stderr",
     "output_type": "stream",
     "text": [
      "\u001b[32m[I 2023-02-01 18:16:23,379]\u001b[0m Trial 189 finished with value: 2.2517130395403306 and parameters: {'feature_fraction': 0.06269547500020364, 'num_leaves': 249, 'bagging_fraction': 0.6322772071225194, 'lambda_l1': 0.002165298694474047, 'lambda_l2': 2.2823229276085354e-07, 'n_estimators': 120, 'max_depth': 4}. Best is trial 41 with value: 2.17549532600143.\u001b[0m\n"
     ]
    },
    {
     "name": "stdout",
     "output_type": "stream",
     "text": [
      "[LightGBM] [Warning] lambda_l1 is set=0.0010210777282062974, reg_alpha=0.0 will be ignored. Current value: lambda_l1=0.0010210777282062974\n",
      "[LightGBM] [Warning] bagging_fraction is set=0.5167684416278672, subsample=1.0 will be ignored. Current value: bagging_fraction=0.5167684416278672\n",
      "[LightGBM] [Warning] feature_fraction is set=0.03505191910906866, colsample_bytree=1.0 will be ignored. Current value: feature_fraction=0.03505191910906866\n",
      "[LightGBM] [Warning] lambda_l2 is set=9.112702347314405e-06, reg_lambda=0.0 will be ignored. Current value: lambda_l2=9.112702347314405e-06\n"
     ]
    },
    {
     "name": "stderr",
     "output_type": "stream",
     "text": [
      "\u001b[32m[I 2023-02-01 18:16:25,059]\u001b[0m Trial 190 finished with value: 2.2127794548907866 and parameters: {'feature_fraction': 0.03505191910906866, 'num_leaves': 140, 'bagging_fraction': 0.5167684416278672, 'lambda_l1': 0.0010210777282062974, 'lambda_l2': 9.112702347314405e-06, 'n_estimators': 159, 'max_depth': 4}. Best is trial 41 with value: 2.17549532600143.\u001b[0m\n"
     ]
    },
    {
     "name": "stdout",
     "output_type": "stream",
     "text": [
      "[LightGBM] [Warning] lambda_l1 is set=0.15160092803999203, reg_alpha=0.0 will be ignored. Current value: lambda_l1=0.15160092803999203\n",
      "[LightGBM] [Warning] bagging_fraction is set=0.5456074409162981, subsample=1.0 will be ignored. Current value: bagging_fraction=0.5456074409162981\n",
      "[LightGBM] [Warning] feature_fraction is set=0.01958357594106118, colsample_bytree=1.0 will be ignored. Current value: feature_fraction=0.01958357594106118\n",
      "[LightGBM] [Warning] lambda_l2 is set=8.112422306801586e-07, reg_lambda=0.0 will be ignored. Current value: lambda_l2=8.112422306801586e-07\n"
     ]
    },
    {
     "name": "stderr",
     "output_type": "stream",
     "text": [
      "\u001b[32m[I 2023-02-01 18:16:26,645]\u001b[0m Trial 191 finished with value: 2.1880320981146713 and parameters: {'feature_fraction': 0.01958357594106118, 'num_leaves': 243, 'bagging_fraction': 0.5456074409162981, 'lambda_l1': 0.15160092803999203, 'lambda_l2': 8.112422306801586e-07, 'n_estimators': 148, 'max_depth': 4}. Best is trial 41 with value: 2.17549532600143.\u001b[0m\n"
     ]
    },
    {
     "name": "stdout",
     "output_type": "stream",
     "text": [
      "[LightGBM] [Warning] lambda_l1 is set=0.10694041663787594, reg_alpha=0.0 will be ignored. Current value: lambda_l1=0.10694041663787594\n",
      "[LightGBM] [Warning] bagging_fraction is set=0.546517264269515, subsample=1.0 will be ignored. Current value: bagging_fraction=0.546517264269515\n",
      "[LightGBM] [Warning] feature_fraction is set=0.02012148475305739, colsample_bytree=1.0 will be ignored. Current value: feature_fraction=0.02012148475305739\n",
      "[LightGBM] [Warning] lambda_l2 is set=6.431482972740808e-07, reg_lambda=0.0 will be ignored. Current value: lambda_l2=6.431482972740808e-07\n"
     ]
    },
    {
     "name": "stderr",
     "output_type": "stream",
     "text": [
      "\u001b[32m[I 2023-02-01 18:16:28,234]\u001b[0m Trial 192 finished with value: 2.189593548791546 and parameters: {'feature_fraction': 0.02012148475305739, 'num_leaves': 242, 'bagging_fraction': 0.546517264269515, 'lambda_l1': 0.10694041663787594, 'lambda_l2': 6.431482972740808e-07, 'n_estimators': 147, 'max_depth': 4}. Best is trial 41 with value: 2.17549532600143.\u001b[0m\n"
     ]
    },
    {
     "name": "stdout",
     "output_type": "stream",
     "text": [
      "[LightGBM] [Warning] lambda_l1 is set=0.24416850326234785, reg_alpha=0.0 will be ignored. Current value: lambda_l1=0.24416850326234785\n",
      "[LightGBM] [Warning] bagging_fraction is set=0.5405086327561526, subsample=1.0 will be ignored. Current value: bagging_fraction=0.5405086327561526\n",
      "[LightGBM] [Warning] feature_fraction is set=0.23967498133312992, colsample_bytree=1.0 will be ignored. Current value: feature_fraction=0.23967498133312992\n",
      "[LightGBM] [Warning] lambda_l2 is set=4.5553906034542823e-07, reg_lambda=0.0 will be ignored. Current value: lambda_l2=4.5553906034542823e-07\n"
     ]
    },
    {
     "name": "stderr",
     "output_type": "stream",
     "text": [
      "\u001b[32m[I 2023-02-01 18:16:31,084]\u001b[0m Trial 193 finished with value: 2.277029909822634 and parameters: {'feature_fraction': 0.23967498133312992, 'num_leaves': 241, 'bagging_fraction': 0.5405086327561526, 'lambda_l1': 0.24416850326234785, 'lambda_l2': 4.5553906034542823e-07, 'n_estimators': 147, 'max_depth': 4}. Best is trial 41 with value: 2.17549532600143.\u001b[0m\n"
     ]
    },
    {
     "name": "stdout",
     "output_type": "stream",
     "text": [
      "[LightGBM] [Warning] lambda_l1 is set=0.10874878092579152, reg_alpha=0.0 will be ignored. Current value: lambda_l1=0.10874878092579152\n",
      "[LightGBM] [Warning] bagging_fraction is set=0.5502401459338621, subsample=1.0 will be ignored. Current value: bagging_fraction=0.5502401459338621\n",
      "[LightGBM] [Warning] feature_fraction is set=0.04650197477654074, colsample_bytree=1.0 will be ignored. Current value: feature_fraction=0.04650197477654074\n",
      "[LightGBM] [Warning] lambda_l2 is set=7.66642769974999e-07, reg_lambda=0.0 will be ignored. Current value: lambda_l2=7.66642769974999e-07\n"
     ]
    },
    {
     "name": "stderr",
     "output_type": "stream",
     "text": [
      "\u001b[32m[I 2023-02-01 18:16:32,822]\u001b[0m Trial 194 finished with value: 2.234256965365294 and parameters: {'feature_fraction': 0.04650197477654074, 'num_leaves': 245, 'bagging_fraction': 0.5502401459338621, 'lambda_l1': 0.10874878092579152, 'lambda_l2': 7.66642769974999e-07, 'n_estimators': 155, 'max_depth': 4}. Best is trial 41 with value: 2.17549532600143.\u001b[0m\n"
     ]
    },
    {
     "name": "stdout",
     "output_type": "stream",
     "text": [
      "[LightGBM] [Warning] lambda_l1 is set=0.14429049784451034, reg_alpha=0.0 will be ignored. Current value: lambda_l1=0.14429049784451034\n",
      "[LightGBM] [Warning] bagging_fraction is set=0.5597482769083129, subsample=1.0 will be ignored. Current value: bagging_fraction=0.5597482769083129\n",
      "[LightGBM] [Warning] feature_fraction is set=0.018795327094198306, colsample_bytree=1.0 will be ignored. Current value: feature_fraction=0.018795327094198306\n",
      "[LightGBM] [Warning] lambda_l2 is set=3.207735445634537e-07, reg_lambda=0.0 will be ignored. Current value: lambda_l2=3.207735445634537e-07\n"
     ]
    },
    {
     "name": "stderr",
     "output_type": "stream",
     "text": [
      "\u001b[32m[I 2023-02-01 18:16:34,405]\u001b[0m Trial 195 finished with value: 2.188825800612286 and parameters: {'feature_fraction': 0.018795327094198306, 'num_leaves': 237, 'bagging_fraction': 0.5597482769083129, 'lambda_l1': 0.14429049784451034, 'lambda_l2': 3.207735445634537e-07, 'n_estimators': 144, 'max_depth': 4}. Best is trial 41 with value: 2.17549532600143.\u001b[0m\n"
     ]
    },
    {
     "name": "stdout",
     "output_type": "stream",
     "text": [
      "[LightGBM] [Warning] lambda_l1 is set=0.1464224349825011, reg_alpha=0.0 will be ignored. Current value: lambda_l1=0.1464224349825011\n",
      "[LightGBM] [Warning] bagging_fraction is set=0.527178833177483, subsample=1.0 will be ignored. Current value: bagging_fraction=0.527178833177483\n",
      "[LightGBM] [Warning] feature_fraction is set=0.21546758494309426, colsample_bytree=1.0 will be ignored. Current value: feature_fraction=0.21546758494309426\n",
      "[LightGBM] [Warning] lambda_l2 is set=3.506650648409562e-07, reg_lambda=0.0 will be ignored. Current value: lambda_l2=3.506650648409562e-07\n"
     ]
    },
    {
     "name": "stderr",
     "output_type": "stream",
     "text": [
      "\u001b[32m[I 2023-02-01 18:16:36,946]\u001b[0m Trial 196 finished with value: 2.261413900796572 and parameters: {'feature_fraction': 0.21546758494309426, 'num_leaves': 233, 'bagging_fraction': 0.527178833177483, 'lambda_l1': 0.1464224349825011, 'lambda_l2': 3.506650648409562e-07, 'n_estimators': 144, 'max_depth': 4}. Best is trial 41 with value: 2.17549532600143.\u001b[0m\n"
     ]
    },
    {
     "name": "stdout",
     "output_type": "stream",
     "text": [
      "[LightGBM] [Warning] lambda_l1 is set=0.0630961521215683, reg_alpha=0.0 will be ignored. Current value: lambda_l1=0.0630961521215683\n",
      "[LightGBM] [Warning] bagging_fraction is set=0.5574549182997499, subsample=1.0 will be ignored. Current value: bagging_fraction=0.5574549182997499\n",
      "[LightGBM] [Warning] feature_fraction is set=0.07733523054847392, colsample_bytree=1.0 will be ignored. Current value: feature_fraction=0.07733523054847392\n",
      "[LightGBM] [Warning] lambda_l2 is set=5.957341759503512e-07, reg_lambda=0.0 will be ignored. Current value: lambda_l2=5.957341759503512e-07\n"
     ]
    },
    {
     "name": "stderr",
     "output_type": "stream",
     "text": [
      "\u001b[32m[I 2023-02-01 18:16:38,831]\u001b[0m Trial 197 finished with value: 2.219759607257196 and parameters: {'feature_fraction': 0.07733523054847392, 'num_leaves': 229, 'bagging_fraction': 0.5574549182997499, 'lambda_l1': 0.0630961521215683, 'lambda_l2': 5.957341759503512e-07, 'n_estimators': 151, 'max_depth': 4}. Best is trial 41 with value: 2.17549532600143.\u001b[0m\n"
     ]
    },
    {
     "name": "stdout",
     "output_type": "stream",
     "text": [
      "[LightGBM] [Warning] lambda_l1 is set=0.42174769086957803, reg_alpha=0.0 will be ignored. Current value: lambda_l1=0.42174769086957803\n",
      "[LightGBM] [Warning] bagging_fraction is set=0.5660492279752851, subsample=1.0 will be ignored. Current value: bagging_fraction=0.5660492279752851\n",
      "[LightGBM] [Warning] feature_fraction is set=0.0381060965156761, colsample_bytree=1.0 will be ignored. Current value: feature_fraction=0.0381060965156761\n",
      "[LightGBM] [Warning] lambda_l2 is set=2.56429923630485e-07, reg_lambda=0.0 will be ignored. Current value: lambda_l2=2.56429923630485e-07\n"
     ]
    },
    {
     "name": "stderr",
     "output_type": "stream",
     "text": [
      "\u001b[32m[I 2023-02-01 18:16:40,539]\u001b[0m Trial 198 finished with value: 2.2162621681819132 and parameters: {'feature_fraction': 0.0381060965156761, 'num_leaves': 237, 'bagging_fraction': 0.5660492279752851, 'lambda_l1': 0.42174769086957803, 'lambda_l2': 2.56429923630485e-07, 'n_estimators': 162, 'max_depth': 4}. Best is trial 41 with value: 2.17549532600143.\u001b[0m\n"
     ]
    },
    {
     "name": "stdout",
     "output_type": "stream",
     "text": [
      "[LightGBM] [Warning] lambda_l1 is set=0.09908451301284052, reg_alpha=0.0 will be ignored. Current value: lambda_l1=0.09908451301284052\n",
      "[LightGBM] [Warning] bagging_fraction is set=0.5598271356403888, subsample=1.0 will be ignored. Current value: bagging_fraction=0.5598271356403888\n",
      "[LightGBM] [Warning] feature_fraction is set=0.058009838148624336, colsample_bytree=1.0 will be ignored. Current value: feature_fraction=0.058009838148624336\n",
      "[LightGBM] [Warning] lambda_l2 is set=1.4046783271623752e-07, reg_lambda=0.0 will be ignored. Current value: lambda_l2=1.4046783271623752e-07\n"
     ]
    },
    {
     "name": "stderr",
     "output_type": "stream",
     "text": [
      "\u001b[32m[I 2023-02-01 18:16:42,291]\u001b[0m Trial 199 finished with value: 2.221847795085531 and parameters: {'feature_fraction': 0.058009838148624336, 'num_leaves': 251, 'bagging_fraction': 0.5598271356403888, 'lambda_l1': 0.09908451301284052, 'lambda_l2': 1.4046783271623752e-07, 'n_estimators': 140, 'max_depth': 4}. Best is trial 41 with value: 2.17549532600143.\u001b[0m\n"
     ]
    },
    {
     "name": "stdout",
     "output_type": "stream",
     "text": [
      "Number of finished trials: 200\n",
      "Best trial: {'feature_fraction': 0.05325213530593432, 'num_leaves': 233, 'bagging_fraction': 0.6455207579402016, 'lambda_l1': 0.08312739580440576, 'lambda_l2': 4.813627285969264e-06, 'n_estimators': 139, 'max_depth': 4}\n",
      "Best RMSE: 2.17549532600143\n"
     ]
    }
   ],
   "source": [
    "def objective(trial):\n",
    "    \"\"\"\n",
    "    https://medium.com/optuna/lightgbm-tuner-new-optuna-integration-for-hyperparameter-optimization-8b7095e99258\n",
    "    \"\"\"\n",
    "    params = {\n",
    "\n",
    "#         'bagging_freq': trial.suggest_int('bagging_freq', 1, 7),\n",
    "#         'min_child_samples': trial.suggest_int('min_child_samples', 5, 100),\n",
    "        'feature_fraction': trial.suggest_float('feature_fraction', 0.0, 1.0),\n",
    "        'num_leaves': trial.suggest_int('num_leaves', 2, 256),\n",
    "        'bagging_fraction': trial.suggest_float('bagging_fraction', 0.4, 1.0),\n",
    "        'lambda_l1': trial.suggest_float('lambda_l1', 1e-8, 10.0, log=True),\n",
    "        'lambda_l2': trial.suggest_float('lambda_l2', 1e-8, 10.0, log=True),\n",
    "#         'min_samples_leaf': trial.suggest_int('min_samples_leaf', 1, 10),\n",
    "        'n_estimators': trial.suggest_int('n_estimators', 10, 300),\n",
    "        'max_depth': trial.suggest_int('max_depth', 2, 6),\n",
    "        'deterministic': True,\n",
    "        'random_state': 42\n",
    "    }\n",
    "    \n",
    "    model2 = lgbm.LGBMRegressor(**params)\n",
    "    model2.fit(xtrain_svd, ytrain)\n",
    "\n",
    "    # predict\n",
    "    ypred2 = model2.predict(xval_svd)\n",
    "\n",
    "    # validate\n",
    "    df_eval2 = pd.DataFrame()\n",
    "    df_eval2['Env'] = xval_svd.index.get_level_values(0)\n",
    "    df_eval2['ytrue'] = list(yval)\n",
    "    df_eval2['ypred'] = ypred2\n",
    "    rmse_per_group2 = df_eval2.groupby('Env').apply(lambda x: mean_squared_error(x['ytrue'], x['ypred'], squared=False))\n",
    "    # print(rmse_per_group2)\n",
    "\n",
    "    rmse2 = sum(rmse_per_group2) / len(rmse_per_group2)\n",
    "    return rmse2\n",
    "\n",
    "\n",
    "study = optuna.create_study(direction='minimize', sampler=optuna.samplers.TPESampler(seed=42))\n",
    "study.optimize(objective, n_trials=200)\n",
    " \n",
    "print('Number of finished trials:', len(study.trials))\n",
    "print('Best trial:', study.best_trial.params)\n",
    "print('Best RMSE:', study.best_value)"
   ]
  },
  {
   "cell_type": "code",
   "execution_count": 25,
   "id": "8fa3a28d",
   "metadata": {},
   "outputs": [],
   "source": [
    "# svd=100\n",
    "# Best RMSE: 2.1668091284496778\n",
    "\n",
    "# svd=300\n",
    "# Best RMSE: 2.18514949390902\n",
    "\n",
    "# svd=500\n",
    "# Best RMSE: 2.17549532600143"
   ]
  },
  {
   "cell_type": "markdown",
   "id": "ef1ad748",
   "metadata": {},
   "source": [
    "### Best model"
   ]
  },
  {
   "cell_type": "code",
   "execution_count": 37,
   "id": "2b9d6d83",
   "metadata": {},
   "outputs": [
    {
     "name": "stdout",
     "output_type": "stream",
     "text": [
      "[LightGBM] [Warning] lambda_l1 is set=0.08312739580440576, reg_alpha=0.0 will be ignored. Current value: lambda_l1=0.08312739580440576\n",
      "[LightGBM] [Warning] bagging_fraction is set=0.6455207579402016, subsample=1.0 will be ignored. Current value: bagging_fraction=0.6455207579402016\n",
      "[LightGBM] [Warning] feature_fraction is set=0.05325213530593432, colsample_bytree=1.0 will be ignored. Current value: feature_fraction=0.05325213530593432\n",
      "[LightGBM] [Warning] lambda_l2 is set=4.813627285969264e-06, reg_lambda=0.0 will be ignored. Current value: lambda_l2=4.813627285969264e-06\n",
      "Env\n",
      "COH1_2021    2.542274\n",
      "DEH1_2021    1.953310\n",
      "GAH1_2021    1.982108\n",
      "GAH2_2021    2.304125\n",
      "GEH1_2021    2.284565\n",
      "IAH1_2021    2.166785\n",
      "IAH2_2021    1.437254\n",
      "IAH3_2021    1.985043\n",
      "IAH4_2021    1.450592\n",
      "ILH1_2021    1.619785\n",
      "INH1_2021    1.695198\n",
      "MIH1_2021    1.346615\n",
      "MNH1_2021    1.426288\n",
      "NCH1_2021    1.528974\n",
      "NEH1_2021    3.060166\n",
      "NEH2_2021    2.211034\n",
      "NEH3_2021    3.158387\n",
      "NYH2_2021    2.646499\n",
      "NYH3_2021    1.840325\n",
      "NYS1_2021    2.242538\n",
      "SCH1_2021    2.421229\n",
      "TXH1_2021    1.641378\n",
      "TXH2_2021    1.690585\n",
      "TXH3_2021    5.064517\n",
      "WIH1_2021    2.393496\n",
      "WIH2_2021    2.748731\n",
      "WIH3_2021    1.896575\n",
      "dtype: float64\n",
      "RMSE: 2.17549532600143\n"
     ]
    }
   ],
   "source": [
    "# %%time\n",
    "\n",
    "best_params = {'feature_fraction': 0.05325213530593432, 'num_leaves': 233, \n",
    "               'bagging_fraction': 0.6455207579402016, 'lambda_l1': 0.08312739580440576, \n",
    "               'lambda_l2': 4.813627285969264e-06, 'n_estimators': 139, 'max_depth': 4}\n",
    "model2 = lgbm.LGBMRegressor(random_state=42, **best_params)\n",
    "model2.fit(xtrain_svd, ytrain)\n",
    "\n",
    "# predict\n",
    "ypred2 = model2.predict(xval_svd)\n",
    "\n",
    "# validate\n",
    "df_eval2 = pd.DataFrame()\n",
    "df_eval2['Env'] = xval_svd.index.get_level_values(0)\n",
    "df_eval2['Hybrid'] = xval_svd.index.get_level_values(1)\n",
    "df_eval2['ytrue'] = list(yval)\n",
    "df_eval2['ypred'] = ypred2\n",
    "rmse_per_group2 = df_eval2.groupby('Env').apply(lambda x: mean_squared_error(x['ytrue'], x['ypred'], squared=False))\n",
    "print(rmse_per_group2)\n",
    "\n",
    "rmse2 = sum(rmse_per_group2) / len(rmse_per_group2)\n",
    "print('RMSE:', rmse2)"
   ]
  },
  {
   "cell_type": "code",
   "execution_count": 38,
   "id": "7857b0b9",
   "metadata": {},
   "outputs": [
    {
     "name": "stdout",
     "output_type": "stream",
     "text": [
      "0.254805985791449\n"
     ]
    },
    {
     "data": {
      "image/png": "[encoded data removed]",
      "text/plain": [
       "<Figure size 432x432 with 1 Axes>"
      ]
     },
     "metadata": {
      "needs_background": "light"
     },
     "output_type": "display_data"
    }
   ],
   "source": [
    "print(r2_score(df_eval2['ytrue'], df_eval2['ypred']))\n",
    "df_eval2.plot.scatter('ytrue', 'ypred', figsize=(6, 6));"
   ]
  },
  {
   "cell_type": "code",
   "execution_count": 39,
   "id": "195b9746",
   "metadata": {},
   "outputs": [],
   "source": [
    "df_eval2.to_csv('../output/oof_kronecker_epi_DD.csv', index=False)"
   ]
  },
  {
   "cell_type": "code",
   "execution_count": 40,
   "id": "fb0cfa01",
   "metadata": {},
   "outputs": [
    {
     "name": "stdout",
     "output_type": "stream",
     "text": [
      "-rw-r--r-- 1 igorf samuelbf 839K Jan 31 19:25 ../output/oof_kronecker_additive.csv\r\n",
      "-rw-r--r-- 1 igorf samuelbf 838K Jan 31 22:25 ../output/oof_kronecker_dominant.csv\r\n",
      "-rw-r--r-- 1 igorf samuelbf 839K Feb  1 15:47 ../output/oof_kronecker_epi_AA.csv\r\n",
      "-rw-r--r-- 1 igorf samuelbf 837K Feb  1 18:17 ../output/oof_kronecker_epi_DD.csv\r\n"
     ]
    }
   ],
   "source": [
    "!ls -lh ../output/oof_kronecker*"
   ]
  },
  {
   "cell_type": "code",
   "execution_count": null,
   "id": "c6aa1814",
   "metadata": {},
   "outputs": [],
   "source": []
  }
 ],
 "metadata": {
  "kernelspec": {
   "display_name": "Python 3 (ipykernel)",
   "language": "python",
   "name": "python3"
  },
  "language_info": {
   "codemirror_mode": {
    "name": "ipython",
    "version": 3
   },
   "file_extension": ".py",
   "mimetype": "text/x-python",
   "name": "python",
   "nbconvert_exporter": "python",
   "pygments_lexer": "ipython3",
   "version": "3.9.6"
  }
 },
 "nbformat": 4,
 "nbformat_minor": 5
}
