{
 "cells": [
  {
   "cell_type": "code",
   "execution_count": 7,
   "id": "babc01c7",
   "metadata": {},
   "outputs": [],
   "source": [
    "# !pip3 install pyarrow\n",
    "# !pip3 install lightgbm\n",
    "# !pip3 install optuna"
   ]
  },
  {
   "cell_type": "code",
   "execution_count": 8,
   "id": "ce58b9cd",
   "metadata": {},
   "outputs": [],
   "source": [
    "import pandas as pd\n",
    "import lightgbm as lgbm\n",
    "from sklearn.metrics import mean_squared_error, r2_score\n",
    "from IPython.display import display"
   ]
  },
  {
   "cell_type": "code",
   "execution_count": 9,
   "id": "023f0bf0",
   "metadata": {},
   "outputs": [],
   "source": [
    "def preprocess(df, year):\n",
    "    df[['Env', 'Hybrid']] = df['id'].str.split(':', expand=True)\n",
    "    df['Env'] += \"_\" + str(year)\n",
    "    df = df.drop('id', axis=1).set_index(['Env', 'Hybrid'])\n",
    "    return df"
   ]
  },
  {
   "cell_type": "code",
   "execution_count": 10,
   "id": "52786c92",
   "metadata": {},
   "outputs": [
    {
     "name": "stdout",
     "output_type": "stream",
     "text": [
      "CPU times: user 14min 37s, sys: 2min 56s, total: 17min 33s\n",
      "Wall time: 17min 46s\n"
     ]
    }
   ],
   "source": [
    "%%time\n",
    "\n",
    "ytrain = pd.read_csv('../output/ytrain.csv').set_index(['Env', 'Hybrid'])\n",
    "xtrain = pd.read_parquet('../output/kronecker_dominant_train.parquet')\n",
    "xtrain = preprocess(xtrain, year=2020)\n",
    "xtrain = xtrain.merge(ytrain, on=['Env', 'Hybrid'], how='inner')\n",
    "ytrain = xtrain['Yield_Mg_ha']\n",
    "del xtrain['Yield_Mg_ha']\n",
    "\n",
    "yval = pd.read_csv('../output/yval.csv').set_index(['Env', 'Hybrid'])\n",
    "xval = pd.read_parquet('../output/kronecker_dominant_val.parquet')\n",
    "xval = preprocess(xval, year=2021)\n",
    "xval = xval.merge(yval, on=['Env', 'Hybrid'], how='inner')\n",
    "yval = xval['Yield_Mg_ha']\n",
    "del xval['Yield_Mg_ha']"
   ]
  },
  {
   "cell_type": "code",
   "execution_count": 11,
   "id": "0e9ee4a6",
   "metadata": {},
   "outputs": [
    {
     "data": {
      "text/html": [
       "<div>\n",
       "<style scoped>\n",
       "    .dataframe tbody tr th:only-of-type {\n",
       "        vertical-align: middle;\n",
       "    }\n",
       "\n",
       "    .dataframe tbody tr th {\n",
       "        vertical-align: top;\n",
       "    }\n",
       "\n",
       "    .dataframe thead th {\n",
       "        text-align: right;\n",
       "    }\n",
       "</style>\n",
       "<table border=\"1\" class=\"dataframe\">\n",
       "  <thead>\n",
       "    <tr style=\"text-align: right;\">\n",
       "      <th></th>\n",
       "      <th></th>\n",
       "      <th>weather_station_lat.2369.DK3IIH6</th>\n",
       "      <th>weather_station_lat.2369.PHN82</th>\n",
       "      <th>weather_station_lat.2369.PHZ51</th>\n",
       "      <th>weather_station_lat.2FACC.DK3IIH6</th>\n",
       "      <th>weather_station_lat.4N506.DK3IIH6</th>\n",
       "      <th>weather_station_lat.6F629.DK3IIH6</th>\n",
       "      <th>weather_station_lat.740.PB80</th>\n",
       "      <th>weather_station_lat.740.PHB47</th>\n",
       "      <th>weather_station_lat.A632.DK3IIH6</th>\n",
       "      <th>weather_station_lat.A634.DK3IIH6</th>\n",
       "      <th>...</th>\n",
       "      <th>T2M_min_fall_X_weather_station_lat.Z036E0057.PHZ51</th>\n",
       "      <th>T2M_min_fall_X_weather_station_lat.Z037E0012.DK3IIH6</th>\n",
       "      <th>T2M_min_fall_X_weather_station_lat.Z037E0012.LH162</th>\n",
       "      <th>T2M_min_fall_X_weather_station_lat.Z037E0012.PHZ51</th>\n",
       "      <th>T2M_min_fall_X_weather_station_lat.Z037E0054.DK3IIH6</th>\n",
       "      <th>T2M_min_fall_X_weather_station_lat.Z037E0054.LH162</th>\n",
       "      <th>T2M_min_fall_X_weather_station_lat.Z037E0054.PHZ51</th>\n",
       "      <th>T2M_min_fall_X_weather_station_lat.Z038E0057.DK3IIH6</th>\n",
       "      <th>T2M_min_fall_X_weather_station_lat.Z038E0057.LH162</th>\n",
       "      <th>T2M_min_fall_X_weather_station_lat.Z038E0057.PHZ51</th>\n",
       "    </tr>\n",
       "    <tr>\n",
       "      <th>Env</th>\n",
       "      <th>Hybrid</th>\n",
       "      <th></th>\n",
       "      <th></th>\n",
       "      <th></th>\n",
       "      <th></th>\n",
       "      <th></th>\n",
       "      <th></th>\n",
       "      <th></th>\n",
       "      <th></th>\n",
       "      <th></th>\n",
       "      <th></th>\n",
       "      <th></th>\n",
       "      <th></th>\n",
       "      <th></th>\n",
       "      <th></th>\n",
       "      <th></th>\n",
       "      <th></th>\n",
       "      <th></th>\n",
       "      <th></th>\n",
       "      <th></th>\n",
       "      <th></th>\n",
       "      <th></th>\n",
       "    </tr>\n",
       "  </thead>\n",
       "  <tbody>\n",
       "    <tr>\n",
       "      <th rowspan=\"5\" valign=\"top\">DEH1_2020</th>\n",
       "      <th>B14A/H95</th>\n",
       "      <td>0.050461</td>\n",
       "      <td>0.240077</td>\n",
       "      <td>0.683655</td>\n",
       "      <td>-0.304615</td>\n",
       "      <td>0.318632</td>\n",
       "      <td>0.231370</td>\n",
       "      <td>0.473424</td>\n",
       "      <td>0.652561</td>\n",
       "      <td>0.211636</td>\n",
       "      <td>0.287932</td>\n",
       "      <td>...</td>\n",
       "      <td>1.488716</td>\n",
       "      <td>0.526632</td>\n",
       "      <td>0.880102</td>\n",
       "      <td>1.522930</td>\n",
       "      <td>0.373743</td>\n",
       "      <td>0.967915</td>\n",
       "      <td>1.553412</td>\n",
       "      <td>0.542461</td>\n",
       "      <td>0.794211</td>\n",
       "      <td>1.611044</td>\n",
       "    </tr>\n",
       "    <tr>\n",
       "      <th>B14A/MO17</th>\n",
       "      <td>0.856094</td>\n",
       "      <td>1.025778</td>\n",
       "      <td>2.073281</td>\n",
       "      <td>0.266906</td>\n",
       "      <td>0.742284</td>\n",
       "      <td>0.711922</td>\n",
       "      <td>5.819913</td>\n",
       "      <td>0.538152</td>\n",
       "      <td>0.563445</td>\n",
       "      <td>0.261765</td>\n",
       "      <td>...</td>\n",
       "      <td>4.044155</td>\n",
       "      <td>2.637588</td>\n",
       "      <td>6.613186</td>\n",
       "      <td>4.672510</td>\n",
       "      <td>2.458307</td>\n",
       "      <td>6.746452</td>\n",
       "      <td>4.823553</td>\n",
       "      <td>2.659119</td>\n",
       "      <td>6.704502</td>\n",
       "      <td>5.057743</td>\n",
       "    </tr>\n",
       "    <tr>\n",
       "      <th>B14A/OH43</th>\n",
       "      <td>0.515439</td>\n",
       "      <td>0.322950</td>\n",
       "      <td>0.686083</td>\n",
       "      <td>-0.018462</td>\n",
       "      <td>0.700655</td>\n",
       "      <td>0.193997</td>\n",
       "      <td>0.266058</td>\n",
       "      <td>0.732254</td>\n",
       "      <td>0.501486</td>\n",
       "      <td>0.400918</td>\n",
       "      <td>...</td>\n",
       "      <td>1.361388</td>\n",
       "      <td>1.614015</td>\n",
       "      <td>0.759273</td>\n",
       "      <td>1.704638</td>\n",
       "      <td>1.270173</td>\n",
       "      <td>0.843446</td>\n",
       "      <td>1.450544</td>\n",
       "      <td>1.528672</td>\n",
       "      <td>0.834266</td>\n",
       "      <td>1.521836</td>\n",
       "    </tr>\n",
       "    <tr>\n",
       "      <th>B37/H95</th>\n",
       "      <td>1.201727</td>\n",
       "      <td>1.452248</td>\n",
       "      <td>1.189368</td>\n",
       "      <td>-0.409855</td>\n",
       "      <td>0.725291</td>\n",
       "      <td>0.976407</td>\n",
       "      <td>1.075551</td>\n",
       "      <td>1.248858</td>\n",
       "      <td>0.611020</td>\n",
       "      <td>0.389774</td>\n",
       "      <td>...</td>\n",
       "      <td>2.920787</td>\n",
       "      <td>2.535311</td>\n",
       "      <td>1.924284</td>\n",
       "      <td>2.970325</td>\n",
       "      <td>2.582796</td>\n",
       "      <td>1.897212</td>\n",
       "      <td>2.735490</td>\n",
       "      <td>2.509590</td>\n",
       "      <td>1.770789</td>\n",
       "      <td>3.180931</td>\n",
       "    </tr>\n",
       "    <tr>\n",
       "      <th>B37/MO17</th>\n",
       "      <td>1.593357</td>\n",
       "      <td>1.397237</td>\n",
       "      <td>1.575667</td>\n",
       "      <td>-0.861833</td>\n",
       "      <td>1.329050</td>\n",
       "      <td>1.116586</td>\n",
       "      <td>-0.947302</td>\n",
       "      <td>18.889190</td>\n",
       "      <td>1.031959</td>\n",
       "      <td>0.798871</td>\n",
       "      <td>...</td>\n",
       "      <td>4.149745</td>\n",
       "      <td>4.483801</td>\n",
       "      <td>0.377189</td>\n",
       "      <td>4.597854</td>\n",
       "      <td>4.356337</td>\n",
       "      <td>0.025746</td>\n",
       "      <td>4.419602</td>\n",
       "      <td>4.691271</td>\n",
       "      <td>0.148939</td>\n",
       "      <td>4.379058</td>\n",
       "    </tr>\n",
       "    <tr>\n",
       "      <th>...</th>\n",
       "      <th>...</th>\n",
       "      <td>...</td>\n",
       "      <td>...</td>\n",
       "      <td>...</td>\n",
       "      <td>...</td>\n",
       "      <td>...</td>\n",
       "      <td>...</td>\n",
       "      <td>...</td>\n",
       "      <td>...</td>\n",
       "      <td>...</td>\n",
       "      <td>...</td>\n",
       "      <td>...</td>\n",
       "      <td>...</td>\n",
       "      <td>...</td>\n",
       "      <td>...</td>\n",
       "      <td>...</td>\n",
       "      <td>...</td>\n",
       "      <td>...</td>\n",
       "      <td>...</td>\n",
       "      <td>...</td>\n",
       "      <td>...</td>\n",
       "      <td>...</td>\n",
       "    </tr>\n",
       "    <tr>\n",
       "      <th rowspan=\"5\" valign=\"top\">WIH3_2020</th>\n",
       "      <th>W10004_1123/PHP02</th>\n",
       "      <td>2.104509</td>\n",
       "      <td>2.873542</td>\n",
       "      <td>1.010831</td>\n",
       "      <td>-0.051301</td>\n",
       "      <td>1.494538</td>\n",
       "      <td>1.152506</td>\n",
       "      <td>0.546123</td>\n",
       "      <td>0.095585</td>\n",
       "      <td>3.963221</td>\n",
       "      <td>3.140563</td>\n",
       "      <td>...</td>\n",
       "      <td>-2.381095</td>\n",
       "      <td>-6.712932</td>\n",
       "      <td>-0.665901</td>\n",
       "      <td>-1.475274</td>\n",
       "      <td>-5.862324</td>\n",
       "      <td>-0.420934</td>\n",
       "      <td>-1.720539</td>\n",
       "      <td>-7.011066</td>\n",
       "      <td>-0.314295</td>\n",
       "      <td>-1.336696</td>\n",
       "    </tr>\n",
       "    <tr>\n",
       "      <th>W10004_1140/PHP02</th>\n",
       "      <td>2.568844</td>\n",
       "      <td>4.076132</td>\n",
       "      <td>1.917314</td>\n",
       "      <td>-0.419973</td>\n",
       "      <td>2.347449</td>\n",
       "      <td>2.710330</td>\n",
       "      <td>1.224758</td>\n",
       "      <td>1.108421</td>\n",
       "      <td>2.381055</td>\n",
       "      <td>1.734169</td>\n",
       "      <td>...</td>\n",
       "      <td>-8.363007</td>\n",
       "      <td>-10.188518</td>\n",
       "      <td>-3.226832</td>\n",
       "      <td>-8.302274</td>\n",
       "      <td>-10.279466</td>\n",
       "      <td>-2.810253</td>\n",
       "      <td>-8.167302</td>\n",
       "      <td>-10.676111</td>\n",
       "      <td>-3.200531</td>\n",
       "      <td>-8.105218</td>\n",
       "    </tr>\n",
       "    <tr>\n",
       "      <th>W10004_1143/PHP02</th>\n",
       "      <td>1.460210</td>\n",
       "      <td>1.249307</td>\n",
       "      <td>1.752785</td>\n",
       "      <td>-2.084166</td>\n",
       "      <td>1.627035</td>\n",
       "      <td>3.776359</td>\n",
       "      <td>0.708527</td>\n",
       "      <td>-0.011345</td>\n",
       "      <td>2.184525</td>\n",
       "      <td>1.681784</td>\n",
       "      <td>...</td>\n",
       "      <td>-7.697293</td>\n",
       "      <td>-7.344992</td>\n",
       "      <td>-2.307536</td>\n",
       "      <td>-7.969246</td>\n",
       "      <td>-7.722295</td>\n",
       "      <td>-2.604028</td>\n",
       "      <td>-7.917940</td>\n",
       "      <td>-7.847970</td>\n",
       "      <td>-2.198743</td>\n",
       "      <td>-7.766414</td>\n",
       "    </tr>\n",
       "    <tr>\n",
       "      <th>W10004_1146/PHP02</th>\n",
       "      <td>3.717973</td>\n",
       "      <td>5.836321</td>\n",
       "      <td>1.702453</td>\n",
       "      <td>-0.784281</td>\n",
       "      <td>3.808490</td>\n",
       "      <td>2.375954</td>\n",
       "      <td>1.235538</td>\n",
       "      <td>0.787542</td>\n",
       "      <td>4.243228</td>\n",
       "      <td>3.510172</td>\n",
       "      <td>...</td>\n",
       "      <td>-5.801481</td>\n",
       "      <td>-14.140392</td>\n",
       "      <td>-0.482522</td>\n",
       "      <td>-6.335132</td>\n",
       "      <td>-13.383942</td>\n",
       "      <td>-0.483362</td>\n",
       "      <td>-6.292935</td>\n",
       "      <td>-14.265626</td>\n",
       "      <td>-0.340306</td>\n",
       "      <td>-6.258667</td>\n",
       "    </tr>\n",
       "    <tr>\n",
       "      <th>W10004_1156/PHP02</th>\n",
       "      <td>3.647389</td>\n",
       "      <td>4.977663</td>\n",
       "      <td>2.142653</td>\n",
       "      <td>-1.027999</td>\n",
       "      <td>2.023884</td>\n",
       "      <td>2.077142</td>\n",
       "      <td>1.153447</td>\n",
       "      <td>0.754130</td>\n",
       "      <td>2.698734</td>\n",
       "      <td>2.656000</td>\n",
       "      <td>...</td>\n",
       "      <td>-7.385214</td>\n",
       "      <td>-10.658657</td>\n",
       "      <td>-3.180467</td>\n",
       "      <td>-7.549618</td>\n",
       "      <td>-10.336372</td>\n",
       "      <td>-2.901463</td>\n",
       "      <td>-7.617832</td>\n",
       "      <td>-10.486879</td>\n",
       "      <td>-2.811098</td>\n",
       "      <td>-7.857477</td>\n",
       "    </tr>\n",
       "  </tbody>\n",
       "</table>\n",
       "<p>11277 rows × 413952 columns</p>\n",
       "</div>"
      ],
      "text/plain": [
       "                             weather_station_lat.2369.DK3IIH6  \\\n",
       "Env       Hybrid                                                \n",
       "DEH1_2020 B14A/H95                                   0.050461   \n",
       "          B14A/MO17                                  0.856094   \n",
       "          B14A/OH43                                  0.515439   \n",
       "          B37/H95                                    1.201727   \n",
       "          B37/MO17                                   1.593357   \n",
       "...                                                       ...   \n",
       "WIH3_2020 W10004_1123/PHP02                          2.104509   \n",
       "          W10004_1140/PHP02                          2.568844   \n",
       "          W10004_1143/PHP02                          1.460210   \n",
       "          W10004_1146/PHP02                          3.717973   \n",
       "          W10004_1156/PHP02                          3.647389   \n",
       "\n",
       "                             weather_station_lat.2369.PHN82  \\\n",
       "Env       Hybrid                                              \n",
       "DEH1_2020 B14A/H95                                 0.240077   \n",
       "          B14A/MO17                                1.025778   \n",
       "          B14A/OH43                                0.322950   \n",
       "          B37/H95                                  1.452248   \n",
       "          B37/MO17                                 1.397237   \n",
       "...                                                     ...   \n",
       "WIH3_2020 W10004_1123/PHP02                        2.873542   \n",
       "          W10004_1140/PHP02                        4.076132   \n",
       "          W10004_1143/PHP02                        1.249307   \n",
       "          W10004_1146/PHP02                        5.836321   \n",
       "          W10004_1156/PHP02                        4.977663   \n",
       "\n",
       "                             weather_station_lat.2369.PHZ51  \\\n",
       "Env       Hybrid                                              \n",
       "DEH1_2020 B14A/H95                                 0.683655   \n",
       "          B14A/MO17                                2.073281   \n",
       "          B14A/OH43                                0.686083   \n",
       "          B37/H95                                  1.189368   \n",
       "          B37/MO17                                 1.575667   \n",
       "...                                                     ...   \n",
       "WIH3_2020 W10004_1123/PHP02                        1.010831   \n",
       "          W10004_1140/PHP02                        1.917314   \n",
       "          W10004_1143/PHP02                        1.752785   \n",
       "          W10004_1146/PHP02                        1.702453   \n",
       "          W10004_1156/PHP02                        2.142653   \n",
       "\n",
       "                             weather_station_lat.2FACC.DK3IIH6  \\\n",
       "Env       Hybrid                                                 \n",
       "DEH1_2020 B14A/H95                                   -0.304615   \n",
       "          B14A/MO17                                   0.266906   \n",
       "          B14A/OH43                                  -0.018462   \n",
       "          B37/H95                                    -0.409855   \n",
       "          B37/MO17                                   -0.861833   \n",
       "...                                                        ...   \n",
       "WIH3_2020 W10004_1123/PHP02                          -0.051301   \n",
       "          W10004_1140/PHP02                          -0.419973   \n",
       "          W10004_1143/PHP02                          -2.084166   \n",
       "          W10004_1146/PHP02                          -0.784281   \n",
       "          W10004_1156/PHP02                          -1.027999   \n",
       "\n",
       "                             weather_station_lat.4N506.DK3IIH6  \\\n",
       "Env       Hybrid                                                 \n",
       "DEH1_2020 B14A/H95                                    0.318632   \n",
       "          B14A/MO17                                   0.742284   \n",
       "          B14A/OH43                                   0.700655   \n",
       "          B37/H95                                     0.725291   \n",
       "          B37/MO17                                    1.329050   \n",
       "...                                                        ...   \n",
       "WIH3_2020 W10004_1123/PHP02                           1.494538   \n",
       "          W10004_1140/PHP02                           2.347449   \n",
       "          W10004_1143/PHP02                           1.627035   \n",
       "          W10004_1146/PHP02                           3.808490   \n",
       "          W10004_1156/PHP02                           2.023884   \n",
       "\n",
       "                             weather_station_lat.6F629.DK3IIH6  \\\n",
       "Env       Hybrid                                                 \n",
       "DEH1_2020 B14A/H95                                    0.231370   \n",
       "          B14A/MO17                                   0.711922   \n",
       "          B14A/OH43                                   0.193997   \n",
       "          B37/H95                                     0.976407   \n",
       "          B37/MO17                                    1.116586   \n",
       "...                                                        ...   \n",
       "WIH3_2020 W10004_1123/PHP02                           1.152506   \n",
       "          W10004_1140/PHP02                           2.710330   \n",
       "          W10004_1143/PHP02                           3.776359   \n",
       "          W10004_1146/PHP02                           2.375954   \n",
       "          W10004_1156/PHP02                           2.077142   \n",
       "\n",
       "                             weather_station_lat.740.PB80  \\\n",
       "Env       Hybrid                                            \n",
       "DEH1_2020 B14A/H95                               0.473424   \n",
       "          B14A/MO17                              5.819913   \n",
       "          B14A/OH43                              0.266058   \n",
       "          B37/H95                                1.075551   \n",
       "          B37/MO17                              -0.947302   \n",
       "...                                                   ...   \n",
       "WIH3_2020 W10004_1123/PHP02                      0.546123   \n",
       "          W10004_1140/PHP02                      1.224758   \n",
       "          W10004_1143/PHP02                      0.708527   \n",
       "          W10004_1146/PHP02                      1.235538   \n",
       "          W10004_1156/PHP02                      1.153447   \n",
       "\n",
       "                             weather_station_lat.740.PHB47  \\\n",
       "Env       Hybrid                                             \n",
       "DEH1_2020 B14A/H95                                0.652561   \n",
       "          B14A/MO17                               0.538152   \n",
       "          B14A/OH43                               0.732254   \n",
       "          B37/H95                                 1.248858   \n",
       "          B37/MO17                               18.889190   \n",
       "...                                                    ...   \n",
       "WIH3_2020 W10004_1123/PHP02                       0.095585   \n",
       "          W10004_1140/PHP02                       1.108421   \n",
       "          W10004_1143/PHP02                      -0.011345   \n",
       "          W10004_1146/PHP02                       0.787542   \n",
       "          W10004_1156/PHP02                       0.754130   \n",
       "\n",
       "                             weather_station_lat.A632.DK3IIH6  \\\n",
       "Env       Hybrid                                                \n",
       "DEH1_2020 B14A/H95                                   0.211636   \n",
       "          B14A/MO17                                  0.563445   \n",
       "          B14A/OH43                                  0.501486   \n",
       "          B37/H95                                    0.611020   \n",
       "          B37/MO17                                   1.031959   \n",
       "...                                                       ...   \n",
       "WIH3_2020 W10004_1123/PHP02                          3.963221   \n",
       "          W10004_1140/PHP02                          2.381055   \n",
       "          W10004_1143/PHP02                          2.184525   \n",
       "          W10004_1146/PHP02                          4.243228   \n",
       "          W10004_1156/PHP02                          2.698734   \n",
       "\n",
       "                             weather_station_lat.A634.DK3IIH6  ...  \\\n",
       "Env       Hybrid                                               ...   \n",
       "DEH1_2020 B14A/H95                                   0.287932  ...   \n",
       "          B14A/MO17                                  0.261765  ...   \n",
       "          B14A/OH43                                  0.400918  ...   \n",
       "          B37/H95                                    0.389774  ...   \n",
       "          B37/MO17                                   0.798871  ...   \n",
       "...                                                       ...  ...   \n",
       "WIH3_2020 W10004_1123/PHP02                          3.140563  ...   \n",
       "          W10004_1140/PHP02                          1.734169  ...   \n",
       "          W10004_1143/PHP02                          1.681784  ...   \n",
       "          W10004_1146/PHP02                          3.510172  ...   \n",
       "          W10004_1156/PHP02                          2.656000  ...   \n",
       "\n",
       "                             T2M_min_fall_X_weather_station_lat.Z036E0057.PHZ51  \\\n",
       "Env       Hybrid                                                                  \n",
       "DEH1_2020 B14A/H95                                                    1.488716    \n",
       "          B14A/MO17                                                   4.044155    \n",
       "          B14A/OH43                                                   1.361388    \n",
       "          B37/H95                                                     2.920787    \n",
       "          B37/MO17                                                    4.149745    \n",
       "...                                                                        ...    \n",
       "WIH3_2020 W10004_1123/PHP02                                          -2.381095    \n",
       "          W10004_1140/PHP02                                          -8.363007    \n",
       "          W10004_1143/PHP02                                          -7.697293    \n",
       "          W10004_1146/PHP02                                          -5.801481    \n",
       "          W10004_1156/PHP02                                          -7.385214    \n",
       "\n",
       "                             T2M_min_fall_X_weather_station_lat.Z037E0012.DK3IIH6  \\\n",
       "Env       Hybrid                                                                    \n",
       "DEH1_2020 B14A/H95                                                    0.526632      \n",
       "          B14A/MO17                                                   2.637588      \n",
       "          B14A/OH43                                                   1.614015      \n",
       "          B37/H95                                                     2.535311      \n",
       "          B37/MO17                                                    4.483801      \n",
       "...                                                                        ...      \n",
       "WIH3_2020 W10004_1123/PHP02                                          -6.712932      \n",
       "          W10004_1140/PHP02                                         -10.188518      \n",
       "          W10004_1143/PHP02                                          -7.344992      \n",
       "          W10004_1146/PHP02                                         -14.140392      \n",
       "          W10004_1156/PHP02                                         -10.658657      \n",
       "\n",
       "                             T2M_min_fall_X_weather_station_lat.Z037E0012.LH162  \\\n",
       "Env       Hybrid                                                                  \n",
       "DEH1_2020 B14A/H95                                                    0.880102    \n",
       "          B14A/MO17                                                   6.613186    \n",
       "          B14A/OH43                                                   0.759273    \n",
       "          B37/H95                                                     1.924284    \n",
       "          B37/MO17                                                    0.377189    \n",
       "...                                                                        ...    \n",
       "WIH3_2020 W10004_1123/PHP02                                          -0.665901    \n",
       "          W10004_1140/PHP02                                          -3.226832    \n",
       "          W10004_1143/PHP02                                          -2.307536    \n",
       "          W10004_1146/PHP02                                          -0.482522    \n",
       "          W10004_1156/PHP02                                          -3.180467    \n",
       "\n",
       "                             T2M_min_fall_X_weather_station_lat.Z037E0012.PHZ51  \\\n",
       "Env       Hybrid                                                                  \n",
       "DEH1_2020 B14A/H95                                                    1.522930    \n",
       "          B14A/MO17                                                   4.672510    \n",
       "          B14A/OH43                                                   1.704638    \n",
       "          B37/H95                                                     2.970325    \n",
       "          B37/MO17                                                    4.597854    \n",
       "...                                                                        ...    \n",
       "WIH3_2020 W10004_1123/PHP02                                          -1.475274    \n",
       "          W10004_1140/PHP02                                          -8.302274    \n",
       "          W10004_1143/PHP02                                          -7.969246    \n",
       "          W10004_1146/PHP02                                          -6.335132    \n",
       "          W10004_1156/PHP02                                          -7.549618    \n",
       "\n",
       "                             T2M_min_fall_X_weather_station_lat.Z037E0054.DK3IIH6  \\\n",
       "Env       Hybrid                                                                    \n",
       "DEH1_2020 B14A/H95                                                    0.373743      \n",
       "          B14A/MO17                                                   2.458307      \n",
       "          B14A/OH43                                                   1.270173      \n",
       "          B37/H95                                                     2.582796      \n",
       "          B37/MO17                                                    4.356337      \n",
       "...                                                                        ...      \n",
       "WIH3_2020 W10004_1123/PHP02                                          -5.862324      \n",
       "          W10004_1140/PHP02                                         -10.279466      \n",
       "          W10004_1143/PHP02                                          -7.722295      \n",
       "          W10004_1146/PHP02                                         -13.383942      \n",
       "          W10004_1156/PHP02                                         -10.336372      \n",
       "\n",
       "                             T2M_min_fall_X_weather_station_lat.Z037E0054.LH162  \\\n",
       "Env       Hybrid                                                                  \n",
       "DEH1_2020 B14A/H95                                                    0.967915    \n",
       "          B14A/MO17                                                   6.746452    \n",
       "          B14A/OH43                                                   0.843446    \n",
       "          B37/H95                                                     1.897212    \n",
       "          B37/MO17                                                    0.025746    \n",
       "...                                                                        ...    \n",
       "WIH3_2020 W10004_1123/PHP02                                          -0.420934    \n",
       "          W10004_1140/PHP02                                          -2.810253    \n",
       "          W10004_1143/PHP02                                          -2.604028    \n",
       "          W10004_1146/PHP02                                          -0.483362    \n",
       "          W10004_1156/PHP02                                          -2.901463    \n",
       "\n",
       "                             T2M_min_fall_X_weather_station_lat.Z037E0054.PHZ51  \\\n",
       "Env       Hybrid                                                                  \n",
       "DEH1_2020 B14A/H95                                                    1.553412    \n",
       "          B14A/MO17                                                   4.823553    \n",
       "          B14A/OH43                                                   1.450544    \n",
       "          B37/H95                                                     2.735490    \n",
       "          B37/MO17                                                    4.419602    \n",
       "...                                                                        ...    \n",
       "WIH3_2020 W10004_1123/PHP02                                          -1.720539    \n",
       "          W10004_1140/PHP02                                          -8.167302    \n",
       "          W10004_1143/PHP02                                          -7.917940    \n",
       "          W10004_1146/PHP02                                          -6.292935    \n",
       "          W10004_1156/PHP02                                          -7.617832    \n",
       "\n",
       "                             T2M_min_fall_X_weather_station_lat.Z038E0057.DK3IIH6  \\\n",
       "Env       Hybrid                                                                    \n",
       "DEH1_2020 B14A/H95                                                    0.542461      \n",
       "          B14A/MO17                                                   2.659119      \n",
       "          B14A/OH43                                                   1.528672      \n",
       "          B37/H95                                                     2.509590      \n",
       "          B37/MO17                                                    4.691271      \n",
       "...                                                                        ...      \n",
       "WIH3_2020 W10004_1123/PHP02                                          -7.011066      \n",
       "          W10004_1140/PHP02                                         -10.676111      \n",
       "          W10004_1143/PHP02                                          -7.847970      \n",
       "          W10004_1146/PHP02                                         -14.265626      \n",
       "          W10004_1156/PHP02                                         -10.486879      \n",
       "\n",
       "                             T2M_min_fall_X_weather_station_lat.Z038E0057.LH162  \\\n",
       "Env       Hybrid                                                                  \n",
       "DEH1_2020 B14A/H95                                                    0.794211    \n",
       "          B14A/MO17                                                   6.704502    \n",
       "          B14A/OH43                                                   0.834266    \n",
       "          B37/H95                                                     1.770789    \n",
       "          B37/MO17                                                    0.148939    \n",
       "...                                                                        ...    \n",
       "WIH3_2020 W10004_1123/PHP02                                          -0.314295    \n",
       "          W10004_1140/PHP02                                          -3.200531    \n",
       "          W10004_1143/PHP02                                          -2.198743    \n",
       "          W10004_1146/PHP02                                          -0.340306    \n",
       "          W10004_1156/PHP02                                          -2.811098    \n",
       "\n",
       "                             T2M_min_fall_X_weather_station_lat.Z038E0057.PHZ51  \n",
       "Env       Hybrid                                                                 \n",
       "DEH1_2020 B14A/H95                                                    1.611044   \n",
       "          B14A/MO17                                                   5.057743   \n",
       "          B14A/OH43                                                   1.521836   \n",
       "          B37/H95                                                     3.180931   \n",
       "          B37/MO17                                                    4.379058   \n",
       "...                                                                        ...   \n",
       "WIH3_2020 W10004_1123/PHP02                                          -1.336696   \n",
       "          W10004_1140/PHP02                                          -8.105218   \n",
       "          W10004_1143/PHP02                                          -7.766414   \n",
       "          W10004_1146/PHP02                                          -6.258667   \n",
       "          W10004_1156/PHP02                                          -7.857477   \n",
       "\n",
       "[11277 rows x 413952 columns]"
      ]
     },
     "execution_count": 11,
     "metadata": {},
     "output_type": "execute_result"
    }
   ],
   "source": [
    "xtrain"
   ]
  },
  {
   "cell_type": "markdown",
   "id": "e674f3cb",
   "metadata": {},
   "source": [
    "### Training"
   ]
  },
  {
   "cell_type": "code",
   "execution_count": 12,
   "id": "87ce3bbc",
   "metadata": {},
   "outputs": [],
   "source": [
    "# %%time\n",
    "\n",
    "# NCOLS = xtrain.shape[1]\n",
    "# print('features:', NCOLS)\n",
    "\n",
    "# best_params = {'feature_fraction': 0.4953070809776986, 'num_leaves': 247, \n",
    "#                'bagging_fraction': 0.9866458243098336, 'lambda_l1': 3.680660098838679, \n",
    "#                'lambda_l2': 1.1632141265265e-06, 'n_estimators': 232, 'max_depth': 3}\n",
    "# model = lgbm.LGBMRegressor(random_state=42, **best_params)\n",
    "# model.fit(xtrain.iloc[:, :NCOLS], ytrain)\n",
    "\n",
    "# # predict\n",
    "# ypred = model.predict(xval.iloc[:, :NCOLS])\n",
    "\n",
    "# # validate\n",
    "# df_eval = pd.DataFrame()\n",
    "# df_eval['Env'] = xval.index.get_level_values(0)\n",
    "# df_eval['ytrue'] = list(yval)\n",
    "# df_eval['ypred'] = ypred\n",
    "# rmse_per_group = df_eval.groupby('Env').apply(lambda x: mean_squared_error(x['ytrue'], x['ypred'], squared=False))\n",
    "# print(rmse_per_group)\n",
    "\n",
    "# rmse = sum(rmse_per_group) / len(rmse_per_group)\n",
    "# print('RMSE:', rmse)"
   ]
  },
  {
   "cell_type": "code",
   "execution_count": 13,
   "id": "b8f8cde0",
   "metadata": {},
   "outputs": [],
   "source": [
    "# print(r2_score(df_eval['ytrue'], df_eval['ypred']))\n",
    "# df_eval.plot.scatter('ytrue', 'ypred', figsize=(6, 6));"
   ]
  },
  {
   "cell_type": "code",
   "execution_count": 14,
   "id": "722fc063",
   "metadata": {},
   "outputs": [],
   "source": [
    "from sklearn.decomposition import TruncatedSVD"
   ]
  },
  {
   "cell_type": "code",
   "execution_count": 32,
   "id": "bec224ef",
   "metadata": {},
   "outputs": [
    {
     "name": "stdout",
     "output_type": "stream",
     "text": [
      "0.9472180372134749\n",
      "CPU times: user 6min 44s, sys: 9.57 s, total: 6min 54s\n",
      "Wall time: 7min 12s\n"
     ]
    }
   ],
   "source": [
    "%%time\n",
    "\n",
    "n_components = 150\n",
    "svd = TruncatedSVD(n_components=n_components, random_state=42)\n",
    "svd.fit(xtrain)\n",
    "print(svd.explained_variance_ratio_.sum())"
   ]
  },
  {
   "cell_type": "code",
   "execution_count": 33,
   "id": "59dece5d",
   "metadata": {},
   "outputs": [
    {
     "name": "stdout",
     "output_type": "stream",
     "text": [
      "CPU times: user 1min 12s, sys: 8.97 ms, total: 1min 12s\n",
      "Wall time: 1min 14s\n"
     ]
    }
   ],
   "source": [
    "%%time\n",
    "\n",
    "xtrain_svd = pd.DataFrame(svd.transform(xtrain), index=xtrain.index)\n",
    "xtrain_svd.columns = [f'kron_svd{i}' for i in range(n_components)]\n",
    "\n",
    "xval_svd = pd.DataFrame(svd.transform(xval), index=xval.index)\n",
    "xval_svd.columns = [f'kron_svd{i}' for i in range(n_components)]"
   ]
  },
  {
   "cell_type": "code",
   "execution_count": 34,
   "id": "1940988c",
   "metadata": {},
   "outputs": [],
   "source": [
    "xtrain_lag = pd.read_csv('../output/xtrain.csv', usecols=lambda x: 'yield_lag' in x or x in ['Env', 'Hybrid']).set_index(['Env', 'Hybrid'])\n",
    "xval_lag = pd.read_csv('../output/xval.csv', usecols=lambda x: 'yield_lag' in x or x in ['Env', 'Hybrid']).set_index(['Env', 'Hybrid'])\n",
    "xtrain_svd = xtrain_svd.merge(xtrain_lag, on=['Env', 'Hybrid'], how='inner')\n",
    "xval_svd = xval_svd.merge(xval_lag, on=['Env', 'Hybrid'], how='inner')"
   ]
  },
  {
   "cell_type": "code",
   "execution_count": 35,
   "id": "a67b89c8",
   "metadata": {},
   "outputs": [
    {
     "data": {
      "text/html": [
       "<div>\n",
       "<style scoped>\n",
       "    .dataframe tbody tr th:only-of-type {\n",
       "        vertical-align: middle;\n",
       "    }\n",
       "\n",
       "    .dataframe tbody tr th {\n",
       "        vertical-align: top;\n",
       "    }\n",
       "\n",
       "    .dataframe thead th {\n",
       "        text-align: right;\n",
       "    }\n",
       "</style>\n",
       "<table border=\"1\" class=\"dataframe\">\n",
       "  <thead>\n",
       "    <tr style=\"text-align: right;\">\n",
       "      <th></th>\n",
       "      <th></th>\n",
       "      <th>kron_svd0</th>\n",
       "      <th>kron_svd1</th>\n",
       "      <th>kron_svd2</th>\n",
       "      <th>kron_svd3</th>\n",
       "      <th>kron_svd4</th>\n",
       "      <th>kron_svd5</th>\n",
       "      <th>kron_svd6</th>\n",
       "      <th>kron_svd7</th>\n",
       "      <th>kron_svd8</th>\n",
       "      <th>kron_svd9</th>\n",
       "      <th>...</th>\n",
       "      <th>kron_svd146</th>\n",
       "      <th>kron_svd147</th>\n",
       "      <th>kron_svd148</th>\n",
       "      <th>kron_svd149</th>\n",
       "      <th>mean_yield_lag_2</th>\n",
       "      <th>min_yield_lag_2</th>\n",
       "      <th>p1_yield_lag_2</th>\n",
       "      <th>q1_yield_lag_2</th>\n",
       "      <th>q3_yield_lag_2</th>\n",
       "      <th>p90_yield_lag_2</th>\n",
       "    </tr>\n",
       "    <tr>\n",
       "      <th>Env</th>\n",
       "      <th>Hybrid</th>\n",
       "      <th></th>\n",
       "      <th></th>\n",
       "      <th></th>\n",
       "      <th></th>\n",
       "      <th></th>\n",
       "      <th></th>\n",
       "      <th></th>\n",
       "      <th></th>\n",
       "      <th></th>\n",
       "      <th></th>\n",
       "      <th></th>\n",
       "      <th></th>\n",
       "      <th></th>\n",
       "      <th></th>\n",
       "      <th></th>\n",
       "      <th></th>\n",
       "      <th></th>\n",
       "      <th></th>\n",
       "      <th></th>\n",
       "      <th></th>\n",
       "      <th></th>\n",
       "    </tr>\n",
       "  </thead>\n",
       "  <tbody>\n",
       "    <tr>\n",
       "      <th rowspan=\"5\" valign=\"top\">DEH1_2020</th>\n",
       "      <th>B14A/H95</th>\n",
       "      <td>2648.884922</td>\n",
       "      <td>-3.572925</td>\n",
       "      <td>864.217307</td>\n",
       "      <td>-145.403653</td>\n",
       "      <td>173.159032</td>\n",
       "      <td>629.946149</td>\n",
       "      <td>-130.641121</td>\n",
       "      <td>830.353036</td>\n",
       "      <td>693.053921</td>\n",
       "      <td>-94.500088</td>\n",
       "      <td>...</td>\n",
       "      <td>160.393326</td>\n",
       "      <td>151.036386</td>\n",
       "      <td>-560.795992</td>\n",
       "      <td>-199.541739</td>\n",
       "      <td>10.056423</td>\n",
       "      <td>0.725594</td>\n",
       "      <td>2.516387</td>\n",
       "      <td>8.232294</td>\n",
       "      <td>11.94657</td>\n",
       "      <td>13.500556</td>\n",
       "    </tr>\n",
       "    <tr>\n",
       "      <th>B14A/MO17</th>\n",
       "      <td>5900.635738</td>\n",
       "      <td>77.602703</td>\n",
       "      <td>1466.179076</td>\n",
       "      <td>-490.770171</td>\n",
       "      <td>432.875784</td>\n",
       "      <td>1753.540902</td>\n",
       "      <td>-454.552220</td>\n",
       "      <td>717.045527</td>\n",
       "      <td>1573.931356</td>\n",
       "      <td>-1714.365314</td>\n",
       "      <td>...</td>\n",
       "      <td>45.986576</td>\n",
       "      <td>-663.580688</td>\n",
       "      <td>1134.346365</td>\n",
       "      <td>-267.657624</td>\n",
       "      <td>10.056423</td>\n",
       "      <td>0.725594</td>\n",
       "      <td>2.516387</td>\n",
       "      <td>8.232294</td>\n",
       "      <td>11.94657</td>\n",
       "      <td>13.500556</td>\n",
       "    </tr>\n",
       "    <tr>\n",
       "      <th>B14A/OH43</th>\n",
       "      <td>3900.819493</td>\n",
       "      <td>323.594963</td>\n",
       "      <td>1658.778053</td>\n",
       "      <td>61.519295</td>\n",
       "      <td>209.795346</td>\n",
       "      <td>744.926288</td>\n",
       "      <td>-148.022523</td>\n",
       "      <td>994.161436</td>\n",
       "      <td>1169.960155</td>\n",
       "      <td>-323.167946</td>\n",
       "      <td>...</td>\n",
       "      <td>100.000337</td>\n",
       "      <td>77.548241</td>\n",
       "      <td>-442.290711</td>\n",
       "      <td>-295.560254</td>\n",
       "      <td>10.056423</td>\n",
       "      <td>0.725594</td>\n",
       "      <td>2.516387</td>\n",
       "      <td>8.232294</td>\n",
       "      <td>11.94657</td>\n",
       "      <td>13.500556</td>\n",
       "    </tr>\n",
       "    <tr>\n",
       "      <th>B37/H95</th>\n",
       "      <td>4927.400998</td>\n",
       "      <td>900.147340</td>\n",
       "      <td>1045.849196</td>\n",
       "      <td>-180.890307</td>\n",
       "      <td>293.632264</td>\n",
       "      <td>1139.627749</td>\n",
       "      <td>-265.579695</td>\n",
       "      <td>1296.077496</td>\n",
       "      <td>565.526725</td>\n",
       "      <td>258.616843</td>\n",
       "      <td>...</td>\n",
       "      <td>74.484751</td>\n",
       "      <td>11.602260</td>\n",
       "      <td>68.844362</td>\n",
       "      <td>8.424368</td>\n",
       "      <td>10.056423</td>\n",
       "      <td>0.725594</td>\n",
       "      <td>2.516387</td>\n",
       "      <td>8.232294</td>\n",
       "      <td>11.94657</td>\n",
       "      <td>13.500556</td>\n",
       "    </tr>\n",
       "    <tr>\n",
       "      <th>B37/MO17</th>\n",
       "      <td>8367.472197</td>\n",
       "      <td>615.523370</td>\n",
       "      <td>1548.796716</td>\n",
       "      <td>-710.032727</td>\n",
       "      <td>454.199509</td>\n",
       "      <td>1552.829489</td>\n",
       "      <td>-288.703305</td>\n",
       "      <td>2414.589844</td>\n",
       "      <td>1092.261229</td>\n",
       "      <td>-935.344479</td>\n",
       "      <td>...</td>\n",
       "      <td>-41.004499</td>\n",
       "      <td>124.406941</td>\n",
       "      <td>53.397290</td>\n",
       "      <td>45.822824</td>\n",
       "      <td>10.056423</td>\n",
       "      <td>0.725594</td>\n",
       "      <td>2.516387</td>\n",
       "      <td>8.232294</td>\n",
       "      <td>11.94657</td>\n",
       "      <td>13.500556</td>\n",
       "    </tr>\n",
       "    <tr>\n",
       "      <th>...</th>\n",
       "      <th>...</th>\n",
       "      <td>...</td>\n",
       "      <td>...</td>\n",
       "      <td>...</td>\n",
       "      <td>...</td>\n",
       "      <td>...</td>\n",
       "      <td>...</td>\n",
       "      <td>...</td>\n",
       "      <td>...</td>\n",
       "      <td>...</td>\n",
       "      <td>...</td>\n",
       "      <td>...</td>\n",
       "      <td>...</td>\n",
       "      <td>...</td>\n",
       "      <td>...</td>\n",
       "      <td>...</td>\n",
       "      <td>...</td>\n",
       "      <td>...</td>\n",
       "      <td>...</td>\n",
       "      <td>...</td>\n",
       "      <td>...</td>\n",
       "      <td>...</td>\n",
       "    </tr>\n",
       "    <tr>\n",
       "      <th rowspan=\"5\" valign=\"top\">WIH3_2020</th>\n",
       "      <th>W10004_1123/PHP02</th>\n",
       "      <td>4636.607959</td>\n",
       "      <td>6400.926165</td>\n",
       "      <td>-2781.007201</td>\n",
       "      <td>2416.467572</td>\n",
       "      <td>2023.407812</td>\n",
       "      <td>-689.883067</td>\n",
       "      <td>6231.028724</td>\n",
       "      <td>-2452.580532</td>\n",
       "      <td>-1280.347900</td>\n",
       "      <td>-2116.266921</td>\n",
       "      <td>...</td>\n",
       "      <td>-283.170590</td>\n",
       "      <td>-336.369105</td>\n",
       "      <td>-390.607660</td>\n",
       "      <td>181.724406</td>\n",
       "      <td>9.010208</td>\n",
       "      <td>1.129919</td>\n",
       "      <td>2.885705</td>\n",
       "      <td>7.453720</td>\n",
       "      <td>10.67770</td>\n",
       "      <td>12.001967</td>\n",
       "    </tr>\n",
       "    <tr>\n",
       "      <th>W10004_1140/PHP02</th>\n",
       "      <td>11800.766335</td>\n",
       "      <td>8076.135642</td>\n",
       "      <td>-4567.834304</td>\n",
       "      <td>5222.571669</td>\n",
       "      <td>4652.867345</td>\n",
       "      <td>2786.003786</td>\n",
       "      <td>9186.042856</td>\n",
       "      <td>-261.526679</td>\n",
       "      <td>-201.718029</td>\n",
       "      <td>677.192154</td>\n",
       "      <td>...</td>\n",
       "      <td>307.141027</td>\n",
       "      <td>105.384668</td>\n",
       "      <td>-90.288632</td>\n",
       "      <td>-20.027042</td>\n",
       "      <td>9.010208</td>\n",
       "      <td>1.129919</td>\n",
       "      <td>2.885705</td>\n",
       "      <td>7.453720</td>\n",
       "      <td>10.67770</td>\n",
       "      <td>12.001967</td>\n",
       "    </tr>\n",
       "    <tr>\n",
       "      <th>W10004_1143/PHP02</th>\n",
       "      <td>10297.814429</td>\n",
       "      <td>7170.445874</td>\n",
       "      <td>-4067.472788</td>\n",
       "      <td>4553.854079</td>\n",
       "      <td>4040.608153</td>\n",
       "      <td>2210.618654</td>\n",
       "      <td>8167.318091</td>\n",
       "      <td>-1193.092237</td>\n",
       "      <td>2221.887429</td>\n",
       "      <td>2296.613849</td>\n",
       "      <td>...</td>\n",
       "      <td>-294.141410</td>\n",
       "      <td>250.517369</td>\n",
       "      <td>-169.158308</td>\n",
       "      <td>-211.163744</td>\n",
       "      <td>9.010208</td>\n",
       "      <td>1.129919</td>\n",
       "      <td>2.885705</td>\n",
       "      <td>7.453720</td>\n",
       "      <td>10.67770</td>\n",
       "      <td>12.001967</td>\n",
       "    </tr>\n",
       "    <tr>\n",
       "      <th>W10004_1146/PHP02</th>\n",
       "      <td>11300.579790</td>\n",
       "      <td>8828.830708</td>\n",
       "      <td>-4577.825250</td>\n",
       "      <td>5170.332666</td>\n",
       "      <td>4491.377746</td>\n",
       "      <td>1915.075009</td>\n",
       "      <td>9735.458535</td>\n",
       "      <td>-976.806609</td>\n",
       "      <td>-399.875351</td>\n",
       "      <td>-728.820655</td>\n",
       "      <td>...</td>\n",
       "      <td>126.938394</td>\n",
       "      <td>-161.460461</td>\n",
       "      <td>268.547784</td>\n",
       "      <td>215.439853</td>\n",
       "      <td>9.010208</td>\n",
       "      <td>1.129919</td>\n",
       "      <td>2.885705</td>\n",
       "      <td>7.453720</td>\n",
       "      <td>10.67770</td>\n",
       "      <td>12.001967</td>\n",
       "    </tr>\n",
       "    <tr>\n",
       "      <th>W10004_1156/PHP02</th>\n",
       "      <td>9699.082449</td>\n",
       "      <td>6524.364435</td>\n",
       "      <td>-4018.918563</td>\n",
       "      <td>4199.719062</td>\n",
       "      <td>3784.126618</td>\n",
       "      <td>2143.401084</td>\n",
       "      <td>7547.002075</td>\n",
       "      <td>-471.625612</td>\n",
       "      <td>-1252.755539</td>\n",
       "      <td>-859.828381</td>\n",
       "      <td>...</td>\n",
       "      <td>-114.480318</td>\n",
       "      <td>-235.023385</td>\n",
       "      <td>158.565311</td>\n",
       "      <td>183.135922</td>\n",
       "      <td>9.010208</td>\n",
       "      <td>1.129919</td>\n",
       "      <td>2.885705</td>\n",
       "      <td>7.453720</td>\n",
       "      <td>10.67770</td>\n",
       "      <td>12.001967</td>\n",
       "    </tr>\n",
       "  </tbody>\n",
       "</table>\n",
       "<p>11277 rows × 156 columns</p>\n",
       "</div>"
      ],
      "text/plain": [
       "                                kron_svd0    kron_svd1    kron_svd2  \\\n",
       "Env       Hybrid                                                      \n",
       "DEH1_2020 B14A/H95            2648.884922    -3.572925   864.217307   \n",
       "          B14A/MO17           5900.635738    77.602703  1466.179076   \n",
       "          B14A/OH43           3900.819493   323.594963  1658.778053   \n",
       "          B37/H95             4927.400998   900.147340  1045.849196   \n",
       "          B37/MO17            8367.472197   615.523370  1548.796716   \n",
       "...                                   ...          ...          ...   \n",
       "WIH3_2020 W10004_1123/PHP02   4636.607959  6400.926165 -2781.007201   \n",
       "          W10004_1140/PHP02  11800.766335  8076.135642 -4567.834304   \n",
       "          W10004_1143/PHP02  10297.814429  7170.445874 -4067.472788   \n",
       "          W10004_1146/PHP02  11300.579790  8828.830708 -4577.825250   \n",
       "          W10004_1156/PHP02   9699.082449  6524.364435 -4018.918563   \n",
       "\n",
       "                               kron_svd3    kron_svd4    kron_svd5  \\\n",
       "Env       Hybrid                                                     \n",
       "DEH1_2020 B14A/H95           -145.403653   173.159032   629.946149   \n",
       "          B14A/MO17          -490.770171   432.875784  1753.540902   \n",
       "          B14A/OH43            61.519295   209.795346   744.926288   \n",
       "          B37/H95            -180.890307   293.632264  1139.627749   \n",
       "          B37/MO17           -710.032727   454.199509  1552.829489   \n",
       "...                                  ...          ...          ...   \n",
       "WIH3_2020 W10004_1123/PHP02  2416.467572  2023.407812  -689.883067   \n",
       "          W10004_1140/PHP02  5222.571669  4652.867345  2786.003786   \n",
       "          W10004_1143/PHP02  4553.854079  4040.608153  2210.618654   \n",
       "          W10004_1146/PHP02  5170.332666  4491.377746  1915.075009   \n",
       "          W10004_1156/PHP02  4199.719062  3784.126618  2143.401084   \n",
       "\n",
       "                               kron_svd6    kron_svd7    kron_svd8  \\\n",
       "Env       Hybrid                                                     \n",
       "DEH1_2020 B14A/H95           -130.641121   830.353036   693.053921   \n",
       "          B14A/MO17          -454.552220   717.045527  1573.931356   \n",
       "          B14A/OH43          -148.022523   994.161436  1169.960155   \n",
       "          B37/H95            -265.579695  1296.077496   565.526725   \n",
       "          B37/MO17           -288.703305  2414.589844  1092.261229   \n",
       "...                                  ...          ...          ...   \n",
       "WIH3_2020 W10004_1123/PHP02  6231.028724 -2452.580532 -1280.347900   \n",
       "          W10004_1140/PHP02  9186.042856  -261.526679  -201.718029   \n",
       "          W10004_1143/PHP02  8167.318091 -1193.092237  2221.887429   \n",
       "          W10004_1146/PHP02  9735.458535  -976.806609  -399.875351   \n",
       "          W10004_1156/PHP02  7547.002075  -471.625612 -1252.755539   \n",
       "\n",
       "                               kron_svd9  ...  kron_svd146  kron_svd147  \\\n",
       "Env       Hybrid                          ...                             \n",
       "DEH1_2020 B14A/H95            -94.500088  ...   160.393326   151.036386   \n",
       "          B14A/MO17         -1714.365314  ...    45.986576  -663.580688   \n",
       "          B14A/OH43          -323.167946  ...   100.000337    77.548241   \n",
       "          B37/H95             258.616843  ...    74.484751    11.602260   \n",
       "          B37/MO17           -935.344479  ...   -41.004499   124.406941   \n",
       "...                                  ...  ...          ...          ...   \n",
       "WIH3_2020 W10004_1123/PHP02 -2116.266921  ...  -283.170590  -336.369105   \n",
       "          W10004_1140/PHP02   677.192154  ...   307.141027   105.384668   \n",
       "          W10004_1143/PHP02  2296.613849  ...  -294.141410   250.517369   \n",
       "          W10004_1146/PHP02  -728.820655  ...   126.938394  -161.460461   \n",
       "          W10004_1156/PHP02  -859.828381  ...  -114.480318  -235.023385   \n",
       "\n",
       "                             kron_svd148  kron_svd149  mean_yield_lag_2  \\\n",
       "Env       Hybrid                                                          \n",
       "DEH1_2020 B14A/H95           -560.795992  -199.541739         10.056423   \n",
       "          B14A/MO17          1134.346365  -267.657624         10.056423   \n",
       "          B14A/OH43          -442.290711  -295.560254         10.056423   \n",
       "          B37/H95              68.844362     8.424368         10.056423   \n",
       "          B37/MO17             53.397290    45.822824         10.056423   \n",
       "...                                  ...          ...               ...   \n",
       "WIH3_2020 W10004_1123/PHP02  -390.607660   181.724406          9.010208   \n",
       "          W10004_1140/PHP02   -90.288632   -20.027042          9.010208   \n",
       "          W10004_1143/PHP02  -169.158308  -211.163744          9.010208   \n",
       "          W10004_1146/PHP02   268.547784   215.439853          9.010208   \n",
       "          W10004_1156/PHP02   158.565311   183.135922          9.010208   \n",
       "\n",
       "                             min_yield_lag_2  p1_yield_lag_2  q1_yield_lag_2  \\\n",
       "Env       Hybrid                                                               \n",
       "DEH1_2020 B14A/H95                  0.725594        2.516387        8.232294   \n",
       "          B14A/MO17                 0.725594        2.516387        8.232294   \n",
       "          B14A/OH43                 0.725594        2.516387        8.232294   \n",
       "          B37/H95                   0.725594        2.516387        8.232294   \n",
       "          B37/MO17                  0.725594        2.516387        8.232294   \n",
       "...                                      ...             ...             ...   \n",
       "WIH3_2020 W10004_1123/PHP02         1.129919        2.885705        7.453720   \n",
       "          W10004_1140/PHP02         1.129919        2.885705        7.453720   \n",
       "          W10004_1143/PHP02         1.129919        2.885705        7.453720   \n",
       "          W10004_1146/PHP02         1.129919        2.885705        7.453720   \n",
       "          W10004_1156/PHP02         1.129919        2.885705        7.453720   \n",
       "\n",
       "                             q3_yield_lag_2  p90_yield_lag_2  \n",
       "Env       Hybrid                                              \n",
       "DEH1_2020 B14A/H95                 11.94657        13.500556  \n",
       "          B14A/MO17                11.94657        13.500556  \n",
       "          B14A/OH43                11.94657        13.500556  \n",
       "          B37/H95                  11.94657        13.500556  \n",
       "          B37/MO17                 11.94657        13.500556  \n",
       "...                                     ...              ...  \n",
       "WIH3_2020 W10004_1123/PHP02        10.67770        12.001967  \n",
       "          W10004_1140/PHP02        10.67770        12.001967  \n",
       "          W10004_1143/PHP02        10.67770        12.001967  \n",
       "          W10004_1146/PHP02        10.67770        12.001967  \n",
       "          W10004_1156/PHP02        10.67770        12.001967  \n",
       "\n",
       "[11277 rows x 156 columns]"
      ]
     },
     "execution_count": 35,
     "metadata": {},
     "output_type": "execute_result"
    }
   ],
   "source": [
    "xtrain_svd"
   ]
  },
  {
   "cell_type": "code",
   "execution_count": 36,
   "id": "ab9ca86b",
   "metadata": {},
   "outputs": [],
   "source": [
    "import optuna"
   ]
  },
  {
   "cell_type": "code",
   "execution_count": 37,
   "id": "fb977fdb",
   "metadata": {},
   "outputs": [
    {
     "name": "stderr",
     "output_type": "stream",
     "text": [
      "\u001b[32m[I 2023-01-31 22:20:42,648]\u001b[0m A new study created in memory with name: no-name-8337c144-6b3e-4e25-912c-e24282ecc390\u001b[0m\n"
     ]
    },
    {
     "name": "stdout",
     "output_type": "stream",
     "text": [
      "[LightGBM] [Warning] lambda_l1 is set=0.0024430162614261413, reg_alpha=0.0 will be ignored. Current value: lambda_l1=0.0024430162614261413\n",
      "[LightGBM] [Warning] bagging_fraction is set=0.839196365086843, subsample=1.0 will be ignored. Current value: bagging_fraction=0.839196365086843\n",
      "[LightGBM] [Warning] feature_fraction is set=0.3745401188473625, colsample_bytree=1.0 will be ignored. Current value: feature_fraction=0.3745401188473625\n",
      "[LightGBM] [Warning] lambda_l2 is set=2.5361081166471375e-07, reg_lambda=0.0 will be ignored. Current value: lambda_l2=2.5361081166471375e-07\n"
     ]
    },
    {
     "name": "stderr",
     "output_type": "stream",
     "text": [
      "\u001b[32m[I 2023-01-31 22:20:43,214]\u001b[0m Trial 0 finished with value: 2.2900031587909484 and parameters: {'feature_fraction': 0.3745401188473625, 'num_leaves': 244, 'bagging_fraction': 0.839196365086843, 'lambda_l1': 0.0024430162614261413, 'lambda_l2': 2.5361081166471375e-07, 'n_estimators': 55, 'max_depth': 2}. Best is trial 0 with value: 2.2900031587909484.\u001b[0m\n"
     ]
    },
    {
     "name": "stdout",
     "output_type": "stream",
     "text": [
      "[LightGBM] [Warning] lambda_l1 is set=1.5320059381854043e-08, reg_alpha=0.0 will be ignored. Current value: lambda_l1=1.5320059381854043e-08\n",
      "[LightGBM] [Warning] bagging_fraction is set=0.8248435466776274, subsample=1.0 will be ignored. Current value: bagging_fraction=0.8248435466776274\n",
      "[LightGBM] [Warning] feature_fraction is set=0.8661761457749352, colsample_bytree=1.0 will be ignored. Current value: feature_fraction=0.8661761457749352\n",
      "[LightGBM] [Warning] lambda_l2 is set=5.360294728728285, reg_lambda=0.0 will be ignored. Current value: lambda_l2=5.360294728728285\n"
     ]
    },
    {
     "name": "stderr",
     "output_type": "stream",
     "text": [
      "\u001b[32m[I 2023-01-31 22:20:45,150]\u001b[0m Trial 1 finished with value: 2.208942915002342 and parameters: {'feature_fraction': 0.8661761457749352, 'num_leaves': 155, 'bagging_fraction': 0.8248435466776274, 'lambda_l1': 1.5320059381854043e-08, 'lambda_l2': 5.360294728728285, 'n_estimators': 252, 'max_depth': 3}. Best is trial 1 with value: 2.208942915002342.\u001b[0m\n"
     ]
    },
    {
     "name": "stdout",
     "output_type": "stream",
     "text": [
      "[LightGBM] [Warning] lambda_l1 is set=0.00052821153945323, reg_alpha=0.0 will be ignored. Current value: lambda_l1=0.00052821153945323\n",
      "[LightGBM] [Warning] bagging_fraction is set=0.5825453457757226, subsample=1.0 will be ignored. Current value: bagging_fraction=0.5825453457757226\n",
      "[LightGBM] [Warning] feature_fraction is set=0.18182496720710062, colsample_bytree=1.0 will be ignored. Current value: feature_fraction=0.18182496720710062\n",
      "[LightGBM] [Warning] lambda_l2 is set=7.71800699380605e-05, reg_lambda=0.0 will be ignored. Current value: lambda_l2=7.71800699380605e-05\n"
     ]
    },
    {
     "name": "stderr",
     "output_type": "stream",
     "text": [
      "\u001b[32m[I 2023-01-31 22:20:45,920]\u001b[0m Trial 2 finished with value: 2.21667853964373 and parameters: {'feature_fraction': 0.18182496720710062, 'num_leaves': 48, 'bagging_fraction': 0.5825453457757226, 'lambda_l1': 0.00052821153945323, 'lambda_l2': 7.71800699380605e-05, 'n_estimators': 94, 'max_depth': 5}. Best is trial 1 with value: 2.208942915002342.\u001b[0m\n"
     ]
    },
    {
     "name": "stdout",
     "output_type": "stream",
     "text": [
      "[LightGBM] [Warning] lambda_l1 is set=0.00012724181576752517, reg_alpha=0.0 will be ignored. Current value: lambda_l1=0.00012724181576752517\n",
      "[LightGBM] [Warning] bagging_fraction is set=0.619817105976215, subsample=1.0 will be ignored. Current value: bagging_fraction=0.619817105976215\n",
      "[LightGBM] [Warning] feature_fraction is set=0.13949386065204183, colsample_bytree=1.0 will be ignored. Current value: feature_fraction=0.13949386065204183\n",
      "[LightGBM] [Warning] lambda_l2 is set=0.1165691561324743, reg_lambda=0.0 will be ignored. Current value: lambda_l2=0.1165691561324743\n"
     ]
    },
    {
     "name": "stderr",
     "output_type": "stream",
     "text": [
      "\u001b[32m[I 2023-01-31 22:20:46,467]\u001b[0m Trial 3 finished with value: 2.257171403062729 and parameters: {'feature_fraction': 0.13949386065204183, 'num_leaves': 76, 'bagging_fraction': 0.619817105976215, 'lambda_l1': 0.00012724181576752517, 'lambda_l2': 0.1165691561324743, 'n_estimators': 68, 'max_depth': 4}. Best is trial 1 with value: 2.208942915002342.\u001b[0m\n"
     ]
    },
    {
     "name": "stdout",
     "output_type": "stream",
     "text": [
      "[LightGBM] [Warning] lambda_l1 is set=3.425445902633376e-07, reg_alpha=0.0 will be ignored. Current value: lambda_l1=3.425445902633376e-07\n",
      "[LightGBM] [Warning] bagging_fraction is set=0.764526911140863, subsample=1.0 will be ignored. Current value: bagging_fraction=0.764526911140863\n",
      "[LightGBM] [Warning] feature_fraction is set=0.5924145688620425, colsample_bytree=1.0 will be ignored. Current value: feature_fraction=0.5924145688620425\n",
      "[LightGBM] [Warning] lambda_l2 is set=3.850031979199519e-08, reg_lambda=0.0 will be ignored. Current value: lambda_l2=3.850031979199519e-08\n"
     ]
    },
    {
     "name": "stderr",
     "output_type": "stream",
     "text": [
      "\u001b[32m[I 2023-01-31 22:20:48,914]\u001b[0m Trial 4 finished with value: 2.2342547884197774 and parameters: {'feature_fraction': 0.5924145688620425, 'num_leaves': 13, 'bagging_fraction': 0.764526911140863, 'lambda_l1': 3.425445902633376e-07, 'lambda_l2': 3.850031979199519e-08, 'n_estimators': 286, 'max_depth': 6}. Best is trial 1 with value: 2.208942915002342.\u001b[0m\n"
     ]
    },
    {
     "name": "stdout",
     "output_type": "stream",
     "text": [
      "[LightGBM] [Warning] lambda_l1 is set=0.014391207615728067, reg_alpha=0.0 will be ignored. Current value: lambda_l1=0.014391207615728067\n",
      "[LightGBM] [Warning] bagging_fraction is set=0.45860326840383037, subsample=1.0 will be ignored. Current value: bagging_fraction=0.45860326840383037\n",
      "[LightGBM] [Warning] feature_fraction is set=0.8083973481164611, colsample_bytree=1.0 will be ignored. Current value: feature_fraction=0.8083973481164611\n",
      "[LightGBM] [Warning] lambda_l2 is set=9.148975058772307e-05, reg_lambda=0.0 will be ignored. Current value: lambda_l2=9.148975058772307e-05\n"
     ]
    },
    {
     "name": "stderr",
     "output_type": "stream",
     "text": [
      "\u001b[32m[I 2023-01-31 22:20:49,726]\u001b[0m Trial 5 finished with value: 2.2883358877611073 and parameters: {'feature_fraction': 0.8083973481164611, 'num_leaves': 79, 'bagging_fraction': 0.45860326840383037, 'lambda_l1': 0.014391207615728067, 'lambda_l2': 9.148975058772307e-05, 'n_estimators': 45, 'max_depth': 4}. Best is trial 1 with value: 2.208942915002342.\u001b[0m\n"
     ]
    },
    {
     "name": "stdout",
     "output_type": "stream",
     "text": [
      "[LightGBM] [Warning] lambda_l1 is set=0.009176996354542699, reg_alpha=0.0 will be ignored. Current value: lambda_l1=0.009176996354542699\n",
      "[LightGBM] [Warning] bagging_fraction is set=0.5552679889600102, subsample=1.0 will be ignored. Current value: bagging_fraction=0.5552679889600102\n",
      "[LightGBM] [Warning] feature_fraction is set=0.034388521115218396, colsample_bytree=1.0 will be ignored. Current value: feature_fraction=0.034388521115218396\n",
      "[LightGBM] [Warning] lambda_l2 is set=6.388511557344611e-06, reg_lambda=0.0 will be ignored. Current value: lambda_l2=6.388511557344611e-06\n"
     ]
    },
    {
     "name": "stderr",
     "output_type": "stream",
     "text": [
      "\u001b[32m[I 2023-01-31 22:20:50,317]\u001b[0m Trial 6 finished with value: 2.2325002291893323 and parameters: {'feature_fraction': 0.034388521115218396, 'num_leaves': 233, 'bagging_fraction': 0.5552679889600102, 'lambda_l1': 0.009176996354542699, 'lambda_l2': 6.388511557344611e-06, 'n_estimators': 161, 'max_depth': 4}. Best is trial 1 with value: 2.208942915002342.\u001b[0m\n"
     ]
    },
    {
     "name": "stdout",
     "output_type": "stream",
     "text": [
      "[LightGBM] [Warning] lambda_l1 is set=2.854239907497756, reg_alpha=0.0 will be ignored. Current value: lambda_l1=2.854239907497756\n",
      "[LightGBM] [Warning] bagging_fraction is set=0.8650796940166687, subsample=1.0 will be ignored. Current value: bagging_fraction=0.8650796940166687\n",
      "[LightGBM] [Warning] feature_fraction is set=0.18485445552552704, colsample_bytree=1.0 will be ignored. Current value: feature_fraction=0.18485445552552704\n",
      "[LightGBM] [Warning] lambda_l2 is set=1.1309571585271483, reg_lambda=0.0 will be ignored. Current value: lambda_l2=1.1309571585271483\n"
     ]
    },
    {
     "name": "stderr",
     "output_type": "stream",
     "text": [
      "\u001b[32m[I 2023-01-31 22:20:51,811]\u001b[0m Trial 7 finished with value: 2.259121453248013 and parameters: {'feature_fraction': 0.18485445552552704, 'num_leaves': 249, 'bagging_fraction': 0.8650796940166687, 'lambda_l1': 2.854239907497756, 'lambda_l2': 1.1309571585271483, 'n_estimators': 183, 'max_depth': 6}. Best is trial 1 with value: 2.208942915002342.\u001b[0m\n"
     ]
    },
    {
     "name": "stdout",
     "output_type": "stream",
     "text": [
      "[LightGBM] [Warning] lambda_l1 is set=8.471746987003668e-06, reg_alpha=0.0 will be ignored. Current value: lambda_l1=8.471746987003668e-06\n",
      "[LightGBM] [Warning] bagging_fraction is set=0.4271363733463229, subsample=1.0 will be ignored. Current value: bagging_fraction=0.4271363733463229\n",
      "[LightGBM] [Warning] feature_fraction is set=0.0884925020519195, colsample_bytree=1.0 will be ignored. Current value: feature_fraction=0.0884925020519195\n",
      "[LightGBM] [Warning] lambda_l2 is set=3.148441347423712e-05, reg_lambda=0.0 will be ignored. Current value: lambda_l2=3.148441347423712e-05\n"
     ]
    },
    {
     "name": "stderr",
     "output_type": "stream",
     "text": [
      "\u001b[32m[I 2023-01-31 22:20:52,515]\u001b[0m Trial 8 finished with value: 2.248722267522445 and parameters: {'feature_fraction': 0.0884925020519195, 'num_leaves': 51, 'bagging_fraction': 0.4271363733463229, 'lambda_l1': 8.471746987003668e-06, 'lambda_l2': 3.148441347423712e-05, 'n_estimators': 88, 'max_depth': 6}. Best is trial 1 with value: 2.208942915002342.\u001b[0m\n"
     ]
    },
    {
     "name": "stdout",
     "output_type": "stream",
     "text": [
      "[LightGBM] [Warning] lambda_l1 is set=1.8548894229694903e-07, reg_alpha=0.0 will be ignored. Current value: lambda_l1=1.8548894229694903e-07\n",
      "[LightGBM] [Warning] bagging_fraction is set=0.7256176498949491, subsample=1.0 will be ignored. Current value: bagging_fraction=0.7256176498949491\n",
      "[LightGBM] [Warning] feature_fraction is set=0.3567533266935893, colsample_bytree=1.0 will be ignored. Current value: feature_fraction=0.3567533266935893\n",
      "[LightGBM] [Warning] lambda_l2 is set=0.16587190283399655, reg_lambda=0.0 will be ignored. Current value: lambda_l2=0.16587190283399655\n"
     ]
    },
    {
     "name": "stderr",
     "output_type": "stream",
     "text": [
      "\u001b[32m[I 2023-01-31 22:20:53,267]\u001b[0m Trial 9 finished with value: 2.3090820887278163 and parameters: {'feature_fraction': 0.3567533266935893, 'num_leaves': 73, 'bagging_fraction': 0.7256176498949491, 'lambda_l1': 1.8548894229694903e-07, 'lambda_l2': 0.16587190283399655, 'n_estimators': 31, 'max_depth': 6}. Best is trial 1 with value: 2.208942915002342.\u001b[0m\n"
     ]
    },
    {
     "name": "stdout",
     "output_type": "stream",
     "text": [
      "[LightGBM] [Warning] lambda_l1 is set=1.4509648127973792e-08, reg_alpha=0.0 will be ignored. Current value: lambda_l1=1.4509648127973792e-08\n",
      "[LightGBM] [Warning] bagging_fraction is set=0.9817222664727197, subsample=1.0 will be ignored. Current value: bagging_fraction=0.9817222664727197\n",
      "[LightGBM] [Warning] feature_fraction is set=0.9788450993760263, colsample_bytree=1.0 will be ignored. Current value: feature_fraction=0.9788450993760263\n",
      "[LightGBM] [Warning] lambda_l2 is set=7.162312742007019, reg_lambda=0.0 will be ignored. Current value: lambda_l2=7.162312742007019\n"
     ]
    },
    {
     "name": "stderr",
     "output_type": "stream",
     "text": [
      "\u001b[32m[I 2023-01-31 22:20:54,905]\u001b[0m Trial 10 finished with value: 2.227085336242566 and parameters: {'feature_fraction': 0.9788450993760263, 'num_leaves': 169, 'bagging_fraction': 0.9817222664727197, 'lambda_l1': 1.4509648127973792e-08, 'lambda_l2': 7.162312742007019, 'n_estimators': 274, 'max_depth': 2}. Best is trial 1 with value: 2.208942915002342.\u001b[0m\n"
     ]
    },
    {
     "name": "stdout",
     "output_type": "stream",
     "text": [
      "[LightGBM] [Warning] lambda_l1 is set=4.2401486791772944e-05, reg_alpha=0.0 will be ignored. Current value: lambda_l1=4.2401486791772944e-05\n",
      "[LightGBM] [Warning] bagging_fraction is set=0.6277625460521341, subsample=1.0 will be ignored. Current value: bagging_fraction=0.6277625460521341\n",
      "[LightGBM] [Warning] feature_fraction is set=0.6240835271723653, colsample_bytree=1.0 will be ignored. Current value: feature_fraction=0.6240835271723653\n",
      "[LightGBM] [Warning] lambda_l2 is set=0.003606535878052327, reg_lambda=0.0 will be ignored. Current value: lambda_l2=0.003606535878052327\n"
     ]
    },
    {
     "name": "stderr",
     "output_type": "stream",
     "text": [
      "\u001b[32m[I 2023-01-31 22:20:56,294]\u001b[0m Trial 11 finished with value: 2.2068922720699846 and parameters: {'feature_fraction': 0.6240835271723653, 'num_leaves': 147, 'bagging_fraction': 0.6277625460521341, 'lambda_l1': 4.2401486791772944e-05, 'lambda_l2': 0.003606535878052327, 'n_estimators': 212, 'max_depth': 3}. Best is trial 11 with value: 2.2068922720699846.\u001b[0m\n"
     ]
    },
    {
     "name": "stdout",
     "output_type": "stream",
     "text": [
      "[LightGBM] [Warning] lambda_l1 is set=1.4219003669558993e-08, reg_alpha=0.0 will be ignored. Current value: lambda_l1=1.4219003669558993e-08\n",
      "[LightGBM] [Warning] bagging_fraction is set=0.6767848264649009, subsample=1.0 will be ignored. Current value: bagging_fraction=0.6767848264649009\n",
      "[LightGBM] [Warning] feature_fraction is set=0.6941538791952222, colsample_bytree=1.0 will be ignored. Current value: feature_fraction=0.6941538791952222\n",
      "[LightGBM] [Warning] lambda_l2 is set=0.00566647307995475, reg_lambda=0.0 will be ignored. Current value: lambda_l2=0.00566647307995475\n"
     ]
    },
    {
     "name": "stderr",
     "output_type": "stream",
     "text": [
      "\u001b[32m[I 2023-01-31 22:20:57,843]\u001b[0m Trial 12 finished with value: 2.218821315873246 and parameters: {'feature_fraction': 0.6941538791952222, 'num_leaves': 150, 'bagging_fraction': 0.6767848264649009, 'lambda_l1': 1.4219003669558993e-08, 'lambda_l2': 0.00566647307995475, 'n_estimators': 229, 'max_depth': 3}. Best is trial 11 with value: 2.2068922720699846.\u001b[0m\n"
     ]
    },
    {
     "name": "stdout",
     "output_type": "stream",
     "text": [
      "[LightGBM] [Warning] lambda_l1 is set=1.1774187730846638e-05, reg_alpha=0.0 will be ignored. Current value: lambda_l1=1.1774187730846638e-05\n",
      "[LightGBM] [Warning] bagging_fraction is set=0.7862503832657425, subsample=1.0 will be ignored. Current value: bagging_fraction=0.7862503832657425\n",
      "[LightGBM] [Warning] feature_fraction is set=0.8243291718565097, colsample_bytree=1.0 will be ignored. Current value: feature_fraction=0.8243291718565097\n",
      "[LightGBM] [Warning] lambda_l2 is set=0.002643768213226745, reg_lambda=0.0 will be ignored. Current value: lambda_l2=0.002643768213226745\n"
     ]
    },
    {
     "name": "stderr",
     "output_type": "stream",
     "text": [
      "\u001b[32m[I 2023-01-31 22:20:59,487]\u001b[0m Trial 13 finished with value: 2.2117398545477878 and parameters: {'feature_fraction': 0.8243291718565097, 'num_leaves': 198, 'bagging_fraction': 0.7862503832657425, 'lambda_l1': 1.1774187730846638e-05, 'lambda_l2': 0.002643768213226745, 'n_estimators': 213, 'max_depth': 3}. Best is trial 11 with value: 2.2068922720699846.\u001b[0m\n"
     ]
    },
    {
     "name": "stdout",
     "output_type": "stream",
     "text": [
      "[LightGBM] [Warning] lambda_l1 is set=1.5951852231307057e-06, reg_alpha=0.0 will be ignored. Current value: lambda_l1=1.5951852231307057e-06\n",
      "[LightGBM] [Warning] bagging_fraction is set=0.6628781004946807, subsample=1.0 will be ignored. Current value: bagging_fraction=0.6628781004946807\n",
      "[LightGBM] [Warning] feature_fraction is set=0.5731283352968769, colsample_bytree=1.0 will be ignored. Current value: feature_fraction=0.5731283352968769\n",
      "[LightGBM] [Warning] lambda_l2 is set=0.008953500118828728, reg_lambda=0.0 will be ignored. Current value: lambda_l2=0.008953500118828728\n"
     ]
    },
    {
     "name": "stderr",
     "output_type": "stream",
     "text": [
      "\u001b[32m[I 2023-01-31 22:21:00,920]\u001b[0m Trial 14 finished with value: 2.188957321764655 and parameters: {'feature_fraction': 0.5731283352968769, 'num_leaves': 121, 'bagging_fraction': 0.6628781004946807, 'lambda_l1': 1.5951852231307057e-06, 'lambda_l2': 0.008953500118828728, 'n_estimators': 240, 'max_depth': 3}. Best is trial 14 with value: 2.188957321764655.\u001b[0m\n"
     ]
    },
    {
     "name": "stdout",
     "output_type": "stream",
     "text": [
      "[LightGBM] [Warning] lambda_l1 is set=3.850344231091819e-06, reg_alpha=0.0 will be ignored. Current value: lambda_l1=3.850344231091819e-06\n",
      "[LightGBM] [Warning] bagging_fraction is set=0.6798527371979727, subsample=1.0 will be ignored. Current value: bagging_fraction=0.6798527371979727\n",
      "[LightGBM] [Warning] feature_fraction is set=0.5267178503381676, colsample_bytree=1.0 will be ignored. Current value: feature_fraction=0.5267178503381676\n",
      "[LightGBM] [Warning] lambda_l2 is set=0.0013910472630127636, reg_lambda=0.0 will be ignored. Current value: lambda_l2=0.0013910472630127636\n"
     ]
    },
    {
     "name": "stderr",
     "output_type": "stream",
     "text": [
      "\u001b[32m[I 2023-01-31 22:21:01,863]\u001b[0m Trial 15 finished with value: 2.1806054436516993 and parameters: {'feature_fraction': 0.5267178503381676, 'num_leaves': 115, 'bagging_fraction': 0.6798527371979727, 'lambda_l1': 3.850344231091819e-06, 'lambda_l2': 0.0013910472630127636, 'n_estimators': 130, 'max_depth': 3}. Best is trial 15 with value: 2.1806054436516993.\u001b[0m\n"
     ]
    },
    {
     "name": "stdout",
     "output_type": "stream",
     "text": [
      "[LightGBM] [Warning] lambda_l1 is set=2.5828651825635327e-06, reg_alpha=0.0 will be ignored. Current value: lambda_l1=2.5828651825635327e-06\n",
      "[LightGBM] [Warning] bagging_fraction is set=0.6833931770003209, subsample=1.0 will be ignored. Current value: bagging_fraction=0.6833931770003209\n",
      "[LightGBM] [Warning] feature_fraction is set=0.4853101961974619, colsample_bytree=1.0 will be ignored. Current value: feature_fraction=0.4853101961974619\n",
      "[LightGBM] [Warning] lambda_l2 is set=0.0014693130148192672, reg_lambda=0.0 will be ignored. Current value: lambda_l2=0.0014693130148192672\n"
     ]
    },
    {
     "name": "stderr",
     "output_type": "stream",
     "text": [
      "\u001b[32m[I 2023-01-31 22:21:02,605]\u001b[0m Trial 16 finished with value: 2.2265711859783415 and parameters: {'feature_fraction': 0.4853101961974619, 'num_leaves': 103, 'bagging_fraction': 0.6833931770003209, 'lambda_l1': 2.5828651825635327e-06, 'lambda_l2': 0.0014693130148192672, 'n_estimators': 130, 'max_depth': 2}. Best is trial 15 with value: 2.1806054436516993.\u001b[0m\n"
     ]
    },
    {
     "name": "stdout",
     "output_type": "stream",
     "text": [
      "[LightGBM] [Warning] lambda_l1 is set=1.7213796995744496e-06, reg_alpha=0.0 will be ignored. Current value: lambda_l1=1.7213796995744496e-06\n",
      "[LightGBM] [Warning] bagging_fraction is set=0.5243495374973053, subsample=1.0 will be ignored. Current value: bagging_fraction=0.5243495374973053\n",
      "[LightGBM] [Warning] feature_fraction is set=0.48682298868239626, colsample_bytree=1.0 will be ignored. Current value: feature_fraction=0.48682298868239626\n",
      "[LightGBM] [Warning] lambda_l2 is set=0.027498478684639407, reg_lambda=0.0 will be ignored. Current value: lambda_l2=0.027498478684639407\n"
     ]
    },
    {
     "name": "stderr",
     "output_type": "stream",
     "text": [
      "\u001b[32m[I 2023-01-31 22:21:04,249]\u001b[0m Trial 17 finished with value: 2.207620459153409 and parameters: {'feature_fraction': 0.48682298868239626, 'num_leaves': 113, 'bagging_fraction': 0.5243495374973053, 'lambda_l1': 1.7213796995744496e-06, 'lambda_l2': 0.027498478684639407, 'n_estimators': 144, 'max_depth': 5}. Best is trial 15 with value: 2.1806054436516993.\u001b[0m\n"
     ]
    },
    {
     "name": "stdout",
     "output_type": "stream",
     "text": [
      "[LightGBM] [Warning] lambda_l1 is set=4.2725611578301204e-07, reg_alpha=0.0 will be ignored. Current value: lambda_l1=4.2725611578301204e-07\n",
      "[LightGBM] [Warning] bagging_fraction is set=0.6569800266131068, subsample=1.0 will be ignored. Current value: bagging_fraction=0.6569800266131068\n",
      "[LightGBM] [Warning] feature_fraction is set=0.708199627059164, colsample_bytree=1.0 will be ignored. Current value: feature_fraction=0.708199627059164\n",
      "[LightGBM] [Warning] lambda_l2 is set=0.0004394187293746708, reg_lambda=0.0 will be ignored. Current value: lambda_l2=0.0004394187293746708\n"
     ]
    },
    {
     "name": "stderr",
     "output_type": "stream",
     "text": [
      "\u001b[32m[I 2023-01-31 22:21:05,248]\u001b[0m Trial 18 finished with value: 2.2281416264363787 and parameters: {'feature_fraction': 0.708199627059164, 'num_leaves': 117, 'bagging_fraction': 0.6569800266131068, 'lambda_l1': 4.2725611578301204e-07, 'lambda_l2': 0.0004394187293746708, 'n_estimators': 113, 'max_depth': 3}. Best is trial 15 with value: 2.1806054436516993.\u001b[0m\n"
     ]
    },
    {
     "name": "stdout",
     "output_type": "stream",
     "text": [
      "[LightGBM] [Warning] lambda_l1 is set=3.756984803624391e-05, reg_alpha=0.0 will be ignored. Current value: lambda_l1=3.756984803624391e-05\n",
      "[LightGBM] [Warning] bagging_fraction is set=0.5119076588281573, subsample=1.0 will be ignored. Current value: bagging_fraction=0.5119076588281573\n",
      "[LightGBM] [Warning] feature_fraction is set=0.3731286158022053, colsample_bytree=1.0 will be ignored. Current value: feature_fraction=0.3731286158022053\n",
      "[LightGBM] [Warning] lambda_l2 is set=0.018114557682839833, reg_lambda=0.0 will be ignored. Current value: lambda_l2=0.018114557682839833\n"
     ]
    },
    {
     "name": "stderr",
     "output_type": "stream",
     "text": [
      "\u001b[32m[I 2023-01-31 22:21:06,843]\u001b[0m Trial 19 finished with value: 2.216045440047484 and parameters: {'feature_fraction': 0.3731286158022053, 'num_leaves': 203, 'bagging_fraction': 0.5119076588281573, 'lambda_l1': 3.756984803624391e-05, 'lambda_l2': 0.018114557682839833, 'n_estimators': 174, 'max_depth': 5}. Best is trial 15 with value: 2.1806054436516993.\u001b[0m\n"
     ]
    },
    {
     "name": "stdout",
     "output_type": "stream",
     "text": [
      "[LightGBM] [Warning] lambda_l1 is set=2.3803087778760937e-06, reg_alpha=0.0 will be ignored. Current value: lambda_l1=2.3803087778760937e-06\n",
      "[LightGBM] [Warning] bagging_fraction is set=0.7266028972225247, subsample=1.0 will be ignored. Current value: bagging_fraction=0.7266028972225247\n",
      "[LightGBM] [Warning] feature_fraction is set=0.5736894675055919, colsample_bytree=1.0 will be ignored. Current value: feature_fraction=0.5736894675055919\n",
      "[LightGBM] [Warning] lambda_l2 is set=0.0009018306933260857, reg_lambda=0.0 will be ignored. Current value: lambda_l2=0.0009018306933260857\n"
     ]
    },
    {
     "name": "stderr",
     "output_type": "stream",
     "text": [
      "\u001b[32m[I 2023-01-31 22:21:07,300]\u001b[0m Trial 20 finished with value: 2.3475806883076342 and parameters: {'feature_fraction': 0.5736894675055919, 'num_leaves': 132, 'bagging_fraction': 0.7266028972225247, 'lambda_l1': 2.3803087778760937e-06, 'lambda_l2': 0.0009018306933260857, 'n_estimators': 13, 'max_depth': 2}. Best is trial 15 with value: 2.1806054436516993.\u001b[0m\n"
     ]
    },
    {
     "name": "stdout",
     "output_type": "stream",
     "text": [
      "[LightGBM] [Warning] lambda_l1 is set=6.437556856826782e-05, reg_alpha=0.0 will be ignored. Current value: lambda_l1=6.437556856826782e-05\n",
      "[LightGBM] [Warning] bagging_fraction is set=0.6282345841254573, subsample=1.0 will be ignored. Current value: bagging_fraction=0.6282345841254573\n",
      "[LightGBM] [Warning] feature_fraction is set=0.6080407600824593, colsample_bytree=1.0 will be ignored. Current value: feature_fraction=0.6080407600824593\n",
      "[LightGBM] [Warning] lambda_l2 is set=0.007775621397232339, reg_lambda=0.0 will be ignored. Current value: lambda_l2=0.007775621397232339\n"
     ]
    },
    {
     "name": "stderr",
     "output_type": "stream",
     "text": [
      "\u001b[32m[I 2023-01-31 22:21:08,676]\u001b[0m Trial 21 finished with value: 2.1961647207675896 and parameters: {'feature_fraction': 0.6080407600824593, 'num_leaves': 186, 'bagging_fraction': 0.6282345841254573, 'lambda_l1': 6.437556856826782e-05, 'lambda_l2': 0.007775621397232339, 'n_estimators': 214, 'max_depth': 3}. Best is trial 15 with value: 2.1806054436516993.\u001b[0m\n"
     ]
    },
    {
     "name": "stdout",
     "output_type": "stream",
     "text": [
      "[LightGBM] [Warning] lambda_l1 is set=0.00016807658166580503, reg_alpha=0.0 will be ignored. Current value: lambda_l1=0.00016807658166580503\n",
      "[LightGBM] [Warning] bagging_fraction is set=0.6029660974705682, subsample=1.0 will be ignored. Current value: bagging_fraction=0.6029660974705682\n",
      "[LightGBM] [Warning] feature_fraction is set=0.4854042651771475, colsample_bytree=1.0 will be ignored. Current value: feature_fraction=0.4854042651771475\n",
      "[LightGBM] [Warning] lambda_l2 is set=0.03097301274448999, reg_lambda=0.0 will be ignored. Current value: lambda_l2=0.03097301274448999\n"
     ]
    },
    {
     "name": "stderr",
     "output_type": "stream",
     "text": [
      "\u001b[32m[I 2023-01-31 22:21:10,013]\u001b[0m Trial 22 finished with value: 2.1736713382118826 and parameters: {'feature_fraction': 0.4854042651771475, 'num_leaves': 183, 'bagging_fraction': 0.6029660974705682, 'lambda_l1': 0.00016807658166580503, 'lambda_l2': 0.03097301274448999, 'n_estimators': 245, 'max_depth': 3}. Best is trial 22 with value: 2.1736713382118826.\u001b[0m\n"
     ]
    },
    {
     "name": "stdout",
     "output_type": "stream",
     "text": [
      "[LightGBM] [Warning] lambda_l1 is set=0.00045307811702003915, reg_alpha=0.0 will be ignored. Current value: lambda_l1=0.00045307811702003915\n",
      "[LightGBM] [Warning] bagging_fraction is set=0.5897155100222029, subsample=1.0 will be ignored. Current value: bagging_fraction=0.5897155100222029\n",
      "[LightGBM] [Warning] feature_fraction is set=0.46432190117886324, colsample_bytree=1.0 will be ignored. Current value: feature_fraction=0.46432190117886324\n",
      "[LightGBM] [Warning] lambda_l2 is set=0.08175250986304114, reg_lambda=0.0 will be ignored. Current value: lambda_l2=0.08175250986304114\n"
     ]
    },
    {
     "name": "stderr",
     "output_type": "stream",
     "text": [
      "\u001b[32m[I 2023-01-31 22:21:11,829]\u001b[0m Trial 23 finished with value: 2.221613971556058 and parameters: {'feature_fraction': 0.46432190117886324, 'num_leaves': 216, 'bagging_fraction': 0.5897155100222029, 'lambda_l1': 0.00045307811702003915, 'lambda_l2': 0.08175250986304114, 'n_estimators': 256, 'max_depth': 4}. Best is trial 22 with value: 2.1736713382118826.\u001b[0m\n"
     ]
    },
    {
     "name": "stdout",
     "output_type": "stream",
     "text": [
      "[LightGBM] [Warning] lambda_l1 is set=5.7625793724134645e-06, reg_alpha=0.0 will be ignored. Current value: lambda_l1=5.7625793724134645e-06\n",
      "[LightGBM] [Warning] bagging_fraction is set=0.6786055622650762, subsample=1.0 will be ignored. Current value: bagging_fraction=0.6786055622650762\n",
      "[LightGBM] [Warning] feature_fraction is set=0.2935025764178031, colsample_bytree=1.0 will be ignored. Current value: feature_fraction=0.2935025764178031\n",
      "[LightGBM] [Warning] lambda_l2 is set=0.3704831879627753, reg_lambda=0.0 will be ignored. Current value: lambda_l2=0.3704831879627753\n"
     ]
    },
    {
     "name": "stderr",
     "output_type": "stream",
     "text": [
      "\u001b[32m[I 2023-01-31 22:21:12,741]\u001b[0m Trial 24 finished with value: 2.2049299231341677 and parameters: {'feature_fraction': 0.2935025764178031, 'num_leaves': 176, 'bagging_fraction': 0.6786055622650762, 'lambda_l1': 5.7625793724134645e-06, 'lambda_l2': 0.3704831879627753, 'n_estimators': 190, 'max_depth': 3}. Best is trial 22 with value: 2.1736713382118826.\u001b[0m\n"
     ]
    },
    {
     "name": "stdout",
     "output_type": "stream",
     "text": [
      "[LightGBM] [Warning] lambda_l1 is set=2.037775686461657e-05, reg_alpha=0.0 will be ignored. Current value: lambda_l1=2.037775686461657e-05\n",
      "[LightGBM] [Warning] bagging_fraction is set=0.558857685679696, subsample=1.0 will be ignored. Current value: bagging_fraction=0.558857685679696\n",
      "[LightGBM] [Warning] feature_fraction is set=0.518111264166547, colsample_bytree=1.0 will be ignored. Current value: feature_fraction=0.518111264166547\n",
      "[LightGBM] [Warning] lambda_l2 is set=0.028928182064975765, reg_lambda=0.0 will be ignored. Current value: lambda_l2=0.028928182064975765\n"
     ]
    },
    {
     "name": "stderr",
     "output_type": "stream",
     "text": [
      "\u001b[32m[I 2023-01-31 22:21:13,944]\u001b[0m Trial 25 finished with value: 2.1944279422199364 and parameters: {'feature_fraction': 0.518111264166547, 'num_leaves': 95, 'bagging_fraction': 0.558857685679696, 'lambda_l1': 2.037775686461657e-05, 'lambda_l2': 0.028928182064975765, 'n_estimators': 300, 'max_depth': 2}. Best is trial 22 with value: 2.1736713382118826.\u001b[0m\n"
     ]
    },
    {
     "name": "stdout",
     "output_type": "stream",
     "text": [
      "[LightGBM] [Warning] lambda_l1 is set=8.60641569311367e-08, reg_alpha=0.0 will be ignored. Current value: lambda_l1=8.60641569311367e-08\n",
      "[LightGBM] [Warning] bagging_fraction is set=0.7206101618483481, subsample=1.0 will be ignored. Current value: bagging_fraction=0.7206101618483481\n",
      "[LightGBM] [Warning] feature_fraction is set=0.43358204520398036, colsample_bytree=1.0 will be ignored. Current value: feature_fraction=0.43358204520398036\n",
      "[LightGBM] [Warning] lambda_l2 is set=0.0005759846961227872, reg_lambda=0.0 will be ignored. Current value: lambda_l2=0.0005759846961227872\n"
     ]
    },
    {
     "name": "stderr",
     "output_type": "stream",
     "text": [
      "\u001b[32m[I 2023-01-31 22:21:15,196]\u001b[0m Trial 26 finished with value: 2.1669911534151844 and parameters: {'feature_fraction': 0.43358204520398036, 'num_leaves': 137, 'bagging_fraction': 0.7206101618483481, 'lambda_l1': 8.60641569311367e-08, 'lambda_l2': 0.0005759846961227872, 'n_estimators': 243, 'max_depth': 3}. Best is trial 26 with value: 2.1669911534151844.\u001b[0m\n"
     ]
    },
    {
     "name": "stdout",
     "output_type": "stream",
     "text": [
      "[LightGBM] [Warning] lambda_l1 is set=2.824814853999103e-07, reg_alpha=0.0 will be ignored. Current value: lambda_l1=2.824814853999103e-07\n",
      "[LightGBM] [Warning] bagging_fraction is set=0.7200750787865646, subsample=1.0 will be ignored. Current value: bagging_fraction=0.7200750787865646\n",
      "[LightGBM] [Warning] feature_fraction is set=0.42724370136617784, colsample_bytree=1.0 will be ignored. Current value: feature_fraction=0.42724370136617784\n",
      "[LightGBM] [Warning] lambda_l2 is set=0.00023642801592487807, reg_lambda=0.0 will be ignored. Current value: lambda_l2=0.00023642801592487807\n"
     ]
    },
    {
     "name": "stderr",
     "output_type": "stream",
     "text": [
      "\u001b[32m[I 2023-01-31 22:21:16,319]\u001b[0m Trial 27 finished with value: 2.2302716239385285 and parameters: {'feature_fraction': 0.42724370136617784, 'num_leaves': 137, 'bagging_fraction': 0.7200750787865646, 'lambda_l1': 2.824814853999103e-07, 'lambda_l2': 0.00023642801592487807, 'n_estimators': 137, 'max_depth': 4}. Best is trial 26 with value: 2.1669911534151844.\u001b[0m\n"
     ]
    },
    {
     "name": "stdout",
     "output_type": "stream",
     "text": [
      "[LightGBM] [Warning] lambda_l1 is set=1.4243954575500328e-07, reg_alpha=0.0 will be ignored. Current value: lambda_l1=1.4243954575500328e-07\n",
      "[LightGBM] [Warning] bagging_fraction is set=0.624258441669555, subsample=1.0 will be ignored. Current value: bagging_fraction=0.624258441669555\n",
      "[LightGBM] [Warning] feature_fraction is set=0.2774408878337792, colsample_bytree=1.0 will be ignored. Current value: feature_fraction=0.2774408878337792\n",
      "[LightGBM] [Warning] lambda_l2 is set=0.0010682542476310186, reg_lambda=0.0 will be ignored. Current value: lambda_l2=0.0010682542476310186\n"
     ]
    },
    {
     "name": "stderr",
     "output_type": "stream",
     "text": [
      "\u001b[32m[I 2023-01-31 22:21:17,214]\u001b[0m Trial 28 finished with value: 2.2186254024181 and parameters: {'feature_fraction': 0.2774408878337792, 'num_leaves': 163, 'bagging_fraction': 0.624258441669555, 'lambda_l1': 1.4243954575500328e-07, 'lambda_l2': 0.0010682542476310186, 'n_estimators': 196, 'max_depth': 3}. Best is trial 26 with value: 2.1669911534151844.\u001b[0m\n"
     ]
    },
    {
     "name": "stdout",
     "output_type": "stream",
     "text": [
      "[LightGBM] [Warning] lambda_l1 is set=6.263449513500064e-08, reg_alpha=0.0 will be ignored. Current value: lambda_l1=6.263449513500064e-08\n",
      "[LightGBM] [Warning] bagging_fraction is set=0.7523313843239432, subsample=1.0 will be ignored. Current value: bagging_fraction=0.7523313843239432\n",
      "[LightGBM] [Warning] feature_fraction is set=0.40519611781100173, colsample_bytree=1.0 will be ignored. Current value: feature_fraction=0.40519611781100173\n",
      "[LightGBM] [Warning] lambda_l2 is set=5.559588846444375e-06, reg_lambda=0.0 will be ignored. Current value: lambda_l2=5.559588846444375e-06\n"
     ]
    },
    {
     "name": "stderr",
     "output_type": "stream",
     "text": [
      "\u001b[32m[I 2023-01-31 22:21:18,209]\u001b[0m Trial 29 finished with value: 2.2063042187808346 and parameters: {'feature_fraction': 0.40519611781100173, 'num_leaves': 226, 'bagging_fraction': 0.7523313843239432, 'lambda_l1': 6.263449513500064e-08, 'lambda_l2': 5.559588846444375e-06, 'n_estimators': 268, 'max_depth': 2}. Best is trial 26 with value: 2.1669911534151844.\u001b[0m\n"
     ]
    },
    {
     "name": "stdout",
     "output_type": "stream",
     "text": [
      "[LightGBM] [Warning] lambda_l1 is set=0.00019154415757894483, reg_alpha=0.0 will be ignored. Current value: lambda_l1=0.00019154415757894483\n",
      "[LightGBM] [Warning] bagging_fraction is set=0.7000909022077737, subsample=1.0 will be ignored. Current value: bagging_fraction=0.7000909022077737\n",
      "[LightGBM] [Warning] feature_fraction is set=0.5220472627487514, colsample_bytree=1.0 will be ignored. Current value: feature_fraction=0.5220472627487514\n",
      "[LightGBM] [Warning] lambda_l2 is set=0.0003243453231697705, reg_lambda=0.0 will be ignored. Current value: lambda_l2=0.0003243453231697705\n"
     ]
    },
    {
     "name": "stderr",
     "output_type": "stream",
     "text": [
      "\u001b[32m[I 2023-01-31 22:21:19,061]\u001b[0m Trial 30 finished with value: 2.203859590247073 and parameters: {'feature_fraction': 0.5220472627487514, 'num_leaves': 181, 'bagging_fraction': 0.7000909022077737, 'lambda_l1': 0.00019154415757894483, 'lambda_l2': 0.0003243453231697705, 'n_estimators': 163, 'max_depth': 2}. Best is trial 26 with value: 2.1669911534151844.\u001b[0m\n"
     ]
    },
    {
     "name": "stdout",
     "output_type": "stream",
     "text": [
      "[LightGBM] [Warning] lambda_l1 is set=1.1704395468901325e-06, reg_alpha=0.0 will be ignored. Current value: lambda_l1=1.1704395468901325e-06\n",
      "[LightGBM] [Warning] bagging_fraction is set=0.6460737194880147, subsample=1.0 will be ignored. Current value: bagging_fraction=0.6460737194880147\n",
      "[LightGBM] [Warning] feature_fraction is set=0.4354215960238237, colsample_bytree=1.0 will be ignored. Current value: feature_fraction=0.4354215960238237\n",
      "[LightGBM] [Warning] lambda_l2 is set=0.00846090207719939, reg_lambda=0.0 will be ignored. Current value: lambda_l2=0.00846090207719939\n"
     ]
    },
    {
     "name": "stderr",
     "output_type": "stream",
     "text": [
      "\u001b[32m[I 2023-01-31 22:21:20,304]\u001b[0m Trial 31 finished with value: 2.166644108736241 and parameters: {'feature_fraction': 0.4354215960238237, 'num_leaves': 135, 'bagging_fraction': 0.6460737194880147, 'lambda_l1': 1.1704395468901325e-06, 'lambda_l2': 0.00846090207719939, 'n_estimators': 240, 'max_depth': 3}. Best is trial 31 with value: 2.166644108736241.\u001b[0m\n"
     ]
    },
    {
     "name": "stdout",
     "output_type": "stream",
     "text": [
      "[LightGBM] [Warning] lambda_l1 is set=5.843487965345146e-07, reg_alpha=0.0 will be ignored. Current value: lambda_l1=5.843487965345146e-07\n",
      "[LightGBM] [Warning] bagging_fraction is set=0.6496901104987606, subsample=1.0 will be ignored. Current value: bagging_fraction=0.6496901104987606\n",
      "[LightGBM] [Warning] feature_fraction is set=0.45022019873451086, colsample_bytree=1.0 will be ignored. Current value: feature_fraction=0.45022019873451086\n",
      "[LightGBM] [Warning] lambda_l2 is set=0.002408201665503749, reg_lambda=0.0 will be ignored. Current value: lambda_l2=0.002408201665503749\n"
     ]
    },
    {
     "name": "stderr",
     "output_type": "stream",
     "text": [
      "\u001b[32m[I 2023-01-31 22:21:21,554]\u001b[0m Trial 32 finished with value: 2.1699051205769675 and parameters: {'feature_fraction': 0.45022019873451086, 'num_leaves': 136, 'bagging_fraction': 0.6496901104987606, 'lambda_l1': 5.843487965345146e-07, 'lambda_l2': 0.002408201665503749, 'n_estimators': 239, 'max_depth': 3}. Best is trial 31 with value: 2.166644108736241.\u001b[0m\n"
     ]
    },
    {
     "name": "stdout",
     "output_type": "stream",
     "text": [
      "[LightGBM] [Warning] lambda_l1 is set=5.040248749730115e-08, reg_alpha=0.0 will be ignored. Current value: lambda_l1=5.040248749730115e-08\n",
      "[LightGBM] [Warning] bagging_fraction is set=0.5995975964424655, subsample=1.0 will be ignored. Current value: bagging_fraction=0.5995975964424655\n",
      "[LightGBM] [Warning] feature_fraction is set=0.41441252642410276, colsample_bytree=1.0 will be ignored. Current value: feature_fraction=0.41441252642410276\n",
      "[LightGBM] [Warning] lambda_l2 is set=0.03380304520498747, reg_lambda=0.0 will be ignored. Current value: lambda_l2=0.03380304520498747\n"
     ]
    },
    {
     "name": "stderr",
     "output_type": "stream",
     "text": [
      "\u001b[32m[I 2023-01-31 22:21:22,760]\u001b[0m Trial 33 finished with value: 2.1505521351670147 and parameters: {'feature_fraction': 0.41441252642410276, 'num_leaves': 139, 'bagging_fraction': 0.5995975964424655, 'lambda_l1': 5.040248749730115e-08, 'lambda_l2': 0.03380304520498747, 'n_estimators': 237, 'max_depth': 3}. Best is trial 33 with value: 2.1505521351670147.\u001b[0m\n"
     ]
    },
    {
     "name": "stdout",
     "output_type": "stream",
     "text": [
      "[LightGBM] [Warning] lambda_l1 is set=4.4822492243308335e-08, reg_alpha=0.0 will be ignored. Current value: lambda_l1=4.4822492243308335e-08\n",
      "[LightGBM] [Warning] bagging_fraction is set=0.639019257001695, subsample=1.0 will be ignored. Current value: bagging_fraction=0.639019257001695\n",
      "[LightGBM] [Warning] feature_fraction is set=0.33159546667186307, colsample_bytree=1.0 will be ignored. Current value: feature_fraction=0.33159546667186307\n",
      "[LightGBM] [Warning] lambda_l2 is set=0.006279190009599302, reg_lambda=0.0 will be ignored. Current value: lambda_l2=0.006279190009599302\n"
     ]
    },
    {
     "name": "stderr",
     "output_type": "stream",
     "text": [
      "\u001b[32m[I 2023-01-31 22:21:24,114]\u001b[0m Trial 34 finished with value: 2.246765349151495 and parameters: {'feature_fraction': 0.33159546667186307, 'num_leaves': 140, 'bagging_fraction': 0.639019257001695, 'lambda_l1': 4.4822492243308335e-08, 'lambda_l2': 0.006279190009599302, 'n_estimators': 229, 'max_depth': 4}. Best is trial 33 with value: 2.1505521351670147.\u001b[0m\n"
     ]
    },
    {
     "name": "stdout",
     "output_type": "stream",
     "text": [
      "[LightGBM] [Warning] lambda_l1 is set=6.274832202059582e-08, reg_alpha=0.0 will be ignored. Current value: lambda_l1=6.274832202059582e-08\n",
      "[LightGBM] [Warning] bagging_fraction is set=0.5581914144502795, subsample=1.0 will be ignored. Current value: bagging_fraction=0.5581914144502795\n",
      "[LightGBM] [Warning] feature_fraction is set=0.4154914779865069, colsample_bytree=1.0 will be ignored. Current value: feature_fraction=0.4154914779865069\n",
      "[LightGBM] [Warning] lambda_l2 is set=0.7240246171179443, reg_lambda=0.0 will be ignored. Current value: lambda_l2=0.7240246171179443\n"
     ]
    },
    {
     "name": "stderr",
     "output_type": "stream",
     "text": [
      "\u001b[32m[I 2023-01-31 22:21:25,431]\u001b[0m Trial 35 finished with value: 2.151565634512285 and parameters: {'feature_fraction': 0.4154914779865069, 'num_leaves': 160, 'bagging_fraction': 0.5581914144502795, 'lambda_l1': 6.274832202059582e-08, 'lambda_l2': 0.7240246171179443, 'n_estimators': 268, 'max_depth': 3}. Best is trial 33 with value: 2.1505521351670147.\u001b[0m\n"
     ]
    },
    {
     "name": "stdout",
     "output_type": "stream",
     "text": [
      "[LightGBM] [Warning] lambda_l1 is set=4.467898796654959e-08, reg_alpha=0.0 will be ignored. Current value: lambda_l1=4.467898796654959e-08\n",
      "[LightGBM] [Warning] bagging_fraction is set=0.5711290992866499, subsample=1.0 will be ignored. Current value: bagging_fraction=0.5711290992866499\n",
      "[LightGBM] [Warning] feature_fraction is set=0.397372177819184, colsample_bytree=1.0 will be ignored. Current value: feature_fraction=0.397372177819184\n",
      "[LightGBM] [Warning] lambda_l2 is set=0.5729669188912583, reg_lambda=0.0 will be ignored. Current value: lambda_l2=0.5729669188912583\n"
     ]
    },
    {
     "name": "stderr",
     "output_type": "stream",
     "text": [
      "\u001b[32m[I 2023-01-31 22:21:27,108]\u001b[0m Trial 36 finished with value: 2.2290334548984405 and parameters: {'feature_fraction': 0.397372177819184, 'num_leaves': 160, 'bagging_fraction': 0.5711290992866499, 'lambda_l1': 4.467898796654959e-08, 'lambda_l2': 0.5729669188912583, 'n_estimators': 265, 'max_depth': 4}. Best is trial 33 with value: 2.1505521351670147.\u001b[0m\n"
     ]
    },
    {
     "name": "stdout",
     "output_type": "stream",
     "text": [
      "[LightGBM] [Warning] lambda_l1 is set=6.910102386033689e-08, reg_alpha=0.0 will be ignored. Current value: lambda_l1=6.910102386033689e-08\n",
      "[LightGBM] [Warning] bagging_fraction is set=0.5852680697728326, subsample=1.0 will be ignored. Current value: bagging_fraction=0.5852680697728326\n",
      "[LightGBM] [Warning] feature_fraction is set=0.25481047377456656, colsample_bytree=1.0 will be ignored. Current value: feature_fraction=0.25481047377456656\n",
      "[LightGBM] [Warning] lambda_l2 is set=1.3657420558196576, reg_lambda=0.0 will be ignored. Current value: lambda_l2=1.3657420558196576\n"
     ]
    },
    {
     "name": "stderr",
     "output_type": "stream",
     "text": [
      "\u001b[32m[I 2023-01-31 22:21:27,978]\u001b[0m Trial 37 finished with value: 2.2287937978074845 and parameters: {'feature_fraction': 0.25481047377456656, 'num_leaves': 94, 'bagging_fraction': 0.5852680697728326, 'lambda_l1': 6.910102386033689e-08, 'lambda_l2': 1.3657420558196576, 'n_estimators': 284, 'max_depth': 2}. Best is trial 33 with value: 2.1505521351670147.\u001b[0m\n"
     ]
    },
    {
     "name": "stdout",
     "output_type": "stream",
     "text": [
      "[LightGBM] [Warning] lambda_l1 is set=1.4154257294988802e-08, reg_alpha=0.0 will be ignored. Current value: lambda_l1=1.4154257294988802e-08\n",
      "[LightGBM] [Warning] bagging_fraction is set=0.5284618710402076, subsample=1.0 will be ignored. Current value: bagging_fraction=0.5284618710402076\n",
      "[LightGBM] [Warning] feature_fraction is set=0.3294698207272665, colsample_bytree=1.0 will be ignored. Current value: feature_fraction=0.3294698207272665\n",
      "[LightGBM] [Warning] lambda_l2 is set=2.4379991540247934, reg_lambda=0.0 will be ignored. Current value: lambda_l2=2.4379991540247934\n"
     ]
    },
    {
     "name": "stderr",
     "output_type": "stream",
     "text": [
      "\u001b[32m[I 2023-01-31 22:21:29,609]\u001b[0m Trial 38 finished with value: 2.2410949586338473 and parameters: {'feature_fraction': 0.3294698207272665, 'num_leaves': 155, 'bagging_fraction': 0.5284618710402076, 'lambda_l1': 1.4154257294988802e-08, 'lambda_l2': 2.4379991540247934, 'n_estimators': 294, 'max_depth': 4}. Best is trial 33 with value: 2.1505521351670147.\u001b[0m\n"
     ]
    },
    {
     "name": "stdout",
     "output_type": "stream",
     "text": [
      "[LightGBM] [Warning] lambda_l1 is set=6.245795483634494e-07, reg_alpha=0.0 will be ignored. Current value: lambda_l1=6.245795483634494e-07\n",
      "[LightGBM] [Warning] bagging_fraction is set=0.4885535392722035, subsample=1.0 will be ignored. Current value: bagging_fraction=0.4885535392722035\n",
      "[LightGBM] [Warning] feature_fraction is set=0.4198535815051106, colsample_bytree=1.0 will be ignored. Current value: feature_fraction=0.4198535815051106\n",
      "[LightGBM] [Warning] lambda_l2 is set=0.09164834107547112, reg_lambda=0.0 will be ignored. Current value: lambda_l2=0.09164834107547112\n"
     ]
    },
    {
     "name": "stderr",
     "output_type": "stream",
     "text": [
      "\u001b[32m[I 2023-01-31 22:21:30,809]\u001b[0m Trial 39 finished with value: 2.1606472640106316 and parameters: {'feature_fraction': 0.4198535815051106, 'num_leaves': 6, 'bagging_fraction': 0.4885535392722035, 'lambda_l1': 6.245795483634494e-07, 'lambda_l2': 0.09164834107547112, 'n_estimators': 256, 'max_depth': 3}. Best is trial 33 with value: 2.1505521351670147.\u001b[0m\n"
     ]
    },
    {
     "name": "stdout",
     "output_type": "stream",
     "text": [
      "[LightGBM] [Warning] lambda_l1 is set=7.463926464766053e-07, reg_alpha=0.0 will be ignored. Current value: lambda_l1=7.463926464766053e-07\n",
      "[LightGBM] [Warning] bagging_fraction is set=0.4806855006138103, subsample=1.0 will be ignored. Current value: bagging_fraction=0.4806855006138103\n",
      "[LightGBM] [Warning] feature_fraction is set=0.20847702078555108, colsample_bytree=1.0 will be ignored. Current value: feature_fraction=0.20847702078555108\n",
      "[LightGBM] [Warning] lambda_l2 is set=0.18408483064953368, reg_lambda=0.0 will be ignored. Current value: lambda_l2=0.18408483064953368\n"
     ]
    },
    {
     "name": "stderr",
     "output_type": "stream",
     "text": [
      "\u001b[32m[I 2023-01-31 22:21:31,951]\u001b[0m Trial 40 finished with value: 2.2807623360191465 and parameters: {'feature_fraction': 0.20847702078555108, 'num_leaves': 10, 'bagging_fraction': 0.4806855006138103, 'lambda_l1': 7.463926464766053e-07, 'lambda_l2': 0.18408483064953368, 'n_estimators': 277, 'max_depth': 4}. Best is trial 33 with value: 2.1505521351670147.\u001b[0m\n"
     ]
    },
    {
     "name": "stdout",
     "output_type": "stream",
     "text": [
      "[LightGBM] [Warning] lambda_l1 is set=9.032350130356827e-08, reg_alpha=0.0 will be ignored. Current value: lambda_l1=9.032350130356827e-08\n",
      "[LightGBM] [Warning] bagging_fraction is set=0.4882326511711042, subsample=1.0 will be ignored. Current value: bagging_fraction=0.4882326511711042\n",
      "[LightGBM] [Warning] feature_fraction is set=0.41915971558768894, colsample_bytree=1.0 will be ignored. Current value: feature_fraction=0.41915971558768894\n",
      "[LightGBM] [Warning] lambda_l2 is set=0.07051884933465417, reg_lambda=0.0 will be ignored. Current value: lambda_l2=0.07051884933465417\n"
     ]
    },
    {
     "name": "stderr",
     "output_type": "stream",
     "text": [
      "\u001b[32m[I 2023-01-31 22:21:33,204]\u001b[0m Trial 41 finished with value: 2.1547011485592864 and parameters: {'feature_fraction': 0.41915971558768894, 'num_leaves': 38, 'bagging_fraction': 0.4882326511711042, 'lambda_l1': 9.032350130356827e-08, 'lambda_l2': 0.07051884933465417, 'n_estimators': 252, 'max_depth': 3}. Best is trial 33 with value: 2.1505521351670147.\u001b[0m\n"
     ]
    },
    {
     "name": "stdout",
     "output_type": "stream",
     "text": [
      "[LightGBM] [Warning] lambda_l1 is set=2.2845871561345815e-07, reg_alpha=0.0 will be ignored. Current value: lambda_l1=2.2845871561345815e-07\n",
      "[LightGBM] [Warning] bagging_fraction is set=0.4816490700058229, subsample=1.0 will be ignored. Current value: bagging_fraction=0.4816490700058229\n",
      "[LightGBM] [Warning] feature_fraction is set=0.3828207422189281, colsample_bytree=1.0 will be ignored. Current value: feature_fraction=0.3828207422189281\n",
      "[LightGBM] [Warning] lambda_l2 is set=0.0604157858089957, reg_lambda=0.0 will be ignored. Current value: lambda_l2=0.0604157858089957\n"
     ]
    },
    {
     "name": "stderr",
     "output_type": "stream",
     "text": [
      "\u001b[32m[I 2023-01-31 22:21:34,338]\u001b[0m Trial 42 finished with value: 2.1766053818679563 and parameters: {'feature_fraction': 0.3828207422189281, 'num_leaves': 28, 'bagging_fraction': 0.4816490700058229, 'lambda_l1': 2.2845871561345815e-07, 'lambda_l2': 0.0604157858089957, 'n_estimators': 226, 'max_depth': 3}. Best is trial 33 with value: 2.1505521351670147.\u001b[0m\n"
     ]
    },
    {
     "name": "stdout",
     "output_type": "stream",
     "text": [
      "[LightGBM] [Warning] lambda_l1 is set=3.381230618111153e-08, reg_alpha=0.0 will be ignored. Current value: lambda_l1=3.381230618111153e-08\n",
      "[LightGBM] [Warning] bagging_fraction is set=0.407356102943389, subsample=1.0 will be ignored. Current value: bagging_fraction=0.407356102943389\n",
      "[LightGBM] [Warning] feature_fraction is set=0.34051238048599725, colsample_bytree=1.0 will be ignored. Current value: feature_fraction=0.34051238048599725\n",
      "[LightGBM] [Warning] lambda_l2 is set=0.2878209853667225, reg_lambda=0.0 will be ignored. Current value: lambda_l2=0.2878209853667225\n"
     ]
    },
    {
     "name": "stderr",
     "output_type": "stream",
     "text": [
      "\u001b[32m[I 2023-01-31 22:21:35,493]\u001b[0m Trial 43 finished with value: 2.2039627630250087 and parameters: {'feature_fraction': 0.34051238048599725, 'num_leaves': 31, 'bagging_fraction': 0.407356102943389, 'lambda_l1': 3.381230618111153e-08, 'lambda_l2': 0.2878209853667225, 'n_estimators': 258, 'max_depth': 3}. Best is trial 33 with value: 2.1505521351670147.\u001b[0m\n"
     ]
    },
    {
     "name": "stdout",
     "output_type": "stream",
     "text": [
      "[LightGBM] [Warning] lambda_l1 is set=7.313393039494772e-07, reg_alpha=0.0 will be ignored. Current value: lambda_l1=7.313393039494772e-07\n",
      "[LightGBM] [Warning] bagging_fraction is set=0.5401874959819339, subsample=1.0 will be ignored. Current value: bagging_fraction=0.5401874959819339\n",
      "[LightGBM] [Warning] feature_fraction is set=0.42669122905726053, colsample_bytree=1.0 will be ignored. Current value: feature_fraction=0.42669122905726053\n",
      "[LightGBM] [Warning] lambda_l2 is set=0.0918345401694746, reg_lambda=0.0 will be ignored. Current value: lambda_l2=0.0918345401694746\n"
     ]
    },
    {
     "name": "stderr",
     "output_type": "stream",
     "text": [
      "\u001b[32m[I 2023-01-31 22:21:36,604]\u001b[0m Trial 44 finished with value: 2.1763611625575296 and parameters: {'feature_fraction': 0.42669122905726053, 'num_leaves': 57, 'bagging_fraction': 0.5401874959819339, 'lambda_l1': 7.313393039494772e-07, 'lambda_l2': 0.0918345401694746, 'n_estimators': 201, 'max_depth': 3}. Best is trial 33 with value: 2.1505521351670147.\u001b[0m\n"
     ]
    },
    {
     "name": "stdout",
     "output_type": "stream",
     "text": [
      "[LightGBM] [Warning] lambda_l1 is set=1.6732556284066045e-07, reg_alpha=0.0 will be ignored. Current value: lambda_l1=1.6732556284066045e-07\n",
      "[LightGBM] [Warning] bagging_fraction is set=0.4422044188039167, subsample=1.0 will be ignored. Current value: bagging_fraction=0.4422044188039167\n",
      "[LightGBM] [Warning] feature_fraction is set=0.3782444147929103, colsample_bytree=1.0 will be ignored. Current value: feature_fraction=0.3782444147929103\n",
      "[LightGBM] [Warning] lambda_l2 is set=0.567256486316274, reg_lambda=0.0 will be ignored. Current value: lambda_l2=0.567256486316274\n"
     ]
    },
    {
     "name": "stderr",
     "output_type": "stream",
     "text": [
      "\u001b[32m[I 2023-01-31 22:21:37,347]\u001b[0m Trial 45 finished with value: 2.2847552381327056 and parameters: {'feature_fraction': 0.3782444147929103, 'num_leaves': 2, 'bagging_fraction': 0.4422044188039167, 'lambda_l1': 1.6732556284066045e-07, 'lambda_l2': 0.567256486316274, 'n_estimators': 255, 'max_depth': 4}. Best is trial 33 with value: 2.1505521351670147.\u001b[0m\n"
     ]
    },
    {
     "name": "stdout",
     "output_type": "stream",
     "text": [
      "[LightGBM] [Warning] lambda_l1 is set=2.407838506084373e-08, reg_alpha=0.0 will be ignored. Current value: lambda_l1=2.407838506084373e-08\n",
      "[LightGBM] [Warning] bagging_fraction is set=0.49987425988477013, subsample=1.0 will be ignored. Current value: bagging_fraction=0.49987425988477013\n",
      "[LightGBM] [Warning] feature_fraction is set=0.2430808642829482, colsample_bytree=1.0 will be ignored. Current value: feature_fraction=0.2430808642829482\n",
      "[LightGBM] [Warning] lambda_l2 is set=3.837792699016645, reg_lambda=0.0 will be ignored. Current value: lambda_l2=3.837792699016645\n"
     ]
    },
    {
     "name": "stderr",
     "output_type": "stream",
     "text": [
      "\u001b[32m[I 2023-01-31 22:21:38,204]\u001b[0m Trial 46 finished with value: 2.2390488193459195 and parameters: {'feature_fraction': 0.2430808642829482, 'num_leaves': 27, 'bagging_fraction': 0.49987425988477013, 'lambda_l1': 2.407838506084373e-08, 'lambda_l2': 3.837792699016645, 'n_estimators': 284, 'max_depth': 2}. Best is trial 33 with value: 2.1505521351670147.\u001b[0m\n"
     ]
    },
    {
     "name": "stdout",
     "output_type": "stream",
     "text": [
      "[LightGBM] [Warning] lambda_l1 is set=1.2916422014167447e-08, reg_alpha=0.0 will be ignored. Current value: lambda_l1=1.2916422014167447e-08\n",
      "[LightGBM] [Warning] bagging_fraction is set=0.550318885625241, subsample=1.0 will be ignored. Current value: bagging_fraction=0.550318885625241\n",
      "[LightGBM] [Warning] feature_fraction is set=0.29595632737613264, colsample_bytree=1.0 will be ignored. Current value: feature_fraction=0.29595632737613264\n",
      "[LightGBM] [Warning] lambda_l2 is set=0.17995263936675981, reg_lambda=0.0 will be ignored. Current value: lambda_l2=0.17995263936675981\n"
     ]
    },
    {
     "name": "stderr",
     "output_type": "stream",
     "text": [
      "\u001b[32m[I 2023-01-31 22:21:39,852]\u001b[0m Trial 47 finished with value: 2.241177430361154 and parameters: {'feature_fraction': 0.29595632737613264, 'num_leaves': 58, 'bagging_fraction': 0.550318885625241, 'lambda_l1': 1.2916422014167447e-08, 'lambda_l2': 0.17995263936675981, 'n_estimators': 221, 'max_depth': 5}. Best is trial 33 with value: 2.1505521351670147.\u001b[0m\n"
     ]
    },
    {
     "name": "stdout",
     "output_type": "stream",
     "text": [
      "[LightGBM] [Warning] lambda_l1 is set=1.1043213088555912e-07, reg_alpha=0.0 will be ignored. Current value: lambda_l1=1.1043213088555912e-07\n",
      "[LightGBM] [Warning] bagging_fraction is set=0.462667497358049, subsample=1.0 will be ignored. Current value: bagging_fraction=0.462667497358049\n",
      "[LightGBM] [Warning] feature_fraction is set=0.4543632259190948, colsample_bytree=1.0 will be ignored. Current value: feature_fraction=0.4543632259190948\n",
      "[LightGBM] [Warning] lambda_l2 is set=0.06744033898880784, reg_lambda=0.0 will be ignored. Current value: lambda_l2=0.06744033898880784\n"
     ]
    },
    {
     "name": "stderr",
     "output_type": "stream",
     "text": [
      "\u001b[32m[I 2023-01-31 22:21:41,211]\u001b[0m Trial 48 finished with value: 2.1655132635008645 and parameters: {'feature_fraction': 0.4543632259190948, 'num_leaves': 36, 'bagging_fraction': 0.462667497358049, 'lambda_l1': 1.1043213088555912e-07, 'lambda_l2': 0.06744033898880784, 'n_estimators': 264, 'max_depth': 3}. Best is trial 33 with value: 2.1505521351670147.\u001b[0m\n"
     ]
    },
    {
     "name": "stdout",
     "output_type": "stream",
     "text": [
      "[LightGBM] [Warning] lambda_l1 is set=1.107870588104353e-07, reg_alpha=0.0 will be ignored. Current value: lambda_l1=1.107870588104353e-07\n",
      "[LightGBM] [Warning] bagging_fraction is set=0.46059231275876517, subsample=1.0 will be ignored. Current value: bagging_fraction=0.46059231275876517\n",
      "[LightGBM] [Warning] feature_fraction is set=0.5307244122306518, colsample_bytree=1.0 will be ignored. Current value: feature_fraction=0.5307244122306518\n",
      "[LightGBM] [Warning] lambda_l2 is set=1.0885814840643888, reg_lambda=0.0 will be ignored. Current value: lambda_l2=1.0885814840643888\n"
     ]
    },
    {
     "name": "stderr",
     "output_type": "stream",
     "text": [
      "\u001b[32m[I 2023-01-31 22:21:42,725]\u001b[0m Trial 49 finished with value: 2.177290563963371 and parameters: {'feature_fraction': 0.5307244122306518, 'num_leaves': 37, 'bagging_fraction': 0.46059231275876517, 'lambda_l1': 1.107870588104353e-07, 'lambda_l2': 1.0885814840643888, 'n_estimators': 269, 'max_depth': 3}. Best is trial 33 with value: 2.1505521351670147.\u001b[0m\n"
     ]
    },
    {
     "name": "stdout",
     "output_type": "stream",
     "text": [
      "[LightGBM] [Warning] lambda_l1 is set=2.4161960703925436e-08, reg_alpha=0.0 will be ignored. Current value: lambda_l1=2.4161960703925436e-08\n",
      "[LightGBM] [Warning] bagging_fraction is set=0.4873540100200358, subsample=1.0 will be ignored. Current value: bagging_fraction=0.4873540100200358\n",
      "[LightGBM] [Warning] feature_fraction is set=0.3546307486960134, colsample_bytree=1.0 will be ignored. Current value: feature_fraction=0.3546307486960134\n",
      "[LightGBM] [Warning] lambda_l2 is set=5.571428262580436, reg_lambda=0.0 will be ignored. Current value: lambda_l2=5.571428262580436\n"
     ]
    },
    {
     "name": "stderr",
     "output_type": "stream",
     "text": [
      "\u001b[32m[I 2023-01-31 22:21:43,697]\u001b[0m Trial 50 finished with value: 2.220577225661859 and parameters: {'feature_fraction': 0.3546307486960134, 'num_leaves': 70, 'bagging_fraction': 0.4873540100200358, 'lambda_l1': 2.4161960703925436e-08, 'lambda_l2': 5.571428262580436, 'n_estimators': 280, 'max_depth': 2}. Best is trial 33 with value: 2.1505521351670147.\u001b[0m\n"
     ]
    },
    {
     "name": "stdout",
     "output_type": "stream",
     "text": [
      "[LightGBM] [Warning] lambda_l1 is set=1.0610016269805385e-06, reg_alpha=0.0 will be ignored. Current value: lambda_l1=1.0610016269805385e-06\n",
      "[LightGBM] [Warning] bagging_fraction is set=0.5118459188219329, subsample=1.0 will be ignored. Current value: bagging_fraction=0.5118459188219329\n",
      "[LightGBM] [Warning] feature_fraction is set=0.4507300408737786, colsample_bytree=1.0 will be ignored. Current value: feature_fraction=0.4507300408737786\n",
      "[LightGBM] [Warning] lambda_l2 is set=0.06015674059134317, reg_lambda=0.0 will be ignored. Current value: lambda_l2=0.06015674059134317\n"
     ]
    },
    {
     "name": "stderr",
     "output_type": "stream",
     "text": [
      "\u001b[32m[I 2023-01-31 22:21:44,943]\u001b[0m Trial 51 finished with value: 2.1726245110717164 and parameters: {'feature_fraction': 0.4507300408737786, 'num_leaves': 15, 'bagging_fraction': 0.5118459188219329, 'lambda_l1': 1.0610016269805385e-06, 'lambda_l2': 0.06015674059134317, 'n_estimators': 236, 'max_depth': 3}. Best is trial 33 with value: 2.1505521351670147.\u001b[0m\n"
     ]
    },
    {
     "name": "stdout",
     "output_type": "stream",
     "text": [
      "[LightGBM] [Warning] lambda_l1 is set=3.4769817909383556e-07, reg_alpha=0.0 will be ignored. Current value: lambda_l1=3.4769817909383556e-07\n",
      "[LightGBM] [Warning] bagging_fraction is set=0.4621568301932336, subsample=1.0 will be ignored. Current value: bagging_fraction=0.4621568301932336\n",
      "[LightGBM] [Warning] feature_fraction is set=0.42276938932979524, colsample_bytree=1.0 will be ignored. Current value: feature_fraction=0.42276938932979524\n",
      "[LightGBM] [Warning] lambda_l2 is set=0.021275058042235322, reg_lambda=0.0 will be ignored. Current value: lambda_l2=0.021275058042235322\n"
     ]
    },
    {
     "name": "stderr",
     "output_type": "stream",
     "text": [
      "\u001b[32m[I 2023-01-31 22:21:46,200]\u001b[0m Trial 52 finished with value: 2.187463627728427 and parameters: {'feature_fraction': 0.42276938932979524, 'num_leaves': 18, 'bagging_fraction': 0.4621568301932336, 'lambda_l1': 3.4769817909383556e-07, 'lambda_l2': 0.021275058042235322, 'n_estimators': 250, 'max_depth': 3}. Best is trial 33 with value: 2.1505521351670147.\u001b[0m\n"
     ]
    },
    {
     "name": "stdout",
     "output_type": "stream",
     "text": [
      "[LightGBM] [Warning] lambda_l1 is set=1.3199539400080636e-07, reg_alpha=0.0 will be ignored. Current value: lambda_l1=1.3199539400080636e-07\n",
      "[LightGBM] [Warning] bagging_fraction is set=0.5433923608791037, subsample=1.0 will be ignored. Current value: bagging_fraction=0.5433923608791037\n",
      "[LightGBM] [Warning] feature_fraction is set=0.39489761316437794, colsample_bytree=1.0 will be ignored. Current value: feature_fraction=0.39489761316437794\n",
      "[LightGBM] [Warning] lambda_l2 is set=0.13821744991519616, reg_lambda=0.0 will be ignored. Current value: lambda_l2=0.13821744991519616\n"
     ]
    },
    {
     "name": "stderr",
     "output_type": "stream",
     "text": [
      "\u001b[32m[I 2023-01-31 22:21:47,468]\u001b[0m Trial 53 finished with value: 2.172308402950534 and parameters: {'feature_fraction': 0.39489761316437794, 'num_leaves': 41, 'bagging_fraction': 0.5433923608791037, 'lambda_l1': 1.3199539400080636e-07, 'lambda_l2': 0.13821744991519616, 'n_estimators': 263, 'max_depth': 3}. Best is trial 33 with value: 2.1505521351670147.\u001b[0m\n"
     ]
    },
    {
     "name": "stdout",
     "output_type": "stream",
     "text": [
      "[LightGBM] [Warning] lambda_l1 is set=3.673679320224029e-07, reg_alpha=0.0 will be ignored. Current value: lambda_l1=3.673679320224029e-07\n",
      "[LightGBM] [Warning] bagging_fraction is set=0.4314257768315956, subsample=1.0 will be ignored. Current value: bagging_fraction=0.4314257768315956\n",
      "[LightGBM] [Warning] feature_fraction is set=0.4755737164946431, colsample_bytree=1.0 will be ignored. Current value: feature_fraction=0.4755737164946431\n",
      "[LightGBM] [Warning] lambda_l2 is set=0.00998390521309746, reg_lambda=0.0 will be ignored. Current value: lambda_l2=0.00998390521309746\n"
     ]
    },
    {
     "name": "stderr",
     "output_type": "stream",
     "text": [
      "\u001b[32m[I 2023-01-31 22:21:48,653]\u001b[0m Trial 54 finished with value: 2.181439519727284 and parameters: {'feature_fraction': 0.4755737164946431, 'num_leaves': 47, 'bagging_fraction': 0.4314257768315956, 'lambda_l1': 3.673679320224029e-07, 'lambda_l2': 0.00998390521309746, 'n_estimators': 207, 'max_depth': 3}. Best is trial 33 with value: 2.1505521351670147.\u001b[0m\n"
     ]
    },
    {
     "name": "stdout",
     "output_type": "stream",
     "text": [
      "[LightGBM] [Warning] lambda_l1 is set=1.592495580923552e-06, reg_alpha=0.0 will be ignored. Current value: lambda_l1=1.592495580923552e-06\n",
      "[LightGBM] [Warning] bagging_fraction is set=0.60054521373658, subsample=1.0 will be ignored. Current value: bagging_fraction=0.60054521373658\n",
      "[LightGBM] [Warning] feature_fraction is set=0.5498712456956194, colsample_bytree=1.0 will be ignored. Current value: feature_fraction=0.5498712456956194\n",
      "[LightGBM] [Warning] lambda_l2 is set=0.04517229931821596, reg_lambda=0.0 will be ignored. Current value: lambda_l2=0.04517229931821596\n"
     ]
    },
    {
     "name": "stderr",
     "output_type": "stream",
     "text": [
      "\u001b[32m[I 2023-01-31 22:21:50,109]\u001b[0m Trial 55 finished with value: 2.182625359403936 and parameters: {'feature_fraction': 0.5498712456956194, 'num_leaves': 125, 'bagging_fraction': 0.60054521373658, 'lambda_l1': 1.592495580923552e-06, 'lambda_l2': 0.04517229931821596, 'n_estimators': 251, 'max_depth': 3}. Best is trial 33 with value: 2.1505521351670147.\u001b[0m\n"
     ]
    },
    {
     "name": "stdout",
     "output_type": "stream",
     "text": [
      "[LightGBM] [Warning] lambda_l1 is set=3.9378418322075574e-08, reg_alpha=0.0 will be ignored. Current value: lambda_l1=3.9378418322075574e-08\n",
      "[LightGBM] [Warning] bagging_fraction is set=0.5261833531285802, subsample=1.0 will be ignored. Current value: bagging_fraction=0.5261833531285802\n",
      "[LightGBM] [Warning] feature_fraction is set=0.49373500186004615, colsample_bytree=1.0 will be ignored. Current value: feature_fraction=0.49373500186004615\n",
      "[LightGBM] [Warning] lambda_l2 is set=0.015260943698841968, reg_lambda=0.0 will be ignored. Current value: lambda_l2=0.015260943698841968\n"
     ]
    },
    {
     "name": "stderr",
     "output_type": "stream",
     "text": [
      "\u001b[32m[I 2023-01-31 22:21:51,625]\u001b[0m Trial 56 finished with value: 2.1754805435272773 and parameters: {'feature_fraction': 0.49373500186004615, 'num_leaves': 82, 'bagging_fraction': 0.5261833531285802, 'lambda_l1': 3.9378418322075574e-08, 'lambda_l2': 0.015260943698841968, 'n_estimators': 292, 'max_depth': 3}. Best is trial 33 with value: 2.1505521351670147.\u001b[0m\n"
     ]
    },
    {
     "name": "stdout",
     "output_type": "stream",
     "text": [
      "[LightGBM] [Warning] lambda_l1 is set=1.039466916302288e-08, reg_alpha=0.0 will be ignored. Current value: lambda_l1=1.039466916302288e-08\n",
      "[LightGBM] [Warning] bagging_fraction is set=0.5670172468381767, subsample=1.0 will be ignored. Current value: bagging_fraction=0.5670172468381767\n",
      "[LightGBM] [Warning] feature_fraction is set=0.45608142487075665, colsample_bytree=1.0 will be ignored. Current value: feature_fraction=0.45608142487075665\n",
      "[LightGBM] [Warning] lambda_l2 is set=0.09391218373732765, reg_lambda=0.0 will be ignored. Current value: lambda_l2=0.09391218373732765\n"
     ]
    },
    {
     "name": "stderr",
     "output_type": "stream",
     "text": [
      "\u001b[32m[I 2023-01-31 22:21:52,311]\u001b[0m Trial 57 finished with value: 2.184451480729566 and parameters: {'feature_fraction': 0.45608142487075665, 'num_leaves': 108, 'bagging_fraction': 0.5670172468381767, 'lambda_l1': 1.039466916302288e-08, 'lambda_l2': 0.09391218373732765, 'n_estimators': 71, 'max_depth': 3}. Best is trial 33 with value: 2.1505521351670147.\u001b[0m\n"
     ]
    },
    {
     "name": "stdout",
     "output_type": "stream",
     "text": [
      "[LightGBM] [Warning] lambda_l1 is set=4.2478171917246295e-06, reg_alpha=0.0 will be ignored. Current value: lambda_l1=4.2478171917246295e-06\n",
      "[LightGBM] [Warning] bagging_fraction is set=0.49950173259852093, subsample=1.0 will be ignored. Current value: bagging_fraction=0.49950173259852093\n",
      "[LightGBM] [Warning] feature_fraction is set=0.3138308004665404, colsample_bytree=1.0 will be ignored. Current value: feature_fraction=0.3138308004665404\n",
      "[LightGBM] [Warning] lambda_l2 is set=0.3335241926254425, reg_lambda=0.0 will be ignored. Current value: lambda_l2=0.3335241926254425\n"
     ]
    },
    {
     "name": "stderr",
     "output_type": "stream",
     "text": [
      "\u001b[32m[I 2023-01-31 22:21:53,613]\u001b[0m Trial 58 finished with value: 2.2583968131987255 and parameters: {'feature_fraction': 0.3138308004665404, 'num_leaves': 147, 'bagging_fraction': 0.49950173259852093, 'lambda_l1': 4.2478171917246295e-06, 'lambda_l2': 0.3335241926254425, 'n_estimators': 222, 'max_depth': 4}. Best is trial 33 with value: 2.1505521351670147.\u001b[0m\n"
     ]
    },
    {
     "name": "stdout",
     "output_type": "stream",
     "text": [
      "[LightGBM] [Warning] lambda_l1 is set=8.14821905554185e-08, reg_alpha=0.0 will be ignored. Current value: lambda_l1=8.14821905554185e-08\n",
      "[LightGBM] [Warning] bagging_fraction is set=0.450849733416201, subsample=1.0 will be ignored. Current value: bagging_fraction=0.450849733416201\n",
      "[LightGBM] [Warning] feature_fraction is set=0.3623145450643688, colsample_bytree=1.0 will be ignored. Current value: feature_fraction=0.3623145450643688\n",
      "[LightGBM] [Warning] lambda_l2 is set=0.043010742005716446, reg_lambda=0.0 will be ignored. Current value: lambda_l2=0.043010742005716446\n"
     ]
    },
    {
     "name": "stderr",
     "output_type": "stream",
     "text": [
      "\u001b[32m[I 2023-01-31 22:21:54,382]\u001b[0m Trial 59 finished with value: 2.215212776885576 and parameters: {'feature_fraction': 0.3623145450643688, 'num_leaves': 3, 'bagging_fraction': 0.450849733416201, 'lambda_l1': 8.14821905554185e-08, 'lambda_l2': 0.043010742005716446, 'n_estimators': 177, 'max_depth': 2}. Best is trial 33 with value: 2.1505521351670147.\u001b[0m\n"
     ]
    },
    {
     "name": "stdout",
     "output_type": "stream",
     "text": [
      "[LightGBM] [Warning] lambda_l1 is set=4.996387671214893e-07, reg_alpha=0.0 will be ignored. Current value: lambda_l1=4.996387671214893e-07\n",
      "[LightGBM] [Warning] bagging_fraction is set=0.6100063206942737, subsample=1.0 will be ignored. Current value: bagging_fraction=0.6100063206942737\n",
      "[LightGBM] [Warning] feature_fraction is set=0.558980924550234, colsample_bytree=1.0 will be ignored. Current value: feature_fraction=0.558980924550234\n",
      "[LightGBM] [Warning] lambda_l2 is set=0.0167365979951242, reg_lambda=0.0 will be ignored. Current value: lambda_l2=0.0167365979951242\n"
     ]
    },
    {
     "name": "stderr",
     "output_type": "stream",
     "text": [
      "\u001b[32m[I 2023-01-31 22:21:55,936]\u001b[0m Trial 60 finished with value: 2.185654874993078 and parameters: {'feature_fraction': 0.558980924550234, 'num_leaves': 169, 'bagging_fraction': 0.6100063206942737, 'lambda_l1': 4.996387671214893e-07, 'lambda_l2': 0.0167365979951242, 'n_estimators': 272, 'max_depth': 3}. Best is trial 33 with value: 2.1505521351670147.\u001b[0m\n"
     ]
    },
    {
     "name": "stdout",
     "output_type": "stream",
     "text": [
      "[LightGBM] [Warning] lambda_l1 is set=1.190495766569364e-07, reg_alpha=0.0 will be ignored. Current value: lambda_l1=1.190495766569364e-07\n",
      "[LightGBM] [Warning] bagging_fraction is set=0.4077773584173717, subsample=1.0 will be ignored. Current value: bagging_fraction=0.4077773584173717\n",
      "[LightGBM] [Warning] feature_fraction is set=0.42846309450342207, colsample_bytree=1.0 will be ignored. Current value: feature_fraction=0.42846309450342207\n",
      "[LightGBM] [Warning] lambda_l2 is set=0.004985009833521007, reg_lambda=0.0 will be ignored. Current value: lambda_l2=0.004985009833521007\n"
     ]
    },
    {
     "name": "stderr",
     "output_type": "stream",
     "text": [
      "\u001b[32m[I 2023-01-31 22:21:57,191]\u001b[0m Trial 61 finished with value: 2.1869813166297045 and parameters: {'feature_fraction': 0.42846309450342207, 'num_leaves': 143, 'bagging_fraction': 0.4077773584173717, 'lambda_l1': 1.190495766569364e-07, 'lambda_l2': 0.004985009833521007, 'n_estimators': 247, 'max_depth': 3}. Best is trial 33 with value: 2.1505521351670147.\u001b[0m\n"
     ]
    },
    {
     "name": "stdout",
     "output_type": "stream",
     "text": [
      "[LightGBM] [Warning] lambda_l1 is set=2.0767771520360326e-07, reg_alpha=0.0 will be ignored. Current value: lambda_l1=2.0767771520360326e-07\n",
      "[LightGBM] [Warning] bagging_fraction is set=0.5813998463838786, subsample=1.0 will be ignored. Current value: bagging_fraction=0.5813998463838786\n",
      "[LightGBM] [Warning] feature_fraction is set=0.4918571763953428, colsample_bytree=1.0 will be ignored. Current value: feature_fraction=0.4918571763953428\n",
      "[LightGBM] [Warning] lambda_l2 is set=0.03829592014747732, reg_lambda=0.0 will be ignored. Current value: lambda_l2=0.03829592014747732\n"
     ]
    },
    {
     "name": "stderr",
     "output_type": "stream",
     "text": [
      "\u001b[32m[I 2023-01-31 22:21:58,520]\u001b[0m Trial 62 finished with value: 2.194493349066011 and parameters: {'feature_fraction': 0.4918571763953428, 'num_leaves': 21, 'bagging_fraction': 0.5813998463838786, 'lambda_l1': 2.0767771520360326e-07, 'lambda_l2': 0.03829592014747732, 'n_estimators': 239, 'max_depth': 3}. Best is trial 33 with value: 2.1505521351670147.\u001b[0m\n"
     ]
    },
    {
     "name": "stdout",
     "output_type": "stream",
     "text": [
      "[LightGBM] [Warning] lambda_l1 is set=8.597685420177117e-08, reg_alpha=0.0 will be ignored. Current value: lambda_l1=8.597685420177117e-08\n",
      "[LightGBM] [Warning] bagging_fraction is set=0.6197089368232792, subsample=1.0 will be ignored. Current value: bagging_fraction=0.6197089368232792\n",
      "[LightGBM] [Warning] feature_fraction is set=0.4065221939168613, colsample_bytree=1.0 will be ignored. Current value: feature_fraction=0.4065221939168613\n",
      "[LightGBM] [Warning] lambda_l2 is set=0.003890204019574269, reg_lambda=0.0 will be ignored. Current value: lambda_l2=0.003890204019574269\n"
     ]
    },
    {
     "name": "stderr",
     "output_type": "stream",
     "text": [
      "\u001b[32m[I 2023-01-31 22:21:59,790]\u001b[0m Trial 63 finished with value: 2.177450885837532 and parameters: {'feature_fraction': 0.4065221939168613, 'num_leaves': 126, 'bagging_fraction': 0.6197089368232792, 'lambda_l1': 8.597685420177117e-08, 'lambda_l2': 0.003890204019574269, 'n_estimators': 260, 'max_depth': 3}. Best is trial 33 with value: 2.1505521351670147.\u001b[0m\n"
     ]
    },
    {
     "name": "stdout",
     "output_type": "stream",
     "text": [
      "[LightGBM] [Warning] lambda_l1 is set=2.7483724057082673e-08, reg_alpha=0.0 will be ignored. Current value: lambda_l1=2.7483724057082673e-08\n",
      "[LightGBM] [Warning] bagging_fraction is set=0.5577556890519563, subsample=1.0 will be ignored. Current value: bagging_fraction=0.5577556890519563\n",
      "[LightGBM] [Warning] feature_fraction is set=0.36418259955899246, colsample_bytree=1.0 will be ignored. Current value: feature_fraction=0.36418259955899246\n",
      "[LightGBM] [Warning] lambda_l2 is set=0.010505720542588913, reg_lambda=0.0 will be ignored. Current value: lambda_l2=0.010505720542588913\n"
     ]
    },
    {
     "name": "stderr",
     "output_type": "stream",
     "text": [
      "\u001b[32m[I 2023-01-31 22:22:01,237]\u001b[0m Trial 64 finished with value: 2.2310866386386303 and parameters: {'feature_fraction': 0.36418259955899246, 'num_leaves': 151, 'bagging_fraction': 0.5577556890519563, 'lambda_l1': 2.7483724057082673e-08, 'lambda_l2': 0.010505720542588913, 'n_estimators': 231, 'max_depth': 4}. Best is trial 33 with value: 2.1505521351670147.\u001b[0m\n"
     ]
    },
    {
     "name": "stdout",
     "output_type": "stream",
     "text": [
      "[LightGBM] [Warning] lambda_l1 is set=1.1629263035694799e-06, reg_alpha=0.0 will be ignored. Current value: lambda_l1=1.1629263035694799e-06\n",
      "[LightGBM] [Warning] bagging_fraction is set=0.47063448070009134, subsample=1.0 will be ignored. Current value: bagging_fraction=0.47063448070009134\n",
      "[LightGBM] [Warning] feature_fraction is set=0.44820493149790575, colsample_bytree=1.0 will be ignored. Current value: feature_fraction=0.44820493149790575\n",
      "[LightGBM] [Warning] lambda_l2 is set=0.12174224691341419, reg_lambda=0.0 will be ignored. Current value: lambda_l2=0.12174224691341419\n"
     ]
    },
    {
     "name": "stderr",
     "output_type": "stream",
     "text": [
      "\u001b[32m[I 2023-01-31 22:22:02,523]\u001b[0m Trial 65 finished with value: 2.1712648785636426 and parameters: {'feature_fraction': 0.44820493149790575, 'num_leaves': 131, 'bagging_fraction': 0.47063448070009134, 'lambda_l1': 1.1629263035694799e-06, 'lambda_l2': 0.12174224691341419, 'n_estimators': 246, 'max_depth': 3}. Best is trial 33 with value: 2.1505521351670147.\u001b[0m\n"
     ]
    },
    {
     "name": "stdout",
     "output_type": "stream",
     "text": [
      "[LightGBM] [Warning] lambda_l1 is set=2.542621035264736e-07, reg_alpha=0.0 will be ignored. Current value: lambda_l1=2.542621035264736e-07\n",
      "[LightGBM] [Warning] bagging_fraction is set=0.5150009286997149, subsample=1.0 will be ignored. Current value: bagging_fraction=0.5150009286997149\n",
      "[LightGBM] [Warning] feature_fraction is set=0.5066892346126977, colsample_bytree=1.0 will be ignored. Current value: feature_fraction=0.5066892346126977\n",
      "[LightGBM] [Warning] lambda_l2 is set=0.002510484471481657, reg_lambda=0.0 will be ignored. Current value: lambda_l2=0.002510484471481657\n"
     ]
    },
    {
     "name": "stderr",
     "output_type": "stream",
     "text": [
      "\u001b[32m[I 2023-01-31 22:22:03,784]\u001b[0m Trial 66 finished with value: 2.1875759322682415 and parameters: {'feature_fraction': 0.5066892346126977, 'num_leaves': 191, 'bagging_fraction': 0.5150009286997149, 'lambda_l1': 2.542621035264736e-07, 'lambda_l2': 0.002510484471481657, 'n_estimators': 217, 'max_depth': 3}. Best is trial 33 with value: 2.1505521351670147.\u001b[0m\n"
     ]
    },
    {
     "name": "stdout",
     "output_type": "stream",
     "text": [
      "[LightGBM] [Warning] lambda_l1 is set=6.402691564845537e-08, reg_alpha=0.0 will be ignored. Current value: lambda_l1=6.402691564845537e-08\n",
      "[LightGBM] [Warning] bagging_fraction is set=0.6470057849005152, subsample=1.0 will be ignored. Current value: bagging_fraction=0.6470057849005152\n",
      "[LightGBM] [Warning] feature_fraction is set=0.47227804984868305, colsample_bytree=1.0 will be ignored. Current value: feature_fraction=0.47227804984868305\n",
      "[LightGBM] [Warning] lambda_l2 is set=0.024918577248370013, reg_lambda=0.0 will be ignored. Current value: lambda_l2=0.024918577248370013\n"
     ]
    },
    {
     "name": "stderr",
     "output_type": "stream",
     "text": [
      "\u001b[32m[I 2023-01-31 22:22:05,226]\u001b[0m Trial 67 finished with value: 2.1877047832590044 and parameters: {'feature_fraction': 0.47227804984868305, 'num_leaves': 255, 'bagging_fraction': 0.6470057849005152, 'lambda_l1': 6.402691564845537e-08, 'lambda_l2': 0.024918577248370013, 'n_estimators': 276, 'max_depth': 3}. Best is trial 33 with value: 2.1505521351670147.\u001b[0m\n"
     ]
    },
    {
     "name": "stdout",
     "output_type": "stream",
     "text": [
      "[LightGBM] [Warning] lambda_l1 is set=8.176226372645461e-06, reg_alpha=0.0 will be ignored. Current value: lambda_l1=8.176226372645461e-06\n",
      "[LightGBM] [Warning] bagging_fraction is set=0.6639831050926547, subsample=1.0 will be ignored. Current value: bagging_fraction=0.6639831050926547\n",
      "[LightGBM] [Warning] feature_fraction is set=0.41785607650291373, colsample_bytree=1.0 will be ignored. Current value: feature_fraction=0.41785607650291373\n",
      "[LightGBM] [Warning] lambda_l2 is set=0.19831517860502118, reg_lambda=0.0 will be ignored. Current value: lambda_l2=0.19831517860502118\n"
     ]
    },
    {
     "name": "stderr",
     "output_type": "stream",
     "text": [
      "\u001b[32m[I 2023-01-31 22:22:06,317]\u001b[0m Trial 68 finished with value: 2.205355320678604 and parameters: {'feature_fraction': 0.41785607650291373, 'num_leaves': 119, 'bagging_fraction': 0.6639831050926547, 'lambda_l1': 8.176226372645461e-06, 'lambda_l2': 0.19831517860502118, 'n_estimators': 299, 'max_depth': 2}. Best is trial 33 with value: 2.1505521351670147.\u001b[0m\n"
     ]
    },
    {
     "name": "stdout",
     "output_type": "stream",
     "text": [
      "[LightGBM] [Warning] lambda_l1 is set=2.5825094835786603e-06, reg_alpha=0.0 will be ignored. Current value: lambda_l1=2.5825094835786603e-06\n",
      "[LightGBM] [Warning] bagging_fraction is set=0.4993891656539472, subsample=1.0 will be ignored. Current value: bagging_fraction=0.4993891656539472\n",
      "[LightGBM] [Warning] feature_fraction is set=0.33632800999487844, colsample_bytree=1.0 will be ignored. Current value: feature_fraction=0.33632800999487844\n",
      "[LightGBM] [Warning] lambda_l2 is set=0.07681130213325235, reg_lambda=0.0 will be ignored. Current value: lambda_l2=0.07681130213325235\n"
     ]
    },
    {
     "name": "stderr",
     "output_type": "stream",
     "text": [
      "\u001b[32m[I 2023-01-31 22:22:07,722]\u001b[0m Trial 69 finished with value: 2.2217989556153883 and parameters: {'feature_fraction': 0.33632800999487844, 'num_leaves': 171, 'bagging_fraction': 0.4993891656539472, 'lambda_l1': 2.5825094835786603e-06, 'lambda_l2': 0.07681130213325235, 'n_estimators': 236, 'max_depth': 4}. Best is trial 33 with value: 2.1505521351670147.\u001b[0m\n"
     ]
    },
    {
     "name": "stdout",
     "output_type": "stream",
     "text": [
      "[LightGBM] [Warning] lambda_l1 is set=2.1245154500296905e-08, reg_alpha=0.0 will be ignored. Current value: lambda_l1=2.1245154500296905e-08\n",
      "[LightGBM] [Warning] bagging_fraction is set=0.5330052672580249, subsample=1.0 will be ignored. Current value: bagging_fraction=0.5330052672580249\n",
      "[LightGBM] [Warning] feature_fraction is set=0.3767128351838834, colsample_bytree=1.0 will be ignored. Current value: feature_fraction=0.3767128351838834\n",
      "[LightGBM] [Warning] lambda_l2 is set=0.699412859126479, reg_lambda=0.0 will be ignored. Current value: lambda_l2=0.699412859126479\n"
     ]
    },
    {
     "name": "stderr",
     "output_type": "stream",
     "text": [
      "\u001b[32m[I 2023-01-31 22:22:09,041]\u001b[0m Trial 70 finished with value: 2.1853148937421634 and parameters: {'feature_fraction': 0.3767128351838834, 'num_leaves': 101, 'bagging_fraction': 0.5330052672580249, 'lambda_l1': 2.1245154500296905e-08, 'lambda_l2': 0.699412859126479, 'n_estimators': 288, 'max_depth': 3}. Best is trial 33 with value: 2.1505521351670147.\u001b[0m\n"
     ]
    },
    {
     "name": "stdout",
     "output_type": "stream",
     "text": [
      "[LightGBM] [Warning] lambda_l1 is set=5.85016450015357e-07, reg_alpha=0.0 will be ignored. Current value: lambda_l1=5.85016450015357e-07\n",
      "[LightGBM] [Warning] bagging_fraction is set=0.6418365525759208, subsample=1.0 will be ignored. Current value: bagging_fraction=0.6418365525759208\n",
      "[LightGBM] [Warning] feature_fraction is set=0.45612594865835493, colsample_bytree=1.0 will be ignored. Current value: feature_fraction=0.45612594865835493\n",
      "[LightGBM] [Warning] lambda_l2 is set=0.00286931224876288, reg_lambda=0.0 will be ignored. Current value: lambda_l2=0.00286931224876288\n"
     ]
    },
    {
     "name": "stderr",
     "output_type": "stream",
     "text": [
      "\u001b[32m[I 2023-01-31 22:22:10,302]\u001b[0m Trial 71 finished with value: 2.1578794730151016 and parameters: {'feature_fraction': 0.45612594865835493, 'num_leaves': 139, 'bagging_fraction': 0.6418365525759208, 'lambda_l1': 5.85016450015357e-07, 'lambda_l2': 0.00286931224876288, 'n_estimators': 236, 'max_depth': 3}. Best is trial 33 with value: 2.1505521351670147.\u001b[0m\n"
     ]
    },
    {
     "name": "stdout",
     "output_type": "stream",
     "text": [
      "[LightGBM] [Warning] lambda_l1 is set=5.169029363219888e-07, reg_alpha=0.0 will be ignored. Current value: lambda_l1=5.169029363219888e-07\n",
      "[LightGBM] [Warning] bagging_fraction is set=0.6323068766340244, subsample=1.0 will be ignored. Current value: bagging_fraction=0.6323068766340244\n",
      "[LightGBM] [Warning] feature_fraction is set=0.44586075765811645, colsample_bytree=1.0 will be ignored. Current value: feature_fraction=0.44586075765811645\n",
      "[LightGBM] [Warning] lambda_l2 is set=0.007248840460920488, reg_lambda=0.0 will be ignored. Current value: lambda_l2=0.007248840460920488\n"
     ]
    },
    {
     "name": "stderr",
     "output_type": "stream",
     "text": [
      "\u001b[32m[I 2023-01-31 22:22:11,460]\u001b[0m Trial 72 finished with value: 2.16847594462411 and parameters: {'feature_fraction': 0.44586075765811645, 'num_leaves': 155, 'bagging_fraction': 0.6323068766340244, 'lambda_l1': 5.169029363219888e-07, 'lambda_l2': 0.007248840460920488, 'n_estimators': 208, 'max_depth': 3}. Best is trial 33 with value: 2.1505521351670147.\u001b[0m\n"
     ]
    },
    {
     "name": "stdout",
     "output_type": "stream",
     "text": [
      "[LightGBM] [Warning] lambda_l1 is set=1.7721501180923702e-07, reg_alpha=0.0 will be ignored. Current value: lambda_l1=1.7721501180923702e-07\n",
      "[LightGBM] [Warning] bagging_fraction is set=0.601598881796663, subsample=1.0 will be ignored. Current value: bagging_fraction=0.601598881796663\n",
      "[LightGBM] [Warning] feature_fraction is set=0.3966593631465267, colsample_bytree=1.0 will be ignored. Current value: feature_fraction=0.3966593631465267\n",
      "[LightGBM] [Warning] lambda_l2 is set=0.0019099296070659787, reg_lambda=0.0 will be ignored. Current value: lambda_l2=0.0019099296070659787\n"
     ]
    },
    {
     "name": "stderr",
     "output_type": "stream",
     "text": [
      "\u001b[32m[I 2023-01-31 22:22:12,727]\u001b[0m Trial 73 finished with value: 2.177918918435348 and parameters: {'feature_fraction': 0.3966593631465267, 'num_leaves': 139, 'bagging_fraction': 0.601598881796663, 'lambda_l1': 1.7721501180923702e-07, 'lambda_l2': 0.0019099296070659787, 'n_estimators': 263, 'max_depth': 3}. Best is trial 33 with value: 2.1505521351670147.\u001b[0m\n"
     ]
    },
    {
     "name": "stdout",
     "output_type": "stream",
     "text": [
      "[LightGBM] [Warning] lambda_l1 is set=5.247698562544098e-08, reg_alpha=0.0 will be ignored. Current value: lambda_l1=5.247698562544098e-08\n",
      "[LightGBM] [Warning] bagging_fraction is set=0.5778737352302544, subsample=1.0 will be ignored. Current value: bagging_fraction=0.5778737352302544\n",
      "[LightGBM] [Warning] feature_fraction is set=0.5104233152328665, colsample_bytree=1.0 will be ignored. Current value: feature_fraction=0.5104233152328665\n",
      "[LightGBM] [Warning] lambda_l2 is set=0.0006290943207786881, reg_lambda=0.0 will be ignored. Current value: lambda_l2=0.0006290943207786881\n"
     ]
    },
    {
     "name": "stderr",
     "output_type": "stream",
     "text": [
      "\u001b[32m[I 2023-01-31 22:22:14,087]\u001b[0m Trial 74 finished with value: 2.1699318179560727 and parameters: {'feature_fraction': 0.5104233152328665, 'num_leaves': 164, 'bagging_fraction': 0.5778737352302544, 'lambda_l1': 5.247698562544098e-08, 'lambda_l2': 0.0006290943207786881, 'n_estimators': 241, 'max_depth': 3}. Best is trial 33 with value: 2.1505521351670147.\u001b[0m\n"
     ]
    },
    {
     "name": "stdout",
     "output_type": "stream",
     "text": [
      "[LightGBM] [Warning] lambda_l1 is set=7.349643709149245e-07, reg_alpha=0.0 will be ignored. Current value: lambda_l1=7.349643709149245e-07\n",
      "[LightGBM] [Warning] bagging_fraction is set=0.6618171702918465, subsample=1.0 will be ignored. Current value: bagging_fraction=0.6618171702918465\n",
      "[LightGBM] [Warning] feature_fraction is set=0.4713743184882174, colsample_bytree=1.0 will be ignored. Current value: feature_fraction=0.4713743184882174\n",
      "[LightGBM] [Warning] lambda_l2 is set=0.003554265783960965, reg_lambda=0.0 will be ignored. Current value: lambda_l2=0.003554265783960965\n"
     ]
    },
    {
     "name": "stderr",
     "output_type": "stream",
     "text": [
      "\u001b[32m[I 2023-01-31 22:22:15,194]\u001b[0m Trial 75 finished with value: 2.1847610714914762 and parameters: {'feature_fraction': 0.4713743184882174, 'num_leaves': 111, 'bagging_fraction': 0.6618171702918465, 'lambda_l1': 7.349643709149245e-07, 'lambda_l2': 0.003554265783960965, 'n_estimators': 114, 'max_depth': 3}. Best is trial 33 with value: 2.1505521351670147.\u001b[0m\n"
     ]
    },
    {
     "name": "stdout",
     "output_type": "stream",
     "text": [
      "[LightGBM] [Warning] lambda_l1 is set=1.0063698502338723e-07, reg_alpha=0.0 will be ignored. Current value: lambda_l1=1.0063698502338723e-07\n",
      "[LightGBM] [Warning] bagging_fraction is set=0.701841329707914, subsample=1.0 will be ignored. Current value: bagging_fraction=0.701841329707914\n",
      "[LightGBM] [Warning] feature_fraction is set=0.5944825610960501, colsample_bytree=1.0 will be ignored. Current value: feature_fraction=0.5944825610960501\n",
      "[LightGBM] [Warning] lambda_l2 is set=0.011814717671914438, reg_lambda=0.0 will be ignored. Current value: lambda_l2=0.011814717671914438\n"
     ]
    },
    {
     "name": "stderr",
     "output_type": "stream",
     "text": [
      "\u001b[32m[I 2023-01-31 22:22:16,740]\u001b[0m Trial 76 finished with value: 2.184644844440483 and parameters: {'feature_fraction': 0.5944825610960501, 'num_leaves': 128, 'bagging_fraction': 0.701841329707914, 'lambda_l1': 1.0063698502338723e-07, 'lambda_l2': 0.011814717671914438, 'n_estimators': 253, 'max_depth': 3}. Best is trial 33 with value: 2.1505521351670147.\u001b[0m\n"
     ]
    },
    {
     "name": "stdout",
     "output_type": "stream",
     "text": [
      "[LightGBM] [Warning] lambda_l1 is set=2.448607909592883e-07, reg_alpha=0.0 will be ignored. Current value: lambda_l1=2.448607909592883e-07\n",
      "[LightGBM] [Warning] bagging_fraction is set=0.5572602160590774, subsample=1.0 will be ignored. Current value: bagging_fraction=0.5572602160590774\n",
      "[LightGBM] [Warning] feature_fraction is set=0.4371322411877415, colsample_bytree=1.0 will be ignored. Current value: feature_fraction=0.4371322411877415\n",
      "[LightGBM] [Warning] lambda_l2 is set=0.0011471560149843832, reg_lambda=0.0 will be ignored. Current value: lambda_l2=0.0011471560149843832\n"
     ]
    },
    {
     "name": "stderr",
     "output_type": "stream",
     "text": [
      "\u001b[32m[I 2023-01-31 22:22:17,697]\u001b[0m Trial 77 finished with value: 2.197396486983568 and parameters: {'feature_fraction': 0.4371322411877415, 'num_leaves': 146, 'bagging_fraction': 0.5572602160590774, 'lambda_l1': 2.448607909592883e-07, 'lambda_l2': 0.0011471560149843832, 'n_estimators': 229, 'max_depth': 2}. Best is trial 33 with value: 2.1505521351670147.\u001b[0m\n"
     ]
    },
    {
     "name": "stdout",
     "output_type": "stream",
     "text": [
      "[LightGBM] [Warning] lambda_l1 is set=3.7409051685561926e-08, reg_alpha=0.0 will be ignored. Current value: lambda_l1=3.7409051685561926e-08\n",
      "[LightGBM] [Warning] bagging_fraction is set=0.6327493058430064, subsample=1.0 will be ignored. Current value: bagging_fraction=0.6327493058430064\n",
      "[LightGBM] [Warning] feature_fraction is set=0.5308231899816652, colsample_bytree=1.0 will be ignored. Current value: feature_fraction=0.5308231899816652\n",
      "[LightGBM] [Warning] lambda_l2 is set=0.03668205274732175, reg_lambda=0.0 will be ignored. Current value: lambda_l2=0.03668205274732175\n"
     ]
    },
    {
     "name": "stderr",
     "output_type": "stream",
     "text": [
      "\u001b[32m[I 2023-01-31 22:22:21,505]\u001b[0m Trial 78 finished with value: 2.2784174243000397 and parameters: {'feature_fraction': 0.5308231899816652, 'num_leaves': 86, 'bagging_fraction': 0.6327493058430064, 'lambda_l1': 3.7409051685561926e-08, 'lambda_l2': 0.03668205274732175, 'n_estimators': 271, 'max_depth': 6}. Best is trial 33 with value: 2.1505521351670147.\u001b[0m\n"
     ]
    },
    {
     "name": "stdout",
     "output_type": "stream",
     "text": [
      "[LightGBM] [Warning] lambda_l1 is set=3.712401050804388e-07, reg_alpha=0.0 will be ignored. Current value: lambda_l1=3.712401050804388e-07\n",
      "[LightGBM] [Warning] bagging_fraction is set=0.5884429492901823, subsample=1.0 will be ignored. Current value: bagging_fraction=0.5884429492901823\n",
      "[LightGBM] [Warning] feature_fraction is set=0.4032963068027957, colsample_bytree=1.0 will be ignored. Current value: feature_fraction=0.4032963068027957\n",
      "[LightGBM] [Warning] lambda_l2 is set=0.01956212704047712, reg_lambda=0.0 will be ignored. Current value: lambda_l2=0.01956212704047712\n"
     ]
    },
    {
     "name": "stderr",
     "output_type": "stream",
     "text": [
      "\u001b[32m[I 2023-01-31 22:22:22,567]\u001b[0m Trial 79 finished with value: 2.177931335990981 and parameters: {'feature_fraction': 0.4032963068027957, 'num_leaves': 160, 'bagging_fraction': 0.5884429492901823, 'lambda_l1': 3.712401050804388e-07, 'lambda_l2': 0.01956212704047712, 'n_estimators': 192, 'max_depth': 3}. Best is trial 33 with value: 2.1505521351670147.\u001b[0m\n"
     ]
    },
    {
     "name": "stdout",
     "output_type": "stream",
     "text": [
      "[LightGBM] [Warning] lambda_l1 is set=1.8755007264528363e-06, reg_alpha=0.0 will be ignored. Current value: lambda_l1=1.8755007264528363e-06\n",
      "[LightGBM] [Warning] bagging_fraction is set=0.4462145906941953, subsample=1.0 will be ignored. Current value: bagging_fraction=0.4462145906941953\n",
      "[LightGBM] [Warning] feature_fraction is set=0.3526586634662774, colsample_bytree=1.0 will be ignored. Current value: feature_fraction=0.3526586634662774\n",
      "[LightGBM] [Warning] lambda_l2 is set=0.21276691817947177, reg_lambda=0.0 will be ignored. Current value: lambda_l2=0.21276691817947177\n"
     ]
    },
    {
     "name": "stderr",
     "output_type": "stream",
     "text": [
      "\u001b[32m[I 2023-01-31 22:22:23,753]\u001b[0m Trial 80 finished with value: 2.2047691647447554 and parameters: {'feature_fraction': 0.3526586634662774, 'num_leaves': 133, 'bagging_fraction': 0.4462145906941953, 'lambda_l1': 1.8755007264528363e-06, 'lambda_l2': 0.21276691817947177, 'n_estimators': 257, 'max_depth': 3}. Best is trial 33 with value: 2.1505521351670147.\u001b[0m\n"
     ]
    },
    {
     "name": "stdout",
     "output_type": "stream",
     "text": [
      "[LightGBM] [Warning] lambda_l1 is set=5.036896341886723e-07, reg_alpha=0.0 will be ignored. Current value: lambda_l1=5.036896341886723e-07\n",
      "[LightGBM] [Warning] bagging_fraction is set=0.6153198606509198, subsample=1.0 will be ignored. Current value: bagging_fraction=0.6153198606509198\n",
      "[LightGBM] [Warning] feature_fraction is set=0.4565941473883742, colsample_bytree=1.0 will be ignored. Current value: feature_fraction=0.4565941473883742\n",
      "[LightGBM] [Warning] lambda_l2 is set=0.0061160538292121406, reg_lambda=0.0 will be ignored. Current value: lambda_l2=0.0061160538292121406\n"
     ]
    },
    {
     "name": "stderr",
     "output_type": "stream",
     "text": [
      "\u001b[32m[I 2023-01-31 22:22:24,922]\u001b[0m Trial 81 finished with value: 2.155193105067761 and parameters: {'feature_fraction': 0.4565941473883742, 'num_leaves': 155, 'bagging_fraction': 0.6153198606509198, 'lambda_l1': 5.036896341886723e-07, 'lambda_l2': 0.0061160538292121406, 'n_estimators': 208, 'max_depth': 3}. Best is trial 33 with value: 2.1505521351670147.\u001b[0m\n"
     ]
    },
    {
     "name": "stdout",
     "output_type": "stream",
     "text": [
      "[LightGBM] [Warning] lambda_l1 is set=9.390703019713939e-07, reg_alpha=0.0 will be ignored. Current value: lambda_l1=9.390703019713939e-07\n",
      "[LightGBM] [Warning] bagging_fraction is set=0.6443303736558309, subsample=1.0 will be ignored. Current value: bagging_fraction=0.6443303736558309\n",
      "[LightGBM] [Warning] feature_fraction is set=0.45359467362190187, colsample_bytree=1.0 will be ignored. Current value: feature_fraction=0.45359467362190187\n",
      "[LightGBM] [Warning] lambda_l2 is set=0.006433242557609669, reg_lambda=0.0 will be ignored. Current value: lambda_l2=0.006433242557609669\n"
     ]
    },
    {
     "name": "stderr",
     "output_type": "stream",
     "text": [
      "\u001b[32m[I 2023-01-31 22:22:26,218]\u001b[0m Trial 82 finished with value: 2.1576044561659864 and parameters: {'feature_fraction': 0.45359467362190187, 'num_leaves': 67, 'bagging_fraction': 0.6443303736558309, 'lambda_l1': 9.390703019713939e-07, 'lambda_l2': 0.006433242557609669, 'n_estimators': 245, 'max_depth': 3}. Best is trial 33 with value: 2.1505521351670147.\u001b[0m\n"
     ]
    },
    {
     "name": "stdout",
     "output_type": "stream",
     "text": [
      "[LightGBM] [Warning] lambda_l1 is set=1.230029207945956e-06, reg_alpha=0.0 will be ignored. Current value: lambda_l1=1.230029207945956e-06\n",
      "[LightGBM] [Warning] bagging_fraction is set=0.6169211130567321, subsample=1.0 will be ignored. Current value: bagging_fraction=0.6169211130567321\n",
      "[LightGBM] [Warning] feature_fraction is set=0.4629077828475558, colsample_bytree=1.0 will be ignored. Current value: feature_fraction=0.4629077828475558\n",
      "[LightGBM] [Warning] lambda_l2 is set=0.006128785255448451, reg_lambda=0.0 will be ignored. Current value: lambda_l2=0.006128785255448451\n"
     ]
    },
    {
     "name": "stderr",
     "output_type": "stream",
     "text": [
      "\u001b[32m[I 2023-01-31 22:22:27,488]\u001b[0m Trial 83 finished with value: 2.163562444812857 and parameters: {'feature_fraction': 0.4629077828475558, 'num_leaves': 51, 'bagging_fraction': 0.6169211130567321, 'lambda_l1': 1.230029207945956e-06, 'lambda_l2': 0.006128785255448451, 'n_estimators': 234, 'max_depth': 3}. Best is trial 33 with value: 2.1505521351670147.\u001b[0m\n"
     ]
    },
    {
     "name": "stdout",
     "output_type": "stream",
     "text": [
      "[LightGBM] [Warning] lambda_l1 is set=3.822528612679839e-06, reg_alpha=0.0 will be ignored. Current value: lambda_l1=3.822528612679839e-06\n",
      "[LightGBM] [Warning] bagging_fraction is set=0.6041480102325516, subsample=1.0 will be ignored. Current value: bagging_fraction=0.6041480102325516\n",
      "[LightGBM] [Warning] feature_fraction is set=0.4700850163296987, colsample_bytree=1.0 will be ignored. Current value: feature_fraction=0.4700850163296987\n",
      "[LightGBM] [Warning] lambda_l2 is set=0.005621405873089179, reg_lambda=0.0 will be ignored. Current value: lambda_l2=0.005621405873089179\n"
     ]
    },
    {
     "name": "stderr",
     "output_type": "stream",
     "text": [
      "\u001b[32m[I 2023-01-31 22:22:28,768]\u001b[0m Trial 84 finished with value: 2.1707101714157413 and parameters: {'feature_fraction': 0.4700850163296987, 'num_leaves': 65, 'bagging_fraction': 0.6041480102325516, 'lambda_l1': 3.822528612679839e-06, 'lambda_l2': 0.005621405873089179, 'n_estimators': 234, 'max_depth': 3}. Best is trial 33 with value: 2.1505521351670147.\u001b[0m\n"
     ]
    },
    {
     "name": "stdout",
     "output_type": "stream",
     "text": [
      "[LightGBM] [Warning] lambda_l1 is set=7.636246248342217e-07, reg_alpha=0.0 will be ignored. Current value: lambda_l1=7.636246248342217e-07\n",
      "[LightGBM] [Warning] bagging_fraction is set=0.6150642570097202, subsample=1.0 will be ignored. Current value: bagging_fraction=0.6150642570097202\n",
      "[LightGBM] [Warning] feature_fraction is set=0.5060909154560358, colsample_bytree=1.0 will be ignored. Current value: feature_fraction=0.5060909154560358\n",
      "[LightGBM] [Warning] lambda_l2 is set=0.05980828971918546, reg_lambda=0.0 will be ignored. Current value: lambda_l2=0.05980828971918546\n"
     ]
    },
    {
     "name": "stderr",
     "output_type": "stream",
     "text": [
      "\u001b[32m[I 2023-01-31 22:22:30,061]\u001b[0m Trial 85 finished with value: 2.197824721654981 and parameters: {'feature_fraction': 0.5060909154560358, 'num_leaves': 49, 'bagging_fraction': 0.6150642570097202, 'lambda_l1': 7.636246248342217e-07, 'lambda_l2': 0.05980828971918546, 'n_estimators': 224, 'max_depth': 3}. Best is trial 33 with value: 2.1505521351670147.\u001b[0m\n"
     ]
    },
    {
     "name": "stdout",
     "output_type": "stream",
     "text": [
      "[LightGBM] [Warning] lambda_l1 is set=1.4855251336700307e-07, reg_alpha=0.0 will be ignored. Current value: lambda_l1=1.4855251336700307e-07\n",
      "[LightGBM] [Warning] bagging_fraction is set=0.5697871486457834, subsample=1.0 will be ignored. Current value: bagging_fraction=0.5697871486457834\n",
      "[LightGBM] [Warning] feature_fraction is set=0.3847877373074206, colsample_bytree=1.0 will be ignored. Current value: feature_fraction=0.3847877373074206\n",
      "[LightGBM] [Warning] lambda_l2 is set=0.013458001231447638, reg_lambda=0.0 will be ignored. Current value: lambda_l2=0.013458001231447638\n"
     ]
    },
    {
     "name": "stderr",
     "output_type": "stream",
     "text": [
      "\u001b[32m[I 2023-01-31 22:22:31,634]\u001b[0m Trial 86 finished with value: 2.2241012511202496 and parameters: {'feature_fraction': 0.3847877373074206, 'num_leaves': 58, 'bagging_fraction': 0.5697871486457834, 'lambda_l1': 1.4855251336700307e-07, 'lambda_l2': 0.013458001231447638, 'n_estimators': 249, 'max_depth': 4}. Best is trial 33 with value: 2.1505521351670147.\u001b[0m\n"
     ]
    },
    {
     "name": "stdout",
     "output_type": "stream",
     "text": [
      "[LightGBM] [Warning] lambda_l1 is set=3.0863801245722873e-07, reg_alpha=0.0 will be ignored. Current value: lambda_l1=3.0863801245722873e-07\n",
      "[LightGBM] [Warning] bagging_fraction is set=0.6255837963924911, subsample=1.0 will be ignored. Current value: bagging_fraction=0.6255837963924911\n",
      "[LightGBM] [Warning] feature_fraction is set=0.41171861528486337, colsample_bytree=1.0 will be ignored. Current value: feature_fraction=0.41171861528486337\n",
      "[LightGBM] [Warning] lambda_l2 is set=0.0020506668601280257, reg_lambda=0.0 will be ignored. Current value: lambda_l2=0.0020506668601280257\n"
     ]
    },
    {
     "name": "stderr",
     "output_type": "stream",
     "text": [
      "\u001b[32m[I 2023-01-31 22:22:32,771]\u001b[0m Trial 87 finished with value: 2.1787992103373064 and parameters: {'feature_fraction': 0.41171861528486337, 'num_leaves': 37, 'bagging_fraction': 0.6255837963924911, 'lambda_l1': 3.0863801245722873e-07, 'lambda_l2': 0.0020506668601280257, 'n_estimators': 214, 'max_depth': 3}. Best is trial 33 with value: 2.1505521351670147.\u001b[0m\n"
     ]
    },
    {
     "name": "stdout",
     "output_type": "stream",
     "text": [
      "[LightGBM] [Warning] lambda_l1 is set=5.8627355029992117e-08, reg_alpha=0.0 will be ignored. Current value: lambda_l1=5.8627355029992117e-08\n",
      "[LightGBM] [Warning] bagging_fraction is set=0.6476830148288197, subsample=1.0 will be ignored. Current value: bagging_fraction=0.6476830148288197\n",
      "[LightGBM] [Warning] feature_fraction is set=0.53892823735799, colsample_bytree=1.0 will be ignored. Current value: feature_fraction=0.53892823735799\n",
      "[LightGBM] [Warning] lambda_l2 is set=0.029387017123247216, reg_lambda=0.0 will be ignored. Current value: lambda_l2=0.029387017123247216\n"
     ]
    },
    {
     "name": "stderr",
     "output_type": "stream",
     "text": [
      "\u001b[32m[I 2023-01-31 22:22:34,276]\u001b[0m Trial 88 finished with value: 2.186049134394233 and parameters: {'feature_fraction': 0.53892823735799, 'num_leaves': 42, 'bagging_fraction': 0.6476830148288197, 'lambda_l1': 5.8627355029992117e-08, 'lambda_l2': 0.029387017123247216, 'n_estimators': 266, 'max_depth': 3}. Best is trial 33 with value: 2.1505521351670147.\u001b[0m\n"
     ]
    },
    {
     "name": "stdout",
     "output_type": "stream",
     "text": [
      "[LightGBM] [Warning] lambda_l1 is set=1.2805662293286067e-06, reg_alpha=0.0 will be ignored. Current value: lambda_l1=1.2805662293286067e-06\n",
      "[LightGBM] [Warning] bagging_fraction is set=0.5964061052477861, subsample=1.0 will be ignored. Current value: bagging_fraction=0.5964061052477861\n",
      "[LightGBM] [Warning] feature_fraction is set=0.45634933357331803, colsample_bytree=1.0 will be ignored. Current value: feature_fraction=0.45634933357331803\n",
      "[LightGBM] [Warning] lambda_l2 is set=0.0033913259987621435, reg_lambda=0.0 will be ignored. Current value: lambda_l2=0.0033913259987621435\n"
     ]
    },
    {
     "name": "stderr",
     "output_type": "stream",
     "text": [
      "\u001b[32m[I 2023-01-31 22:22:36,204]\u001b[0m Trial 89 finished with value: 2.2458346356481083 and parameters: {'feature_fraction': 0.45634933357331803, 'num_leaves': 22, 'bagging_fraction': 0.5964061052477861, 'lambda_l1': 1.2805662293286067e-06, 'lambda_l2': 0.0033913259987621435, 'n_estimators': 204, 'max_depth': 5}. Best is trial 33 with value: 2.1505521351670147.\u001b[0m\n"
     ]
    },
    {
     "name": "stdout",
     "output_type": "stream",
     "text": [
      "[LightGBM] [Warning] lambda_l1 is set=5.037955821157671e-07, reg_alpha=0.0 will be ignored. Current value: lambda_l1=5.037955821157671e-07\n",
      "[LightGBM] [Warning] bagging_fraction is set=0.5496641128346214, subsample=1.0 will be ignored. Current value: bagging_fraction=0.5496641128346214\n",
      "[LightGBM] [Warning] feature_fraction is set=0.49408087765869285, colsample_bytree=1.0 will be ignored. Current value: feature_fraction=0.49408087765869285\n",
      "[LightGBM] [Warning] lambda_l2 is set=0.11710308323022481, reg_lambda=0.0 will be ignored. Current value: lambda_l2=0.11710308323022481\n"
     ]
    },
    {
     "name": "stderr",
     "output_type": "stream",
     "text": [
      "\u001b[32m[I 2023-01-31 22:22:37,691]\u001b[0m Trial 90 finished with value: 2.185679882774915 and parameters: {'feature_fraction': 0.49408087765869285, 'num_leaves': 10, 'bagging_fraction': 0.5496641128346214, 'lambda_l1': 5.037955821157671e-07, 'lambda_l2': 0.11710308323022481, 'n_estimators': 279, 'max_depth': 3}. Best is trial 33 with value: 2.1505521351670147.\u001b[0m\n"
     ]
    },
    {
     "name": "stdout",
     "output_type": "stream",
     "text": [
      "[LightGBM] [Warning] lambda_l1 is set=1.1557390817103733e-06, reg_alpha=0.0 will be ignored. Current value: lambda_l1=1.1557390817103733e-06\n",
      "[LightGBM] [Warning] bagging_fraction is set=0.6410324183987905, subsample=1.0 will be ignored. Current value: bagging_fraction=0.6410324183987905\n",
      "[LightGBM] [Warning] feature_fraction is set=0.4369390540522138, colsample_bytree=1.0 will be ignored. Current value: feature_fraction=0.4369390540522138\n",
      "[LightGBM] [Warning] lambda_l2 is set=0.012213115172212302, reg_lambda=0.0 will be ignored. Current value: lambda_l2=0.012213115172212302\n"
     ]
    },
    {
     "name": "stderr",
     "output_type": "stream",
     "text": [
      "\u001b[32m[I 2023-01-31 22:22:38,960]\u001b[0m Trial 91 finished with value: 2.169509755750219 and parameters: {'feature_fraction': 0.4369390540522138, 'num_leaves': 63, 'bagging_fraction': 0.6410324183987905, 'lambda_l1': 1.1557390817103733e-06, 'lambda_l2': 0.012213115172212302, 'n_estimators': 242, 'max_depth': 3}. Best is trial 33 with value: 2.1505521351670147.\u001b[0m\n"
     ]
    },
    {
     "name": "stdout",
     "output_type": "stream",
     "text": [
      "[LightGBM] [Warning] lambda_l1 is set=2.8917267429522827e-06, reg_alpha=0.0 will be ignored. Current value: lambda_l1=2.8917267429522827e-06\n",
      "[LightGBM] [Warning] bagging_fraction is set=0.6781175856209564, subsample=1.0 will be ignored. Current value: bagging_fraction=0.6781175856209564\n",
      "[LightGBM] [Warning] feature_fraction is set=0.46338631270467523, colsample_bytree=1.0 will be ignored. Current value: feature_fraction=0.46338631270467523\n",
      "[LightGBM] [Warning] lambda_l2 is set=0.006528793926128735, reg_lambda=0.0 will be ignored. Current value: lambda_l2=0.006528793926128735\n"
     ]
    },
    {
     "name": "stderr",
     "output_type": "stream",
     "text": [
      "\u001b[32m[I 2023-01-31 22:22:40,303]\u001b[0m Trial 92 finished with value: 2.163960180720944 and parameters: {'feature_fraction': 0.46338631270467523, 'num_leaves': 153, 'bagging_fraction': 0.6781175856209564, 'lambda_l1': 2.8917267429522827e-06, 'lambda_l2': 0.006528793926128735, 'n_estimators': 256, 'max_depth': 3}. Best is trial 33 with value: 2.1505521351670147.\u001b[0m\n"
     ]
    },
    {
     "name": "stdout",
     "output_type": "stream",
     "text": [
      "[LightGBM] [Warning] lambda_l1 is set=2.1449979952620998e-06, reg_alpha=0.0 will be ignored. Current value: lambda_l1=2.1449979952620998e-06\n",
      "[LightGBM] [Warning] bagging_fraction is set=0.6676780967024588, subsample=1.0 will be ignored. Current value: bagging_fraction=0.6676780967024588\n",
      "[LightGBM] [Warning] feature_fraction is set=0.47430123292192744, colsample_bytree=1.0 will be ignored. Current value: feature_fraction=0.47430123292192744\n",
      "[LightGBM] [Warning] lambda_l2 is set=0.006602695437405294, reg_lambda=0.0 will be ignored. Current value: lambda_l2=0.006602695437405294\n"
     ]
    },
    {
     "name": "stderr",
     "output_type": "stream",
     "text": [
      "\u001b[32m[I 2023-01-31 22:22:41,687]\u001b[0m Trial 93 finished with value: 2.1848066814168607 and parameters: {'feature_fraction': 0.47430123292192744, 'num_leaves': 35, 'bagging_fraction': 0.6676780967024588, 'lambda_l1': 2.1449979952620998e-06, 'lambda_l2': 0.006602695437405294, 'n_estimators': 260, 'max_depth': 3}. Best is trial 33 with value: 2.1505521351670147.\u001b[0m\n"
     ]
    },
    {
     "name": "stdout",
     "output_type": "stream",
     "text": [
      "[LightGBM] [Warning] lambda_l1 is set=2.0625881105926668e-07, reg_alpha=0.0 will be ignored. Current value: lambda_l1=2.0625881105926668e-07\n",
      "[LightGBM] [Warning] bagging_fraction is set=0.6871276355793178, subsample=1.0 will be ignored. Current value: bagging_fraction=0.6871276355793178\n",
      "[LightGBM] [Warning] feature_fraction is set=0.5649901807112284, colsample_bytree=1.0 will be ignored. Current value: feature_fraction=0.5649901807112284\n",
      "[LightGBM] [Warning] lambda_l2 is set=0.017576606757223, reg_lambda=0.0 will be ignored. Current value: lambda_l2=0.017576606757223\n"
     ]
    },
    {
     "name": "stderr",
     "output_type": "stream",
     "text": [
      "\u001b[32m[I 2023-01-31 22:22:43,185]\u001b[0m Trial 94 finished with value: 2.175228997426447 and parameters: {'feature_fraction': 0.5649901807112284, 'num_leaves': 151, 'bagging_fraction': 0.6871276355793178, 'lambda_l1': 2.0625881105926668e-07, 'lambda_l2': 0.017576606757223, 'n_estimators': 252, 'max_depth': 3}. Best is trial 33 with value: 2.1505521351670147.\u001b[0m\n"
     ]
    },
    {
     "name": "stdout",
     "output_type": "stream",
     "text": [
      "[LightGBM] [Warning] lambda_l1 is set=7.791705243500896e-07, reg_alpha=0.0 will be ignored. Current value: lambda_l1=7.791705243500896e-07\n",
      "[LightGBM] [Warning] bagging_fraction is set=0.611867656081248, subsample=1.0 will be ignored. Current value: bagging_fraction=0.611867656081248\n",
      "[LightGBM] [Warning] feature_fraction is set=0.4199291120301336, colsample_bytree=1.0 will be ignored. Current value: feature_fraction=0.4199291120301336\n",
      "[LightGBM] [Warning] lambda_l2 is set=0.05072434835053681, reg_lambda=0.0 will be ignored. Current value: lambda_l2=0.05072434835053681\n"
     ]
    },
    {
     "name": "stderr",
     "output_type": "stream",
     "text": [
      "\u001b[32m[I 2023-01-31 22:22:44,147]\u001b[0m Trial 95 finished with value: 2.1845633371222153 and parameters: {'feature_fraction': 0.4199291120301336, 'num_leaves': 177, 'bagging_fraction': 0.611867656081248, 'lambda_l1': 7.791705243500896e-07, 'lambda_l2': 0.05072434835053681, 'n_estimators': 156, 'max_depth': 3}. Best is trial 33 with value: 2.1505521351670147.\u001b[0m\n"
     ]
    },
    {
     "name": "stdout",
     "output_type": "stream",
     "text": [
      "[LightGBM] [Warning] lambda_l1 is set=1.337664538221297e-05, reg_alpha=0.0 will be ignored. Current value: lambda_l1=1.337664538221297e-05\n",
      "[LightGBM] [Warning] bagging_fraction is set=0.590585596718621, subsample=1.0 will be ignored. Current value: bagging_fraction=0.590585596718621\n",
      "[LightGBM] [Warning] feature_fraction is set=0.5185644246203012, colsample_bytree=1.0 will be ignored. Current value: feature_fraction=0.5185644246203012\n",
      "[LightGBM] [Warning] lambda_l2 is set=0.001593728184694332, reg_lambda=0.0 will be ignored. Current value: lambda_l2=0.001593728184694332\n"
     ]
    },
    {
     "name": "stderr",
     "output_type": "stream",
     "text": [
      "\u001b[32m[I 2023-01-31 22:22:45,639]\u001b[0m Trial 96 finished with value: 2.1711167882369202 and parameters: {'feature_fraction': 0.5185644246203012, 'num_leaves': 54, 'bagging_fraction': 0.590585596718621, 'lambda_l1': 1.337664538221297e-05, 'lambda_l2': 0.001593728184694332, 'n_estimators': 269, 'max_depth': 3}. Best is trial 33 with value: 2.1505521351670147.\u001b[0m\n"
     ]
    },
    {
     "name": "stdout",
     "output_type": "stream",
     "text": [
      "[LightGBM] [Warning] lambda_l1 is set=4.87270665989118e-07, reg_alpha=0.0 will be ignored. Current value: lambda_l1=4.87270665989118e-07\n",
      "[LightGBM] [Warning] bagging_fraction is set=0.6544312993553059, subsample=1.0 will be ignored. Current value: bagging_fraction=0.6544312993553059\n",
      "[LightGBM] [Warning] feature_fraction is set=0.39266461641226, colsample_bytree=1.0 will be ignored. Current value: feature_fraction=0.39266461641226\n",
      "[LightGBM] [Warning] lambda_l2 is set=0.02658908388782757, reg_lambda=0.0 will be ignored. Current value: lambda_l2=0.02658908388782757\n"
     ]
    },
    {
     "name": "stderr",
     "output_type": "stream",
     "text": [
      "\u001b[32m[I 2023-01-31 22:22:46,768]\u001b[0m Trial 97 finished with value: 2.186683990287307 and parameters: {'feature_fraction': 0.39266461641226, 'num_leaves': 44, 'bagging_fraction': 0.6544312993553059, 'lambda_l1': 4.87270665989118e-07, 'lambda_l2': 0.02658908388782757, 'n_estimators': 219, 'max_depth': 3}. Best is trial 33 with value: 2.1505521351670147.\u001b[0m\n"
     ]
    },
    {
     "name": "stdout",
     "output_type": "stream",
     "text": [
      "[LightGBM] [Warning] lambda_l1 is set=1.4613147308678175e-07, reg_alpha=0.0 will be ignored. Current value: lambda_l1=1.4613147308678175e-07\n",
      "[LightGBM] [Warning] bagging_fraction is set=0.6165497550269313, subsample=1.0 will be ignored. Current value: bagging_fraction=0.6165497550269313\n",
      "[LightGBM] [Warning] feature_fraction is set=0.48230559599008904, colsample_bytree=1.0 will be ignored. Current value: feature_fraction=0.48230559599008904\n",
      "[LightGBM] [Warning] lambda_l2 is set=0.005476352954907784, reg_lambda=0.0 will be ignored. Current value: lambda_l2=0.005476352954907784\n"
     ]
    },
    {
     "name": "stderr",
     "output_type": "stream",
     "text": [
      "\u001b[32m[I 2023-01-31 22:22:48,046]\u001b[0m Trial 98 finished with value: 2.173061276459942 and parameters: {'feature_fraction': 0.48230559599008904, 'num_leaves': 76, 'bagging_fraction': 0.6165497550269313, 'lambda_l1': 1.4613147308678175e-07, 'lambda_l2': 0.005476352954907784, 'n_estimators': 228, 'max_depth': 3}. Best is trial 33 with value: 2.1505521351670147.\u001b[0m\n"
     ]
    },
    {
     "name": "stdout",
     "output_type": "stream",
     "text": [
      "[LightGBM] [Warning] lambda_l1 is set=1.8207824556022175e-08, reg_alpha=0.0 will be ignored. Current value: lambda_l1=1.8207824556022175e-08\n",
      "[LightGBM] [Warning] bagging_fraction is set=0.5745484468937236, subsample=1.0 will be ignored. Current value: bagging_fraction=0.5745484468937236\n",
      "[LightGBM] [Warning] feature_fraction is set=0.45434539419616726, colsample_bytree=1.0 will be ignored. Current value: feature_fraction=0.45434539419616726\n",
      "[LightGBM] [Warning] lambda_l2 is set=0.08721152084564192, reg_lambda=0.0 will be ignored. Current value: lambda_l2=0.08721152084564192\n"
     ]
    },
    {
     "name": "stderr",
     "output_type": "stream",
     "text": [
      "\u001b[32m[I 2023-01-31 22:22:49,059]\u001b[0m Trial 99 finished with value: 2.2069384237955587 and parameters: {'feature_fraction': 0.45434539419616726, 'num_leaves': 25, 'bagging_fraction': 0.5745484468937236, 'lambda_l1': 1.8207824556022175e-08, 'lambda_l2': 0.08721152084564192, 'n_estimators': 245, 'max_depth': 2}. Best is trial 33 with value: 2.1505521351670147.\u001b[0m\n"
     ]
    },
    {
     "name": "stdout",
     "output_type": "stream",
     "text": [
      "[LightGBM] [Warning] lambda_l1 is set=9.241768227498948e-08, reg_alpha=0.0 will be ignored. Current value: lambda_l1=9.241768227498948e-08\n",
      "[LightGBM] [Warning] bagging_fraction is set=0.539483024662743, subsample=1.0 will be ignored. Current value: bagging_fraction=0.539483024662743\n",
      "[LightGBM] [Warning] feature_fraction is set=0.37239963690762534, colsample_bytree=1.0 will be ignored. Current value: feature_fraction=0.37239963690762534\n",
      "[LightGBM] [Warning] lambda_l2 is set=0.009212995693824636, reg_lambda=0.0 will be ignored. Current value: lambda_l2=0.009212995693824636\n"
     ]
    },
    {
     "name": "stderr",
     "output_type": "stream",
     "text": [
      "\u001b[32m[I 2023-01-31 22:22:50,267]\u001b[0m Trial 100 finished with value: 2.186341633862271 and parameters: {'feature_fraction': 0.37239963690762534, 'num_leaves': 32, 'bagging_fraction': 0.539483024662743, 'lambda_l1': 9.241768227498948e-08, 'lambda_l2': 0.009212995693824636, 'n_estimators': 256, 'max_depth': 3}. Best is trial 33 with value: 2.1505521351670147.\u001b[0m\n"
     ]
    },
    {
     "name": "stdout",
     "output_type": "stream",
     "text": [
      "[LightGBM] [Warning] lambda_l1 is set=3.493341636878639e-06, reg_alpha=0.0 will be ignored. Current value: lambda_l1=3.493341636878639e-06\n",
      "[LightGBM] [Warning] bagging_fraction is set=0.6324036802823417, subsample=1.0 will be ignored. Current value: bagging_fraction=0.6324036802823417\n",
      "[LightGBM] [Warning] feature_fraction is set=0.4280207782766552, colsample_bytree=1.0 will be ignored. Current value: feature_fraction=0.4280207782766552\n",
      "[LightGBM] [Warning] lambda_l2 is set=0.0032043134995589106, reg_lambda=0.0 will be ignored. Current value: lambda_l2=0.0032043134995589106\n"
     ]
    },
    {
     "name": "stderr",
     "output_type": "stream",
     "text": [
      "\u001b[32m[I 2023-01-31 22:22:51,482]\u001b[0m Trial 101 finished with value: 2.1851909483786014 and parameters: {'feature_fraction': 0.4280207782766552, 'num_leaves': 142, 'bagging_fraction': 0.6324036802823417, 'lambda_l1': 3.493341636878639e-06, 'lambda_l2': 0.0032043134995589106, 'n_estimators': 232, 'max_depth': 3}. Best is trial 33 with value: 2.1505521351670147.\u001b[0m\n"
     ]
    },
    {
     "name": "stdout",
     "output_type": "stream",
     "text": [
      "[LightGBM] [Warning] lambda_l1 is set=9.460837144123507e-07, reg_alpha=0.0 will be ignored. Current value: lambda_l1=9.460837144123507e-07\n",
      "[LightGBM] [Warning] bagging_fraction is set=0.6514815319416697, subsample=1.0 will be ignored. Current value: bagging_fraction=0.6514815319416697\n",
      "[LightGBM] [Warning] feature_fraction is set=0.4127113400159048, colsample_bytree=1.0 will be ignored. Current value: feature_fraction=0.4127113400159048\n",
      "[LightGBM] [Warning] lambda_l2 is set=0.02192961519789429, reg_lambda=0.0 will be ignored. Current value: lambda_l2=0.02192961519789429\n"
     ]
    },
    {
     "name": "stderr",
     "output_type": "stream",
     "text": [
      "\u001b[32m[I 2023-01-31 22:22:52,700]\u001b[0m Trial 102 finished with value: 2.18692213741725 and parameters: {'feature_fraction': 0.4127113400159048, 'num_leaves': 156, 'bagging_fraction': 0.6514815319416697, 'lambda_l1': 9.460837144123507e-07, 'lambda_l2': 0.02192961519789429, 'n_estimators': 236, 'max_depth': 3}. Best is trial 33 with value: 2.1505521351670147.\u001b[0m\n"
     ]
    },
    {
     "name": "stdout",
     "output_type": "stream",
     "text": [
      "[LightGBM] [Warning] lambda_l1 is set=3.471685129169653e-07, reg_alpha=0.0 will be ignored. Current value: lambda_l1=3.471685129169653e-07\n",
      "[LightGBM] [Warning] bagging_fraction is set=0.6711518304797958, subsample=1.0 will be ignored. Current value: bagging_fraction=0.6711518304797958\n",
      "[LightGBM] [Warning] feature_fraction is set=0.4407868834862561, colsample_bytree=1.0 will be ignored. Current value: feature_fraction=0.4407868834862561\n",
      "[LightGBM] [Warning] lambda_l2 is set=0.008014703283147155, reg_lambda=0.0 will be ignored. Current value: lambda_l2=0.008014703283147155\n"
     ]
    },
    {
     "name": "stderr",
     "output_type": "stream",
     "text": [
      "\u001b[32m[I 2023-01-31 22:22:53,977]\u001b[0m Trial 103 finished with value: 2.1874412524308804 and parameters: {'feature_fraction': 0.4407868834862561, 'num_leaves': 169, 'bagging_fraction': 0.6711518304797958, 'lambda_l1': 3.471685129169653e-07, 'lambda_l2': 0.008014703283147155, 'n_estimators': 244, 'max_depth': 3}. Best is trial 33 with value: 2.1505521351670147.\u001b[0m\n"
     ]
    },
    {
     "name": "stdout",
     "output_type": "stream",
     "text": [
      "[LightGBM] [Warning] lambda_l1 is set=1.554018885441756e-06, reg_alpha=0.0 will be ignored. Current value: lambda_l1=1.554018885441756e-06\n",
      "[LightGBM] [Warning] bagging_fraction is set=0.4714499490360759, subsample=1.0 will be ignored. Current value: bagging_fraction=0.4714499490360759\n",
      "[LightGBM] [Warning] feature_fraction is set=0.49199428067403983, colsample_bytree=1.0 will be ignored. Current value: feature_fraction=0.49199428067403983\n",
      "[LightGBM] [Warning] lambda_l2 is set=0.004209479794216381, reg_lambda=0.0 will be ignored. Current value: lambda_l2=0.004209479794216381\n"
     ]
    },
    {
     "name": "stderr",
     "output_type": "stream",
     "text": [
      "\u001b[32m[I 2023-01-31 22:22:55,394]\u001b[0m Trial 104 finished with value: 2.1808132401920286 and parameters: {'feature_fraction': 0.49199428067403983, 'num_leaves': 123, 'bagging_fraction': 0.4714499490360759, 'lambda_l1': 1.554018885441756e-06, 'lambda_l2': 0.004209479794216381, 'n_estimators': 264, 'max_depth': 3}. Best is trial 33 with value: 2.1505521351670147.\u001b[0m\n"
     ]
    },
    {
     "name": "stdout",
     "output_type": "stream",
     "text": [
      "[LightGBM] [Warning] lambda_l1 is set=5.027226800976521e-06, reg_alpha=0.0 will be ignored. Current value: lambda_l1=5.027226800976521e-06\n",
      "[LightGBM] [Warning] bagging_fraction is set=0.6357850291595969, subsample=1.0 will be ignored. Current value: bagging_fraction=0.6357850291595969\n",
      "[LightGBM] [Warning] feature_fraction is set=0.4674812967227818, colsample_bytree=1.0 will be ignored. Current value: feature_fraction=0.4674812967227818\n",
      "[LightGBM] [Warning] lambda_l2 is set=0.03316084675017442, reg_lambda=0.0 will be ignored. Current value: lambda_l2=0.03316084675017442\n"
     ]
    },
    {
     "name": "stderr",
     "output_type": "stream",
     "text": [
      "\u001b[32m[I 2023-01-31 22:22:56,858]\u001b[0m Trial 105 finished with value: 2.1663159410055206 and parameters: {'feature_fraction': 0.4674812967227818, 'num_leaves': 149, 'bagging_fraction': 0.6357850291595969, 'lambda_l1': 5.027226800976521e-06, 'lambda_l2': 0.03316084675017442, 'n_estimators': 285, 'max_depth': 3}. Best is trial 33 with value: 2.1505521351670147.\u001b[0m\n"
     ]
    },
    {
     "name": "stdout",
     "output_type": "stream",
     "text": [
      "[LightGBM] [Warning] lambda_l1 is set=2.5119155806823823e-06, reg_alpha=0.0 will be ignored. Current value: lambda_l1=2.5119155806823823e-06\n",
      "[LightGBM] [Warning] bagging_fraction is set=0.623056461386186, subsample=1.0 will be ignored. Current value: bagging_fraction=0.623056461386186\n",
      "[LightGBM] [Warning] feature_fraction is set=0.45943460560031346, colsample_bytree=1.0 will be ignored. Current value: feature_fraction=0.45943460560031346\n",
      "[LightGBM] [Warning] lambda_l2 is set=0.038651226555270896, reg_lambda=0.0 will be ignored. Current value: lambda_l2=0.038651226555270896\n"
     ]
    },
    {
     "name": "stderr",
     "output_type": "stream",
     "text": [
      "\u001b[32m[I 2023-01-31 22:22:58,318]\u001b[0m Trial 106 finished with value: 2.1484556480100307 and parameters: {'feature_fraction': 0.45943460560031346, 'num_leaves': 160, 'bagging_fraction': 0.623056461386186, 'lambda_l1': 2.5119155806823823e-06, 'lambda_l2': 0.038651226555270896, 'n_estimators': 287, 'max_depth': 3}. Best is trial 106 with value: 2.1484556480100307.\u001b[0m\n"
     ]
    },
    {
     "name": "stdout",
     "output_type": "stream",
     "text": [
      "[LightGBM] [Warning] lambda_l1 is set=2.1485424853378545e-06, reg_alpha=0.0 will be ignored. Current value: lambda_l1=2.1485424853378545e-06\n",
      "[LightGBM] [Warning] bagging_fraction is set=0.608935943928273, subsample=1.0 will be ignored. Current value: bagging_fraction=0.608935943928273\n",
      "[LightGBM] [Warning] feature_fraction is set=0.5329871011733178, colsample_bytree=1.0 will be ignored. Current value: feature_fraction=0.5329871011733178\n",
      "[LightGBM] [Warning] lambda_l2 is set=0.06581623540282064, reg_lambda=0.0 will be ignored. Current value: lambda_l2=0.06581623540282064\n"
     ]
    },
    {
     "name": "stderr",
     "output_type": "stream",
     "text": [
      "\u001b[32m[I 2023-01-31 22:22:59,855]\u001b[0m Trial 107 finished with value: 2.1701393189508282 and parameters: {'feature_fraction': 0.5329871011733178, 'num_leaves': 162, 'bagging_fraction': 0.608935943928273, 'lambda_l1': 2.1485424853378545e-06, 'lambda_l2': 0.06581623540282064, 'n_estimators': 275, 'max_depth': 3}. Best is trial 106 with value: 2.1484556480100307.\u001b[0m\n"
     ]
    },
    {
     "name": "stdout",
     "output_type": "stream",
     "text": [
      "[LightGBM] [Warning] lambda_l1 is set=6.40077905161945e-06, reg_alpha=0.0 will be ignored. Current value: lambda_l1=6.40077905161945e-06\n",
      "[LightGBM] [Warning] bagging_fraction is set=0.6229141373673388, subsample=1.0 will be ignored. Current value: bagging_fraction=0.6229141373673388\n",
      "[LightGBM] [Warning] feature_fraction is set=0.50515955641277, colsample_bytree=1.0 will be ignored. Current value: feature_fraction=0.50515955641277\n",
      "[LightGBM] [Warning] lambda_l2 is set=0.15929377889089208, reg_lambda=0.0 will be ignored. Current value: lambda_l2=0.15929377889089208\n"
     ]
    },
    {
     "name": "stderr",
     "output_type": "stream",
     "text": [
      "\u001b[32m[I 2023-01-31 22:23:01,408]\u001b[0m Trial 108 finished with value: 2.1885884364704156 and parameters: {'feature_fraction': 0.50515955641277, 'num_leaves': 173, 'bagging_fraction': 0.6229141373673388, 'lambda_l1': 6.40077905161945e-06, 'lambda_l2': 0.15929377889089208, 'n_estimators': 292, 'max_depth': 3}. Best is trial 106 with value: 2.1484556480100307.\u001b[0m\n"
     ]
    },
    {
     "name": "stdout",
     "output_type": "stream",
     "text": [
      "[LightGBM] [Warning] lambda_l1 is set=5.948990106183105e-07, reg_alpha=0.0 will be ignored. Current value: lambda_l1=5.948990106183105e-07\n",
      "[LightGBM] [Warning] bagging_fraction is set=0.6599591182301099, subsample=1.0 will be ignored. Current value: bagging_fraction=0.6599591182301099\n",
      "[LightGBM] [Warning] feature_fraction is set=0.38411898005417516, colsample_bytree=1.0 will be ignored. Current value: feature_fraction=0.38411898005417516\n",
      "[LightGBM] [Warning] lambda_l2 is set=0.39975416062247976, reg_lambda=0.0 will be ignored. Current value: lambda_l2=0.39975416062247976\n"
     ]
    },
    {
     "name": "stderr",
     "output_type": "stream",
     "text": [
      "\u001b[32m[I 2023-01-31 22:23:02,698]\u001b[0m Trial 109 finished with value: 2.189301823352688 and parameters: {'feature_fraction': 0.38411898005417516, 'num_leaves': 69, 'bagging_fraction': 0.6599591182301099, 'lambda_l1': 5.948990106183105e-07, 'lambda_l2': 0.39975416062247976, 'n_estimators': 273, 'max_depth': 3}. Best is trial 106 with value: 2.1484556480100307.\u001b[0m\n"
     ]
    },
    {
     "name": "stdout",
     "output_type": "stream",
     "text": [
      "[LightGBM] [Warning] lambda_l1 is set=2.626721786852621e-07, reg_alpha=0.0 will be ignored. Current value: lambda_l1=2.626721786852621e-07\n",
      "[LightGBM] [Warning] bagging_fraction is set=0.5914121042615527, subsample=1.0 will be ignored. Current value: bagging_fraction=0.5914121042615527\n",
      "[LightGBM] [Warning] feature_fraction is set=0.4575238966248838, colsample_bytree=1.0 will be ignored. Current value: feature_fraction=0.4575238966248838\n",
      "[LightGBM] [Warning] lambda_l2 is set=0.018353290483977838, reg_lambda=0.0 will be ignored. Current value: lambda_l2=0.018353290483977838\n"
     ]
    },
    {
     "name": "stderr",
     "output_type": "stream",
     "text": [
      "\u001b[32m[I 2023-01-31 22:23:04,436]\u001b[0m Trial 110 finished with value: 2.2172815408288575 and parameters: {'feature_fraction': 0.4575238966248838, 'num_leaves': 196, 'bagging_fraction': 0.5914121042615527, 'lambda_l1': 2.626721786852621e-07, 'lambda_l2': 0.018353290483977838, 'n_estimators': 251, 'max_depth': 4}. Best is trial 106 with value: 2.1484556480100307.\u001b[0m\n"
     ]
    },
    {
     "name": "stdout",
     "output_type": "stream",
     "text": [
      "[LightGBM] [Warning] lambda_l1 is set=3.4649210207495772e-06, reg_alpha=0.0 will be ignored. Current value: lambda_l1=3.4649210207495772e-06\n",
      "[LightGBM] [Warning] bagging_fraction is set=0.6364787747101224, subsample=1.0 will be ignored. Current value: bagging_fraction=0.6364787747101224\n",
      "[LightGBM] [Warning] feature_fraction is set=0.4600811865625425, colsample_bytree=1.0 will be ignored. Current value: feature_fraction=0.4600811865625425\n",
      "[LightGBM] [Warning] lambda_l2 is set=0.050307478469725914, reg_lambda=0.0 will be ignored. Current value: lambda_l2=0.050307478469725914\n"
     ]
    },
    {
     "name": "stderr",
     "output_type": "stream",
     "text": [
      "\u001b[32m[I 2023-01-31 22:23:05,884]\u001b[0m Trial 111 finished with value: 2.1531139786058158 and parameters: {'feature_fraction': 0.4600811865625425, 'num_leaves': 147, 'bagging_fraction': 0.6364787747101224, 'lambda_l1': 3.4649210207495772e-06, 'lambda_l2': 0.050307478469725914, 'n_estimators': 282, 'max_depth': 3}. Best is trial 106 with value: 2.1484556480100307.\u001b[0m\n"
     ]
    },
    {
     "name": "stdout",
     "output_type": "stream",
     "text": [
      "[LightGBM] [Warning] lambda_l1 is set=2.5936326902949075e-06, reg_alpha=0.0 will be ignored. Current value: lambda_l1=2.5936326902949075e-06\n",
      "[LightGBM] [Warning] bagging_fraction is set=0.642054968328327, subsample=1.0 will be ignored. Current value: bagging_fraction=0.642054968328327\n",
      "[LightGBM] [Warning] feature_fraction is set=0.4059273635245966, colsample_bytree=1.0 will be ignored. Current value: feature_fraction=0.4059273635245966\n",
      "[LightGBM] [Warning] lambda_l2 is set=0.04699683996652777, reg_lambda=0.0 will be ignored. Current value: lambda_l2=0.04699683996652777\n"
     ]
    },
    {
     "name": "stderr",
     "output_type": "stream",
     "text": [
      "\u001b[32m[I 2023-01-31 22:23:07,226]\u001b[0m Trial 112 finished with value: 2.179864350095547 and parameters: {'feature_fraction': 0.4059273635245966, 'num_leaves': 155, 'bagging_fraction': 0.642054968328327, 'lambda_l1': 2.5936326902949075e-06, 'lambda_l2': 0.04699683996652777, 'n_estimators': 279, 'max_depth': 3}. Best is trial 106 with value: 2.1484556480100307.\u001b[0m\n"
     ]
    },
    {
     "name": "stdout",
     "output_type": "stream",
     "text": [
      "[LightGBM] [Warning] lambda_l1 is set=1.3784758111688751e-06, reg_alpha=0.0 will be ignored. Current value: lambda_l1=1.3784758111688751e-06\n",
      "[LightGBM] [Warning] bagging_fraction is set=0.6801927503437257, subsample=1.0 will be ignored. Current value: bagging_fraction=0.6801927503437257\n",
      "[LightGBM] [Warning] feature_fraction is set=0.4784031474213379, colsample_bytree=1.0 will be ignored. Current value: feature_fraction=0.4784031474213379\n",
      "[LightGBM] [Warning] lambda_l2 is set=0.1086706733697483, reg_lambda=0.0 will be ignored. Current value: lambda_l2=0.1086706733697483\n"
     ]
    },
    {
     "name": "stderr",
     "output_type": "stream",
     "text": [
      "\u001b[32m[I 2023-01-31 22:23:08,728]\u001b[0m Trial 113 finished with value: 2.1893624114606256 and parameters: {'feature_fraction': 0.4784031474213379, 'num_leaves': 145, 'bagging_fraction': 0.6801927503437257, 'lambda_l1': 1.3784758111688751e-06, 'lambda_l2': 0.1086706733697483, 'n_estimators': 289, 'max_depth': 3}. Best is trial 106 with value: 2.1484556480100307.\u001b[0m\n"
     ]
    },
    {
     "name": "stdout",
     "output_type": "stream",
     "text": [
      "[LightGBM] [Warning] lambda_l1 is set=2.961367626131793e-08, reg_alpha=0.0 will be ignored. Current value: lambda_l1=2.961367626131793e-08\n",
      "[LightGBM] [Warning] bagging_fraction is set=0.596788707965384, subsample=1.0 will be ignored. Current value: bagging_fraction=0.596788707965384\n",
      "[LightGBM] [Warning] feature_fraction is set=0.43842500373991505, colsample_bytree=1.0 will be ignored. Current value: feature_fraction=0.43842500373991505\n",
      "[LightGBM] [Warning] lambda_l2 is set=0.2550461246172835, reg_lambda=0.0 will be ignored. Current value: lambda_l2=0.2550461246172835\n"
     ]
    },
    {
     "name": "stderr",
     "output_type": "stream",
     "text": [
      "\u001b[32m[I 2023-01-31 22:23:10,181]\u001b[0m Trial 114 finished with value: 2.1654928056003224 and parameters: {'feature_fraction': 0.43842500373991505, 'num_leaves': 182, 'bagging_fraction': 0.596788707965384, 'lambda_l1': 2.961367626131793e-08, 'lambda_l2': 0.2550461246172835, 'n_estimators': 297, 'max_depth': 3}. Best is trial 106 with value: 2.1484556480100307.\u001b[0m\n"
     ]
    },
    {
     "name": "stdout",
     "output_type": "stream",
     "text": [
      "[LightGBM] [Warning] lambda_l1 is set=4.606862685005565e-08, reg_alpha=0.0 will be ignored. Current value: lambda_l1=4.606862685005565e-08\n",
      "[LightGBM] [Warning] bagging_fraction is set=0.6020442037070215, subsample=1.0 will be ignored. Current value: bagging_fraction=0.6020442037070215\n",
      "[LightGBM] [Warning] feature_fraction is set=0.436425967688939, colsample_bytree=1.0 will be ignored. Current value: feature_fraction=0.436425967688939\n",
      "[LightGBM] [Warning] lambda_l2 is set=0.25726276915731516, reg_lambda=0.0 will be ignored. Current value: lambda_l2=0.25726276915731516\n"
     ]
    },
    {
     "name": "stderr",
     "output_type": "stream",
     "text": [
      "\u001b[32m[I 2023-01-31 22:23:11,841]\u001b[0m Trial 115 finished with value: 2.177937744255724 and parameters: {'feature_fraction': 0.436425967688939, 'num_leaves': 179, 'bagging_fraction': 0.6020442037070215, 'lambda_l1': 4.606862685005565e-08, 'lambda_l2': 0.25726276915731516, 'n_estimators': 300, 'max_depth': 3}. Best is trial 106 with value: 2.1484556480100307.\u001b[0m\n"
     ]
    },
    {
     "name": "stdout",
     "output_type": "stream",
     "text": [
      "[LightGBM] [Warning] lambda_l1 is set=3.319713718630728e-06, reg_alpha=0.0 will be ignored. Current value: lambda_l1=3.319713718630728e-06\n",
      "[LightGBM] [Warning] bagging_fraction is set=0.6232990490736777, subsample=1.0 will be ignored. Current value: bagging_fraction=0.6232990490736777\n",
      "[LightGBM] [Warning] feature_fraction is set=0.4237054563654623, colsample_bytree=1.0 will be ignored. Current value: feature_fraction=0.4237054563654623\n",
      "[LightGBM] [Warning] lambda_l2 is set=0.41572607907322434, reg_lambda=0.0 will be ignored. Current value: lambda_l2=0.41572607907322434\n"
     ]
    },
    {
     "name": "stderr",
     "output_type": "stream",
     "text": [
      "\u001b[32m[I 2023-01-31 22:23:13,228]\u001b[0m Trial 116 finished with value: 2.1785985553185543 and parameters: {'feature_fraction': 0.4237054563654623, 'num_leaves': 186, 'bagging_fraction': 0.6232990490736777, 'lambda_l1': 3.319713718630728e-06, 'lambda_l2': 0.41572607907322434, 'n_estimators': 282, 'max_depth': 3}. Best is trial 106 with value: 2.1484556480100307.\u001b[0m\n"
     ]
    },
    {
     "name": "stdout",
     "output_type": "stream",
     "text": [
      "[LightGBM] [Warning] lambda_l1 is set=3.165588079758736e-08, reg_alpha=0.0 will be ignored. Current value: lambda_l1=3.165588079758736e-08\n",
      "[LightGBM] [Warning] bagging_fraction is set=0.587960828018499, subsample=1.0 will be ignored. Current value: bagging_fraction=0.587960828018499\n",
      "[LightGBM] [Warning] feature_fraction is set=0.36789310239690065, colsample_bytree=1.0 will be ignored. Current value: feature_fraction=0.36789310239690065\n",
      "[LightGBM] [Warning] lambda_l2 is set=0.13587727113445014, reg_lambda=0.0 will be ignored. Current value: lambda_l2=0.13587727113445014\n"
     ]
    },
    {
     "name": "stderr",
     "output_type": "stream",
     "text": [
      "\u001b[32m[I 2023-01-31 22:23:14,544]\u001b[0m Trial 117 finished with value: 2.198983455972063 and parameters: {'feature_fraction': 0.36789310239690065, 'num_leaves': 207, 'bagging_fraction': 0.587960828018499, 'lambda_l1': 3.165588079758736e-08, 'lambda_l2': 0.13587727113445014, 'n_estimators': 295, 'max_depth': 3}. Best is trial 106 with value: 2.1484556480100307.\u001b[0m\n"
     ]
    },
    {
     "name": "stdout",
     "output_type": "stream",
     "text": [
      "[LightGBM] [Warning] lambda_l1 is set=9.660284463252974e-06, reg_alpha=0.0 will be ignored. Current value: lambda_l1=9.660284463252974e-06\n",
      "[LightGBM] [Warning] bagging_fraction is set=0.6145256705981458, subsample=1.0 will be ignored. Current value: bagging_fraction=0.6145256705981458\n",
      "[LightGBM] [Warning] feature_fraction is set=0.3444858639268928, colsample_bytree=1.0 will be ignored. Current value: feature_fraction=0.3444858639268928\n",
      "[LightGBM] [Warning] lambda_l2 is set=0.012161973368316207, reg_lambda=0.0 will be ignored. Current value: lambda_l2=0.012161973368316207\n"
     ]
    },
    {
     "name": "stderr",
     "output_type": "stream",
     "text": [
      "\u001b[32m[I 2023-01-31 22:23:15,728]\u001b[0m Trial 118 finished with value: 2.2059659386847175 and parameters: {'feature_fraction': 0.3444858639268928, 'num_leaves': 137, 'bagging_fraction': 0.6145256705981458, 'lambda_l1': 9.660284463252974e-06, 'lambda_l2': 0.012161973368316207, 'n_estimators': 259, 'max_depth': 3}. Best is trial 106 with value: 2.1484556480100307.\u001b[0m\n"
     ]
    },
    {
     "name": "stdout",
     "output_type": "stream",
     "text": [
      "[LightGBM] [Warning] lambda_l1 is set=1.921804371904752e-08, reg_alpha=0.0 will be ignored. Current value: lambda_l1=1.921804371904752e-08\n",
      "[LightGBM] [Warning] bagging_fraction is set=0.5679805367766275, subsample=1.0 will be ignored. Current value: bagging_fraction=0.5679805367766275\n",
      "[LightGBM] [Warning] feature_fraction is set=0.4950354046893678, colsample_bytree=1.0 will be ignored. Current value: feature_fraction=0.4950354046893678\n",
      "[LightGBM] [Warning] lambda_l2 is set=0.04405441518968465, reg_lambda=0.0 will be ignored. Current value: lambda_l2=0.04405441518968465\n"
     ]
    },
    {
     "name": "stderr",
     "output_type": "stream",
     "text": [
      "\u001b[32m[I 2023-01-31 22:23:16,865]\u001b[0m Trial 119 finished with value: 2.1934611814730425 and parameters: {'feature_fraction': 0.4950354046893678, 'num_leaves': 185, 'bagging_fraction': 0.5679805367766275, 'lambda_l1': 1.921804371904752e-08, 'lambda_l2': 0.04405441518968465, 'n_estimators': 184, 'max_depth': 3}. Best is trial 106 with value: 2.1484556480100307.\u001b[0m\n"
     ]
    },
    {
     "name": "stdout",
     "output_type": "stream",
     "text": [
      "[LightGBM] [Warning] lambda_l1 is set=6.928958653322475e-08, reg_alpha=0.0 will be ignored. Current value: lambda_l1=6.928958653322475e-08\n",
      "[LightGBM] [Warning] bagging_fraction is set=0.5777670434994682, subsample=1.0 will be ignored. Current value: bagging_fraction=0.5777670434994682\n",
      "[LightGBM] [Warning] feature_fraction is set=0.5471734893368505, colsample_bytree=1.0 will be ignored. Current value: feature_fraction=0.5471734893368505\n",
      "[LightGBM] [Warning] lambda_l2 is set=0.02808982827080875, reg_lambda=0.0 will be ignored. Current value: lambda_l2=0.02808982827080875\n"
     ]
    },
    {
     "name": "stderr",
     "output_type": "stream",
     "text": [
      "\u001b[32m[I 2023-01-31 22:23:18,471]\u001b[0m Trial 120 finished with value: 2.1739564551652117 and parameters: {'feature_fraction': 0.5471734893368505, 'num_leaves': 157, 'bagging_fraction': 0.5777670434994682, 'lambda_l1': 6.928958653322475e-08, 'lambda_l2': 0.02808982827080875, 'n_estimators': 287, 'max_depth': 3}. Best is trial 106 with value: 2.1484556480100307.\u001b[0m\n"
     ]
    },
    {
     "name": "stdout",
     "output_type": "stream",
     "text": [
      "[LightGBM] [Warning] lambda_l1 is set=9.502615834963597e-08, reg_alpha=0.0 will be ignored. Current value: lambda_l1=9.502615834963597e-08\n",
      "[LightGBM] [Warning] bagging_fraction is set=0.4890464035611952, subsample=1.0 will be ignored. Current value: bagging_fraction=0.4890464035611952\n",
      "[LightGBM] [Warning] feature_fraction is set=0.456928369848282, colsample_bytree=1.0 will be ignored. Current value: feature_fraction=0.456928369848282\n",
      "[LightGBM] [Warning] lambda_l2 is set=0.2470011363324263, reg_lambda=0.0 will be ignored. Current value: lambda_l2=0.2470011363324263\n"
     ]
    },
    {
     "name": "stderr",
     "output_type": "stream",
     "text": [
      "\u001b[32m[I 2023-01-31 22:23:19,870]\u001b[0m Trial 121 finished with value: 2.1565193005048364 and parameters: {'feature_fraction': 0.456928369848282, 'num_leaves': 166, 'bagging_fraction': 0.4890464035611952, 'lambda_l1': 9.502615834963597e-08, 'lambda_l2': 0.2470011363324263, 'n_estimators': 270, 'max_depth': 3}. Best is trial 106 with value: 2.1484556480100307.\u001b[0m\n"
     ]
    },
    {
     "name": "stdout",
     "output_type": "stream",
     "text": [
      "[LightGBM] [Warning] lambda_l1 is set=1.1352392494776181e-08, reg_alpha=0.0 will be ignored. Current value: lambda_l1=1.1352392494776181e-08\n",
      "[LightGBM] [Warning] bagging_fraction is set=0.491500001629979, subsample=1.0 will be ignored. Current value: bagging_fraction=0.491500001629979\n",
      "[LightGBM] [Warning] feature_fraction is set=0.4637433156513897, colsample_bytree=1.0 will be ignored. Current value: feature_fraction=0.4637433156513897\n",
      "[LightGBM] [Warning] lambda_l2 is set=0.9326299162861617, reg_lambda=0.0 will be ignored. Current value: lambda_l2=0.9326299162861617\n"
     ]
    },
    {
     "name": "stderr",
     "output_type": "stream",
     "text": [
      "\u001b[32m[I 2023-01-31 22:23:21,294]\u001b[0m Trial 122 finished with value: 2.13743364476794 and parameters: {'feature_fraction': 0.4637433156513897, 'num_leaves': 166, 'bagging_fraction': 0.491500001629979, 'lambda_l1': 1.1352392494776181e-08, 'lambda_l2': 0.9326299162861617, 'n_estimators': 269, 'max_depth': 3}. Best is trial 122 with value: 2.13743364476794.\u001b[0m\n"
     ]
    },
    {
     "name": "stdout",
     "output_type": "stream",
     "text": [
      "[LightGBM] [Warning] lambda_l1 is set=1.6727787261929137e-07, reg_alpha=0.0 will be ignored. Current value: lambda_l1=1.6727787261929137e-07\n",
      "[LightGBM] [Warning] bagging_fraction is set=0.5034507175496111, subsample=1.0 will be ignored. Current value: bagging_fraction=0.5034507175496111\n",
      "[LightGBM] [Warning] feature_fraction is set=0.459470585755291, colsample_bytree=1.0 will be ignored. Current value: feature_fraction=0.459470585755291\n",
      "[LightGBM] [Warning] lambda_l2 is set=1.1969701472047223, reg_lambda=0.0 will be ignored. Current value: lambda_l2=1.1969701472047223\n"
     ]
    },
    {
     "name": "stderr",
     "output_type": "stream",
     "text": [
      "\u001b[32m[I 2023-01-31 22:23:22,730]\u001b[0m Trial 123 finished with value: 2.174520751110944 and parameters: {'feature_fraction': 0.459470585755291, 'num_leaves': 164, 'bagging_fraction': 0.5034507175496111, 'lambda_l1': 1.6727787261929137e-07, 'lambda_l2': 1.1969701472047223, 'n_estimators': 268, 'max_depth': 3}. Best is trial 122 with value: 2.13743364476794.\u001b[0m\n"
     ]
    },
    {
     "name": "stdout",
     "output_type": "stream",
     "text": [
      "[LightGBM] [Warning] lambda_l1 is set=8.766724978195626e-07, reg_alpha=0.0 will be ignored. Current value: lambda_l1=8.766724978195626e-07\n",
      "[LightGBM] [Warning] bagging_fraction is set=0.5246747615214098, subsample=1.0 will be ignored. Current value: bagging_fraction=0.5246747615214098\n",
      "[LightGBM] [Warning] feature_fraction is set=0.41260126023829335, colsample_bytree=1.0 will be ignored. Current value: feature_fraction=0.41260126023829335\n",
      "[LightGBM] [Warning] lambda_l2 is set=0.0784215118447239, reg_lambda=0.0 will be ignored. Current value: lambda_l2=0.0784215118447239\n"
     ]
    },
    {
     "name": "stderr",
     "output_type": "stream",
     "text": [
      "\u001b[32m[I 2023-01-31 22:23:24,057]\u001b[0m Trial 124 finished with value: 2.1804919448270246 and parameters: {'feature_fraction': 0.41260126023829335, 'num_leaves': 152, 'bagging_fraction': 0.5246747615214098, 'lambda_l1': 8.766724978195626e-07, 'lambda_l2': 0.0784215118447239, 'n_estimators': 273, 'max_depth': 3}. Best is trial 122 with value: 2.13743364476794.\u001b[0m\n"
     ]
    },
    {
     "name": "stdout",
     "output_type": "stream",
     "text": [
      "[LightGBM] [Warning] lambda_l1 is set=4.631400381225043e-07, reg_alpha=0.0 will be ignored. Current value: lambda_l1=4.631400381225043e-07\n",
      "[LightGBM] [Warning] bagging_fraction is set=0.48859087611257646, subsample=1.0 will be ignored. Current value: bagging_fraction=0.48859087611257646\n",
      "[LightGBM] [Warning] feature_fraction is set=0.5113156779573861, colsample_bytree=1.0 will be ignored. Current value: feature_fraction=0.5113156779573861\n",
      "[LightGBM] [Warning] lambda_l2 is set=2.1107598635871696, reg_lambda=0.0 will be ignored. Current value: lambda_l2=2.1107598635871696\n"
     ]
    },
    {
     "name": "stderr",
     "output_type": "stream",
     "text": [
      "\u001b[32m[I 2023-01-31 22:23:25,498]\u001b[0m Trial 125 finished with value: 2.16659311222387 and parameters: {'feature_fraction': 0.5113156779573861, 'num_leaves': 167, 'bagging_fraction': 0.48859087611257646, 'lambda_l1': 4.631400381225043e-07, 'lambda_l2': 2.1107598635871696, 'n_estimators': 255, 'max_depth': 3}. Best is trial 122 with value: 2.13743364476794.\u001b[0m\n"
     ]
    },
    {
     "name": "stdout",
     "output_type": "stream",
     "text": [
      "[LightGBM] [Warning] lambda_l1 is set=1.1865318305375762e-08, reg_alpha=0.0 will be ignored. Current value: lambda_l1=1.1865318305375762e-08\n",
      "[LightGBM] [Warning] bagging_fraction is set=0.49002280510126606, subsample=1.0 will be ignored. Current value: bagging_fraction=0.49002280510126606\n",
      "[LightGBM] [Warning] feature_fraction is set=0.4831311381361342, colsample_bytree=1.0 will be ignored. Current value: feature_fraction=0.4831311381361342\n",
      "[LightGBM] [Warning] lambda_l2 is set=0.6216604566468092, reg_lambda=0.0 will be ignored. Current value: lambda_l2=0.6216604566468092\n"
     ]
    },
    {
     "name": "stderr",
     "output_type": "stream",
     "text": [
      "\u001b[32m[I 2023-01-31 22:23:26,856]\u001b[0m Trial 126 finished with value: 2.1684714049750973 and parameters: {'feature_fraction': 0.4831311381361342, 'num_leaves': 160, 'bagging_fraction': 0.49002280510126606, 'lambda_l1': 1.1865318305375762e-08, 'lambda_l2': 0.6216604566468092, 'n_estimators': 248, 'max_depth': 3}. Best is trial 122 with value: 2.13743364476794.\u001b[0m\n"
     ]
    },
    {
     "name": "stdout",
     "output_type": "stream",
     "text": [
      "[LightGBM] [Warning] lambda_l1 is set=1.0494943217492367e-07, reg_alpha=0.0 will be ignored. Current value: lambda_l1=1.0494943217492367e-07\n",
      "[LightGBM] [Warning] bagging_fraction is set=0.5081484385785832, subsample=1.0 will be ignored. Current value: bagging_fraction=0.5081484385785832\n",
      "[LightGBM] [Warning] feature_fraction is set=0.3919127626602842, colsample_bytree=1.0 will be ignored. Current value: feature_fraction=0.3919127626602842\n",
      "[LightGBM] [Warning] lambda_l2 is set=0.0009509565541880613, reg_lambda=0.0 will be ignored. Current value: lambda_l2=0.0009509565541880613\n"
     ]
    },
    {
     "name": "stderr",
     "output_type": "stream",
     "text": [
      "\u001b[32m[I 2023-01-31 22:23:28,118]\u001b[0m Trial 127 finished with value: 2.19299251024288 and parameters: {'feature_fraction': 0.3919127626602842, 'num_leaves': 172, 'bagging_fraction': 0.5081484385785832, 'lambda_l1': 1.0494943217492367e-07, 'lambda_l2': 0.0009509565541880613, 'n_estimators': 262, 'max_depth': 3}. Best is trial 122 with value: 2.13743364476794.\u001b[0m\n"
     ]
    },
    {
     "name": "stdout",
     "output_type": "stream",
     "text": [
      "[LightGBM] [Warning] lambda_l1 is set=5.1847905624280456e-08, reg_alpha=0.0 will be ignored. Current value: lambda_l1=5.1847905624280456e-08\n",
      "[LightGBM] [Warning] bagging_fraction is set=0.46817676660780194, subsample=1.0 will be ignored. Current value: bagging_fraction=0.46817676660780194\n",
      "[LightGBM] [Warning] feature_fraction is set=0.4549840406926506, colsample_bytree=1.0 will be ignored. Current value: feature_fraction=0.4549840406926506\n",
      "[LightGBM] [Warning] lambda_l2 is set=0.007786052506818229, reg_lambda=0.0 will be ignored. Current value: lambda_l2=0.007786052506818229\n"
     ]
    },
    {
     "name": "stderr",
     "output_type": "stream",
     "text": [
      "\u001b[32m[I 2023-01-31 22:23:28,602]\u001b[0m Trial 128 finished with value: 2.3499551344882366 and parameters: {'feature_fraction': 0.4549840406926506, 'num_leaves': 144, 'bagging_fraction': 0.46817676660780194, 'lambda_l1': 5.1847905624280456e-08, 'lambda_l2': 0.007786052506818229, 'n_estimators': 12, 'max_depth': 3}. Best is trial 122 with value: 2.13743364476794.\u001b[0m\n"
     ]
    },
    {
     "name": "stdout",
     "output_type": "stream",
     "text": [
      "[LightGBM] [Warning] lambda_l1 is set=3.0895754196981626e-07, reg_alpha=0.0 will be ignored. Current value: lambda_l1=3.0895754196981626e-07\n",
      "[LightGBM] [Warning] bagging_fraction is set=0.47618322340718006, subsample=1.0 will be ignored. Current value: bagging_fraction=0.47618322340718006\n",
      "[LightGBM] [Warning] feature_fraction is set=0.520709177164151, colsample_bytree=1.0 will be ignored. Current value: feature_fraction=0.520709177164151\n",
      "[LightGBM] [Warning] lambda_l2 is set=0.013626458865941184, reg_lambda=0.0 will be ignored. Current value: lambda_l2=0.013626458865941184\n"
     ]
    },
    {
     "name": "stderr",
     "output_type": "stream",
     "text": [
      "\u001b[32m[I 2023-01-31 22:23:30,137]\u001b[0m Trial 129 finished with value: 2.1725235009420314 and parameters: {'feature_fraction': 0.520709177164151, 'num_leaves': 166, 'bagging_fraction': 0.47618322340718006, 'lambda_l1': 3.0895754196981626e-07, 'lambda_l2': 0.013626458865941184, 'n_estimators': 281, 'max_depth': 3}. Best is trial 122 with value: 2.13743364476794.\u001b[0m\n"
     ]
    },
    {
     "name": "stdout",
     "output_type": "stream",
     "text": [
      "[LightGBM] [Warning] lambda_l1 is set=1.4679196230838928e-08, reg_alpha=0.0 will be ignored. Current value: lambda_l1=1.4679196230838928e-08\n",
      "[LightGBM] [Warning] bagging_fraction is set=0.6371870605289741, subsample=1.0 will be ignored. Current value: bagging_fraction=0.6371870605289741\n",
      "[LightGBM] [Warning] feature_fraction is set=0.4183492841394147, colsample_bytree=1.0 will be ignored. Current value: feature_fraction=0.4183492841394147\n",
      "[LightGBM] [Warning] lambda_l2 is set=0.002594330318381444, reg_lambda=0.0 will be ignored. Current value: lambda_l2=0.002594330318381444\n"
     ]
    },
    {
     "name": "stderr",
     "output_type": "stream",
     "text": [
      "\u001b[32m[I 2023-01-31 22:23:31,367]\u001b[0m Trial 130 finished with value: 2.1488669210121234 and parameters: {'feature_fraction': 0.4183492841394147, 'num_leaves': 150, 'bagging_fraction': 0.6371870605289741, 'lambda_l1': 1.4679196230838928e-08, 'lambda_l2': 0.002594330318381444, 'n_estimators': 239, 'max_depth': 3}. Best is trial 122 with value: 2.13743364476794.\u001b[0m\n"
     ]
    },
    {
     "name": "stdout",
     "output_type": "stream",
     "text": [
      "[LightGBM] [Warning] lambda_l1 is set=1.4464515002813728e-08, reg_alpha=0.0 will be ignored. Current value: lambda_l1=1.4464515002813728e-08\n",
      "[LightGBM] [Warning] bagging_fraction is set=0.6493425509693799, subsample=1.0 will be ignored. Current value: bagging_fraction=0.6493425509693799\n",
      "[LightGBM] [Warning] feature_fraction is set=0.42120190137331803, colsample_bytree=1.0 will be ignored. Current value: feature_fraction=0.42120190137331803\n",
      "[LightGBM] [Warning] lambda_l2 is set=0.002255207094171147, reg_lambda=0.0 will be ignored. Current value: lambda_l2=0.002255207094171147\n"
     ]
    },
    {
     "name": "stderr",
     "output_type": "stream",
     "text": [
      "\u001b[32m[I 2023-01-31 22:23:32,599]\u001b[0m Trial 131 finished with value: 2.1853497844983005 and parameters: {'feature_fraction': 0.42120190137331803, 'num_leaves': 149, 'bagging_fraction': 0.6493425509693799, 'lambda_l1': 1.4464515002813728e-08, 'lambda_l2': 0.002255207094171147, 'n_estimators': 240, 'max_depth': 3}. Best is trial 122 with value: 2.13743364476794.\u001b[0m\n"
     ]
    },
    {
     "name": "stdout",
     "output_type": "stream",
     "text": [
      "[LightGBM] [Warning] lambda_l1 is set=2.0283267475265918e-08, reg_alpha=0.0 will be ignored. Current value: lambda_l1=2.0283267475265918e-08\n",
      "[LightGBM] [Warning] bagging_fraction is set=0.6317834271210605, subsample=1.0 will be ignored. Current value: bagging_fraction=0.6317834271210605\n",
      "[LightGBM] [Warning] feature_fraction is set=0.47363338912756864, colsample_bytree=1.0 will be ignored. Current value: feature_fraction=0.47363338912756864\n",
      "[LightGBM] [Warning] lambda_l2 is set=0.004350378418951764, reg_lambda=0.0 will be ignored. Current value: lambda_l2=0.004350378418951764\n"
     ]
    },
    {
     "name": "stderr",
     "output_type": "stream",
     "text": [
      "\u001b[32m[I 2023-01-31 22:23:33,891]\u001b[0m Trial 132 finished with value: 2.1858905275657836 and parameters: {'feature_fraction': 0.47363338912756864, 'num_leaves': 131, 'bagging_fraction': 0.6317834271210605, 'lambda_l1': 2.0283267475265918e-08, 'lambda_l2': 0.004350378418951764, 'n_estimators': 234, 'max_depth': 3}. Best is trial 122 with value: 2.13743364476794.\u001b[0m\n"
     ]
    },
    {
     "name": "stdout",
     "output_type": "stream",
     "text": [
      "[LightGBM] [Warning] lambda_l1 is set=3.225363570201039e-08, reg_alpha=0.0 will be ignored. Current value: lambda_l1=3.225363570201039e-08\n",
      "[LightGBM] [Warning] bagging_fraction is set=0.6646843153164306, subsample=1.0 will be ignored. Current value: bagging_fraction=0.6646843153164306\n",
      "[LightGBM] [Warning] feature_fraction is set=0.44381257098867904, colsample_bytree=1.0 will be ignored. Current value: feature_fraction=0.44381257098867904\n",
      "[LightGBM] [Warning] lambda_l2 is set=0.0016069220267399325, reg_lambda=0.0 will be ignored. Current value: lambda_l2=0.0016069220267399325\n"
     ]
    },
    {
     "name": "stderr",
     "output_type": "stream",
     "text": [
      "\u001b[32m[I 2023-01-31 22:23:35,204]\u001b[0m Trial 133 finished with value: 2.1880404706701064 and parameters: {'feature_fraction': 0.44381257098867904, 'num_leaves': 140, 'bagging_fraction': 0.6646843153164306, 'lambda_l1': 3.225363570201039e-08, 'lambda_l2': 0.0016069220267399325, 'n_estimators': 255, 'max_depth': 3}. Best is trial 122 with value: 2.13743364476794.\u001b[0m\n"
     ]
    },
    {
     "name": "stdout",
     "output_type": "stream",
     "text": [
      "[LightGBM] [Warning] lambda_l1 is set=7.357504001302344e-08, reg_alpha=0.0 will be ignored. Current value: lambda_l1=7.357504001302344e-08\n",
      "[LightGBM] [Warning] bagging_fraction is set=0.5172725698505201, subsample=1.0 will be ignored. Current value: bagging_fraction=0.5172725698505201\n",
      "[LightGBM] [Warning] feature_fraction is set=0.3879627518613315, colsample_bytree=1.0 will be ignored. Current value: feature_fraction=0.3879627518613315\n",
      "[LightGBM] [Warning] lambda_l2 is set=0.0027034598636302945, reg_lambda=0.0 will be ignored. Current value: lambda_l2=0.0027034598636302945\n"
     ]
    },
    {
     "name": "stderr",
     "output_type": "stream",
     "text": [
      "\u001b[32m[I 2023-01-31 22:23:36,488]\u001b[0m Trial 134 finished with value: 2.193417718117099 and parameters: {'feature_fraction': 0.3879627518613315, 'num_leaves': 159, 'bagging_fraction': 0.5172725698505201, 'lambda_l1': 7.357504001302344e-08, 'lambda_l2': 0.0027034598636302945, 'n_estimators': 269, 'max_depth': 3}. Best is trial 122 with value: 2.13743364476794.\u001b[0m\n"
     ]
    },
    {
     "name": "stdout",
     "output_type": "stream",
     "text": [
      "[LightGBM] [Warning] lambda_l1 is set=1.1634394836845914e-08, reg_alpha=0.0 will be ignored. Current value: lambda_l1=1.1634394836845914e-08\n",
      "[LightGBM] [Warning] bagging_fraction is set=0.45382757566836956, subsample=1.0 will be ignored. Current value: bagging_fraction=0.45382757566836956\n",
      "[LightGBM] [Warning] feature_fraction is set=0.4064488912800281, colsample_bytree=1.0 will be ignored. Current value: feature_fraction=0.4064488912800281\n",
      "[LightGBM] [Warning] lambda_l2 is set=0.005690760353616356, reg_lambda=0.0 will be ignored. Current value: lambda_l2=0.005690760353616356\n"
     ]
    },
    {
     "name": "stderr",
     "output_type": "stream",
     "text": [
      "\u001b[32m[I 2023-01-31 22:23:37,644]\u001b[0m Trial 135 finished with value: 2.17567718047196 and parameters: {'feature_fraction': 0.4064488912800281, 'num_leaves': 152, 'bagging_fraction': 0.45382757566836956, 'lambda_l1': 1.1634394836845914e-08, 'lambda_l2': 0.005690760353616356, 'n_estimators': 221, 'max_depth': 3}. Best is trial 122 with value: 2.13743364476794.\u001b[0m\n"
     ]
    },
    {
     "name": "stdout",
     "output_type": "stream",
     "text": [
      "[LightGBM] [Warning] lambda_l1 is set=1.7452610290319285e-06, reg_alpha=0.0 will be ignored. Current value: lambda_l1=1.7452610290319285e-06\n",
      "[LightGBM] [Warning] bagging_fraction is set=0.6350355453654559, subsample=1.0 will be ignored. Current value: bagging_fraction=0.6350355453654559\n",
      "[LightGBM] [Warning] feature_fraction is set=0.4936732668939045, colsample_bytree=1.0 will be ignored. Current value: feature_fraction=0.4936732668939045\n",
      "[LightGBM] [Warning] lambda_l2 is set=0.16148582328264638, reg_lambda=0.0 will be ignored. Current value: lambda_l2=0.16148582328264638\n"
     ]
    },
    {
     "name": "stderr",
     "output_type": "stream",
     "text": [
      "\u001b[32m[I 2023-01-31 22:23:38,939]\u001b[0m Trial 136 finished with value: 2.1867544616265917 and parameters: {'feature_fraction': 0.4936732668939045, 'num_leaves': 147, 'bagging_fraction': 0.6350355453654559, 'lambda_l1': 1.7452610290319285e-06, 'lambda_l2': 0.16148582328264638, 'n_estimators': 225, 'max_depth': 3}. Best is trial 122 with value: 2.13743364476794.\u001b[0m\n"
     ]
    },
    {
     "name": "stdout",
     "output_type": "stream",
     "text": [
      "[LightGBM] [Warning] lambda_l1 is set=6.65325872623019e-07, reg_alpha=0.0 will be ignored. Current value: lambda_l1=6.65325872623019e-07\n",
      "[LightGBM] [Warning] bagging_fraction is set=0.6908935163079558, subsample=1.0 will be ignored. Current value: bagging_fraction=0.6908935163079558\n",
      "[LightGBM] [Warning] feature_fraction is set=0.36113212439176523, colsample_bytree=1.0 will be ignored. Current value: feature_fraction=0.36113212439176523\n",
      "[LightGBM] [Warning] lambda_l2 is set=0.8788663559160333, reg_lambda=0.0 will be ignored. Current value: lambda_l2=0.8788663559160333\n"
     ]
    },
    {
     "name": "stderr",
     "output_type": "stream",
     "text": [
      "\u001b[32m[I 2023-01-31 22:23:40,110]\u001b[0m Trial 137 finished with value: 2.2011121069080835 and parameters: {'feature_fraction': 0.36113212439176523, 'num_leaves': 136, 'bagging_fraction': 0.6908935163079558, 'lambda_l1': 6.65325872623019e-07, 'lambda_l2': 0.8788663559160333, 'n_estimators': 246, 'max_depth': 3}. Best is trial 122 with value: 2.13743364476794.\u001b[0m\n"
     ]
    },
    {
     "name": "stdout",
     "output_type": "stream",
     "text": [
      "[LightGBM] [Warning] lambda_l1 is set=1.9631009644316284e-07, reg_alpha=0.0 will be ignored. Current value: lambda_l1=1.9631009644316284e-07\n",
      "[LightGBM] [Warning] bagging_fraction is set=0.5396847710520561, subsample=1.0 will be ignored. Current value: bagging_fraction=0.5396847710520561\n",
      "[LightGBM] [Warning] feature_fraction is set=0.43445208553375947, colsample_bytree=1.0 will be ignored. Current value: feature_fraction=0.43445208553375947\n",
      "[LightGBM] [Warning] lambda_l2 is set=0.33965151403609, reg_lambda=0.0 will be ignored. Current value: lambda_l2=0.33965151403609\n"
     ]
    },
    {
     "name": "stderr",
     "output_type": "stream",
     "text": [
      "\u001b[32m[I 2023-01-31 22:23:41,445]\u001b[0m Trial 138 finished with value: 2.1725557142298118 and parameters: {'feature_fraction': 0.43445208553375947, 'num_leaves': 175, 'bagging_fraction': 0.5396847710520561, 'lambda_l1': 1.9631009644316284e-07, 'lambda_l2': 0.33965151403609, 'n_estimators': 262, 'max_depth': 3}. Best is trial 122 with value: 2.13743364476794.\u001b[0m\n"
     ]
    },
    {
     "name": "stdout",
     "output_type": "stream",
     "text": [
      "[LightGBM] [Warning] lambda_l1 is set=4.2143806468947914e-08, reg_alpha=0.0 will be ignored. Current value: lambda_l1=4.2143806468947914e-08\n",
      "[LightGBM] [Warning] bagging_fraction is set=0.6199081926651182, subsample=1.0 will be ignored. Current value: bagging_fraction=0.6199081926651182\n",
      "[LightGBM] [Warning] feature_fraction is set=0.46692404618237854, colsample_bytree=1.0 will be ignored. Current value: feature_fraction=0.46692404618237854\n",
      "[LightGBM] [Warning] lambda_l2 is set=0.0007957294460510585, reg_lambda=0.0 will be ignored. Current value: lambda_l2=0.0007957294460510585\n"
     ]
    },
    {
     "name": "stderr",
     "output_type": "stream",
     "text": [
      "\u001b[32m[I 2023-01-31 22:23:42,743]\u001b[0m Trial 139 finished with value: 2.168731139463133 and parameters: {'feature_fraction': 0.46692404618237854, 'num_leaves': 165, 'bagging_fraction': 0.6199081926651182, 'lambda_l1': 4.2143806468947914e-08, 'lambda_l2': 0.0007957294460510585, 'n_estimators': 239, 'max_depth': 3}. Best is trial 122 with value: 2.13743364476794.\u001b[0m\n"
     ]
    },
    {
     "name": "stdout",
     "output_type": "stream",
     "text": [
      "[LightGBM] [Warning] lambda_l1 is set=1.0406943512543877e-08, reg_alpha=0.0 will be ignored. Current value: lambda_l1=1.0406943512543877e-08\n",
      "[LightGBM] [Warning] bagging_fraction is set=0.6727197911339536, subsample=1.0 will be ignored. Current value: bagging_fraction=0.6727197911339536\n",
      "[LightGBM] [Warning] feature_fraction is set=0.31783985223558503, colsample_bytree=1.0 will be ignored. Current value: feature_fraction=0.31783985223558503\n",
      "[LightGBM] [Warning] lambda_l2 is set=0.020676876002471437, reg_lambda=0.0 will be ignored. Current value: lambda_l2=0.020676876002471437\n"
     ]
    },
    {
     "name": "stderr",
     "output_type": "stream",
     "text": [
      "\u001b[32m[I 2023-01-31 22:23:43,867]\u001b[0m Trial 140 finished with value: 2.201063172372238 and parameters: {'feature_fraction': 0.31783985223558503, 'num_leaves': 154, 'bagging_fraction': 0.6727197911339536, 'lambda_l1': 1.0406943512543877e-08, 'lambda_l2': 0.020676876002471437, 'n_estimators': 254, 'max_depth': 3}. Best is trial 122 with value: 2.13743364476794.\u001b[0m\n"
     ]
    },
    {
     "name": "stdout",
     "output_type": "stream",
     "text": [
      "[LightGBM] [Warning] lambda_l1 is set=3.1834252665696256e-08, reg_alpha=0.0 will be ignored. Current value: lambda_l1=3.1834252665696256e-08\n",
      "[LightGBM] [Warning] bagging_fraction is set=0.5963123800266177, subsample=1.0 will be ignored. Current value: bagging_fraction=0.5963123800266177\n",
      "[LightGBM] [Warning] feature_fraction is set=0.4407915893836138, colsample_bytree=1.0 will be ignored. Current value: feature_fraction=0.4407915893836138\n",
      "[LightGBM] [Warning] lambda_l2 is set=0.19566614063617, reg_lambda=0.0 will be ignored. Current value: lambda_l2=0.19566614063617\n"
     ]
    },
    {
     "name": "stderr",
     "output_type": "stream",
     "text": [
      "\u001b[32m[I 2023-01-31 22:23:45,266]\u001b[0m Trial 141 finished with value: 2.1902792399480213 and parameters: {'feature_fraction': 0.4407915893836138, 'num_leaves': 194, 'bagging_fraction': 0.5963123800266177, 'lambda_l1': 3.1834252665696256e-08, 'lambda_l2': 0.19566614063617, 'n_estimators': 278, 'max_depth': 3}. Best is trial 122 with value: 2.13743364476794.\u001b[0m\n"
     ]
    },
    {
     "name": "stdout",
     "output_type": "stream",
     "text": [
      "[LightGBM] [Warning] lambda_l1 is set=3.145370647774665e-08, reg_alpha=0.0 will be ignored. Current value: lambda_l1=3.145370647774665e-08\n",
      "[LightGBM] [Warning] bagging_fraction is set=0.6057857727494995, subsample=1.0 will be ignored. Current value: bagging_fraction=0.6057857727494995\n",
      "[LightGBM] [Warning] feature_fraction is set=0.4237821555402662, colsample_bytree=1.0 will be ignored. Current value: feature_fraction=0.4237821555402662\n",
      "[LightGBM] [Warning] lambda_l2 is set=0.2632977887008805, reg_lambda=0.0 will be ignored. Current value: lambda_l2=0.2632977887008805\n"
     ]
    },
    {
     "name": "stderr",
     "output_type": "stream",
     "text": [
      "\u001b[32m[I 2023-01-31 22:23:46,675]\u001b[0m Trial 142 finished with value: 2.1858503478607667 and parameters: {'feature_fraction': 0.4237821555402662, 'num_leaves': 179, 'bagging_fraction': 0.6057857727494995, 'lambda_l1': 3.145370647774665e-08, 'lambda_l2': 0.2632977887008805, 'n_estimators': 292, 'max_depth': 3}. Best is trial 122 with value: 2.13743364476794.\u001b[0m\n"
     ]
    },
    {
     "name": "stdout",
     "output_type": "stream",
     "text": [
      "[LightGBM] [Warning] lambda_l1 is set=1.965371668934148e-08, reg_alpha=0.0 will be ignored. Current value: lambda_l1=1.965371668934148e-08\n",
      "[LightGBM] [Warning] bagging_fraction is set=0.6418939460665355, subsample=1.0 will be ignored. Current value: bagging_fraction=0.6418939460665355\n",
      "[LightGBM] [Warning] feature_fraction is set=0.450576781489924, colsample_bytree=1.0 will be ignored. Current value: feature_fraction=0.450576781489924\n",
      "[LightGBM] [Warning] lambda_l2 is set=0.47209424176276293, reg_lambda=0.0 will be ignored. Current value: lambda_l2=0.47209424176276293\n"
     ]
    },
    {
     "name": "stderr",
     "output_type": "stream",
     "text": [
      "\u001b[32m[I 2023-01-31 22:23:48,493]\u001b[0m Trial 143 finished with value: 2.269590549289493 and parameters: {'feature_fraction': 0.450576781489924, 'num_leaves': 10, 'bagging_fraction': 0.6418939460665355, 'lambda_l1': 1.965371668934148e-08, 'lambda_l2': 0.47209424176276293, 'n_estimators': 284, 'max_depth': 5}. Best is trial 122 with value: 2.13743364476794.\u001b[0m\n"
     ]
    },
    {
     "name": "stdout",
     "output_type": "stream",
     "text": [
      "[LightGBM] [Warning] lambda_l1 is set=5.429910342626073e-06, reg_alpha=0.0 will be ignored. Current value: lambda_l1=5.429910342626073e-06\n",
      "[LightGBM] [Warning] bagging_fraction is set=0.5652564897902637, subsample=1.0 will be ignored. Current value: bagging_fraction=0.5652564897902637\n",
      "[LightGBM] [Warning] feature_fraction is set=0.4758386149555194, colsample_bytree=1.0 will be ignored. Current value: feature_fraction=0.4758386149555194\n",
      "[LightGBM] [Warning] lambda_l2 is set=0.764114438032133, reg_lambda=0.0 will be ignored. Current value: lambda_l2=0.764114438032133\n"
     ]
    },
    {
     "name": "stderr",
     "output_type": "stream",
     "text": [
      "\u001b[32m[I 2023-01-31 22:23:50,012]\u001b[0m Trial 144 finished with value: 2.1764683267151343 and parameters: {'feature_fraction': 0.4758386149555194, 'num_leaves': 161, 'bagging_fraction': 0.5652564897902637, 'lambda_l1': 5.429910342626073e-06, 'lambda_l2': 0.764114438032133, 'n_estimators': 295, 'max_depth': 3}. Best is trial 122 with value: 2.13743364476794.\u001b[0m\n"
     ]
    },
    {
     "name": "stdout",
     "output_type": "stream",
     "text": [
      "[LightGBM] [Warning] lambda_l1 is set=6.322130003945515e-08, reg_alpha=0.0 will be ignored. Current value: lambda_l1=6.322130003945515e-08\n",
      "[LightGBM] [Warning] bagging_fraction is set=0.6562087633713943, subsample=1.0 will be ignored. Current value: bagging_fraction=0.6562087633713943\n",
      "[LightGBM] [Warning] feature_fraction is set=0.4002131900573178, colsample_bytree=1.0 will be ignored. Current value: feature_fraction=0.4002131900573178\n",
      "[LightGBM] [Warning] lambda_l2 is set=0.07994325727845358, reg_lambda=0.0 will be ignored. Current value: lambda_l2=0.07994325727845358\n"
     ]
    },
    {
     "name": "stderr",
     "output_type": "stream",
     "text": [
      "\u001b[32m[I 2023-01-31 22:23:51,317]\u001b[0m Trial 145 finished with value: 2.1782009737586123 and parameters: {'feature_fraction': 0.4002131900573178, 'num_leaves': 171, 'bagging_fraction': 0.6562087633713943, 'lambda_l1': 6.322130003945515e-08, 'lambda_l2': 0.07994325727845358, 'n_estimators': 272, 'max_depth': 3}. Best is trial 122 with value: 2.13743364476794.\u001b[0m\n"
     ]
    },
    {
     "name": "stdout",
     "output_type": "stream",
     "text": [
      "[LightGBM] [Warning] lambda_l1 is set=1.1924808485357958e-07, reg_alpha=0.0 will be ignored. Current value: lambda_l1=1.1924808485357958e-07\n",
      "[LightGBM] [Warning] bagging_fraction is set=0.6232890614129705, subsample=1.0 will be ignored. Current value: bagging_fraction=0.6232890614129705\n",
      "[LightGBM] [Warning] feature_fraction is set=0.506362299192116, colsample_bytree=1.0 will be ignored. Current value: feature_fraction=0.506362299192116\n",
      "[LightGBM] [Warning] lambda_l2 is set=0.27473289943872614, reg_lambda=0.0 will be ignored. Current value: lambda_l2=0.27473289943872614\n"
     ]
    },
    {
     "name": "stderr",
     "output_type": "stream",
     "text": [
      "\u001b[32m[I 2023-01-31 22:23:52,785]\u001b[0m Trial 146 finished with value: 2.1921097033935477 and parameters: {'feature_fraction': 0.506362299192116, 'num_leaves': 143, 'bagging_fraction': 0.6232890614129705, 'lambda_l1': 1.1924808485357958e-07, 'lambda_l2': 0.27473289943872614, 'n_estimators': 267, 'max_depth': 3}. Best is trial 122 with value: 2.13743364476794.\u001b[0m\n"
     ]
    },
    {
     "name": "stdout",
     "output_type": "stream",
     "text": [
      "[LightGBM] [Warning] lambda_l1 is set=8.722621129335264e-07, reg_alpha=0.0 will be ignored. Current value: lambda_l1=8.722621129335264e-07\n",
      "[LightGBM] [Warning] bagging_fraction is set=0.48894345017996566, subsample=1.0 will be ignored. Current value: bagging_fraction=0.48894345017996566\n",
      "[LightGBM] [Warning] feature_fraction is set=0.38129220130500013, colsample_bytree=1.0 will be ignored. Current value: feature_fraction=0.38129220130500013\n",
      "[LightGBM] [Warning] lambda_l2 is set=0.11839973511776475, reg_lambda=0.0 will be ignored. Current value: lambda_l2=0.11839973511776475\n"
     ]
    },
    {
     "name": "stderr",
     "output_type": "stream",
     "text": [
      "\u001b[32m[I 2023-01-31 22:23:53,755]\u001b[0m Trial 147 finished with value: 2.17918341558241 and parameters: {'feature_fraction': 0.38129220130500013, 'num_leaves': 52, 'bagging_fraction': 0.48894345017996566, 'lambda_l1': 8.722621129335264e-07, 'lambda_l2': 0.11839973511776475, 'n_estimators': 170, 'max_depth': 3}. Best is trial 122 with value: 2.13743364476794.\u001b[0m\n"
     ]
    },
    {
     "name": "stdout",
     "output_type": "stream",
     "text": [
      "[LightGBM] [Warning] lambda_l1 is set=2.6314522106345424e-08, reg_alpha=0.0 will be ignored. Current value: lambda_l1=2.6314522106345424e-08\n",
      "[LightGBM] [Warning] bagging_fraction is set=0.5818306332550881, subsample=1.0 will be ignored. Current value: bagging_fraction=0.5818306332550881\n",
      "[LightGBM] [Warning] feature_fraction is set=0.421460501613649, colsample_bytree=1.0 will be ignored. Current value: feature_fraction=0.421460501613649\n",
      "[LightGBM] [Warning] lambda_l2 is set=0.0504754083291808, reg_lambda=0.0 will be ignored. Current value: lambda_l2=0.0504754083291808\n"
     ]
    },
    {
     "name": "stderr",
     "output_type": "stream",
     "text": [
      "\u001b[32m[I 2023-01-31 22:23:54,897]\u001b[0m Trial 148 finished with value: 2.186817516575593 and parameters: {'feature_fraction': 0.421460501613649, 'num_leaves': 157, 'bagging_fraction': 0.5818306332550881, 'lambda_l1': 2.6314522106345424e-08, 'lambda_l2': 0.0504754083291808, 'n_estimators': 210, 'max_depth': 3}. Best is trial 122 with value: 2.13743364476794.\u001b[0m\n"
     ]
    },
    {
     "name": "stdout",
     "output_type": "stream",
     "text": [
      "[LightGBM] [Warning] lambda_l1 is set=2.6579482005675086e-06, reg_alpha=0.0 will be ignored. Current value: lambda_l1=2.6579482005675086e-06\n",
      "[LightGBM] [Warning] bagging_fraction is set=0.5489373853398302, subsample=1.0 will be ignored. Current value: bagging_fraction=0.5489373853398302\n",
      "[LightGBM] [Warning] feature_fraction is set=0.43868665907737436, colsample_bytree=1.0 will be ignored. Current value: feature_fraction=0.43868665907737436\n",
      "[LightGBM] [Warning] lambda_l2 is set=0.0012430062596273362, reg_lambda=0.0 will be ignored. Current value: lambda_l2=0.0012430062596273362\n"
     ]
    },
    {
     "name": "stderr",
     "output_type": "stream",
     "text": [
      "\u001b[32m[I 2023-01-31 22:23:55,908]\u001b[0m Trial 149 finished with value: 2.193296143692941 and parameters: {'feature_fraction': 0.43868665907737436, 'num_leaves': 189, 'bagging_fraction': 0.5489373853398302, 'lambda_l1': 2.6579482005675086e-06, 'lambda_l2': 0.0012430062596273362, 'n_estimators': 250, 'max_depth': 2}. Best is trial 122 with value: 2.13743364476794.\u001b[0m\n"
     ]
    },
    {
     "name": "stdout",
     "output_type": "stream",
     "text": [
      "[LightGBM] [Warning] lambda_l1 is set=1.461176144506085e-05, reg_alpha=0.0 will be ignored. Current value: lambda_l1=1.461176144506085e-05\n",
      "[LightGBM] [Warning] bagging_fraction is set=0.6053140726211225, subsample=1.0 will be ignored. Current value: bagging_fraction=0.6053140726211225\n",
      "[LightGBM] [Warning] feature_fraction is set=0.462149487934949, colsample_bytree=1.0 will be ignored. Current value: feature_fraction=0.462149487934949\n",
      "[LightGBM] [Warning] lambda_l2 is set=0.009958061583923334, reg_lambda=0.0 will be ignored. Current value: lambda_l2=0.009958061583923334\n"
     ]
    },
    {
     "name": "stderr",
     "output_type": "stream",
     "text": [
      "\u001b[32m[I 2023-01-31 22:23:56,553]\u001b[0m Trial 150 finished with value: 2.20625101915487 and parameters: {'feature_fraction': 0.462149487934949, 'num_leaves': 202, 'bagging_fraction': 0.6053140726211225, 'lambda_l1': 1.461176144506085e-05, 'lambda_l2': 0.009958061583923334, 'n_estimators': 57, 'max_depth': 3}. Best is trial 122 with value: 2.13743364476794.\u001b[0m\n"
     ]
    },
    {
     "name": "stdout",
     "output_type": "stream",
     "text": [
      "[LightGBM] [Warning] lambda_l1 is set=1.0831290851834066e-07, reg_alpha=0.0 will be ignored. Current value: lambda_l1=1.0831290851834066e-07\n",
      "[LightGBM] [Warning] bagging_fraction is set=0.457537206613891, subsample=1.0 will be ignored. Current value: bagging_fraction=0.457537206613891\n",
      "[LightGBM] [Warning] feature_fraction is set=0.48989968354285335, colsample_bytree=1.0 will be ignored. Current value: feature_fraction=0.48989968354285335\n",
      "[LightGBM] [Warning] lambda_l2 is set=0.03066539752802282, reg_lambda=0.0 will be ignored. Current value: lambda_l2=0.03066539752802282\n"
     ]
    },
    {
     "name": "stderr",
     "output_type": "stream",
     "text": [
      "\u001b[32m[I 2023-01-31 22:23:57,965]\u001b[0m Trial 151 finished with value: 2.173645825706831 and parameters: {'feature_fraction': 0.48989968354285335, 'num_leaves': 39, 'bagging_fraction': 0.457537206613891, 'lambda_l1': 1.0831290851834066e-07, 'lambda_l2': 0.03066539752802282, 'n_estimators': 261, 'max_depth': 3}. Best is trial 122 with value: 2.13743364476794.\u001b[0m\n"
     ]
    },
    {
     "name": "stdout",
     "output_type": "stream",
     "text": [
      "[LightGBM] [Warning] lambda_l1 is set=4.08300280305518e-07, reg_alpha=0.0 will be ignored. Current value: lambda_l1=4.08300280305518e-07\n",
      "[LightGBM] [Warning] bagging_fraction is set=0.43656915388244466, subsample=1.0 will be ignored. Current value: bagging_fraction=0.43656915388244466\n",
      "[LightGBM] [Warning] feature_fraction is set=0.4458509488607307, colsample_bytree=1.0 will be ignored. Current value: feature_fraction=0.4458509488607307\n",
      "[LightGBM] [Warning] lambda_l2 is set=0.06740131515542412, reg_lambda=0.0 will be ignored. Current value: lambda_l2=0.06740131515542412\n"
     ]
    },
    {
     "name": "stderr",
     "output_type": "stream",
     "text": [
      "\u001b[32m[I 2023-01-31 22:23:59,251]\u001b[0m Trial 152 finished with value: 2.1726781194557185 and parameters: {'feature_fraction': 0.4458509488607307, 'num_leaves': 44, 'bagging_fraction': 0.43656915388244466, 'lambda_l1': 4.08300280305518e-07, 'lambda_l2': 0.06740131515542412, 'n_estimators': 244, 'max_depth': 3}. Best is trial 122 with value: 2.13743364476794.\u001b[0m\n"
     ]
    },
    {
     "name": "stdout",
     "output_type": "stream",
     "text": [
      "[LightGBM] [Warning] lambda_l1 is set=1.3975834217106755e-06, reg_alpha=0.0 will be ignored. Current value: lambda_l1=1.3975834217106755e-06\n",
      "[LightGBM] [Warning] bagging_fraction is set=0.47805320224171904, subsample=1.0 will be ignored. Current value: bagging_fraction=0.47805320224171904\n",
      "[LightGBM] [Warning] feature_fraction is set=0.4082067304007743, colsample_bytree=1.0 will be ignored. Current value: feature_fraction=0.4082067304007743\n",
      "[LightGBM] [Warning] lambda_l2 is set=0.036761042207963036, reg_lambda=0.0 will be ignored. Current value: lambda_l2=0.036761042207963036\n"
     ]
    },
    {
     "name": "stderr",
     "output_type": "stream",
     "text": [
      "\u001b[32m[I 2023-01-31 22:24:00,593]\u001b[0m Trial 153 finished with value: 2.1836526913503973 and parameters: {'feature_fraction': 0.4082067304007743, 'num_leaves': 31, 'bagging_fraction': 0.47805320224171904, 'lambda_l1': 1.3975834217106755e-06, 'lambda_l2': 0.036761042207963036, 'n_estimators': 276, 'max_depth': 3}. Best is trial 122 with value: 2.13743364476794.\u001b[0m\n"
     ]
    },
    {
     "name": "stdout",
     "output_type": "stream",
     "text": [
      "[LightGBM] [Warning] lambda_l1 is set=5.044095342939182e-08, reg_alpha=0.0 will be ignored. Current value: lambda_l1=5.044095342939182e-08\n",
      "[LightGBM] [Warning] bagging_fraction is set=0.518167727660867, subsample=1.0 will be ignored. Current value: bagging_fraction=0.518167727660867\n",
      "[LightGBM] [Warning] feature_fraction is set=0.47252988460085155, colsample_bytree=1.0 will be ignored. Current value: feature_fraction=0.47252988460085155\n",
      "[LightGBM] [Warning] lambda_l2 is set=0.10062096901488127, reg_lambda=0.0 will be ignored. Current value: lambda_l2=0.10062096901488127\n"
     ]
    },
    {
     "name": "stderr",
     "output_type": "stream",
     "text": [
      "\u001b[32m[I 2023-01-31 22:24:01,882]\u001b[0m Trial 154 finished with value: 2.1813489848684133 and parameters: {'feature_fraction': 0.47252988460085155, 'num_leaves': 19, 'bagging_fraction': 0.518167727660867, 'lambda_l1': 5.044095342939182e-08, 'lambda_l2': 0.10062096901488127, 'n_estimators': 233, 'max_depth': 3}. Best is trial 122 with value: 2.13743364476794.\u001b[0m\n"
     ]
    },
    {
     "name": "stdout",
     "output_type": "stream",
     "text": [
      "[LightGBM] [Warning] lambda_l1 is set=2.3132085735010603e-07, reg_alpha=0.0 will be ignored. Current value: lambda_l1=2.3132085735010603e-07\n",
      "[LightGBM] [Warning] bagging_fraction is set=0.4578500249187456, subsample=1.0 will be ignored. Current value: bagging_fraction=0.4578500249187456\n",
      "[LightGBM] [Warning] feature_fraction is set=0.4557152244199717, colsample_bytree=1.0 will be ignored. Current value: feature_fraction=0.4557152244199717\n",
      "[LightGBM] [Warning] lambda_l2 is set=0.0035693737666728804, reg_lambda=0.0 will be ignored. Current value: lambda_l2=0.0035693737666728804\n"
     ]
    },
    {
     "name": "stderr",
     "output_type": "stream",
     "text": [
      "\u001b[32m[I 2023-01-31 22:24:03,321]\u001b[0m Trial 155 finished with value: 2.157413811909581 and parameters: {'feature_fraction': 0.4557152244199717, 'num_leaves': 149, 'bagging_fraction': 0.4578500249187456, 'lambda_l1': 2.3132085735010603e-07, 'lambda_l2': 0.0035693737666728804, 'n_estimators': 286, 'max_depth': 3}. Best is trial 122 with value: 2.13743364476794.\u001b[0m\n"
     ]
    },
    {
     "name": "stdout",
     "output_type": "stream",
     "text": [
      "[LightGBM] [Warning] lambda_l1 is set=2.3652358177605508e-07, reg_alpha=0.0 will be ignored. Current value: lambda_l1=2.3652358177605508e-07\n",
      "[LightGBM] [Warning] bagging_fraction is set=0.4974808556487389, subsample=1.0 will be ignored. Current value: bagging_fraction=0.4974808556487389\n",
      "[LightGBM] [Warning] feature_fraction is set=0.43013694186597273, colsample_bytree=1.0 will be ignored. Current value: feature_fraction=0.43013694186597273\n",
      "[LightGBM] [Warning] lambda_l2 is set=0.005186989160146852, reg_lambda=0.0 will be ignored. Current value: lambda_l2=0.005186989160146852\n"
     ]
    },
    {
     "name": "stderr",
     "output_type": "stream",
     "text": [
      "\u001b[32m[I 2023-01-31 22:24:04,715]\u001b[0m Trial 156 finished with value: 2.1852484978155076 and parameters: {'feature_fraction': 0.43013694186597273, 'num_leaves': 150, 'bagging_fraction': 0.4974808556487389, 'lambda_l1': 2.3652358177605508e-07, 'lambda_l2': 0.005186989160146852, 'n_estimators': 288, 'max_depth': 3}. Best is trial 122 with value: 2.13743364476794.\u001b[0m\n"
     ]
    },
    {
     "name": "stdout",
     "output_type": "stream",
     "text": [
      "[LightGBM] [Warning] lambda_l1 is set=5.038267553743336e-07, reg_alpha=0.0 will be ignored. Current value: lambda_l1=5.038267553743336e-07\n",
      "[LightGBM] [Warning] bagging_fraction is set=0.42017449425647496, subsample=1.0 will be ignored. Current value: bagging_fraction=0.42017449425647496\n",
      "[LightGBM] [Warning] feature_fraction is set=0.4544949769820286, colsample_bytree=1.0 will be ignored. Current value: feature_fraction=0.4544949769820286\n",
      "[LightGBM] [Warning] lambda_l2 is set=0.0030350699989583844, reg_lambda=0.0 will be ignored. Current value: lambda_l2=0.0030350699989583844\n"
     ]
    },
    {
     "name": "stderr",
     "output_type": "stream",
     "text": [
      "\u001b[32m[I 2023-01-31 22:24:06,200]\u001b[0m Trial 157 finished with value: 2.160343999355887 and parameters: {'feature_fraction': 0.4544949769820286, 'num_leaves': 132, 'bagging_fraction': 0.42017449425647496, 'lambda_l1': 5.038267553743336e-07, 'lambda_l2': 0.0030350699989583844, 'n_estimators': 300, 'max_depth': 3}. Best is trial 122 with value: 2.13743364476794.\u001b[0m\n"
     ]
    },
    {
     "name": "stdout",
     "output_type": "stream",
     "text": [
      "[LightGBM] [Warning] lambda_l1 is set=6.144893902039392e-07, reg_alpha=0.0 will be ignored. Current value: lambda_l1=6.144893902039392e-07\n",
      "[LightGBM] [Warning] bagging_fraction is set=0.4348439805850393, subsample=1.0 will be ignored. Current value: bagging_fraction=0.4348439805850393\n",
      "[LightGBM] [Warning] feature_fraction is set=0.5316409711334018, colsample_bytree=1.0 will be ignored. Current value: feature_fraction=0.5316409711334018\n",
      "[LightGBM] [Warning] lambda_l2 is set=0.003441494520284469, reg_lambda=0.0 will be ignored. Current value: lambda_l2=0.003441494520284469\n"
     ]
    },
    {
     "name": "stderr",
     "output_type": "stream",
     "text": [
      "\u001b[32m[I 2023-01-31 22:24:07,827]\u001b[0m Trial 158 finished with value: 2.1691849683929267 and parameters: {'feature_fraction': 0.5316409711334018, 'num_leaves': 117, 'bagging_fraction': 0.4348439805850393, 'lambda_l1': 6.144893902039392e-07, 'lambda_l2': 0.003441494520284469, 'n_estimators': 300, 'max_depth': 3}. Best is trial 122 with value: 2.13743364476794.\u001b[0m\n"
     ]
    },
    {
     "name": "stdout",
     "output_type": "stream",
     "text": [
      "[LightGBM] [Warning] lambda_l1 is set=1.0839737595029981e-06, reg_alpha=0.0 will be ignored. Current value: lambda_l1=1.0839737595029981e-06\n",
      "[LightGBM] [Warning] bagging_fraction is set=0.44326476891290645, subsample=1.0 will be ignored. Current value: bagging_fraction=0.44326476891290645\n",
      "[LightGBM] [Warning] feature_fraction is set=0.5044749267740908, colsample_bytree=1.0 will be ignored. Current value: feature_fraction=0.5044749267740908\n",
      "[LightGBM] [Warning] lambda_l2 is set=0.002328088357064117, reg_lambda=0.0 will be ignored. Current value: lambda_l2=0.002328088357064117\n"
     ]
    },
    {
     "name": "stderr",
     "output_type": "stream",
     "text": [
      "\u001b[32m[I 2023-01-31 22:24:09,033]\u001b[0m Trial 159 finished with value: 2.1887936782100015 and parameters: {'feature_fraction': 0.5044749267740908, 'num_leaves': 127, 'bagging_fraction': 0.44326476891290645, 'lambda_l1': 1.0839737595029981e-06, 'lambda_l2': 0.002328088357064117, 'n_estimators': 199, 'max_depth': 3}. Best is trial 122 with value: 2.13743364476794.\u001b[0m\n"
     ]
    },
    {
     "name": "stdout",
     "output_type": "stream",
     "text": [
      "[LightGBM] [Warning] lambda_l1 is set=2.802367116190559e-07, reg_alpha=0.0 will be ignored. Current value: lambda_l1=2.802367116190559e-07\n",
      "[LightGBM] [Warning] bagging_fraction is set=0.4218614959622103, subsample=1.0 will be ignored. Current value: bagging_fraction=0.4218614959622103\n",
      "[LightGBM] [Warning] feature_fraction is set=0.46247170768858137, colsample_bytree=1.0 will be ignored. Current value: feature_fraction=0.46247170768858137\n",
      "[LightGBM] [Warning] lambda_l2 is set=0.0073258895107158545, reg_lambda=0.0 will be ignored. Current value: lambda_l2=0.0073258895107158545\n"
     ]
    },
    {
     "name": "stderr",
     "output_type": "stream",
     "text": [
      "\u001b[32m[I 2023-01-31 22:24:10,469]\u001b[0m Trial 160 finished with value: 2.1667084020319898 and parameters: {'feature_fraction': 0.46247170768858137, 'num_leaves': 136, 'bagging_fraction': 0.4218614959622103, 'lambda_l1': 2.802367116190559e-07, 'lambda_l2': 0.0073258895107158545, 'n_estimators': 283, 'max_depth': 3}. Best is trial 122 with value: 2.13743364476794.\u001b[0m\n"
     ]
    },
    {
     "name": "stdout",
     "output_type": "stream",
     "text": [
      "[LightGBM] [Warning] lambda_l1 is set=4.2247578549769434e-07, reg_alpha=0.0 will be ignored. Current value: lambda_l1=4.2247578549769434e-07\n",
      "[LightGBM] [Warning] bagging_fraction is set=0.42270994797263217, subsample=1.0 will be ignored. Current value: bagging_fraction=0.42270994797263217\n",
      "[LightGBM] [Warning] feature_fraction is set=0.4515954195392809, colsample_bytree=1.0 will be ignored. Current value: feature_fraction=0.4515954195392809\n",
      "[LightGBM] [Warning] lambda_l2 is set=0.0036572771813204574, reg_lambda=0.0 will be ignored. Current value: lambda_l2=0.0036572771813204574\n"
     ]
    },
    {
     "name": "stderr",
     "output_type": "stream",
     "text": [
      "\u001b[32m[I 2023-01-31 22:24:11,919]\u001b[0m Trial 161 finished with value: 2.173283710765703 and parameters: {'feature_fraction': 0.4515954195392809, 'num_leaves': 141, 'bagging_fraction': 0.42270994797263217, 'lambda_l1': 4.2247578549769434e-07, 'lambda_l2': 0.0036572771813204574, 'n_estimators': 293, 'max_depth': 3}. Best is trial 122 with value: 2.13743364476794.\u001b[0m\n"
     ]
    },
    {
     "name": "stdout",
     "output_type": "stream",
     "text": [
      "[LightGBM] [Warning] lambda_l1 is set=1.3586514782015803e-07, reg_alpha=0.0 will be ignored. Current value: lambda_l1=1.3586514782015803e-07\n",
      "[LightGBM] [Warning] bagging_fraction is set=0.6435162404899578, subsample=1.0 will be ignored. Current value: bagging_fraction=0.6435162404899578\n",
      "[LightGBM] [Warning] feature_fraction is set=0.4059410516584793, colsample_bytree=1.0 will be ignored. Current value: feature_fraction=0.4059410516584793\n",
      "[LightGBM] [Warning] lambda_l2 is set=0.0015875912699878742, reg_lambda=0.0 will be ignored. Current value: lambda_l2=0.0015875912699878742\n"
     ]
    },
    {
     "name": "stderr",
     "output_type": "stream",
     "text": [
      "\u001b[32m[I 2023-01-31 22:24:13,285]\u001b[0m Trial 162 finished with value: 2.1775621042998092 and parameters: {'feature_fraction': 0.4059410516584793, 'num_leaves': 134, 'bagging_fraction': 0.6435162404899578, 'lambda_l1': 1.3586514782015803e-07, 'lambda_l2': 0.0015875912699878742, 'n_estimators': 288, 'max_depth': 3}. Best is trial 122 with value: 2.13743364476794.\u001b[0m\n"
     ]
    },
    {
     "name": "stdout",
     "output_type": "stream",
     "text": [
      "[LightGBM] [Warning] lambda_l1 is set=1.9057794849272325e-07, reg_alpha=0.0 will be ignored. Current value: lambda_l1=1.9057794849272325e-07\n",
      "[LightGBM] [Warning] bagging_fraction is set=0.47746075149986217, subsample=1.0 will be ignored. Current value: bagging_fraction=0.47746075149986217\n",
      "[LightGBM] [Warning] feature_fraction is set=0.4852337907842024, colsample_bytree=1.0 will be ignored. Current value: feature_fraction=0.4852337907842024\n",
      "[LightGBM] [Warning] lambda_l2 is set=0.012141292717125687, reg_lambda=0.0 will be ignored. Current value: lambda_l2=0.012141292717125687\n"
     ]
    },
    {
     "name": "stderr",
     "output_type": "stream",
     "text": [
      "\u001b[32m[I 2023-01-31 22:24:14,822]\u001b[0m Trial 163 finished with value: 2.1726475252479553 and parameters: {'feature_fraction': 0.4852337907842024, 'num_leaves': 147, 'bagging_fraction': 0.47746075149986217, 'lambda_l1': 1.9057794849272325e-07, 'lambda_l2': 0.012141292717125687, 'n_estimators': 297, 'max_depth': 3}. Best is trial 122 with value: 2.13743364476794.\u001b[0m\n"
     ]
    },
    {
     "name": "stdout",
     "output_type": "stream",
     "text": [
      "[LightGBM] [Warning] lambda_l1 is set=3.592821783389599e-06, reg_alpha=0.0 will be ignored. Current value: lambda_l1=3.592821783389599e-06\n",
      "[LightGBM] [Warning] bagging_fraction is set=0.457581363885074, subsample=1.0 will be ignored. Current value: bagging_fraction=0.457581363885074\n",
      "[LightGBM] [Warning] feature_fraction is set=0.4314852218823361, colsample_bytree=1.0 will be ignored. Current value: feature_fraction=0.4314852218823361\n",
      "[LightGBM] [Warning] lambda_l2 is set=0.00047031158578987456, reg_lambda=0.0 will be ignored. Current value: lambda_l2=0.00047031158578987456\n"
     ]
    },
    {
     "name": "stderr",
     "output_type": "stream",
     "text": [
      "\u001b[32m[I 2023-01-31 22:24:16,177]\u001b[0m Trial 164 finished with value: 2.1864099948316387 and parameters: {'feature_fraction': 0.4314852218823361, 'num_leaves': 155, 'bagging_fraction': 0.457581363885074, 'lambda_l1': 3.592821783389599e-06, 'lambda_l2': 0.00047031158578987456, 'n_estimators': 274, 'max_depth': 3}. Best is trial 122 with value: 2.13743364476794.\u001b[0m\n"
     ]
    },
    {
     "name": "stdout",
     "output_type": "stream",
     "text": [
      "[LightGBM] [Warning] lambda_l1 is set=2.106121674367273e-06, reg_alpha=0.0 will be ignored. Current value: lambda_l1=2.106121674367273e-06\n",
      "[LightGBM] [Warning] bagging_fraction is set=0.5073006852144073, subsample=1.0 will be ignored. Current value: bagging_fraction=0.5073006852144073\n",
      "[LightGBM] [Warning] feature_fraction is set=0.3829752779121744, colsample_bytree=1.0 will be ignored. Current value: feature_fraction=0.3829752779121744\n",
      "[LightGBM] [Warning] lambda_l2 is set=0.006548051871547459, reg_lambda=0.0 will be ignored. Current value: lambda_l2=0.006548051871547459\n"
     ]
    },
    {
     "name": "stderr",
     "output_type": "stream",
     "text": [
      "\u001b[32m[I 2023-01-31 22:24:17,479]\u001b[0m Trial 165 finished with value: 2.1773415647325236 and parameters: {'feature_fraction': 0.3829752779121744, 'num_leaves': 163, 'bagging_fraction': 0.5073006852144073, 'lambda_l1': 2.106121674367273e-06, 'lambda_l2': 0.006548051871547459, 'n_estimators': 282, 'max_depth': 3}. Best is trial 122 with value: 2.13743364476794.\u001b[0m\n"
     ]
    },
    {
     "name": "stdout",
     "output_type": "stream",
     "text": [
      "[LightGBM] [Warning] lambda_l1 is set=8.110145962059297e-08, reg_alpha=0.0 will be ignored. Current value: lambda_l1=8.110145962059297e-08\n",
      "[LightGBM] [Warning] bagging_fraction is set=0.6149024451575558, subsample=1.0 will be ignored. Current value: bagging_fraction=0.6149024451575558\n",
      "[LightGBM] [Warning] feature_fraction is set=0.4183020919419844, colsample_bytree=1.0 will be ignored. Current value: feature_fraction=0.4183020919419844\n",
      "[LightGBM] [Warning] lambda_l2 is set=0.0025252578859939223, reg_lambda=0.0 will be ignored. Current value: lambda_l2=0.0025252578859939223\n"
     ]
    },
    {
     "name": "stderr",
     "output_type": "stream",
     "text": [
      "\u001b[32m[I 2023-01-31 22:24:18,676]\u001b[0m Trial 166 finished with value: 2.1509432814426948 and parameters: {'feature_fraction': 0.4183020919419844, 'num_leaves': 122, 'bagging_fraction': 0.6149024451575558, 'lambda_l1': 8.110145962059297e-08, 'lambda_l2': 0.0025252578859939223, 'n_estimators': 229, 'max_depth': 3}. Best is trial 122 with value: 2.13743364476794.\u001b[0m\n"
     ]
    },
    {
     "name": "stdout",
     "output_type": "stream",
     "text": [
      "[LightGBM] [Warning] lambda_l1 is set=7.400615491541369e-08, reg_alpha=0.0 will be ignored. Current value: lambda_l1=7.400615491541369e-08\n",
      "[LightGBM] [Warning] bagging_fraction is set=0.6253964332255317, subsample=1.0 will be ignored. Current value: bagging_fraction=0.6253964332255317\n",
      "[LightGBM] [Warning] feature_fraction is set=0.3620771453547166, colsample_bytree=1.0 will be ignored. Current value: feature_fraction=0.3620771453547166\n",
      "[LightGBM] [Warning] lambda_l2 is set=0.0030833013206275997, reg_lambda=0.0 will be ignored. Current value: lambda_l2=0.0030833013206275997\n"
     ]
    },
    {
     "name": "stderr",
     "output_type": "stream",
     "text": [
      "\u001b[32m[I 2023-01-31 22:24:19,778]\u001b[0m Trial 167 finished with value: 2.200855755412682 and parameters: {'feature_fraction': 0.3620771453547166, 'num_leaves': 83, 'bagging_fraction': 0.6253964332255317, 'lambda_l1': 7.400615491541369e-08, 'lambda_l2': 0.0030833013206275997, 'n_estimators': 226, 'max_depth': 3}. Best is trial 122 with value: 2.13743364476794.\u001b[0m\n"
     ]
    },
    {
     "name": "stdout",
     "output_type": "stream",
     "text": [
      "[LightGBM] [Warning] lambda_l1 is set=6.034148944980856e-07, reg_alpha=0.0 will be ignored. Current value: lambda_l1=6.034148944980856e-07\n",
      "[LightGBM] [Warning] bagging_fraction is set=0.6140066183179955, subsample=1.0 will be ignored. Current value: bagging_fraction=0.6140066183179955\n",
      "[LightGBM] [Warning] feature_fraction is set=0.41595293767896646, colsample_bytree=1.0 will be ignored. Current value: feature_fraction=0.41595293767896646\n",
      "[LightGBM] [Warning] lambda_l2 is set=0.0023434467335302768, reg_lambda=0.0 will be ignored. Current value: lambda_l2=0.0023434467335302768\n"
     ]
    },
    {
     "name": "stderr",
     "output_type": "stream",
     "text": [
      "\u001b[32m[I 2023-01-31 22:24:21,007]\u001b[0m Trial 168 finished with value: 2.148867000194913 and parameters: {'feature_fraction': 0.41595293767896646, 'num_leaves': 62, 'bagging_fraction': 0.6140066183179955, 'lambda_l1': 6.034148944980856e-07, 'lambda_l2': 0.0023434467335302768, 'n_estimators': 239, 'max_depth': 3}. Best is trial 122 with value: 2.13743364476794.\u001b[0m\n"
     ]
    },
    {
     "name": "stdout",
     "output_type": "stream",
     "text": [
      "[LightGBM] [Warning] lambda_l1 is set=5.937384451768891e-07, reg_alpha=0.0 will be ignored. Current value: lambda_l1=5.937384451768891e-07\n",
      "[LightGBM] [Warning] bagging_fraction is set=0.6140582905075711, subsample=1.0 will be ignored. Current value: bagging_fraction=0.6140582905075711\n",
      "[LightGBM] [Warning] feature_fraction is set=0.39971255291719254, colsample_bytree=1.0 will be ignored. Current value: feature_fraction=0.39971255291719254\n",
      "[LightGBM] [Warning] lambda_l2 is set=0.0043957313858517325, reg_lambda=0.0 will be ignored. Current value: lambda_l2=0.0043957313858517325\n"
     ]
    },
    {
     "name": "stderr",
     "output_type": "stream",
     "text": [
      "\u001b[32m[I 2023-01-31 22:24:22,182]\u001b[0m Trial 169 finished with value: 2.178835638721788 and parameters: {'feature_fraction': 0.39971255291719254, 'num_leaves': 66, 'bagging_fraction': 0.6140582905075711, 'lambda_l1': 5.937384451768891e-07, 'lambda_l2': 0.0043957313858517325, 'n_estimators': 231, 'max_depth': 3}. Best is trial 122 with value: 2.13743364476794.\u001b[0m\n"
     ]
    },
    {
     "name": "stdout",
     "output_type": "stream",
     "text": [
      "[LightGBM] [Warning] lambda_l1 is set=3.364706956534621e-07, reg_alpha=0.0 will be ignored. Current value: lambda_l1=3.364706956534621e-07\n",
      "[LightGBM] [Warning] bagging_fraction is set=0.4027719037178185, subsample=1.0 will be ignored. Current value: bagging_fraction=0.4027719037178185\n",
      "[LightGBM] [Warning] feature_fraction is set=0.41736015466089676, colsample_bytree=1.0 will be ignored. Current value: feature_fraction=0.41736015466089676\n",
      "[LightGBM] [Warning] lambda_l2 is set=0.0010387902941018476, reg_lambda=0.0 will be ignored. Current value: lambda_l2=0.0010387902941018476\n"
     ]
    },
    {
     "name": "stderr",
     "output_type": "stream",
     "text": [
      "\u001b[32m[I 2023-01-31 22:24:23,399]\u001b[0m Trial 170 finished with value: 2.1493853931965385 and parameters: {'feature_fraction': 0.41736015466089676, 'num_leaves': 96, 'bagging_fraction': 0.4027719037178185, 'lambda_l1': 3.364706956534621e-07, 'lambda_l2': 0.0010387902941018476, 'n_estimators': 236, 'max_depth': 3}. Best is trial 122 with value: 2.13743364476794.\u001b[0m\n"
     ]
    },
    {
     "name": "stdout",
     "output_type": "stream",
     "text": [
      "[LightGBM] [Warning] lambda_l1 is set=3.5714764007109037e-07, reg_alpha=0.0 will be ignored. Current value: lambda_l1=3.5714764007109037e-07\n",
      "[LightGBM] [Warning] bagging_fraction is set=0.40189249651380315, subsample=1.0 will be ignored. Current value: bagging_fraction=0.40189249651380315\n",
      "[LightGBM] [Warning] feature_fraction is set=0.4252965463704823, colsample_bytree=1.0 will be ignored. Current value: feature_fraction=0.4252965463704823\n",
      "[LightGBM] [Warning] lambda_l2 is set=0.0016891752277845412, reg_lambda=0.0 will be ignored. Current value: lambda_l2=0.0016891752277845412\n"
     ]
    },
    {
     "name": "stderr",
     "output_type": "stream",
     "text": [
      "\u001b[32m[I 2023-01-31 22:24:24,651]\u001b[0m Trial 171 finished with value: 2.186469586950203 and parameters: {'feature_fraction': 0.4252965463704823, 'num_leaves': 76, 'bagging_fraction': 0.40189249651380315, 'lambda_l1': 3.5714764007109037e-07, 'lambda_l2': 0.0016891752277845412, 'n_estimators': 246, 'max_depth': 3}. Best is trial 122 with value: 2.13743364476794.\u001b[0m\n"
     ]
    },
    {
     "name": "stdout",
     "output_type": "stream",
     "text": [
      "[LightGBM] [Warning] lambda_l1 is set=9.896486695832841e-07, reg_alpha=0.0 will be ignored. Current value: lambda_l1=9.896486695832841e-07\n",
      "[LightGBM] [Warning] bagging_fraction is set=0.4649976944241675, subsample=1.0 will be ignored. Current value: bagging_fraction=0.4649976944241675\n",
      "[LightGBM] [Warning] feature_fraction is set=0.4096530700488501, colsample_bytree=1.0 will be ignored. Current value: feature_fraction=0.4096530700488501\n",
      "[LightGBM] [Warning] lambda_l2 is set=0.0010165681500431134, reg_lambda=0.0 will be ignored. Current value: lambda_l2=0.0010165681500431134\n"
     ]
    },
    {
     "name": "stderr",
     "output_type": "stream",
     "text": [
      "\u001b[32m[I 2023-01-31 22:24:25,792]\u001b[0m Trial 172 finished with value: 2.178969761439935 and parameters: {'feature_fraction': 0.4096530700488501, 'num_leaves': 90, 'bagging_fraction': 0.4649976944241675, 'lambda_l1': 9.896486695832841e-07, 'lambda_l2': 0.0010165681500431134, 'n_estimators': 215, 'max_depth': 3}. Best is trial 122 with value: 2.13743364476794.\u001b[0m\n"
     ]
    },
    {
     "name": "stdout",
     "output_type": "stream",
     "text": [
      "[LightGBM] [Warning] lambda_l1 is set=2.0096521548674294e-07, reg_alpha=0.0 will be ignored. Current value: lambda_l1=2.0096521548674294e-07\n",
      "[LightGBM] [Warning] bagging_fraction is set=0.40793930213638285, subsample=1.0 will be ignored. Current value: bagging_fraction=0.40793930213638285\n",
      "[LightGBM] [Warning] feature_fraction is set=0.3819854314194402, colsample_bytree=1.0 will be ignored. Current value: feature_fraction=0.3819854314194402\n",
      "[LightGBM] [Warning] lambda_l2 is set=0.002018262043299851, reg_lambda=0.0 will be ignored. Current value: lambda_l2=0.002018262043299851\n"
     ]
    },
    {
     "name": "stderr",
     "output_type": "stream",
     "text": [
      "\u001b[32m[I 2023-01-31 22:24:26,961]\u001b[0m Trial 173 finished with value: 2.1783735250880074 and parameters: {'feature_fraction': 0.3819854314194402, 'num_leaves': 109, 'bagging_fraction': 0.40793930213638285, 'lambda_l1': 2.0096521548674294e-07, 'lambda_l2': 0.002018262043299851, 'n_estimators': 237, 'max_depth': 3}. Best is trial 122 with value: 2.13743364476794.\u001b[0m\n"
     ]
    },
    {
     "name": "stdout",
     "output_type": "stream",
     "text": [
      "[LightGBM] [Warning] lambda_l1 is set=4.429594912304423e-07, reg_alpha=0.0 will be ignored. Current value: lambda_l1=4.429594912304423e-07\n",
      "[LightGBM] [Warning] bagging_fraction is set=0.4483774428214976, subsample=1.0 will be ignored. Current value: bagging_fraction=0.4483774428214976\n",
      "[LightGBM] [Warning] feature_fraction is set=0.4513742846425093, colsample_bytree=1.0 will be ignored. Current value: feature_fraction=0.4513742846425093\n",
      "[LightGBM] [Warning] lambda_l2 is set=0.0010904803124885856, reg_lambda=0.0 will be ignored. Current value: lambda_l2=0.0010904803124885856\n"
     ]
    },
    {
     "name": "stderr",
     "output_type": "stream",
     "text": [
      "\u001b[32m[I 2023-01-31 22:24:28,223]\u001b[0m Trial 174 finished with value: 2.169018418544464 and parameters: {'feature_fraction': 0.4513742846425093, 'num_leaves': 98, 'bagging_fraction': 0.4483774428214976, 'lambda_l1': 4.429594912304423e-07, 'lambda_l2': 0.0010904803124885856, 'n_estimators': 238, 'max_depth': 3}. Best is trial 122 with value: 2.13743364476794.\u001b[0m\n"
     ]
    },
    {
     "name": "stdout",
     "output_type": "stream",
     "text": [
      "[LightGBM] [Warning] lambda_l1 is set=1.3779778721972767e-07, reg_alpha=0.0 will be ignored. Current value: lambda_l1=1.3779778721972767e-07\n",
      "[LightGBM] [Warning] bagging_fraction is set=0.6308994659331919, subsample=1.0 will be ignored. Current value: bagging_fraction=0.6308994659331919\n",
      "[LightGBM] [Warning] feature_fraction is set=0.41800976899309683, colsample_bytree=1.0 will be ignored. Current value: feature_fraction=0.41800976899309683\n",
      "[LightGBM] [Warning] lambda_l2 is set=0.0006393102618134062, reg_lambda=0.0 will be ignored. Current value: lambda_l2=0.0006393102618134062\n"
     ]
    },
    {
     "name": "stderr",
     "output_type": "stream",
     "text": [
      "\u001b[32m[I 2023-01-31 22:24:29,407]\u001b[0m Trial 175 finished with value: 2.1521578050819867 and parameters: {'feature_fraction': 0.41800976899309683, 'num_leaves': 55, 'bagging_fraction': 0.6308994659331919, 'lambda_l1': 1.3779778721972767e-07, 'lambda_l2': 0.0006393102618134062, 'n_estimators': 226, 'max_depth': 3}. Best is trial 122 with value: 2.13743364476794.\u001b[0m\n"
     ]
    },
    {
     "name": "stdout",
     "output_type": "stream",
     "text": [
      "[LightGBM] [Warning] lambda_l1 is set=1.349278015422765e-07, reg_alpha=0.0 will be ignored. Current value: lambda_l1=1.349278015422765e-07\n",
      "[LightGBM] [Warning] bagging_fraction is set=0.41899787838146946, subsample=1.0 will be ignored. Current value: bagging_fraction=0.41899787838146946\n",
      "[LightGBM] [Warning] feature_fraction is set=0.4170518807034044, colsample_bytree=1.0 will be ignored. Current value: feature_fraction=0.4170518807034044\n",
      "[LightGBM] [Warning] lambda_l2 is set=0.0006587549963093357, reg_lambda=0.0 will be ignored. Current value: lambda_l2=0.0006587549963093357\n"
     ]
    },
    {
     "name": "stderr",
     "output_type": "stream",
     "text": [
      "\u001b[32m[I 2023-01-31 22:24:30,592]\u001b[0m Trial 176 finished with value: 2.15164482134071 and parameters: {'feature_fraction': 0.4170518807034044, 'num_leaves': 57, 'bagging_fraction': 0.41899787838146946, 'lambda_l1': 1.349278015422765e-07, 'lambda_l2': 0.0006587549963093357, 'n_estimators': 227, 'max_depth': 3}. Best is trial 122 with value: 2.13743364476794.\u001b[0m\n"
     ]
    },
    {
     "name": "stdout",
     "output_type": "stream",
     "text": [
      "[LightGBM] [Warning] lambda_l1 is set=1.3701501986163593e-07, reg_alpha=0.0 will be ignored. Current value: lambda_l1=1.3701501986163593e-07\n",
      "[LightGBM] [Warning] bagging_fraction is set=0.41722627139743484, subsample=1.0 will be ignored. Current value: bagging_fraction=0.41722627139743484\n",
      "[LightGBM] [Warning] feature_fraction is set=0.35274438767276606, colsample_bytree=1.0 will be ignored. Current value: feature_fraction=0.35274438767276606\n",
      "[LightGBM] [Warning] lambda_l2 is set=0.000320536038463054, reg_lambda=0.0 will be ignored. Current value: lambda_l2=0.000320536038463054\n"
     ]
    },
    {
     "name": "stderr",
     "output_type": "stream",
     "text": [
      "\u001b[32m[I 2023-01-31 22:24:31,680]\u001b[0m Trial 177 finished with value: 2.1964474790439517 and parameters: {'feature_fraction': 0.35274438767276606, 'num_leaves': 61, 'bagging_fraction': 0.41722627139743484, 'lambda_l1': 1.3701501986163593e-07, 'lambda_l2': 0.000320536038463054, 'n_estimators': 223, 'max_depth': 3}. Best is trial 122 with value: 2.13743364476794.\u001b[0m\n"
     ]
    },
    {
     "name": "stdout",
     "output_type": "stream",
     "text": [
      "[LightGBM] [Warning] lambda_l1 is set=8.556098810160796e-08, reg_alpha=0.0 will be ignored. Current value: lambda_l1=8.556098810160796e-08\n",
      "[LightGBM] [Warning] bagging_fraction is set=0.43501887580670556, subsample=1.0 will be ignored. Current value: bagging_fraction=0.43501887580670556\n",
      "[LightGBM] [Warning] feature_fraction is set=0.41737860356354767, colsample_bytree=1.0 will be ignored. Current value: feature_fraction=0.41737860356354767\n",
      "[LightGBM] [Warning] lambda_l2 is set=0.0007989720216190892, reg_lambda=0.0 will be ignored. Current value: lambda_l2=0.0007989720216190892\n"
     ]
    },
    {
     "name": "stderr",
     "output_type": "stream",
     "text": [
      "\u001b[32m[I 2023-01-31 22:24:32,840]\u001b[0m Trial 178 finished with value: 2.152149657819899 and parameters: {'feature_fraction': 0.41737860356354767, 'num_leaves': 59, 'bagging_fraction': 0.43501887580670556, 'lambda_l1': 8.556098810160796e-08, 'lambda_l2': 0.0007989720216190892, 'n_estimators': 218, 'max_depth': 3}. Best is trial 122 with value: 2.13743364476794.\u001b[0m\n"
     ]
    },
    {
     "name": "stdout",
     "output_type": "stream",
     "text": [
      "[LightGBM] [Warning] lambda_l1 is set=8.527337999752064e-08, reg_alpha=0.0 will be ignored. Current value: lambda_l1=8.527337999752064e-08\n",
      "[LightGBM] [Warning] bagging_fraction is set=0.44221280343853514, subsample=1.0 will be ignored. Current value: bagging_fraction=0.44221280343853514\n",
      "[LightGBM] [Warning] feature_fraction is set=0.40332315034959265, colsample_bytree=1.0 will be ignored. Current value: feature_fraction=0.40332315034959265\n",
      "[LightGBM] [Warning] lambda_l2 is set=0.000638400549424144, reg_lambda=0.0 will be ignored. Current value: lambda_l2=0.000638400549424144\n"
     ]
    },
    {
     "name": "stderr",
     "output_type": "stream",
     "text": [
      "\u001b[32m[I 2023-01-31 22:24:33,984]\u001b[0m Trial 179 finished with value: 2.1760082897371436 and parameters: {'feature_fraction': 0.40332315034959265, 'num_leaves': 58, 'bagging_fraction': 0.44221280343853514, 'lambda_l1': 8.527337999752064e-08, 'lambda_l2': 0.000638400549424144, 'n_estimators': 217, 'max_depth': 3}. Best is trial 122 with value: 2.13743364476794.\u001b[0m\n"
     ]
    },
    {
     "name": "stdout",
     "output_type": "stream",
     "text": [
      "[LightGBM] [Warning] lambda_l1 is set=5.745179454436168e-08, reg_alpha=0.0 will be ignored. Current value: lambda_l1=5.745179454436168e-08\n",
      "[LightGBM] [Warning] bagging_fraction is set=0.6318059533781779, subsample=1.0 will be ignored. Current value: bagging_fraction=0.6318059533781779\n",
      "[LightGBM] [Warning] feature_fraction is set=0.3678320931679049, colsample_bytree=1.0 will be ignored. Current value: feature_fraction=0.3678320931679049\n",
      "[LightGBM] [Warning] lambda_l2 is set=0.0005249302479781166, reg_lambda=0.0 will be ignored. Current value: lambda_l2=0.0005249302479781166\n"
     ]
    },
    {
     "name": "stderr",
     "output_type": "stream",
     "text": [
      "\u001b[32m[I 2023-01-31 22:24:35,102]\u001b[0m Trial 180 finished with value: 2.1938136950930747 and parameters: {'feature_fraction': 0.3678320931679049, 'num_leaves': 73, 'bagging_fraction': 0.6318059533781779, 'lambda_l1': 5.745179454436168e-08, 'lambda_l2': 0.0005249302479781166, 'n_estimators': 228, 'max_depth': 3}. Best is trial 122 with value: 2.13743364476794.\u001b[0m\n"
     ]
    },
    {
     "name": "stdout",
     "output_type": "stream",
     "text": [
      "[LightGBM] [Warning] lambda_l1 is set=9.139195417050221e-08, reg_alpha=0.0 will be ignored. Current value: lambda_l1=9.139195417050221e-08\n",
      "[LightGBM] [Warning] bagging_fraction is set=0.42799022694315086, subsample=1.0 will be ignored. Current value: bagging_fraction=0.42799022694315086\n",
      "[LightGBM] [Warning] feature_fraction is set=0.4192258914663857, colsample_bytree=1.0 will be ignored. Current value: feature_fraction=0.4192258914663857\n",
      "[LightGBM] [Warning] lambda_l2 is set=0.0009893319756309577, reg_lambda=0.0 will be ignored. Current value: lambda_l2=0.0009893319756309577\n"
     ]
    },
    {
     "name": "stderr",
     "output_type": "stream",
     "text": [
      "\u001b[32m[I 2023-01-31 22:24:36,267]\u001b[0m Trial 181 finished with value: 2.1528101707491976 and parameters: {'feature_fraction': 0.4192258914663857, 'num_leaves': 49, 'bagging_fraction': 0.42799022694315086, 'lambda_l1': 9.139195417050221e-08, 'lambda_l2': 0.0009893319756309577, 'n_estimators': 220, 'max_depth': 3}. Best is trial 122 with value: 2.13743364476794.\u001b[0m\n"
     ]
    },
    {
     "name": "stdout",
     "output_type": "stream",
     "text": [
      "[LightGBM] [Warning] lambda_l1 is set=9.946492145721996e-08, reg_alpha=0.0 will be ignored. Current value: lambda_l1=9.946492145721996e-08\n",
      "[LightGBM] [Warning] bagging_fraction is set=0.427589735309255, subsample=1.0 will be ignored. Current value: bagging_fraction=0.427589735309255\n",
      "[LightGBM] [Warning] feature_fraction is set=0.41973298075693954, colsample_bytree=1.0 will be ignored. Current value: feature_fraction=0.41973298075693954\n",
      "[LightGBM] [Warning] lambda_l2 is set=0.0007131722642726468, reg_lambda=0.0 will be ignored. Current value: lambda_l2=0.0007131722642726468\n"
     ]
    },
    {
     "name": "stderr",
     "output_type": "stream",
     "text": [
      "\u001b[32m[I 2023-01-31 22:24:37,401]\u001b[0m Trial 182 finished with value: 2.150657470656501 and parameters: {'feature_fraction': 0.41973298075693954, 'num_leaves': 48, 'bagging_fraction': 0.427589735309255, 'lambda_l1': 9.946492145721996e-08, 'lambda_l2': 0.0007131722642726468, 'n_estimators': 210, 'max_depth': 3}. Best is trial 122 with value: 2.13743364476794.\u001b[0m\n"
     ]
    },
    {
     "name": "stdout",
     "output_type": "stream",
     "text": [
      "[LightGBM] [Warning] lambda_l1 is set=9.206640512395108e-08, reg_alpha=0.0 will be ignored. Current value: lambda_l1=9.206640512395108e-08\n",
      "[LightGBM] [Warning] bagging_fraction is set=0.43078549360601015, subsample=1.0 will be ignored. Current value: bagging_fraction=0.43078549360601015\n",
      "[LightGBM] [Warning] feature_fraction is set=0.42162505155726965, colsample_bytree=1.0 will be ignored. Current value: feature_fraction=0.42162505155726965\n",
      "[LightGBM] [Warning] lambda_l2 is set=0.00024431610842692213, reg_lambda=0.0 will be ignored. Current value: lambda_l2=0.00024431610842692213\n"
     ]
    },
    {
     "name": "stderr",
     "output_type": "stream",
     "text": [
      "\u001b[32m[I 2023-01-31 22:24:38,523]\u001b[0m Trial 183 finished with value: 2.1861216125600147 and parameters: {'feature_fraction': 0.42162505155726965, 'num_leaves': 47, 'bagging_fraction': 0.43078549360601015, 'lambda_l1': 9.206640512395108e-08, 'lambda_l2': 0.00024431610842692213, 'n_estimators': 206, 'max_depth': 3}. Best is trial 122 with value: 2.13743364476794.\u001b[0m\n"
     ]
    },
    {
     "name": "stdout",
     "output_type": "stream",
     "text": [
      "[LightGBM] [Warning] lambda_l1 is set=1.4632836335903488e-07, reg_alpha=0.0 will be ignored. Current value: lambda_l1=1.4632836335903488e-07\n",
      "[LightGBM] [Warning] bagging_fraction is set=0.41514842502773025, subsample=1.0 will be ignored. Current value: bagging_fraction=0.41514842502773025\n",
      "[LightGBM] [Warning] feature_fraction is set=0.3858896698488645, colsample_bytree=1.0 will be ignored. Current value: feature_fraction=0.3858896698488645\n",
      "[LightGBM] [Warning] lambda_l2 is set=0.0008764574535293773, reg_lambda=0.0 will be ignored. Current value: lambda_l2=0.0008764574535293773\n"
     ]
    },
    {
     "name": "stderr",
     "output_type": "stream",
     "text": [
      "\u001b[32m[I 2023-01-31 22:24:40,989]\u001b[0m Trial 184 finished with value: 2.2497416681161266 and parameters: {'feature_fraction': 0.3858896698488645, 'num_leaves': 55, 'bagging_fraction': 0.41514842502773025, 'lambda_l1': 1.4632836335903488e-07, 'lambda_l2': 0.0008764574535293773, 'n_estimators': 215, 'max_depth': 6}. Best is trial 122 with value: 2.13743364476794.\u001b[0m\n"
     ]
    },
    {
     "name": "stdout",
     "output_type": "stream",
     "text": [
      "[LightGBM] [Warning] lambda_l1 is set=4.8474793711268534e-08, reg_alpha=0.0 will be ignored. Current value: lambda_l1=4.8474793711268534e-08\n",
      "[LightGBM] [Warning] bagging_fraction is set=0.41442713083055294, subsample=1.0 will be ignored. Current value: bagging_fraction=0.41442713083055294\n",
      "[LightGBM] [Warning] feature_fraction is set=0.41990913921566636, colsample_bytree=1.0 will be ignored. Current value: feature_fraction=0.41990913921566636\n",
      "[LightGBM] [Warning] lambda_l2 is set=0.0006322008171916956, reg_lambda=0.0 will be ignored. Current value: lambda_l2=0.0006322008171916956\n"
     ]
    },
    {
     "name": "stderr",
     "output_type": "stream",
     "text": [
      "\u001b[32m[I 2023-01-31 22:24:42,158]\u001b[0m Trial 185 finished with value: 2.186187427606603 and parameters: {'feature_fraction': 0.41990913921566636, 'num_leaves': 63, 'bagging_fraction': 0.41442713083055294, 'lambda_l1': 4.8474793711268534e-08, 'lambda_l2': 0.0006322008171916956, 'n_estimators': 221, 'max_depth': 3}. Best is trial 122 with value: 2.13743364476794.\u001b[0m\n"
     ]
    },
    {
     "name": "stdout",
     "output_type": "stream",
     "text": [
      "[LightGBM] [Warning] lambda_l1 is set=9.068096472897453e-08, reg_alpha=0.0 will be ignored. Current value: lambda_l1=9.068096472897453e-08\n",
      "[LightGBM] [Warning] bagging_fraction is set=0.4334505864197939, subsample=1.0 will be ignored. Current value: bagging_fraction=0.4334505864197939\n",
      "[LightGBM] [Warning] feature_fraction is set=0.39474729329434355, colsample_bytree=1.0 will be ignored. Current value: feature_fraction=0.39474729329434355\n",
      "[LightGBM] [Warning] lambda_l2 is set=0.0004530755302651598, reg_lambda=0.0 will be ignored. Current value: lambda_l2=0.0004530755302651598\n"
     ]
    },
    {
     "name": "stderr",
     "output_type": "stream",
     "text": [
      "\u001b[32m[I 2023-01-31 22:24:43,262]\u001b[0m Trial 186 finished with value: 2.178592426558699 and parameters: {'feature_fraction': 0.39474729329434355, 'num_leaves': 51, 'bagging_fraction': 0.4334505864197939, 'lambda_l1': 9.068096472897453e-08, 'lambda_l2': 0.0004530755302651598, 'n_estimators': 208, 'max_depth': 3}. Best is trial 122 with value: 2.13743364476794.\u001b[0m\n"
     ]
    },
    {
     "name": "stdout",
     "output_type": "stream",
     "text": [
      "[LightGBM] [Warning] lambda_l1 is set=1.5066435276138604e-07, reg_alpha=0.0 will be ignored. Current value: lambda_l1=1.5066435276138604e-07\n",
      "[LightGBM] [Warning] bagging_fraction is set=0.4289401201349207, subsample=1.0 will be ignored. Current value: bagging_fraction=0.4289401201349207\n",
      "[LightGBM] [Warning] feature_fraction is set=0.33926611237660365, colsample_bytree=1.0 will be ignored. Current value: feature_fraction=0.33926611237660365\n",
      "[LightGBM] [Warning] lambda_l2 is set=0.0013221830696436424, reg_lambda=0.0 will be ignored. Current value: lambda_l2=0.0013221830696436424\n"
     ]
    },
    {
     "name": "stderr",
     "output_type": "stream",
     "text": [
      "\u001b[32m[I 2023-01-31 22:24:44,340]\u001b[0m Trial 187 finished with value: 2.2125630454519856 and parameters: {'feature_fraction': 0.33926611237660365, 'num_leaves': 45, 'bagging_fraction': 0.4289401201349207, 'lambda_l1': 1.5066435276138604e-07, 'lambda_l2': 0.0013221830696436424, 'n_estimators': 228, 'max_depth': 3}. Best is trial 122 with value: 2.13743364476794.\u001b[0m\n"
     ]
    },
    {
     "name": "stdout",
     "output_type": "stream",
     "text": [
      "[LightGBM] [Warning] lambda_l1 is set=2.541628793858575e-07, reg_alpha=0.0 will be ignored. Current value: lambda_l1=2.541628793858575e-07\n",
      "[LightGBM] [Warning] bagging_fraction is set=0.44698607647037714, subsample=1.0 will be ignored. Current value: bagging_fraction=0.44698607647037714\n",
      "[LightGBM] [Warning] feature_fraction is set=0.4352752865662925, colsample_bytree=1.0 will be ignored. Current value: feature_fraction=0.4352752865662925\n",
      "[LightGBM] [Warning] lambda_l2 is set=0.0008217519140628594, reg_lambda=0.0 will be ignored. Current value: lambda_l2=0.0008217519140628594\n"
     ]
    },
    {
     "name": "stderr",
     "output_type": "stream",
     "text": [
      "\u001b[32m[I 2023-01-31 22:24:45,451]\u001b[0m Trial 188 finished with value: 2.1702252933241306 and parameters: {'feature_fraction': 0.4352752865662925, 'num_leaves': 59, 'bagging_fraction': 0.44698607647037714, 'lambda_l1': 2.541628793858575e-07, 'lambda_l2': 0.0008217519140628594, 'n_estimators': 195, 'max_depth': 3}. Best is trial 122 with value: 2.13743364476794.\u001b[0m\n"
     ]
    },
    {
     "name": "stdout",
     "output_type": "stream",
     "text": [
      "[LightGBM] [Warning] lambda_l1 is set=3.934199034873318e-08, reg_alpha=0.0 will be ignored. Current value: lambda_l1=3.934199034873318e-08\n",
      "[LightGBM] [Warning] bagging_fraction is set=0.42959082473446164, subsample=1.0 will be ignored. Current value: bagging_fraction=0.42959082473446164\n",
      "[LightGBM] [Warning] feature_fraction is set=0.40417940338450925, colsample_bytree=1.0 will be ignored. Current value: feature_fraction=0.40417940338450925\n",
      "[LightGBM] [Warning] lambda_l2 is set=0.00036192965965800296, reg_lambda=0.0 will be ignored. Current value: lambda_l2=0.00036192965965800296\n"
     ]
    },
    {
     "name": "stderr",
     "output_type": "stream",
     "text": [
      "\u001b[32m[I 2023-01-31 22:24:46,601]\u001b[0m Trial 189 finished with value: 2.1765742536219337 and parameters: {'feature_fraction': 0.40417940338450925, 'num_leaves': 67, 'bagging_fraction': 0.42959082473446164, 'lambda_l1': 3.934199034873318e-08, 'lambda_l2': 0.00036192965965800296, 'n_estimators': 220, 'max_depth': 3}. Best is trial 122 with value: 2.13743364476794.\u001b[0m\n"
     ]
    },
    {
     "name": "stdout",
     "output_type": "stream",
     "text": [
      "[LightGBM] [Warning] lambda_l1 is set=6.544460265382925e-08, reg_alpha=0.0 will be ignored. Current value: lambda_l1=6.544460265382925e-08\n",
      "[LightGBM] [Warning] bagging_fraction is set=0.4006405697161983, subsample=1.0 will be ignored. Current value: bagging_fraction=0.4006405697161983\n",
      "[LightGBM] [Warning] feature_fraction is set=0.43991305072524195, colsample_bytree=1.0 will be ignored. Current value: feature_fraction=0.43991305072524195\n",
      "[LightGBM] [Warning] lambda_l2 is set=0.00022377769830523052, reg_lambda=0.0 will be ignored. Current value: lambda_l2=0.00022377769830523052\n"
     ]
    },
    {
     "name": "stderr",
     "output_type": "stream",
     "text": [
      "\u001b[32m[I 2023-01-31 22:24:47,771]\u001b[0m Trial 190 finished with value: 2.1853891158484386 and parameters: {'feature_fraction': 0.43991305072524195, 'num_leaves': 55, 'bagging_fraction': 0.4006405697161983, 'lambda_l1': 6.544460265382925e-08, 'lambda_l2': 0.00022377769830523052, 'n_estimators': 212, 'max_depth': 3}. Best is trial 122 with value: 2.13743364476794.\u001b[0m\n"
     ]
    },
    {
     "name": "stdout",
     "output_type": "stream",
     "text": [
      "[LightGBM] [Warning] lambda_l1 is set=1.0778775263537919e-07, reg_alpha=0.0 will be ignored. Current value: lambda_l1=1.0778775263537919e-07\n",
      "[LightGBM] [Warning] bagging_fraction is set=0.6105942246572552, subsample=1.0 will be ignored. Current value: bagging_fraction=0.6105942246572552\n",
      "[LightGBM] [Warning] feature_fraction is set=0.41932977696226603, colsample_bytree=1.0 will be ignored. Current value: feature_fraction=0.41932977696226603\n",
      "[LightGBM] [Warning] lambda_l2 is set=0.0013884601036294282, reg_lambda=0.0 will be ignored. Current value: lambda_l2=0.0013884601036294282\n"
     ]
    },
    {
     "name": "stderr",
     "output_type": "stream",
     "text": [
      "\u001b[32m[I 2023-01-31 22:24:48,969]\u001b[0m Trial 191 finished with value: 2.1504347737096032 and parameters: {'feature_fraction': 0.41932977696226603, 'num_leaves': 49, 'bagging_fraction': 0.6105942246572552, 'lambda_l1': 1.0778775263537919e-07, 'lambda_l2': 0.0013884601036294282, 'n_estimators': 231, 'max_depth': 3}. Best is trial 122 with value: 2.13743364476794.\u001b[0m\n"
     ]
    },
    {
     "name": "stdout",
     "output_type": "stream",
     "text": [
      "[LightGBM] [Warning] lambda_l1 is set=1.2660756878985556e-07, reg_alpha=0.0 will be ignored. Current value: lambda_l1=1.2660756878985556e-07\n",
      "[LightGBM] [Warning] bagging_fraction is set=0.598409271548368, subsample=1.0 will be ignored. Current value: bagging_fraction=0.598409271548368\n",
      "[LightGBM] [Warning] feature_fraction is set=0.4186331183685132, colsample_bytree=1.0 will be ignored. Current value: feature_fraction=0.4186331183685132\n",
      "[LightGBM] [Warning] lambda_l2 is set=0.0017581857164076645, reg_lambda=0.0 will be ignored. Current value: lambda_l2=0.0017581857164076645\n"
     ]
    },
    {
     "name": "stderr",
     "output_type": "stream",
     "text": [
      "\u001b[32m[I 2023-01-31 22:24:50,151]\u001b[0m Trial 192 finished with value: 2.1526164783687705 and parameters: {'feature_fraction': 0.4186331183685132, 'num_leaves': 49, 'bagging_fraction': 0.598409271548368, 'lambda_l1': 1.2660756878985556e-07, 'lambda_l2': 0.0017581857164076645, 'n_estimators': 223, 'max_depth': 3}. Best is trial 122 with value: 2.13743364476794.\u001b[0m\n"
     ]
    },
    {
     "name": "stdout",
     "output_type": "stream",
     "text": [
      "[LightGBM] [Warning] lambda_l1 is set=1.0818587115254981e-07, reg_alpha=0.0 will be ignored. Current value: lambda_l1=1.0818587115254981e-07\n",
      "[LightGBM] [Warning] bagging_fraction is set=0.592966799255611, subsample=1.0 will be ignored. Current value: bagging_fraction=0.592966799255611\n",
      "[LightGBM] [Warning] feature_fraction is set=0.4180752638390277, colsample_bytree=1.0 will be ignored. Current value: feature_fraction=0.4180752638390277\n",
      "[LightGBM] [Warning] lambda_l2 is set=0.0014330808479053356, reg_lambda=0.0 will be ignored. Current value: lambda_l2=0.0014330808479053356\n"
     ]
    },
    {
     "name": "stderr",
     "output_type": "stream",
     "text": [
      "\u001b[32m[I 2023-01-31 22:24:51,338]\u001b[0m Trial 193 finished with value: 2.1522459605595565 and parameters: {'feature_fraction': 0.4180752638390277, 'num_leaves': 40, 'bagging_fraction': 0.592966799255611, 'lambda_l1': 1.0818587115254981e-07, 'lambda_l2': 0.0014330808479053356, 'n_estimators': 225, 'max_depth': 3}. Best is trial 122 with value: 2.13743364476794.\u001b[0m\n"
     ]
    },
    {
     "name": "stdout",
     "output_type": "stream",
     "text": [
      "[LightGBM] [Warning] lambda_l1 is set=9.733739627019687e-08, reg_alpha=0.0 will be ignored. Current value: lambda_l1=9.733739627019687e-08\n",
      "[LightGBM] [Warning] bagging_fraction is set=0.5877562555945963, subsample=1.0 will be ignored. Current value: bagging_fraction=0.5877562555945963\n",
      "[LightGBM] [Warning] feature_fraction is set=0.3774533440633189, colsample_bytree=1.0 will be ignored. Current value: feature_fraction=0.3774533440633189\n",
      "[LightGBM] [Warning] lambda_l2 is set=0.0011930407741106734, reg_lambda=0.0 will be ignored. Current value: lambda_l2=0.0011930407741106734\n"
     ]
    },
    {
     "name": "stderr",
     "output_type": "stream",
     "text": [
      "\u001b[32m[I 2023-01-31 22:24:52,464]\u001b[0m Trial 194 finished with value: 2.1825293619162798 and parameters: {'feature_fraction': 0.3774533440633189, 'num_leaves': 49, 'bagging_fraction': 0.5877562555945963, 'lambda_l1': 9.733739627019687e-08, 'lambda_l2': 0.0011930407741106734, 'n_estimators': 226, 'max_depth': 3}. Best is trial 122 with value: 2.13743364476794.\u001b[0m\n"
     ]
    },
    {
     "name": "stdout",
     "output_type": "stream",
     "text": [
      "[LightGBM] [Warning] lambda_l1 is set=1.3089550903674487e-07, reg_alpha=0.0 will be ignored. Current value: lambda_l1=1.3089550903674487e-07\n",
      "[LightGBM] [Warning] bagging_fraction is set=0.6010506986350541, subsample=1.0 will be ignored. Current value: bagging_fraction=0.6010506986350541\n",
      "[LightGBM] [Warning] feature_fraction is set=0.4176321005635423, colsample_bytree=1.0 will be ignored. Current value: feature_fraction=0.4176321005635423\n",
      "[LightGBM] [Warning] lambda_l2 is set=0.0007147480857188668, reg_lambda=0.0 will be ignored. Current value: lambda_l2=0.0007147480857188668\n"
     ]
    },
    {
     "name": "stderr",
     "output_type": "stream",
     "text": [
      "\u001b[32m[I 2023-01-31 22:24:53,660]\u001b[0m Trial 195 finished with value: 2.1505232926022617 and parameters: {'feature_fraction': 0.4176321005635423, 'num_leaves': 34, 'bagging_fraction': 0.6010506986350541, 'lambda_l1': 1.3089550903674487e-07, 'lambda_l2': 0.0007147480857188668, 'n_estimators': 230, 'max_depth': 3}. Best is trial 122 with value: 2.13743364476794.\u001b[0m\n"
     ]
    },
    {
     "name": "stdout",
     "output_type": "stream",
     "text": [
      "[LightGBM] [Warning] lambda_l1 is set=1.489140913356413e-07, reg_alpha=0.0 will be ignored. Current value: lambda_l1=1.489140913356413e-07\n",
      "[LightGBM] [Warning] bagging_fraction is set=0.5799806607965823, subsample=1.0 will be ignored. Current value: bagging_fraction=0.5799806607965823\n",
      "[LightGBM] [Warning] feature_fraction is set=0.4146526627027291, colsample_bytree=1.0 will be ignored. Current value: feature_fraction=0.4146526627027291\n",
      "[LightGBM] [Warning] lambda_l2 is set=0.0006873813591310887, reg_lambda=0.0 will be ignored. Current value: lambda_l2=0.0006873813591310887\n"
     ]
    },
    {
     "name": "stderr",
     "output_type": "stream",
     "text": [
      "\u001b[32m[I 2023-01-31 22:24:54,861]\u001b[0m Trial 196 finished with value: 2.150289146082326 and parameters: {'feature_fraction': 0.4146526627027291, 'num_leaves': 38, 'bagging_fraction': 0.5799806607965823, 'lambda_l1': 1.489140913356413e-07, 'lambda_l2': 0.0006873813591310887, 'n_estimators': 232, 'max_depth': 3}. Best is trial 122 with value: 2.13743364476794.\u001b[0m\n"
     ]
    },
    {
     "name": "stdout",
     "output_type": "stream",
     "text": [
      "[LightGBM] [Warning] lambda_l1 is set=1.6989407696078424e-07, reg_alpha=0.0 will be ignored. Current value: lambda_l1=1.6989407696078424e-07\n",
      "[LightGBM] [Warning] bagging_fraction is set=0.5971534868891597, subsample=1.0 will be ignored. Current value: bagging_fraction=0.5971534868891597\n",
      "[LightGBM] [Warning] feature_fraction is set=0.3962966004339532, colsample_bytree=1.0 will be ignored. Current value: feature_fraction=0.3962966004339532\n",
      "[LightGBM] [Warning] lambda_l2 is set=0.0007638213655652937, reg_lambda=0.0 will be ignored. Current value: lambda_l2=0.0007638213655652937\n"
     ]
    },
    {
     "name": "stderr",
     "output_type": "stream",
     "text": [
      "\u001b[32m[I 2023-01-31 22:24:56,035]\u001b[0m Trial 197 finished with value: 2.1788389422982677 and parameters: {'feature_fraction': 0.3962966004339532, 'num_leaves': 39, 'bagging_fraction': 0.5971534868891597, 'lambda_l1': 1.6989407696078424e-07, 'lambda_l2': 0.0007638213655652937, 'n_estimators': 231, 'max_depth': 3}. Best is trial 122 with value: 2.13743364476794.\u001b[0m\n"
     ]
    },
    {
     "name": "stdout",
     "output_type": "stream",
     "text": [
      "[LightGBM] [Warning] lambda_l1 is set=6.18131703925724e-08, reg_alpha=0.0 will be ignored. Current value: lambda_l1=6.18131703925724e-08\n",
      "[LightGBM] [Warning] bagging_fraction is set=0.572215208239032, subsample=1.0 will be ignored. Current value: bagging_fraction=0.572215208239032\n",
      "[LightGBM] [Warning] feature_fraction is set=0.4166277879781027, colsample_bytree=1.0 will be ignored. Current value: feature_fraction=0.4166277879781027\n",
      "[LightGBM] [Warning] lambda_l2 is set=0.0006325665464302487, reg_lambda=0.0 will be ignored. Current value: lambda_l2=0.0006325665464302487\n"
     ]
    },
    {
     "name": "stderr",
     "output_type": "stream",
     "text": [
      "\u001b[32m[I 2023-01-31 22:24:57,204]\u001b[0m Trial 198 finished with value: 2.1526006973583964 and parameters: {'feature_fraction': 0.4166277879781027, 'num_leaves': 33, 'bagging_fraction': 0.572215208239032, 'lambda_l1': 6.18131703925724e-08, 'lambda_l2': 0.0006325665464302487, 'n_estimators': 221, 'max_depth': 3}. Best is trial 122 with value: 2.13743364476794.\u001b[0m\n"
     ]
    },
    {
     "name": "stdout",
     "output_type": "stream",
     "text": [
      "[LightGBM] [Warning] lambda_l1 is set=5.359816231502934e-08, reg_alpha=0.0 will be ignored. Current value: lambda_l1=5.359816231502934e-08\n",
      "[LightGBM] [Warning] bagging_fraction is set=0.577207624991113, subsample=1.0 will be ignored. Current value: bagging_fraction=0.577207624991113\n",
      "[LightGBM] [Warning] feature_fraction is set=0.4148007203441851, colsample_bytree=1.0 will be ignored. Current value: feature_fraction=0.4148007203441851\n",
      "[LightGBM] [Warning] lambda_l2 is set=0.0006128041438751097, reg_lambda=0.0 will be ignored. Current value: lambda_l2=0.0006128041438751097\n"
     ]
    },
    {
     "name": "stderr",
     "output_type": "stream",
     "text": [
      "\u001b[32m[I 2023-01-31 22:24:58,363]\u001b[0m Trial 199 finished with value: 2.152149713459569 and parameters: {'feature_fraction': 0.4148007203441851, 'num_leaves': 31, 'bagging_fraction': 0.577207624991113, 'lambda_l1': 5.359816231502934e-08, 'lambda_l2': 0.0006128041438751097, 'n_estimators': 218, 'max_depth': 3}. Best is trial 122 with value: 2.13743364476794.\u001b[0m\n"
     ]
    },
    {
     "name": "stdout",
     "output_type": "stream",
     "text": [
      "Number of finished trials: 200\n",
      "Best trial: {'feature_fraction': 0.4637433156513897, 'num_leaves': 166, 'bagging_fraction': 0.491500001629979, 'lambda_l1': 1.1352392494776181e-08, 'lambda_l2': 0.9326299162861617, 'n_estimators': 269, 'max_depth': 3}\n",
      "Best RMSE: 2.13743364476794\n"
     ]
    }
   ],
   "source": [
    "def objective(trial):\n",
    "    \"\"\"\n",
    "    https://medium.com/optuna/lightgbm-tuner-new-optuna-integration-for-hyperparameter-optimization-8b7095e99258\n",
    "    \"\"\"\n",
    "    params = {\n",
    "\n",
    "#         'bagging_freq': trial.suggest_int('bagging_freq', 1, 7),\n",
    "#         'min_child_samples': trial.suggest_int('min_child_samples', 5, 100),\n",
    "        'feature_fraction': trial.suggest_float('feature_fraction', 0.0, 1.0),\n",
    "        'num_leaves': trial.suggest_int('num_leaves', 2, 256),\n",
    "        'bagging_fraction': trial.suggest_float('bagging_fraction', 0.4, 1.0),\n",
    "        'lambda_l1': trial.suggest_float('lambda_l1', 1e-8, 10.0, log=True),\n",
    "        'lambda_l2': trial.suggest_float('lambda_l2', 1e-8, 10.0, log=True),\n",
    "#         'min_samples_leaf': trial.suggest_int('min_samples_leaf', 1, 10),\n",
    "        'n_estimators': trial.suggest_int('n_estimators', 10, 300),\n",
    "        'max_depth': trial.suggest_int('max_depth', 2, 6),\n",
    "        'deterministic': True,\n",
    "        'random_state': 42\n",
    "    }\n",
    "    \n",
    "    model2 = lgbm.LGBMRegressor(**params)\n",
    "    model2.fit(xtrain_svd, ytrain)\n",
    "\n",
    "    # predict\n",
    "    ypred2 = model2.predict(xval_svd)\n",
    "\n",
    "    # validate\n",
    "    df_eval2 = pd.DataFrame()\n",
    "    df_eval2['Env'] = xval_svd.index.get_level_values(0)\n",
    "    df_eval2['ytrue'] = list(yval)\n",
    "    df_eval2['ypred'] = ypred2\n",
    "    rmse_per_group2 = df_eval2.groupby('Env').apply(lambda x: mean_squared_error(x['ytrue'], x['ypred'], squared=False))\n",
    "    # print(rmse_per_group2)\n",
    "\n",
    "    rmse2 = sum(rmse_per_group2) / len(rmse_per_group2)\n",
    "    return rmse2\n",
    "\n",
    "\n",
    "study = optuna.create_study(direction='minimize', sampler=optuna.samplers.TPESampler(seed=42))\n",
    "study.optimize(objective, n_trials=200)\n",
    " \n",
    "print('Number of finished trials:', len(study.trials))\n",
    "print('Best trial:', study.best_trial.params)\n",
    "print('Best RMSE:', study.best_value)"
   ]
  },
  {
   "cell_type": "code",
   "execution_count": 38,
   "id": "8fa3a28d",
   "metadata": {},
   "outputs": [],
   "source": [
    "# svd=100\n",
    "# Best RMSE: 2.1357791413973715\n",
    "\n",
    "# svd=150\n",
    "# Best RMSE: 2.13743364476794  but better when combining all models"
   ]
  },
  {
   "cell_type": "markdown",
   "id": "ef1ad748",
   "metadata": {},
   "source": [
    "### Best model"
   ]
  },
  {
   "cell_type": "code",
   "execution_count": 39,
   "id": "2b9d6d83",
   "metadata": {},
   "outputs": [
    {
     "name": "stdout",
     "output_type": "stream",
     "text": [
      "[LightGBM] [Warning] lambda_l1 is set=1.1352392494776181e-08, reg_alpha=0.0 will be ignored. Current value: lambda_l1=1.1352392494776181e-08\n",
      "[LightGBM] [Warning] bagging_fraction is set=0.491500001629979, subsample=1.0 will be ignored. Current value: bagging_fraction=0.491500001629979\n",
      "[LightGBM] [Warning] feature_fraction is set=0.4637433156513897, colsample_bytree=1.0 will be ignored. Current value: feature_fraction=0.4637433156513897\n",
      "[LightGBM] [Warning] lambda_l2 is set=0.9326299162861617, reg_lambda=0.0 will be ignored. Current value: lambda_l2=0.9326299162861617\n",
      "Env\n",
      "COH1_2021    2.270591\n",
      "DEH1_2021    2.238171\n",
      "GAH1_2021    1.925755\n",
      "GAH2_2021    2.358274\n",
      "GEH1_2021    2.296007\n",
      "IAH1_2021    2.378701\n",
      "IAH2_2021    1.318563\n",
      "IAH3_2021    2.006136\n",
      "IAH4_2021    1.515970\n",
      "ILH1_2021    1.652512\n",
      "INH1_2021    1.601684\n",
      "MIH1_2021    1.330809\n",
      "MNH1_2021    1.533848\n",
      "NCH1_2021    2.149745\n",
      "NEH1_2021    3.059836\n",
      "NEH2_2021    2.020648\n",
      "NEH3_2021    3.038122\n",
      "NYH2_2021    2.132547\n",
      "NYH3_2021    2.007035\n",
      "NYS1_2021    1.845325\n",
      "SCH1_2021    2.321064\n",
      "TXH1_2021    1.754190\n",
      "TXH2_2021    2.280550\n",
      "TXH3_2021    4.201972\n",
      "WIH1_2021    2.305746\n",
      "WIH2_2021    2.439594\n",
      "WIH3_2021    1.727312\n",
      "dtype: float64\n",
      "RMSE: 2.13743364476794\n",
      "CPU times: user 1.37 s, sys: 0 ns, total: 1.37 s\n",
      "Wall time: 1.37 s\n"
     ]
    }
   ],
   "source": [
    "%%time\n",
    "\n",
    "best_params = {'feature_fraction': 0.4637433156513897, 'num_leaves': 166, \n",
    "               'bagging_fraction': 0.491500001629979, 'lambda_l1': 1.1352392494776181e-08, \n",
    "               'lambda_l2': 0.9326299162861617, 'n_estimators': 269, 'max_depth': 3}\n",
    "model2 = lgbm.LGBMRegressor(random_state=42, **best_params)\n",
    "model2.fit(xtrain_svd, ytrain)\n",
    "\n",
    "# predict\n",
    "ypred2 = model2.predict(xval_svd)\n",
    "\n",
    "# validate\n",
    "df_eval2 = pd.DataFrame()\n",
    "df_eval2['Env'] = xval_svd.index.get_level_values(0)\n",
    "df_eval2['Hybrid'] = xval_svd.index.get_level_values(1)\n",
    "df_eval2['ytrue'] = list(yval)\n",
    "df_eval2['ypred'] = ypred2\n",
    "rmse_per_group2 = df_eval2.groupby('Env').apply(lambda x: mean_squared_error(x['ytrue'], x['ypred'], squared=False))\n",
    "print(rmse_per_group2)\n",
    "\n",
    "rmse2 = sum(rmse_per_group2) / len(rmse_per_group2)\n",
    "print('RMSE:', rmse2)"
   ]
  },
  {
   "cell_type": "code",
   "execution_count": 40,
   "id": "7857b0b9",
   "metadata": {},
   "outputs": [
    {
     "name": "stdout",
     "output_type": "stream",
     "text": [
      "0.2689416885581346\n"
     ]
    },
    {
     "data": {
      "image/png": "[encoded data removed]",
      "text/plain": [
       "<Figure size 432x432 with 1 Axes>"
      ]
     },
     "metadata": {
      "needs_background": "light"
     },
     "output_type": "display_data"
    }
   ],
   "source": [
    "print(r2_score(df_eval2['ytrue'], df_eval2['ypred']))\n",
    "df_eval2.plot.scatter('ytrue', 'ypred', figsize=(6, 6));"
   ]
  },
  {
   "cell_type": "code",
   "execution_count": 41,
   "id": "195b9746",
   "metadata": {},
   "outputs": [],
   "source": [
    "df_eval2.to_csv('../output/oof_kronecker_dominant.csv', index=False)"
   ]
  },
  {
   "cell_type": "code",
   "execution_count": 42,
   "id": "fb0cfa01",
   "metadata": {},
   "outputs": [
    {
     "name": "stdout",
     "output_type": "stream",
     "text": [
      "-rw-r--r-- 1 igorf samuelbf 839K Jan 31 19:25 ../output/oof_kronecker_additive.csv\r\n",
      "-rw-r--r-- 1 igorf samuelbf 838K Jan 31 22:25 ../output/oof_kronecker_dominant.csv\r\n"
     ]
    }
   ],
   "source": [
    "!ls -lh ../output/oof_kronecker*"
   ]
  }
 ],
 "metadata": {
  "kernelspec": {
   "display_name": "Python 3 (ipykernel)",
   "language": "python",
   "name": "python3"
  },
  "language_info": {
   "codemirror_mode": {
    "name": "ipython",
    "version": 3
   },
   "file_extension": ".py",
   "mimetype": "text/x-python",
   "name": "python",
   "nbconvert_exporter": "python",
   "pygments_lexer": "ipython3",
   "version": "3.9.6"
  }
 },
 "nbformat": 4,
 "nbformat_minor": 5
}
