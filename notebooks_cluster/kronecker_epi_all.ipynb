{
 "cells": [
  {
   "cell_type": "code",
   "execution_count": 1,
   "id": "babc01c7",
   "metadata": {},
   "outputs": [],
   "source": [
    "# !pip3 install pyarrow\n",
    "# !pip3 install lightgbm\n",
    "# !pip3 install optuna"
   ]
  },
  {
   "cell_type": "code",
   "execution_count": 2,
   "id": "ce58b9cd",
   "metadata": {},
   "outputs": [],
   "source": [
    "import pandas as pd\n",
    "import lightgbm as lgbm\n",
    "from sklearn.metrics import mean_squared_error, r2_score\n",
    "from IPython.display import display"
   ]
  },
  {
   "cell_type": "code",
   "execution_count": 3,
   "id": "023f0bf0",
   "metadata": {},
   "outputs": [],
   "source": [
    "def preprocess(df, year):\n",
    "    df[['Env', 'Hybrid']] = df['id'].str.split(':', expand=True)\n",
    "    df['Env'] += \"_\" + str(year)\n",
    "    df = df.drop('id', axis=1).set_index(['Env', 'Hybrid'])\n",
    "    return df"
   ]
  },
  {
   "cell_type": "code",
   "execution_count": 4,
   "id": "52786c92",
   "metadata": {},
   "outputs": [
    {
     "name": "stdout",
     "output_type": "stream",
     "text": [
      "CPU times: user 21min 30s, sys: 6min 33s, total: 28min 4s\n",
      "Wall time: 28min 13s\n"
     ]
    },
    {
     "data": {
      "text/html": [
       "<div>\n",
       "<style scoped>\n",
       "    .dataframe tbody tr th:only-of-type {\n",
       "        vertical-align: middle;\n",
       "    }\n",
       "\n",
       "    .dataframe tbody tr th {\n",
       "        vertical-align: top;\n",
       "    }\n",
       "\n",
       "    .dataframe thead th {\n",
       "        text-align: right;\n",
       "    }\n",
       "</style>\n",
       "<table border=\"1\" class=\"dataframe\">\n",
       "  <thead>\n",
       "    <tr style=\"text-align: right;\">\n",
       "      <th></th>\n",
       "      <th></th>\n",
       "      <th>weather_station_lat.2369.DK3IIH6_AA</th>\n",
       "      <th>weather_station_lat.2369.PHN82_AA</th>\n",
       "      <th>weather_station_lat.2369.PHZ51_AA</th>\n",
       "      <th>weather_station_lat.2FACC.DK3IIH6_AA</th>\n",
       "      <th>weather_station_lat.4N506.DK3IIH6_AA</th>\n",
       "      <th>weather_station_lat.6F629.DK3IIH6_AA</th>\n",
       "      <th>weather_station_lat.740.PB80_AA</th>\n",
       "      <th>weather_station_lat.740.PHB47_AA</th>\n",
       "      <th>weather_station_lat.A632.DK3IIH6_AA</th>\n",
       "      <th>weather_station_lat.A634.DK3IIH6_AA</th>\n",
       "      <th>...</th>\n",
       "      <th>T2M_min_fall_X_weather_station_lat.Z036E0057.PHZ51_AD</th>\n",
       "      <th>T2M_min_fall_X_weather_station_lat.Z037E0012.DK3IIH6_AD</th>\n",
       "      <th>T2M_min_fall_X_weather_station_lat.Z037E0012.LH162_AD</th>\n",
       "      <th>T2M_min_fall_X_weather_station_lat.Z037E0012.PHZ51_AD</th>\n",
       "      <th>T2M_min_fall_X_weather_station_lat.Z037E0054.DK3IIH6_AD</th>\n",
       "      <th>T2M_min_fall_X_weather_station_lat.Z037E0054.LH162_AD</th>\n",
       "      <th>T2M_min_fall_X_weather_station_lat.Z037E0054.PHZ51_AD</th>\n",
       "      <th>T2M_min_fall_X_weather_station_lat.Z038E0057.DK3IIH6_AD</th>\n",
       "      <th>T2M_min_fall_X_weather_station_lat.Z038E0057.LH162_AD</th>\n",
       "      <th>T2M_min_fall_X_weather_station_lat.Z038E0057.PHZ51_AD</th>\n",
       "    </tr>\n",
       "    <tr>\n",
       "      <th>Env</th>\n",
       "      <th>Hybrid</th>\n",
       "      <th></th>\n",
       "      <th></th>\n",
       "      <th></th>\n",
       "      <th></th>\n",
       "      <th></th>\n",
       "      <th></th>\n",
       "      <th></th>\n",
       "      <th></th>\n",
       "      <th></th>\n",
       "      <th></th>\n",
       "      <th></th>\n",
       "      <th></th>\n",
       "      <th></th>\n",
       "      <th></th>\n",
       "      <th></th>\n",
       "      <th></th>\n",
       "      <th></th>\n",
       "      <th></th>\n",
       "      <th></th>\n",
       "      <th></th>\n",
       "      <th></th>\n",
       "    </tr>\n",
       "  </thead>\n",
       "  <tbody>\n",
       "    <tr>\n",
       "      <th rowspan=\"5\" valign=\"top\">DEH1_2020</th>\n",
       "      <th>B14A/H95</th>\n",
       "      <td>0.026453</td>\n",
       "      <td>0.087934</td>\n",
       "      <td>0.067150</td>\n",
       "      <td>0.011281</td>\n",
       "      <td>0.010385</td>\n",
       "      <td>0.008728</td>\n",
       "      <td>0.001851</td>\n",
       "      <td>0.031265</td>\n",
       "      <td>0.013483</td>\n",
       "      <td>0.002779</td>\n",
       "      <td>...</td>\n",
       "      <td>-0.056852</td>\n",
       "      <td>-0.012840</td>\n",
       "      <td>0.027901</td>\n",
       "      <td>-0.061047</td>\n",
       "      <td>-0.007260</td>\n",
       "      <td>0.036093</td>\n",
       "      <td>-0.054197</td>\n",
       "      <td>-0.013225</td>\n",
       "      <td>0.025757</td>\n",
       "      <td>-0.063544</td>\n",
       "    </tr>\n",
       "    <tr>\n",
       "      <th>B14A/MO17</th>\n",
       "      <td>0.178596</td>\n",
       "      <td>0.179007</td>\n",
       "      <td>0.024634</td>\n",
       "      <td>0.024201</td>\n",
       "      <td>0.000455</td>\n",
       "      <td>0.118036</td>\n",
       "      <td>6.467765</td>\n",
       "      <td>5.364242</td>\n",
       "      <td>0.029983</td>\n",
       "      <td>0.032255</td>\n",
       "      <td>...</td>\n",
       "      <td>-0.087162</td>\n",
       "      <td>-0.181258</td>\n",
       "      <td>1.042638</td>\n",
       "      <td>-0.122442</td>\n",
       "      <td>-0.152442</td>\n",
       "      <td>1.112863</td>\n",
       "      <td>-0.092045</td>\n",
       "      <td>-0.191809</td>\n",
       "      <td>1.036754</td>\n",
       "      <td>-0.148276</td>\n",
       "    </tr>\n",
       "    <tr>\n",
       "      <th>B14A/OH43</th>\n",
       "      <td>0.031022</td>\n",
       "      <td>0.190380</td>\n",
       "      <td>0.133505</td>\n",
       "      <td>0.009357</td>\n",
       "      <td>0.004669</td>\n",
       "      <td>0.019938</td>\n",
       "      <td>0.004035</td>\n",
       "      <td>0.058771</td>\n",
       "      <td>0.004690</td>\n",
       "      <td>0.001539</td>\n",
       "      <td>...</td>\n",
       "      <td>-0.083198</td>\n",
       "      <td>-0.055298</td>\n",
       "      <td>0.010978</td>\n",
       "      <td>-0.110858</td>\n",
       "      <td>-0.035645</td>\n",
       "      <td>0.018018</td>\n",
       "      <td>-0.084533</td>\n",
       "      <td>-0.049725</td>\n",
       "      <td>0.013993</td>\n",
       "      <td>-0.095283</td>\n",
       "    </tr>\n",
       "    <tr>\n",
       "      <th>B37/H95</th>\n",
       "      <td>0.462462</td>\n",
       "      <td>0.775128</td>\n",
       "      <td>0.647440</td>\n",
       "      <td>0.103428</td>\n",
       "      <td>0.240375</td>\n",
       "      <td>0.313499</td>\n",
       "      <td>0.640172</td>\n",
       "      <td>2.075235</td>\n",
       "      <td>0.066985</td>\n",
       "      <td>0.076919</td>\n",
       "      <td>...</td>\n",
       "      <td>-0.458312</td>\n",
       "      <td>-0.373698</td>\n",
       "      <td>-0.174871</td>\n",
       "      <td>-0.497429</td>\n",
       "      <td>-0.374008</td>\n",
       "      <td>-0.167360</td>\n",
       "      <td>-0.450957</td>\n",
       "      <td>-0.366781</td>\n",
       "      <td>-0.158465</td>\n",
       "      <td>-0.527784</td>\n",
       "    </tr>\n",
       "    <tr>\n",
       "      <th>B37/MO17</th>\n",
       "      <td>0.869933</td>\n",
       "      <td>1.009929</td>\n",
       "      <td>0.489978</td>\n",
       "      <td>0.135003</td>\n",
       "      <td>0.368954</td>\n",
       "      <td>0.093202</td>\n",
       "      <td>2.882126</td>\n",
       "      <td>15.415601</td>\n",
       "      <td>0.286430</td>\n",
       "      <td>0.253725</td>\n",
       "      <td>...</td>\n",
       "      <td>-0.579654</td>\n",
       "      <td>-0.854099</td>\n",
       "      <td>0.012887</td>\n",
       "      <td>-0.704666</td>\n",
       "      <td>-0.810146</td>\n",
       "      <td>0.000996</td>\n",
       "      <td>-0.656429</td>\n",
       "      <td>-0.903332</td>\n",
       "      <td>0.004754</td>\n",
       "      <td>-0.679742</td>\n",
       "    </tr>\n",
       "    <tr>\n",
       "      <th>...</th>\n",
       "      <th>...</th>\n",
       "      <td>...</td>\n",
       "      <td>...</td>\n",
       "      <td>...</td>\n",
       "      <td>...</td>\n",
       "      <td>...</td>\n",
       "      <td>...</td>\n",
       "      <td>...</td>\n",
       "      <td>...</td>\n",
       "      <td>...</td>\n",
       "      <td>...</td>\n",
       "      <td>...</td>\n",
       "      <td>...</td>\n",
       "      <td>...</td>\n",
       "      <td>...</td>\n",
       "      <td>...</td>\n",
       "      <td>...</td>\n",
       "      <td>...</td>\n",
       "      <td>...</td>\n",
       "      <td>...</td>\n",
       "      <td>...</td>\n",
       "      <td>...</td>\n",
       "    </tr>\n",
       "    <tr>\n",
       "      <th rowspan=\"5\" valign=\"top\">WIH3_2020</th>\n",
       "      <th>W10004_1123/PHP02</th>\n",
       "      <td>1.152961</td>\n",
       "      <td>2.306053</td>\n",
       "      <td>0.852553</td>\n",
       "      <td>3.195444</td>\n",
       "      <td>1.348529</td>\n",
       "      <td>1.537112</td>\n",
       "      <td>0.463827</td>\n",
       "      <td>0.378679</td>\n",
       "      <td>4.151398</td>\n",
       "      <td>3.538142</td>\n",
       "      <td>...</td>\n",
       "      <td>0.366263</td>\n",
       "      <td>-0.992506</td>\n",
       "      <td>0.057432</td>\n",
       "      <td>0.229871</td>\n",
       "      <td>-0.853912</td>\n",
       "      <td>0.037195</td>\n",
       "      <td>0.271941</td>\n",
       "      <td>-1.030103</td>\n",
       "      <td>0.027330</td>\n",
       "      <td>0.209603</td>\n",
       "    </tr>\n",
       "    <tr>\n",
       "      <th>W10004_1140/PHP02</th>\n",
       "      <td>0.868290</td>\n",
       "      <td>1.812642</td>\n",
       "      <td>0.646537</td>\n",
       "      <td>1.756443</td>\n",
       "      <td>1.183893</td>\n",
       "      <td>1.080632</td>\n",
       "      <td>0.117024</td>\n",
       "      <td>0.135593</td>\n",
       "      <td>1.550718</td>\n",
       "      <td>1.273550</td>\n",
       "      <td>...</td>\n",
       "      <td>1.010079</td>\n",
       "      <td>-1.456254</td>\n",
       "      <td>0.158075</td>\n",
       "      <td>1.008372</td>\n",
       "      <td>-1.478332</td>\n",
       "      <td>0.134708</td>\n",
       "      <td>0.984586</td>\n",
       "      <td>-1.526228</td>\n",
       "      <td>0.156636</td>\n",
       "      <td>0.983774</td>\n",
       "    </tr>\n",
       "    <tr>\n",
       "      <th>W10004_1143/PHP02</th>\n",
       "      <td>0.354637</td>\n",
       "      <td>0.942718</td>\n",
       "      <td>1.325811</td>\n",
       "      <td>1.915482</td>\n",
       "      <td>0.612853</td>\n",
       "      <td>1.241576</td>\n",
       "      <td>0.333806</td>\n",
       "      <td>0.007922</td>\n",
       "      <td>1.632105</td>\n",
       "      <td>1.469468</td>\n",
       "      <td>...</td>\n",
       "      <td>1.374195</td>\n",
       "      <td>-0.667735</td>\n",
       "      <td>0.212434</td>\n",
       "      <td>1.397062</td>\n",
       "      <td>-0.726365</td>\n",
       "      <td>0.231780</td>\n",
       "      <td>1.363912</td>\n",
       "      <td>-0.711945</td>\n",
       "      <td>0.203226</td>\n",
       "      <td>1.363518</td>\n",
       "    </tr>\n",
       "    <tr>\n",
       "      <th>W10004_1146/PHP02</th>\n",
       "      <td>0.956150</td>\n",
       "      <td>1.748118</td>\n",
       "      <td>0.680707</td>\n",
       "      <td>2.154864</td>\n",
       "      <td>1.643895</td>\n",
       "      <td>1.264101</td>\n",
       "      <td>0.260599</td>\n",
       "      <td>0.393745</td>\n",
       "      <td>3.018605</td>\n",
       "      <td>2.473000</td>\n",
       "      <td>...</td>\n",
       "      <td>0.759525</td>\n",
       "      <td>-2.000797</td>\n",
       "      <td>0.034718</td>\n",
       "      <td>0.843107</td>\n",
       "      <td>-1.873605</td>\n",
       "      <td>0.035531</td>\n",
       "      <td>0.848211</td>\n",
       "      <td>-2.006372</td>\n",
       "      <td>0.024843</td>\n",
       "      <td>0.839436</td>\n",
       "    </tr>\n",
       "    <tr>\n",
       "      <th>W10004_1156/PHP02</th>\n",
       "      <td>1.157501</td>\n",
       "      <td>2.466025</td>\n",
       "      <td>0.614239</td>\n",
       "      <td>2.358873</td>\n",
       "      <td>1.232127</td>\n",
       "      <td>1.331948</td>\n",
       "      <td>0.246906</td>\n",
       "      <td>0.383193</td>\n",
       "      <td>2.278151</td>\n",
       "      <td>2.139727</td>\n",
       "      <td>...</td>\n",
       "      <td>1.040540</td>\n",
       "      <td>-1.447294</td>\n",
       "      <td>0.251496</td>\n",
       "      <td>1.112078</td>\n",
       "      <td>-1.392501</td>\n",
       "      <td>0.232673</td>\n",
       "      <td>1.131388</td>\n",
       "      <td>-1.391519</td>\n",
       "      <td>0.231203</td>\n",
       "      <td>1.182835</td>\n",
       "    </tr>\n",
       "  </tbody>\n",
       "</table>\n",
       "<p>11277 rows × 1241856 columns</p>\n",
       "</div>"
      ],
      "text/plain": [
       "                             weather_station_lat.2369.DK3IIH6_AA  \\\n",
       "Env       Hybrid                                                   \n",
       "DEH1_2020 B14A/H95                                      0.026453   \n",
       "          B14A/MO17                                     0.178596   \n",
       "          B14A/OH43                                     0.031022   \n",
       "          B37/H95                                       0.462462   \n",
       "          B37/MO17                                      0.869933   \n",
       "...                                                          ...   \n",
       "WIH3_2020 W10004_1123/PHP02                             1.152961   \n",
       "          W10004_1140/PHP02                             0.868290   \n",
       "          W10004_1143/PHP02                             0.354637   \n",
       "          W10004_1146/PHP02                             0.956150   \n",
       "          W10004_1156/PHP02                             1.157501   \n",
       "\n",
       "                             weather_station_lat.2369.PHN82_AA  \\\n",
       "Env       Hybrid                                                 \n",
       "DEH1_2020 B14A/H95                                    0.087934   \n",
       "          B14A/MO17                                   0.179007   \n",
       "          B14A/OH43                                   0.190380   \n",
       "          B37/H95                                     0.775128   \n",
       "          B37/MO17                                    1.009929   \n",
       "...                                                        ...   \n",
       "WIH3_2020 W10004_1123/PHP02                           2.306053   \n",
       "          W10004_1140/PHP02                           1.812642   \n",
       "          W10004_1143/PHP02                           0.942718   \n",
       "          W10004_1146/PHP02                           1.748118   \n",
       "          W10004_1156/PHP02                           2.466025   \n",
       "\n",
       "                             weather_station_lat.2369.PHZ51_AA  \\\n",
       "Env       Hybrid                                                 \n",
       "DEH1_2020 B14A/H95                                    0.067150   \n",
       "          B14A/MO17                                   0.024634   \n",
       "          B14A/OH43                                   0.133505   \n",
       "          B37/H95                                     0.647440   \n",
       "          B37/MO17                                    0.489978   \n",
       "...                                                        ...   \n",
       "WIH3_2020 W10004_1123/PHP02                           0.852553   \n",
       "          W10004_1140/PHP02                           0.646537   \n",
       "          W10004_1143/PHP02                           1.325811   \n",
       "          W10004_1146/PHP02                           0.680707   \n",
       "          W10004_1156/PHP02                           0.614239   \n",
       "\n",
       "                             weather_station_lat.2FACC.DK3IIH6_AA  \\\n",
       "Env       Hybrid                                                    \n",
       "DEH1_2020 B14A/H95                                       0.011281   \n",
       "          B14A/MO17                                      0.024201   \n",
       "          B14A/OH43                                      0.009357   \n",
       "          B37/H95                                        0.103428   \n",
       "          B37/MO17                                       0.135003   \n",
       "...                                                           ...   \n",
       "WIH3_2020 W10004_1123/PHP02                              3.195444   \n",
       "          W10004_1140/PHP02                              1.756443   \n",
       "          W10004_1143/PHP02                              1.915482   \n",
       "          W10004_1146/PHP02                              2.154864   \n",
       "          W10004_1156/PHP02                              2.358873   \n",
       "\n",
       "                             weather_station_lat.4N506.DK3IIH6_AA  \\\n",
       "Env       Hybrid                                                    \n",
       "DEH1_2020 B14A/H95                                       0.010385   \n",
       "          B14A/MO17                                      0.000455   \n",
       "          B14A/OH43                                      0.004669   \n",
       "          B37/H95                                        0.240375   \n",
       "          B37/MO17                                       0.368954   \n",
       "...                                                           ...   \n",
       "WIH3_2020 W10004_1123/PHP02                              1.348529   \n",
       "          W10004_1140/PHP02                              1.183893   \n",
       "          W10004_1143/PHP02                              0.612853   \n",
       "          W10004_1146/PHP02                              1.643895   \n",
       "          W10004_1156/PHP02                              1.232127   \n",
       "\n",
       "                             weather_station_lat.6F629.DK3IIH6_AA  \\\n",
       "Env       Hybrid                                                    \n",
       "DEH1_2020 B14A/H95                                       0.008728   \n",
       "          B14A/MO17                                      0.118036   \n",
       "          B14A/OH43                                      0.019938   \n",
       "          B37/H95                                        0.313499   \n",
       "          B37/MO17                                       0.093202   \n",
       "...                                                           ...   \n",
       "WIH3_2020 W10004_1123/PHP02                              1.537112   \n",
       "          W10004_1140/PHP02                              1.080632   \n",
       "          W10004_1143/PHP02                              1.241576   \n",
       "          W10004_1146/PHP02                              1.264101   \n",
       "          W10004_1156/PHP02                              1.331948   \n",
       "\n",
       "                             weather_station_lat.740.PB80_AA  \\\n",
       "Env       Hybrid                                               \n",
       "DEH1_2020 B14A/H95                                  0.001851   \n",
       "          B14A/MO17                                 6.467765   \n",
       "          B14A/OH43                                 0.004035   \n",
       "          B37/H95                                   0.640172   \n",
       "          B37/MO17                                  2.882126   \n",
       "...                                                      ...   \n",
       "WIH3_2020 W10004_1123/PHP02                         0.463827   \n",
       "          W10004_1140/PHP02                         0.117024   \n",
       "          W10004_1143/PHP02                         0.333806   \n",
       "          W10004_1146/PHP02                         0.260599   \n",
       "          W10004_1156/PHP02                         0.246906   \n",
       "\n",
       "                             weather_station_lat.740.PHB47_AA  \\\n",
       "Env       Hybrid                                                \n",
       "DEH1_2020 B14A/H95                                   0.031265   \n",
       "          B14A/MO17                                  5.364242   \n",
       "          B14A/OH43                                  0.058771   \n",
       "          B37/H95                                    2.075235   \n",
       "          B37/MO17                                  15.415601   \n",
       "...                                                       ...   \n",
       "WIH3_2020 W10004_1123/PHP02                          0.378679   \n",
       "          W10004_1140/PHP02                          0.135593   \n",
       "          W10004_1143/PHP02                          0.007922   \n",
       "          W10004_1146/PHP02                          0.393745   \n",
       "          W10004_1156/PHP02                          0.383193   \n",
       "\n",
       "                             weather_station_lat.A632.DK3IIH6_AA  \\\n",
       "Env       Hybrid                                                   \n",
       "DEH1_2020 B14A/H95                                      0.013483   \n",
       "          B14A/MO17                                     0.029983   \n",
       "          B14A/OH43                                     0.004690   \n",
       "          B37/H95                                       0.066985   \n",
       "          B37/MO17                                      0.286430   \n",
       "...                                                          ...   \n",
       "WIH3_2020 W10004_1123/PHP02                             4.151398   \n",
       "          W10004_1140/PHP02                             1.550718   \n",
       "          W10004_1143/PHP02                             1.632105   \n",
       "          W10004_1146/PHP02                             3.018605   \n",
       "          W10004_1156/PHP02                             2.278151   \n",
       "\n",
       "                             weather_station_lat.A634.DK3IIH6_AA  ...  \\\n",
       "Env       Hybrid                                                  ...   \n",
       "DEH1_2020 B14A/H95                                      0.002779  ...   \n",
       "          B14A/MO17                                     0.032255  ...   \n",
       "          B14A/OH43                                     0.001539  ...   \n",
       "          B37/H95                                       0.076919  ...   \n",
       "          B37/MO17                                      0.253725  ...   \n",
       "...                                                          ...  ...   \n",
       "WIH3_2020 W10004_1123/PHP02                             3.538142  ...   \n",
       "          W10004_1140/PHP02                             1.273550  ...   \n",
       "          W10004_1143/PHP02                             1.469468  ...   \n",
       "          W10004_1146/PHP02                             2.473000  ...   \n",
       "          W10004_1156/PHP02                             2.139727  ...   \n",
       "\n",
       "                             T2M_min_fall_X_weather_station_lat.Z036E0057.PHZ51_AD  \\\n",
       "Env       Hybrid                                                                     \n",
       "DEH1_2020 B14A/H95                                                   -0.056852       \n",
       "          B14A/MO17                                                  -0.087162       \n",
       "          B14A/OH43                                                  -0.083198       \n",
       "          B37/H95                                                    -0.458312       \n",
       "          B37/MO17                                                   -0.579654       \n",
       "...                                                                        ...       \n",
       "WIH3_2020 W10004_1123/PHP02                                           0.366263       \n",
       "          W10004_1140/PHP02                                           1.010079       \n",
       "          W10004_1143/PHP02                                           1.374195       \n",
       "          W10004_1146/PHP02                                           0.759525       \n",
       "          W10004_1156/PHP02                                           1.040540       \n",
       "\n",
       "                             T2M_min_fall_X_weather_station_lat.Z037E0012.DK3IIH6_AD  \\\n",
       "Env       Hybrid                                                                       \n",
       "DEH1_2020 B14A/H95                                                   -0.012840         \n",
       "          B14A/MO17                                                  -0.181258         \n",
       "          B14A/OH43                                                  -0.055298         \n",
       "          B37/H95                                                    -0.373698         \n",
       "          B37/MO17                                                   -0.854099         \n",
       "...                                                                        ...         \n",
       "WIH3_2020 W10004_1123/PHP02                                          -0.992506         \n",
       "          W10004_1140/PHP02                                          -1.456254         \n",
       "          W10004_1143/PHP02                                          -0.667735         \n",
       "          W10004_1146/PHP02                                          -2.000797         \n",
       "          W10004_1156/PHP02                                          -1.447294         \n",
       "\n",
       "                             T2M_min_fall_X_weather_station_lat.Z037E0012.LH162_AD  \\\n",
       "Env       Hybrid                                                                     \n",
       "DEH1_2020 B14A/H95                                                    0.027901       \n",
       "          B14A/MO17                                                   1.042638       \n",
       "          B14A/OH43                                                   0.010978       \n",
       "          B37/H95                                                    -0.174871       \n",
       "          B37/MO17                                                    0.012887       \n",
       "...                                                                        ...       \n",
       "WIH3_2020 W10004_1123/PHP02                                           0.057432       \n",
       "          W10004_1140/PHP02                                           0.158075       \n",
       "          W10004_1143/PHP02                                           0.212434       \n",
       "          W10004_1146/PHP02                                           0.034718       \n",
       "          W10004_1156/PHP02                                           0.251496       \n",
       "\n",
       "                             T2M_min_fall_X_weather_station_lat.Z037E0012.PHZ51_AD  \\\n",
       "Env       Hybrid                                                                     \n",
       "DEH1_2020 B14A/H95                                                   -0.061047       \n",
       "          B14A/MO17                                                  -0.122442       \n",
       "          B14A/OH43                                                  -0.110858       \n",
       "          B37/H95                                                    -0.497429       \n",
       "          B37/MO17                                                   -0.704666       \n",
       "...                                                                        ...       \n",
       "WIH3_2020 W10004_1123/PHP02                                           0.229871       \n",
       "          W10004_1140/PHP02                                           1.008372       \n",
       "          W10004_1143/PHP02                                           1.397062       \n",
       "          W10004_1146/PHP02                                           0.843107       \n",
       "          W10004_1156/PHP02                                           1.112078       \n",
       "\n",
       "                             T2M_min_fall_X_weather_station_lat.Z037E0054.DK3IIH6_AD  \\\n",
       "Env       Hybrid                                                                       \n",
       "DEH1_2020 B14A/H95                                                   -0.007260         \n",
       "          B14A/MO17                                                  -0.152442         \n",
       "          B14A/OH43                                                  -0.035645         \n",
       "          B37/H95                                                    -0.374008         \n",
       "          B37/MO17                                                   -0.810146         \n",
       "...                                                                        ...         \n",
       "WIH3_2020 W10004_1123/PHP02                                          -0.853912         \n",
       "          W10004_1140/PHP02                                          -1.478332         \n",
       "          W10004_1143/PHP02                                          -0.726365         \n",
       "          W10004_1146/PHP02                                          -1.873605         \n",
       "          W10004_1156/PHP02                                          -1.392501         \n",
       "\n",
       "                             T2M_min_fall_X_weather_station_lat.Z037E0054.LH162_AD  \\\n",
       "Env       Hybrid                                                                     \n",
       "DEH1_2020 B14A/H95                                                    0.036093       \n",
       "          B14A/MO17                                                   1.112863       \n",
       "          B14A/OH43                                                   0.018018       \n",
       "          B37/H95                                                    -0.167360       \n",
       "          B37/MO17                                                    0.000996       \n",
       "...                                                                        ...       \n",
       "WIH3_2020 W10004_1123/PHP02                                           0.037195       \n",
       "          W10004_1140/PHP02                                           0.134708       \n",
       "          W10004_1143/PHP02                                           0.231780       \n",
       "          W10004_1146/PHP02                                           0.035531       \n",
       "          W10004_1156/PHP02                                           0.232673       \n",
       "\n",
       "                             T2M_min_fall_X_weather_station_lat.Z037E0054.PHZ51_AD  \\\n",
       "Env       Hybrid                                                                     \n",
       "DEH1_2020 B14A/H95                                                   -0.054197       \n",
       "          B14A/MO17                                                  -0.092045       \n",
       "          B14A/OH43                                                  -0.084533       \n",
       "          B37/H95                                                    -0.450957       \n",
       "          B37/MO17                                                   -0.656429       \n",
       "...                                                                        ...       \n",
       "WIH3_2020 W10004_1123/PHP02                                           0.271941       \n",
       "          W10004_1140/PHP02                                           0.984586       \n",
       "          W10004_1143/PHP02                                           1.363912       \n",
       "          W10004_1146/PHP02                                           0.848211       \n",
       "          W10004_1156/PHP02                                           1.131388       \n",
       "\n",
       "                             T2M_min_fall_X_weather_station_lat.Z038E0057.DK3IIH6_AD  \\\n",
       "Env       Hybrid                                                                       \n",
       "DEH1_2020 B14A/H95                                                   -0.013225         \n",
       "          B14A/MO17                                                  -0.191809         \n",
       "          B14A/OH43                                                  -0.049725         \n",
       "          B37/H95                                                    -0.366781         \n",
       "          B37/MO17                                                   -0.903332         \n",
       "...                                                                        ...         \n",
       "WIH3_2020 W10004_1123/PHP02                                          -1.030103         \n",
       "          W10004_1140/PHP02                                          -1.526228         \n",
       "          W10004_1143/PHP02                                          -0.711945         \n",
       "          W10004_1146/PHP02                                          -2.006372         \n",
       "          W10004_1156/PHP02                                          -1.391519         \n",
       "\n",
       "                             T2M_min_fall_X_weather_station_lat.Z038E0057.LH162_AD  \\\n",
       "Env       Hybrid                                                                     \n",
       "DEH1_2020 B14A/H95                                                    0.025757       \n",
       "          B14A/MO17                                                   1.036754       \n",
       "          B14A/OH43                                                   0.013993       \n",
       "          B37/H95                                                    -0.158465       \n",
       "          B37/MO17                                                    0.004754       \n",
       "...                                                                        ...       \n",
       "WIH3_2020 W10004_1123/PHP02                                           0.027330       \n",
       "          W10004_1140/PHP02                                           0.156636       \n",
       "          W10004_1143/PHP02                                           0.203226       \n",
       "          W10004_1146/PHP02                                           0.024843       \n",
       "          W10004_1156/PHP02                                           0.231203       \n",
       "\n",
       "                             T2M_min_fall_X_weather_station_lat.Z038E0057.PHZ51_AD  \n",
       "Env       Hybrid                                                                    \n",
       "DEH1_2020 B14A/H95                                                   -0.063544      \n",
       "          B14A/MO17                                                  -0.148276      \n",
       "          B14A/OH43                                                  -0.095283      \n",
       "          B37/H95                                                    -0.527784      \n",
       "          B37/MO17                                                   -0.679742      \n",
       "...                                                                        ...      \n",
       "WIH3_2020 W10004_1123/PHP02                                           0.209603      \n",
       "          W10004_1140/PHP02                                           0.983774      \n",
       "          W10004_1143/PHP02                                           1.363518      \n",
       "          W10004_1146/PHP02                                           0.839436      \n",
       "          W10004_1156/PHP02                                           1.182835      \n",
       "\n",
       "[11277 rows x 1241856 columns]"
      ]
     },
     "execution_count": 4,
     "metadata": {},
     "output_type": "execute_result"
    }
   ],
   "source": [
    "%%time\n",
    "\n",
    "TRAIN_YEAR = 2020\n",
    "\n",
    "ytrain = pd.read_csv('../output/ytrain.csv').set_index(['Env', 'Hybrid'])\n",
    "\n",
    "xtrainAA = pd.read_parquet('../output/kronecker_epi_AA_train.parquet')\n",
    "xtrainAA = preprocess(xtrainAA, year=TRAIN_YEAR)\n",
    "xtrainAA.columns = [f'{x}_AA' for x in xtrainAA.columns]\n",
    "\n",
    "xtrainDD = pd.read_parquet('../output/kronecker_epi_DD_train.parquet')\n",
    "xtrainDD = preprocess(xtrainDD, year=TRAIN_YEAR)\n",
    "xtrainDD.columns = [f'{x}_DD' for x in xtrainDD.columns]\n",
    "\n",
    "xtrainAD = pd.read_parquet('../output/kronecker_epi_AD_train.parquet')\n",
    "xtrainAD = preprocess(xtrainAD, year=TRAIN_YEAR)\n",
    "xtrainAD.columns = [f'{x}_AD' for x in xtrainAD.columns]\n",
    "\n",
    "xtrain = pd.concat([xtrainAA, xtrainDD, xtrainAD], axis=1)\n",
    "xtrain = xtrain.merge(ytrain, on=['Env', 'Hybrid'], how='inner')\n",
    "ytrain = xtrain['Yield_Mg_ha']\n",
    "del xtrain['Yield_Mg_ha'], xtrainAA, xtrainDD, xtrainAD\n",
    "xtrain"
   ]
  },
  {
   "cell_type": "code",
   "execution_count": 6,
   "id": "02e7f2c3",
   "metadata": {},
   "outputs": [
    {
     "name": "stdout",
     "output_type": "stream",
     "text": [
      "CPU times: user 27min 11s, sys: 10min 24s, total: 37min 36s\n",
      "Wall time: 37min 47s\n"
     ]
    },
    {
     "data": {
      "text/html": [
       "<div>\n",
       "<style scoped>\n",
       "    .dataframe tbody tr th:only-of-type {\n",
       "        vertical-align: middle;\n",
       "    }\n",
       "\n",
       "    .dataframe tbody tr th {\n",
       "        vertical-align: top;\n",
       "    }\n",
       "\n",
       "    .dataframe thead th {\n",
       "        text-align: right;\n",
       "    }\n",
       "</style>\n",
       "<table border=\"1\" class=\"dataframe\">\n",
       "  <thead>\n",
       "    <tr style=\"text-align: right;\">\n",
       "      <th></th>\n",
       "      <th></th>\n",
       "      <th>weather_station_lat.2369.DK3IIH6_AA</th>\n",
       "      <th>weather_station_lat.2369.PHN82_AA</th>\n",
       "      <th>weather_station_lat.2369.PHZ51_AA</th>\n",
       "      <th>weather_station_lat.2FACC.DK3IIH6_AA</th>\n",
       "      <th>weather_station_lat.4N506.DK3IIH6_AA</th>\n",
       "      <th>weather_station_lat.6F629.DK3IIH6_AA</th>\n",
       "      <th>weather_station_lat.740.PB80_AA</th>\n",
       "      <th>weather_station_lat.740.PHB47_AA</th>\n",
       "      <th>weather_station_lat.A632.DK3IIH6_AA</th>\n",
       "      <th>weather_station_lat.A634.DK3IIH6_AA</th>\n",
       "      <th>...</th>\n",
       "      <th>T2M_min_fall_X_weather_station_lat.Z036E0057.PHZ51_AD</th>\n",
       "      <th>T2M_min_fall_X_weather_station_lat.Z037E0012.DK3IIH6_AD</th>\n",
       "      <th>T2M_min_fall_X_weather_station_lat.Z037E0012.LH162_AD</th>\n",
       "      <th>T2M_min_fall_X_weather_station_lat.Z037E0012.PHZ51_AD</th>\n",
       "      <th>T2M_min_fall_X_weather_station_lat.Z037E0054.DK3IIH6_AD</th>\n",
       "      <th>T2M_min_fall_X_weather_station_lat.Z037E0054.LH162_AD</th>\n",
       "      <th>T2M_min_fall_X_weather_station_lat.Z037E0054.PHZ51_AD</th>\n",
       "      <th>T2M_min_fall_X_weather_station_lat.Z038E0057.DK3IIH6_AD</th>\n",
       "      <th>T2M_min_fall_X_weather_station_lat.Z038E0057.LH162_AD</th>\n",
       "      <th>T2M_min_fall_X_weather_station_lat.Z038E0057.PHZ51_AD</th>\n",
       "    </tr>\n",
       "    <tr>\n",
       "      <th>Env</th>\n",
       "      <th>Hybrid</th>\n",
       "      <th></th>\n",
       "      <th></th>\n",
       "      <th></th>\n",
       "      <th></th>\n",
       "      <th></th>\n",
       "      <th></th>\n",
       "      <th></th>\n",
       "      <th></th>\n",
       "      <th></th>\n",
       "      <th></th>\n",
       "      <th></th>\n",
       "      <th></th>\n",
       "      <th></th>\n",
       "      <th></th>\n",
       "      <th></th>\n",
       "      <th></th>\n",
       "      <th></th>\n",
       "      <th></th>\n",
       "      <th></th>\n",
       "      <th></th>\n",
       "      <th></th>\n",
       "    </tr>\n",
       "  </thead>\n",
       "  <tbody>\n",
       "    <tr>\n",
       "      <th rowspan=\"5\" valign=\"top\">COH1_2021</th>\n",
       "      <th>B73/MO17</th>\n",
       "      <td>0.252495</td>\n",
       "      <td>0.278704</td>\n",
       "      <td>0.533002</td>\n",
       "      <td>0.958542</td>\n",
       "      <td>0.083391</td>\n",
       "      <td>0.256911</td>\n",
       "      <td>12.316611</td>\n",
       "      <td>2.561842</td>\n",
       "      <td>0.715101</td>\n",
       "      <td>0.599683</td>\n",
       "      <td>...</td>\n",
       "      <td>-0.891821</td>\n",
       "      <td>-0.471741</td>\n",
       "      <td>-5.059439</td>\n",
       "      <td>-1.033042</td>\n",
       "      <td>-0.454444</td>\n",
       "      <td>-5.031633</td>\n",
       "      <td>-0.963231</td>\n",
       "      <td>-0.448855</td>\n",
       "      <td>-5.089406</td>\n",
       "      <td>-1.040912</td>\n",
       "    </tr>\n",
       "    <tr>\n",
       "      <th>B73/PHK76</th>\n",
       "      <td>0.291832</td>\n",
       "      <td>0.239510</td>\n",
       "      <td>0.304454</td>\n",
       "      <td>1.199823</td>\n",
       "      <td>0.057438</td>\n",
       "      <td>0.359275</td>\n",
       "      <td>1.375896</td>\n",
       "      <td>0.459612</td>\n",
       "      <td>0.581637</td>\n",
       "      <td>0.598522</td>\n",
       "      <td>...</td>\n",
       "      <td>-0.495794</td>\n",
       "      <td>-0.468970</td>\n",
       "      <td>-0.964082</td>\n",
       "      <td>-0.614607</td>\n",
       "      <td>-0.451116</td>\n",
       "      <td>-0.919016</td>\n",
       "      <td>-0.578674</td>\n",
       "      <td>-0.494598</td>\n",
       "      <td>-0.959331</td>\n",
       "      <td>-0.590964</td>\n",
       "    </tr>\n",
       "    <tr>\n",
       "      <th>B73/PHN82</th>\n",
       "      <td>2.338221</td>\n",
       "      <td>14.883543</td>\n",
       "      <td>0.321027</td>\n",
       "      <td>0.081711</td>\n",
       "      <td>1.416981</td>\n",
       "      <td>0.176954</td>\n",
       "      <td>0.506994</td>\n",
       "      <td>1.665341</td>\n",
       "      <td>0.001962</td>\n",
       "      <td>0.008761</td>\n",
       "      <td>...</td>\n",
       "      <td>-0.591110</td>\n",
       "      <td>-4.220363</td>\n",
       "      <td>-0.273203</td>\n",
       "      <td>-0.706052</td>\n",
       "      <td>-4.148732</td>\n",
       "      <td>-0.271016</td>\n",
       "      <td>-0.664868</td>\n",
       "      <td>-4.129672</td>\n",
       "      <td>-0.259827</td>\n",
       "      <td>-0.680403</td>\n",
       "    </tr>\n",
       "    <tr>\n",
       "      <th>B73/PHZ51</th>\n",
       "      <td>0.058118</td>\n",
       "      <td>0.332801</td>\n",
       "      <td>13.312903</td>\n",
       "      <td>1.266515</td>\n",
       "      <td>0.007532</td>\n",
       "      <td>0.732795</td>\n",
       "      <td>0.807667</td>\n",
       "      <td>1.033614</td>\n",
       "      <td>1.248079</td>\n",
       "      <td>1.171024</td>\n",
       "      <td>...</td>\n",
       "      <td>-22.810081</td>\n",
       "      <td>-0.124176</td>\n",
       "      <td>-0.704165</td>\n",
       "      <td>-25.030812</td>\n",
       "      <td>-0.120616</td>\n",
       "      <td>-0.664326</td>\n",
       "      <td>-24.398452</td>\n",
       "      <td>-0.124977</td>\n",
       "      <td>-0.700570</td>\n",
       "      <td>-24.924048</td>\n",
       "    </tr>\n",
       "    <tr>\n",
       "      <th>LH145/LH82</th>\n",
       "      <td>0.083840</td>\n",
       "      <td>0.221056</td>\n",
       "      <td>0.874143</td>\n",
       "      <td>0.169983</td>\n",
       "      <td>0.027293</td>\n",
       "      <td>0.141744</td>\n",
       "      <td>0.125057</td>\n",
       "      <td>0.084091</td>\n",
       "      <td>5.346422</td>\n",
       "      <td>3.444183</td>\n",
       "      <td>...</td>\n",
       "      <td>0.208354</td>\n",
       "      <td>0.073833</td>\n",
       "      <td>0.002678</td>\n",
       "      <td>0.217638</td>\n",
       "      <td>0.075985</td>\n",
       "      <td>-0.000681</td>\n",
       "      <td>0.231120</td>\n",
       "      <td>0.084645</td>\n",
       "      <td>0.003902</td>\n",
       "      <td>0.206711</td>\n",
       "    </tr>\n",
       "    <tr>\n",
       "      <th>...</th>\n",
       "      <th>...</th>\n",
       "      <td>...</td>\n",
       "      <td>...</td>\n",
       "      <td>...</td>\n",
       "      <td>...</td>\n",
       "      <td>...</td>\n",
       "      <td>...</td>\n",
       "      <td>...</td>\n",
       "      <td>...</td>\n",
       "      <td>...</td>\n",
       "      <td>...</td>\n",
       "      <td>...</td>\n",
       "      <td>...</td>\n",
       "      <td>...</td>\n",
       "      <td>...</td>\n",
       "      <td>...</td>\n",
       "      <td>...</td>\n",
       "      <td>...</td>\n",
       "      <td>...</td>\n",
       "      <td>...</td>\n",
       "      <td>...</td>\n",
       "      <td>...</td>\n",
       "    </tr>\n",
       "    <tr>\n",
       "      <th rowspan=\"5\" valign=\"top\">WIH3_2021</th>\n",
       "      <th>W10004_1123/PHP02</th>\n",
       "      <td>1.152961</td>\n",
       "      <td>2.306053</td>\n",
       "      <td>0.852553</td>\n",
       "      <td>3.195444</td>\n",
       "      <td>1.348529</td>\n",
       "      <td>1.537112</td>\n",
       "      <td>0.463827</td>\n",
       "      <td>0.378679</td>\n",
       "      <td>4.151398</td>\n",
       "      <td>3.538142</td>\n",
       "      <td>...</td>\n",
       "      <td>0.513786</td>\n",
       "      <td>-1.392265</td>\n",
       "      <td>0.080565</td>\n",
       "      <td>0.322458</td>\n",
       "      <td>-1.197849</td>\n",
       "      <td>0.052177</td>\n",
       "      <td>0.381473</td>\n",
       "      <td>-1.445006</td>\n",
       "      <td>0.038338</td>\n",
       "      <td>0.294026</td>\n",
       "    </tr>\n",
       "    <tr>\n",
       "      <th>W10004_1140/PHP02</th>\n",
       "      <td>0.868290</td>\n",
       "      <td>1.812642</td>\n",
       "      <td>0.646537</td>\n",
       "      <td>1.756443</td>\n",
       "      <td>1.183893</td>\n",
       "      <td>1.080632</td>\n",
       "      <td>0.117024</td>\n",
       "      <td>0.135593</td>\n",
       "      <td>1.550718</td>\n",
       "      <td>1.273550</td>\n",
       "      <td>...</td>\n",
       "      <td>1.416916</td>\n",
       "      <td>-2.042801</td>\n",
       "      <td>0.221744</td>\n",
       "      <td>1.414522</td>\n",
       "      <td>-2.073771</td>\n",
       "      <td>0.188965</td>\n",
       "      <td>1.381155</td>\n",
       "      <td>-2.140958</td>\n",
       "      <td>0.219726</td>\n",
       "      <td>1.380015</td>\n",
       "    </tr>\n",
       "    <tr>\n",
       "      <th>W10004_1143/PHP02</th>\n",
       "      <td>0.354637</td>\n",
       "      <td>0.942718</td>\n",
       "      <td>1.325811</td>\n",
       "      <td>1.915482</td>\n",
       "      <td>0.612853</td>\n",
       "      <td>1.241576</td>\n",
       "      <td>0.333806</td>\n",
       "      <td>0.007922</td>\n",
       "      <td>1.632105</td>\n",
       "      <td>1.469468</td>\n",
       "      <td>...</td>\n",
       "      <td>1.927690</td>\n",
       "      <td>-0.936683</td>\n",
       "      <td>0.297997</td>\n",
       "      <td>1.959768</td>\n",
       "      <td>-1.018928</td>\n",
       "      <td>0.325136</td>\n",
       "      <td>1.913266</td>\n",
       "      <td>-0.998701</td>\n",
       "      <td>0.285081</td>\n",
       "      <td>1.912712</td>\n",
       "    </tr>\n",
       "    <tr>\n",
       "      <th>W10004_1146/PHP02</th>\n",
       "      <td>0.956150</td>\n",
       "      <td>1.748118</td>\n",
       "      <td>0.680707</td>\n",
       "      <td>2.154864</td>\n",
       "      <td>1.643895</td>\n",
       "      <td>1.264101</td>\n",
       "      <td>0.260599</td>\n",
       "      <td>0.393745</td>\n",
       "      <td>3.018605</td>\n",
       "      <td>2.473000</td>\n",
       "      <td>...</td>\n",
       "      <td>1.065444</td>\n",
       "      <td>-2.806673</td>\n",
       "      <td>0.048702</td>\n",
       "      <td>1.182691</td>\n",
       "      <td>-2.628250</td>\n",
       "      <td>0.049841</td>\n",
       "      <td>1.189851</td>\n",
       "      <td>-2.814493</td>\n",
       "      <td>0.034849</td>\n",
       "      <td>1.177542</td>\n",
       "    </tr>\n",
       "    <tr>\n",
       "      <th>W10004_1156/PHP02</th>\n",
       "      <td>1.157501</td>\n",
       "      <td>2.466025</td>\n",
       "      <td>0.614239</td>\n",
       "      <td>2.358873</td>\n",
       "      <td>1.232127</td>\n",
       "      <td>1.331948</td>\n",
       "      <td>0.246906</td>\n",
       "      <td>0.383193</td>\n",
       "      <td>2.278151</td>\n",
       "      <td>2.139727</td>\n",
       "      <td>...</td>\n",
       "      <td>1.459646</td>\n",
       "      <td>-2.030232</td>\n",
       "      <td>0.352793</td>\n",
       "      <td>1.559998</td>\n",
       "      <td>-1.953369</td>\n",
       "      <td>0.326389</td>\n",
       "      <td>1.587086</td>\n",
       "      <td>-1.951992</td>\n",
       "      <td>0.324326</td>\n",
       "      <td>1.659255</td>\n",
       "    </tr>\n",
       "  </tbody>\n",
       "</table>\n",
       "<p>13596 rows × 1241856 columns</p>\n",
       "</div>"
      ],
      "text/plain": [
       "                             weather_station_lat.2369.DK3IIH6_AA  \\\n",
       "Env       Hybrid                                                   \n",
       "COH1_2021 B73/MO17                                      0.252495   \n",
       "          B73/PHK76                                     0.291832   \n",
       "          B73/PHN82                                     2.338221   \n",
       "          B73/PHZ51                                     0.058118   \n",
       "          LH145/LH82                                    0.083840   \n",
       "...                                                          ...   \n",
       "WIH3_2021 W10004_1123/PHP02                             1.152961   \n",
       "          W10004_1140/PHP02                             0.868290   \n",
       "          W10004_1143/PHP02                             0.354637   \n",
       "          W10004_1146/PHP02                             0.956150   \n",
       "          W10004_1156/PHP02                             1.157501   \n",
       "\n",
       "                             weather_station_lat.2369.PHN82_AA  \\\n",
       "Env       Hybrid                                                 \n",
       "COH1_2021 B73/MO17                                    0.278704   \n",
       "          B73/PHK76                                   0.239510   \n",
       "          B73/PHN82                                  14.883543   \n",
       "          B73/PHZ51                                   0.332801   \n",
       "          LH145/LH82                                  0.221056   \n",
       "...                                                        ...   \n",
       "WIH3_2021 W10004_1123/PHP02                           2.306053   \n",
       "          W10004_1140/PHP02                           1.812642   \n",
       "          W10004_1143/PHP02                           0.942718   \n",
       "          W10004_1146/PHP02                           1.748118   \n",
       "          W10004_1156/PHP02                           2.466025   \n",
       "\n",
       "                             weather_station_lat.2369.PHZ51_AA  \\\n",
       "Env       Hybrid                                                 \n",
       "COH1_2021 B73/MO17                                    0.533002   \n",
       "          B73/PHK76                                   0.304454   \n",
       "          B73/PHN82                                   0.321027   \n",
       "          B73/PHZ51                                  13.312903   \n",
       "          LH145/LH82                                  0.874143   \n",
       "...                                                        ...   \n",
       "WIH3_2021 W10004_1123/PHP02                           0.852553   \n",
       "          W10004_1140/PHP02                           0.646537   \n",
       "          W10004_1143/PHP02                           1.325811   \n",
       "          W10004_1146/PHP02                           0.680707   \n",
       "          W10004_1156/PHP02                           0.614239   \n",
       "\n",
       "                             weather_station_lat.2FACC.DK3IIH6_AA  \\\n",
       "Env       Hybrid                                                    \n",
       "COH1_2021 B73/MO17                                       0.958542   \n",
       "          B73/PHK76                                      1.199823   \n",
       "          B73/PHN82                                      0.081711   \n",
       "          B73/PHZ51                                      1.266515   \n",
       "          LH145/LH82                                     0.169983   \n",
       "...                                                           ...   \n",
       "WIH3_2021 W10004_1123/PHP02                              3.195444   \n",
       "          W10004_1140/PHP02                              1.756443   \n",
       "          W10004_1143/PHP02                              1.915482   \n",
       "          W10004_1146/PHP02                              2.154864   \n",
       "          W10004_1156/PHP02                              2.358873   \n",
       "\n",
       "                             weather_station_lat.4N506.DK3IIH6_AA  \\\n",
       "Env       Hybrid                                                    \n",
       "COH1_2021 B73/MO17                                       0.083391   \n",
       "          B73/PHK76                                      0.057438   \n",
       "          B73/PHN82                                      1.416981   \n",
       "          B73/PHZ51                                      0.007532   \n",
       "          LH145/LH82                                     0.027293   \n",
       "...                                                           ...   \n",
       "WIH3_2021 W10004_1123/PHP02                              1.348529   \n",
       "          W10004_1140/PHP02                              1.183893   \n",
       "          W10004_1143/PHP02                              0.612853   \n",
       "          W10004_1146/PHP02                              1.643895   \n",
       "          W10004_1156/PHP02                              1.232127   \n",
       "\n",
       "                             weather_station_lat.6F629.DK3IIH6_AA  \\\n",
       "Env       Hybrid                                                    \n",
       "COH1_2021 B73/MO17                                       0.256911   \n",
       "          B73/PHK76                                      0.359275   \n",
       "          B73/PHN82                                      0.176954   \n",
       "          B73/PHZ51                                      0.732795   \n",
       "          LH145/LH82                                     0.141744   \n",
       "...                                                           ...   \n",
       "WIH3_2021 W10004_1123/PHP02                              1.537112   \n",
       "          W10004_1140/PHP02                              1.080632   \n",
       "          W10004_1143/PHP02                              1.241576   \n",
       "          W10004_1146/PHP02                              1.264101   \n",
       "          W10004_1156/PHP02                              1.331948   \n",
       "\n",
       "                             weather_station_lat.740.PB80_AA  \\\n",
       "Env       Hybrid                                               \n",
       "COH1_2021 B73/MO17                                 12.316611   \n",
       "          B73/PHK76                                 1.375896   \n",
       "          B73/PHN82                                 0.506994   \n",
       "          B73/PHZ51                                 0.807667   \n",
       "          LH145/LH82                                0.125057   \n",
       "...                                                      ...   \n",
       "WIH3_2021 W10004_1123/PHP02                         0.463827   \n",
       "          W10004_1140/PHP02                         0.117024   \n",
       "          W10004_1143/PHP02                         0.333806   \n",
       "          W10004_1146/PHP02                         0.260599   \n",
       "          W10004_1156/PHP02                         0.246906   \n",
       "\n",
       "                             weather_station_lat.740.PHB47_AA  \\\n",
       "Env       Hybrid                                                \n",
       "COH1_2021 B73/MO17                                   2.561842   \n",
       "          B73/PHK76                                  0.459612   \n",
       "          B73/PHN82                                  1.665341   \n",
       "          B73/PHZ51                                  1.033614   \n",
       "          LH145/LH82                                 0.084091   \n",
       "...                                                       ...   \n",
       "WIH3_2021 W10004_1123/PHP02                          0.378679   \n",
       "          W10004_1140/PHP02                          0.135593   \n",
       "          W10004_1143/PHP02                          0.007922   \n",
       "          W10004_1146/PHP02                          0.393745   \n",
       "          W10004_1156/PHP02                          0.383193   \n",
       "\n",
       "                             weather_station_lat.A632.DK3IIH6_AA  \\\n",
       "Env       Hybrid                                                   \n",
       "COH1_2021 B73/MO17                                      0.715101   \n",
       "          B73/PHK76                                     0.581637   \n",
       "          B73/PHN82                                     0.001962   \n",
       "          B73/PHZ51                                     1.248079   \n",
       "          LH145/LH82                                    5.346422   \n",
       "...                                                          ...   \n",
       "WIH3_2021 W10004_1123/PHP02                             4.151398   \n",
       "          W10004_1140/PHP02                             1.550718   \n",
       "          W10004_1143/PHP02                             1.632105   \n",
       "          W10004_1146/PHP02                             3.018605   \n",
       "          W10004_1156/PHP02                             2.278151   \n",
       "\n",
       "                             weather_station_lat.A634.DK3IIH6_AA  ...  \\\n",
       "Env       Hybrid                                                  ...   \n",
       "COH1_2021 B73/MO17                                      0.599683  ...   \n",
       "          B73/PHK76                                     0.598522  ...   \n",
       "          B73/PHN82                                     0.008761  ...   \n",
       "          B73/PHZ51                                     1.171024  ...   \n",
       "          LH145/LH82                                    3.444183  ...   \n",
       "...                                                          ...  ...   \n",
       "WIH3_2021 W10004_1123/PHP02                             3.538142  ...   \n",
       "          W10004_1140/PHP02                             1.273550  ...   \n",
       "          W10004_1143/PHP02                             1.469468  ...   \n",
       "          W10004_1146/PHP02                             2.473000  ...   \n",
       "          W10004_1156/PHP02                             2.139727  ...   \n",
       "\n",
       "                             T2M_min_fall_X_weather_station_lat.Z036E0057.PHZ51_AD  \\\n",
       "Env       Hybrid                                                                     \n",
       "COH1_2021 B73/MO17                                                   -0.891821       \n",
       "          B73/PHK76                                                  -0.495794       \n",
       "          B73/PHN82                                                  -0.591110       \n",
       "          B73/PHZ51                                                 -22.810081       \n",
       "          LH145/LH82                                                  0.208354       \n",
       "...                                                                        ...       \n",
       "WIH3_2021 W10004_1123/PHP02                                           0.513786       \n",
       "          W10004_1140/PHP02                                           1.416916       \n",
       "          W10004_1143/PHP02                                           1.927690       \n",
       "          W10004_1146/PHP02                                           1.065444       \n",
       "          W10004_1156/PHP02                                           1.459646       \n",
       "\n",
       "                             T2M_min_fall_X_weather_station_lat.Z037E0012.DK3IIH6_AD  \\\n",
       "Env       Hybrid                                                                       \n",
       "COH1_2021 B73/MO17                                                   -0.471741         \n",
       "          B73/PHK76                                                  -0.468970         \n",
       "          B73/PHN82                                                  -4.220363         \n",
       "          B73/PHZ51                                                  -0.124176         \n",
       "          LH145/LH82                                                  0.073833         \n",
       "...                                                                        ...         \n",
       "WIH3_2021 W10004_1123/PHP02                                          -1.392265         \n",
       "          W10004_1140/PHP02                                          -2.042801         \n",
       "          W10004_1143/PHP02                                          -0.936683         \n",
       "          W10004_1146/PHP02                                          -2.806673         \n",
       "          W10004_1156/PHP02                                          -2.030232         \n",
       "\n",
       "                             T2M_min_fall_X_weather_station_lat.Z037E0012.LH162_AD  \\\n",
       "Env       Hybrid                                                                     \n",
       "COH1_2021 B73/MO17                                                   -5.059439       \n",
       "          B73/PHK76                                                  -0.964082       \n",
       "          B73/PHN82                                                  -0.273203       \n",
       "          B73/PHZ51                                                  -0.704165       \n",
       "          LH145/LH82                                                  0.002678       \n",
       "...                                                                        ...       \n",
       "WIH3_2021 W10004_1123/PHP02                                           0.080565       \n",
       "          W10004_1140/PHP02                                           0.221744       \n",
       "          W10004_1143/PHP02                                           0.297997       \n",
       "          W10004_1146/PHP02                                           0.048702       \n",
       "          W10004_1156/PHP02                                           0.352793       \n",
       "\n",
       "                             T2M_min_fall_X_weather_station_lat.Z037E0012.PHZ51_AD  \\\n",
       "Env       Hybrid                                                                     \n",
       "COH1_2021 B73/MO17                                                   -1.033042       \n",
       "          B73/PHK76                                                  -0.614607       \n",
       "          B73/PHN82                                                  -0.706052       \n",
       "          B73/PHZ51                                                 -25.030812       \n",
       "          LH145/LH82                                                  0.217638       \n",
       "...                                                                        ...       \n",
       "WIH3_2021 W10004_1123/PHP02                                           0.322458       \n",
       "          W10004_1140/PHP02                                           1.414522       \n",
       "          W10004_1143/PHP02                                           1.959768       \n",
       "          W10004_1146/PHP02                                           1.182691       \n",
       "          W10004_1156/PHP02                                           1.559998       \n",
       "\n",
       "                             T2M_min_fall_X_weather_station_lat.Z037E0054.DK3IIH6_AD  \\\n",
       "Env       Hybrid                                                                       \n",
       "COH1_2021 B73/MO17                                                   -0.454444         \n",
       "          B73/PHK76                                                  -0.451116         \n",
       "          B73/PHN82                                                  -4.148732         \n",
       "          B73/PHZ51                                                  -0.120616         \n",
       "          LH145/LH82                                                  0.075985         \n",
       "...                                                                        ...         \n",
       "WIH3_2021 W10004_1123/PHP02                                          -1.197849         \n",
       "          W10004_1140/PHP02                                          -2.073771         \n",
       "          W10004_1143/PHP02                                          -1.018928         \n",
       "          W10004_1146/PHP02                                          -2.628250         \n",
       "          W10004_1156/PHP02                                          -1.953369         \n",
       "\n",
       "                             T2M_min_fall_X_weather_station_lat.Z037E0054.LH162_AD  \\\n",
       "Env       Hybrid                                                                     \n",
       "COH1_2021 B73/MO17                                                   -5.031633       \n",
       "          B73/PHK76                                                  -0.919016       \n",
       "          B73/PHN82                                                  -0.271016       \n",
       "          B73/PHZ51                                                  -0.664326       \n",
       "          LH145/LH82                                                 -0.000681       \n",
       "...                                                                        ...       \n",
       "WIH3_2021 W10004_1123/PHP02                                           0.052177       \n",
       "          W10004_1140/PHP02                                           0.188965       \n",
       "          W10004_1143/PHP02                                           0.325136       \n",
       "          W10004_1146/PHP02                                           0.049841       \n",
       "          W10004_1156/PHP02                                           0.326389       \n",
       "\n",
       "                             T2M_min_fall_X_weather_station_lat.Z037E0054.PHZ51_AD  \\\n",
       "Env       Hybrid                                                                     \n",
       "COH1_2021 B73/MO17                                                   -0.963231       \n",
       "          B73/PHK76                                                  -0.578674       \n",
       "          B73/PHN82                                                  -0.664868       \n",
       "          B73/PHZ51                                                 -24.398452       \n",
       "          LH145/LH82                                                  0.231120       \n",
       "...                                                                        ...       \n",
       "WIH3_2021 W10004_1123/PHP02                                           0.381473       \n",
       "          W10004_1140/PHP02                                           1.381155       \n",
       "          W10004_1143/PHP02                                           1.913266       \n",
       "          W10004_1146/PHP02                                           1.189851       \n",
       "          W10004_1156/PHP02                                           1.587086       \n",
       "\n",
       "                             T2M_min_fall_X_weather_station_lat.Z038E0057.DK3IIH6_AD  \\\n",
       "Env       Hybrid                                                                       \n",
       "COH1_2021 B73/MO17                                                   -0.448855         \n",
       "          B73/PHK76                                                  -0.494598         \n",
       "          B73/PHN82                                                  -4.129672         \n",
       "          B73/PHZ51                                                  -0.124977         \n",
       "          LH145/LH82                                                  0.084645         \n",
       "...                                                                        ...         \n",
       "WIH3_2021 W10004_1123/PHP02                                          -1.445006         \n",
       "          W10004_1140/PHP02                                          -2.140958         \n",
       "          W10004_1143/PHP02                                          -0.998701         \n",
       "          W10004_1146/PHP02                                          -2.814493         \n",
       "          W10004_1156/PHP02                                          -1.951992         \n",
       "\n",
       "                             T2M_min_fall_X_weather_station_lat.Z038E0057.LH162_AD  \\\n",
       "Env       Hybrid                                                                     \n",
       "COH1_2021 B73/MO17                                                   -5.089406       \n",
       "          B73/PHK76                                                  -0.959331       \n",
       "          B73/PHN82                                                  -0.259827       \n",
       "          B73/PHZ51                                                  -0.700570       \n",
       "          LH145/LH82                                                  0.003902       \n",
       "...                                                                        ...       \n",
       "WIH3_2021 W10004_1123/PHP02                                           0.038338       \n",
       "          W10004_1140/PHP02                                           0.219726       \n",
       "          W10004_1143/PHP02                                           0.285081       \n",
       "          W10004_1146/PHP02                                           0.034849       \n",
       "          W10004_1156/PHP02                                           0.324326       \n",
       "\n",
       "                             T2M_min_fall_X_weather_station_lat.Z038E0057.PHZ51_AD  \n",
       "Env       Hybrid                                                                    \n",
       "COH1_2021 B73/MO17                                                   -1.040912      \n",
       "          B73/PHK76                                                  -0.590964      \n",
       "          B73/PHN82                                                  -0.680403      \n",
       "          B73/PHZ51                                                 -24.924048      \n",
       "          LH145/LH82                                                  0.206711      \n",
       "...                                                                        ...      \n",
       "WIH3_2021 W10004_1123/PHP02                                           0.294026      \n",
       "          W10004_1140/PHP02                                           1.380015      \n",
       "          W10004_1143/PHP02                                           1.912712      \n",
       "          W10004_1146/PHP02                                           1.177542      \n",
       "          W10004_1156/PHP02                                           1.659255      \n",
       "\n",
       "[13596 rows x 1241856 columns]"
      ]
     },
     "execution_count": 6,
     "metadata": {},
     "output_type": "execute_result"
    }
   ],
   "source": [
    "%%time\n",
    "\n",
    "VAL_YEAR = 2021\n",
    "\n",
    "yval = pd.read_csv('../output/yval.csv').set_index(['Env', 'Hybrid'])\n",
    "\n",
    "xvalAA = pd.read_parquet('../output/kronecker_epi_AA_val.parquet')\n",
    "xvalAA = preprocess(xvalAA, year=VAL_YEAR)\n",
    "xvalAA.columns = [f'{x}_AA' for x in xvalAA.columns]\n",
    "\n",
    "xvalDD = pd.read_parquet('../output/kronecker_epi_DD_val.parquet')\n",
    "xvalDD = preprocess(xvalDD, year=VAL_YEAR)\n",
    "xvalDD.columns = [f'{x}_DD' for x in xvalDD.columns]\n",
    "\n",
    "xvalAD = pd.read_parquet('../output/kronecker_epi_AD_val.parquet')\n",
    "xvalAD = preprocess(xvalAD, year=VAL_YEAR)\n",
    "xvalAD.columns = [f'{x}_AD' for x in xvalAD.columns]\n",
    "\n",
    "xval = pd.concat([xvalAA, xvalDD, xvalAD], axis=1)\n",
    "xval = xval.merge(yval, on=['Env', 'Hybrid'], how='inner')\n",
    "yval = xval['Yield_Mg_ha']\n",
    "del xval['Yield_Mg_ha'], xvalAA, xvalDD, xvalAD\n",
    "xval"
   ]
  },
  {
   "cell_type": "markdown",
   "id": "e674f3cb",
   "metadata": {},
   "source": [
    "### Training"
   ]
  },
  {
   "cell_type": "code",
   "execution_count": 7,
   "id": "87ce3bbc",
   "metadata": {},
   "outputs": [],
   "source": [
    "# %%time\n",
    "\n",
    "# NCOLS = xtrain.shape[1]\n",
    "# print('features:', NCOLS)\n",
    "\n",
    "# best_params = {'feature_fraction': 0.4953070809776986, 'num_leaves': 247, \n",
    "#                'bagging_fraction': 0.9866458243098336, 'lambda_l1': 3.680660098838679, \n",
    "#                'lambda_l2': 1.1632141265265e-06, 'n_estimators': 232, 'max_depth': 3}\n",
    "# model = lgbm.LGBMRegressor(random_state=42, **best_params)\n",
    "# model.fit(xtrain.iloc[:, :NCOLS], ytrain)\n",
    "\n",
    "# # predict\n",
    "# ypred = model.predict(xval.iloc[:, :NCOLS])\n",
    "\n",
    "# # validate\n",
    "# df_eval = pd.DataFrame()\n",
    "# df_eval['Env'] = xval.index.get_level_values(0)\n",
    "# df_eval['ytrue'] = list(yval)\n",
    "# df_eval['ypred'] = ypred\n",
    "# rmse_per_group = df_eval.groupby('Env').apply(lambda x: mean_squared_error(x['ytrue'], x['ypred'], squared=False))\n",
    "# print(rmse_per_group)\n",
    "\n",
    "# rmse = sum(rmse_per_group) / len(rmse_per_group)\n",
    "# print('RMSE:', rmse)"
   ]
  },
  {
   "cell_type": "code",
   "execution_count": 8,
   "id": "b8f8cde0",
   "metadata": {},
   "outputs": [],
   "source": [
    "# print(r2_score(df_eval['ytrue'], df_eval['ypred']))\n",
    "# df_eval.plot.scatter('ytrue', 'ypred', figsize=(6, 6));"
   ]
  },
  {
   "cell_type": "code",
   "execution_count": 9,
   "id": "722fc063",
   "metadata": {},
   "outputs": [],
   "source": [
    "from sklearn.decomposition import TruncatedSVD"
   ]
  },
  {
   "cell_type": "code",
   "execution_count": 10,
   "id": "bec224ef",
   "metadata": {},
   "outputs": [
    {
     "name": "stdout",
     "output_type": "stream",
     "text": [
      "0.93055311949688\n",
      "CPU times: user 16min 2s, sys: 36.2 s, total: 16min 38s\n",
      "Wall time: 16min 42s\n"
     ]
    }
   ],
   "source": [
    "%%time\n",
    "\n",
    "n_components = 100\n",
    "svd = TruncatedSVD(n_components=n_components, random_state=42)\n",
    "svd.fit(xtrain)\n",
    "print(svd.explained_variance_ratio_.sum())"
   ]
  },
  {
   "cell_type": "code",
   "execution_count": 11,
   "id": "59dece5d",
   "metadata": {},
   "outputs": [
    {
     "name": "stdout",
     "output_type": "stream",
     "text": [
      "CPU times: user 2min 57s, sys: 85.7 ms, total: 2min 58s\n",
      "Wall time: 2min 58s\n"
     ]
    }
   ],
   "source": [
    "%%time\n",
    "\n",
    "xtrain_svd = pd.DataFrame(svd.transform(xtrain), index=xtrain.index)\n",
    "xtrain_svd.columns = [f'kron_svd{i}' for i in range(n_components)]\n",
    "\n",
    "xval_svd = pd.DataFrame(svd.transform(xval), index=xval.index)\n",
    "xval_svd.columns = [f'kron_svd{i}' for i in range(n_components)]"
   ]
  },
  {
   "cell_type": "code",
   "execution_count": 13,
   "id": "1940988c",
   "metadata": {},
   "outputs": [],
   "source": [
    "xtrain_lag = pd.read_csv('../output/xtrain.csv', usecols=lambda x: 'yield_lag' in x or x in ['Env', 'Hybrid']).set_index(['Env', 'Hybrid'])\n",
    "xval_lag = pd.read_csv('../output/xval.csv', usecols=lambda x: 'yield_lag' in x or x in ['Env', 'Hybrid']).set_index(['Env', 'Hybrid'])\n",
    "xtrain_svd = xtrain_svd.merge(xtrain_lag, on=['Env', 'Hybrid'], how='inner')\n",
    "xval_svd = xval_svd.merge(xval_lag, on=['Env', 'Hybrid'], how='inner')"
   ]
  },
  {
   "cell_type": "code",
   "execution_count": 14,
   "id": "a67b89c8",
   "metadata": {},
   "outputs": [
    {
     "data": {
      "text/html": [
       "<div>\n",
       "<style scoped>\n",
       "    .dataframe tbody tr th:only-of-type {\n",
       "        vertical-align: middle;\n",
       "    }\n",
       "\n",
       "    .dataframe tbody tr th {\n",
       "        vertical-align: top;\n",
       "    }\n",
       "\n",
       "    .dataframe thead th {\n",
       "        text-align: right;\n",
       "    }\n",
       "</style>\n",
       "<table border=\"1\" class=\"dataframe\">\n",
       "  <thead>\n",
       "    <tr style=\"text-align: right;\">\n",
       "      <th></th>\n",
       "      <th></th>\n",
       "      <th>kron_svd0</th>\n",
       "      <th>kron_svd1</th>\n",
       "      <th>kron_svd2</th>\n",
       "      <th>kron_svd3</th>\n",
       "      <th>kron_svd4</th>\n",
       "      <th>kron_svd5</th>\n",
       "      <th>kron_svd6</th>\n",
       "      <th>kron_svd7</th>\n",
       "      <th>kron_svd8</th>\n",
       "      <th>kron_svd9</th>\n",
       "      <th>...</th>\n",
       "      <th>kron_svd96</th>\n",
       "      <th>kron_svd97</th>\n",
       "      <th>kron_svd98</th>\n",
       "      <th>kron_svd99</th>\n",
       "      <th>mean_yield_lag_2</th>\n",
       "      <th>min_yield_lag_2</th>\n",
       "      <th>p1_yield_lag_2</th>\n",
       "      <th>q1_yield_lag_2</th>\n",
       "      <th>q3_yield_lag_2</th>\n",
       "      <th>p90_yield_lag_2</th>\n",
       "    </tr>\n",
       "    <tr>\n",
       "      <th>Env</th>\n",
       "      <th>Hybrid</th>\n",
       "      <th></th>\n",
       "      <th></th>\n",
       "      <th></th>\n",
       "      <th></th>\n",
       "      <th></th>\n",
       "      <th></th>\n",
       "      <th></th>\n",
       "      <th></th>\n",
       "      <th></th>\n",
       "      <th></th>\n",
       "      <th></th>\n",
       "      <th></th>\n",
       "      <th></th>\n",
       "      <th></th>\n",
       "      <th></th>\n",
       "      <th></th>\n",
       "      <th></th>\n",
       "      <th></th>\n",
       "      <th></th>\n",
       "      <th></th>\n",
       "      <th></th>\n",
       "    </tr>\n",
       "  </thead>\n",
       "  <tbody>\n",
       "    <tr>\n",
       "      <th rowspan=\"5\" valign=\"top\">DEH1_2020</th>\n",
       "      <th>B14A/H95</th>\n",
       "      <td>227.142566</td>\n",
       "      <td>163.670853</td>\n",
       "      <td>-45.372508</td>\n",
       "      <td>-52.885387</td>\n",
       "      <td>3.374465</td>\n",
       "      <td>5.696767</td>\n",
       "      <td>-176.971990</td>\n",
       "      <td>1135.228922</td>\n",
       "      <td>60.861554</td>\n",
       "      <td>40.263896</td>\n",
       "      <td>...</td>\n",
       "      <td>19.679941</td>\n",
       "      <td>102.067502</td>\n",
       "      <td>-144.985567</td>\n",
       "      <td>-47.901560</td>\n",
       "      <td>10.056423</td>\n",
       "      <td>0.725594</td>\n",
       "      <td>2.516387</td>\n",
       "      <td>8.232294</td>\n",
       "      <td>11.94657</td>\n",
       "      <td>13.500556</td>\n",
       "    </tr>\n",
       "    <tr>\n",
       "      <th>B14A/MO17</th>\n",
       "      <td>613.848520</td>\n",
       "      <td>611.275792</td>\n",
       "      <td>-62.272143</td>\n",
       "      <td>-134.369798</td>\n",
       "      <td>9.083330</td>\n",
       "      <td>15.667561</td>\n",
       "      <td>-546.184009</td>\n",
       "      <td>3861.706682</td>\n",
       "      <td>216.823242</td>\n",
       "      <td>164.067465</td>\n",
       "      <td>...</td>\n",
       "      <td>-197.041893</td>\n",
       "      <td>-398.242324</td>\n",
       "      <td>93.985810</td>\n",
       "      <td>415.458234</td>\n",
       "      <td>10.056423</td>\n",
       "      <td>0.725594</td>\n",
       "      <td>2.516387</td>\n",
       "      <td>8.232294</td>\n",
       "      <td>11.94657</td>\n",
       "      <td>13.500556</td>\n",
       "    </tr>\n",
       "    <tr>\n",
       "      <th>B14A/OH43</th>\n",
       "      <td>511.075512</td>\n",
       "      <td>423.441118</td>\n",
       "      <td>-85.896880</td>\n",
       "      <td>-114.757618</td>\n",
       "      <td>6.738273</td>\n",
       "      <td>8.229132</td>\n",
       "      <td>-332.078931</td>\n",
       "      <td>1784.902558</td>\n",
       "      <td>135.860003</td>\n",
       "      <td>71.859909</td>\n",
       "      <td>...</td>\n",
       "      <td>153.010651</td>\n",
       "      <td>-169.806689</td>\n",
       "      <td>370.971938</td>\n",
       "      <td>427.789439</td>\n",
       "      <td>10.056423</td>\n",
       "      <td>0.725594</td>\n",
       "      <td>2.516387</td>\n",
       "      <td>8.232294</td>\n",
       "      <td>11.94657</td>\n",
       "      <td>13.500556</td>\n",
       "    </tr>\n",
       "    <tr>\n",
       "      <th>B37/H95</th>\n",
       "      <td>639.997919</td>\n",
       "      <td>511.227329</td>\n",
       "      <td>-247.904060</td>\n",
       "      <td>-152.590298</td>\n",
       "      <td>10.880733</td>\n",
       "      <td>20.786202</td>\n",
       "      <td>-19.989882</td>\n",
       "      <td>3398.811334</td>\n",
       "      <td>82.232218</td>\n",
       "      <td>64.537762</td>\n",
       "      <td>...</td>\n",
       "      <td>-133.771622</td>\n",
       "      <td>148.166487</td>\n",
       "      <td>-400.312318</td>\n",
       "      <td>-467.091565</td>\n",
       "      <td>10.056423</td>\n",
       "      <td>0.725594</td>\n",
       "      <td>2.516387</td>\n",
       "      <td>8.232294</td>\n",
       "      <td>11.94657</td>\n",
       "      <td>13.500556</td>\n",
       "    </tr>\n",
       "    <tr>\n",
       "      <th>B37/MO17</th>\n",
       "      <td>839.934164</td>\n",
       "      <td>940.755385</td>\n",
       "      <td>-305.229490</td>\n",
       "      <td>-178.317349</td>\n",
       "      <td>12.906960</td>\n",
       "      <td>20.737552</td>\n",
       "      <td>-665.796152</td>\n",
       "      <td>4769.797597</td>\n",
       "      <td>189.546736</td>\n",
       "      <td>116.600121</td>\n",
       "      <td>...</td>\n",
       "      <td>246.181253</td>\n",
       "      <td>225.616803</td>\n",
       "      <td>-185.574718</td>\n",
       "      <td>-609.026642</td>\n",
       "      <td>10.056423</td>\n",
       "      <td>0.725594</td>\n",
       "      <td>2.516387</td>\n",
       "      <td>8.232294</td>\n",
       "      <td>11.94657</td>\n",
       "      <td>13.500556</td>\n",
       "    </tr>\n",
       "    <tr>\n",
       "      <th>...</th>\n",
       "      <th>...</th>\n",
       "      <td>...</td>\n",
       "      <td>...</td>\n",
       "      <td>...</td>\n",
       "      <td>...</td>\n",
       "      <td>...</td>\n",
       "      <td>...</td>\n",
       "      <td>...</td>\n",
       "      <td>...</td>\n",
       "      <td>...</td>\n",
       "      <td>...</td>\n",
       "      <td>...</td>\n",
       "      <td>...</td>\n",
       "      <td>...</td>\n",
       "      <td>...</td>\n",
       "      <td>...</td>\n",
       "      <td>...</td>\n",
       "      <td>...</td>\n",
       "      <td>...</td>\n",
       "      <td>...</td>\n",
       "      <td>...</td>\n",
       "      <td>...</td>\n",
       "    </tr>\n",
       "    <tr>\n",
       "      <th rowspan=\"5\" valign=\"top\">WIH3_2020</th>\n",
       "      <th>W10004_1123/PHP02</th>\n",
       "      <td>4022.180602</td>\n",
       "      <td>14842.993978</td>\n",
       "      <td>-14885.602464</td>\n",
       "      <td>1243.647264</td>\n",
       "      <td>1425.440286</td>\n",
       "      <td>17101.578438</td>\n",
       "      <td>1.069914</td>\n",
       "      <td>320.937933</td>\n",
       "      <td>-187.528956</td>\n",
       "      <td>-64.431402</td>\n",
       "      <td>...</td>\n",
       "      <td>251.723557</td>\n",
       "      <td>287.988296</td>\n",
       "      <td>71.106365</td>\n",
       "      <td>-88.564738</td>\n",
       "      <td>9.010208</td>\n",
       "      <td>1.129919</td>\n",
       "      <td>2.885705</td>\n",
       "      <td>7.453720</td>\n",
       "      <td>10.67770</td>\n",
       "      <td>12.001967</td>\n",
       "    </tr>\n",
       "    <tr>\n",
       "      <th>W10004_1140/PHP02</th>\n",
       "      <td>3128.654340</td>\n",
       "      <td>11811.487161</td>\n",
       "      <td>-11957.994743</td>\n",
       "      <td>972.220034</td>\n",
       "      <td>1130.014227</td>\n",
       "      <td>13656.786995</td>\n",
       "      <td>-50.264884</td>\n",
       "      <td>-499.458303</td>\n",
       "      <td>-196.633819</td>\n",
       "      <td>-94.849179</td>\n",
       "      <td>...</td>\n",
       "      <td>-188.156016</td>\n",
       "      <td>50.046731</td>\n",
       "      <td>910.055602</td>\n",
       "      <td>174.281132</td>\n",
       "      <td>9.010208</td>\n",
       "      <td>1.129919</td>\n",
       "      <td>2.885705</td>\n",
       "      <td>7.453720</td>\n",
       "      <td>10.67770</td>\n",
       "      <td>12.001967</td>\n",
       "    </tr>\n",
       "    <tr>\n",
       "      <th>W10004_1143/PHP02</th>\n",
       "      <td>3279.417579</td>\n",
       "      <td>11240.958200</td>\n",
       "      <td>-11397.804853</td>\n",
       "      <td>1011.410195</td>\n",
       "      <td>1109.273430</td>\n",
       "      <td>13047.568145</td>\n",
       "      <td>-85.552059</td>\n",
       "      <td>706.027971</td>\n",
       "      <td>-155.104828</td>\n",
       "      <td>-26.692112</td>\n",
       "      <td>...</td>\n",
       "      <td>-613.212977</td>\n",
       "      <td>313.101982</td>\n",
       "      <td>444.825108</td>\n",
       "      <td>-223.630880</td>\n",
       "      <td>9.010208</td>\n",
       "      <td>1.129919</td>\n",
       "      <td>2.885705</td>\n",
       "      <td>7.453720</td>\n",
       "      <td>10.67770</td>\n",
       "      <td>12.001967</td>\n",
       "    </tr>\n",
       "    <tr>\n",
       "      <th>W10004_1146/PHP02</th>\n",
       "      <td>3229.231620</td>\n",
       "      <td>12263.632598</td>\n",
       "      <td>-12517.968076</td>\n",
       "      <td>1004.583530</td>\n",
       "      <td>1174.878345</td>\n",
       "      <td>14235.378858</td>\n",
       "      <td>-63.453673</td>\n",
       "      <td>-474.336693</td>\n",
       "      <td>-217.136314</td>\n",
       "      <td>-65.799887</td>\n",
       "      <td>...</td>\n",
       "      <td>-338.605342</td>\n",
       "      <td>220.758859</td>\n",
       "      <td>-163.849332</td>\n",
       "      <td>173.876909</td>\n",
       "      <td>9.010208</td>\n",
       "      <td>1.129919</td>\n",
       "      <td>2.885705</td>\n",
       "      <td>7.453720</td>\n",
       "      <td>10.67770</td>\n",
       "      <td>12.001967</td>\n",
       "    </tr>\n",
       "    <tr>\n",
       "      <th>W10004_1156/PHP02</th>\n",
       "      <td>3330.444140</td>\n",
       "      <td>11898.963010</td>\n",
       "      <td>-11973.882536</td>\n",
       "      <td>1030.508976</td>\n",
       "      <td>1154.713304</td>\n",
       "      <td>13739.560454</td>\n",
       "      <td>7.414496</td>\n",
       "      <td>-170.160926</td>\n",
       "      <td>-160.369144</td>\n",
       "      <td>-68.005695</td>\n",
       "      <td>...</td>\n",
       "      <td>-364.144352</td>\n",
       "      <td>-11.080994</td>\n",
       "      <td>381.171748</td>\n",
       "      <td>260.166168</td>\n",
       "      <td>9.010208</td>\n",
       "      <td>1.129919</td>\n",
       "      <td>2.885705</td>\n",
       "      <td>7.453720</td>\n",
       "      <td>10.67770</td>\n",
       "      <td>12.001967</td>\n",
       "    </tr>\n",
       "  </tbody>\n",
       "</table>\n",
       "<p>11277 rows × 106 columns</p>\n",
       "</div>"
      ],
      "text/plain": [
       "                               kron_svd0     kron_svd1     kron_svd2  \\\n",
       "Env       Hybrid                                                       \n",
       "DEH1_2020 B14A/H95            227.142566    163.670853    -45.372508   \n",
       "          B14A/MO17           613.848520    611.275792    -62.272143   \n",
       "          B14A/OH43           511.075512    423.441118    -85.896880   \n",
       "          B37/H95             639.997919    511.227329   -247.904060   \n",
       "          B37/MO17            839.934164    940.755385   -305.229490   \n",
       "...                                  ...           ...           ...   \n",
       "WIH3_2020 W10004_1123/PHP02  4022.180602  14842.993978 -14885.602464   \n",
       "          W10004_1140/PHP02  3128.654340  11811.487161 -11957.994743   \n",
       "          W10004_1143/PHP02  3279.417579  11240.958200 -11397.804853   \n",
       "          W10004_1146/PHP02  3229.231620  12263.632598 -12517.968076   \n",
       "          W10004_1156/PHP02  3330.444140  11898.963010 -11973.882536   \n",
       "\n",
       "                               kron_svd3    kron_svd4     kron_svd5  \\\n",
       "Env       Hybrid                                                      \n",
       "DEH1_2020 B14A/H95            -52.885387     3.374465      5.696767   \n",
       "          B14A/MO17          -134.369798     9.083330     15.667561   \n",
       "          B14A/OH43          -114.757618     6.738273      8.229132   \n",
       "          B37/H95            -152.590298    10.880733     20.786202   \n",
       "          B37/MO17           -178.317349    12.906960     20.737552   \n",
       "...                                  ...          ...           ...   \n",
       "WIH3_2020 W10004_1123/PHP02  1243.647264  1425.440286  17101.578438   \n",
       "          W10004_1140/PHP02   972.220034  1130.014227  13656.786995   \n",
       "          W10004_1143/PHP02  1011.410195  1109.273430  13047.568145   \n",
       "          W10004_1146/PHP02  1004.583530  1174.878345  14235.378858   \n",
       "          W10004_1156/PHP02  1030.508976  1154.713304  13739.560454   \n",
       "\n",
       "                              kron_svd6    kron_svd7   kron_svd8   kron_svd9  \\\n",
       "Env       Hybrid                                                               \n",
       "DEH1_2020 B14A/H95          -176.971990  1135.228922   60.861554   40.263896   \n",
       "          B14A/MO17         -546.184009  3861.706682  216.823242  164.067465   \n",
       "          B14A/OH43         -332.078931  1784.902558  135.860003   71.859909   \n",
       "          B37/H95            -19.989882  3398.811334   82.232218   64.537762   \n",
       "          B37/MO17          -665.796152  4769.797597  189.546736  116.600121   \n",
       "...                                 ...          ...         ...         ...   \n",
       "WIH3_2020 W10004_1123/PHP02    1.069914   320.937933 -187.528956  -64.431402   \n",
       "          W10004_1140/PHP02  -50.264884  -499.458303 -196.633819  -94.849179   \n",
       "          W10004_1143/PHP02  -85.552059   706.027971 -155.104828  -26.692112   \n",
       "          W10004_1146/PHP02  -63.453673  -474.336693 -217.136314  -65.799887   \n",
       "          W10004_1156/PHP02    7.414496  -170.160926 -160.369144  -68.005695   \n",
       "\n",
       "                             ...  kron_svd96  kron_svd97  kron_svd98  \\\n",
       "Env       Hybrid             ...                                       \n",
       "DEH1_2020 B14A/H95           ...   19.679941  102.067502 -144.985567   \n",
       "          B14A/MO17          ... -197.041893 -398.242324   93.985810   \n",
       "          B14A/OH43          ...  153.010651 -169.806689  370.971938   \n",
       "          B37/H95            ... -133.771622  148.166487 -400.312318   \n",
       "          B37/MO17           ...  246.181253  225.616803 -185.574718   \n",
       "...                          ...         ...         ...         ...   \n",
       "WIH3_2020 W10004_1123/PHP02  ...  251.723557  287.988296   71.106365   \n",
       "          W10004_1140/PHP02  ... -188.156016   50.046731  910.055602   \n",
       "          W10004_1143/PHP02  ... -613.212977  313.101982  444.825108   \n",
       "          W10004_1146/PHP02  ... -338.605342  220.758859 -163.849332   \n",
       "          W10004_1156/PHP02  ... -364.144352  -11.080994  381.171748   \n",
       "\n",
       "                             kron_svd99  mean_yield_lag_2  min_yield_lag_2  \\\n",
       "Env       Hybrid                                                             \n",
       "DEH1_2020 B14A/H95           -47.901560         10.056423         0.725594   \n",
       "          B14A/MO17          415.458234         10.056423         0.725594   \n",
       "          B14A/OH43          427.789439         10.056423         0.725594   \n",
       "          B37/H95           -467.091565         10.056423         0.725594   \n",
       "          B37/MO17          -609.026642         10.056423         0.725594   \n",
       "...                                 ...               ...              ...   \n",
       "WIH3_2020 W10004_1123/PHP02  -88.564738          9.010208         1.129919   \n",
       "          W10004_1140/PHP02  174.281132          9.010208         1.129919   \n",
       "          W10004_1143/PHP02 -223.630880          9.010208         1.129919   \n",
       "          W10004_1146/PHP02  173.876909          9.010208         1.129919   \n",
       "          W10004_1156/PHP02  260.166168          9.010208         1.129919   \n",
       "\n",
       "                             p1_yield_lag_2  q1_yield_lag_2  q3_yield_lag_2  \\\n",
       "Env       Hybrid                                                              \n",
       "DEH1_2020 B14A/H95                 2.516387        8.232294        11.94657   \n",
       "          B14A/MO17                2.516387        8.232294        11.94657   \n",
       "          B14A/OH43                2.516387        8.232294        11.94657   \n",
       "          B37/H95                  2.516387        8.232294        11.94657   \n",
       "          B37/MO17                 2.516387        8.232294        11.94657   \n",
       "...                                     ...             ...             ...   \n",
       "WIH3_2020 W10004_1123/PHP02        2.885705        7.453720        10.67770   \n",
       "          W10004_1140/PHP02        2.885705        7.453720        10.67770   \n",
       "          W10004_1143/PHP02        2.885705        7.453720        10.67770   \n",
       "          W10004_1146/PHP02        2.885705        7.453720        10.67770   \n",
       "          W10004_1156/PHP02        2.885705        7.453720        10.67770   \n",
       "\n",
       "                             p90_yield_lag_2  \n",
       "Env       Hybrid                              \n",
       "DEH1_2020 B14A/H95                 13.500556  \n",
       "          B14A/MO17                13.500556  \n",
       "          B14A/OH43                13.500556  \n",
       "          B37/H95                  13.500556  \n",
       "          B37/MO17                 13.500556  \n",
       "...                                      ...  \n",
       "WIH3_2020 W10004_1123/PHP02        12.001967  \n",
       "          W10004_1140/PHP02        12.001967  \n",
       "          W10004_1143/PHP02        12.001967  \n",
       "          W10004_1146/PHP02        12.001967  \n",
       "          W10004_1156/PHP02        12.001967  \n",
       "\n",
       "[11277 rows x 106 columns]"
      ]
     },
     "execution_count": 14,
     "metadata": {},
     "output_type": "execute_result"
    }
   ],
   "source": [
    "xtrain_svd"
   ]
  },
  {
   "cell_type": "code",
   "execution_count": 15,
   "id": "ab9ca86b",
   "metadata": {},
   "outputs": [],
   "source": [
    "import optuna"
   ]
  },
  {
   "cell_type": "code",
   "execution_count": 16,
   "id": "fb977fdb",
   "metadata": {},
   "outputs": [
    {
     "name": "stderr",
     "output_type": "stream",
     "text": [
      "\u001b[32m[I 2023-02-13 15:12:29,140]\u001b[0m A new study created in memory with name: no-name-15de7a45-7011-4df9-8963-3b74d82629f8\u001b[0m\n"
     ]
    },
    {
     "name": "stdout",
     "output_type": "stream",
     "text": [
      "[LightGBM] [Warning] lambda_l1 is set=0.0024430162614261413, reg_alpha=0.0 will be ignored. Current value: lambda_l1=0.0024430162614261413\n",
      "[LightGBM] [Warning] bagging_fraction is set=0.839196365086843, subsample=1.0 will be ignored. Current value: bagging_fraction=0.839196365086843\n",
      "[LightGBM] [Warning] feature_fraction is set=0.3745401188473625, colsample_bytree=1.0 will be ignored. Current value: feature_fraction=0.3745401188473625\n",
      "[LightGBM] [Warning] lambda_l2 is set=2.5361081166471375e-07, reg_lambda=0.0 will be ignored. Current value: lambda_l2=2.5361081166471375e-07\n"
     ]
    },
    {
     "name": "stderr",
     "output_type": "stream",
     "text": [
      "\u001b[32m[I 2023-02-13 15:12:29,706]\u001b[0m Trial 0 finished with value: 2.321135475299017 and parameters: {'feature_fraction': 0.3745401188473625, 'num_leaves': 244, 'bagging_fraction': 0.839196365086843, 'lambda_l1': 0.0024430162614261413, 'lambda_l2': 2.5361081166471375e-07, 'n_estimators': 55, 'max_depth': 2}. Best is trial 0 with value: 2.321135475299017.\u001b[0m\n"
     ]
    },
    {
     "name": "stdout",
     "output_type": "stream",
     "text": [
      "[LightGBM] [Warning] lambda_l1 is set=1.5320059381854043e-08, reg_alpha=0.0 will be ignored. Current value: lambda_l1=1.5320059381854043e-08\n",
      "[LightGBM] [Warning] bagging_fraction is set=0.8248435466776274, subsample=1.0 will be ignored. Current value: bagging_fraction=0.8248435466776274\n",
      "[LightGBM] [Warning] feature_fraction is set=0.8661761457749352, colsample_bytree=1.0 will be ignored. Current value: feature_fraction=0.8661761457749352\n",
      "[LightGBM] [Warning] lambda_l2 is set=5.360294728728285, reg_lambda=0.0 will be ignored. Current value: lambda_l2=5.360294728728285\n"
     ]
    },
    {
     "name": "stderr",
     "output_type": "stream",
     "text": [
      "\u001b[32m[I 2023-02-13 15:12:31,037]\u001b[0m Trial 1 finished with value: 2.2878604820968613 and parameters: {'feature_fraction': 0.8661761457749352, 'num_leaves': 155, 'bagging_fraction': 0.8248435466776274, 'lambda_l1': 1.5320059381854043e-08, 'lambda_l2': 5.360294728728285, 'n_estimators': 252, 'max_depth': 3}. Best is trial 1 with value: 2.2878604820968613.\u001b[0m\n"
     ]
    },
    {
     "name": "stdout",
     "output_type": "stream",
     "text": [
      "[LightGBM] [Warning] lambda_l1 is set=0.00052821153945323, reg_alpha=0.0 will be ignored. Current value: lambda_l1=0.00052821153945323\n",
      "[LightGBM] [Warning] bagging_fraction is set=0.5825453457757226, subsample=1.0 will be ignored. Current value: bagging_fraction=0.5825453457757226\n",
      "[LightGBM] [Warning] feature_fraction is set=0.18182496720710062, colsample_bytree=1.0 will be ignored. Current value: feature_fraction=0.18182496720710062\n",
      "[LightGBM] [Warning] lambda_l2 is set=7.71800699380605e-05, reg_lambda=0.0 will be ignored. Current value: lambda_l2=7.71800699380605e-05\n"
     ]
    },
    {
     "name": "stderr",
     "output_type": "stream",
     "text": [
      "\u001b[32m[I 2023-02-13 15:12:31,603]\u001b[0m Trial 2 finished with value: 2.2666859053045845 and parameters: {'feature_fraction': 0.18182496720710062, 'num_leaves': 48, 'bagging_fraction': 0.5825453457757226, 'lambda_l1': 0.00052821153945323, 'lambda_l2': 7.71800699380605e-05, 'n_estimators': 94, 'max_depth': 5}. Best is trial 2 with value: 2.2666859053045845.\u001b[0m\n"
     ]
    },
    {
     "name": "stdout",
     "output_type": "stream",
     "text": [
      "[LightGBM] [Warning] lambda_l1 is set=0.00012724181576752517, reg_alpha=0.0 will be ignored. Current value: lambda_l1=0.00012724181576752517\n",
      "[LightGBM] [Warning] bagging_fraction is set=0.619817105976215, subsample=1.0 will be ignored. Current value: bagging_fraction=0.619817105976215\n",
      "[LightGBM] [Warning] feature_fraction is set=0.13949386065204183, colsample_bytree=1.0 will be ignored. Current value: feature_fraction=0.13949386065204183\n",
      "[LightGBM] [Warning] lambda_l2 is set=0.1165691561324743, reg_lambda=0.0 will be ignored. Current value: lambda_l2=0.1165691561324743\n"
     ]
    },
    {
     "name": "stderr",
     "output_type": "stream",
     "text": [
      "\u001b[32m[I 2023-02-13 15:12:31,992]\u001b[0m Trial 3 finished with value: 2.247574075817737 and parameters: {'feature_fraction': 0.13949386065204183, 'num_leaves': 76, 'bagging_fraction': 0.619817105976215, 'lambda_l1': 0.00012724181576752517, 'lambda_l2': 0.1165691561324743, 'n_estimators': 68, 'max_depth': 4}. Best is trial 3 with value: 2.247574075817737.\u001b[0m\n"
     ]
    },
    {
     "name": "stdout",
     "output_type": "stream",
     "text": [
      "[LightGBM] [Warning] lambda_l1 is set=3.425445902633376e-07, reg_alpha=0.0 will be ignored. Current value: lambda_l1=3.425445902633376e-07\n",
      "[LightGBM] [Warning] bagging_fraction is set=0.764526911140863, subsample=1.0 will be ignored. Current value: bagging_fraction=0.764526911140863\n",
      "[LightGBM] [Warning] feature_fraction is set=0.5924145688620425, colsample_bytree=1.0 will be ignored. Current value: feature_fraction=0.5924145688620425\n",
      "[LightGBM] [Warning] lambda_l2 is set=3.850031979199519e-08, reg_lambda=0.0 will be ignored. Current value: lambda_l2=3.850031979199519e-08\n"
     ]
    },
    {
     "name": "stderr",
     "output_type": "stream",
     "text": [
      "\u001b[32m[I 2023-02-13 15:12:33,663]\u001b[0m Trial 4 finished with value: 2.3073908904273996 and parameters: {'feature_fraction': 0.5924145688620425, 'num_leaves': 13, 'bagging_fraction': 0.764526911140863, 'lambda_l1': 3.425445902633376e-07, 'lambda_l2': 3.850031979199519e-08, 'n_estimators': 286, 'max_depth': 6}. Best is trial 3 with value: 2.247574075817737.\u001b[0m\n"
     ]
    },
    {
     "name": "stdout",
     "output_type": "stream",
     "text": [
      "[LightGBM] [Warning] lambda_l1 is set=0.014391207615728067, reg_alpha=0.0 will be ignored. Current value: lambda_l1=0.014391207615728067\n",
      "[LightGBM] [Warning] bagging_fraction is set=0.45860326840383037, subsample=1.0 will be ignored. Current value: bagging_fraction=0.45860326840383037\n",
      "[LightGBM] [Warning] feature_fraction is set=0.8083973481164611, colsample_bytree=1.0 will be ignored. Current value: feature_fraction=0.8083973481164611\n",
      "[LightGBM] [Warning] lambda_l2 is set=9.148975058772307e-05, reg_lambda=0.0 will be ignored. Current value: lambda_l2=9.148975058772307e-05\n"
     ]
    },
    {
     "name": "stderr",
     "output_type": "stream",
     "text": [
      "\u001b[32m[I 2023-02-13 15:12:34,224]\u001b[0m Trial 5 finished with value: 2.300887181541875 and parameters: {'feature_fraction': 0.8083973481164611, 'num_leaves': 79, 'bagging_fraction': 0.45860326840383037, 'lambda_l1': 0.014391207615728067, 'lambda_l2': 9.148975058772307e-05, 'n_estimators': 45, 'max_depth': 4}. Best is trial 3 with value: 2.247574075817737.\u001b[0m\n"
     ]
    },
    {
     "name": "stdout",
     "output_type": "stream",
     "text": [
      "[LightGBM] [Warning] lambda_l1 is set=0.009176996354542699, reg_alpha=0.0 will be ignored. Current value: lambda_l1=0.009176996354542699\n",
      "[LightGBM] [Warning] bagging_fraction is set=0.5552679889600102, subsample=1.0 will be ignored. Current value: bagging_fraction=0.5552679889600102\n",
      "[LightGBM] [Warning] feature_fraction is set=0.034388521115218396, colsample_bytree=1.0 will be ignored. Current value: feature_fraction=0.034388521115218396\n",
      "[LightGBM] [Warning] lambda_l2 is set=6.388511557344611e-06, reg_lambda=0.0 will be ignored. Current value: lambda_l2=6.388511557344611e-06\n"
     ]
    },
    {
     "name": "stderr",
     "output_type": "stream",
     "text": [
      "\u001b[32m[I 2023-02-13 15:12:34,681]\u001b[0m Trial 6 finished with value: 2.2521677562104094 and parameters: {'feature_fraction': 0.034388521115218396, 'num_leaves': 233, 'bagging_fraction': 0.5552679889600102, 'lambda_l1': 0.009176996354542699, 'lambda_l2': 6.388511557344611e-06, 'n_estimators': 161, 'max_depth': 4}. Best is trial 3 with value: 2.247574075817737.\u001b[0m\n"
     ]
    },
    {
     "name": "stdout",
     "output_type": "stream",
     "text": [
      "[LightGBM] [Warning] lambda_l1 is set=2.854239907497756, reg_alpha=0.0 will be ignored. Current value: lambda_l1=2.854239907497756\n",
      "[LightGBM] [Warning] bagging_fraction is set=0.8650796940166687, subsample=1.0 will be ignored. Current value: bagging_fraction=0.8650796940166687\n",
      "[LightGBM] [Warning] feature_fraction is set=0.18485445552552704, colsample_bytree=1.0 will be ignored. Current value: feature_fraction=0.18485445552552704\n",
      "[LightGBM] [Warning] lambda_l2 is set=1.1309571585271483, reg_lambda=0.0 will be ignored. Current value: lambda_l2=1.1309571585271483\n"
     ]
    },
    {
     "name": "stderr",
     "output_type": "stream",
     "text": [
      "\u001b[32m[I 2023-02-13 15:12:35,723]\u001b[0m Trial 7 finished with value: 2.2596491481555834 and parameters: {'feature_fraction': 0.18485445552552704, 'num_leaves': 249, 'bagging_fraction': 0.8650796940166687, 'lambda_l1': 2.854239907497756, 'lambda_l2': 1.1309571585271483, 'n_estimators': 183, 'max_depth': 6}. Best is trial 3 with value: 2.247574075817737.\u001b[0m\n"
     ]
    },
    {
     "name": "stdout",
     "output_type": "stream",
     "text": [
      "[LightGBM] [Warning] lambda_l1 is set=8.471746987003668e-06, reg_alpha=0.0 will be ignored. Current value: lambda_l1=8.471746987003668e-06\n",
      "[LightGBM] [Warning] bagging_fraction is set=0.4271363733463229, subsample=1.0 will be ignored. Current value: bagging_fraction=0.4271363733463229\n",
      "[LightGBM] [Warning] feature_fraction is set=0.0884925020519195, colsample_bytree=1.0 will be ignored. Current value: feature_fraction=0.0884925020519195\n",
      "[LightGBM] [Warning] lambda_l2 is set=3.148441347423712e-05, reg_lambda=0.0 will be ignored. Current value: lambda_l2=3.148441347423712e-05\n"
     ]
    },
    {
     "name": "stderr",
     "output_type": "stream",
     "text": [
      "\u001b[32m[I 2023-02-13 15:12:36,229]\u001b[0m Trial 8 finished with value: 2.269733265283128 and parameters: {'feature_fraction': 0.0884925020519195, 'num_leaves': 51, 'bagging_fraction': 0.4271363733463229, 'lambda_l1': 8.471746987003668e-06, 'lambda_l2': 3.148441347423712e-05, 'n_estimators': 88, 'max_depth': 6}. Best is trial 3 with value: 2.247574075817737.\u001b[0m\n"
     ]
    },
    {
     "name": "stdout",
     "output_type": "stream",
     "text": [
      "[LightGBM] [Warning] lambda_l1 is set=1.8548894229694903e-07, reg_alpha=0.0 will be ignored. Current value: lambda_l1=1.8548894229694903e-07\n",
      "[LightGBM] [Warning] bagging_fraction is set=0.7256176498949491, subsample=1.0 will be ignored. Current value: bagging_fraction=0.7256176498949491\n",
      "[LightGBM] [Warning] feature_fraction is set=0.3567533266935893, colsample_bytree=1.0 will be ignored. Current value: feature_fraction=0.3567533266935893\n",
      "[LightGBM] [Warning] lambda_l2 is set=0.16587190283399655, reg_lambda=0.0 will be ignored. Current value: lambda_l2=0.16587190283399655\n"
     ]
    },
    {
     "name": "stderr",
     "output_type": "stream",
     "text": [
      "\u001b[32m[I 2023-02-13 15:12:36,738]\u001b[0m Trial 9 finished with value: 2.335331508085023 and parameters: {'feature_fraction': 0.3567533266935893, 'num_leaves': 73, 'bagging_fraction': 0.7256176498949491, 'lambda_l1': 1.8548894229694903e-07, 'lambda_l2': 0.16587190283399655, 'n_estimators': 31, 'max_depth': 6}. Best is trial 3 with value: 2.247574075817737.\u001b[0m\n"
     ]
    },
    {
     "name": "stdout",
     "output_type": "stream",
     "text": [
      "[LightGBM] [Warning] lambda_l1 is set=3.120343417625516e-05, reg_alpha=0.0 will be ignored. Current value: lambda_l1=3.120343417625516e-05\n",
      "[LightGBM] [Warning] bagging_fraction is set=0.9817222664727197, subsample=1.0 will be ignored. Current value: bagging_fraction=0.9817222664727197\n",
      "[LightGBM] [Warning] feature_fraction is set=0.5136633570622086, colsample_bytree=1.0 will be ignored. Current value: feature_fraction=0.5136633570622086\n",
      "[LightGBM] [Warning] lambda_l2 is set=0.011634529103249861, reg_lambda=0.0 will be ignored. Current value: lambda_l2=0.011634529103249861\n"
     ]
    },
    {
     "name": "stderr",
     "output_type": "stream",
     "text": [
      "\u001b[32m[I 2023-02-13 15:12:37,373]\u001b[0m Trial 10 finished with value: 2.2749346788012694 and parameters: {'feature_fraction': 0.5136633570622086, 'num_leaves': 144, 'bagging_fraction': 0.9817222664727197, 'lambda_l1': 3.120343417625516e-05, 'lambda_l2': 0.011634529103249861, 'n_estimators': 120, 'max_depth': 3}. Best is trial 3 with value: 2.247574075817737.\u001b[0m\n"
     ]
    },
    {
     "name": "stdout",
     "output_type": "stream",
     "text": [
      "[LightGBM] [Warning] lambda_l1 is set=0.048075971072466445, reg_alpha=0.0 will be ignored. Current value: lambda_l1=0.048075971072466445\n",
      "[LightGBM] [Warning] bagging_fraction is set=0.590940097979374, subsample=1.0 will be ignored. Current value: bagging_fraction=0.590940097979374\n",
      "[LightGBM] [Warning] feature_fraction is set=0.011327676227342015, colsample_bytree=1.0 will be ignored. Current value: feature_fraction=0.011327676227342015\n",
      "[LightGBM] [Warning] lambda_l2 is set=0.007005143199416652, reg_lambda=0.0 will be ignored. Current value: lambda_l2=0.007005143199416652\n"
     ]
    },
    {
     "name": "stderr",
     "output_type": "stream",
     "text": [
      "\u001b[32m[I 2023-02-13 15:12:37,842]\u001b[0m Trial 11 finished with value: 2.340861529008316 and parameters: {'feature_fraction': 0.011327676227342015, 'num_leaves': 191, 'bagging_fraction': 0.590940097979374, 'lambda_l1': 0.048075971072466445, 'lambda_l2': 0.007005143199416652, 'n_estimators': 180, 'max_depth': 4}. Best is trial 3 with value: 2.247574075817737.\u001b[0m\n"
     ]
    },
    {
     "name": "stdout",
     "output_type": "stream",
     "text": [
      "[LightGBM] [Warning] lambda_l1 is set=0.00010211448512800166, reg_alpha=0.0 will be ignored. Current value: lambda_l1=0.00010211448512800166\n",
      "[LightGBM] [Warning] bagging_fraction is set=0.6151205900223748, subsample=1.0 will be ignored. Current value: bagging_fraction=0.6151205900223748\n",
      "[LightGBM] [Warning] feature_fraction is set=0.018109140988082834, colsample_bytree=1.0 will be ignored. Current value: feature_fraction=0.018109140988082834\n",
      "[LightGBM] [Warning] lambda_l2 is set=2.528830125346676e-06, reg_lambda=0.0 will be ignored. Current value: lambda_l2=2.528830125346676e-06\n"
     ]
    },
    {
     "name": "stderr",
     "output_type": "stream",
     "text": [
      "\u001b[32m[I 2023-02-13 15:12:38,248]\u001b[0m Trial 12 finished with value: 2.288128899035722 and parameters: {'feature_fraction': 0.018109140988082834, 'num_leaves': 104, 'bagging_fraction': 0.6151205900223748, 'lambda_l1': 0.00010211448512800166, 'lambda_l2': 2.528830125346676e-06, 'n_estimators': 142, 'max_depth': 3}. Best is trial 3 with value: 2.247574075817737.\u001b[0m\n"
     ]
    },
    {
     "name": "stdout",
     "output_type": "stream",
     "text": [
      "[LightGBM] [Warning] lambda_l1 is set=0.11019024387362948, reg_alpha=0.0 will be ignored. Current value: lambda_l1=0.11019024387362948\n",
      "[LightGBM] [Warning] bagging_fraction is set=0.5299831741206006, subsample=1.0 will be ignored. Current value: bagging_fraction=0.5299831741206006\n",
      "[LightGBM] [Warning] feature_fraction is set=0.24080793750091012, colsample_bytree=1.0 will be ignored. Current value: feature_fraction=0.24080793750091012\n",
      "[LightGBM] [Warning] lambda_l2 is set=0.0010877300745293953, reg_lambda=0.0 will be ignored. Current value: lambda_l2=0.0010877300745293953\n"
     ]
    },
    {
     "name": "stderr",
     "output_type": "stream",
     "text": [
      "\u001b[32m[I 2023-02-13 15:12:39,265]\u001b[0m Trial 13 finished with value: 2.316379322022502 and parameters: {'feature_fraction': 0.24080793750091012, 'num_leaves': 197, 'bagging_fraction': 0.5299831741206006, 'lambda_l1': 0.11019024387362948, 'lambda_l2': 0.0010877300745293953, 'n_estimators': 197, 'max_depth': 5}. Best is trial 3 with value: 2.247574075817737.\u001b[0m\n"
     ]
    },
    {
     "name": "stdout",
     "output_type": "stream",
     "text": [
      "[LightGBM] [Warning] lambda_l1 is set=0.0009354570606280562, reg_alpha=0.0 will be ignored. Current value: lambda_l1=0.0009354570606280562\n",
      "[LightGBM] [Warning] bagging_fraction is set=0.6628781004946807, subsample=1.0 will be ignored. Current value: bagging_fraction=0.6628781004946807\n",
      "[LightGBM] [Warning] feature_fraction is set=0.12704659951539277, colsample_bytree=1.0 will be ignored. Current value: feature_fraction=0.12704659951539277\n",
      "[LightGBM] [Warning] lambda_l2 is set=3.531571057916157e-06, reg_lambda=0.0 will be ignored. Current value: lambda_l2=3.531571057916157e-06\n"
     ]
    },
    {
     "name": "stderr",
     "output_type": "stream",
     "text": [
      "\u001b[32m[I 2023-02-13 15:12:39,860]\u001b[0m Trial 14 finished with value: 2.278346364406389 and parameters: {'feature_fraction': 0.12704659951539277, 'num_leaves': 116, 'bagging_fraction': 0.6628781004946807, 'lambda_l1': 0.0009354570606280562, 'lambda_l2': 3.531571057916157e-06, 'n_estimators': 131, 'max_depth': 5}. Best is trial 3 with value: 2.247574075817737.\u001b[0m\n"
     ]
    },
    {
     "name": "stdout",
     "output_type": "stream",
     "text": [
      "[LightGBM] [Warning] lambda_l1 is set=9.191046560522677e-06, reg_alpha=0.0 will be ignored. Current value: lambda_l1=9.191046560522677e-06\n",
      "[LightGBM] [Warning] bagging_fraction is set=0.5176139593536138, subsample=1.0 will be ignored. Current value: bagging_fraction=0.5176139593536138\n",
      "[LightGBM] [Warning] feature_fraction is set=0.30458483741830367, colsample_bytree=1.0 will be ignored. Current value: feature_fraction=0.30458483741830367\n",
      "[LightGBM] [Warning] lambda_l2 is set=0.06480640184162484, reg_lambda=0.0 will be ignored. Current value: lambda_l2=0.06480640184162484\n"
     ]
    },
    {
     "name": "stderr",
     "output_type": "stream",
     "text": [
      "\u001b[32m[I 2023-02-13 15:12:40,775]\u001b[0m Trial 15 finished with value: 2.298882676012127 and parameters: {'feature_fraction': 0.30458483741830367, 'num_leaves': 188, 'bagging_fraction': 0.5176139593536138, 'lambda_l1': 9.191046560522677e-06, 'lambda_l2': 0.06480640184162484, 'n_estimators': 227, 'max_depth': 4}. Best is trial 3 with value: 2.247574075817737.\u001b[0m\n"
     ]
    },
    {
     "name": "stdout",
     "output_type": "stream",
     "text": [
      "[LightGBM] [Warning] lambda_l1 is set=0.003444029219579629, reg_alpha=0.0 will be ignored. Current value: lambda_l1=0.003444029219579629\n",
      "[LightGBM] [Warning] bagging_fraction is set=0.671395787726565, subsample=1.0 will be ignored. Current value: bagging_fraction=0.671395787726565\n",
      "[LightGBM] [Warning] feature_fraction is set=0.09951144463413092, colsample_bytree=1.0 will be ignored. Current value: feature_fraction=0.09951144463413092\n",
      "[LightGBM] [Warning] lambda_l2 is set=0.0016447293604905234, reg_lambda=0.0 will be ignored. Current value: lambda_l2=0.0016447293604905234\n"
     ]
    },
    {
     "name": "stderr",
     "output_type": "stream",
     "text": [
      "\u001b[32m[I 2023-02-13 15:12:41,076]\u001b[0m Trial 16 finished with value: 2.4918661004921434 and parameters: {'feature_fraction': 0.09951144463413092, 'num_leaves': 225, 'bagging_fraction': 0.671395787726565, 'lambda_l1': 0.003444029219579629, 'lambda_l2': 0.0016447293604905234, 'n_estimators': 11, 'max_depth': 2}. Best is trial 3 with value: 2.247574075817737.\u001b[0m\n"
     ]
    },
    {
     "name": "stdout",
     "output_type": "stream",
     "text": [
      "[LightGBM] [Warning] lambda_l1 is set=0.3510982443147044, reg_alpha=0.0 will be ignored. Current value: lambda_l1=0.3510982443147044\n",
      "[LightGBM] [Warning] bagging_fraction is set=0.5111004226118093, subsample=1.0 will be ignored. Current value: bagging_fraction=0.5111004226118093\n",
      "[LightGBM] [Warning] feature_fraction is set=0.008909069471273665, colsample_bytree=1.0 will be ignored. Current value: feature_fraction=0.008909069471273665\n",
      "[LightGBM] [Warning] lambda_l2 is set=0.2589052254585082, reg_lambda=0.0 will be ignored. Current value: lambda_l2=0.2589052254585082\n"
     ]
    },
    {
     "name": "stderr",
     "output_type": "stream",
     "text": [
      "\u001b[32m[I 2023-02-13 15:12:41,433]\u001b[0m Trial 17 finished with value: 2.389785413535865 and parameters: {'feature_fraction': 0.008909069471273665, 'num_leaves': 162, 'bagging_fraction': 0.5111004226118093, 'lambda_l1': 0.3510982443147044, 'lambda_l2': 0.2589052254585082, 'n_estimators': 84, 'max_depth': 3}. Best is trial 3 with value: 2.247574075817737.\u001b[0m\n"
     ]
    },
    {
     "name": "stdout",
     "output_type": "stream",
     "text": [
      "[LightGBM] [Warning] lambda_l1 is set=0.013878683967823817, reg_alpha=0.0 will be ignored. Current value: lambda_l1=0.013878683967823817\n",
      "[LightGBM] [Warning] bagging_fraction is set=0.40484426773534277, subsample=1.0 will be ignored. Current value: bagging_fraction=0.40484426773534277\n",
      "[LightGBM] [Warning] feature_fraction is set=0.25432836726550717, colsample_bytree=1.0 will be ignored. Current value: feature_fraction=0.25432836726550717\n",
      "[LightGBM] [Warning] lambda_l2 is set=6.71262328743936, reg_lambda=0.0 will be ignored. Current value: lambda_l2=6.71262328743936\n"
     ]
    },
    {
     "name": "stderr",
     "output_type": "stream",
     "text": [
      "\u001b[32m[I 2023-02-13 15:12:42,171]\u001b[0m Trial 18 finished with value: 2.322369772548385 and parameters: {'feature_fraction': 0.25432836726550717, 'num_leaves': 13, 'bagging_fraction': 0.40484426773534277, 'lambda_l1': 0.013878683967823817, 'lambda_l2': 6.71262328743936, 'n_estimators': 159, 'max_depth': 5}. Best is trial 3 with value: 2.247574075817737.\u001b[0m\n"
     ]
    },
    {
     "name": "stdout",
     "output_type": "stream",
     "text": [
      "[LightGBM] [Warning] lambda_l1 is set=0.00015459852971402003, reg_alpha=0.0 will be ignored. Current value: lambda_l1=0.00015459852971402003\n",
      "[LightGBM] [Warning] bagging_fraction is set=0.6331121695923563, subsample=1.0 will be ignored. Current value: bagging_fraction=0.6331121695923563\n",
      "[LightGBM] [Warning] feature_fraction is set=0.40716853455536867, colsample_bytree=1.0 will be ignored. Current value: feature_fraction=0.40716853455536867\n",
      "[LightGBM] [Warning] lambda_l2 is set=0.0003693396023373648, reg_lambda=0.0 will be ignored. Current value: lambda_l2=0.0003693396023373648\n"
     ]
    },
    {
     "name": "stderr",
     "output_type": "stream",
     "text": [
      "\u001b[32m[I 2023-02-13 15:12:42,830]\u001b[0m Trial 19 finished with value: 2.271190832011016 and parameters: {'feature_fraction': 0.40716853455536867, 'num_leaves': 125, 'bagging_fraction': 0.6331121695923563, 'lambda_l1': 0.00015459852971402003, 'lambda_l2': 0.0003693396023373648, 'n_estimators': 107, 'max_depth': 4}. Best is trial 3 with value: 2.247574075817737.\u001b[0m\n"
     ]
    },
    {
     "name": "stdout",
     "output_type": "stream",
     "text": [
      "[LightGBM] [Warning] lambda_l1 is set=4.8651099642799664, reg_alpha=0.0 will be ignored. Current value: lambda_l1=4.8651099642799664\n",
      "[LightGBM] [Warning] bagging_fraction is set=0.570582674722171, subsample=1.0 will be ignored. Current value: bagging_fraction=0.570582674722171\n",
      "[LightGBM] [Warning] feature_fraction is set=0.19101260178826207, colsample_bytree=1.0 will be ignored. Current value: feature_fraction=0.19101260178826207\n",
      "[LightGBM] [Warning] lambda_l2 is set=0.01792230499007236, reg_lambda=0.0 will be ignored. Current value: lambda_l2=0.01792230499007236\n"
     ]
    },
    {
     "name": "stderr",
     "output_type": "stream",
     "text": [
      "\u001b[32m[I 2023-02-13 15:12:43,462]\u001b[0m Trial 20 finished with value: 2.2348484265917663 and parameters: {'feature_fraction': 0.19101260178826207, 'num_leaves': 77, 'bagging_fraction': 0.570582674722171, 'lambda_l1': 4.8651099642799664, 'lambda_l2': 0.01792230499007236, 'n_estimators': 226, 'max_depth': 3}. Best is trial 20 with value: 2.2348484265917663.\u001b[0m\n"
     ]
    },
    {
     "name": "stdout",
     "output_type": "stream",
     "text": [
      "[LightGBM] [Warning] lambda_l1 is set=5.686035408966208, reg_alpha=0.0 will be ignored. Current value: lambda_l1=5.686035408966208\n",
      "[LightGBM] [Warning] bagging_fraction is set=0.5708856334503088, subsample=1.0 will be ignored. Current value: bagging_fraction=0.5708856334503088\n",
      "[LightGBM] [Warning] feature_fraction is set=0.17046127853211313, colsample_bytree=1.0 will be ignored. Current value: feature_fraction=0.17046127853211313\n",
      "[LightGBM] [Warning] lambda_l2 is set=0.030109116191680725, reg_lambda=0.0 will be ignored. Current value: lambda_l2=0.030109116191680725\n"
     ]
    },
    {
     "name": "stderr",
     "output_type": "stream",
     "text": [
      "\u001b[32m[I 2023-02-13 15:12:44,073]\u001b[0m Trial 21 finished with value: 2.2177106709350194 and parameters: {'feature_fraction': 0.17046127853211313, 'num_leaves': 91, 'bagging_fraction': 0.5708856334503088, 'lambda_l1': 5.686035408966208, 'lambda_l2': 0.030109116191680725, 'n_estimators': 222, 'max_depth': 3}. Best is trial 21 with value: 2.2177106709350194.\u001b[0m\n"
     ]
    },
    {
     "name": "stdout",
     "output_type": "stream",
     "text": [
      "[LightGBM] [Warning] lambda_l1 is set=6.367139599411015, reg_alpha=0.0 will be ignored. Current value: lambda_l1=6.367139599411015\n",
      "[LightGBM] [Warning] bagging_fraction is set=0.612799928990354, subsample=1.0 will be ignored. Current value: bagging_fraction=0.612799928990354\n",
      "[LightGBM] [Warning] feature_fraction is set=0.19420977997392533, colsample_bytree=1.0 will be ignored. Current value: feature_fraction=0.19420977997392533\n",
      "[LightGBM] [Warning] lambda_l2 is set=0.014009174636958999, reg_lambda=0.0 will be ignored. Current value: lambda_l2=0.014009174636958999\n"
     ]
    },
    {
     "name": "stderr",
     "output_type": "stream",
     "text": [
      "\u001b[32m[I 2023-02-13 15:12:44,800]\u001b[0m Trial 22 finished with value: 2.2403353434843147 and parameters: {'feature_fraction': 0.19420977997392533, 'num_leaves': 90, 'bagging_fraction': 0.612799928990354, 'lambda_l1': 6.367139599411015, 'lambda_l2': 0.014009174636958999, 'n_estimators': 226, 'max_depth': 3}. Best is trial 21 with value: 2.2177106709350194.\u001b[0m\n"
     ]
    },
    {
     "name": "stdout",
     "output_type": "stream",
     "text": [
      "[LightGBM] [Warning] lambda_l1 is set=9.828297404154979, reg_alpha=0.0 will be ignored. Current value: lambda_l1=9.828297404154979\n",
      "[LightGBM] [Warning] bagging_fraction is set=0.48521944506669873, subsample=1.0 will be ignored. Current value: bagging_fraction=0.48521944506669873\n",
      "[LightGBM] [Warning] feature_fraction is set=0.21356675636173553, colsample_bytree=1.0 will be ignored. Current value: feature_fraction=0.21356675636173553\n",
      "[LightGBM] [Warning] lambda_l2 is set=0.013471053332097015, reg_lambda=0.0 will be ignored. Current value: lambda_l2=0.013471053332097015\n"
     ]
    },
    {
     "name": "stderr",
     "output_type": "stream",
     "text": [
      "\u001b[32m[I 2023-02-13 15:12:45,341]\u001b[0m Trial 23 finished with value: 2.293211584417806 and parameters: {'feature_fraction': 0.21356675636173553, 'num_leaves': 99, 'bagging_fraction': 0.48521944506669873, 'lambda_l1': 9.828297404154979, 'lambda_l2': 0.013471053332097015, 'n_estimators': 223, 'max_depth': 2}. Best is trial 21 with value: 2.2177106709350194.\u001b[0m\n"
     ]
    },
    {
     "name": "stdout",
     "output_type": "stream",
     "text": [
      "[LightGBM] [Warning] lambda_l1 is set=1.0442789556778875, reg_alpha=0.0 will be ignored. Current value: lambda_l1=1.0442789556778875\n",
      "[LightGBM] [Warning] bagging_fraction is set=0.5687993101119029, subsample=1.0 will be ignored. Current value: bagging_fraction=0.5687993101119029\n",
      "[LightGBM] [Warning] feature_fraction is set=0.27300527759195947, colsample_bytree=1.0 will be ignored. Current value: feature_fraction=0.27300527759195947\n",
      "[LightGBM] [Warning] lambda_l2 is set=0.025242162864297358, reg_lambda=0.0 will be ignored. Current value: lambda_l2=0.025242162864297358\n"
     ]
    },
    {
     "name": "stderr",
     "output_type": "stream",
     "text": [
      "\u001b[32m[I 2023-02-13 15:12:46,145]\u001b[0m Trial 24 finished with value: 2.261635502586524 and parameters: {'feature_fraction': 0.27300527759195947, 'num_leaves': 40, 'bagging_fraction': 0.5687993101119029, 'lambda_l1': 1.0442789556778875, 'lambda_l2': 0.025242162864297358, 'n_estimators': 277, 'max_depth': 3}. Best is trial 21 with value: 2.2177106709350194.\u001b[0m\n"
     ]
    },
    {
     "name": "stdout",
     "output_type": "stream",
     "text": [
      "[LightGBM] [Warning] lambda_l1 is set=7.436602540333341, reg_alpha=0.0 will be ignored. Current value: lambda_l1=7.436602540333341\n",
      "[LightGBM] [Warning] bagging_fraction is set=0.5510620233217901, subsample=1.0 will be ignored. Current value: bagging_fraction=0.5510620233217901\n",
      "[LightGBM] [Warning] feature_fraction is set=0.12262914711169345, colsample_bytree=1.0 will be ignored. Current value: feature_fraction=0.12262914711169345\n",
      "[LightGBM] [Warning] lambda_l2 is set=0.0024949261642741934, reg_lambda=0.0 will be ignored. Current value: lambda_l2=0.0024949261642741934\n"
     ]
    },
    {
     "name": "stderr",
     "output_type": "stream",
     "text": [
      "\u001b[32m[I 2023-02-13 15:12:46,718]\u001b[0m Trial 25 finished with value: 2.236792423113746 and parameters: {'feature_fraction': 0.12262914711169345, 'num_leaves': 98, 'bagging_fraction': 0.5510620233217901, 'lambda_l1': 7.436602540333341, 'lambda_l2': 0.0024949261642741934, 'n_estimators': 229, 'max_depth': 3}. Best is trial 21 with value: 2.2177106709350194.\u001b[0m\n"
     ]
    },
    {
     "name": "stdout",
     "output_type": "stream",
     "text": [
      "[LightGBM] [Warning] lambda_l1 is set=1.008781838734782, reg_alpha=0.0 will be ignored. Current value: lambda_l1=1.008781838734782\n",
      "[LightGBM] [Warning] bagging_fraction is set=0.4698036465353104, subsample=1.0 will be ignored. Current value: bagging_fraction=0.4698036465353104\n",
      "[LightGBM] [Warning] feature_fraction is set=0.09650213356452796, colsample_bytree=1.0 will be ignored. Current value: feature_fraction=0.09650213356452796\n",
      "[LightGBM] [Warning] lambda_l2 is set=0.5805298983148178, reg_lambda=0.0 will be ignored. Current value: lambda_l2=0.5805298983148178\n"
     ]
    },
    {
     "name": "stderr",
     "output_type": "stream",
     "text": [
      "\u001b[32m[I 2023-02-13 15:12:47,266]\u001b[0m Trial 26 finished with value: 2.230187116893222 and parameters: {'feature_fraction': 0.09650213356452796, 'num_leaves': 61, 'bagging_fraction': 0.4698036465353104, 'lambda_l1': 1.008781838734782, 'lambda_l2': 0.5805298983148178, 'n_estimators': 262, 'max_depth': 2}. Best is trial 21 with value: 2.2177106709350194.\u001b[0m\n"
     ]
    },
    {
     "name": "stdout",
     "output_type": "stream",
     "text": [
      "[LightGBM] [Warning] lambda_l1 is set=0.8183824354477998, reg_alpha=0.0 will be ignored. Current value: lambda_l1=0.8183824354477998\n",
      "[LightGBM] [Warning] bagging_fraction is set=0.45965050217900044, subsample=1.0 will be ignored. Current value: bagging_fraction=0.45965050217900044\n",
      "[LightGBM] [Warning] feature_fraction is set=0.3069321958488394, colsample_bytree=1.0 will be ignored. Current value: feature_fraction=0.3069321958488394\n",
      "[LightGBM] [Warning] lambda_l2 is set=0.6870138300614104, reg_lambda=0.0 will be ignored. Current value: lambda_l2=0.6870138300614104\n"
     ]
    },
    {
     "name": "stderr",
     "output_type": "stream",
     "text": [
      "\u001b[32m[I 2023-02-13 15:12:47,903]\u001b[0m Trial 27 finished with value: 2.2747382062960972 and parameters: {'feature_fraction': 0.3069321958488394, 'num_leaves': 32, 'bagging_fraction': 0.45965050217900044, 'lambda_l1': 0.8183824354477998, 'lambda_l2': 0.6870138300614104, 'n_estimators': 252, 'max_depth': 2}. Best is trial 21 with value: 2.2177106709350194.\u001b[0m\n"
     ]
    },
    {
     "name": "stdout",
     "output_type": "stream",
     "text": [
      "[LightGBM] [Warning] lambda_l1 is set=0.20064520190968932, reg_alpha=0.0 will be ignored. Current value: lambda_l1=0.20064520190968932\n",
      "[LightGBM] [Warning] bagging_fraction is set=0.4933447175408986, subsample=1.0 will be ignored. Current value: bagging_fraction=0.4933447175408986\n",
      "[LightGBM] [Warning] feature_fraction is set=0.07433847396978575, colsample_bytree=1.0 will be ignored. Current value: feature_fraction=0.07433847396978575\n",
      "[LightGBM] [Warning] lambda_l2 is set=0.047244908619923136, reg_lambda=0.0 will be ignored. Current value: lambda_l2=0.047244908619923136\n"
     ]
    },
    {
     "name": "stderr",
     "output_type": "stream",
     "text": [
      "\u001b[32m[I 2023-02-13 15:12:48,393]\u001b[0m Trial 28 finished with value: 2.261790767730764 and parameters: {'feature_fraction': 0.07433847396978575, 'num_leaves': 65, 'bagging_fraction': 0.4933447175408986, 'lambda_l1': 0.20064520190968932, 'lambda_l2': 0.047244908619923136, 'n_estimators': 270, 'max_depth': 2}. Best is trial 21 with value: 2.2177106709350194.\u001b[0m\n"
     ]
    },
    {
     "name": "stdout",
     "output_type": "stream",
     "text": [
      "[LightGBM] [Warning] lambda_l1 is set=0.8626068414042901, reg_alpha=0.0 will be ignored. Current value: lambda_l1=0.8626068414042901\n",
      "[LightGBM] [Warning] bagging_fraction is set=0.4404359486561037, subsample=1.0 will be ignored. Current value: bagging_fraction=0.4404359486561037\n",
      "[LightGBM] [Warning] feature_fraction is set=0.38992563832047555, colsample_bytree=1.0 will be ignored. Current value: feature_fraction=0.38992563832047555\n",
      "[LightGBM] [Warning] lambda_l2 is set=0.9772053425660612, reg_lambda=0.0 will be ignored. Current value: lambda_l2=0.9772053425660612\n"
     ]
    },
    {
     "name": "stderr",
     "output_type": "stream",
     "text": [
      "\u001b[32m[I 2023-02-13 15:12:49,011]\u001b[0m Trial 29 finished with value: 2.2637860727102197 and parameters: {'feature_fraction': 0.38992563832047555, 'num_leaves': 58, 'bagging_fraction': 0.4404359486561037, 'lambda_l1': 0.8626068414042901, 'lambda_l2': 0.9772053425660612, 'n_estimators': 207, 'max_depth': 2}. Best is trial 21 with value: 2.2177106709350194.\u001b[0m\n"
     ]
    },
    {
     "name": "stdout",
     "output_type": "stream",
     "text": [
      "[LightGBM] [Warning] lambda_l1 is set=1.2385317624872327, reg_alpha=0.0 will be ignored. Current value: lambda_l1=1.2385317624872327\n",
      "[LightGBM] [Warning] bagging_fraction is set=0.47677511424627445, subsample=1.0 will be ignored. Current value: bagging_fraction=0.47677511424627445\n",
      "[LightGBM] [Warning] feature_fraction is set=0.13406318671885128, colsample_bytree=1.0 will be ignored. Current value: feature_fraction=0.13406318671885128\n",
      "[LightGBM] [Warning] lambda_l2 is set=0.24085523335023162, reg_lambda=0.0 will be ignored. Current value: lambda_l2=0.24085523335023162\n"
     ]
    },
    {
     "name": "stderr",
     "output_type": "stream",
     "text": [
      "\u001b[32m[I 2023-02-13 15:12:49,595]\u001b[0m Trial 30 finished with value: 2.244268542564649 and parameters: {'feature_fraction': 0.13406318671885128, 'num_leaves': 34, 'bagging_fraction': 0.47677511424627445, 'lambda_l1': 1.2385317624872327, 'lambda_l2': 0.24085523335023162, 'n_estimators': 255, 'max_depth': 2}. Best is trial 21 with value: 2.2177106709350194.\u001b[0m\n"
     ]
    },
    {
     "name": "stdout",
     "output_type": "stream",
     "text": [
      "[LightGBM] [Warning] lambda_l1 is set=8.66334880223592, reg_alpha=0.0 will be ignored. Current value: lambda_l1=8.66334880223592\n",
      "[LightGBM] [Warning] bagging_fraction is set=0.5380408214935184, subsample=1.0 will be ignored. Current value: bagging_fraction=0.5380408214935184\n",
      "[LightGBM] [Warning] feature_fraction is set=0.15173872145054346, colsample_bytree=1.0 will be ignored. Current value: feature_fraction=0.15173872145054346\n",
      "[LightGBM] [Warning] lambda_l2 is set=0.004340472861288242, reg_lambda=0.0 will be ignored. Current value: lambda_l2=0.004340472861288242\n"
     ]
    },
    {
     "name": "stderr",
     "output_type": "stream",
     "text": [
      "\u001b[32m[I 2023-02-13 15:12:50,290]\u001b[0m Trial 31 finished with value: 2.2616022814368084 and parameters: {'feature_fraction': 0.15173872145054346, 'num_leaves': 111, 'bagging_fraction': 0.5380408214935184, 'lambda_l1': 8.66334880223592, 'lambda_l2': 0.004340472861288242, 'n_estimators': 293, 'max_depth': 3}. Best is trial 21 with value: 2.2177106709350194.\u001b[0m\n"
     ]
    },
    {
     "name": "stdout",
     "output_type": "stream",
     "text": [
      "[LightGBM] [Warning] lambda_l1 is set=2.627017874008513, reg_alpha=0.0 will be ignored. Current value: lambda_l1=2.627017874008513\n",
      "[LightGBM] [Warning] bagging_fraction is set=0.5519984941050226, subsample=1.0 will be ignored. Current value: bagging_fraction=0.5519984941050226\n",
      "[LightGBM] [Warning] feature_fraction is set=0.07725804306176345, colsample_bytree=1.0 will be ignored. Current value: feature_fraction=0.07725804306176345\n",
      "[LightGBM] [Warning] lambda_l2 is set=0.0015125883531105545, reg_lambda=0.0 will be ignored. Current value: lambda_l2=0.0015125883531105545\n"
     ]
    },
    {
     "name": "stderr",
     "output_type": "stream",
     "text": [
      "\u001b[32m[I 2023-02-13 15:12:50,834]\u001b[0m Trial 32 finished with value: 2.231670784884219 and parameters: {'feature_fraction': 0.07725804306176345, 'num_leaves': 88, 'bagging_fraction': 0.5519984941050226, 'lambda_l1': 2.627017874008513, 'lambda_l2': 0.0015125883531105545, 'n_estimators': 241, 'max_depth': 3}. Best is trial 21 with value: 2.2177106709350194.\u001b[0m\n"
     ]
    },
    {
     "name": "stdout",
     "output_type": "stream",
     "text": [
      "[LightGBM] [Warning] lambda_l1 is set=2.4006004865018205, reg_alpha=0.0 will be ignored. Current value: lambda_l1=2.4006004865018205\n",
      "[LightGBM] [Warning] bagging_fraction is set=0.569718249830189, subsample=1.0 will be ignored. Current value: bagging_fraction=0.569718249830189\n",
      "[LightGBM] [Warning] feature_fraction is set=0.07932630513699745, colsample_bytree=1.0 will be ignored. Current value: feature_fraction=0.07932630513699745\n",
      "[LightGBM] [Warning] lambda_l2 is set=0.04455639933930744, reg_lambda=0.0 will be ignored. Current value: lambda_l2=0.04455639933930744\n"
     ]
    },
    {
     "name": "stderr",
     "output_type": "stream",
     "text": [
      "\u001b[32m[I 2023-02-13 15:12:51,308]\u001b[0m Trial 33 finished with value: 2.26372407962506 and parameters: {'feature_fraction': 0.07932630513699745, 'num_leaves': 86, 'bagging_fraction': 0.569718249830189, 'lambda_l1': 2.4006004865018205, 'lambda_l2': 0.04455639933930744, 'n_estimators': 244, 'max_depth': 2}. Best is trial 21 with value: 2.2177106709350194.\u001b[0m\n"
     ]
    },
    {
     "name": "stdout",
     "output_type": "stream",
     "text": [
      "[LightGBM] [Warning] lambda_l1 is set=0.3095130678350137, reg_alpha=0.0 will be ignored. Current value: lambda_l1=0.3095130678350137\n",
      "[LightGBM] [Warning] bagging_fraction is set=0.5006507478883355, subsample=1.0 will be ignored. Current value: bagging_fraction=0.5006507478883355\n",
      "[LightGBM] [Warning] feature_fraction is set=0.18503345748186784, colsample_bytree=1.0 will be ignored. Current value: feature_fraction=0.18503345748186784\n",
      "[LightGBM] [Warning] lambda_l2 is set=0.0005723856988667827, reg_lambda=0.0 will be ignored. Current value: lambda_l2=0.0005723856988667827\n"
     ]
    },
    {
     "name": "stderr",
     "output_type": "stream",
     "text": [
      "\u001b[32m[I 2023-02-13 15:12:51,988]\u001b[0m Trial 34 finished with value: 2.252257483531003 and parameters: {'feature_fraction': 0.18503345748186784, 'num_leaves': 148, 'bagging_fraction': 0.5006507478883355, 'lambda_l1': 0.3095130678350137, 'lambda_l2': 0.0005723856988667827, 'n_estimators': 263, 'max_depth': 3}. Best is trial 21 with value: 2.2177106709350194.\u001b[0m\n"
     ]
    },
    {
     "name": "stdout",
     "output_type": "stream",
     "text": [
      "[LightGBM] [Warning] lambda_l1 is set=0.06235292437688866, reg_alpha=0.0 will be ignored. Current value: lambda_l1=0.06235292437688866\n",
      "[LightGBM] [Warning] bagging_fraction is set=0.4043040106625315, subsample=1.0 will be ignored. Current value: bagging_fraction=0.4043040106625315\n",
      "[LightGBM] [Warning] feature_fraction is set=0.065062915759973, colsample_bytree=1.0 will be ignored. Current value: feature_fraction=0.065062915759973\n",
      "[LightGBM] [Warning] lambda_l2 is set=0.003671488075284118, reg_lambda=0.0 will be ignored. Current value: lambda_l2=0.003671488075284118\n"
     ]
    },
    {
     "name": "stderr",
     "output_type": "stream",
     "text": [
      "\u001b[32m[I 2023-02-13 15:12:52,481]\u001b[0m Trial 35 finished with value: 2.2166729136680936 and parameters: {'feature_fraction': 0.065062915759973, 'num_leaves': 132, 'bagging_fraction': 0.4043040106625315, 'lambda_l1': 0.06235292437688866, 'lambda_l2': 0.003671488075284118, 'n_estimators': 203, 'max_depth': 3}. Best is trial 35 with value: 2.2166729136680936.\u001b[0m\n"
     ]
    },
    {
     "name": "stdout",
     "output_type": "stream",
     "text": [
      "[LightGBM] [Warning] lambda_l1 is set=0.05784110339396261, reg_alpha=0.0 will be ignored. Current value: lambda_l1=0.05784110339396261\n",
      "[LightGBM] [Warning] bagging_fraction is set=0.4030245002228706, subsample=1.0 will be ignored. Current value: bagging_fraction=0.4030245002228706\n",
      "[LightGBM] [Warning] feature_fraction is set=0.05080131285607013, colsample_bytree=1.0 will be ignored. Current value: feature_fraction=0.05080131285607013\n",
      "[LightGBM] [Warning] lambda_l2 is set=0.0030055291791154775, reg_lambda=0.0 will be ignored. Current value: lambda_l2=0.0030055291791154775\n"
     ]
    },
    {
     "name": "stderr",
     "output_type": "stream",
     "text": [
      "\u001b[32m[I 2023-02-13 15:12:52,909]\u001b[0m Trial 36 finished with value: 2.2518961119204355 and parameters: {'feature_fraction': 0.05080131285607013, 'num_leaves': 135, 'bagging_fraction': 0.4030245002228706, 'lambda_l1': 0.05784110339396261, 'lambda_l2': 0.0030055291791154775, 'n_estimators': 205, 'max_depth': 2}. Best is trial 35 with value: 2.2166729136680936.\u001b[0m\n"
     ]
    },
    {
     "name": "stdout",
     "output_type": "stream",
     "text": [
      "[LightGBM] [Warning] lambda_l1 is set=0.44355970584645643, reg_alpha=0.0 will be ignored. Current value: lambda_l1=0.44355970584645643\n",
      "[LightGBM] [Warning] bagging_fraction is set=0.4419005570355029, subsample=1.0 will be ignored. Current value: bagging_fraction=0.4419005570355029\n",
      "[LightGBM] [Warning] feature_fraction is set=0.0718941958719333, colsample_bytree=1.0 will be ignored. Current value: feature_fraction=0.0718941958719333\n",
      "[LightGBM] [Warning] lambda_l2 is set=0.0009483085353727568, reg_lambda=0.0 will be ignored. Current value: lambda_l2=0.0009483085353727568\n"
     ]
    },
    {
     "name": "stderr",
     "output_type": "stream",
     "text": [
      "\u001b[32m[I 2023-02-13 15:12:53,512]\u001b[0m Trial 37 finished with value: 2.2311674558739165 and parameters: {'feature_fraction': 0.0718941958719333, 'num_leaves': 163, 'bagging_fraction': 0.4419005570355029, 'lambda_l1': 0.44355970584645643, 'lambda_l2': 0.0009483085353727568, 'n_estimators': 300, 'max_depth': 3}. Best is trial 35 with value: 2.2166729136680936.\u001b[0m\n"
     ]
    },
    {
     "name": "stdout",
     "output_type": "stream",
     "text": [
      "[LightGBM] [Warning] lambda_l1 is set=0.04308742700766763, reg_alpha=0.0 will be ignored. Current value: lambda_l1=0.04308742700766763\n",
      "[LightGBM] [Warning] bagging_fraction is set=0.4444902031043686, subsample=1.0 will be ignored. Current value: bagging_fraction=0.4444902031043686\n",
      "[LightGBM] [Warning] feature_fraction is set=0.00026613783750947806, colsample_bytree=1.0 will be ignored. Current value: feature_fraction=0.00026613783750947806\n",
      "[LightGBM] [Warning] lambda_l2 is set=0.00018998812447204255, reg_lambda=0.0 will be ignored. Current value: lambda_l2=0.00018998812447204255\n"
     ]
    },
    {
     "name": "stderr",
     "output_type": "stream",
     "text": [
      "\u001b[32m[I 2023-02-13 15:12:54,095]\u001b[0m Trial 38 finished with value: 2.311330785887989 and parameters: {'feature_fraction': 0.00026613783750947806, 'num_leaves': 174, 'bagging_fraction': 0.4444902031043686, 'lambda_l1': 0.04308742700766763, 'lambda_l2': 0.00018998812447204255, 'n_estimators': 294, 'max_depth': 4}. Best is trial 35 with value: 2.2166729136680936.\u001b[0m\n"
     ]
    },
    {
     "name": "stdout",
     "output_type": "stream",
     "text": [
      "[LightGBM] [Warning] lambda_l1 is set=0.28041293940136724, reg_alpha=0.0 will be ignored. Current value: lambda_l1=0.28041293940136724\n",
      "[LightGBM] [Warning] bagging_fraction is set=0.4274109343072907, subsample=1.0 will be ignored. Current value: bagging_fraction=0.4274109343072907\n",
      "[LightGBM] [Warning] feature_fraction is set=0.14898543617026871, colsample_bytree=1.0 will be ignored. Current value: feature_fraction=0.14898543617026871\n",
      "[LightGBM] [Warning] lambda_l2 is set=2.871043490437467, reg_lambda=0.0 will be ignored. Current value: lambda_l2=2.871043490437467\n"
     ]
    },
    {
     "name": "stderr",
     "output_type": "stream",
     "text": [
      "\u001b[32m[I 2023-02-13 15:12:54,949]\u001b[0m Trial 39 finished with value: 2.246046082446479 and parameters: {'feature_fraction': 0.14898543617026871, 'num_leaves': 163, 'bagging_fraction': 0.4274109343072907, 'lambda_l1': 0.28041293940136724, 'lambda_l2': 2.871043490437467, 'n_estimators': 300, 'max_depth': 4}. Best is trial 35 with value: 2.2166729136680936.\u001b[0m\n"
     ]
    },
    {
     "name": "stdout",
     "output_type": "stream",
     "text": [
      "[LightGBM] [Warning] lambda_l1 is set=0.12052295581262054, reg_alpha=0.0 will be ignored. Current value: lambda_l1=0.12052295581262054\n",
      "[LightGBM] [Warning] bagging_fraction is set=0.4624133803200423, subsample=1.0 will be ignored. Current value: bagging_fraction=0.4624133803200423\n",
      "[LightGBM] [Warning] feature_fraction is set=0.062237655905712806, colsample_bytree=1.0 will be ignored. Current value: feature_fraction=0.062237655905712806\n",
      "[LightGBM] [Warning] lambda_l2 is set=0.09315760136404519, reg_lambda=0.0 will be ignored. Current value: lambda_l2=0.09315760136404519\n"
     ]
    },
    {
     "name": "stderr",
     "output_type": "stream",
     "text": [
      "\u001b[32m[I 2023-02-13 15:12:55,518]\u001b[0m Trial 40 finished with value: 2.21128073310643 and parameters: {'feature_fraction': 0.062237655905712806, 'num_leaves': 129, 'bagging_fraction': 0.4624133803200423, 'lambda_l1': 0.12052295581262054, 'lambda_l2': 0.09315760136404519, 'n_estimators': 279, 'max_depth': 3}. Best is trial 40 with value: 2.21128073310643.\u001b[0m\n"
     ]
    },
    {
     "name": "stdout",
     "output_type": "stream",
     "text": [
      "[LightGBM] [Warning] lambda_l1 is set=0.10615159766201077, reg_alpha=0.0 will be ignored. Current value: lambda_l1=0.10615159766201077\n",
      "[LightGBM] [Warning] bagging_fraction is set=0.4666627240338685, subsample=1.0 will be ignored. Current value: bagging_fraction=0.4666627240338685\n",
      "[LightGBM] [Warning] feature_fraction is set=0.0653682196618316, colsample_bytree=1.0 will be ignored. Current value: feature_fraction=0.0653682196618316\n",
      "[LightGBM] [Warning] lambda_l2 is set=0.006065388016254188, reg_lambda=0.0 will be ignored. Current value: lambda_l2=0.006065388016254188\n"
     ]
    },
    {
     "name": "stderr",
     "output_type": "stream",
     "text": [
      "\u001b[32m[I 2023-02-13 15:12:56,090]\u001b[0m Trial 41 finished with value: 2.2013973327097123 and parameters: {'feature_fraction': 0.0653682196618316, 'num_leaves': 125, 'bagging_fraction': 0.4666627240338685, 'lambda_l1': 0.10615159766201077, 'lambda_l2': 0.006065388016254188, 'n_estimators': 280, 'max_depth': 3}. Best is trial 41 with value: 2.2013973327097123.\u001b[0m\n"
     ]
    },
    {
     "name": "stdout",
     "output_type": "stream",
     "text": [
      "[LightGBM] [Warning] lambda_l1 is set=0.1224812565807102, reg_alpha=0.0 will be ignored. Current value: lambda_l1=0.1224812565807102\n",
      "[LightGBM] [Warning] bagging_fraction is set=0.47119491335460156, subsample=1.0 will be ignored. Current value: bagging_fraction=0.47119491335460156\n",
      "[LightGBM] [Warning] feature_fraction is set=0.050364707151053165, colsample_bytree=1.0 will be ignored. Current value: feature_fraction=0.050364707151053165\n",
      "[LightGBM] [Warning] lambda_l2 is set=0.10332073992879588, reg_lambda=0.0 will be ignored. Current value: lambda_l2=0.10332073992879588\n"
     ]
    },
    {
     "name": "stderr",
     "output_type": "stream",
     "text": [
      "\u001b[32m[I 2023-02-13 15:12:56,636]\u001b[0m Trial 42 finished with value: 2.217906760726952 and parameters: {'feature_fraction': 0.050364707151053165, 'num_leaves': 127, 'bagging_fraction': 0.47119491335460156, 'lambda_l1': 0.1224812565807102, 'lambda_l2': 0.10332073992879588, 'n_estimators': 277, 'max_depth': 3}. Best is trial 41 with value: 2.2013973327097123.\u001b[0m\n"
     ]
    },
    {
     "name": "stdout",
     "output_type": "stream",
     "text": [
      "[LightGBM] [Warning] lambda_l1 is set=0.03484140668680957, reg_alpha=0.0 will be ignored. Current value: lambda_l1=0.03484140668680957\n",
      "[LightGBM] [Warning] bagging_fraction is set=0.4749277364436966, subsample=1.0 will be ignored. Current value: bagging_fraction=0.4749277364436966\n",
      "[LightGBM] [Warning] feature_fraction is set=0.04779771083244585, colsample_bytree=1.0 will be ignored. Current value: feature_fraction=0.04779771083244585\n",
      "[LightGBM] [Warning] lambda_l2 is set=0.0801925960206311, reg_lambda=0.0 will be ignored. Current value: lambda_l2=0.0801925960206311\n"
     ]
    },
    {
     "name": "stderr",
     "output_type": "stream",
     "text": [
      "\u001b[32m[I 2023-02-13 15:12:57,185]\u001b[0m Trial 43 finished with value: 2.210019724321145 and parameters: {'feature_fraction': 0.04779771083244585, 'num_leaves': 130, 'bagging_fraction': 0.4749277364436966, 'lambda_l1': 0.03484140668680957, 'lambda_l2': 0.0801925960206311, 'n_estimators': 280, 'max_depth': 3}. Best is trial 41 with value: 2.2013973327097123.\u001b[0m\n"
     ]
    },
    {
     "name": "stdout",
     "output_type": "stream",
     "text": [
      "[LightGBM] [Warning] lambda_l1 is set=0.03703483596207693, reg_alpha=0.0 will be ignored. Current value: lambda_l1=0.03703483596207693\n",
      "[LightGBM] [Warning] bagging_fraction is set=0.4009991698356805, subsample=1.0 will be ignored. Current value: bagging_fraction=0.4009991698356805\n",
      "[LightGBM] [Warning] feature_fraction is set=0.1493405977159612, colsample_bytree=1.0 will be ignored. Current value: feature_fraction=0.1493405977159612\n",
      "[LightGBM] [Warning] lambda_l2 is set=0.005209542981228116, reg_lambda=0.0 will be ignored. Current value: lambda_l2=0.005209542981228116\n"
     ]
    },
    {
     "name": "stderr",
     "output_type": "stream",
     "text": [
      "\u001b[32m[I 2023-02-13 15:12:57,720]\u001b[0m Trial 44 finished with value: 2.245384171486073 and parameters: {'feature_fraction': 0.1493405977159612, 'num_leaves': 138, 'bagging_fraction': 0.4009991698356805, 'lambda_l1': 0.03703483596207693, 'lambda_l2': 0.005209542981228116, 'n_estimators': 183, 'max_depth': 3}. Best is trial 41 with value: 2.2013973327097123.\u001b[0m\n"
     ]
    },
    {
     "name": "stdout",
     "output_type": "stream",
     "text": [
      "[LightGBM] [Warning] lambda_l1 is set=0.006599013990877955, reg_alpha=0.0 will be ignored. Current value: lambda_l1=0.006599013990877955\n",
      "[LightGBM] [Warning] bagging_fraction is set=0.5134549774086901, subsample=1.0 will be ignored. Current value: bagging_fraction=0.5134549774086901\n",
      "[LightGBM] [Warning] feature_fraction is set=0.0036806115443790144, colsample_bytree=1.0 will be ignored. Current value: feature_fraction=0.0036806115443790144\n",
      "[LightGBM] [Warning] lambda_l2 is set=0.052755568881204265, reg_lambda=0.0 will be ignored. Current value: lambda_l2=0.052755568881204265\n"
     ]
    },
    {
     "name": "stderr",
     "output_type": "stream",
     "text": [
      "\u001b[32m[I 2023-02-13 15:12:58,229]\u001b[0m Trial 45 finished with value: 2.3148702056797483 and parameters: {'feature_fraction': 0.0036806115443790144, 'num_leaves': 118, 'bagging_fraction': 0.5134549774086901, 'lambda_l1': 0.006599013990877955, 'lambda_l2': 0.052755568881204265, 'n_estimators': 278, 'max_depth': 3}. Best is trial 41 with value: 2.2013973327097123.\u001b[0m\n"
     ]
    },
    {
     "name": "stdout",
     "output_type": "stream",
     "text": [
      "[LightGBM] [Warning] lambda_l1 is set=0.02001448023318089, reg_alpha=0.0 will be ignored. Current value: lambda_l1=0.02001448023318089\n",
      "[LightGBM] [Warning] bagging_fraction is set=0.4857592244191805, subsample=1.0 will be ignored. Current value: bagging_fraction=0.4857592244191805\n",
      "[LightGBM] [Warning] feature_fraction is set=0.04045727842138522, colsample_bytree=1.0 will be ignored. Current value: feature_fraction=0.04045727842138522\n",
      "[LightGBM] [Warning] lambda_l2 is set=0.006710376548423538, reg_lambda=0.0 will be ignored. Current value: lambda_l2=0.006710376548423538\n"
     ]
    },
    {
     "name": "stderr",
     "output_type": "stream",
     "text": [
      "\u001b[32m[I 2023-02-13 15:12:58,729]\u001b[0m Trial 46 finished with value: 2.2502830987429965 and parameters: {'feature_fraction': 0.04045727842138522, 'num_leaves': 152, 'bagging_fraction': 0.4857592244191805, 'lambda_l1': 0.02001448023318089, 'lambda_l2': 0.006710376548423538, 'n_estimators': 175, 'max_depth': 4}. Best is trial 41 with value: 2.2013973327097123.\u001b[0m\n"
     ]
    },
    {
     "name": "stdout",
     "output_type": "stream",
     "text": [
      "[LightGBM] [Warning] lambda_l1 is set=0.11336317384889907, reg_alpha=0.0 will be ignored. Current value: lambda_l1=0.11336317384889907\n",
      "[LightGBM] [Warning] bagging_fraction is set=0.45471548282624724, subsample=1.0 will be ignored. Current value: bagging_fraction=0.45471548282624724\n",
      "[LightGBM] [Warning] feature_fraction is set=0.22559637158359558, colsample_bytree=1.0 will be ignored. Current value: feature_fraction=0.22559637158359558\n",
      "[LightGBM] [Warning] lambda_l2 is set=0.13743659516861653, reg_lambda=0.0 will be ignored. Current value: lambda_l2=0.13743659516861653\n"
     ]
    },
    {
     "name": "stderr",
     "output_type": "stream",
     "text": [
      "\u001b[32m[I 2023-02-13 15:12:59,585]\u001b[0m Trial 47 finished with value: 2.2822771598857647 and parameters: {'feature_fraction': 0.22559637158359558, 'num_leaves': 112, 'bagging_fraction': 0.45471548282624724, 'lambda_l1': 0.11336317384889907, 'lambda_l2': 0.13743659516861653, 'n_estimators': 242, 'max_depth': 4}. Best is trial 41 with value: 2.2013973327097123.\u001b[0m\n"
     ]
    },
    {
     "name": "stdout",
     "output_type": "stream",
     "text": [
      "[LightGBM] [Warning] lambda_l1 is set=0.0016764651292084812, reg_alpha=0.0 will be ignored. Current value: lambda_l1=0.0016764651292084812\n",
      "[LightGBM] [Warning] bagging_fraction is set=0.5252292057289007, subsample=1.0 will be ignored. Current value: bagging_fraction=0.5252292057289007\n",
      "[LightGBM] [Warning] feature_fraction is set=0.10674518469440801, colsample_bytree=1.0 will be ignored. Current value: feature_fraction=0.10674518469440801\n",
      "[LightGBM] [Warning] lambda_l2 is set=0.025562241129393967, reg_lambda=0.0 will be ignored. Current value: lambda_l2=0.025562241129393967\n"
     ]
    },
    {
     "name": "stderr",
     "output_type": "stream",
     "text": [
      "\u001b[32m[I 2023-02-13 15:13:00,118]\u001b[0m Trial 48 finished with value: 2.2263869375468053 and parameters: {'feature_fraction': 0.10674518469440801, 'num_leaves': 134, 'bagging_fraction': 0.5252292057289007, 'lambda_l1': 0.0016764651292084812, 'lambda_l2': 0.025562241129393967, 'n_estimators': 211, 'max_depth': 3}. Best is trial 41 with value: 2.2013973327097123.\u001b[0m\n"
     ]
    },
    {
     "name": "stdout",
     "output_type": "stream",
     "text": [
      "[LightGBM] [Warning] lambda_l1 is set=0.005705487829560623, reg_alpha=0.0 will be ignored. Current value: lambda_l1=0.005705487829560623\n",
      "[LightGBM] [Warning] bagging_fraction is set=0.426495689781627, subsample=1.0 will be ignored. Current value: bagging_fraction=0.426495689781627\n",
      "[LightGBM] [Warning] feature_fraction is set=0.05122884948934317, colsample_bytree=1.0 will be ignored. Current value: feature_fraction=0.05122884948934317\n",
      "[LightGBM] [Warning] lambda_l2 is set=0.009444271620091647, reg_lambda=0.0 will be ignored. Current value: lambda_l2=0.009444271620091647\n"
     ]
    },
    {
     "name": "stderr",
     "output_type": "stream",
     "text": [
      "\u001b[32m[I 2023-02-13 15:13:00,676]\u001b[0m Trial 49 finished with value: 2.213754816870581 and parameters: {'feature_fraction': 0.05122884948934317, 'num_leaves': 122, 'bagging_fraction': 0.426495689781627, 'lambda_l1': 0.005705487829560623, 'lambda_l2': 0.009444271620091647, 'n_estimators': 283, 'max_depth': 3}. Best is trial 41 with value: 2.2013973327097123.\u001b[0m\n"
     ]
    },
    {
     "name": "stdout",
     "output_type": "stream",
     "text": [
      "[LightGBM] [Warning] lambda_l1 is set=0.006309847616809999, reg_alpha=0.0 will be ignored. Current value: lambda_l1=0.006309847616809999\n",
      "[LightGBM] [Warning] bagging_fraction is set=0.4229706379273512, subsample=1.0 will be ignored. Current value: bagging_fraction=0.4229706379273512\n",
      "[LightGBM] [Warning] feature_fraction is set=0.05815273904509379, colsample_bytree=1.0 will be ignored. Current value: feature_fraction=0.05815273904509379\n",
      "[LightGBM] [Warning] lambda_l2 is set=0.006053755738578729, reg_lambda=0.0 will be ignored. Current value: lambda_l2=0.006053755738578729\n"
     ]
    },
    {
     "name": "stderr",
     "output_type": "stream",
     "text": [
      "\u001b[32m[I 2023-02-13 15:13:01,237]\u001b[0m Trial 50 finished with value: 2.232723119202482 and parameters: {'feature_fraction': 0.05815273904509379, 'num_leaves': 178, 'bagging_fraction': 0.4229706379273512, 'lambda_l1': 0.006309847616809999, 'lambda_l2': 0.006053755738578729, 'n_estimators': 284, 'max_depth': 3}. Best is trial 41 with value: 2.2013973327097123.\u001b[0m\n"
     ]
    },
    {
     "name": "stdout",
     "output_type": "stream",
     "text": [
      "[LightGBM] [Warning] lambda_l1 is set=0.021718425702895564, reg_alpha=0.0 will be ignored. Current value: lambda_l1=0.021718425702895564\n",
      "[LightGBM] [Warning] bagging_fraction is set=0.42279837123835307, subsample=1.0 will be ignored. Current value: bagging_fraction=0.42279837123835307\n",
      "[LightGBM] [Warning] feature_fraction is set=0.03658622519161865, colsample_bytree=1.0 will be ignored. Current value: feature_fraction=0.03658622519161865\n",
      "[LightGBM] [Warning] lambda_l2 is set=0.07824723987521716, reg_lambda=0.0 will be ignored. Current value: lambda_l2=0.07824723987521716\n"
     ]
    },
    {
     "name": "stderr",
     "output_type": "stream",
     "text": [
      "\u001b[32m[I 2023-02-13 15:13:01,766]\u001b[0m Trial 51 finished with value: 2.2378141719951112 and parameters: {'feature_fraction': 0.03658622519161865, 'num_leaves': 123, 'bagging_fraction': 0.42279837123835307, 'lambda_l1': 0.021718425702895564, 'lambda_l2': 0.07824723987521716, 'n_estimators': 268, 'max_depth': 3}. Best is trial 41 with value: 2.2013973327097123.\u001b[0m\n"
     ]
    },
    {
     "name": "stdout",
     "output_type": "stream",
     "text": [
      "[LightGBM] [Warning] lambda_l1 is set=0.06943706374902722, reg_alpha=0.0 will be ignored. Current value: lambda_l1=0.06943706374902722\n",
      "[LightGBM] [Warning] bagging_fraction is set=0.4621568301932336, subsample=1.0 will be ignored. Current value: bagging_fraction=0.4621568301932336\n",
      "[LightGBM] [Warning] feature_fraction is set=0.16209431102408683, colsample_bytree=1.0 will be ignored. Current value: feature_fraction=0.16209431102408683\n",
      "[LightGBM] [Warning] lambda_l2 is set=0.008998467365325596, reg_lambda=0.0 will be ignored. Current value: lambda_l2=0.008998467365325596\n"
     ]
    },
    {
     "name": "stderr",
     "output_type": "stream",
     "text": [
      "\u001b[32m[I 2023-02-13 15:13:02,453]\u001b[0m Trial 52 finished with value: 2.247852601188045 and parameters: {'feature_fraction': 0.16209431102408683, 'num_leaves': 108, 'bagging_fraction': 0.4621568301932336, 'lambda_l1': 0.06943706374902722, 'lambda_l2': 0.008998467365325596, 'n_estimators': 287, 'max_depth': 3}. Best is trial 41 with value: 2.2013973327097123.\u001b[0m\n"
     ]
    },
    {
     "name": "stdout",
     "output_type": "stream",
     "text": [
      "[LightGBM] [Warning] lambda_l1 is set=0.010226319426189828, reg_alpha=0.0 will be ignored. Current value: lambda_l1=0.010226319426189828\n",
      "[LightGBM] [Warning] bagging_fraction is set=0.4991373484021369, subsample=1.0 will be ignored. Current value: bagging_fraction=0.4991373484021369\n",
      "[LightGBM] [Warning] feature_fraction is set=0.11918917113609907, colsample_bytree=1.0 will be ignored. Current value: feature_fraction=0.11918917113609907\n",
      "[LightGBM] [Warning] lambda_l2 is set=0.03048995309422614, reg_lambda=0.0 will be ignored. Current value: lambda_l2=0.03048995309422614\n"
     ]
    },
    {
     "name": "stderr",
     "output_type": "stream",
     "text": [
      "\u001b[32m[I 2023-02-13 15:13:03,054]\u001b[0m Trial 53 finished with value: 2.226344832225576 and parameters: {'feature_fraction': 0.11918917113609907, 'num_leaves': 147, 'bagging_fraction': 0.4991373484021369, 'lambda_l1': 0.010226319426189828, 'lambda_l2': 0.03048995309422614, 'n_estimators': 257, 'max_depth': 3}. Best is trial 41 with value: 2.2013973327097123.\u001b[0m\n"
     ]
    },
    {
     "name": "stdout",
     "output_type": "stream",
     "text": [
      "[LightGBM] [Warning] lambda_l1 is set=0.002454076289577286, reg_alpha=0.0 will be ignored. Current value: lambda_l1=0.002454076289577286\n",
      "[LightGBM] [Warning] bagging_fraction is set=0.42643565164811487, subsample=1.0 will be ignored. Current value: bagging_fraction=0.42643565164811487\n",
      "[LightGBM] [Warning] feature_fraction is set=0.0003306117770340844, colsample_bytree=1.0 will be ignored. Current value: feature_fraction=0.0003306117770340844\n",
      "[LightGBM] [Warning] lambda_l2 is set=0.31649012043361086, reg_lambda=0.0 will be ignored. Current value: lambda_l2=0.31649012043361086\n"
     ]
    },
    {
     "name": "stderr",
     "output_type": "stream",
     "text": [
      "\u001b[32m[I 2023-02-13 15:13:03,462]\u001b[0m Trial 54 finished with value: 2.3724499913761665 and parameters: {'feature_fraction': 0.0003306117770340844, 'num_leaves': 140, 'bagging_fraction': 0.42643565164811487, 'lambda_l1': 0.002454076289577286, 'lambda_l2': 0.31649012043361086, 'n_estimators': 148, 'max_depth': 3}. Best is trial 41 with value: 2.2013973327097123.\u001b[0m\n"
     ]
    },
    {
     "name": "stdout",
     "output_type": "stream",
     "text": [
      "[LightGBM] [Warning] lambda_l1 is set=0.02902857736144655, reg_alpha=0.0 will be ignored. Current value: lambda_l1=0.02902857736144655\n",
      "[LightGBM] [Warning] bagging_fraction is set=0.4490846205168492, subsample=1.0 will be ignored. Current value: bagging_fraction=0.4490846205168492\n",
      "[LightGBM] [Warning] feature_fraction is set=0.10484001946697401, colsample_bytree=1.0 will be ignored. Current value: feature_fraction=0.10484001946697401\n",
      "[LightGBM] [Warning] lambda_l2 is set=0.0027704666494789546, reg_lambda=0.0 will be ignored. Current value: lambda_l2=0.0027704666494789546\n"
     ]
    },
    {
     "name": "stderr",
     "output_type": "stream",
     "text": [
      "\u001b[32m[I 2023-02-13 15:13:04,126]\u001b[0m Trial 55 finished with value: 2.2346432107817233 and parameters: {'feature_fraction': 0.10484001946697401, 'num_leaves': 100, 'bagging_fraction': 0.4490846205168492, 'lambda_l1': 0.02902857736144655, 'lambda_l2': 0.0027704666494789546, 'n_estimators': 237, 'max_depth': 4}. Best is trial 41 with value: 2.2013973327097123.\u001b[0m\n"
     ]
    },
    {
     "name": "stdout",
     "output_type": "stream",
     "text": [
      "[LightGBM] [Warning] lambda_l1 is set=0.15234514273908048, reg_alpha=0.0 will be ignored. Current value: lambda_l1=0.15234514273908048\n",
      "[LightGBM] [Warning] bagging_fraction is set=0.5286022674032342, subsample=1.0 will be ignored. Current value: bagging_fraction=0.5286022674032342\n",
      "[LightGBM] [Warning] feature_fraction is set=0.17327226173937876, colsample_bytree=1.0 will be ignored. Current value: feature_fraction=0.17327226173937876\n",
      "[LightGBM] [Warning] lambda_l2 is set=0.017227213613729322, reg_lambda=0.0 will be ignored. Current value: lambda_l2=0.017227213613729322\n"
     ]
    },
    {
     "name": "stderr",
     "output_type": "stream",
     "text": [
      "\u001b[32m[I 2023-02-13 15:13:04,696]\u001b[0m Trial 56 finished with value: 2.2223784732852407 and parameters: {'feature_fraction': 0.17327226173937876, 'num_leaves': 128, 'bagging_fraction': 0.5286022674032342, 'lambda_l1': 0.15234514273908048, 'lambda_l2': 0.017227213613729322, 'n_estimators': 194, 'max_depth': 3}. Best is trial 41 with value: 2.2013973327097123.\u001b[0m\n"
     ]
    },
    {
     "name": "stdout",
     "output_type": "stream",
     "text": [
      "[LightGBM] [Warning] lambda_l1 is set=0.09188299554038265, reg_alpha=0.0 will be ignored. Current value: lambda_l1=0.09188299554038265\n",
      "[LightGBM] [Warning] bagging_fraction is set=0.5035021459497402, subsample=1.0 will be ignored. Current value: bagging_fraction=0.5035021459497402\n",
      "[LightGBM] [Warning] feature_fraction is set=0.044827791802990125, colsample_bytree=1.0 will be ignored. Current value: feature_fraction=0.044827791802990125\n",
      "[LightGBM] [Warning] lambda_l2 is set=0.10989193223798675, reg_lambda=0.0 will be ignored. Current value: lambda_l2=0.10989193223798675\n"
     ]
    },
    {
     "name": "stderr",
     "output_type": "stream",
     "text": [
      "\u001b[32m[I 2023-02-13 15:13:05,398]\u001b[0m Trial 57 finished with value: 2.251394022237212 and parameters: {'feature_fraction': 0.044827791802990125, 'num_leaves': 120, 'bagging_fraction': 0.5035021459497402, 'lambda_l1': 0.09188299554038265, 'lambda_l2': 0.10989193223798675, 'n_estimators': 248, 'max_depth': 5}. Best is trial 41 with value: 2.2013973327097123.\u001b[0m\n"
     ]
    },
    {
     "name": "stdout",
     "output_type": "stream",
     "text": [
      "[LightGBM] [Warning] lambda_l1 is set=0.00411624592372247, reg_alpha=0.0 will be ignored. Current value: lambda_l1=0.00411624592372247\n",
      "[LightGBM] [Warning] bagging_fraction is set=0.47575212028296765, subsample=1.0 will be ignored. Current value: bagging_fraction=0.47575212028296765\n",
      "[LightGBM] [Warning] feature_fraction is set=0.21458855721095352, colsample_bytree=1.0 will be ignored. Current value: feature_fraction=0.21458855721095352\n",
      "[LightGBM] [Warning] lambda_l2 is set=0.03394985939426903, reg_lambda=0.0 will be ignored. Current value: lambda_l2=0.03394985939426903\n"
     ]
    },
    {
     "name": "stderr",
     "output_type": "stream",
     "text": [
      "\u001b[32m[I 2023-02-13 15:13:06,288]\u001b[0m Trial 58 finished with value: 2.306086593298132 and parameters: {'feature_fraction': 0.21458855721095352, 'num_leaves': 204, 'bagging_fraction': 0.47575212028296765, 'lambda_l1': 0.00411624592372247, 'lambda_l2': 0.03394985939426903, 'n_estimators': 271, 'max_depth': 4}. Best is trial 41 with value: 2.2013973327097123.\u001b[0m\n"
     ]
    },
    {
     "name": "stdout",
     "output_type": "stream",
     "text": [
      "[LightGBM] [Warning] lambda_l1 is set=0.012265197587798897, reg_alpha=0.0 will be ignored. Current value: lambda_l1=0.012265197587798897\n",
      "[LightGBM] [Warning] bagging_fraction is set=0.42007545133919877, subsample=1.0 will be ignored. Current value: bagging_fraction=0.42007545133919877\n",
      "[LightGBM] [Warning] feature_fraction is set=0.09979541865557902, colsample_bytree=1.0 will be ignored. Current value: feature_fraction=0.09979541865557902\n",
      "[LightGBM] [Warning] lambda_l2 is set=0.012328771463494325, reg_lambda=0.0 will be ignored. Current value: lambda_l2=0.012328771463494325\n"
     ]
    },
    {
     "name": "stderr",
     "output_type": "stream",
     "text": [
      "\u001b[32m[I 2023-02-13 15:13:06,773]\u001b[0m Trial 59 finished with value: 2.23532082122772 and parameters: {'feature_fraction': 0.09979541865557902, 'num_leaves': 157, 'bagging_fraction': 0.42007545133919877, 'lambda_l1': 0.012265197587798897, 'lambda_l2': 0.012328771463494325, 'n_estimators': 168, 'max_depth': 3}. Best is trial 41 with value: 2.2013973327097123.\u001b[0m\n"
     ]
    },
    {
     "name": "stdout",
     "output_type": "stream",
     "text": [
      "[LightGBM] [Warning] lambda_l1 is set=0.0012025164106403267, reg_alpha=0.0 will be ignored. Current value: lambda_l1=0.0012025164106403267\n",
      "[LightGBM] [Warning] bagging_fraction is set=0.48679754226514343, subsample=1.0 will be ignored. Current value: bagging_fraction=0.48679754226514343\n",
      "[LightGBM] [Warning] feature_fraction is set=0.03128688798457113, colsample_bytree=1.0 will be ignored. Current value: feature_fraction=0.03128688798457113\n",
      "[LightGBM] [Warning] lambda_l2 is set=0.0009653701753377139, reg_lambda=0.0 will be ignored. Current value: lambda_l2=0.0009653701753377139\n"
     ]
    },
    {
     "name": "stderr",
     "output_type": "stream",
     "text": [
      "\u001b[32m[I 2023-02-13 15:13:07,384]\u001b[0m Trial 60 finished with value: 2.252268011198755 and parameters: {'feature_fraction': 0.03128688798457113, 'num_leaves': 106, 'bagging_fraction': 0.48679754226514343, 'lambda_l1': 0.0012025164106403267, 'lambda_l2': 0.0009653701753377139, 'n_estimators': 285, 'max_depth': 4}. Best is trial 41 with value: 2.2013973327097123.\u001b[0m\n"
     ]
    },
    {
     "name": "stdout",
     "output_type": "stream",
     "text": [
      "[LightGBM] [Warning] lambda_l1 is set=0.13569386125833494, reg_alpha=0.0 will be ignored. Current value: lambda_l1=0.13569386125833494\n",
      "[LightGBM] [Warning] bagging_fraction is set=0.464322419705446, subsample=1.0 will be ignored. Current value: bagging_fraction=0.464322419705446\n",
      "[LightGBM] [Warning] feature_fraction is set=0.06043469770725433, colsample_bytree=1.0 will be ignored. Current value: feature_fraction=0.06043469770725433\n",
      "[LightGBM] [Warning] lambda_l2 is set=0.11049034672712231, reg_lambda=0.0 will be ignored. Current value: lambda_l2=0.11049034672712231\n"
     ]
    },
    {
     "name": "stderr",
     "output_type": "stream",
     "text": [
      "\u001b[32m[I 2023-02-13 15:13:07,946]\u001b[0m Trial 61 finished with value: 2.242359680658646 and parameters: {'feature_fraction': 0.06043469770725433, 'num_leaves': 130, 'bagging_fraction': 0.464322419705446, 'lambda_l1': 0.13569386125833494, 'lambda_l2': 0.11049034672712231, 'n_estimators': 281, 'max_depth': 3}. Best is trial 41 with value: 2.2013973327097123.\u001b[0m\n"
     ]
    },
    {
     "name": "stdout",
     "output_type": "stream",
     "text": [
      "[LightGBM] [Warning] lambda_l1 is set=0.05046813095985834, reg_alpha=0.0 will be ignored. Current value: lambda_l1=0.05046813095985834\n",
      "[LightGBM] [Warning] bagging_fraction is set=0.4428539716259431, subsample=1.0 will be ignored. Current value: bagging_fraction=0.4428539716259431\n",
      "[LightGBM] [Warning] feature_fraction is set=0.1283751270834467, colsample_bytree=1.0 will be ignored. Current value: feature_fraction=0.1283751270834467\n",
      "[LightGBM] [Warning] lambda_l2 is set=0.3121093609360435, reg_lambda=0.0 will be ignored. Current value: lambda_l2=0.3121093609360435\n"
     ]
    },
    {
     "name": "stderr",
     "output_type": "stream",
     "text": [
      "\u001b[32m[I 2023-02-13 15:13:08,661]\u001b[0m Trial 62 finished with value: 2.25575338184155 and parameters: {'feature_fraction': 0.1283751270834467, 'num_leaves': 124, 'bagging_fraction': 0.4428539716259431, 'lambda_l1': 0.05046813095985834, 'lambda_l2': 0.3121093609360435, 'n_estimators': 276, 'max_depth': 3}. Best is trial 41 with value: 2.2013973327097123.\u001b[0m\n"
     ]
    },
    {
     "name": "stdout",
     "output_type": "stream",
     "text": [
      "[LightGBM] [Warning] lambda_l1 is set=0.47177643719481277, reg_alpha=0.0 will be ignored. Current value: lambda_l1=0.47177643719481277\n",
      "[LightGBM] [Warning] bagging_fraction is set=0.4698038490130842, subsample=1.0 will be ignored. Current value: bagging_fraction=0.4698038490130842\n",
      "[LightGBM] [Warning] feature_fraction is set=0.03416902134767441, colsample_bytree=1.0 will be ignored. Current value: feature_fraction=0.03416902134767441\n",
      "[LightGBM] [Warning] lambda_l2 is set=0.06558758238471124, reg_lambda=0.0 will be ignored. Current value: lambda_l2=0.06558758238471124\n"
     ]
    },
    {
     "name": "stderr",
     "output_type": "stream",
     "text": [
      "\u001b[32m[I 2023-02-13 15:13:09,187]\u001b[0m Trial 63 finished with value: 2.240037301506595 and parameters: {'feature_fraction': 0.03416902134767441, 'num_leaves': 143, 'bagging_fraction': 0.4698038490130842, 'lambda_l1': 0.47177643719481277, 'lambda_l2': 0.06558758238471124, 'n_estimators': 261, 'max_depth': 3}. Best is trial 41 with value: 2.2013973327097123.\u001b[0m\n"
     ]
    },
    {
     "name": "stdout",
     "output_type": "stream",
     "text": [
      "[LightGBM] [Warning] lambda_l1 is set=0.02424504240047159, reg_alpha=0.0 will be ignored. Current value: lambda_l1=0.02424504240047159\n",
      "[LightGBM] [Warning] bagging_fraction is set=0.590089249807507, subsample=1.0 will be ignored. Current value: bagging_fraction=0.590089249807507\n",
      "[LightGBM] [Warning] feature_fraction is set=0.07932712015178194, colsample_bytree=1.0 will be ignored. Current value: feature_fraction=0.07932712015178194\n",
      "[LightGBM] [Warning] lambda_l2 is set=0.022504410296085846, reg_lambda=0.0 will be ignored. Current value: lambda_l2=0.022504410296085846\n"
     ]
    },
    {
     "name": "stderr",
     "output_type": "stream",
     "text": [
      "\u001b[32m[I 2023-02-13 15:13:09,781]\u001b[0m Trial 64 finished with value: 2.2275863996891423 and parameters: {'feature_fraction': 0.07932712015178194, 'num_leaves': 93, 'bagging_fraction': 0.590089249807507, 'lambda_l1': 0.02424504240047159, 'lambda_l2': 0.022504410296085846, 'n_estimators': 290, 'max_depth': 3}. Best is trial 41 with value: 2.2013973327097123.\u001b[0m\n"
     ]
    },
    {
     "name": "stdout",
     "output_type": "stream",
     "text": [
      "[LightGBM] [Warning] lambda_l1 is set=0.1930788037839621, reg_alpha=0.0 will be ignored. Current value: lambda_l1=0.1930788037839621\n",
      "[LightGBM] [Warning] bagging_fraction is set=0.5393523958374666, subsample=1.0 will be ignored. Current value: bagging_fraction=0.5393523958374666\n",
      "[LightGBM] [Warning] feature_fraction is set=0.11472367134787675, colsample_bytree=1.0 will be ignored. Current value: feature_fraction=0.11472367134787675\n",
      "[LightGBM] [Warning] lambda_l2 is set=0.15695169119468008, reg_lambda=0.0 will be ignored. Current value: lambda_l2=0.15695169119468008\n"
     ]
    },
    {
     "name": "stderr",
     "output_type": "stream",
     "text": [
      "\u001b[32m[I 2023-02-13 15:13:10,261]\u001b[0m Trial 65 finished with value: 2.265433472945629 and parameters: {'feature_fraction': 0.11472367134787675, 'num_leaves': 80, 'bagging_fraction': 0.5393523958374666, 'lambda_l1': 0.1930788037839621, 'lambda_l2': 0.15695169119468008, 'n_estimators': 220, 'max_depth': 2}. Best is trial 41 with value: 2.2013973327097123.\u001b[0m\n"
     ]
    },
    {
     "name": "stdout",
     "output_type": "stream",
     "text": [
      "[LightGBM] [Warning] lambda_l1 is set=0.08823045797342649, reg_alpha=0.0 will be ignored. Current value: lambda_l1=0.08823045797342649\n",
      "[LightGBM] [Warning] bagging_fraction is set=0.5131280126280208, subsample=1.0 will be ignored. Current value: bagging_fraction=0.5131280126280208\n",
      "[LightGBM] [Warning] feature_fraction is set=0.17505984084306064, colsample_bytree=1.0 will be ignored. Current value: feature_fraction=0.17505984084306064\n",
      "[LightGBM] [Warning] lambda_l2 is set=0.01453208687702258, reg_lambda=0.0 will be ignored. Current value: lambda_l2=0.01453208687702258\n"
     ]
    },
    {
     "name": "stderr",
     "output_type": "stream",
     "text": [
      "\u001b[32m[I 2023-02-13 15:13:10,973]\u001b[0m Trial 66 finished with value: 2.2442088012401094 and parameters: {'feature_fraction': 0.17505984084306064, 'num_leaves': 118, 'bagging_fraction': 0.5131280126280208, 'lambda_l1': 0.08823045797342649, 'lambda_l2': 0.01453208687702258, 'n_estimators': 235, 'max_depth': 3}. Best is trial 41 with value: 2.2013973327097123.\u001b[0m\n"
     ]
    },
    {
     "name": "stdout",
     "output_type": "stream",
     "text": [
      "[LightGBM] [Warning] lambda_l1 is set=0.0006308279482860559, reg_alpha=0.0 will be ignored. Current value: lambda_l1=0.0006308279482860559\n",
      "[LightGBM] [Warning] bagging_fraction is set=0.4039662265259346, subsample=1.0 will be ignored. Current value: bagging_fraction=0.4039662265259346\n",
      "[LightGBM] [Warning] feature_fraction is set=0.03665111360410209, colsample_bytree=1.0 will be ignored. Current value: feature_fraction=0.03665111360410209\n",
      "[LightGBM] [Warning] lambda_l2 is set=0.009692735566852425, reg_lambda=0.0 will be ignored. Current value: lambda_l2=0.009692735566852425\n"
     ]
    },
    {
     "name": "stderr",
     "output_type": "stream",
     "text": [
      "\u001b[32m[I 2023-02-13 15:13:11,503]\u001b[0m Trial 67 finished with value: 2.2420438374346663 and parameters: {'feature_fraction': 0.03665111360410209, 'num_leaves': 69, 'bagging_fraction': 0.4039662265259346, 'lambda_l1': 0.0006308279482860559, 'lambda_l2': 0.009692735566852425, 'n_estimators': 269, 'max_depth': 3}. Best is trial 41 with value: 2.2013973327097123.\u001b[0m\n"
     ]
    },
    {
     "name": "stdout",
     "output_type": "stream",
     "text": [
      "[LightGBM] [Warning] lambda_l1 is set=1.723327445105406, reg_alpha=0.0 will be ignored. Current value: lambda_l1=1.723327445105406\n",
      "[LightGBM] [Warning] bagging_fraction is set=0.4835918725490662, subsample=1.0 will be ignored. Current value: bagging_fraction=0.4835918725490662\n",
      "[LightGBM] [Warning] feature_fraction is set=0.08684515356754868, colsample_bytree=1.0 will be ignored. Current value: feature_fraction=0.08684515356754868\n",
      "[LightGBM] [Warning] lambda_l2 is set=0.06738063001919257, reg_lambda=0.0 will be ignored. Current value: lambda_l2=0.06738063001919257\n"
     ]
    },
    {
     "name": "stderr",
     "output_type": "stream",
     "text": [
      "\u001b[32m[I 2023-02-13 15:13:11,995]\u001b[0m Trial 68 finished with value: 2.260824666487198 and parameters: {'feature_fraction': 0.08684515356754868, 'num_leaves': 130, 'bagging_fraction': 0.4835918725490662, 'lambda_l1': 1.723327445105406, 'lambda_l2': 0.06738063001919257, 'n_estimators': 254, 'max_depth': 2}. Best is trial 41 with value: 2.2013973327097123.\u001b[0m\n"
     ]
    },
    {
     "name": "stdout",
     "output_type": "stream",
     "text": [
      "[LightGBM] [Warning] lambda_l1 is set=0.4081980518431902, reg_alpha=0.0 will be ignored. Current value: lambda_l1=0.4081980518431902\n",
      "[LightGBM] [Warning] bagging_fraction is set=0.4512484814132971, subsample=1.0 will be ignored. Current value: bagging_fraction=0.4512484814132971\n",
      "[LightGBM] [Warning] feature_fraction is set=0.15017384605512324, colsample_bytree=1.0 will be ignored. Current value: feature_fraction=0.15017384605512324\n",
      "[LightGBM] [Warning] lambda_l2 is set=0.002632744879422503, reg_lambda=0.0 will be ignored. Current value: lambda_l2=0.002632744879422503\n"
     ]
    },
    {
     "name": "stderr",
     "output_type": "stream",
     "text": [
      "\u001b[32m[I 2023-02-13 15:13:12,659]\u001b[0m Trial 69 finished with value: 2.2401874304107787 and parameters: {'feature_fraction': 0.15017384605512324, 'num_leaves': 112, 'bagging_fraction': 0.4512484814132971, 'lambda_l1': 0.4081980518431902, 'lambda_l2': 0.002632744879422503, 'n_estimators': 275, 'max_depth': 3}. Best is trial 41 with value: 2.2013973327097123.\u001b[0m\n"
     ]
    },
    {
     "name": "stdout",
     "output_type": "stream",
     "text": [
      "[LightGBM] [Warning] lambda_l1 is set=0.6575335184603422, reg_alpha=0.0 will be ignored. Current value: lambda_l1=0.6575335184603422\n",
      "[LightGBM] [Warning] bagging_fraction is set=0.5037499572221753, subsample=1.0 will be ignored. Current value: bagging_fraction=0.5037499572221753\n",
      "[LightGBM] [Warning] feature_fraction is set=0.02378002094217478, colsample_bytree=1.0 will be ignored. Current value: feature_fraction=0.02378002094217478\n",
      "[LightGBM] [Warning] lambda_l2 is set=0.03920484360425062, reg_lambda=0.0 will be ignored. Current value: lambda_l2=0.03920484360425062\n"
     ]
    },
    {
     "name": "stderr",
     "output_type": "stream",
     "text": [
      "\u001b[32m[I 2023-02-13 15:13:13,120]\u001b[0m Trial 70 finished with value: 2.259728703091218 and parameters: {'feature_fraction': 0.02378002094217478, 'num_leaves': 170, 'bagging_fraction': 0.5037499572221753, 'lambda_l1': 0.6575335184603422, 'lambda_l2': 0.03920484360425062, 'n_estimators': 192, 'max_depth': 3}. Best is trial 41 with value: 2.2013973327097123.\u001b[0m\n"
     ]
    },
    {
     "name": "stdout",
     "output_type": "stream",
     "text": [
      "[LightGBM] [Warning] lambda_l1 is set=0.13188951029995258, reg_alpha=0.0 will be ignored. Current value: lambda_l1=0.13188951029995258\n",
      "[LightGBM] [Warning] bagging_fraction is set=0.5331304151242954, subsample=1.0 will be ignored. Current value: bagging_fraction=0.5331304151242954\n",
      "[LightGBM] [Warning] feature_fraction is set=0.18240431552378633, colsample_bytree=1.0 will be ignored. Current value: feature_fraction=0.18240431552378633\n",
      "[LightGBM] [Warning] lambda_l2 is set=0.014796715988785564, reg_lambda=0.0 will be ignored. Current value: lambda_l2=0.014796715988785564\n"
     ]
    },
    {
     "name": "stderr",
     "output_type": "stream",
     "text": [
      "\u001b[32m[I 2023-02-13 15:13:13,773]\u001b[0m Trial 71 finished with value: 2.2450829154848315 and parameters: {'feature_fraction': 0.18240431552378633, 'num_leaves': 128, 'bagging_fraction': 0.5331304151242954, 'lambda_l1': 0.13188951029995258, 'lambda_l2': 0.014796715988785564, 'n_estimators': 199, 'max_depth': 3}. Best is trial 41 with value: 2.2013973327097123.\u001b[0m\n"
     ]
    },
    {
     "name": "stdout",
     "output_type": "stream",
     "text": [
      "[LightGBM] [Warning] lambda_l1 is set=0.17628025935918154, reg_alpha=0.0 will be ignored. Current value: lambda_l1=0.17628025935918154\n",
      "[LightGBM] [Warning] bagging_fraction is set=0.46691434325821146, subsample=1.0 will be ignored. Current value: bagging_fraction=0.46691434325821146\n",
      "[LightGBM] [Warning] feature_fraction is set=0.057678132993993075, colsample_bytree=1.0 will be ignored. Current value: feature_fraction=0.057678132993993075\n",
      "[LightGBM] [Warning] lambda_l2 is set=0.004808470511865151, reg_lambda=0.0 will be ignored. Current value: lambda_l2=0.004808470511865151\n"
     ]
    },
    {
     "name": "stderr",
     "output_type": "stream",
     "text": [
      "\u001b[32m[I 2023-02-13 15:13:14,194]\u001b[0m Trial 72 finished with value: 2.260077453460265 and parameters: {'feature_fraction': 0.057678132993993075, 'num_leaves': 137, 'bagging_fraction': 0.46691434325821146, 'lambda_l1': 0.17628025935918154, 'lambda_l2': 0.004808470511865151, 'n_estimators': 133, 'max_depth': 3}. Best is trial 41 with value: 2.2013973327097123.\u001b[0m\n"
     ]
    },
    {
     "name": "stdout",
     "output_type": "stream",
     "text": [
      "[LightGBM] [Warning] lambda_l1 is set=0.2388033611193231, reg_alpha=0.0 will be ignored. Current value: lambda_l1=0.2388033611193231\n",
      "[LightGBM] [Warning] bagging_fraction is set=0.5283461685141306, subsample=1.0 will be ignored. Current value: bagging_fraction=0.5283461685141306\n",
      "[LightGBM] [Warning] feature_fraction is set=0.1998548538676478, colsample_bytree=1.0 will be ignored. Current value: feature_fraction=0.1998548538676478\n",
      "[LightGBM] [Warning] lambda_l2 is set=0.03369285736673323, reg_lambda=0.0 will be ignored. Current value: lambda_l2=0.03369285736673323\n"
     ]
    },
    {
     "name": "stderr",
     "output_type": "stream",
     "text": [
      "\u001b[32m[I 2023-02-13 15:13:14,902]\u001b[0m Trial 73 finished with value: 2.2351794466073707 and parameters: {'feature_fraction': 0.1998548538676478, 'num_leaves': 155, 'bagging_fraction': 0.5283461685141306, 'lambda_l1': 0.2388033611193231, 'lambda_l2': 0.03369285736673323, 'n_estimators': 214, 'max_depth': 3}. Best is trial 41 with value: 2.2013973327097123.\u001b[0m\n"
     ]
    },
    {
     "name": "stdout",
     "output_type": "stream",
     "text": [
      "[LightGBM] [Warning] lambda_l1 is set=3.9767589323202057, reg_alpha=0.0 will be ignored. Current value: lambda_l1=3.9767589323202057\n",
      "[LightGBM] [Warning] bagging_fraction is set=0.43981531235745985, subsample=1.0 will be ignored. Current value: bagging_fraction=0.43981531235745985\n",
      "[LightGBM] [Warning] feature_fraction is set=0.14344836257392407, colsample_bytree=1.0 will be ignored. Current value: feature_fraction=0.14344836257392407\n",
      "[LightGBM] [Warning] lambda_l2 is set=0.021974136405889192, reg_lambda=0.0 will be ignored. Current value: lambda_l2=0.021974136405889192\n"
     ]
    },
    {
     "name": "stderr",
     "output_type": "stream",
     "text": [
      "\u001b[32m[I 2023-02-13 15:13:15,595]\u001b[0m Trial 74 finished with value: 2.23679753680248 and parameters: {'feature_fraction': 0.14344836257392407, 'num_leaves': 95, 'bagging_fraction': 0.43981531235745985, 'lambda_l1': 3.9767589323202057, 'lambda_l2': 0.021974136405889192, 'n_estimators': 297, 'max_depth': 3}. Best is trial 41 with value: 2.2013973327097123.\u001b[0m\n"
     ]
    },
    {
     "name": "stdout",
     "output_type": "stream",
     "text": [
      "[LightGBM] [Warning] lambda_l1 is set=0.036987302437963755, reg_alpha=0.0 will be ignored. Current value: lambda_l1=0.036987302437963755\n",
      "[LightGBM] [Warning] bagging_fraction is set=0.5522853664982261, subsample=1.0 will be ignored. Current value: bagging_fraction=0.5522853664982261\n",
      "[LightGBM] [Warning] feature_fraction is set=0.24525354140466357, colsample_bytree=1.0 will be ignored. Current value: feature_fraction=0.24525354140466357\n",
      "[LightGBM] [Warning] lambda_l2 is set=0.21061358758266213, reg_lambda=0.0 will be ignored. Current value: lambda_l2=0.21061358758266213\n"
     ]
    },
    {
     "name": "stderr",
     "output_type": "stream",
     "text": [
      "\u001b[32m[I 2023-02-13 15:13:16,341]\u001b[0m Trial 75 finished with value: 2.292005131610521 and parameters: {'feature_fraction': 0.24525354140466357, 'num_leaves': 144, 'bagging_fraction': 0.5522853664982261, 'lambda_l1': 0.036987302437963755, 'lambda_l2': 0.21061358758266213, 'n_estimators': 263, 'max_depth': 3}. Best is trial 41 with value: 2.2013973327097123.\u001b[0m\n"
     ]
    },
    {
     "name": "stdout",
     "output_type": "stream",
     "text": [
      "[LightGBM] [Warning] lambda_l1 is set=0.07441141847257579, reg_alpha=0.0 will be ignored. Current value: lambda_l1=0.07441141847257579\n",
      "[LightGBM] [Warning] bagging_fraction is set=0.4876666106612532, subsample=1.0 will be ignored. Current value: bagging_fraction=0.4876666106612532\n",
      "[LightGBM] [Warning] feature_fraction is set=0.07954012058321933, colsample_bytree=1.0 will be ignored. Current value: feature_fraction=0.07954012058321933\n",
      "[LightGBM] [Warning] lambda_l2 is set=0.009429091295925077, reg_lambda=0.0 will be ignored. Current value: lambda_l2=0.009429091295925077\n"
     ]
    },
    {
     "name": "stderr",
     "output_type": "stream",
     "text": [
      "\u001b[32m[I 2023-02-13 15:13:16,775]\u001b[0m Trial 76 finished with value: 2.277997118941281 and parameters: {'feature_fraction': 0.07954012058321933, 'num_leaves': 103, 'bagging_fraction': 0.4876666106612532, 'lambda_l1': 0.07441141847257579, 'lambda_l2': 0.009429091295925077, 'n_estimators': 186, 'max_depth': 2}. Best is trial 41 with value: 2.2013973327097123.\u001b[0m\n"
     ]
    },
    {
     "name": "stdout",
     "output_type": "stream",
     "text": [
      "[LightGBM] [Warning] lambda_l1 is set=0.014417737154168695, reg_alpha=0.0 will be ignored. Current value: lambda_l1=0.014417737154168695\n",
      "[LightGBM] [Warning] bagging_fraction is set=0.41506912253407036, subsample=1.0 will be ignored. Current value: bagging_fraction=0.41506912253407036\n",
      "[LightGBM] [Warning] feature_fraction is set=0.12215096574353286, colsample_bytree=1.0 will be ignored. Current value: feature_fraction=0.12215096574353286\n",
      "[LightGBM] [Warning] lambda_l2 is set=0.5113193718497915, reg_lambda=0.0 will be ignored. Current value: lambda_l2=0.5113193718497915\n"
     ]
    },
    {
     "name": "stderr",
     "output_type": "stream",
     "text": [
      "\u001b[32m[I 2023-02-13 15:13:17,829]\u001b[0m Trial 77 finished with value: 2.304434538443014 and parameters: {'feature_fraction': 0.12215096574353286, 'num_leaves': 115, 'bagging_fraction': 0.41506912253407036, 'lambda_l1': 0.014417737154168695, 'lambda_l2': 0.5113193718497915, 'n_estimators': 247, 'max_depth': 6}. Best is trial 41 with value: 2.2013973327097123.\u001b[0m\n"
     ]
    },
    {
     "name": "stdout",
     "output_type": "stream",
     "text": [
      "[LightGBM] [Warning] lambda_l1 is set=1.6447749755827001, reg_alpha=0.0 will be ignored. Current value: lambda_l1=1.6447749755827001\n",
      "[LightGBM] [Warning] bagging_fraction is set=0.4349920166968075, subsample=1.0 will be ignored. Current value: bagging_fraction=0.4349920166968075\n",
      "[LightGBM] [Warning] feature_fraction is set=0.1632904951137817, colsample_bytree=1.0 will be ignored. Current value: feature_fraction=0.1632904951137817\n",
      "[LightGBM] [Warning] lambda_l2 is set=0.08026404014364627, reg_lambda=0.0 will be ignored. Current value: lambda_l2=0.08026404014364627\n"
     ]
    },
    {
     "name": "stderr",
     "output_type": "stream",
     "text": [
      "\u001b[32m[I 2023-02-13 15:13:18,449]\u001b[0m Trial 78 finished with value: 2.2503046513497584 and parameters: {'feature_fraction': 0.1632904951137817, 'num_leaves': 128, 'bagging_fraction': 0.4349920166968075, 'lambda_l1': 1.6447749755827001, 'lambda_l2': 0.08026404014364627, 'n_estimators': 232, 'max_depth': 3}. Best is trial 41 with value: 2.2013973327097123.\u001b[0m\n"
     ]
    },
    {
     "name": "stdout",
     "output_type": "stream",
     "text": [
      "[LightGBM] [Warning] lambda_l1 is set=0.23499225088077072, reg_alpha=0.0 will be ignored. Current value: lambda_l1=0.23499225088077072\n",
      "[LightGBM] [Warning] bagging_fraction is set=0.5117222906460571, subsample=1.0 will be ignored. Current value: bagging_fraction=0.5117222906460571\n",
      "[LightGBM] [Warning] feature_fraction is set=0.01743296704562046, colsample_bytree=1.0 will be ignored. Current value: feature_fraction=0.01743296704562046\n",
      "[LightGBM] [Warning] lambda_l2 is set=0.003898879269090723, reg_lambda=0.0 will be ignored. Current value: lambda_l2=0.003898879269090723\n"
     ]
    },
    {
     "name": "stderr",
     "output_type": "stream",
     "text": [
      "\u001b[32m[I 2023-02-13 15:13:18,819]\u001b[0m Trial 79 finished with value: 2.3370632933842455 and parameters: {'feature_fraction': 0.01743296704562046, 'num_leaves': 84, 'bagging_fraction': 0.5117222906460571, 'lambda_l1': 0.23499225088077072, 'lambda_l2': 0.003898879269090723, 'n_estimators': 65, 'max_depth': 4}. Best is trial 41 with value: 2.2013973327097123.\u001b[0m\n"
     ]
    },
    {
     "name": "stdout",
     "output_type": "stream",
     "text": [
      "[LightGBM] [Warning] lambda_l1 is set=0.5039574016610777, reg_alpha=0.0 will be ignored. Current value: lambda_l1=0.5039574016610777\n",
      "[LightGBM] [Warning] bagging_fraction is set=0.4625593553789962, subsample=1.0 will be ignored. Current value: bagging_fraction=0.4625593553789962\n",
      "[LightGBM] [Warning] feature_fraction is set=0.06229368890049999, colsample_bytree=1.0 will be ignored. Current value: feature_fraction=0.06229368890049999\n",
      "[LightGBM] [Warning] lambda_l2 is set=0.0021569587104600745, reg_lambda=0.0 will be ignored. Current value: lambda_l2=0.0021569587104600745\n"
     ]
    },
    {
     "name": "stderr",
     "output_type": "stream",
     "text": [
      "\u001b[32m[I 2023-02-13 15:13:19,246]\u001b[0m Trial 80 finished with value: 2.280413578482891 and parameters: {'feature_fraction': 0.06229368890049999, 'num_leaves': 3, 'bagging_fraction': 0.4625593553789962, 'lambda_l1': 0.5039574016610777, 'lambda_l2': 0.0021569587104600745, 'n_estimators': 201, 'max_depth': 3}. Best is trial 41 with value: 2.2013973327097123.\u001b[0m\n"
     ]
    },
    {
     "name": "stdout",
     "output_type": "stream",
     "text": [
      "[LightGBM] [Warning] lambda_l1 is set=0.011623146001325793, reg_alpha=0.0 will be ignored. Current value: lambda_l1=0.011623146001325793\n",
      "[LightGBM] [Warning] bagging_fraction is set=0.49722952109964336, subsample=1.0 will be ignored. Current value: bagging_fraction=0.49722952109964336\n",
      "[LightGBM] [Warning] feature_fraction is set=0.11351351729525974, colsample_bytree=1.0 will be ignored. Current value: feature_fraction=0.11351351729525974\n",
      "[LightGBM] [Warning] lambda_l2 is set=0.018936236484365626, reg_lambda=0.0 will be ignored. Current value: lambda_l2=0.018936236484365626\n"
     ]
    },
    {
     "name": "stderr",
     "output_type": "stream",
     "text": [
      "\u001b[32m[I 2023-02-13 15:13:19,848]\u001b[0m Trial 81 finished with value: 2.2074764085349288 and parameters: {'feature_fraction': 0.11351351729525974, 'num_leaves': 149, 'bagging_fraction': 0.49722952109964336, 'lambda_l1': 0.011623146001325793, 'lambda_l2': 0.018936236484365626, 'n_estimators': 258, 'max_depth': 3}. Best is trial 41 with value: 2.2013973327097123.\u001b[0m\n"
     ]
    },
    {
     "name": "stdout",
     "output_type": "stream",
     "text": [
      "[LightGBM] [Warning] lambda_l1 is set=0.040135976072367574, reg_alpha=0.0 will be ignored. Current value: lambda_l1=0.040135976072367574\n",
      "[LightGBM] [Warning] bagging_fraction is set=0.497057580051154, subsample=1.0 will be ignored. Current value: bagging_fraction=0.497057580051154\n",
      "[LightGBM] [Warning] feature_fraction is set=0.0920623885718737, colsample_bytree=1.0 will be ignored. Current value: feature_fraction=0.0920623885718737\n",
      "[LightGBM] [Warning] lambda_l2 is set=0.017606394065734148, reg_lambda=0.0 will be ignored. Current value: lambda_l2=0.017606394065734148\n"
     ]
    },
    {
     "name": "stderr",
     "output_type": "stream",
     "text": [
      "\u001b[32m[I 2023-02-13 15:13:20,391]\u001b[0m Trial 82 finished with value: 2.191734437713712 and parameters: {'feature_fraction': 0.0920623885718737, 'num_leaves': 134, 'bagging_fraction': 0.497057580051154, 'lambda_l1': 0.040135976072367574, 'lambda_l2': 0.017606394065734148, 'n_estimators': 219, 'max_depth': 3}. Best is trial 82 with value: 2.191734437713712.\u001b[0m\n"
     ]
    },
    {
     "name": "stdout",
     "output_type": "stream",
     "text": [
      "[LightGBM] [Warning] lambda_l1 is set=0.007632191268252544, reg_alpha=0.0 will be ignored. Current value: lambda_l1=0.007632191268252544\n",
      "[LightGBM] [Warning] bagging_fraction is set=0.41296518207195243, subsample=1.0 will be ignored. Current value: bagging_fraction=0.41296518207195243\n",
      "[LightGBM] [Warning] feature_fraction is set=0.09967382400635583, colsample_bytree=1.0 will be ignored. Current value: feature_fraction=0.09967382400635583\n",
      "[LightGBM] [Warning] lambda_l2 is set=0.0066929379545846625, reg_lambda=0.0 will be ignored. Current value: lambda_l2=0.0066929379545846625\n"
     ]
    },
    {
     "name": "stderr",
     "output_type": "stream",
     "text": [
      "\u001b[32m[I 2023-02-13 15:13:21,016]\u001b[0m Trial 83 finished with value: 2.2185347080681974 and parameters: {'feature_fraction': 0.09967382400635583, 'num_leaves': 135, 'bagging_fraction': 0.41296518207195243, 'lambda_l1': 0.007632191268252544, 'lambda_l2': 0.0066929379545846625, 'n_estimators': 289, 'max_depth': 3}. Best is trial 82 with value: 2.191734437713712.\u001b[0m\n"
     ]
    },
    {
     "name": "stdout",
     "output_type": "stream",
     "text": [
      "[LightGBM] [Warning] lambda_l1 is set=0.017747299224103848, reg_alpha=0.0 will be ignored. Current value: lambda_l1=0.017747299224103848\n",
      "[LightGBM] [Warning] bagging_fraction is set=0.47557566048725847, subsample=1.0 will be ignored. Current value: bagging_fraction=0.47557566048725847\n",
      "[LightGBM] [Warning] feature_fraction is set=0.09078785539342855, colsample_bytree=1.0 will be ignored. Current value: feature_fraction=0.09078785539342855\n",
      "[LightGBM] [Warning] lambda_l2 is set=0.04467044615943632, reg_lambda=0.0 will be ignored. Current value: lambda_l2=0.04467044615943632\n"
     ]
    },
    {
     "name": "stderr",
     "output_type": "stream",
     "text": [
      "\u001b[32m[I 2023-02-13 15:13:21,556]\u001b[0m Trial 84 finished with value: 2.1924160649158146 and parameters: {'feature_fraction': 0.09078785539342855, 'num_leaves': 151, 'bagging_fraction': 0.47557566048725847, 'lambda_l1': 0.017747299224103848, 'lambda_l2': 0.04467044615943632, 'n_estimators': 219, 'max_depth': 3}. Best is trial 82 with value: 2.191734437713712.\u001b[0m\n"
     ]
    },
    {
     "name": "stdout",
     "output_type": "stream",
     "text": [
      "[LightGBM] [Warning] lambda_l1 is set=0.016955516413075467, reg_alpha=0.0 will be ignored. Current value: lambda_l1=0.016955516413075467\n",
      "[LightGBM] [Warning] bagging_fraction is set=0.49311838302511385, subsample=1.0 will be ignored. Current value: bagging_fraction=0.49311838302511385\n",
      "[LightGBM] [Warning] feature_fraction is set=0.08199182359907434, colsample_bytree=1.0 will be ignored. Current value: feature_fraction=0.08199182359907434\n",
      "[LightGBM] [Warning] lambda_l2 is set=0.05334788064292253, reg_lambda=0.0 will be ignored. Current value: lambda_l2=0.05334788064292253\n"
     ]
    },
    {
     "name": "stderr",
     "output_type": "stream",
     "text": [
      "\u001b[32m[I 2023-02-13 15:13:22,089]\u001b[0m Trial 85 finished with value: 2.240945593759055 and parameters: {'feature_fraction': 0.08199182359907434, 'num_leaves': 150, 'bagging_fraction': 0.49311838302511385, 'lambda_l1': 0.016955516413075467, 'lambda_l2': 0.05334788064292253, 'n_estimators': 221, 'max_depth': 3}. Best is trial 82 with value: 2.191734437713712.\u001b[0m\n"
     ]
    },
    {
     "name": "stdout",
     "output_type": "stream",
     "text": [
      "[LightGBM] [Warning] lambda_l1 is set=0.0318253989818333, reg_alpha=0.0 will be ignored. Current value: lambda_l1=0.0318253989818333\n",
      "[LightGBM] [Warning] bagging_fraction is set=0.4370137853136582, subsample=1.0 will be ignored. Current value: bagging_fraction=0.4370137853136582\n",
      "[LightGBM] [Warning] feature_fraction is set=0.12612474101683369, colsample_bytree=1.0 will be ignored. Current value: feature_fraction=0.12612474101683369\n",
      "[LightGBM] [Warning] lambda_l2 is set=0.022097931272178316, reg_lambda=0.0 will be ignored. Current value: lambda_l2=0.022097931272178316\n"
     ]
    },
    {
     "name": "stderr",
     "output_type": "stream",
     "text": [
      "\u001b[32m[I 2023-02-13 15:13:22,648]\u001b[0m Trial 86 finished with value: 2.2390028031364566 and parameters: {'feature_fraction': 0.12612474101683369, 'num_leaves': 168, 'bagging_fraction': 0.4370137853136582, 'lambda_l1': 0.0318253989818333, 'lambda_l2': 0.022097931272178316, 'n_estimators': 217, 'max_depth': 3}. Best is trial 82 with value: 2.191734437713712.\u001b[0m\n"
     ]
    },
    {
     "name": "stdout",
     "output_type": "stream",
     "text": [
      "[LightGBM] [Warning] lambda_l1 is set=0.0041286327115637135, reg_alpha=0.0 will be ignored. Current value: lambda_l1=0.0041286327115637135\n",
      "[LightGBM] [Warning] bagging_fraction is set=0.4789267049215661, subsample=1.0 will be ignored. Current value: bagging_fraction=0.4789267049215661\n",
      "[LightGBM] [Warning] feature_fraction is set=0.10145660861450792, colsample_bytree=1.0 will be ignored. Current value: feature_fraction=0.10145660861450792\n",
      "[LightGBM] [Warning] lambda_l2 is set=0.0015058192829974374, reg_lambda=0.0 will be ignored. Current value: lambda_l2=0.0015058192829974374\n"
     ]
    },
    {
     "name": "stderr",
     "output_type": "stream",
     "text": [
      "\u001b[32m[I 2023-02-13 15:13:23,231]\u001b[0m Trial 87 finished with value: 2.219262018270585 and parameters: {'feature_fraction': 0.10145660861450792, 'num_leaves': 159, 'bagging_fraction': 0.4789267049215661, 'lambda_l1': 0.0041286327115637135, 'lambda_l2': 0.0015058192829974374, 'n_estimators': 251, 'max_depth': 3}. Best is trial 82 with value: 2.191734437713712.\u001b[0m\n"
     ]
    },
    {
     "name": "stdout",
     "output_type": "stream",
     "text": [
      "[LightGBM] [Warning] lambda_l1 is set=0.05947322680969487, reg_alpha=0.0 will be ignored. Current value: lambda_l1=0.05947322680969487\n",
      "[LightGBM] [Warning] bagging_fraction is set=0.4463227060973636, subsample=1.0 will be ignored. Current value: bagging_fraction=0.4463227060973636\n",
      "[LightGBM] [Warning] feature_fraction is set=0.0013046616218275742, colsample_bytree=1.0 will be ignored. Current value: feature_fraction=0.0013046616218275742\n",
      "[LightGBM] [Warning] lambda_l2 is set=0.009751046725242678, reg_lambda=0.0 will be ignored. Current value: lambda_l2=0.009751046725242678\n"
     ]
    },
    {
     "name": "stderr",
     "output_type": "stream",
     "text": [
      "\u001b[32m[I 2023-02-13 15:13:23,708]\u001b[0m Trial 88 finished with value: 2.324273575569017 and parameters: {'feature_fraction': 0.0013046616218275742, 'num_leaves': 180, 'bagging_fraction': 0.4463227060973636, 'lambda_l1': 0.05947322680969487, 'lambda_l2': 0.009751046725242678, 'n_estimators': 230, 'max_depth': 3}. Best is trial 82 with value: 2.191734437713712.\u001b[0m\n"
     ]
    },
    {
     "name": "stdout",
     "output_type": "stream",
     "text": [
      "[LightGBM] [Warning] lambda_l1 is set=0.010457334964578228, reg_alpha=0.0 will be ignored. Current value: lambda_l1=0.010457334964578228\n",
      "[LightGBM] [Warning] bagging_fraction is set=0.4530520912150545, subsample=1.0 will be ignored. Current value: bagging_fraction=0.4530520912150545\n",
      "[LightGBM] [Warning] feature_fraction is set=0.029005310857729068, colsample_bytree=1.0 will be ignored. Current value: feature_fraction=0.029005310857729068\n",
      "[LightGBM] [Warning] lambda_l2 is set=0.004205296617653778, reg_lambda=0.0 will be ignored. Current value: lambda_l2=0.004205296617653778\n"
     ]
    },
    {
     "name": "stderr",
     "output_type": "stream",
     "text": [
      "\u001b[32m[I 2023-02-13 15:13:24,158]\u001b[0m Trial 89 finished with value: 2.2783407216191214 and parameters: {'feature_fraction': 0.029005310857729068, 'num_leaves': 143, 'bagging_fraction': 0.4530520912150545, 'lambda_l1': 0.010457334964578228, 'lambda_l2': 0.004205296617653778, 'n_estimators': 240, 'max_depth': 2}. Best is trial 82 with value: 2.191734437713712.\u001b[0m\n"
     ]
    },
    {
     "name": "stdout",
     "output_type": "stream",
     "text": [
      "[LightGBM] [Warning] lambda_l1 is set=0.022251944835794513, reg_alpha=0.0 will be ignored. Current value: lambda_l1=0.022251944835794513\n",
      "[LightGBM] [Warning] bagging_fraction is set=0.4292369383032373, subsample=1.0 will be ignored. Current value: bagging_fraction=0.4292369383032373\n",
      "[LightGBM] [Warning] feature_fraction is set=0.06277205278383464, colsample_bytree=1.0 will be ignored. Current value: feature_fraction=0.06277205278383464\n",
      "[LightGBM] [Warning] lambda_l2 is set=0.11847084458849141, reg_lambda=0.0 will be ignored. Current value: lambda_l2=0.11847084458849141\n"
     ]
    },
    {
     "name": "stderr",
     "output_type": "stream",
     "text": [
      "\u001b[32m[I 2023-02-13 15:13:24,816]\u001b[0m Trial 90 finished with value: 2.246527623128091 and parameters: {'feature_fraction': 0.06277205278383464, 'num_leaves': 155, 'bagging_fraction': 0.4292369383032373, 'lambda_l1': 0.022251944835794513, 'lambda_l2': 0.11847084458849141, 'n_estimators': 266, 'max_depth': 4}. Best is trial 82 with value: 2.191734437713712.\u001b[0m\n"
     ]
    },
    {
     "name": "stdout",
     "output_type": "stream",
     "text": [
      "[LightGBM] [Warning] lambda_l1 is set=0.044908545822239146, reg_alpha=0.0 will be ignored. Current value: lambda_l1=0.044908545822239146\n",
      "[LightGBM] [Warning] bagging_fraction is set=0.47621602593069234, subsample=1.0 will be ignored. Current value: bagging_fraction=0.47621602593069234\n",
      "[LightGBM] [Warning] feature_fraction is set=0.0554941245078624, colsample_bytree=1.0 will be ignored. Current value: feature_fraction=0.0554941245078624\n",
      "[LightGBM] [Warning] lambda_l2 is set=0.04559560724396198, reg_lambda=0.0 will be ignored. Current value: lambda_l2=0.04559560724396198\n"
     ]
    },
    {
     "name": "stderr",
     "output_type": "stream",
     "text": [
      "\u001b[32m[I 2023-02-13 15:13:25,383]\u001b[0m Trial 91 finished with value: 2.235358144486385 and parameters: {'feature_fraction': 0.0554941245078624, 'num_leaves': 135, 'bagging_fraction': 0.47621602593069234, 'lambda_l1': 0.044908545822239146, 'lambda_l2': 0.04559560724396198, 'n_estimators': 279, 'max_depth': 3}. Best is trial 82 with value: 2.191734437713712.\u001b[0m\n"
     ]
    },
    {
     "name": "stdout",
     "output_type": "stream",
     "text": [
      "[LightGBM] [Warning] lambda_l1 is set=0.07790555994900902, reg_alpha=0.0 will be ignored. Current value: lambda_l1=0.07790555994900902\n",
      "[LightGBM] [Warning] bagging_fraction is set=0.5016637132786111, subsample=1.0 will be ignored. Current value: bagging_fraction=0.5016637132786111\n",
      "[LightGBM] [Warning] feature_fraction is set=0.13367600332197568, colsample_bytree=1.0 will be ignored. Current value: feature_fraction=0.13367600332197568\n",
      "[LightGBM] [Warning] lambda_l2 is set=0.029379429010169607, reg_lambda=0.0 will be ignored. Current value: lambda_l2=0.029379429010169607\n"
     ]
    },
    {
     "name": "stderr",
     "output_type": "stream",
     "text": [
      "\u001b[32m[I 2023-02-13 15:13:25,994]\u001b[0m Trial 92 finished with value: 2.254593376846284 and parameters: {'feature_fraction': 0.13367600332197568, 'num_leaves': 122, 'bagging_fraction': 0.5016637132786111, 'lambda_l1': 0.07790555994900902, 'lambda_l2': 0.029379429010169607, 'n_estimators': 209, 'max_depth': 3}. Best is trial 82 with value: 2.191734437713712.\u001b[0m\n"
     ]
    },
    {
     "name": "stdout",
     "output_type": "stream",
     "text": [
      "[LightGBM] [Warning] lambda_l1 is set=0.017135220138334607, reg_alpha=0.0 will be ignored. Current value: lambda_l1=0.017135220138334607\n",
      "[LightGBM] [Warning] bagging_fraction is set=0.461561045270439, subsample=1.0 will be ignored. Current value: bagging_fraction=0.461561045270439\n",
      "[LightGBM] [Warning] feature_fraction is set=0.0888597491659053, colsample_bytree=1.0 will be ignored. Current value: feature_fraction=0.0888597491659053\n",
      "[LightGBM] [Warning] lambda_l2 is set=0.10042652070565515, reg_lambda=0.0 will be ignored. Current value: lambda_l2=0.10042652070565515\n"
     ]
    },
    {
     "name": "stderr",
     "output_type": "stream",
     "text": [
      "\u001b[32m[I 2023-02-13 15:13:26,568]\u001b[0m Trial 93 finished with value: 2.2371590313873457 and parameters: {'feature_fraction': 0.0888597491659053, 'num_leaves': 150, 'bagging_fraction': 0.461561045270439, 'lambda_l1': 0.017135220138334607, 'lambda_l2': 0.10042652070565515, 'n_estimators': 259, 'max_depth': 3}. Best is trial 82 with value: 2.191734437713712.\u001b[0m\n"
     ]
    },
    {
     "name": "stdout",
     "output_type": "stream",
     "text": [
      "[LightGBM] [Warning] lambda_l1 is set=0.042081349741794054, reg_alpha=0.0 will be ignored. Current value: lambda_l1=0.042081349741794054\n",
      "[LightGBM] [Warning] bagging_fraction is set=0.5185731081928833, subsample=1.0 will be ignored. Current value: bagging_fraction=0.5185731081928833\n",
      "[LightGBM] [Warning] feature_fraction is set=0.025218566079423375, colsample_bytree=1.0 will be ignored. Current value: feature_fraction=0.025218566079423375\n",
      "[LightGBM] [Warning] lambda_l2 is set=0.01766279258439848, reg_lambda=0.0 will be ignored. Current value: lambda_l2=0.01766279258439848\n"
     ]
    },
    {
     "name": "stderr",
     "output_type": "stream",
     "text": [
      "\u001b[32m[I 2023-02-13 15:13:27,097]\u001b[0m Trial 94 finished with value: 2.239654991615204 and parameters: {'feature_fraction': 0.025218566079423375, 'num_leaves': 118, 'bagging_fraction': 0.5185731081928833, 'lambda_l1': 0.042081349741794054, 'lambda_l2': 0.01766279258439848, 'n_estimators': 271, 'max_depth': 3}. Best is trial 82 with value: 2.191734437713712.\u001b[0m\n"
     ]
    },
    {
     "name": "stdout",
     "output_type": "stream",
     "text": [
      "[LightGBM] [Warning] lambda_l1 is set=0.006380975386263802, reg_alpha=0.0 will be ignored. Current value: lambda_l1=0.006380975386263802\n",
      "[LightGBM] [Warning] bagging_fraction is set=0.414663363860756, subsample=1.0 will be ignored. Current value: bagging_fraction=0.414663363860756\n",
      "[LightGBM] [Warning] feature_fraction is set=0.053412828023646906, colsample_bytree=1.0 will be ignored. Current value: feature_fraction=0.053412828023646906\n",
      "[LightGBM] [Warning] lambda_l2 is set=0.14558626101182037, reg_lambda=0.0 will be ignored. Current value: lambda_l2=0.14558626101182037\n"
     ]
    },
    {
     "name": "stderr",
     "output_type": "stream",
     "text": [
      "\u001b[32m[I 2023-02-13 15:13:27,665]\u001b[0m Trial 95 finished with value: 2.2389496036455077 and parameters: {'feature_fraction': 0.053412828023646906, 'num_leaves': 140, 'bagging_fraction': 0.414663363860756, 'lambda_l1': 0.006380975386263802, 'lambda_l2': 0.14558626101182037, 'n_estimators': 282, 'max_depth': 3}. Best is trial 82 with value: 2.191734437713712.\u001b[0m\n"
     ]
    },
    {
     "name": "stdout",
     "output_type": "stream",
     "text": [
      "[LightGBM] [Warning] lambda_l1 is set=0.1187487237249378, reg_alpha=0.0 will be ignored. Current value: lambda_l1=0.1187487237249378\n",
      "[LightGBM] [Warning] bagging_fraction is set=0.4937142750092356, subsample=1.0 will be ignored. Current value: bagging_fraction=0.4937142750092356\n",
      "[LightGBM] [Warning] feature_fraction is set=0.11928406555019316, colsample_bytree=1.0 will be ignored. Current value: feature_fraction=0.11928406555019316\n",
      "[LightGBM] [Warning] lambda_l2 is set=0.007499215610769554, reg_lambda=0.0 will be ignored. Current value: lambda_l2=0.007499215610769554\n"
     ]
    },
    {
     "name": "stderr",
     "output_type": "stream",
     "text": [
      "\u001b[32m[I 2023-02-13 15:13:28,324]\u001b[0m Trial 96 finished with value: 2.233488816552521 and parameters: {'feature_fraction': 0.11928406555019316, 'num_leaves': 107, 'bagging_fraction': 0.4937142750092356, 'lambda_l1': 0.1187487237249378, 'lambda_l2': 0.007499215610769554, 'n_estimators': 294, 'max_depth': 3}. Best is trial 82 with value: 2.191734437713712.\u001b[0m\n"
     ]
    },
    {
     "name": "stdout",
     "output_type": "stream",
     "text": [
      "[LightGBM] [Warning] lambda_l1 is set=0.02837234997886278, reg_alpha=0.0 will be ignored. Current value: lambda_l1=0.02837234997886278\n",
      "[LightGBM] [Warning] bagging_fraction is set=0.47246475948194744, subsample=1.0 will be ignored. Current value: bagging_fraction=0.47246475948194744\n",
      "[LightGBM] [Warning] feature_fraction is set=0.15745708400536262, colsample_bytree=1.0 will be ignored. Current value: feature_fraction=0.15745708400536262\n",
      "[LightGBM] [Warning] lambda_l2 is set=0.04995716071275672, reg_lambda=0.0 will be ignored. Current value: lambda_l2=0.04995716071275672\n"
     ]
    },
    {
     "name": "stderr",
     "output_type": "stream",
     "text": [
      "\u001b[32m[I 2023-02-13 15:13:29,001]\u001b[0m Trial 97 finished with value: 2.251729447497522 and parameters: {'feature_fraction': 0.15745708400536262, 'num_leaves': 132, 'bagging_fraction': 0.47246475948194744, 'lambda_l1': 0.02837234997886278, 'lambda_l2': 0.04995716071275672, 'n_estimators': 275, 'max_depth': 3}. Best is trial 82 with value: 2.191734437713712.\u001b[0m\n"
     ]
    },
    {
     "name": "stdout",
     "output_type": "stream",
     "text": [
      "[LightGBM] [Warning] lambda_l1 is set=0.2931027484206883, reg_alpha=0.0 will be ignored. Current value: lambda_l1=0.2931027484206883\n",
      "[LightGBM] [Warning] bagging_fraction is set=0.4552446704107957, subsample=1.0 will be ignored. Current value: bagging_fraction=0.4552446704107957\n",
      "[LightGBM] [Warning] feature_fraction is set=0.10190783636518656, colsample_bytree=1.0 will be ignored. Current value: feature_fraction=0.10190783636518656\n",
      "[LightGBM] [Warning] lambda_l2 is set=0.08266009640652759, reg_lambda=0.0 will be ignored. Current value: lambda_l2=0.08266009640652759\n"
     ]
    },
    {
     "name": "stderr",
     "output_type": "stream",
     "text": [
      "\u001b[32m[I 2023-02-13 15:13:29,497]\u001b[0m Trial 98 finished with value: 2.2325272292067355 and parameters: {'feature_fraction': 0.10190783636518656, 'num_leaves': 123, 'bagging_fraction': 0.4552446704107957, 'lambda_l1': 0.2931027484206883, 'lambda_l2': 0.08266009640652759, 'n_estimators': 173, 'max_depth': 3}. Best is trial 82 with value: 2.191734437713712.\u001b[0m\n"
     ]
    },
    {
     "name": "stdout",
     "output_type": "stream",
     "text": [
      "[LightGBM] [Warning] lambda_l1 is set=0.7299189350888077, reg_alpha=0.0 will be ignored. Current value: lambda_l1=0.7299189350888077\n",
      "[LightGBM] [Warning] bagging_fraction is set=0.42937299920812055, subsample=1.0 will be ignored. Current value: bagging_fraction=0.42937299920812055\n",
      "[LightGBM] [Warning] feature_fraction is set=0.07149166126452258, colsample_bytree=1.0 will be ignored. Current value: feature_fraction=0.07149166126452258\n",
      "[LightGBM] [Warning] lambda_l2 is set=0.18670156945915778, reg_lambda=0.0 will be ignored. Current value: lambda_l2=0.18670156945915778\n"
     ]
    },
    {
     "name": "stderr",
     "output_type": "stream",
     "text": [
      "\u001b[32m[I 2023-02-13 15:13:30,100]\u001b[0m Trial 99 finished with value: 2.2285871985641514 and parameters: {'feature_fraction': 0.07149166126452258, 'num_leaves': 167, 'bagging_fraction': 0.42937299920812055, 'lambda_l1': 0.7299189350888077, 'lambda_l2': 0.18670156945915778, 'n_estimators': 288, 'max_depth': 3}. Best is trial 82 with value: 2.191734437713712.\u001b[0m\n"
     ]
    },
    {
     "name": "stdout",
     "output_type": "stream",
     "text": [
      "[LightGBM] [Warning] lambda_l1 is set=0.002602938806342004, reg_alpha=0.0 will be ignored. Current value: lambda_l1=0.002602938806342004\n",
      "[LightGBM] [Warning] bagging_fraction is set=0.5457174431515596, subsample=1.0 will be ignored. Current value: bagging_fraction=0.5457174431515596\n",
      "[LightGBM] [Warning] feature_fraction is set=0.013415665810228343, colsample_bytree=1.0 will be ignored. Current value: feature_fraction=0.013415665810228343\n",
      "[LightGBM] [Warning] lambda_l2 is set=0.013654424589413829, reg_lambda=0.0 will be ignored. Current value: lambda_l2=0.013654424589413829\n"
     ]
    },
    {
     "name": "stderr",
     "output_type": "stream",
     "text": [
      "\u001b[32m[I 2023-02-13 15:13:30,593]\u001b[0m Trial 100 finished with value: 2.3209171036883878 and parameters: {'feature_fraction': 0.013415665810228343, 'num_leaves': 113, 'bagging_fraction': 0.5457174431515596, 'lambda_l1': 0.002602938806342004, 'lambda_l2': 0.013654424589413829, 'n_estimators': 248, 'max_depth': 3}. Best is trial 82 with value: 2.191734437713712.\u001b[0m\n"
     ]
    },
    {
     "name": "stdout",
     "output_type": "stream",
     "text": [
      "[LightGBM] [Warning] lambda_l1 is set=0.009271677435837507, reg_alpha=0.0 will be ignored. Current value: lambda_l1=0.009271677435837507\n",
      "[LightGBM] [Warning] bagging_fraction is set=0.41429266178399365, subsample=1.0 will be ignored. Current value: bagging_fraction=0.41429266178399365\n",
      "[LightGBM] [Warning] feature_fraction is set=0.10548424203636159, colsample_bytree=1.0 will be ignored. Current value: feature_fraction=0.10548424203636159\n",
      "[LightGBM] [Warning] lambda_l2 is set=0.005401754266206547, reg_lambda=0.0 will be ignored. Current value: lambda_l2=0.005401754266206547\n"
     ]
    },
    {
     "name": "stderr",
     "output_type": "stream",
     "text": [
      "\u001b[32m[I 2023-02-13 15:13:31,226]\u001b[0m Trial 101 finished with value: 2.2205583816461023 and parameters: {'feature_fraction': 0.10548424203636159, 'num_leaves': 146, 'bagging_fraction': 0.41429266178399365, 'lambda_l1': 0.009271677435837507, 'lambda_l2': 0.005401754266206547, 'n_estimators': 294, 'max_depth': 3}. Best is trial 82 with value: 2.191734437713712.\u001b[0m\n"
     ]
    },
    {
     "name": "stdout",
     "output_type": "stream",
     "text": [
      "[LightGBM] [Warning] lambda_l1 is set=0.006586680950457075, reg_alpha=0.0 will be ignored. Current value: lambda_l1=0.006586680950457075\n",
      "[LightGBM] [Warning] bagging_fraction is set=0.44895780269423335, subsample=1.0 will be ignored. Current value: bagging_fraction=0.44895780269423335\n",
      "[LightGBM] [Warning] feature_fraction is set=0.044785089306397956, colsample_bytree=1.0 will be ignored. Current value: feature_fraction=0.044785089306397956\n",
      "[LightGBM] [Warning] lambda_l2 is set=0.033766886777878195, reg_lambda=0.0 will be ignored. Current value: lambda_l2=0.033766886777878195\n"
     ]
    },
    {
     "name": "stderr",
     "output_type": "stream",
     "text": [
      "\u001b[32m[I 2023-02-13 15:13:31,791]\u001b[0m Trial 102 finished with value: 2.2124281131499566 and parameters: {'feature_fraction': 0.044785089306397956, 'num_leaves': 138, 'bagging_fraction': 0.44895780269423335, 'lambda_l1': 0.006586680950457075, 'lambda_l2': 0.033766886777878195, 'n_estimators': 287, 'max_depth': 3}. Best is trial 82 with value: 2.191734437713712.\u001b[0m\n"
     ]
    },
    {
     "name": "stdout",
     "output_type": "stream",
     "text": [
      "[LightGBM] [Warning] lambda_l1 is set=0.013417856332905194, reg_alpha=0.0 will be ignored. Current value: lambda_l1=0.013417856332905194\n",
      "[LightGBM] [Warning] bagging_fraction is set=0.4783030512275176, subsample=1.0 will be ignored. Current value: bagging_fraction=0.4783030512275176\n",
      "[LightGBM] [Warning] feature_fraction is set=0.038302715109160945, colsample_bytree=1.0 will be ignored. Current value: feature_fraction=0.038302715109160945\n",
      "[LightGBM] [Warning] lambda_l2 is set=0.033049364304982586, reg_lambda=0.0 will be ignored. Current value: lambda_l2=0.033049364304982586\n"
     ]
    },
    {
     "name": "stderr",
     "output_type": "stream",
     "text": [
      "\u001b[32m[I 2023-02-13 15:13:32,340]\u001b[0m Trial 103 finished with value: 2.244859146564821 and parameters: {'feature_fraction': 0.038302715109160945, 'num_leaves': 138, 'bagging_fraction': 0.4783030512275176, 'lambda_l1': 0.013417856332905194, 'lambda_l2': 0.033049364304982586, 'n_estimators': 284, 'max_depth': 3}. Best is trial 82 with value: 2.191734437713712.\u001b[0m\n"
     ]
    },
    {
     "name": "stdout",
     "output_type": "stream",
     "text": [
      "[LightGBM] [Warning] lambda_l1 is set=0.05441840318186283, reg_alpha=0.0 will be ignored. Current value: lambda_l1=0.05441840318186283\n",
      "[LightGBM] [Warning] bagging_fraction is set=0.4523185716899245, subsample=1.0 will be ignored. Current value: bagging_fraction=0.4523185716899245\n",
      "[LightGBM] [Warning] feature_fraction is set=0.05214845468109296, colsample_bytree=1.0 will be ignored. Current value: feature_fraction=0.05214845468109296\n",
      "[LightGBM] [Warning] lambda_l2 is set=0.019534369084484728, reg_lambda=0.0 will be ignored. Current value: lambda_l2=0.019534369084484728\n"
     ]
    },
    {
     "name": "stderr",
     "output_type": "stream",
     "text": [
      "\u001b[32m[I 2023-02-13 15:13:32,889]\u001b[0m Trial 104 finished with value: 2.2413153172480693 and parameters: {'feature_fraction': 0.05214845468109296, 'num_leaves': 126, 'bagging_fraction': 0.4523185716899245, 'lambda_l1': 0.05441840318186283, 'lambda_l2': 0.019534369084484728, 'n_estimators': 258, 'max_depth': 3}. Best is trial 82 with value: 2.191734437713712.\u001b[0m\n"
     ]
    },
    {
     "name": "stdout",
     "output_type": "stream",
     "text": [
      "[LightGBM] [Warning] lambda_l1 is set=0.09983647940912747, reg_alpha=0.0 will be ignored. Current value: lambda_l1=0.09983647940912747\n",
      "[LightGBM] [Warning] bagging_fraction is set=0.43636685378622275, subsample=1.0 will be ignored. Current value: bagging_fraction=0.43636685378622275\n",
      "[LightGBM] [Warning] feature_fraction is set=0.0816737594091216, colsample_bytree=1.0 will be ignored. Current value: feature_fraction=0.0816737594091216\n",
      "[LightGBM] [Warning] lambda_l2 is set=0.06506490030095494, reg_lambda=0.0 will be ignored. Current value: lambda_l2=0.06506490030095494\n"
     ]
    },
    {
     "name": "stderr",
     "output_type": "stream",
     "text": [
      "\u001b[32m[I 2023-02-13 15:13:33,484]\u001b[0m Trial 105 finished with value: 2.234112667158875 and parameters: {'feature_fraction': 0.0816737594091216, 'num_leaves': 161, 'bagging_fraction': 0.43636685378622275, 'lambda_l1': 0.09983647940912747, 'lambda_l2': 0.06506490030095494, 'n_estimators': 273, 'max_depth': 3}. Best is trial 82 with value: 2.191734437713712.\u001b[0m\n"
     ]
    },
    {
     "name": "stdout",
     "output_type": "stream",
     "text": [
      "[LightGBM] [Warning] lambda_l1 is set=0.0038440356218348523, reg_alpha=0.0 will be ignored. Current value: lambda_l1=0.0038440356218348523\n",
      "[LightGBM] [Warning] bagging_fraction is set=0.40184660525841476, subsample=1.0 will be ignored. Current value: bagging_fraction=0.40184660525841476\n",
      "[LightGBM] [Warning] feature_fraction is set=0.14237805831404904, colsample_bytree=1.0 will be ignored. Current value: feature_fraction=0.14237805831404904\n",
      "[LightGBM] [Warning] lambda_l2 is set=0.03951743738430504, reg_lambda=0.0 will be ignored. Current value: lambda_l2=0.03951743738430504\n"
     ]
    },
    {
     "name": "stderr",
     "output_type": "stream",
     "text": [
      "\u001b[32m[I 2023-02-13 15:13:34,169]\u001b[0m Trial 106 finished with value: 2.208734444567504 and parameters: {'feature_fraction': 0.14237805831404904, 'num_leaves': 142, 'bagging_fraction': 0.40184660525841476, 'lambda_l1': 0.0038440356218348523, 'lambda_l2': 0.03951743738430504, 'n_estimators': 300, 'max_depth': 3}. Best is trial 82 with value: 2.191734437713712.\u001b[0m\n"
     ]
    },
    {
     "name": "stdout",
     "output_type": "stream",
     "text": [
      "[LightGBM] [Warning] lambda_l1 is set=0.0047677617302590075, reg_alpha=0.0 will be ignored. Current value: lambda_l1=0.0047677617302590075\n",
      "[LightGBM] [Warning] bagging_fraction is set=0.40093746189191704, subsample=1.0 will be ignored. Current value: bagging_fraction=0.40093746189191704\n",
      "[LightGBM] [Warning] feature_fraction is set=0.1343289756352349, colsample_bytree=1.0 will be ignored. Current value: feature_fraction=0.1343289756352349\n",
      "[LightGBM] [Warning] lambda_l2 is set=0.010587511415478658, reg_lambda=0.0 will be ignored. Current value: lambda_l2=0.010587511415478658\n"
     ]
    },
    {
     "name": "stderr",
     "output_type": "stream",
     "text": [
      "\u001b[32m[I 2023-02-13 15:13:34,920]\u001b[0m Trial 107 finished with value: 2.248071745767655 and parameters: {'feature_fraction': 0.1343289756352349, 'num_leaves': 151, 'bagging_fraction': 0.40093746189191704, 'lambda_l1': 0.0047677617302590075, 'lambda_l2': 0.010587511415478658, 'n_estimators': 300, 'max_depth': 3}. Best is trial 82 with value: 2.191734437713712.\u001b[0m\n"
     ]
    },
    {
     "name": "stdout",
     "output_type": "stream",
     "text": [
      "[LightGBM] [Warning] lambda_l1 is set=0.0019061853398906724, reg_alpha=0.0 will be ignored. Current value: lambda_l1=0.0019061853398906724\n",
      "[LightGBM] [Warning] bagging_fraction is set=0.43173701605716336, subsample=1.0 will be ignored. Current value: bagging_fraction=0.43173701605716336\n",
      "[LightGBM] [Warning] feature_fraction is set=0.19015814034897666, colsample_bytree=1.0 will be ignored. Current value: feature_fraction=0.19015814034897666\n",
      "[LightGBM] [Warning] lambda_l2 is set=0.04185020949205464, reg_lambda=0.0 will be ignored. Current value: lambda_l2=0.04185020949205464\n"
     ]
    },
    {
     "name": "stderr",
     "output_type": "stream",
     "text": [
      "\u001b[32m[I 2023-02-13 15:13:35,554]\u001b[0m Trial 108 finished with value: 2.2511300843752493 and parameters: {'feature_fraction': 0.19015814034897666, 'num_leaves': 140, 'bagging_fraction': 0.43173701605716336, 'lambda_l1': 0.0019061853398906724, 'lambda_l2': 0.04185020949205464, 'n_estimators': 227, 'max_depth': 3}. Best is trial 82 with value: 2.191734437713712.\u001b[0m\n"
     ]
    },
    {
     "name": "stdout",
     "output_type": "stream",
     "text": [
      "[LightGBM] [Warning] lambda_l1 is set=0.02297741125403914, reg_alpha=0.0 will be ignored. Current value: lambda_l1=0.02297741125403914\n",
      "[LightGBM] [Warning] bagging_fraction is set=0.4105559201310267, subsample=1.0 will be ignored. Current value: bagging_fraction=0.4105559201310267\n",
      "[LightGBM] [Warning] feature_fraction is set=0.1664806691950662, colsample_bytree=1.0 will be ignored. Current value: feature_fraction=0.1664806691950662\n",
      "[LightGBM] [Warning] lambda_l2 is set=0.023749267515798887, reg_lambda=0.0 will be ignored. Current value: lambda_l2=0.023749267515798887\n"
     ]
    },
    {
     "name": "stderr",
     "output_type": "stream",
     "text": [
      "\u001b[32m[I 2023-02-13 15:13:36,261]\u001b[0m Trial 109 finished with value: 2.2163632354551206 and parameters: {'feature_fraction': 0.1664806691950662, 'num_leaves': 53, 'bagging_fraction': 0.4105559201310267, 'lambda_l1': 0.02297741125403914, 'lambda_l2': 0.023749267515798887, 'n_estimators': 290, 'max_depth': 3}. Best is trial 82 with value: 2.191734437713712.\u001b[0m\n"
     ]
    },
    {
     "name": "stdout",
     "output_type": "stream",
     "text": [
      "[LightGBM] [Warning] lambda_l1 is set=0.005490096614801503, reg_alpha=0.0 will be ignored. Current value: lambda_l1=0.005490096614801503\n",
      "[LightGBM] [Warning] bagging_fraction is set=0.40000213926367967, subsample=1.0 will be ignored. Current value: bagging_fraction=0.40000213926367967\n",
      "[LightGBM] [Warning] feature_fraction is set=0.1480217282344172, colsample_bytree=1.0 will be ignored. Current value: feature_fraction=0.1480217282344172\n",
      "[LightGBM] [Warning] lambda_l2 is set=0.02393732095029079, reg_lambda=0.0 will be ignored. Current value: lambda_l2=0.02393732095029079\n"
     ]
    },
    {
     "name": "stderr",
     "output_type": "stream",
     "text": [
      "\u001b[32m[I 2023-02-13 15:13:36,945]\u001b[0m Trial 110 finished with value: 2.241871487623306 and parameters: {'feature_fraction': 0.1480217282344172, 'num_leaves': 32, 'bagging_fraction': 0.40000213926367967, 'lambda_l1': 0.005490096614801503, 'lambda_l2': 0.02393732095029079, 'n_estimators': 292, 'max_depth': 2}. Best is trial 82 with value: 2.191734437713712.\u001b[0m\n"
     ]
    },
    {
     "name": "stdout",
     "output_type": "stream",
     "text": [
      "[LightGBM] [Warning] lambda_l1 is set=0.009331806096291613, reg_alpha=0.0 will be ignored. Current value: lambda_l1=0.009331806096291613\n",
      "[LightGBM] [Warning] bagging_fraction is set=0.41872267435447225, subsample=1.0 will be ignored. Current value: bagging_fraction=0.41872267435447225\n",
      "[LightGBM] [Warning] feature_fraction is set=0.1699247890021967, colsample_bytree=1.0 will be ignored. Current value: feature_fraction=0.1699247890021967\n",
      "[LightGBM] [Warning] lambda_l2 is set=0.015350870936651924, reg_lambda=0.0 will be ignored. Current value: lambda_l2=0.015350870936651924\n"
     ]
    },
    {
     "name": "stderr",
     "output_type": "stream",
     "text": [
      "\u001b[32m[I 2023-02-13 15:13:37,648]\u001b[0m Trial 111 finished with value: 2.2175010147244643 and parameters: {'feature_fraction': 0.1699247890021967, 'num_leaves': 147, 'bagging_fraction': 0.41872267435447225, 'lambda_l1': 0.009331806096291613, 'lambda_l2': 0.015350870936651924, 'n_estimators': 285, 'max_depth': 3}. Best is trial 82 with value: 2.191734437713712.\u001b[0m\n"
     ]
    },
    {
     "name": "stdout",
     "output_type": "stream",
     "text": [
      "[LightGBM] [Warning] lambda_l1 is set=0.008073879396600281, reg_alpha=0.0 will be ignored. Current value: lambda_l1=0.008073879396600281\n",
      "[LightGBM] [Warning] bagging_fraction is set=0.4173261073279255, subsample=1.0 will be ignored. Current value: bagging_fraction=0.4173261073279255\n",
      "[LightGBM] [Warning] feature_fraction is set=0.17019319658236257, colsample_bytree=1.0 will be ignored. Current value: feature_fraction=0.17019319658236257\n",
      "[LightGBM] [Warning] lambda_l2 is set=0.014344995378083654, reg_lambda=0.0 will be ignored. Current value: lambda_l2=0.014344995378083654\n"
     ]
    },
    {
     "name": "stderr",
     "output_type": "stream",
     "text": [
      "\u001b[32m[I 2023-02-13 15:13:38,349]\u001b[0m Trial 112 finished with value: 2.2160988439018703 and parameters: {'feature_fraction': 0.17019319658236257, 'num_leaves': 146, 'bagging_fraction': 0.4173261073279255, 'lambda_l1': 0.008073879396600281, 'lambda_l2': 0.014344995378083654, 'n_estimators': 286, 'max_depth': 3}. Best is trial 82 with value: 2.191734437713712.\u001b[0m\n"
     ]
    },
    {
     "name": "stdout",
     "output_type": "stream",
     "text": [
      "[LightGBM] [Warning] lambda_l1 is set=0.021388560645345, reg_alpha=0.0 will be ignored. Current value: lambda_l1=0.021388560645345\n",
      "[LightGBM] [Warning] bagging_fraction is set=0.4118005155069962, subsample=1.0 will be ignored. Current value: bagging_fraction=0.4118005155069962\n",
      "[LightGBM] [Warning] feature_fraction is set=0.20199456612918498, colsample_bytree=1.0 will be ignored. Current value: feature_fraction=0.20199456612918498\n",
      "[LightGBM] [Warning] lambda_l2 is set=0.008445994475272786, reg_lambda=0.0 will be ignored. Current value: lambda_l2=0.008445994475272786\n"
     ]
    },
    {
     "name": "stderr",
     "output_type": "stream",
     "text": [
      "\u001b[32m[I 2023-02-13 15:13:39,179]\u001b[0m Trial 113 finished with value: 2.2399138776199976 and parameters: {'feature_fraction': 0.20199456612918498, 'num_leaves': 45, 'bagging_fraction': 0.4118005155069962, 'lambda_l1': 0.021388560645345, 'lambda_l2': 0.008445994475272786, 'n_estimators': 279, 'max_depth': 3}. Best is trial 82 with value: 2.191734437713712.\u001b[0m\n"
     ]
    },
    {
     "name": "stdout",
     "output_type": "stream",
     "text": [
      "[LightGBM] [Warning] lambda_l1 is set=0.0033687767593260113, reg_alpha=0.0 will be ignored. Current value: lambda_l1=0.0033687767593260113\n",
      "[LightGBM] [Warning] bagging_fraction is set=0.42322844774681107, subsample=1.0 will be ignored. Current value: bagging_fraction=0.42322844774681107\n",
      "[LightGBM] [Warning] feature_fraction is set=0.11101664179823767, colsample_bytree=1.0 will be ignored. Current value: feature_fraction=0.11101664179823767\n",
      "[LightGBM] [Warning] lambda_l2 is set=0.0032327102236990495, reg_lambda=0.0 will be ignored. Current value: lambda_l2=0.0032327102236990495\n"
     ]
    },
    {
     "name": "stderr",
     "output_type": "stream",
     "text": [
      "\u001b[32m[I 2023-02-13 15:13:39,795]\u001b[0m Trial 114 finished with value: 2.211835855799521 and parameters: {'feature_fraction': 0.11101664179823767, 'num_leaves': 22, 'bagging_fraction': 0.42322844774681107, 'lambda_l1': 0.0033687767593260113, 'lambda_l2': 0.0032327102236990495, 'n_estimators': 267, 'max_depth': 3}. Best is trial 82 with value: 2.191734437713712.\u001b[0m\n"
     ]
    },
    {
     "name": "stdout",
     "output_type": "stream",
     "text": [
      "[LightGBM] [Warning] lambda_l1 is set=0.003479770441661883, reg_alpha=0.0 will be ignored. Current value: lambda_l1=0.003479770441661883\n",
      "[LightGBM] [Warning] bagging_fraction is set=0.44464121838256837, subsample=1.0 will be ignored. Current value: bagging_fraction=0.44464121838256837\n",
      "[LightGBM] [Warning] feature_fraction is set=0.09505523043330866, colsample_bytree=1.0 will be ignored. Current value: feature_fraction=0.09505523043330866\n",
      "[LightGBM] [Warning] lambda_l2 is set=0.003338563210872328, reg_lambda=0.0 will be ignored. Current value: lambda_l2=0.003338563210872328\n"
     ]
    },
    {
     "name": "stderr",
     "output_type": "stream",
     "text": [
      "\u001b[32m[I 2023-02-13 15:13:40,391]\u001b[0m Trial 115 finished with value: 2.1775886009253598 and parameters: {'feature_fraction': 0.09505523043330866, 'num_leaves': 156, 'bagging_fraction': 0.44464121838256837, 'lambda_l1': 0.003479770441661883, 'lambda_l2': 0.003338563210872328, 'n_estimators': 269, 'max_depth': 3}. Best is trial 115 with value: 2.1775886009253598.\u001b[0m\n"
     ]
    },
    {
     "name": "stdout",
     "output_type": "stream",
     "text": [
      "[LightGBM] [Warning] lambda_l1 is set=0.0031532921862139386, reg_alpha=0.0 will be ignored. Current value: lambda_l1=0.0031532921862139386\n",
      "[LightGBM] [Warning] bagging_fraction is set=0.4470345373942532, subsample=1.0 will be ignored. Current value: bagging_fraction=0.4470345373942532\n",
      "[LightGBM] [Warning] feature_fraction is set=0.11411979662482155, colsample_bytree=1.0 will be ignored. Current value: feature_fraction=0.11411979662482155\n",
      "[LightGBM] [Warning] lambda_l2 is set=0.003174173650108986, reg_lambda=0.0 will be ignored. Current value: lambda_l2=0.003174173650108986\n"
     ]
    },
    {
     "name": "stderr",
     "output_type": "stream",
     "text": [
      "\u001b[32m[I 2023-02-13 15:13:41,011]\u001b[0m Trial 116 finished with value: 2.211165460905186 and parameters: {'feature_fraction': 0.11411979662482155, 'num_leaves': 248, 'bagging_fraction': 0.4470345373942532, 'lambda_l1': 0.0031532921862139386, 'lambda_l2': 0.003174173650108986, 'n_estimators': 272, 'max_depth': 3}. Best is trial 115 with value: 2.1775886009253598.\u001b[0m\n"
     ]
    },
    {
     "name": "stdout",
     "output_type": "stream",
     "text": [
      "[LightGBM] [Warning] lambda_l1 is set=0.003155013246981624, reg_alpha=0.0 will be ignored. Current value: lambda_l1=0.003155013246981624\n",
      "[LightGBM] [Warning] bagging_fraction is set=0.44475329606027003, subsample=1.0 will be ignored. Current value: bagging_fraction=0.44475329606027003\n",
      "[LightGBM] [Warning] feature_fraction is set=0.11156643766735881, colsample_bytree=1.0 will be ignored. Current value: feature_fraction=0.11156643766735881\n",
      "[LightGBM] [Warning] lambda_l2 is set=0.002260652997966143, reg_lambda=0.0 will be ignored. Current value: lambda_l2=0.002260652997966143\n"
     ]
    },
    {
     "name": "stderr",
     "output_type": "stream",
     "text": [
      "\u001b[32m[I 2023-02-13 15:13:41,630]\u001b[0m Trial 117 finished with value: 2.2109023959300353 and parameters: {'feature_fraction': 0.11156643766735881, 'num_leaves': 254, 'bagging_fraction': 0.44475329606027003, 'lambda_l1': 0.003155013246981624, 'lambda_l2': 0.002260652997966143, 'n_estimators': 270, 'max_depth': 3}. Best is trial 115 with value: 2.1775886009253598.\u001b[0m\n"
     ]
    },
    {
     "name": "stdout",
     "output_type": "stream",
     "text": [
      "[LightGBM] [Warning] lambda_l1 is set=0.0030974091879295, reg_alpha=0.0 will be ignored. Current value: lambda_l1=0.0030974091879295\n",
      "[LightGBM] [Warning] bagging_fraction is set=0.44714841587799975, subsample=1.0 will be ignored. Current value: bagging_fraction=0.44714841587799975\n",
      "[LightGBM] [Warning] feature_fraction is set=0.0972871614378422, colsample_bytree=1.0 will be ignored. Current value: feature_fraction=0.0972871614378422\n",
      "[LightGBM] [Warning] lambda_l2 is set=0.0019968253922190023, reg_lambda=0.0 will be ignored. Current value: lambda_l2=0.0019968253922190023\n"
     ]
    },
    {
     "name": "stderr",
     "output_type": "stream",
     "text": [
      "\u001b[32m[I 2023-02-13 15:13:42,226]\u001b[0m Trial 118 finished with value: 2.178558826307961 and parameters: {'feature_fraction': 0.0972871614378422, 'num_leaves': 24, 'bagging_fraction': 0.44714841587799975, 'lambda_l1': 0.0030974091879295, 'lambda_l2': 0.0019968253922190023, 'n_estimators': 267, 'max_depth': 3}. Best is trial 115 with value: 2.1775886009253598.\u001b[0m\n"
     ]
    },
    {
     "name": "stdout",
     "output_type": "stream",
     "text": [
      "[LightGBM] [Warning] lambda_l1 is set=0.0009642073185412571, reg_alpha=0.0 will be ignored. Current value: lambda_l1=0.0009642073185412571\n",
      "[LightGBM] [Warning] bagging_fraction is set=0.465479148126716, subsample=1.0 will be ignored. Current value: bagging_fraction=0.465479148126716\n",
      "[LightGBM] [Warning] feature_fraction is set=0.11800497526616667, colsample_bytree=1.0 will be ignored. Current value: feature_fraction=0.11800497526616667\n",
      "[LightGBM] [Warning] lambda_l2 is set=0.0020406115439320477, reg_lambda=0.0 will be ignored. Current value: lambda_l2=0.0020406115439320477\n"
     ]
    },
    {
     "name": "stderr",
     "output_type": "stream",
     "text": [
      "\u001b[32m[I 2023-02-13 15:13:43,114]\u001b[0m Trial 119 finished with value: 2.2827144984487653 and parameters: {'feature_fraction': 0.11800497526616667, 'num_leaves': 242, 'bagging_fraction': 0.465479148126716, 'lambda_l1': 0.0009642073185412571, 'lambda_l2': 0.0020406115439320477, 'n_estimators': 265, 'max_depth': 5}. Best is trial 115 with value: 2.1775886009253598.\u001b[0m\n"
     ]
    },
    {
     "name": "stdout",
     "output_type": "stream",
     "text": [
      "[LightGBM] [Warning] lambda_l1 is set=0.003742661730923653, reg_alpha=0.0 will be ignored. Current value: lambda_l1=0.003742661730923653\n",
      "[LightGBM] [Warning] bagging_fraction is set=0.4905522097213262, subsample=1.0 will be ignored. Current value: bagging_fraction=0.4905522097213262\n",
      "[LightGBM] [Warning] feature_fraction is set=0.13910280903736796, colsample_bytree=1.0 will be ignored. Current value: feature_fraction=0.13910280903736796\n",
      "[LightGBM] [Warning] lambda_l2 is set=0.0013369977454411183, reg_lambda=0.0 will be ignored. Current value: lambda_l2=0.0013369977454411183\n"
     ]
    },
    {
     "name": "stderr",
     "output_type": "stream",
     "text": [
      "\u001b[32m[I 2023-02-13 15:13:43,743]\u001b[0m Trial 120 finished with value: 2.2064078579782094 and parameters: {'feature_fraction': 0.13910280903736796, 'num_leaves': 251, 'bagging_fraction': 0.4905522097213262, 'lambda_l1': 0.003742661730923653, 'lambda_l2': 0.0013369977454411183, 'n_estimators': 256, 'max_depth': 3}. Best is trial 115 with value: 2.1775886009253598.\u001b[0m\n"
     ]
    },
    {
     "name": "stdout",
     "output_type": "stream",
     "text": [
      "[LightGBM] [Warning] lambda_l1 is set=0.0035100689884347475, reg_alpha=0.0 will be ignored. Current value: lambda_l1=0.0035100689884347475\n",
      "[LightGBM] [Warning] bagging_fraction is set=0.48588798468154853, subsample=1.0 will be ignored. Current value: bagging_fraction=0.48588798468154853\n",
      "[LightGBM] [Warning] feature_fraction is set=0.13611748412813965, colsample_bytree=1.0 will be ignored. Current value: feature_fraction=0.13611748412813965\n",
      "[LightGBM] [Warning] lambda_l2 is set=0.0011794640325349295, reg_lambda=0.0 will be ignored. Current value: lambda_l2=0.0011794640325349295\n"
     ]
    },
    {
     "name": "stderr",
     "output_type": "stream",
     "text": [
      "\u001b[32m[I 2023-02-13 15:13:44,428]\u001b[0m Trial 121 finished with value: 2.248304194735919 and parameters: {'feature_fraction': 0.13611748412813965, 'num_leaves': 248, 'bagging_fraction': 0.48588798468154853, 'lambda_l1': 0.0035100689884347475, 'lambda_l2': 0.0011794640325349295, 'n_estimators': 255, 'max_depth': 3}. Best is trial 115 with value: 2.1775886009253598.\u001b[0m\n"
     ]
    },
    {
     "name": "stdout",
     "output_type": "stream",
     "text": [
      "[LightGBM] [Warning] lambda_l1 is set=0.002884735016938203, reg_alpha=0.0 will be ignored. Current value: lambda_l1=0.002884735016938203\n",
      "[LightGBM] [Warning] bagging_fraction is set=0.46156236355767283, subsample=1.0 will be ignored. Current value: bagging_fraction=0.46156236355767283\n",
      "[LightGBM] [Warning] feature_fraction is set=0.0915590704590502, colsample_bytree=1.0 will be ignored. Current value: feature_fraction=0.0915590704590502\n",
      "[LightGBM] [Warning] lambda_l2 is set=0.0038786456382631646, reg_lambda=0.0 will be ignored. Current value: lambda_l2=0.0038786456382631646\n"
     ]
    },
    {
     "name": "stderr",
     "output_type": "stream",
     "text": [
      "\u001b[32m[I 2023-02-13 15:13:45,023]\u001b[0m Trial 122 finished with value: 2.1781581478002967 and parameters: {'feature_fraction': 0.0915590704590502, 'num_leaves': 232, 'bagging_fraction': 0.46156236355767283, 'lambda_l1': 0.002884735016938203, 'lambda_l2': 0.0038786456382631646, 'n_estimators': 266, 'max_depth': 3}. Best is trial 115 with value: 2.1775886009253598.\u001b[0m\n"
     ]
    },
    {
     "name": "stdout",
     "output_type": "stream",
     "text": [
      "[LightGBM] [Warning] lambda_l1 is set=0.0012841547853581336, reg_alpha=0.0 will be ignored. Current value: lambda_l1=0.0012841547853581336\n",
      "[LightGBM] [Warning] bagging_fraction is set=0.4987171042795888, subsample=1.0 will be ignored. Current value: bagging_fraction=0.4987171042795888\n",
      "[LightGBM] [Warning] feature_fraction is set=0.09433289874014424, colsample_bytree=1.0 will be ignored. Current value: feature_fraction=0.09433289874014424\n",
      "[LightGBM] [Warning] lambda_l2 is set=0.0007478648816916155, reg_lambda=0.0 will be ignored. Current value: lambda_l2=0.0007478648816916155\n"
     ]
    },
    {
     "name": "stderr",
     "output_type": "stream",
     "text": [
      "\u001b[32m[I 2023-02-13 15:13:45,615]\u001b[0m Trial 123 finished with value: 2.1791823373643022 and parameters: {'feature_fraction': 0.09433289874014424, 'num_leaves': 255, 'bagging_fraction': 0.4987171042795888, 'lambda_l1': 0.0012841547853581336, 'lambda_l2': 0.0007478648816916155, 'n_estimators': 262, 'max_depth': 3}. Best is trial 115 with value: 2.1775886009253598.\u001b[0m\n"
     ]
    },
    {
     "name": "stdout",
     "output_type": "stream",
     "text": [
      "[LightGBM] [Warning] lambda_l1 is set=0.0015795377523269935, reg_alpha=0.0 will be ignored. Current value: lambda_l1=0.0015795377523269935\n",
      "[LightGBM] [Warning] bagging_fraction is set=0.5005567834476604, subsample=1.0 will be ignored. Current value: bagging_fraction=0.5005567834476604\n",
      "[LightGBM] [Warning] feature_fraction is set=0.08972649725668225, colsample_bytree=1.0 will be ignored. Current value: feature_fraction=0.08972649725668225\n",
      "[LightGBM] [Warning] lambda_l2 is set=0.000650130396159181, reg_lambda=0.0 will be ignored. Current value: lambda_l2=0.000650130396159181\n"
     ]
    },
    {
     "name": "stderr",
     "output_type": "stream",
     "text": [
      "\u001b[32m[I 2023-02-13 15:13:46,257]\u001b[0m Trial 124 finished with value: 2.1791824525009433 and parameters: {'feature_fraction': 0.08972649725668225, 'num_leaves': 255, 'bagging_fraction': 0.5005567834476604, 'lambda_l1': 0.0015795377523269935, 'lambda_l2': 0.000650130396159181, 'n_estimators': 262, 'max_depth': 3}. Best is trial 115 with value: 2.1775886009253598.\u001b[0m\n"
     ]
    },
    {
     "name": "stdout",
     "output_type": "stream",
     "text": [
      "[LightGBM] [Warning] lambda_l1 is set=0.0017983802917121575, reg_alpha=0.0 will be ignored. Current value: lambda_l1=0.0017983802917121575\n",
      "[LightGBM] [Warning] bagging_fraction is set=0.5202454663429463, subsample=1.0 will be ignored. Current value: bagging_fraction=0.5202454663429463\n",
      "[LightGBM] [Warning] feature_fraction is set=0.0846248139418219, colsample_bytree=1.0 will be ignored. Current value: feature_fraction=0.0846248139418219\n",
      "[LightGBM] [Warning] lambda_l2 is set=0.0005603043912303007, reg_lambda=0.0 will be ignored. Current value: lambda_l2=0.0005603043912303007\n"
     ]
    },
    {
     "name": "stderr",
     "output_type": "stream",
     "text": [
      "\u001b[32m[I 2023-02-13 15:13:46,819]\u001b[0m Trial 125 finished with value: 2.236491051906433 and parameters: {'feature_fraction': 0.0846248139418219, 'num_leaves': 256, 'bagging_fraction': 0.5202454663429463, 'lambda_l1': 0.0017983802917121575, 'lambda_l2': 0.0005603043912303007, 'n_estimators': 245, 'max_depth': 3}. Best is trial 115 with value: 2.1775886009253598.\u001b[0m\n"
     ]
    },
    {
     "name": "stdout",
     "output_type": "stream",
     "text": [
      "[LightGBM] [Warning] lambda_l1 is set=0.001221527113673088, reg_alpha=0.0 will be ignored. Current value: lambda_l1=0.001221527113673088\n",
      "[LightGBM] [Warning] bagging_fraction is set=0.5072415611832551, subsample=1.0 will be ignored. Current value: bagging_fraction=0.5072415611832551\n",
      "[LightGBM] [Warning] feature_fraction is set=0.09045611713842339, colsample_bytree=1.0 will be ignored. Current value: feature_fraction=0.09045611713842339\n",
      "[LightGBM] [Warning] lambda_l2 is set=0.0015585128918064138, reg_lambda=0.0 will be ignored. Current value: lambda_l2=0.0015585128918064138\n"
     ]
    },
    {
     "name": "stderr",
     "output_type": "stream",
     "text": [
      "\u001b[32m[I 2023-02-13 15:13:47,409]\u001b[0m Trial 126 finished with value: 2.1790917863818513 and parameters: {'feature_fraction': 0.09045611713842339, 'num_leaves': 222, 'bagging_fraction': 0.5072415611832551, 'lambda_l1': 0.001221527113673088, 'lambda_l2': 0.0015585128918064138, 'n_estimators': 260, 'max_depth': 3}. Best is trial 115 with value: 2.1775886009253598.\u001b[0m\n"
     ]
    },
    {
     "name": "stdout",
     "output_type": "stream",
     "text": [
      "[LightGBM] [Warning] lambda_l1 is set=0.0005702098904391051, reg_alpha=0.0 will be ignored. Current value: lambda_l1=0.0005702098904391051\n",
      "[LightGBM] [Warning] bagging_fraction is set=0.5050811258309383, subsample=1.0 will be ignored. Current value: bagging_fraction=0.5050811258309383\n",
      "[LightGBM] [Warning] feature_fraction is set=0.08893984760772063, colsample_bytree=1.0 will be ignored. Current value: feature_fraction=0.08893984760772063\n",
      "[LightGBM] [Warning] lambda_l2 is set=0.000763876693846011, reg_lambda=0.0 will be ignored. Current value: lambda_l2=0.000763876693846011\n"
     ]
    },
    {
     "name": "stderr",
     "output_type": "stream",
     "text": [
      "\u001b[32m[I 2023-02-13 15:13:47,994]\u001b[0m Trial 127 finished with value: 2.237047162405232 and parameters: {'feature_fraction': 0.08893984760772063, 'num_leaves': 216, 'bagging_fraction': 0.5050811258309383, 'lambda_l1': 0.0005702098904391051, 'lambda_l2': 0.000763876693846011, 'n_estimators': 263, 'max_depth': 3}. Best is trial 115 with value: 2.1775886009253598.\u001b[0m\n"
     ]
    },
    {
     "name": "stdout",
     "output_type": "stream",
     "text": [
      "[LightGBM] [Warning] lambda_l1 is set=0.0013178637080780375, reg_alpha=0.0 will be ignored. Current value: lambda_l1=0.0013178637080780375\n",
      "[LightGBM] [Warning] bagging_fraction is set=0.4938537012983267, subsample=1.0 will be ignored. Current value: bagging_fraction=0.4938537012983267\n",
      "[LightGBM] [Warning] feature_fraction is set=0.1389186324474131, colsample_bytree=1.0 will be ignored. Current value: feature_fraction=0.1389186324474131\n",
      "[LightGBM] [Warning] lambda_l2 is set=0.0014563537365772003, reg_lambda=0.0 will be ignored. Current value: lambda_l2=0.0014563537365772003\n"
     ]
    },
    {
     "name": "stderr",
     "output_type": "stream",
     "text": [
      "\u001b[32m[I 2023-02-13 15:13:48,619]\u001b[0m Trial 128 finished with value: 2.2068019020631713 and parameters: {'feature_fraction': 0.1389186324474131, 'num_leaves': 237, 'bagging_fraction': 0.4938537012983267, 'lambda_l1': 0.0013178637080780375, 'lambda_l2': 0.0014563537365772003, 'n_estimators': 252, 'max_depth': 3}. Best is trial 115 with value: 2.1775886009253598.\u001b[0m\n"
     ]
    },
    {
     "name": "stdout",
     "output_type": "stream",
     "text": [
      "[LightGBM] [Warning] lambda_l1 is set=0.0013588550274784127, reg_alpha=0.0 will be ignored. Current value: lambda_l1=0.0013588550274784127\n",
      "[LightGBM] [Warning] bagging_fraction is set=0.49809844821221094, subsample=1.0 will be ignored. Current value: bagging_fraction=0.49809844821221094\n",
      "[LightGBM] [Warning] feature_fraction is set=0.1509006721469797, colsample_bytree=1.0 will be ignored. Current value: feature_fraction=0.1509006721469797\n",
      "[LightGBM] [Warning] lambda_l2 is set=0.001443154631058692, reg_lambda=0.0 will be ignored. Current value: lambda_l2=0.001443154631058692\n"
     ]
    },
    {
     "name": "stderr",
     "output_type": "stream",
     "text": [
      "\u001b[32m[I 2023-02-13 15:13:49,264]\u001b[0m Trial 129 finished with value: 2.243367068875284 and parameters: {'feature_fraction': 0.1509006721469797, 'num_leaves': 229, 'bagging_fraction': 0.49809844821221094, 'lambda_l1': 0.0013588550274784127, 'lambda_l2': 0.001443154631058692, 'n_estimators': 258, 'max_depth': 3}. Best is trial 115 with value: 2.1775886009253598.\u001b[0m\n"
     ]
    },
    {
     "name": "stdout",
     "output_type": "stream",
     "text": [
      "[LightGBM] [Warning] lambda_l1 is set=0.0009824679688138908, reg_alpha=0.0 will be ignored. Current value: lambda_l1=0.0009824679688138908\n",
      "[LightGBM] [Warning] bagging_fraction is set=0.5131104760576785, subsample=1.0 will be ignored. Current value: bagging_fraction=0.5131104760576785\n",
      "[LightGBM] [Warning] feature_fraction is set=0.14392858446658918, colsample_bytree=1.0 will be ignored. Current value: feature_fraction=0.14392858446658918\n",
      "[LightGBM] [Warning] lambda_l2 is set=0.000317789292443956, reg_lambda=0.0 will be ignored. Current value: lambda_l2=0.000317789292443956\n"
     ]
    },
    {
     "name": "stderr",
     "output_type": "stream",
     "text": [
      "\u001b[32m[I 2023-02-13 15:13:49,868]\u001b[0m Trial 130 finished with value: 2.208387316643059 and parameters: {'feature_fraction': 0.14392858446658918, 'num_leaves': 235, 'bagging_fraction': 0.5131104760576785, 'lambda_l1': 0.0009824679688138908, 'lambda_l2': 0.000317789292443956, 'n_estimators': 236, 'max_depth': 3}. Best is trial 115 with value: 2.1775886009253598.\u001b[0m\n"
     ]
    },
    {
     "name": "stdout",
     "output_type": "stream",
     "text": [
      "[LightGBM] [Warning] lambda_l1 is set=0.001016631280032032, reg_alpha=0.0 will be ignored. Current value: lambda_l1=0.001016631280032032\n",
      "[LightGBM] [Warning] bagging_fraction is set=0.5236101261293816, subsample=1.0 will be ignored. Current value: bagging_fraction=0.5236101261293816\n",
      "[LightGBM] [Warning] feature_fraction is set=0.14815375773029826, colsample_bytree=1.0 will be ignored. Current value: feature_fraction=0.14815375773029826\n",
      "[LightGBM] [Warning] lambda_l2 is set=0.00035970142769079633, reg_lambda=0.0 will be ignored. Current value: lambda_l2=0.00035970142769079633\n"
     ]
    },
    {
     "name": "stderr",
     "output_type": "stream",
     "text": [
      "\u001b[32m[I 2023-02-13 15:13:50,488]\u001b[0m Trial 131 finished with value: 2.2457917707266883 and parameters: {'feature_fraction': 0.14815375773029826, 'num_leaves': 219, 'bagging_fraction': 0.5236101261293816, 'lambda_l1': 0.001016631280032032, 'lambda_l2': 0.00035970142769079633, 'n_estimators': 237, 'max_depth': 3}. Best is trial 115 with value: 2.1775886009253598.\u001b[0m\n"
     ]
    },
    {
     "name": "stdout",
     "output_type": "stream",
     "text": [
      "[LightGBM] [Warning] lambda_l1 is set=0.0017710059042829636, reg_alpha=0.0 will be ignored. Current value: lambda_l1=0.0017710059042829636\n",
      "[LightGBM] [Warning] bagging_fraction is set=0.5069879355352476, subsample=1.0 will be ignored. Current value: bagging_fraction=0.5069879355352476\n",
      "[LightGBM] [Warning] feature_fraction is set=0.132700101321338, colsample_bytree=1.0 will be ignored. Current value: feature_fraction=0.132700101321338\n",
      "[LightGBM] [Warning] lambda_l2 is set=0.0002497941256148764, reg_lambda=0.0 will be ignored. Current value: lambda_l2=0.0002497941256148764\n"
     ]
    },
    {
     "name": "stderr",
     "output_type": "stream",
     "text": [
      "\u001b[32m[I 2023-02-13 15:13:51,169]\u001b[0m Trial 132 finished with value: 2.248911263176234 and parameters: {'feature_fraction': 0.132700101321338, 'num_leaves': 238, 'bagging_fraction': 0.5069879355352476, 'lambda_l1': 0.0017710059042829636, 'lambda_l2': 0.0002497941256148764, 'n_estimators': 252, 'max_depth': 3}. Best is trial 115 with value: 2.1775886009253598.\u001b[0m\n"
     ]
    },
    {
     "name": "stdout",
     "output_type": "stream",
     "text": [
      "[LightGBM] [Warning] lambda_l1 is set=0.0006477807881372782, reg_alpha=0.0 will be ignored. Current value: lambda_l1=0.0006477807881372782\n",
      "[LightGBM] [Warning] bagging_fraction is set=0.490506242316218, subsample=1.0 will be ignored. Current value: bagging_fraction=0.490506242316218\n",
      "[LightGBM] [Warning] feature_fraction is set=0.23345394674793274, colsample_bytree=1.0 will be ignored. Current value: feature_fraction=0.23345394674793274\n",
      "[LightGBM] [Warning] lambda_l2 is set=0.0007707470030140754, reg_lambda=0.0 will be ignored. Current value: lambda_l2=0.0007707470030140754\n"
     ]
    },
    {
     "name": "stderr",
     "output_type": "stream",
     "text": [
      "\u001b[32m[I 2023-02-13 15:13:51,865]\u001b[0m Trial 133 finished with value: 2.2780594188058063 and parameters: {'feature_fraction': 0.23345394674793274, 'num_leaves': 238, 'bagging_fraction': 0.490506242316218, 'lambda_l1': 0.0006477807881372782, 'lambda_l2': 0.0007707470030140754, 'n_estimators': 240, 'max_depth': 3}. Best is trial 115 with value: 2.1775886009253598.\u001b[0m\n"
     ]
    },
    {
     "name": "stdout",
     "output_type": "stream",
     "text": [
      "[LightGBM] [Warning] lambda_l1 is set=0.0022041669298723935, reg_alpha=0.0 will be ignored. Current value: lambda_l1=0.0022041669298723935\n",
      "[LightGBM] [Warning] bagging_fraction is set=0.5362938361462477, subsample=1.0 will be ignored. Current value: bagging_fraction=0.5362938361462477\n",
      "[LightGBM] [Warning] feature_fraction is set=0.09279059738130352, colsample_bytree=1.0 will be ignored. Current value: feature_fraction=0.09279059738130352\n",
      "[LightGBM] [Warning] lambda_l2 is set=0.0019367309634391447, reg_lambda=0.0 will be ignored. Current value: lambda_l2=0.0019367309634391447\n"
     ]
    },
    {
     "name": "stderr",
     "output_type": "stream",
     "text": [
      "\u001b[32m[I 2023-02-13 15:13:52,442]\u001b[0m Trial 134 finished with value: 2.179175078019895 and parameters: {'feature_fraction': 0.09279059738130352, 'num_leaves': 226, 'bagging_fraction': 0.5362938361462477, 'lambda_l1': 0.0022041669298723935, 'lambda_l2': 0.0019367309634391447, 'n_estimators': 249, 'max_depth': 3}. Best is trial 115 with value: 2.1775886009253598.\u001b[0m\n"
     ]
    },
    {
     "name": "stdout",
     "output_type": "stream",
     "text": [
      "[LightGBM] [Warning] lambda_l1 is set=0.00027902221942184856, reg_alpha=0.0 will be ignored. Current value: lambda_l1=0.00027902221942184856\n",
      "[LightGBM] [Warning] bagging_fraction is set=0.5183648733023268, subsample=1.0 will be ignored. Current value: bagging_fraction=0.5183648733023268\n",
      "[LightGBM] [Warning] feature_fraction is set=0.07187750536520185, colsample_bytree=1.0 will be ignored. Current value: feature_fraction=0.07187750536520185\n",
      "[LightGBM] [Warning] lambda_l2 is set=0.0005076424777233909, reg_lambda=0.0 will be ignored. Current value: lambda_l2=0.0005076424777233909\n"
     ]
    },
    {
     "name": "stderr",
     "output_type": "stream",
     "text": [
      "\u001b[32m[I 2023-02-13 15:13:53,000]\u001b[0m Trial 135 finished with value: 2.2289437723392544 and parameters: {'feature_fraction': 0.07187750536520185, 'num_leaves': 225, 'bagging_fraction': 0.5183648733023268, 'lambda_l1': 0.00027902221942184856, 'lambda_l2': 0.0005076424777233909, 'n_estimators': 251, 'max_depth': 3}. Best is trial 115 with value: 2.1775886009253598.\u001b[0m\n"
     ]
    },
    {
     "name": "stdout",
     "output_type": "stream",
     "text": [
      "[LightGBM] [Warning] lambda_l1 is set=0.002126609490011278, reg_alpha=0.0 will be ignored. Current value: lambda_l1=0.002126609490011278\n",
      "[LightGBM] [Warning] bagging_fraction is set=0.5380663741349565, subsample=1.0 will be ignored. Current value: bagging_fraction=0.5380663741349565\n",
      "[LightGBM] [Warning] feature_fraction is set=0.08743168244532162, colsample_bytree=1.0 will be ignored. Current value: feature_fraction=0.08743168244532162\n",
      "[LightGBM] [Warning] lambda_l2 is set=0.0014284514073354515, reg_lambda=0.0 will be ignored. Current value: lambda_l2=0.0014284514073354515\n"
     ]
    },
    {
     "name": "stderr",
     "output_type": "stream",
     "text": [
      "\u001b[32m[I 2023-02-13 15:13:53,561]\u001b[0m Trial 136 finished with value: 2.236471156322159 and parameters: {'feature_fraction': 0.08743168244532162, 'num_leaves': 234, 'bagging_fraction': 0.5380663741349565, 'lambda_l1': 0.002126609490011278, 'lambda_l2': 0.0014284514073354515, 'n_estimators': 243, 'max_depth': 3}. Best is trial 115 with value: 2.1775886009253598.\u001b[0m\n"
     ]
    },
    {
     "name": "stdout",
     "output_type": "stream",
     "text": [
      "[LightGBM] [Warning] lambda_l1 is set=0.0012750261040364078, reg_alpha=0.0 will be ignored. Current value: lambda_l1=0.0012750261040364078\n",
      "[LightGBM] [Warning] bagging_fraction is set=0.5619934287706176, subsample=1.0 will be ignored. Current value: bagging_fraction=0.5619934287706176\n",
      "[LightGBM] [Warning] feature_fraction is set=0.2188828277551551, colsample_bytree=1.0 will be ignored. Current value: feature_fraction=0.2188828277551551\n",
      "[LightGBM] [Warning] lambda_l2 is set=0.0008779044101420317, reg_lambda=0.0 will be ignored. Current value: lambda_l2=0.0008779044101420317\n"
     ]
    },
    {
     "name": "stderr",
     "output_type": "stream",
     "text": [
      "\u001b[32m[I 2023-02-13 15:13:54,269]\u001b[0m Trial 137 finished with value: 2.264457143600707 and parameters: {'feature_fraction': 0.2188828277551551, 'num_leaves': 209, 'bagging_fraction': 0.5619934287706176, 'lambda_l1': 0.0012750261040364078, 'lambda_l2': 0.0008779044101420317, 'n_estimators': 256, 'max_depth': 3}. Best is trial 115 with value: 2.1775886009253598.\u001b[0m\n"
     ]
    },
    {
     "name": "stdout",
     "output_type": "stream",
     "text": [
      "[LightGBM] [Warning] lambda_l1 is set=0.0007813340799904979, reg_alpha=0.0 will be ignored. Current value: lambda_l1=0.0007813340799904979\n",
      "[LightGBM] [Warning] bagging_fraction is set=0.508844933351608, subsample=1.0 will be ignored. Current value: bagging_fraction=0.508844933351608\n",
      "[LightGBM] [Warning] feature_fraction is set=0.10390766950271675, colsample_bytree=1.0 will be ignored. Current value: feature_fraction=0.10390766950271675\n",
      "[LightGBM] [Warning] lambda_l2 is set=0.0014809082867555186, reg_lambda=0.0 will be ignored. Current value: lambda_l2=0.0014809082867555186\n"
     ]
    },
    {
     "name": "stderr",
     "output_type": "stream",
     "text": [
      "\u001b[32m[I 2023-02-13 15:13:54,688]\u001b[0m Trial 138 finished with value: 2.2497635464341896 and parameters: {'feature_fraction': 0.10390766950271675, 'num_leaves': 228, 'bagging_fraction': 0.508844933351608, 'lambda_l1': 0.0007813340799904979, 'lambda_l2': 0.0014809082867555186, 'n_estimators': 107, 'max_depth': 3}. Best is trial 115 with value: 2.1775886009253598.\u001b[0m\n"
     ]
    },
    {
     "name": "stdout",
     "output_type": "stream",
     "text": [
      "[LightGBM] [Warning] lambda_l1 is set=0.0013723927854057026, reg_alpha=0.0 will be ignored. Current value: lambda_l1=0.0013723927854057026\n",
      "[LightGBM] [Warning] bagging_fraction is set=0.49257634202637096, subsample=1.0 will be ignored. Current value: bagging_fraction=0.49257634202637096\n",
      "[LightGBM] [Warning] feature_fraction is set=0.07080110484241425, colsample_bytree=1.0 will be ignored. Current value: feature_fraction=0.07080110484241425\n",
      "[LightGBM] [Warning] lambda_l2 is set=0.00015776122875203305, reg_lambda=0.0 will be ignored. Current value: lambda_l2=0.00015776122875203305\n"
     ]
    },
    {
     "name": "stderr",
     "output_type": "stream",
     "text": [
      "\u001b[32m[I 2023-02-13 15:13:55,244]\u001b[0m Trial 139 finished with value: 2.229627536042435 and parameters: {'feature_fraction': 0.07080110484241425, 'num_leaves': 242, 'bagging_fraction': 0.49257634202637096, 'lambda_l1': 0.0013723927854057026, 'lambda_l2': 0.00015776122875203305, 'n_estimators': 248, 'max_depth': 3}. Best is trial 115 with value: 2.1775886009253598.\u001b[0m\n"
     ]
    },
    {
     "name": "stdout",
     "output_type": "stream",
     "text": [
      "[LightGBM] [Warning] lambda_l1 is set=0.0005094134194813842, reg_alpha=0.0 will be ignored. Current value: lambda_l1=0.0005094134194813842\n",
      "[LightGBM] [Warning] bagging_fraction is set=0.4788086371512774, subsample=1.0 will be ignored. Current value: bagging_fraction=0.4788086371512774\n",
      "[LightGBM] [Warning] feature_fraction is set=0.2048101509754003, colsample_bytree=1.0 will be ignored. Current value: feature_fraction=0.2048101509754003\n",
      "[LightGBM] [Warning] lambda_l2 is set=0.00045214105443598386, reg_lambda=0.0 will be ignored. Current value: lambda_l2=0.00045214105443598386\n"
     ]
    },
    {
     "name": "stderr",
     "output_type": "stream",
     "text": [
      "\u001b[32m[I 2023-02-13 15:13:55,907]\u001b[0m Trial 140 finished with value: 2.230443442590339 and parameters: {'feature_fraction': 0.2048101509754003, 'num_leaves': 253, 'bagging_fraction': 0.4788086371512774, 'lambda_l1': 0.0005094134194813842, 'lambda_l2': 0.00045214105443598386, 'n_estimators': 231, 'max_depth': 3}. Best is trial 115 with value: 2.1775886009253598.\u001b[0m\n"
     ]
    },
    {
     "name": "stdout",
     "output_type": "stream",
     "text": [
      "[LightGBM] [Warning] lambda_l1 is set=0.002300274865259496, reg_alpha=0.0 will be ignored. Current value: lambda_l1=0.002300274865259496\n",
      "[LightGBM] [Warning] bagging_fraction is set=0.5295852942147128, subsample=1.0 will be ignored. Current value: bagging_fraction=0.5295852942147128\n",
      "[LightGBM] [Warning] feature_fraction is set=0.1331827855815574, colsample_bytree=1.0 will be ignored. Current value: feature_fraction=0.1331827855815574\n",
      "[LightGBM] [Warning] lambda_l2 is set=0.0019954765547964795, reg_lambda=0.0 will be ignored. Current value: lambda_l2=0.0019954765547964795\n"
     ]
    },
    {
     "name": "stderr",
     "output_type": "stream",
     "text": [
      "\u001b[32m[I 2023-02-13 15:13:56,607]\u001b[0m Trial 141 finished with value: 2.2477828684640775 and parameters: {'feature_fraction': 0.1331827855815574, 'num_leaves': 234, 'bagging_fraction': 0.5295852942147128, 'lambda_l1': 0.002300274865259496, 'lambda_l2': 0.0019954765547964795, 'n_estimators': 264, 'max_depth': 3}. Best is trial 115 with value: 2.1775886009253598.\u001b[0m\n"
     ]
    },
    {
     "name": "stdout",
     "output_type": "stream",
     "text": [
      "[LightGBM] [Warning] lambda_l1 is set=0.0026090698090332092, reg_alpha=0.0 will be ignored. Current value: lambda_l1=0.0026090698090332092\n",
      "[LightGBM] [Warning] bagging_fraction is set=0.5002448182736005, subsample=1.0 will be ignored. Current value: bagging_fraction=0.5002448182736005\n",
      "[LightGBM] [Warning] feature_fraction is set=0.18259294090428901, colsample_bytree=1.0 will be ignored. Current value: feature_fraction=0.18259294090428901\n",
      "[LightGBM] [Warning] lambda_l2 is set=0.0010703762858389001, reg_lambda=0.0 will be ignored. Current value: lambda_l2=0.0010703762858389001\n"
     ]
    },
    {
     "name": "stderr",
     "output_type": "stream",
     "text": [
      "\u001b[32m[I 2023-02-13 15:13:57,369]\u001b[0m Trial 142 finished with value: 2.2339198764644634 and parameters: {'feature_fraction': 0.18259294090428901, 'num_leaves': 192, 'bagging_fraction': 0.5002448182736005, 'lambda_l1': 0.0026090698090332092, 'lambda_l2': 0.0010703762858389001, 'n_estimators': 259, 'max_depth': 3}. Best is trial 115 with value: 2.1775886009253598.\u001b[0m\n"
     ]
    },
    {
     "name": "stdout",
     "output_type": "stream",
     "text": [
      "[LightGBM] [Warning] lambda_l1 is set=0.004286227064967419, reg_alpha=0.0 will be ignored. Current value: lambda_l1=0.004286227064967419\n",
      "[LightGBM] [Warning] bagging_fraction is set=0.4698919258842555, subsample=1.0 will be ignored. Current value: bagging_fraction=0.4698919258842555\n",
      "[LightGBM] [Warning] feature_fraction is set=0.0951444902174497, colsample_bytree=1.0 will be ignored. Current value: feature_fraction=0.0951444902174497\n",
      "[LightGBM] [Warning] lambda_l2 is set=0.0037777835966274825, reg_lambda=0.0 will be ignored. Current value: lambda_l2=0.0037777835966274825\n"
     ]
    },
    {
     "name": "stderr",
     "output_type": "stream",
     "text": [
      "\u001b[32m[I 2023-02-13 15:13:57,933]\u001b[0m Trial 143 finished with value: 2.179285735542109 and parameters: {'feature_fraction': 0.0951444902174497, 'num_leaves': 220, 'bagging_fraction': 0.4698919258842555, 'lambda_l1': 0.004286227064967419, 'lambda_l2': 0.0037777835966274825, 'n_estimators': 237, 'max_depth': 3}. Best is trial 115 with value: 2.1775886009253598.\u001b[0m\n"
     ]
    },
    {
     "name": "stdout",
     "output_type": "stream",
     "text": [
      "[LightGBM] [Warning] lambda_l1 is set=0.0009544232204005393, reg_alpha=0.0 will be ignored. Current value: lambda_l1=0.0009544232204005393\n",
      "[LightGBM] [Warning] bagging_fraction is set=0.4702929985497832, subsample=1.0 will be ignored. Current value: bagging_fraction=0.4702929985497832\n",
      "[LightGBM] [Warning] feature_fraction is set=0.10019795523842218, colsample_bytree=1.0 will be ignored. Current value: feature_fraction=0.10019795523842218\n",
      "[LightGBM] [Warning] lambda_l2 is set=0.004348821795396457, reg_lambda=0.0 will be ignored. Current value: lambda_l2=0.004348821795396457\n"
     ]
    },
    {
     "name": "stderr",
     "output_type": "stream",
     "text": [
      "\u001b[32m[I 2023-02-13 15:13:58,501]\u001b[0m Trial 144 finished with value: 2.2212888552204695 and parameters: {'feature_fraction': 0.10019795523842218, 'num_leaves': 218, 'bagging_fraction': 0.4702929985497832, 'lambda_l1': 0.0009544232204005393, 'lambda_l2': 0.004348821795396457, 'n_estimators': 234, 'max_depth': 3}. Best is trial 115 with value: 2.1775886009253598.\u001b[0m\n"
     ]
    },
    {
     "name": "stdout",
     "output_type": "stream",
     "text": [
      "[LightGBM] [Warning] lambda_l1 is set=0.0004017996839518919, reg_alpha=0.0 will be ignored. Current value: lambda_l1=0.0004017996839518919\n",
      "[LightGBM] [Warning] bagging_fraction is set=0.4896368986499558, subsample=1.0 will be ignored. Current value: bagging_fraction=0.4896368986499558\n",
      "[LightGBM] [Warning] feature_fraction is set=0.08993187813234059, colsample_bytree=1.0 will be ignored. Current value: feature_fraction=0.08993187813234059\n",
      "[LightGBM] [Warning] lambda_l2 is set=0.0029206275531178357, reg_lambda=0.0 will be ignored. Current value: lambda_l2=0.0029206275531178357\n"
     ]
    },
    {
     "name": "stderr",
     "output_type": "stream",
     "text": [
      "\u001b[32m[I 2023-02-13 15:13:59,050]\u001b[0m Trial 145 finished with value: 2.181368603065 and parameters: {'feature_fraction': 0.08993187813234059, 'num_leaves': 246, 'bagging_fraction': 0.4896368986499558, 'lambda_l1': 0.0004017996839518919, 'lambda_l2': 0.0029206275531178357, 'n_estimators': 224, 'max_depth': 3}. Best is trial 115 with value: 2.1775886009253598.\u001b[0m\n"
     ]
    },
    {
     "name": "stdout",
     "output_type": "stream",
     "text": [
      "[LightGBM] [Warning] lambda_l1 is set=0.00039947345775615814, reg_alpha=0.0 will be ignored. Current value: lambda_l1=0.00039947345775615814\n",
      "[LightGBM] [Warning] bagging_fraction is set=0.4846775535563632, subsample=1.0 will be ignored. Current value: bagging_fraction=0.4846775535563632\n",
      "[LightGBM] [Warning] feature_fraction is set=0.07115465515384974, colsample_bytree=1.0 will be ignored. Current value: feature_fraction=0.07115465515384974\n",
      "[LightGBM] [Warning] lambda_l2 is set=0.0028040166319756384, reg_lambda=0.0 will be ignored. Current value: lambda_l2=0.0028040166319756384\n"
     ]
    },
    {
     "name": "stderr",
     "output_type": "stream",
     "text": [
      "\u001b[32m[I 2023-02-13 15:13:59,603]\u001b[0m Trial 146 finished with value: 2.22996749892071 and parameters: {'feature_fraction': 0.07115465515384974, 'num_leaves': 250, 'bagging_fraction': 0.4846775535563632, 'lambda_l1': 0.00039947345775615814, 'lambda_l2': 0.0028040166319756384, 'n_estimators': 244, 'max_depth': 3}. Best is trial 115 with value: 2.1775886009253598.\u001b[0m\n"
     ]
    },
    {
     "name": "stdout",
     "output_type": "stream",
     "text": [
      "[LightGBM] [Warning] lambda_l1 is set=0.000284403508132519, reg_alpha=0.0 will be ignored. Current value: lambda_l1=0.000284403508132519\n",
      "[LightGBM] [Warning] bagging_fraction is set=0.46322763256318444, subsample=1.0 will be ignored. Current value: bagging_fraction=0.46322763256318444\n",
      "[LightGBM] [Warning] feature_fraction is set=0.022792005033618737, colsample_bytree=1.0 will be ignored. Current value: feature_fraction=0.022792005033618737\n",
      "[LightGBM] [Warning] lambda_l2 is set=0.00455852709108219, reg_lambda=0.0 will be ignored. Current value: lambda_l2=0.00455852709108219\n"
     ]
    },
    {
     "name": "stderr",
     "output_type": "stream",
     "text": [
      "\u001b[32m[I 2023-02-13 15:14:00,084]\u001b[0m Trial 147 finished with value: 2.249354099664272 and parameters: {'feature_fraction': 0.022792005033618737, 'num_leaves': 245, 'bagging_fraction': 0.46322763256318444, 'lambda_l1': 0.000284403508132519, 'lambda_l2': 0.00455852709108219, 'n_estimators': 218, 'max_depth': 3}. Best is trial 115 with value: 2.1775886009253598.\u001b[0m\n"
     ]
    },
    {
     "name": "stdout",
     "output_type": "stream",
     "text": [
      "[LightGBM] [Warning] lambda_l1 is set=0.004303522403037133, reg_alpha=0.0 will be ignored. Current value: lambda_l1=0.004303522403037133\n",
      "[LightGBM] [Warning] bagging_fraction is set=0.4935097510932775, subsample=1.0 will be ignored. Current value: bagging_fraction=0.4935097510932775\n",
      "[LightGBM] [Warning] feature_fraction is set=0.09376765035268661, colsample_bytree=1.0 will be ignored. Current value: feature_fraction=0.09376765035268661\n",
      "[LightGBM] [Warning] lambda_l2 is set=0.0019669168080027446, reg_lambda=0.0 will be ignored. Current value: lambda_l2=0.0019669168080027446\n"
     ]
    },
    {
     "name": "stderr",
     "output_type": "stream",
     "text": [
      "\u001b[32m[I 2023-02-13 15:14:00,634]\u001b[0m Trial 148 finished with value: 2.180630760670147 and parameters: {'feature_fraction': 0.09376765035268661, 'num_leaves': 227, 'bagging_fraction': 0.4935097510932775, 'lambda_l1': 0.004303522403037133, 'lambda_l2': 0.0019669168080027446, 'n_estimators': 224, 'max_depth': 3}. Best is trial 115 with value: 2.1775886009253598.\u001b[0m\n"
     ]
    },
    {
     "name": "stdout",
     "output_type": "stream",
     "text": [
      "[LightGBM] [Warning] lambda_l1 is set=0.0015468302385975889, reg_alpha=0.0 will be ignored. Current value: lambda_l1=0.0015468302385975889\n",
      "[LightGBM] [Warning] bagging_fraction is set=0.47976716141494863, subsample=1.0 will be ignored. Current value: bagging_fraction=0.47976716141494863\n",
      "[LightGBM] [Warning] feature_fraction is set=0.09861205301067084, colsample_bytree=1.0 will be ignored. Current value: feature_fraction=0.09861205301067084\n",
      "[LightGBM] [Warning] lambda_l2 is set=0.001919951687153513, reg_lambda=0.0 will be ignored. Current value: lambda_l2=0.001919951687153513\n"
     ]
    },
    {
     "name": "stderr",
     "output_type": "stream",
     "text": [
      "\u001b[32m[I 2023-02-13 15:14:01,185]\u001b[0m Trial 149 finished with value: 2.181170650297418 and parameters: {'feature_fraction': 0.09861205301067084, 'num_leaves': 213, 'bagging_fraction': 0.47976716141494863, 'lambda_l1': 0.0015468302385975889, 'lambda_l2': 0.001919951687153513, 'n_estimators': 225, 'max_depth': 3}. Best is trial 115 with value: 2.1775886009253598.\u001b[0m\n"
     ]
    },
    {
     "name": "stdout",
     "output_type": "stream",
     "text": [
      "[LightGBM] [Warning] lambda_l1 is set=0.0019623839770164355, reg_alpha=0.0 will be ignored. Current value: lambda_l1=0.0019623839770164355\n",
      "[LightGBM] [Warning] bagging_fraction is set=0.47485432007992867, subsample=1.0 will be ignored. Current value: bagging_fraction=0.47485432007992867\n",
      "[LightGBM] [Warning] feature_fraction is set=0.09212641523372742, colsample_bytree=1.0 will be ignored. Current value: feature_fraction=0.09212641523372742\n",
      "[LightGBM] [Warning] lambda_l2 is set=0.0007198566028315874, reg_lambda=0.0 will be ignored. Current value: lambda_l2=0.0007198566028315874\n"
     ]
    },
    {
     "name": "stderr",
     "output_type": "stream",
     "text": [
      "\u001b[32m[I 2023-02-13 15:14:01,719]\u001b[0m Trial 150 finished with value: 2.183268437388248 and parameters: {'feature_fraction': 0.09212641523372742, 'num_leaves': 207, 'bagging_fraction': 0.47485432007992867, 'lambda_l1': 0.0019623839770164355, 'lambda_l2': 0.0007198566028315874, 'n_estimators': 210, 'max_depth': 3}. Best is trial 115 with value: 2.1775886009253598.\u001b[0m\n"
     ]
    },
    {
     "name": "stdout",
     "output_type": "stream",
     "text": [
      "[LightGBM] [Warning] lambda_l1 is set=0.004261017342179183, reg_alpha=0.0 will be ignored. Current value: lambda_l1=0.004261017342179183\n",
      "[LightGBM] [Warning] bagging_fraction is set=0.4821943114443382, subsample=1.0 will be ignored. Current value: bagging_fraction=0.4821943114443382\n",
      "[LightGBM] [Warning] feature_fraction is set=0.09078258035041913, colsample_bytree=1.0 will be ignored. Current value: feature_fraction=0.09078258035041913\n",
      "[LightGBM] [Warning] lambda_l2 is set=0.002014716981869765, reg_lambda=0.0 will be ignored. Current value: lambda_l2=0.002014716981869765\n"
     ]
    },
    {
     "name": "stderr",
     "output_type": "stream",
     "text": [
      "\u001b[32m[I 2023-02-13 15:14:02,253]\u001b[0m Trial 151 finished with value: 2.1827545334903635 and parameters: {'feature_fraction': 0.09078258035041913, 'num_leaves': 210, 'bagging_fraction': 0.4821943114443382, 'lambda_l1': 0.004261017342179183, 'lambda_l2': 0.002014716981869765, 'n_estimators': 210, 'max_depth': 3}. Best is trial 115 with value: 2.1775886009253598.\u001b[0m\n"
     ]
    },
    {
     "name": "stdout",
     "output_type": "stream",
     "text": [
      "[LightGBM] [Warning] lambda_l1 is set=0.005107890958131576, reg_alpha=0.0 will be ignored. Current value: lambda_l1=0.005107890958131576\n",
      "[LightGBM] [Warning] bagging_fraction is set=0.47437864789712403, subsample=1.0 will be ignored. Current value: bagging_fraction=0.47437864789712403\n",
      "[LightGBM] [Warning] feature_fraction is set=0.08888749029088466, colsample_bytree=1.0 will be ignored. Current value: feature_fraction=0.08888749029088466\n",
      "[LightGBM] [Warning] lambda_l2 is set=0.0023025585667609287, reg_lambda=0.0 will be ignored. Current value: lambda_l2=0.0023025585667609287\n"
     ]
    },
    {
     "name": "stderr",
     "output_type": "stream",
     "text": [
      "\u001b[32m[I 2023-02-13 15:14:02,781]\u001b[0m Trial 152 finished with value: 2.2389138073946073 and parameters: {'feature_fraction': 0.08888749029088466, 'num_leaves': 209, 'bagging_fraction': 0.47437864789712403, 'lambda_l1': 0.005107890958131576, 'lambda_l2': 0.0023025585667609287, 'n_estimators': 210, 'max_depth': 3}. Best is trial 115 with value: 2.1775886009253598.\u001b[0m\n"
     ]
    },
    {
     "name": "stdout",
     "output_type": "stream",
     "text": [
      "[LightGBM] [Warning] lambda_l1 is set=0.001997626390813208, reg_alpha=0.0 will be ignored. Current value: lambda_l1=0.001997626390813208\n",
      "[LightGBM] [Warning] bagging_fraction is set=0.46151860932198946, subsample=1.0 will be ignored. Current value: bagging_fraction=0.46151860932198946\n",
      "[LightGBM] [Warning] feature_fraction is set=0.04482935628866142, colsample_bytree=1.0 will be ignored. Current value: feature_fraction=0.04482935628866142\n",
      "[LightGBM] [Warning] lambda_l2 is set=0.0032295642255414105, reg_lambda=0.0 will be ignored. Current value: lambda_l2=0.0032295642255414105\n"
     ]
    },
    {
     "name": "stderr",
     "output_type": "stream",
     "text": [
      "\u001b[32m[I 2023-02-13 15:14:03,290]\u001b[0m Trial 153 finished with value: 2.217862558831476 and parameters: {'feature_fraction': 0.04482935628866142, 'num_leaves': 201, 'bagging_fraction': 0.46151860932198946, 'lambda_l1': 0.001997626390813208, 'lambda_l2': 0.0032295642255414105, 'n_estimators': 226, 'max_depth': 3}. Best is trial 115 with value: 2.1775886009253598.\u001b[0m\n"
     ]
    },
    {
     "name": "stdout",
     "output_type": "stream",
     "text": [
      "[LightGBM] [Warning] lambda_l1 is set=0.0026358293596651905, reg_alpha=0.0 will be ignored. Current value: lambda_l1=0.0026358293596651905\n",
      "[LightGBM] [Warning] bagging_fraction is set=0.4797553552670566, subsample=1.0 will be ignored. Current value: bagging_fraction=0.4797553552670566\n",
      "[LightGBM] [Warning] feature_fraction is set=0.06605417228541025, colsample_bytree=1.0 will be ignored. Current value: feature_fraction=0.06605417228541025\n",
      "[LightGBM] [Warning] lambda_l2 is set=0.0008266780592852619, reg_lambda=0.0 will be ignored. Current value: lambda_l2=0.0008266780592852619\n"
     ]
    },
    {
     "name": "stderr",
     "output_type": "stream",
     "text": [
      "\u001b[32m[I 2023-02-13 15:14:03,806]\u001b[0m Trial 154 finished with value: 2.220693100831924 and parameters: {'feature_fraction': 0.06605417228541025, 'num_leaves': 221, 'bagging_fraction': 0.4797553552670566, 'lambda_l1': 0.0026358293596651905, 'lambda_l2': 0.0008266780592852619, 'n_estimators': 214, 'max_depth': 3}. Best is trial 115 with value: 2.1775886009253598.\u001b[0m\n"
     ]
    },
    {
     "name": "stdout",
     "output_type": "stream",
     "text": [
      "[LightGBM] [Warning] lambda_l1 is set=0.005160547207344227, reg_alpha=0.0 will be ignored. Current value: lambda_l1=0.005160547207344227\n",
      "[LightGBM] [Warning] bagging_fraction is set=0.46843240066087516, subsample=1.0 will be ignored. Current value: bagging_fraction=0.46843240066087516\n",
      "[LightGBM] [Warning] feature_fraction is set=0.09799553308465188, colsample_bytree=1.0 will be ignored. Current value: feature_fraction=0.09799553308465188\n",
      "[LightGBM] [Warning] lambda_l2 is set=0.0006191168099005791, reg_lambda=0.0 will be ignored. Current value: lambda_l2=0.0006191168099005791\n"
     ]
    },
    {
     "name": "stderr",
     "output_type": "stream",
     "text": [
      "\u001b[32m[I 2023-02-13 15:14:04,356]\u001b[0m Trial 155 finished with value: 2.18063143779929 and parameters: {'feature_fraction': 0.09799553308465188, 'num_leaves': 215, 'bagging_fraction': 0.46843240066087516, 'lambda_l1': 0.005160547207344227, 'lambda_l2': 0.0006191168099005791, 'n_estimators': 224, 'max_depth': 3}. Best is trial 115 with value: 2.1775886009253598.\u001b[0m\n"
     ]
    },
    {
     "name": "stdout",
     "output_type": "stream",
     "text": [
      "[LightGBM] [Warning] lambda_l1 is set=0.004640216948279608, reg_alpha=0.0 will be ignored. Current value: lambda_l1=0.004640216948279608\n",
      "[LightGBM] [Warning] bagging_fraction is set=0.4565679476730685, subsample=1.0 will be ignored. Current value: bagging_fraction=0.4565679476730685\n",
      "[LightGBM] [Warning] feature_fraction is set=0.09425133428856264, colsample_bytree=1.0 will be ignored. Current value: feature_fraction=0.09425133428856264\n",
      "[LightGBM] [Warning] lambda_l2 is set=0.0006009304192526227, reg_lambda=0.0 will be ignored. Current value: lambda_l2=0.0006009304192526227\n"
     ]
    },
    {
     "name": "stderr",
     "output_type": "stream",
     "text": [
      "\u001b[32m[I 2023-02-13 15:14:04,909]\u001b[0m Trial 156 finished with value: 2.1807904125938755 and parameters: {'feature_fraction': 0.09425133428856264, 'num_leaves': 212, 'bagging_fraction': 0.4565679476730685, 'lambda_l1': 0.004640216948279608, 'lambda_l2': 0.0006009304192526227, 'n_estimators': 223, 'max_depth': 3}. Best is trial 115 with value: 2.1775886009253598.\u001b[0m\n"
     ]
    },
    {
     "name": "stdout",
     "output_type": "stream",
     "text": [
      "[LightGBM] [Warning] lambda_l1 is set=0.00450153256918032, reg_alpha=0.0 will be ignored. Current value: lambda_l1=0.00450153256918032\n",
      "[LightGBM] [Warning] bagging_fraction is set=0.45821644043615795, subsample=1.0 will be ignored. Current value: bagging_fraction=0.45821644043615795\n",
      "[LightGBM] [Warning] feature_fraction is set=0.09957632874884352, colsample_bytree=1.0 will be ignored. Current value: feature_fraction=0.09957632874884352\n",
      "[LightGBM] [Warning] lambda_l2 is set=0.0006746495521096622, reg_lambda=0.0 will be ignored. Current value: lambda_l2=0.0006746495521096622\n"
     ]
    },
    {
     "name": "stderr",
     "output_type": "stream",
     "text": [
      "\u001b[32m[I 2023-02-13 15:14:05,441]\u001b[0m Trial 157 finished with value: 2.2273899440426543 and parameters: {'feature_fraction': 0.09957632874884352, 'num_leaves': 213, 'bagging_fraction': 0.45821644043615795, 'lambda_l1': 0.00450153256918032, 'lambda_l2': 0.0006746495521096622, 'n_estimators': 202, 'max_depth': 3}. Best is trial 115 with value: 2.1775886009253598.\u001b[0m\n"
     ]
    },
    {
     "name": "stdout",
     "output_type": "stream",
     "text": [
      "[LightGBM] [Warning] lambda_l1 is set=0.0014955463258017323, reg_alpha=0.0 will be ignored. Current value: lambda_l1=0.0014955463258017323\n",
      "[LightGBM] [Warning] bagging_fraction is set=0.4548090970808033, subsample=1.0 will be ignored. Current value: bagging_fraction=0.4548090970808033\n",
      "[LightGBM] [Warning] feature_fraction is set=0.11736073563935534, colsample_bytree=1.0 will be ignored. Current value: feature_fraction=0.11736073563935534\n",
      "[LightGBM] [Warning] lambda_l2 is set=0.0005356465647500683, reg_lambda=0.0 will be ignored. Current value: lambda_l2=0.0005356465647500683\n"
     ]
    },
    {
     "name": "stderr",
     "output_type": "stream",
     "text": [
      "\u001b[32m[I 2023-02-13 15:14:06,013]\u001b[0m Trial 158 finished with value: 2.213160586904377 and parameters: {'feature_fraction': 0.11736073563935534, 'num_leaves': 206, 'bagging_fraction': 0.4548090970808033, 'lambda_l1': 0.0014955463258017323, 'lambda_l2': 0.0005356465647500683, 'n_estimators': 229, 'max_depth': 3}. Best is trial 115 with value: 2.1775886009253598.\u001b[0m\n"
     ]
    },
    {
     "name": "stdout",
     "output_type": "stream",
     "text": [
      "[LightGBM] [Warning] lambda_l1 is set=0.005854343532694499, reg_alpha=0.0 will be ignored. Current value: lambda_l1=0.005854343532694499\n",
      "[LightGBM] [Warning] bagging_fraction is set=0.5104275769649391, subsample=1.0 will be ignored. Current value: bagging_fraction=0.5104275769649391\n",
      "[LightGBM] [Warning] feature_fraction is set=0.037370941470469855, colsample_bytree=1.0 will be ignored. Current value: feature_fraction=0.037370941470469855\n",
      "[LightGBM] [Warning] lambda_l2 is set=0.0010295207909465313, reg_lambda=0.0 will be ignored. Current value: lambda_l2=0.0010295207909465313\n"
     ]
    },
    {
     "name": "stderr",
     "output_type": "stream",
     "text": [
      "\u001b[32m[I 2023-02-13 15:14:06,511]\u001b[0m Trial 159 finished with value: 2.2435989174286055 and parameters: {'feature_fraction': 0.037370941470469855, 'num_leaves': 223, 'bagging_fraction': 0.5104275769649391, 'lambda_l1': 0.005854343532694499, 'lambda_l2': 0.0010295207909465313, 'n_estimators': 222, 'max_depth': 3}. Best is trial 115 with value: 2.1775886009253598.\u001b[0m\n"
     ]
    },
    {
     "name": "stdout",
     "output_type": "stream",
     "text": [
      "[LightGBM] [Warning] lambda_l1 is set=0.0007270740532072447, reg_alpha=0.0 will be ignored. Current value: lambda_l1=0.0007270740532072447\n",
      "[LightGBM] [Warning] bagging_fraction is set=0.4698185816432871, subsample=1.0 will be ignored. Current value: bagging_fraction=0.4698185816432871\n",
      "[LightGBM] [Warning] feature_fraction is set=0.07937408215896535, colsample_bytree=1.0 will be ignored. Current value: feature_fraction=0.07937408215896535\n",
      "[LightGBM] [Warning] lambda_l2 is set=0.0018932160090521675, reg_lambda=0.0 will be ignored. Current value: lambda_l2=0.0018932160090521675\n"
     ]
    },
    {
     "name": "stderr",
     "output_type": "stream",
     "text": [
      "\u001b[32m[I 2023-02-13 15:14:07,008]\u001b[0m Trial 160 finished with value: 2.2335676227597396 and parameters: {'feature_fraction': 0.07937408215896535, 'num_leaves': 197, 'bagging_fraction': 0.4698185816432871, 'lambda_l1': 0.0007270740532072447, 'lambda_l2': 0.0018932160090521675, 'n_estimators': 190, 'max_depth': 3}. Best is trial 115 with value: 2.1775886009253598.\u001b[0m\n"
     ]
    },
    {
     "name": "stdout",
     "output_type": "stream",
     "text": [
      "[LightGBM] [Warning] lambda_l1 is set=0.002353443541507574, reg_alpha=0.0 will be ignored. Current value: lambda_l1=0.002353443541507574\n",
      "[LightGBM] [Warning] bagging_fraction is set=0.481024722962076, subsample=1.0 will be ignored. Current value: bagging_fraction=0.481024722962076\n",
      "[LightGBM] [Warning] feature_fraction is set=0.09734794490322878, colsample_bytree=1.0 will be ignored. Current value: feature_fraction=0.09734794490322878\n",
      "[LightGBM] [Warning] lambda_l2 is set=0.000657639758815044, reg_lambda=0.0 will be ignored. Current value: lambda_l2=0.000657639758815044\n"
     ]
    },
    {
     "name": "stderr",
     "output_type": "stream",
     "text": [
      "\u001b[32m[I 2023-02-13 15:14:07,538]\u001b[0m Trial 161 finished with value: 2.1841545509966935 and parameters: {'feature_fraction': 0.09734794490322878, 'num_leaves': 227, 'bagging_fraction': 0.481024722962076, 'lambda_l1': 0.002353443541507574, 'lambda_l2': 0.000657639758815044, 'n_estimators': 206, 'max_depth': 3}. Best is trial 115 with value: 2.1775886009253598.\u001b[0m\n"
     ]
    },
    {
     "name": "stdout",
     "output_type": "stream",
     "text": [
      "[LightGBM] [Warning] lambda_l1 is set=0.0022020904110367666, reg_alpha=0.0 will be ignored. Current value: lambda_l1=0.0022020904110367666\n",
      "[LightGBM] [Warning] bagging_fraction is set=0.4854078843815387, subsample=1.0 will be ignored. Current value: bagging_fraction=0.4854078843815387\n",
      "[LightGBM] [Warning] feature_fraction is set=0.339336187671253, colsample_bytree=1.0 will be ignored. Current value: feature_fraction=0.339336187671253\n",
      "[LightGBM] [Warning] lambda_l2 is set=0.0006093433416514612, reg_lambda=0.0 will be ignored. Current value: lambda_l2=0.0006093433416514612\n"
     ]
    },
    {
     "name": "stderr",
     "output_type": "stream",
     "text": [
      "\u001b[32m[I 2023-02-13 15:14:08,273]\u001b[0m Trial 162 finished with value: 2.2879477022471377 and parameters: {'feature_fraction': 0.339336187671253, 'num_leaves': 213, 'bagging_fraction': 0.4854078843815387, 'lambda_l1': 0.0022020904110367666, 'lambda_l2': 0.0006093433416514612, 'n_estimators': 209, 'max_depth': 3}. Best is trial 115 with value: 2.1775886009253598.\u001b[0m\n"
     ]
    },
    {
     "name": "stdout",
     "output_type": "stream",
     "text": [
      "[LightGBM] [Warning] lambda_l1 is set=0.004203902660980219, reg_alpha=0.0 will be ignored. Current value: lambda_l1=0.004203902660980219\n",
      "[LightGBM] [Warning] bagging_fraction is set=0.49955952591615643, subsample=1.0 will be ignored. Current value: bagging_fraction=0.49955952591615643\n",
      "[LightGBM] [Warning] feature_fraction is set=0.09087059023673992, colsample_bytree=1.0 will be ignored. Current value: feature_fraction=0.09087059023673992\n",
      "[LightGBM] [Warning] lambda_l2 is set=0.0010293111019945634, reg_lambda=0.0 will be ignored. Current value: lambda_l2=0.0010293111019945634\n"
     ]
    },
    {
     "name": "stderr",
     "output_type": "stream",
     "text": [
      "\u001b[32m[I 2023-02-13 15:14:08,825]\u001b[0m Trial 163 finished with value: 2.180631020040488 and parameters: {'feature_fraction': 0.09087059023673992, 'num_leaves': 229, 'bagging_fraction': 0.49955952591615643, 'lambda_l1': 0.004203902660980219, 'lambda_l2': 0.0010293111019945634, 'n_estimators': 224, 'max_depth': 3}. Best is trial 115 with value: 2.1775886009253598.\u001b[0m\n"
     ]
    },
    {
     "name": "stdout",
     "output_type": "stream",
     "text": [
      "[LightGBM] [Warning] lambda_l1 is set=0.0032891016661654358, reg_alpha=0.0 will be ignored. Current value: lambda_l1=0.0032891016661654358\n",
      "[LightGBM] [Warning] bagging_fraction is set=0.545686378179444, subsample=1.0 will be ignored. Current value: bagging_fraction=0.545686378179444\n",
      "[LightGBM] [Warning] feature_fraction is set=0.062219816548870197, colsample_bytree=1.0 will be ignored. Current value: feature_fraction=0.062219816548870197\n",
      "[LightGBM] [Warning] lambda_l2 is set=0.0009318098959685739, reg_lambda=0.0 will be ignored. Current value: lambda_l2=0.0009318098959685739\n"
     ]
    },
    {
     "name": "stderr",
     "output_type": "stream",
     "text": [
      "\u001b[32m[I 2023-02-13 15:14:09,342]\u001b[0m Trial 164 finished with value: 2.2206934077226697 and parameters: {'feature_fraction': 0.062219816548870197, 'num_leaves': 229, 'bagging_fraction': 0.545686378179444, 'lambda_l1': 0.0032891016661654358, 'lambda_l2': 0.0009318098959685739, 'n_estimators': 214, 'max_depth': 3}. Best is trial 115 with value: 2.1775886009253598.\u001b[0m\n"
     ]
    },
    {
     "name": "stdout",
     "output_type": "stream",
     "text": [
      "[LightGBM] [Warning] lambda_l1 is set=0.007391377694023125, reg_alpha=0.0 will be ignored. Current value: lambda_l1=0.007391377694023125\n",
      "[LightGBM] [Warning] bagging_fraction is set=0.44368026987027454, subsample=1.0 will be ignored. Current value: bagging_fraction=0.44368026987027454\n",
      "[LightGBM] [Warning] feature_fraction is set=0.4423275691704854, colsample_bytree=1.0 will be ignored. Current value: feature_fraction=0.4423275691704854\n",
      "[LightGBM] [Warning] lambda_l2 is set=0.0019944162506369423, reg_lambda=0.0 will be ignored. Current value: lambda_l2=0.0019944162506369423\n"
     ]
    },
    {
     "name": "stderr",
     "output_type": "stream",
     "text": [
      "\u001b[32m[I 2023-02-13 15:14:10,204]\u001b[0m Trial 165 finished with value: 2.2625177398254723 and parameters: {'feature_fraction': 0.4423275691704854, 'num_leaves': 230, 'bagging_fraction': 0.44368026987027454, 'lambda_l1': 0.007391377694023125, 'lambda_l2': 0.0019944162506369423, 'n_estimators': 223, 'max_depth': 3}. Best is trial 115 with value: 2.1775886009253598.\u001b[0m\n"
     ]
    },
    {
     "name": "stdout",
     "output_type": "stream",
     "text": [
      "[LightGBM] [Warning] lambda_l1 is set=0.0016449562645185609, reg_alpha=0.0 will be ignored. Current value: lambda_l1=0.0016449562645185609\n",
      "[LightGBM] [Warning] bagging_fraction is set=0.480322388485879, subsample=1.0 will be ignored. Current value: bagging_fraction=0.480322388485879\n",
      "[LightGBM] [Warning] feature_fraction is set=0.11565023388941935, colsample_bytree=1.0 will be ignored. Current value: feature_fraction=0.11565023388941935\n",
      "[LightGBM] [Warning] lambda_l2 is set=0.0004135070562147437, reg_lambda=0.0 will be ignored. Current value: lambda_l2=0.0004135070562147437\n"
     ]
    },
    {
     "name": "stderr",
     "output_type": "stream",
     "text": [
      "\u001b[32m[I 2023-02-13 15:14:10,774]\u001b[0m Trial 166 finished with value: 2.21341853635767 and parameters: {'feature_fraction': 0.11565023388941935, 'num_leaves': 223, 'bagging_fraction': 0.480322388485879, 'lambda_l1': 0.0016449562645185609, 'lambda_l2': 0.0004135070562147437, 'n_estimators': 225, 'max_depth': 3}. Best is trial 115 with value: 2.1775886009253598.\u001b[0m\n"
     ]
    },
    {
     "name": "stdout",
     "output_type": "stream",
     "text": [
      "[LightGBM] [Warning] lambda_l1 is set=0.005343809930136568, reg_alpha=0.0 will be ignored. Current value: lambda_l1=0.005343809930136568\n",
      "[LightGBM] [Warning] bagging_fraction is set=0.5317430028250256, subsample=1.0 will be ignored. Current value: bagging_fraction=0.5317430028250256\n",
      "[LightGBM] [Warning] feature_fraction is set=0.0897277434862428, colsample_bytree=1.0 will be ignored. Current value: feature_fraction=0.0897277434862428\n",
      "[LightGBM] [Warning] lambda_l2 is set=0.00023627492053613446, reg_lambda=0.0 will be ignored. Current value: lambda_l2=0.00023627492053613446\n"
     ]
    },
    {
     "name": "stderr",
     "output_type": "stream",
     "text": [
      "\u001b[32m[I 2023-02-13 15:14:11,303]\u001b[0m Trial 167 finished with value: 2.183266940128557 and parameters: {'feature_fraction': 0.0897277434862428, 'num_leaves': 213, 'bagging_fraction': 0.5317430028250256, 'lambda_l1': 0.005343809930136568, 'lambda_l2': 0.00023627492053613446, 'n_estimators': 205, 'max_depth': 3}. Best is trial 115 with value: 2.1775886009253598.\u001b[0m\n"
     ]
    },
    {
     "name": "stdout",
     "output_type": "stream",
     "text": [
      "[LightGBM] [Warning] lambda_l1 is set=0.004608306476276542, reg_alpha=0.0 will be ignored. Current value: lambda_l1=0.004608306476276542\n",
      "[LightGBM] [Warning] bagging_fraction is set=0.5365259509265152, subsample=1.0 will be ignored. Current value: bagging_fraction=0.5365259509265152\n",
      "[LightGBM] [Warning] feature_fraction is set=0.05536808735947432, colsample_bytree=1.0 will be ignored. Current value: feature_fraction=0.05536808735947432\n",
      "[LightGBM] [Warning] lambda_l2 is set=0.0002670017397289924, reg_lambda=0.0 will be ignored. Current value: lambda_l2=0.0002670017397289924\n"
     ]
    },
    {
     "name": "stderr",
     "output_type": "stream",
     "text": [
      "\u001b[32m[I 2023-02-13 15:14:11,809]\u001b[0m Trial 168 finished with value: 2.2417715442337265 and parameters: {'feature_fraction': 0.05536808735947432, 'num_leaves': 212, 'bagging_fraction': 0.5365259509265152, 'lambda_l1': 0.004608306476276542, 'lambda_l2': 0.0002670017397289924, 'n_estimators': 214, 'max_depth': 3}. Best is trial 115 with value: 2.1775886009253598.\u001b[0m\n"
     ]
    },
    {
     "name": "stdout",
     "output_type": "stream",
     "text": [
      "[LightGBM] [Warning] lambda_l1 is set=0.008985576574161878, reg_alpha=0.0 will be ignored. Current value: lambda_l1=0.008985576574161878\n",
      "[LightGBM] [Warning] bagging_fraction is set=0.5220355923220502, subsample=1.0 will be ignored. Current value: bagging_fraction=0.5220355923220502\n",
      "[LightGBM] [Warning] feature_fraction is set=0.2562377542248415, colsample_bytree=1.0 will be ignored. Current value: feature_fraction=0.2562377542248415\n",
      "[LightGBM] [Warning] lambda_l2 is set=0.0012179115974973913, reg_lambda=0.0 will be ignored. Current value: lambda_l2=0.0012179115974973913\n"
     ]
    },
    {
     "name": "stderr",
     "output_type": "stream",
     "text": [
      "\u001b[32m[I 2023-02-13 15:14:12,513]\u001b[0m Trial 169 finished with value: 2.2710903851930797 and parameters: {'feature_fraction': 0.2562377542248415, 'num_leaves': 200, 'bagging_fraction': 0.5220355923220502, 'lambda_l1': 0.008985576574161878, 'lambda_l2': 0.0012179115974973913, 'n_estimators': 233, 'max_depth': 3}. Best is trial 115 with value: 2.1775886009253598.\u001b[0m\n"
     ]
    },
    {
     "name": "stdout",
     "output_type": "stream",
     "text": [
      "[LightGBM] [Warning] lambda_l1 is set=0.00515624473197164, reg_alpha=0.0 will be ignored. Current value: lambda_l1=0.00515624473197164\n",
      "[LightGBM] [Warning] bagging_fraction is set=0.5043270964743577, subsample=1.0 will be ignored. Current value: bagging_fraction=0.5043270964743577\n",
      "[LightGBM] [Warning] feature_fraction is set=0.013779270606139274, colsample_bytree=1.0 will be ignored. Current value: feature_fraction=0.013779270606139274\n",
      "[LightGBM] [Warning] lambda_l2 is set=0.0001517113403817191, reg_lambda=0.0 will be ignored. Current value: lambda_l2=0.0001517113403817191\n"
     ]
    },
    {
     "name": "stderr",
     "output_type": "stream",
     "text": [
      "\u001b[32m[I 2023-02-13 15:14:12,973]\u001b[0m Trial 170 finished with value: 2.337293553808677 and parameters: {'feature_fraction': 0.013779270606139274, 'num_leaves': 189, 'bagging_fraction': 0.5043270964743577, 'lambda_l1': 0.00515624473197164, 'lambda_l2': 0.0001517113403817191, 'n_estimators': 196, 'max_depth': 3}. Best is trial 115 with value: 2.1775886009253598.\u001b[0m\n"
     ]
    },
    {
     "name": "stdout",
     "output_type": "stream",
     "text": [
      "[LightGBM] [Warning] lambda_l1 is set=0.002369573480570831, reg_alpha=0.0 will be ignored. Current value: lambda_l1=0.002369573480570831\n",
      "[LightGBM] [Warning] bagging_fraction is set=0.5746797282717955, subsample=1.0 will be ignored. Current value: bagging_fraction=0.5746797282717955\n",
      "[LightGBM] [Warning] feature_fraction is set=0.09646597550138622, colsample_bytree=1.0 will be ignored. Current value: feature_fraction=0.09646597550138622\n",
      "[LightGBM] [Warning] lambda_l2 is set=0.0006840670536750605, reg_lambda=0.0 will be ignored. Current value: lambda_l2=0.0006840670536750605\n"
     ]
    },
    {
     "name": "stderr",
     "output_type": "stream",
     "text": [
      "\u001b[32m[I 2023-02-13 15:14:13,503]\u001b[0m Trial 171 finished with value: 2.1842320770724704 and parameters: {'feature_fraction': 0.09646597550138622, 'num_leaves': 218, 'bagging_fraction': 0.5746797282717955, 'lambda_l1': 0.002369573480570831, 'lambda_l2': 0.0006840670536750605, 'n_estimators': 205, 'max_depth': 3}. Best is trial 115 with value: 2.1775886009253598.\u001b[0m\n"
     ]
    },
    {
     "name": "stdout",
     "output_type": "stream",
     "text": [
      "[LightGBM] [Warning] lambda_l1 is set=0.0030375049857433705, reg_alpha=0.0 will be ignored. Current value: lambda_l1=0.0030375049857433705\n",
      "[LightGBM] [Warning] bagging_fraction is set=0.467861439806918, subsample=1.0 will be ignored. Current value: bagging_fraction=0.467861439806918\n",
      "[LightGBM] [Warning] feature_fraction is set=0.0749536295810613, colsample_bytree=1.0 will be ignored. Current value: feature_fraction=0.0749536295810613\n",
      "[LightGBM] [Warning] lambda_l2 is set=0.00043510462887433, reg_lambda=0.0 will be ignored. Current value: lambda_l2=0.00043510462887433\n"
     ]
    },
    {
     "name": "stderr",
     "output_type": "stream",
     "text": [
      "\u001b[32m[I 2023-02-13 15:14:14,016]\u001b[0m Trial 172 finished with value: 2.231832657588342 and parameters: {'feature_fraction': 0.0749536295810613, 'num_leaves': 206, 'bagging_fraction': 0.467861439806918, 'lambda_l1': 0.0030375049857433705, 'lambda_l2': 0.00043510462887433, 'n_estimators': 207, 'max_depth': 3}. Best is trial 115 with value: 2.1775886009253598.\u001b[0m\n"
     ]
    },
    {
     "name": "stdout",
     "output_type": "stream",
     "text": [
      "[LightGBM] [Warning] lambda_l1 is set=0.0011422235980553697, reg_alpha=0.0 will be ignored. Current value: lambda_l1=0.0011422235980553697\n",
      "[LightGBM] [Warning] bagging_fraction is set=0.4892404797648386, subsample=1.0 will be ignored. Current value: bagging_fraction=0.4892404797648386\n",
      "[LightGBM] [Warning] feature_fraction is set=0.12120876992435992, colsample_bytree=1.0 will be ignored. Current value: feature_fraction=0.12120876992435992\n",
      "[LightGBM] [Warning] lambda_l2 is set=0.002975427205895403, reg_lambda=0.0 will be ignored. Current value: lambda_l2=0.002975427205895403\n"
     ]
    },
    {
     "name": "stderr",
     "output_type": "stream",
     "text": [
      "\u001b[32m[I 2023-02-13 15:14:14,593]\u001b[0m Trial 173 finished with value: 2.226513682659285 and parameters: {'feature_fraction': 0.12120876992435992, 'num_leaves': 228, 'bagging_fraction': 0.4892404797648386, 'lambda_l1': 0.0011422235980553697, 'lambda_l2': 0.002975427205895403, 'n_estimators': 226, 'max_depth': 3}. Best is trial 115 with value: 2.1775886009253598.\u001b[0m\n"
     ]
    },
    {
     "name": "stdout",
     "output_type": "stream",
     "text": [
      "[LightGBM] [Warning] lambda_l1 is set=0.001627282875221463, reg_alpha=0.0 will be ignored. Current value: lambda_l1=0.001627282875221463\n",
      "[LightGBM] [Warning] bagging_fraction is set=0.5149624152040726, subsample=1.0 will be ignored. Current value: bagging_fraction=0.5149624152040726\n",
      "[LightGBM] [Warning] feature_fraction is set=0.09951596163473864, colsample_bytree=1.0 will be ignored. Current value: feature_fraction=0.09951596163473864\n",
      "[LightGBM] [Warning] lambda_l2 is set=0.0018950184915490313, reg_lambda=0.0 will be ignored. Current value: lambda_l2=0.0018950184915490313\n"
     ]
    },
    {
     "name": "stderr",
     "output_type": "stream",
     "text": [
      "\u001b[32m[I 2023-02-13 15:14:15,123]\u001b[0m Trial 174 finished with value: 2.228134020329269 and parameters: {'feature_fraction': 0.09951596163473864, 'num_leaves': 215, 'bagging_fraction': 0.5149624152040726, 'lambda_l1': 0.001627282875221463, 'lambda_l2': 0.0018950184915490313, 'n_estimators': 200, 'max_depth': 3}. Best is trial 115 with value: 2.1775886009253598.\u001b[0m\n"
     ]
    },
    {
     "name": "stdout",
     "output_type": "stream",
     "text": [
      "[LightGBM] [Warning] lambda_l1 is set=0.00415243304255856, reg_alpha=0.0 will be ignored. Current value: lambda_l1=0.00415243304255856\n",
      "[LightGBM] [Warning] bagging_fraction is set=0.4572600180458822, subsample=1.0 will be ignored. Current value: bagging_fraction=0.4572600180458822\n",
      "[LightGBM] [Warning] feature_fraction is set=0.08188318310310594, colsample_bytree=1.0 will be ignored. Current value: feature_fraction=0.08188318310310594\n",
      "[LightGBM] [Warning] lambda_l2 is set=0.00021728823435681238, reg_lambda=0.0 will be ignored. Current value: lambda_l2=0.00021728823435681238\n"
     ]
    },
    {
     "name": "stderr",
     "output_type": "stream",
     "text": [
      "\u001b[32m[I 2023-02-13 15:14:15,657]\u001b[0m Trial 175 finished with value: 2.238689572501513 and parameters: {'feature_fraction': 0.08188318310310594, 'num_leaves': 223, 'bagging_fraction': 0.4572600180458822, 'lambda_l1': 0.00415243304255856, 'lambda_l2': 0.00021728823435681238, 'n_estimators': 216, 'max_depth': 3}. Best is trial 115 with value: 2.1775886009253598.\u001b[0m\n"
     ]
    },
    {
     "name": "stdout",
     "output_type": "stream",
     "text": [
      "[LightGBM] [Warning] lambda_l1 is set=0.006971538647431914, reg_alpha=0.0 will be ignored. Current value: lambda_l1=0.006971538647431914\n",
      "[LightGBM] [Warning] bagging_fraction is set=0.637910141358372, subsample=1.0 will be ignored. Current value: bagging_fraction=0.637910141358372\n",
      "[LightGBM] [Warning] feature_fraction is set=0.6372176521681368, colsample_bytree=1.0 will be ignored. Current value: feature_fraction=0.6372176521681368\n",
      "[LightGBM] [Warning] lambda_l2 is set=0.0009231736066405615, reg_lambda=0.0 will be ignored. Current value: lambda_l2=0.0009231736066405615\n"
     ]
    },
    {
     "name": "stderr",
     "output_type": "stream",
     "text": [
      "\u001b[32m[I 2023-02-13 15:14:16,753]\u001b[0m Trial 176 finished with value: 2.270068780661575 and parameters: {'feature_fraction': 0.6372176521681368, 'num_leaves': 243, 'bagging_fraction': 0.637910141358372, 'lambda_l1': 0.006971538647431914, 'lambda_l2': 0.0009231736066405615, 'n_estimators': 238, 'max_depth': 3}. Best is trial 115 with value: 2.1775886009253598.\u001b[0m\n"
     ]
    },
    {
     "name": "stdout",
     "output_type": "stream",
     "text": [
      "[LightGBM] [Warning] lambda_l1 is set=0.0009175165597782932, reg_alpha=0.0 will be ignored. Current value: lambda_l1=0.0009175165597782932\n",
      "[LightGBM] [Warning] bagging_fraction is set=0.4369711850654248, subsample=1.0 will be ignored. Current value: bagging_fraction=0.4369711850654248\n",
      "[LightGBM] [Warning] feature_fraction is set=0.12481825267282122, colsample_bytree=1.0 will be ignored. Current value: feature_fraction=0.12481825267282122\n",
      "[LightGBM] [Warning] lambda_l2 is set=0.0003709695354238145, reg_lambda=0.0 will be ignored. Current value: lambda_l2=0.0003709695354238145\n"
     ]
    },
    {
     "name": "stderr",
     "output_type": "stream",
     "text": [
      "\u001b[32m[I 2023-02-13 15:14:17,104]\u001b[0m Trial 177 finished with value: 2.3199076104706866 and parameters: {'feature_fraction': 0.12481825267282122, 'num_leaves': 210, 'bagging_fraction': 0.4369711850654248, 'lambda_l1': 0.0009175165597782932, 'lambda_l2': 0.0003709695354238145, 'n_estimators': 39, 'max_depth': 3}. Best is trial 115 with value: 2.1775886009253598.\u001b[0m\n"
     ]
    },
    {
     "name": "stdout",
     "output_type": "stream",
     "text": [
      "[LightGBM] [Warning] lambda_l1 is set=0.00268391992064784, reg_alpha=0.0 will be ignored. Current value: lambda_l1=0.00268391992064784\n",
      "[LightGBM] [Warning] bagging_fraction is set=0.5003785480989924, subsample=1.0 will be ignored. Current value: bagging_fraction=0.5003785480989924\n",
      "[LightGBM] [Warning] feature_fraction is set=0.050746861543992945, colsample_bytree=1.0 will be ignored. Current value: feature_fraction=0.050746861543992945\n",
      "[LightGBM] [Warning] lambda_l2 is set=0.005971426849599298, reg_lambda=0.0 will be ignored. Current value: lambda_l2=0.005971426849599298\n"
     ]
    },
    {
     "name": "stderr",
     "output_type": "stream",
     "text": [
      "\u001b[32m[I 2023-02-13 15:14:17,609]\u001b[0m Trial 178 finished with value: 2.2192494171872377 and parameters: {'feature_fraction': 0.050746861543992945, 'num_leaves': 219, 'bagging_fraction': 0.5003785480989924, 'lambda_l1': 0.00268391992064784, 'lambda_l2': 0.005971426849599298, 'n_estimators': 220, 'max_depth': 3}. Best is trial 115 with value: 2.1775886009253598.\u001b[0m\n"
     ]
    },
    {
     "name": "stdout",
     "output_type": "stream",
     "text": [
      "[LightGBM] [Warning] lambda_l1 is set=0.011491491131523245, reg_alpha=0.0 will be ignored. Current value: lambda_l1=0.011491491131523245\n",
      "[LightGBM] [Warning] bagging_fraction is set=0.5580742838088532, subsample=1.0 will be ignored. Current value: bagging_fraction=0.5580742838088532\n",
      "[LightGBM] [Warning] feature_fraction is set=0.10114279135142032, colsample_bytree=1.0 will be ignored. Current value: feature_fraction=0.10114279135142032\n",
      "[LightGBM] [Warning] lambda_l2 is set=0.0014443636550034928, reg_lambda=0.0 will be ignored. Current value: lambda_l2=0.0014443636550034928\n"
     ]
    },
    {
     "name": "stderr",
     "output_type": "stream",
     "text": [
      "\u001b[32m[I 2023-02-13 15:14:17,932]\u001b[0m Trial 179 finished with value: 2.4440357592455633 and parameters: {'feature_fraction': 0.10114279135142032, 'num_leaves': 225, 'bagging_fraction': 0.5580742838088532, 'lambda_l1': 0.011491491131523245, 'lambda_l2': 0.0014443636550034928, 'n_estimators': 13, 'max_depth': 3}. Best is trial 115 with value: 2.1775886009253598.\u001b[0m\n"
     ]
    },
    {
     "name": "stdout",
     "output_type": "stream",
     "text": [
      "[LightGBM] [Warning] lambda_l1 is set=0.0018014317002600035, reg_alpha=0.0 will be ignored. Current value: lambda_l1=0.0018014317002600035\n",
      "[LightGBM] [Warning] bagging_fraction is set=0.5304083996497444, subsample=1.0 will be ignored. Current value: bagging_fraction=0.5304083996497444\n",
      "[LightGBM] [Warning] feature_fraction is set=0.16334541827910048, colsample_bytree=1.0 will be ignored. Current value: feature_fraction=0.16334541827910048\n",
      "[LightGBM] [Warning] lambda_l2 is set=0.003758542202321189, reg_lambda=0.0 will be ignored. Current value: lambda_l2=0.003758542202321189\n"
     ]
    },
    {
     "name": "stderr",
     "output_type": "stream",
     "text": [
      "\u001b[32m[I 2023-02-13 15:14:18,553]\u001b[0m Trial 180 finished with value: 2.255065066578603 and parameters: {'feature_fraction': 0.16334541827910048, 'num_leaves': 232, 'bagging_fraction': 0.5304083996497444, 'lambda_l1': 0.0018014317002600035, 'lambda_l2': 0.003758542202321189, 'n_estimators': 230, 'max_depth': 3}. Best is trial 115 with value: 2.1775886009253598.\u001b[0m\n"
     ]
    },
    {
     "name": "stdout",
     "output_type": "stream",
     "text": [
      "[LightGBM] [Warning] lambda_l1 is set=0.0023866548393400274, reg_alpha=0.0 will be ignored. Current value: lambda_l1=0.0023866548393400274\n",
      "[LightGBM] [Warning] bagging_fraction is set=0.48101314004644613, subsample=1.0 will be ignored. Current value: bagging_fraction=0.48101314004644613\n",
      "[LightGBM] [Warning] feature_fraction is set=0.09153969629632466, colsample_bytree=1.0 will be ignored. Current value: feature_fraction=0.09153969629632466\n",
      "[LightGBM] [Warning] lambda_l2 is set=0.0006376074099410345, reg_lambda=0.0 will be ignored. Current value: lambda_l2=0.0006376074099410345\n"
     ]
    },
    {
     "name": "stderr",
     "output_type": "stream",
     "text": [
      "\u001b[32m[I 2023-02-13 15:14:19,083]\u001b[0m Trial 181 finished with value: 2.1842320929362535 and parameters: {'feature_fraction': 0.09153969629632466, 'num_leaves': 217, 'bagging_fraction': 0.48101314004644613, 'lambda_l1': 0.0023866548393400274, 'lambda_l2': 0.0006376074099410345, 'n_estimators': 205, 'max_depth': 3}. Best is trial 115 with value: 2.1775886009253598.\u001b[0m\n"
     ]
    },
    {
     "name": "stdout",
     "output_type": "stream",
     "text": [
      "[LightGBM] [Warning] lambda_l1 is set=0.0037451987005325954, reg_alpha=0.0 will be ignored. Current value: lambda_l1=0.0037451987005325954\n",
      "[LightGBM] [Warning] bagging_fraction is set=0.5481645059622049, subsample=1.0 will be ignored. Current value: bagging_fraction=0.5481645059622049\n",
      "[LightGBM] [Warning] feature_fraction is set=0.07155023334010464, colsample_bytree=1.0 will be ignored. Current value: feature_fraction=0.07155023334010464\n",
      "[LightGBM] [Warning] lambda_l2 is set=0.0008547340583416544, reg_lambda=0.0 will be ignored. Current value: lambda_l2=0.0008547340583416544\n"
     ]
    },
    {
     "name": "stderr",
     "output_type": "stream",
     "text": [
      "\u001b[32m[I 2023-02-13 15:14:19,601]\u001b[0m Trial 182 finished with value: 2.2321189560215604 and parameters: {'feature_fraction': 0.07155023334010464, 'num_leaves': 240, 'bagging_fraction': 0.5481645059622049, 'lambda_l1': 0.0037451987005325954, 'lambda_l2': 0.0008547340583416544, 'n_estimators': 205, 'max_depth': 3}. Best is trial 115 with value: 2.1775886009253598.\u001b[0m\n"
     ]
    },
    {
     "name": "stdout",
     "output_type": "stream",
     "text": [
      "[LightGBM] [Warning] lambda_l1 is set=0.0004958909838107517, reg_alpha=0.0 will be ignored. Current value: lambda_l1=0.0004958909838107517\n",
      "[LightGBM] [Warning] bagging_fraction is set=0.5191939215332835, subsample=1.0 will be ignored. Current value: bagging_fraction=0.5191939215332835\n",
      "[LightGBM] [Warning] feature_fraction is set=0.11202606928018011, colsample_bytree=1.0 will be ignored. Current value: feature_fraction=0.11202606928018011\n",
      "[LightGBM] [Warning] lambda_l2 is set=0.0006533868871894154, reg_lambda=0.0 will be ignored. Current value: lambda_l2=0.0006533868871894154\n"
     ]
    },
    {
     "name": "stderr",
     "output_type": "stream",
     "text": [
      "\u001b[32m[I 2023-02-13 15:14:20,130]\u001b[0m Trial 183 finished with value: 2.211493665299766 and parameters: {'feature_fraction': 0.11202606928018011, 'num_leaves': 202, 'bagging_fraction': 0.5191939215332835, 'lambda_l1': 0.0004958909838107517, 'lambda_l2': 0.0006533868871894154, 'n_estimators': 192, 'max_depth': 3}. Best is trial 115 with value: 2.1775886009253598.\u001b[0m\n"
     ]
    },
    {
     "name": "stdout",
     "output_type": "stream",
     "text": [
      "[LightGBM] [Warning] lambda_l1 is set=0.0026313966756647262, reg_alpha=0.0 will be ignored. Current value: lambda_l1=0.0026313966756647262\n",
      "[LightGBM] [Warning] bagging_fraction is set=0.49520830745517214, subsample=1.0 will be ignored. Current value: bagging_fraction=0.49520830745517214\n",
      "[LightGBM] [Warning] feature_fraction is set=0.09440143960322371, colsample_bytree=1.0 will be ignored. Current value: feature_fraction=0.09440143960322371\n",
      "[LightGBM] [Warning] lambda_l2 is set=0.00029218825788821174, reg_lambda=0.0 will be ignored. Current value: lambda_l2=0.00029218825788821174\n"
     ]
    },
    {
     "name": "stderr",
     "output_type": "stream",
     "text": [
      "\u001b[32m[I 2023-02-13 15:14:20,711]\u001b[0m Trial 184 finished with value: 2.1819154889722796 and parameters: {'feature_fraction': 0.09440143960322371, 'num_leaves': 196, 'bagging_fraction': 0.49520830745517214, 'lambda_l1': 0.0026313966756647262, 'lambda_l2': 0.00029218825788821174, 'n_estimators': 213, 'max_depth': 3}. Best is trial 115 with value: 2.1775886009253598.\u001b[0m\n"
     ]
    },
    {
     "name": "stdout",
     "output_type": "stream",
     "text": [
      "[LightGBM] [Warning] lambda_l1 is set=0.00627623897503036, reg_alpha=0.0 will be ignored. Current value: lambda_l1=0.00627623897503036\n",
      "[LightGBM] [Warning] bagging_fraction is set=0.4707505283689274, subsample=1.0 will be ignored. Current value: bagging_fraction=0.4707505283689274\n",
      "[LightGBM] [Warning] feature_fraction is set=0.12388101623290657, colsample_bytree=1.0 will be ignored. Current value: feature_fraction=0.12388101623290657\n",
      "[LightGBM] [Warning] lambda_l2 is set=0.0003148968361802811, reg_lambda=0.0 will be ignored. Current value: lambda_l2=0.0003148968361802811\n"
     ]
    },
    {
     "name": "stderr",
     "output_type": "stream",
     "text": [
      "\u001b[32m[I 2023-02-13 15:14:21,281]\u001b[0m Trial 185 finished with value: 2.2264471613069228 and parameters: {'feature_fraction': 0.12388101623290657, 'num_leaves': 193, 'bagging_fraction': 0.4707505283689274, 'lambda_l1': 0.00627623897503036, 'lambda_l2': 0.0003148968361802811, 'n_estimators': 218, 'max_depth': 3}. Best is trial 115 with value: 2.1775886009253598.\u001b[0m\n"
     ]
    },
    {
     "name": "stdout",
     "output_type": "stream",
     "text": [
      "[LightGBM] [Warning] lambda_l1 is set=0.0013316478201720607, reg_alpha=0.0 will be ignored. Current value: lambda_l1=0.0013316478201720607\n",
      "[LightGBM] [Warning] bagging_fraction is set=0.4933225933229102, subsample=1.0 will be ignored. Current value: bagging_fraction=0.4933225933229102\n",
      "[LightGBM] [Warning] feature_fraction is set=0.04043466778715855, colsample_bytree=1.0 will be ignored. Current value: feature_fraction=0.04043466778715855\n",
      "[LightGBM] [Warning] lambda_l2 is set=0.00010820471545155004, reg_lambda=0.0 will be ignored. Current value: lambda_l2=0.00010820471545155004\n"
     ]
    },
    {
     "name": "stderr",
     "output_type": "stream",
     "text": [
      "\u001b[32m[I 2023-02-13 15:14:21,772]\u001b[0m Trial 186 finished with value: 2.2451927793481343 and parameters: {'feature_fraction': 0.04043466778715855, 'num_leaves': 208, 'bagging_fraction': 0.4933225933229102, 'lambda_l1': 0.0013316478201720607, 'lambda_l2': 0.00010820471545155004, 'n_estimators': 212, 'max_depth': 3}. Best is trial 115 with value: 2.1775886009253598.\u001b[0m\n"
     ]
    },
    {
     "name": "stdout",
     "output_type": "stream",
     "text": [
      "[LightGBM] [Warning] lambda_l1 is set=0.0007221314413370363, reg_alpha=0.0 will be ignored. Current value: lambda_l1=0.0007221314413370363\n",
      "[LightGBM] [Warning] bagging_fraction is set=0.5082217786085456, subsample=1.0 will be ignored. Current value: bagging_fraction=0.5082217786085456\n",
      "[LightGBM] [Warning] feature_fraction is set=0.0658445329495294, colsample_bytree=1.0 will be ignored. Current value: feature_fraction=0.0658445329495294\n",
      "[LightGBM] [Warning] lambda_l2 is set=0.002450181616912935, reg_lambda=0.0 will be ignored. Current value: lambda_l2=0.002450181616912935\n"
     ]
    },
    {
     "name": "stderr",
     "output_type": "stream",
     "text": [
      "\u001b[32m[I 2023-02-13 15:14:22,302]\u001b[0m Trial 187 finished with value: 2.2162934924159425 and parameters: {'feature_fraction': 0.0658445329495294, 'num_leaves': 256, 'bagging_fraction': 0.5082217786085456, 'lambda_l1': 0.0007221314413370363, 'lambda_l2': 0.002450181616912935, 'n_estimators': 226, 'max_depth': 3}. Best is trial 115 with value: 2.1775886009253598.\u001b[0m\n"
     ]
    },
    {
     "name": "stdout",
     "output_type": "stream",
     "text": [
      "[LightGBM] [Warning] lambda_l1 is set=0.00436474106697702, reg_alpha=0.0 will be ignored. Current value: lambda_l1=0.00436474106697702\n",
      "[LightGBM] [Warning] bagging_fraction is set=0.7161668989498309, subsample=1.0 will be ignored. Current value: bagging_fraction=0.7161668989498309\n",
      "[LightGBM] [Warning] feature_fraction is set=0.08305563711999119, colsample_bytree=1.0 will be ignored. Current value: feature_fraction=0.08305563711999119\n",
      "[LightGBM] [Warning] lambda_l2 is set=0.00023219531731297107, reg_lambda=0.0 will be ignored. Current value: lambda_l2=0.00023219531731297107\n"
     ]
    },
    {
     "name": "stderr",
     "output_type": "stream",
     "text": [
      "\u001b[32m[I 2023-02-13 15:14:22,861]\u001b[0m Trial 188 finished with value: 2.2368851833296173 and parameters: {'feature_fraction': 0.08305563711999119, 'num_leaves': 215, 'bagging_fraction': 0.7161668989498309, 'lambda_l1': 0.00436474106697702, 'lambda_l2': 0.00023219531731297107, 'n_estimators': 238, 'max_depth': 3}. Best is trial 115 with value: 2.1775886009253598.\u001b[0m\n"
     ]
    },
    {
     "name": "stdout",
     "output_type": "stream",
     "text": [
      "[LightGBM] [Warning] lambda_l1 is set=0.002417320218098055, reg_alpha=0.0 will be ignored. Current value: lambda_l1=0.002417320218098055\n",
      "[LightGBM] [Warning] bagging_fraction is set=0.45360429662848617, subsample=1.0 will be ignored. Current value: bagging_fraction=0.45360429662848617\n",
      "[LightGBM] [Warning] feature_fraction is set=0.10871482883678357, colsample_bytree=1.0 will be ignored. Current value: feature_fraction=0.10871482883678357\n",
      "[LightGBM] [Warning] lambda_l2 is set=0.0012116409558362898, reg_lambda=0.0 will be ignored. Current value: lambda_l2=0.0012116409558362898\n"
     ]
    },
    {
     "name": "stderr",
     "output_type": "stream",
     "text": [
      "\u001b[32m[I 2023-02-13 15:14:23,427]\u001b[0m Trial 189 finished with value: 2.212737409174202 and parameters: {'feature_fraction': 0.10871482883678357, 'num_leaves': 221, 'bagging_fraction': 0.45360429662848617, 'lambda_l1': 0.002417320218098055, 'lambda_l2': 0.0012116409558362898, 'n_estimators': 222, 'max_depth': 3}. Best is trial 115 with value: 2.1775886009253598.\u001b[0m\n"
     ]
    },
    {
     "name": "stdout",
     "output_type": "stream",
     "text": [
      "[LightGBM] [Warning] lambda_l1 is set=0.009621498485574384, reg_alpha=0.0 will be ignored. Current value: lambda_l1=0.009621498485574384\n",
      "[LightGBM] [Warning] bagging_fraction is set=0.4839940784380442, subsample=1.0 will be ignored. Current value: bagging_fraction=0.4839940784380442\n",
      "[LightGBM] [Warning] feature_fraction is set=0.15817637206630342, colsample_bytree=1.0 will be ignored. Current value: feature_fraction=0.15817637206630342\n",
      "[LightGBM] [Warning] lambda_l2 is set=0.0004689259203722544, reg_lambda=0.0 will be ignored. Current value: lambda_l2=0.0004689259203722544\n"
     ]
    },
    {
     "name": "stderr",
     "output_type": "stream",
     "text": [
      "\u001b[32m[I 2023-02-13 15:14:24,068]\u001b[0m Trial 190 finished with value: 2.2551670632995755 and parameters: {'feature_fraction': 0.15817637206630342, 'num_leaves': 180, 'bagging_fraction': 0.4839940784380442, 'lambda_l1': 0.009621498485574384, 'lambda_l2': 0.0004689259203722544, 'n_estimators': 243, 'max_depth': 3}. Best is trial 115 with value: 2.1775886009253598.\u001b[0m\n"
     ]
    },
    {
     "name": "stdout",
     "output_type": "stream",
     "text": [
      "[LightGBM] [Warning] lambda_l1 is set=0.002880632561735374, reg_alpha=0.0 will be ignored. Current value: lambda_l1=0.002880632561735374\n",
      "[LightGBM] [Warning] bagging_fraction is set=0.5001256324135456, subsample=1.0 will be ignored. Current value: bagging_fraction=0.5001256324135456\n",
      "[LightGBM] [Warning] feature_fraction is set=0.0932665644534814, colsample_bytree=1.0 will be ignored. Current value: feature_fraction=0.0932665644534814\n",
      "[LightGBM] [Warning] lambda_l2 is set=0.001794422045502767, reg_lambda=0.0 will be ignored. Current value: lambda_l2=0.001794422045502767\n"
     ]
    },
    {
     "name": "stderr",
     "output_type": "stream",
     "text": [
      "\u001b[32m[I 2023-02-13 15:14:24,600]\u001b[0m Trial 191 finished with value: 2.1842320700198212 and parameters: {'feature_fraction': 0.0932665644534814, 'num_leaves': 226, 'bagging_fraction': 0.5001256324135456, 'lambda_l1': 0.002880632561735374, 'lambda_l2': 0.001794422045502767, 'n_estimators': 205, 'max_depth': 3}. Best is trial 115 with value: 2.1775886009253598.\u001b[0m\n"
     ]
    },
    {
     "name": "stdout",
     "output_type": "stream",
     "text": [
      "[LightGBM] [Warning] lambda_l1 is set=0.001596962562923287, reg_alpha=0.0 will be ignored. Current value: lambda_l1=0.001596962562923287\n",
      "[LightGBM] [Warning] bagging_fraction is set=0.4974343070383295, subsample=1.0 will be ignored. Current value: bagging_fraction=0.4974343070383295\n",
      "[LightGBM] [Warning] feature_fraction is set=0.09058016410692982, colsample_bytree=1.0 will be ignored. Current value: feature_fraction=0.09058016410692982\n",
      "[LightGBM] [Warning] lambda_l2 is set=0.002079304792393069, reg_lambda=0.0 will be ignored. Current value: lambda_l2=0.002079304792393069\n"
     ]
    },
    {
     "name": "stderr",
     "output_type": "stream",
     "text": [
      "\u001b[32m[I 2023-02-13 15:14:25,178]\u001b[0m Trial 192 finished with value: 2.1822197490732527 and parameters: {'feature_fraction': 0.09058016410692982, 'num_leaves': 226, 'bagging_fraction': 0.4974343070383295, 'lambda_l1': 0.001596962562923287, 'lambda_l2': 0.002079304792393069, 'n_estimators': 212, 'max_depth': 3}. Best is trial 115 with value: 2.1775886009253598.\u001b[0m\n"
     ]
    },
    {
     "name": "stdout",
     "output_type": "stream",
     "text": [
      "[LightGBM] [Warning] lambda_l1 is set=0.0012910589261627267, reg_alpha=0.0 will be ignored. Current value: lambda_l1=0.0012910589261627267\n",
      "[LightGBM] [Warning] bagging_fraction is set=0.474092176688693, subsample=1.0 will be ignored. Current value: bagging_fraction=0.474092176688693\n",
      "[LightGBM] [Warning] feature_fraction is set=0.12644252562428562, colsample_bytree=1.0 will be ignored. Current value: feature_fraction=0.12644252562428562\n",
      "[LightGBM] [Warning] lambda_l2 is set=0.0033319198047329366, reg_lambda=0.0 will be ignored. Current value: lambda_l2=0.0033319198047329366\n"
     ]
    },
    {
     "name": "stderr",
     "output_type": "stream",
     "text": [
      "\u001b[32m[I 2023-02-13 15:14:25,743]\u001b[0m Trial 193 finished with value: 2.2305121316008734 and parameters: {'feature_fraction': 0.12644252562428562, 'num_leaves': 230, 'bagging_fraction': 0.474092176688693, 'lambda_l1': 0.0012910589261627267, 'lambda_l2': 0.0033319198047329366, 'n_estimators': 212, 'max_depth': 3}. Best is trial 115 with value: 2.1775886009253598.\u001b[0m\n"
     ]
    },
    {
     "name": "stdout",
     "output_type": "stream",
     "text": [
      "[LightGBM] [Warning] lambda_l1 is set=0.0017733936092722874, reg_alpha=0.0 will be ignored. Current value: lambda_l1=0.0017733936092722874\n",
      "[LightGBM] [Warning] bagging_fraction is set=0.49174393268210864, subsample=1.0 will be ignored. Current value: bagging_fraction=0.49174393268210864\n",
      "[LightGBM] [Warning] feature_fraction is set=0.06183325020049511, colsample_bytree=1.0 will be ignored. Current value: feature_fraction=0.06183325020049511\n",
      "[LightGBM] [Warning] lambda_l2 is set=0.005165973067721232, reg_lambda=0.0 will be ignored. Current value: lambda_l2=0.005165973067721232\n"
     ]
    },
    {
     "name": "stderr",
     "output_type": "stream",
     "text": [
      "\u001b[32m[I 2023-02-13 15:14:26,279]\u001b[0m Trial 194 finished with value: 2.2166598485459015 and parameters: {'feature_fraction': 0.06183325020049511, 'num_leaves': 234, 'bagging_fraction': 0.49174393268210864, 'lambda_l1': 0.0017733936092722874, 'lambda_l2': 0.005165973067721232, 'n_estimators': 232, 'max_depth': 3}. Best is trial 115 with value: 2.1775886009253598.\u001b[0m\n"
     ]
    },
    {
     "name": "stdout",
     "output_type": "stream",
     "text": [
      "[LightGBM] [Warning] lambda_l1 is set=0.005067161738966784, reg_alpha=0.0 will be ignored. Current value: lambda_l1=0.005067161738966784\n",
      "[LightGBM] [Warning] bagging_fraction is set=0.46532897100356013, subsample=1.0 will be ignored. Current value: bagging_fraction=0.46532897100356013\n",
      "[LightGBM] [Warning] feature_fraction is set=0.08406552980921966, colsample_bytree=1.0 will be ignored. Current value: feature_fraction=0.08406552980921966\n",
      "[LightGBM] [Warning] lambda_l2 is set=0.001116840132522896, reg_lambda=0.0 will be ignored. Current value: lambda_l2=0.001116840132522896\n"
     ]
    },
    {
     "name": "stderr",
     "output_type": "stream",
     "text": [
      "\u001b[32m[I 2023-02-13 15:14:26,870]\u001b[0m Trial 195 finished with value: 2.2358561585654364 and parameters: {'feature_fraction': 0.08406552980921966, 'num_leaves': 206, 'bagging_fraction': 0.46532897100356013, 'lambda_l1': 0.005067161738966784, 'lambda_l2': 0.001116840132522896, 'n_estimators': 265, 'max_depth': 3}. Best is trial 115 with value: 2.1775886009253598.\u001b[0m\n"
     ]
    },
    {
     "name": "stdout",
     "output_type": "stream",
     "text": [
      "[LightGBM] [Warning] lambda_l1 is set=0.0007793327827577762, reg_alpha=0.0 will be ignored. Current value: lambda_l1=0.0007793327827577762\n",
      "[LightGBM] [Warning] bagging_fraction is set=0.5075312468164584, subsample=1.0 will be ignored. Current value: bagging_fraction=0.5075312468164584\n",
      "[LightGBM] [Warning] feature_fraction is set=0.05097462448048553, colsample_bytree=1.0 will be ignored. Current value: feature_fraction=0.05097462448048553\n",
      "[LightGBM] [Warning] lambda_l2 is set=0.002420506097551726, reg_lambda=0.0 will be ignored. Current value: lambda_l2=0.002420506097551726\n"
     ]
    },
    {
     "name": "stderr",
     "output_type": "stream",
     "text": [
      "\u001b[32m[I 2023-02-13 15:14:27,376]\u001b[0m Trial 196 finished with value: 2.219247671859399 and parameters: {'feature_fraction': 0.05097462448048553, 'num_leaves': 214, 'bagging_fraction': 0.5075312468164584, 'lambda_l1': 0.0007793327827577762, 'lambda_l2': 0.002420506097551726, 'n_estimators': 220, 'max_depth': 3}. Best is trial 115 with value: 2.1775886009253598.\u001b[0m\n"
     ]
    },
    {
     "name": "stdout",
     "output_type": "stream",
     "text": [
      "[LightGBM] [Warning] lambda_l1 is set=0.003541308653544117, reg_alpha=0.0 will be ignored. Current value: lambda_l1=0.003541308653544117\n",
      "[LightGBM] [Warning] bagging_fraction is set=0.528233753520479, subsample=1.0 will be ignored. Current value: bagging_fraction=0.528233753520479\n",
      "[LightGBM] [Warning] feature_fraction is set=0.023848782756803785, colsample_bytree=1.0 will be ignored. Current value: feature_fraction=0.023848782756803785\n",
      "[LightGBM] [Warning] lambda_l2 is set=0.0014462717747482973, reg_lambda=0.0 will be ignored. Current value: lambda_l2=0.0014462717747482973\n"
     ]
    },
    {
     "name": "stderr",
     "output_type": "stream",
     "text": [
      "\u001b[32m[I 2023-02-13 15:14:27,864]\u001b[0m Trial 197 finished with value: 2.2557039714849045 and parameters: {'feature_fraction': 0.023848782756803785, 'num_leaves': 246, 'bagging_fraction': 0.528233753520479, 'lambda_l1': 0.003541308653544117, 'lambda_l2': 0.0014462717747482973, 'n_estimators': 214, 'max_depth': 3}. Best is trial 115 with value: 2.1775886009253598.\u001b[0m\n"
     ]
    },
    {
     "name": "stdout",
     "output_type": "stream",
     "text": [
      "[LightGBM] [Warning] lambda_l1 is set=0.001963301451753898, reg_alpha=0.0 will be ignored. Current value: lambda_l1=0.001963301451753898\n",
      "[LightGBM] [Warning] bagging_fraction is set=0.4862377188616307, subsample=1.0 will be ignored. Current value: bagging_fraction=0.4862377188616307\n",
      "[LightGBM] [Warning] feature_fraction is set=0.10698918073269931, colsample_bytree=1.0 will be ignored. Current value: feature_fraction=0.10698918073269931\n",
      "[LightGBM] [Warning] lambda_l2 is set=0.000382096774345189, reg_lambda=0.0 will be ignored. Current value: lambda_l2=0.000382096774345189\n"
     ]
    },
    {
     "name": "stderr",
     "output_type": "stream",
     "text": [
      "\u001b[32m[I 2023-02-13 15:14:28,395]\u001b[0m Trial 198 finished with value: 2.22845079159954 and parameters: {'feature_fraction': 0.10698918073269931, 'num_leaves': 222, 'bagging_fraction': 0.4862377188616307, 'lambda_l1': 0.001963301451753898, 'lambda_l2': 0.000382096774345189, 'n_estimators': 199, 'max_depth': 3}. Best is trial 115 with value: 2.1775886009253598.\u001b[0m\n"
     ]
    },
    {
     "name": "stdout",
     "output_type": "stream",
     "text": [
      "[LightGBM] [Warning] lambda_l1 is set=0.00038834886744618075, reg_alpha=0.0 will be ignored. Current value: lambda_l1=0.00038834886744618075\n",
      "[LightGBM] [Warning] bagging_fraction is set=0.5958281478812085, subsample=1.0 will be ignored. Current value: bagging_fraction=0.5958281478812085\n",
      "[LightGBM] [Warning] feature_fraction is set=0.1310540453255571, colsample_bytree=1.0 will be ignored. Current value: feature_fraction=0.1310540453255571\n",
      "[LightGBM] [Warning] lambda_l2 is set=0.0017229393434156927, reg_lambda=0.0 will be ignored. Current value: lambda_l2=0.0017229393434156927\n"
     ]
    },
    {
     "name": "stderr",
     "output_type": "stream",
     "text": [
      "\u001b[32m[I 2023-02-13 15:14:29,042]\u001b[0m Trial 199 finished with value: 2.2508901398684213 and parameters: {'feature_fraction': 0.1310540453255571, 'num_leaves': 196, 'bagging_fraction': 0.5958281478812085, 'lambda_l1': 0.00038834886744618075, 'lambda_l2': 0.0017229393434156927, 'n_estimators': 227, 'max_depth': 3}. Best is trial 115 with value: 2.1775886009253598.\u001b[0m\n"
     ]
    },
    {
     "name": "stdout",
     "output_type": "stream",
     "text": [
      "Number of finished trials: 200\n",
      "Best trial: {'feature_fraction': 0.09505523043330866, 'num_leaves': 156, 'bagging_fraction': 0.44464121838256837, 'lambda_l1': 0.003479770441661883, 'lambda_l2': 0.003338563210872328, 'n_estimators': 269, 'max_depth': 3}\n",
      "Best RMSE: 2.1775886009253598\n"
     ]
    }
   ],
   "source": [
    "def objective(trial):\n",
    "    \"\"\"\n",
    "    https://medium.com/optuna/lightgbm-tuner-new-optuna-integration-for-hyperparameter-optimization-8b7095e99258\n",
    "    \"\"\"\n",
    "    params = {\n",
    "\n",
    "#         'bagging_freq': trial.suggest_int('bagging_freq', 1, 7),\n",
    "#         'min_child_samples': trial.suggest_int('min_child_samples', 5, 100),\n",
    "        'feature_fraction': trial.suggest_float('feature_fraction', 0.0, 1.0),\n",
    "        'num_leaves': trial.suggest_int('num_leaves', 2, 256),\n",
    "        'bagging_fraction': trial.suggest_float('bagging_fraction', 0.4, 1.0),\n",
    "        'lambda_l1': trial.suggest_float('lambda_l1', 1e-8, 10.0, log=True),\n",
    "        'lambda_l2': trial.suggest_float('lambda_l2', 1e-8, 10.0, log=True),\n",
    "#         'min_samples_leaf': trial.suggest_int('min_samples_leaf', 1, 10),\n",
    "        'n_estimators': trial.suggest_int('n_estimators', 10, 300),\n",
    "        'max_depth': trial.suggest_int('max_depth', 2, 6),\n",
    "        'deterministic': True,\n",
    "        'random_state': 42\n",
    "    }\n",
    "    \n",
    "    model2 = lgbm.LGBMRegressor(**params)\n",
    "    model2.fit(xtrain_svd, ytrain)\n",
    "\n",
    "    # predict\n",
    "    ypred2 = model2.predict(xval_svd)\n",
    "\n",
    "    # validate\n",
    "    df_eval2 = pd.DataFrame()\n",
    "    df_eval2['Env'] = xval_svd.index.get_level_values(0)\n",
    "    df_eval2['ytrue'] = list(yval)\n",
    "    df_eval2['ypred'] = ypred2\n",
    "    rmse_per_group2 = df_eval2.groupby('Env').apply(lambda x: mean_squared_error(x['ytrue'], x['ypred'], squared=False))\n",
    "    # print(rmse_per_group2)\n",
    "\n",
    "    rmse2 = sum(rmse_per_group2) / len(rmse_per_group2)\n",
    "    return rmse2\n",
    "\n",
    "\n",
    "study = optuna.create_study(direction='minimize', sampler=optuna.samplers.TPESampler(seed=42))\n",
    "study.optimize(objective, n_trials=200)\n",
    " \n",
    "print('Number of finished trials:', len(study.trials))\n",
    "print('Best trial:', study.best_trial.params)\n",
    "print('Best RMSE:', study.best_value)"
   ]
  },
  {
   "cell_type": "code",
   "execution_count": 25,
   "id": "8fa3a28d",
   "metadata": {},
   "outputs": [],
   "source": [
    "# svd=100\n",
    "# Best RMSE: 2.1668091284496778\n",
    "\n",
    "# svd=300\n",
    "# Best RMSE: 2.18514949390902\n",
    "\n",
    "# svd=500\n",
    "# Best RMSE: 2.17549532600143"
   ]
  },
  {
   "cell_type": "markdown",
   "id": "ef1ad748",
   "metadata": {},
   "source": [
    "### Best model"
   ]
  },
  {
   "cell_type": "code",
   "execution_count": 17,
   "id": "2b9d6d83",
   "metadata": {},
   "outputs": [
    {
     "name": "stdout",
     "output_type": "stream",
     "text": [
      "[LightGBM] [Warning] lambda_l1 is set=0.003479770441661883, reg_alpha=0.0 will be ignored. Current value: lambda_l1=0.003479770441661883\n",
      "[LightGBM] [Warning] bagging_fraction is set=0.44464121838256837, subsample=1.0 will be ignored. Current value: bagging_fraction=0.44464121838256837\n",
      "[LightGBM] [Warning] feature_fraction is set=0.09505523043330866, colsample_bytree=1.0 will be ignored. Current value: feature_fraction=0.09505523043330866\n",
      "[LightGBM] [Warning] lambda_l2 is set=0.003338563210872328, reg_lambda=0.0 will be ignored. Current value: lambda_l2=0.003338563210872328\n",
      "Env\n",
      "COH1_2021    3.409433\n",
      "DEH1_2021    1.957973\n",
      "GAH1_2021    2.072957\n",
      "GAH2_2021    2.414603\n",
      "GEH1_2021    2.166506\n",
      "IAH1_2021    2.264090\n",
      "IAH2_2021    1.275039\n",
      "IAH3_2021    2.027874\n",
      "IAH4_2021    1.481481\n",
      "ILH1_2021    1.625974\n",
      "INH1_2021    1.497573\n",
      "MIH1_2021    1.427301\n",
      "MNH1_2021    1.581975\n",
      "NCH1_2021    1.746260\n",
      "NEH1_2021    2.990723\n",
      "NEH2_2021    2.018700\n",
      "NEH3_2021    3.455137\n",
      "NYH2_2021    2.348899\n",
      "NYH3_2021    1.584927\n",
      "NYS1_2021    1.952346\n",
      "SCH1_2021    2.320200\n",
      "TXH1_2021    1.650781\n",
      "TXH2_2021    2.154594\n",
      "TXH3_2021    4.630878\n",
      "WIH1_2021    2.317092\n",
      "WIH2_2021    2.629636\n",
      "WIH3_2021    1.791939\n",
      "dtype: float64\n",
      "RMSE: 2.1775886009253598\n"
     ]
    }
   ],
   "source": [
    "# %%time\n",
    "\n",
    "best_params = {'feature_fraction': 0.09505523043330866, 'num_leaves': 156, \n",
    "               'bagging_fraction': 0.44464121838256837, 'lambda_l1': 0.003479770441661883, \n",
    "               'lambda_l2': 0.003338563210872328, 'n_estimators': 269, 'max_depth': 3}\n",
    "model2 = lgbm.LGBMRegressor(random_state=42, **best_params)\n",
    "model2.fit(xtrain_svd, ytrain)\n",
    "\n",
    "# predict\n",
    "ypred2 = model2.predict(xval_svd)\n",
    "\n",
    "# validate\n",
    "df_eval2 = pd.DataFrame()\n",
    "df_eval2['Env'] = xval_svd.index.get_level_values(0)\n",
    "df_eval2['Hybrid'] = xval_svd.index.get_level_values(1)\n",
    "df_eval2['ytrue'] = list(yval)\n",
    "df_eval2['ypred'] = ypred2\n",
    "rmse_per_group2 = df_eval2.groupby('Env').apply(lambda x: mean_squared_error(x['ytrue'], x['ypred'], squared=False))\n",
    "print(rmse_per_group2)\n",
    "\n",
    "rmse2 = sum(rmse_per_group2) / len(rmse_per_group2)\n",
    "print('RMSE:', rmse2)"
   ]
  },
  {
   "cell_type": "code",
   "execution_count": 18,
   "id": "7857b0b9",
   "metadata": {},
   "outputs": [
    {
     "name": "stdout",
     "output_type": "stream",
     "text": [
      "0.2753473237663835\n"
     ]
    },
    {
     "data": {
      "image/png": "[encoded data removed]",
      "text/plain": [
       "<Figure size 432x432 with 1 Axes>"
      ]
     },
     "metadata": {
      "needs_background": "light"
     },
     "output_type": "display_data"
    }
   ],
   "source": [
    "print(r2_score(df_eval2['ytrue'], df_eval2['ypred']))\n",
    "df_eval2.plot.scatter('ytrue', 'ypred', figsize=(6, 6));"
   ]
  },
  {
   "cell_type": "code",
   "execution_count": 19,
   "id": "195b9746",
   "metadata": {},
   "outputs": [],
   "source": [
    "df_eval2.to_csv('../output/oof_kronecker_epi_all.csv', index=False)"
   ]
  },
  {
   "cell_type": "code",
   "execution_count": 21,
   "id": "fb0cfa01",
   "metadata": {},
   "outputs": [
    {
     "name": "stdout",
     "output_type": "stream",
     "text": [
      "-rw-r--r-- 1 igorf samuelbf 835K Feb 13 13:35 ../output/oof_genetic_AD.csv\r\n",
      "-rw-r--r-- 1 igorf samuelbf 839K Jan 31 19:25 ../output/oof_kronecker_additive.csv\r\n",
      "-rw-r--r-- 1 igorf samuelbf 838K Jan 31 22:25 ../output/oof_kronecker_dominant.csv\r\n",
      "-rw-r--r-- 1 igorf samuelbf 839K Feb  1 15:47 ../output/oof_kronecker_epi_AA.csv\r\n",
      "-rw-r--r-- 1 igorf samuelbf 837K Feb  1 18:55 ../output/oof_kronecker_epi_AD.csv\r\n",
      "-rw-r--r-- 1 igorf samuelbf 838K Feb 13 15:18 ../output/oof_kronecker_epi_all.csv\r\n",
      "-rw-r--r-- 1 igorf samuelbf 837K Feb  1 18:17 ../output/oof_kronecker_epi_DD.csv\r\n",
      "-rw-r--r-- 1 igorf samuelbf 908K Jan 31 15:32 ../output/oof_solution_4th_sub.csv\r\n"
     ]
    }
   ],
   "source": [
    "!ls -lh ../output/oof_*"
   ]
  },
  {
   "cell_type": "code",
   "execution_count": null,
   "id": "c6aa1814",
   "metadata": {},
   "outputs": [],
   "source": []
  }
 ],
 "metadata": {
  "kernelspec": {
   "display_name": "Python 3 (ipykernel)",
   "language": "python",
   "name": "python3"
  },
  "language_info": {
   "codemirror_mode": {
    "name": "ipython",
    "version": 3
   },
   "file_extension": ".py",
   "mimetype": "text/x-python",
   "name": "python",
   "nbconvert_exporter": "python",
   "pygments_lexer": "ipython3",
   "version": "3.9.6"
  }
 },
 "nbformat": 4,
 "nbformat_minor": 5
}
