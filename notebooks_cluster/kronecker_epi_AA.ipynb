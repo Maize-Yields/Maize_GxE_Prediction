{
 "cells": [
  {
   "cell_type": "code",
   "execution_count": 1,
   "id": "babc01c7",
   "metadata": {},
   "outputs": [],
   "source": [
    "# !pip3 install pyarrow\n",
    "# !pip3 install lightgbm\n",
    "# !pip3 install optuna"
   ]
  },
  {
   "cell_type": "code",
   "execution_count": 2,
   "id": "ce58b9cd",
   "metadata": {},
   "outputs": [],
   "source": [
    "import pandas as pd\n",
    "import lightgbm as lgbm\n",
    "from sklearn.metrics import mean_squared_error, r2_score\n",
    "from IPython.display import display"
   ]
  },
  {
   "cell_type": "code",
   "execution_count": 3,
   "id": "023f0bf0",
   "metadata": {},
   "outputs": [],
   "source": [
    "def preprocess(df, year):\n",
    "    df[['Env', 'Hybrid']] = df['id'].str.split(':', expand=True)\n",
    "    df['Env'] += \"_\" + str(year)\n",
    "    df = df.drop('id', axis=1).set_index(['Env', 'Hybrid'])\n",
    "    return df"
   ]
  },
  {
   "cell_type": "code",
   "execution_count": 4,
   "id": "52786c92",
   "metadata": {},
   "outputs": [
    {
     "name": "stdout",
     "output_type": "stream",
     "text": [
      "CPU times: user 14min 36s, sys: 3min 2s, total: 17min 38s\n",
      "Wall time: 17min 45s\n"
     ]
    }
   ],
   "source": [
    "%%time\n",
    "\n",
    "ytrain = pd.read_csv('../output/ytrain.csv').set_index(['Env', 'Hybrid'])\n",
    "xtrain = pd.read_parquet('../output/kronecker_epi_AA_train.parquet')\n",
    "xtrain = preprocess(xtrain, year=2020)\n",
    "xtrain = xtrain.merge(ytrain, on=['Env', 'Hybrid'], how='inner')\n",
    "ytrain = xtrain['Yield_Mg_ha']\n",
    "del xtrain['Yield_Mg_ha']\n",
    "\n",
    "yval = pd.read_csv('../output/yval.csv').set_index(['Env', 'Hybrid'])\n",
    "xval = pd.read_parquet('../output/kronecker_epi_AA_val.parquet')\n",
    "xval = preprocess(xval, year=2021)\n",
    "xval = xval.merge(yval, on=['Env', 'Hybrid'], how='inner')\n",
    "yval = xval['Yield_Mg_ha']\n",
    "del xval['Yield_Mg_ha']"
   ]
  },
  {
   "cell_type": "code",
   "execution_count": 5,
   "id": "0e9ee4a6",
   "metadata": {},
   "outputs": [
    {
     "data": {
      "text/html": [
       "<div>\n",
       "<style scoped>\n",
       "    .dataframe tbody tr th:only-of-type {\n",
       "        vertical-align: middle;\n",
       "    }\n",
       "\n",
       "    .dataframe tbody tr th {\n",
       "        vertical-align: top;\n",
       "    }\n",
       "\n",
       "    .dataframe thead th {\n",
       "        text-align: right;\n",
       "    }\n",
       "</style>\n",
       "<table border=\"1\" class=\"dataframe\">\n",
       "  <thead>\n",
       "    <tr style=\"text-align: right;\">\n",
       "      <th></th>\n",
       "      <th></th>\n",
       "      <th>weather_station_lat.2369.DK3IIH6</th>\n",
       "      <th>weather_station_lat.2369.PHN82</th>\n",
       "      <th>weather_station_lat.2369.PHZ51</th>\n",
       "      <th>weather_station_lat.2FACC.DK3IIH6</th>\n",
       "      <th>weather_station_lat.4N506.DK3IIH6</th>\n",
       "      <th>weather_station_lat.6F629.DK3IIH6</th>\n",
       "      <th>weather_station_lat.740.PB80</th>\n",
       "      <th>weather_station_lat.740.PHB47</th>\n",
       "      <th>weather_station_lat.A632.DK3IIH6</th>\n",
       "      <th>weather_station_lat.A634.DK3IIH6</th>\n",
       "      <th>...</th>\n",
       "      <th>T2M_min_fall_X_weather_station_lat.Z036E0057.PHZ51</th>\n",
       "      <th>T2M_min_fall_X_weather_station_lat.Z037E0012.DK3IIH6</th>\n",
       "      <th>T2M_min_fall_X_weather_station_lat.Z037E0012.LH162</th>\n",
       "      <th>T2M_min_fall_X_weather_station_lat.Z037E0012.PHZ51</th>\n",
       "      <th>T2M_min_fall_X_weather_station_lat.Z037E0054.DK3IIH6</th>\n",
       "      <th>T2M_min_fall_X_weather_station_lat.Z037E0054.LH162</th>\n",
       "      <th>T2M_min_fall_X_weather_station_lat.Z037E0054.PHZ51</th>\n",
       "      <th>T2M_min_fall_X_weather_station_lat.Z038E0057.DK3IIH6</th>\n",
       "      <th>T2M_min_fall_X_weather_station_lat.Z038E0057.LH162</th>\n",
       "      <th>T2M_min_fall_X_weather_station_lat.Z038E0057.PHZ51</th>\n",
       "    </tr>\n",
       "    <tr>\n",
       "      <th>Env</th>\n",
       "      <th>Hybrid</th>\n",
       "      <th></th>\n",
       "      <th></th>\n",
       "      <th></th>\n",
       "      <th></th>\n",
       "      <th></th>\n",
       "      <th></th>\n",
       "      <th></th>\n",
       "      <th></th>\n",
       "      <th></th>\n",
       "      <th></th>\n",
       "      <th></th>\n",
       "      <th></th>\n",
       "      <th></th>\n",
       "      <th></th>\n",
       "      <th></th>\n",
       "      <th></th>\n",
       "      <th></th>\n",
       "      <th></th>\n",
       "      <th></th>\n",
       "      <th></th>\n",
       "      <th></th>\n",
       "    </tr>\n",
       "  </thead>\n",
       "  <tbody>\n",
       "    <tr>\n",
       "      <th rowspan=\"5\" valign=\"top\">DEH1_2020</th>\n",
       "      <th>B14A/H95</th>\n",
       "      <td>0.026453</td>\n",
       "      <td>0.087934</td>\n",
       "      <td>0.067150</td>\n",
       "      <td>0.011281</td>\n",
       "      <td>0.010385</td>\n",
       "      <td>0.008728</td>\n",
       "      <td>0.001851</td>\n",
       "      <td>0.031265</td>\n",
       "      <td>0.013483</td>\n",
       "      <td>0.002779</td>\n",
       "      <td>...</td>\n",
       "      <td>0.132391</td>\n",
       "      <td>0.053962</td>\n",
       "      <td>0.091233</td>\n",
       "      <td>0.145871</td>\n",
       "      <td>0.034258</td>\n",
       "      <td>0.126232</td>\n",
       "      <td>0.110504</td>\n",
       "      <td>0.053953</td>\n",
       "      <td>0.095481</td>\n",
       "      <td>0.141230</td>\n",
       "    </tr>\n",
       "    <tr>\n",
       "      <th>B14A/MO17</th>\n",
       "      <td>0.178596</td>\n",
       "      <td>0.179007</td>\n",
       "      <td>0.024634</td>\n",
       "      <td>0.024201</td>\n",
       "      <td>0.000455</td>\n",
       "      <td>0.118036</td>\n",
       "      <td>6.467765</td>\n",
       "      <td>5.364242</td>\n",
       "      <td>0.029983</td>\n",
       "      <td>0.032255</td>\n",
       "      <td>...</td>\n",
       "      <td>0.042169</td>\n",
       "      <td>0.428721</td>\n",
       "      <td>2.256524</td>\n",
       "      <td>0.062338</td>\n",
       "      <td>0.349085</td>\n",
       "      <td>2.470168</td>\n",
       "      <td>0.033057</td>\n",
       "      <td>0.472341</td>\n",
       "      <td>2.170764</td>\n",
       "      <td>0.078023</td>\n",
       "    </tr>\n",
       "    <tr>\n",
       "      <th>B14A/OH43</th>\n",
       "      <td>0.031022</td>\n",
       "      <td>0.190380</td>\n",
       "      <td>0.133505</td>\n",
       "      <td>0.009357</td>\n",
       "      <td>0.004669</td>\n",
       "      <td>0.019938</td>\n",
       "      <td>0.004035</td>\n",
       "      <td>0.058771</td>\n",
       "      <td>0.004690</td>\n",
       "      <td>0.001539</td>\n",
       "      <td>...</td>\n",
       "      <td>0.339044</td>\n",
       "      <td>0.106561</td>\n",
       "      <td>0.018976</td>\n",
       "      <td>0.383942</td>\n",
       "      <td>0.071493</td>\n",
       "      <td>0.041429</td>\n",
       "      <td>0.308307</td>\n",
       "      <td>0.096054</td>\n",
       "      <td>0.025538</td>\n",
       "      <td>0.355870</td>\n",
       "    </tr>\n",
       "    <tr>\n",
       "      <th>B37/H95</th>\n",
       "      <td>0.462462</td>\n",
       "      <td>0.775128</td>\n",
       "      <td>0.647440</td>\n",
       "      <td>0.103428</td>\n",
       "      <td>0.240375</td>\n",
       "      <td>0.313499</td>\n",
       "      <td>0.640172</td>\n",
       "      <td>2.075235</td>\n",
       "      <td>0.066985</td>\n",
       "      <td>0.076919</td>\n",
       "      <td>...</td>\n",
       "      <td>2.235203</td>\n",
       "      <td>1.972297</td>\n",
       "      <td>0.749710</td>\n",
       "      <td>2.545939</td>\n",
       "      <td>1.903598</td>\n",
       "      <td>0.706425</td>\n",
       "      <td>2.467143</td>\n",
       "      <td>1.939109</td>\n",
       "      <td>0.726985</td>\n",
       "      <td>2.499182</td>\n",
       "    </tr>\n",
       "    <tr>\n",
       "      <th>B37/MO17</th>\n",
       "      <td>0.869933</td>\n",
       "      <td>1.009929</td>\n",
       "      <td>0.489978</td>\n",
       "      <td>0.135003</td>\n",
       "      <td>0.368954</td>\n",
       "      <td>0.093202</td>\n",
       "      <td>2.882126</td>\n",
       "      <td>15.415601</td>\n",
       "      <td>0.286430</td>\n",
       "      <td>0.253725</td>\n",
       "      <td>...</td>\n",
       "      <td>1.771290</td>\n",
       "      <td>3.293959</td>\n",
       "      <td>0.105964</td>\n",
       "      <td>2.132311</td>\n",
       "      <td>3.139629</td>\n",
       "      <td>0.135995</td>\n",
       "      <td>2.002643</td>\n",
       "      <td>3.365952</td>\n",
       "      <td>0.092497</td>\n",
       "      <td>2.187366</td>\n",
       "    </tr>\n",
       "    <tr>\n",
       "      <th>...</th>\n",
       "      <th>...</th>\n",
       "      <td>...</td>\n",
       "      <td>...</td>\n",
       "      <td>...</td>\n",
       "      <td>...</td>\n",
       "      <td>...</td>\n",
       "      <td>...</td>\n",
       "      <td>...</td>\n",
       "      <td>...</td>\n",
       "      <td>...</td>\n",
       "      <td>...</td>\n",
       "      <td>...</td>\n",
       "      <td>...</td>\n",
       "      <td>...</td>\n",
       "      <td>...</td>\n",
       "      <td>...</td>\n",
       "      <td>...</td>\n",
       "      <td>...</td>\n",
       "      <td>...</td>\n",
       "      <td>...</td>\n",
       "      <td>...</td>\n",
       "      <td>...</td>\n",
       "    </tr>\n",
       "    <tr>\n",
       "      <th rowspan=\"5\" valign=\"top\">WIH3_2020</th>\n",
       "      <th>W10004_1123/PHP02</th>\n",
       "      <td>1.152961</td>\n",
       "      <td>2.306053</td>\n",
       "      <td>0.852553</td>\n",
       "      <td>3.195444</td>\n",
       "      <td>1.348529</td>\n",
       "      <td>1.537112</td>\n",
       "      <td>0.463827</td>\n",
       "      <td>0.378679</td>\n",
       "      <td>4.151398</td>\n",
       "      <td>3.538142</td>\n",
       "      <td>...</td>\n",
       "      <td>-3.757743</td>\n",
       "      <td>-3.471652</td>\n",
       "      <td>-1.181373</td>\n",
       "      <td>-3.855827</td>\n",
       "      <td>-3.369622</td>\n",
       "      <td>-1.240058</td>\n",
       "      <td>-3.967480</td>\n",
       "      <td>-3.428372</td>\n",
       "      <td>-1.200871</td>\n",
       "      <td>-3.905014</td>\n",
       "    </tr>\n",
       "    <tr>\n",
       "      <th>W10004_1140/PHP02</th>\n",
       "      <td>0.868290</td>\n",
       "      <td>1.812642</td>\n",
       "      <td>0.646537</td>\n",
       "      <td>1.756443</td>\n",
       "      <td>1.183893</td>\n",
       "      <td>1.080632</td>\n",
       "      <td>0.117024</td>\n",
       "      <td>0.135593</td>\n",
       "      <td>1.550718</td>\n",
       "      <td>1.273550</td>\n",
       "      <td>...</td>\n",
       "      <td>-2.316754</td>\n",
       "      <td>-3.244493</td>\n",
       "      <td>-0.381126</td>\n",
       "      <td>-2.342838</td>\n",
       "      <td>-3.284712</td>\n",
       "      <td>-0.364913</td>\n",
       "      <td>-2.308045</td>\n",
       "      <td>-3.245690</td>\n",
       "      <td>-0.380396</td>\n",
       "      <td>-2.339673</td>\n",
       "    </tr>\n",
       "    <tr>\n",
       "      <th>W10004_1143/PHP02</th>\n",
       "      <td>0.354637</td>\n",
       "      <td>0.942718</td>\n",
       "      <td>1.325811</td>\n",
       "      <td>1.915482</td>\n",
       "      <td>0.612853</td>\n",
       "      <td>1.241576</td>\n",
       "      <td>0.333806</td>\n",
       "      <td>0.007922</td>\n",
       "      <td>1.632105</td>\n",
       "      <td>1.469468</td>\n",
       "      <td>...</td>\n",
       "      <td>-5.061915</td>\n",
       "      <td>-1.312560</td>\n",
       "      <td>-1.345995</td>\n",
       "      <td>-4.880805</td>\n",
       "      <td>-1.405112</td>\n",
       "      <td>-1.258215</td>\n",
       "      <td>-4.712408</td>\n",
       "      <td>-1.306991</td>\n",
       "      <td>-1.356763</td>\n",
       "      <td>-4.895252</td>\n",
       "    </tr>\n",
       "    <tr>\n",
       "      <th>W10004_1146/PHP02</th>\n",
       "      <td>0.956150</td>\n",
       "      <td>1.748118</td>\n",
       "      <td>0.680707</td>\n",
       "      <td>2.154864</td>\n",
       "      <td>1.643895</td>\n",
       "      <td>1.264101</td>\n",
       "      <td>0.260599</td>\n",
       "      <td>0.393745</td>\n",
       "      <td>3.018605</td>\n",
       "      <td>2.473000</td>\n",
       "      <td>...</td>\n",
       "      <td>-2.722076</td>\n",
       "      <td>-3.179637</td>\n",
       "      <td>-0.822198</td>\n",
       "      <td>-2.812860</td>\n",
       "      <td>-3.112305</td>\n",
       "      <td>-0.858131</td>\n",
       "      <td>-2.885331</td>\n",
       "      <td>-3.141489</td>\n",
       "      <td>-0.846374</td>\n",
       "      <td>-2.856971</td>\n",
       "    </tr>\n",
       "    <tr>\n",
       "      <th>W10004_1156/PHP02</th>\n",
       "      <td>1.157501</td>\n",
       "      <td>2.466025</td>\n",
       "      <td>0.614239</td>\n",
       "      <td>2.358873</td>\n",
       "      <td>1.232127</td>\n",
       "      <td>1.331948</td>\n",
       "      <td>0.246906</td>\n",
       "      <td>0.383193</td>\n",
       "      <td>2.278151</td>\n",
       "      <td>2.139727</td>\n",
       "      <td>...</td>\n",
       "      <td>-3.152723</td>\n",
       "      <td>-2.928216</td>\n",
       "      <td>-0.993057</td>\n",
       "      <td>-3.445996</td>\n",
       "      <td>-2.882364</td>\n",
       "      <td>-1.021300</td>\n",
       "      <td>-3.503119</td>\n",
       "      <td>-2.796277</td>\n",
       "      <td>-1.074306</td>\n",
       "      <td>-3.598956</td>\n",
       "    </tr>\n",
       "  </tbody>\n",
       "</table>\n",
       "<p>11277 rows × 413952 columns</p>\n",
       "</div>"
      ],
      "text/plain": [
       "                             weather_station_lat.2369.DK3IIH6  \\\n",
       "Env       Hybrid                                                \n",
       "DEH1_2020 B14A/H95                                   0.026453   \n",
       "          B14A/MO17                                  0.178596   \n",
       "          B14A/OH43                                  0.031022   \n",
       "          B37/H95                                    0.462462   \n",
       "          B37/MO17                                   0.869933   \n",
       "...                                                       ...   \n",
       "WIH3_2020 W10004_1123/PHP02                          1.152961   \n",
       "          W10004_1140/PHP02                          0.868290   \n",
       "          W10004_1143/PHP02                          0.354637   \n",
       "          W10004_1146/PHP02                          0.956150   \n",
       "          W10004_1156/PHP02                          1.157501   \n",
       "\n",
       "                             weather_station_lat.2369.PHN82  \\\n",
       "Env       Hybrid                                              \n",
       "DEH1_2020 B14A/H95                                 0.087934   \n",
       "          B14A/MO17                                0.179007   \n",
       "          B14A/OH43                                0.190380   \n",
       "          B37/H95                                  0.775128   \n",
       "          B37/MO17                                 1.009929   \n",
       "...                                                     ...   \n",
       "WIH3_2020 W10004_1123/PHP02                        2.306053   \n",
       "          W10004_1140/PHP02                        1.812642   \n",
       "          W10004_1143/PHP02                        0.942718   \n",
       "          W10004_1146/PHP02                        1.748118   \n",
       "          W10004_1156/PHP02                        2.466025   \n",
       "\n",
       "                             weather_station_lat.2369.PHZ51  \\\n",
       "Env       Hybrid                                              \n",
       "DEH1_2020 B14A/H95                                 0.067150   \n",
       "          B14A/MO17                                0.024634   \n",
       "          B14A/OH43                                0.133505   \n",
       "          B37/H95                                  0.647440   \n",
       "          B37/MO17                                 0.489978   \n",
       "...                                                     ...   \n",
       "WIH3_2020 W10004_1123/PHP02                        0.852553   \n",
       "          W10004_1140/PHP02                        0.646537   \n",
       "          W10004_1143/PHP02                        1.325811   \n",
       "          W10004_1146/PHP02                        0.680707   \n",
       "          W10004_1156/PHP02                        0.614239   \n",
       "\n",
       "                             weather_station_lat.2FACC.DK3IIH6  \\\n",
       "Env       Hybrid                                                 \n",
       "DEH1_2020 B14A/H95                                    0.011281   \n",
       "          B14A/MO17                                   0.024201   \n",
       "          B14A/OH43                                   0.009357   \n",
       "          B37/H95                                     0.103428   \n",
       "          B37/MO17                                    0.135003   \n",
       "...                                                        ...   \n",
       "WIH3_2020 W10004_1123/PHP02                           3.195444   \n",
       "          W10004_1140/PHP02                           1.756443   \n",
       "          W10004_1143/PHP02                           1.915482   \n",
       "          W10004_1146/PHP02                           2.154864   \n",
       "          W10004_1156/PHP02                           2.358873   \n",
       "\n",
       "                             weather_station_lat.4N506.DK3IIH6  \\\n",
       "Env       Hybrid                                                 \n",
       "DEH1_2020 B14A/H95                                    0.010385   \n",
       "          B14A/MO17                                   0.000455   \n",
       "          B14A/OH43                                   0.004669   \n",
       "          B37/H95                                     0.240375   \n",
       "          B37/MO17                                    0.368954   \n",
       "...                                                        ...   \n",
       "WIH3_2020 W10004_1123/PHP02                           1.348529   \n",
       "          W10004_1140/PHP02                           1.183893   \n",
       "          W10004_1143/PHP02                           0.612853   \n",
       "          W10004_1146/PHP02                           1.643895   \n",
       "          W10004_1156/PHP02                           1.232127   \n",
       "\n",
       "                             weather_station_lat.6F629.DK3IIH6  \\\n",
       "Env       Hybrid                                                 \n",
       "DEH1_2020 B14A/H95                                    0.008728   \n",
       "          B14A/MO17                                   0.118036   \n",
       "          B14A/OH43                                   0.019938   \n",
       "          B37/H95                                     0.313499   \n",
       "          B37/MO17                                    0.093202   \n",
       "...                                                        ...   \n",
       "WIH3_2020 W10004_1123/PHP02                           1.537112   \n",
       "          W10004_1140/PHP02                           1.080632   \n",
       "          W10004_1143/PHP02                           1.241576   \n",
       "          W10004_1146/PHP02                           1.264101   \n",
       "          W10004_1156/PHP02                           1.331948   \n",
       "\n",
       "                             weather_station_lat.740.PB80  \\\n",
       "Env       Hybrid                                            \n",
       "DEH1_2020 B14A/H95                               0.001851   \n",
       "          B14A/MO17                              6.467765   \n",
       "          B14A/OH43                              0.004035   \n",
       "          B37/H95                                0.640172   \n",
       "          B37/MO17                               2.882126   \n",
       "...                                                   ...   \n",
       "WIH3_2020 W10004_1123/PHP02                      0.463827   \n",
       "          W10004_1140/PHP02                      0.117024   \n",
       "          W10004_1143/PHP02                      0.333806   \n",
       "          W10004_1146/PHP02                      0.260599   \n",
       "          W10004_1156/PHP02                      0.246906   \n",
       "\n",
       "                             weather_station_lat.740.PHB47  \\\n",
       "Env       Hybrid                                             \n",
       "DEH1_2020 B14A/H95                                0.031265   \n",
       "          B14A/MO17                               5.364242   \n",
       "          B14A/OH43                               0.058771   \n",
       "          B37/H95                                 2.075235   \n",
       "          B37/MO17                               15.415601   \n",
       "...                                                    ...   \n",
       "WIH3_2020 W10004_1123/PHP02                       0.378679   \n",
       "          W10004_1140/PHP02                       0.135593   \n",
       "          W10004_1143/PHP02                       0.007922   \n",
       "          W10004_1146/PHP02                       0.393745   \n",
       "          W10004_1156/PHP02                       0.383193   \n",
       "\n",
       "                             weather_station_lat.A632.DK3IIH6  \\\n",
       "Env       Hybrid                                                \n",
       "DEH1_2020 B14A/H95                                   0.013483   \n",
       "          B14A/MO17                                  0.029983   \n",
       "          B14A/OH43                                  0.004690   \n",
       "          B37/H95                                    0.066985   \n",
       "          B37/MO17                                   0.286430   \n",
       "...                                                       ...   \n",
       "WIH3_2020 W10004_1123/PHP02                          4.151398   \n",
       "          W10004_1140/PHP02                          1.550718   \n",
       "          W10004_1143/PHP02                          1.632105   \n",
       "          W10004_1146/PHP02                          3.018605   \n",
       "          W10004_1156/PHP02                          2.278151   \n",
       "\n",
       "                             weather_station_lat.A634.DK3IIH6  ...  \\\n",
       "Env       Hybrid                                               ...   \n",
       "DEH1_2020 B14A/H95                                   0.002779  ...   \n",
       "          B14A/MO17                                  0.032255  ...   \n",
       "          B14A/OH43                                  0.001539  ...   \n",
       "          B37/H95                                    0.076919  ...   \n",
       "          B37/MO17                                   0.253725  ...   \n",
       "...                                                       ...  ...   \n",
       "WIH3_2020 W10004_1123/PHP02                          3.538142  ...   \n",
       "          W10004_1140/PHP02                          1.273550  ...   \n",
       "          W10004_1143/PHP02                          1.469468  ...   \n",
       "          W10004_1146/PHP02                          2.473000  ...   \n",
       "          W10004_1156/PHP02                          2.139727  ...   \n",
       "\n",
       "                             T2M_min_fall_X_weather_station_lat.Z036E0057.PHZ51  \\\n",
       "Env       Hybrid                                                                  \n",
       "DEH1_2020 B14A/H95                                                    0.132391    \n",
       "          B14A/MO17                                                   0.042169    \n",
       "          B14A/OH43                                                   0.339044    \n",
       "          B37/H95                                                     2.235203    \n",
       "          B37/MO17                                                    1.771290    \n",
       "...                                                                        ...    \n",
       "WIH3_2020 W10004_1123/PHP02                                          -3.757743    \n",
       "          W10004_1140/PHP02                                          -2.316754    \n",
       "          W10004_1143/PHP02                                          -5.061915    \n",
       "          W10004_1146/PHP02                                          -2.722076    \n",
       "          W10004_1156/PHP02                                          -3.152723    \n",
       "\n",
       "                             T2M_min_fall_X_weather_station_lat.Z037E0012.DK3IIH6  \\\n",
       "Env       Hybrid                                                                    \n",
       "DEH1_2020 B14A/H95                                                    0.053962      \n",
       "          B14A/MO17                                                   0.428721      \n",
       "          B14A/OH43                                                   0.106561      \n",
       "          B37/H95                                                     1.972297      \n",
       "          B37/MO17                                                    3.293959      \n",
       "...                                                                        ...      \n",
       "WIH3_2020 W10004_1123/PHP02                                          -3.471652      \n",
       "          W10004_1140/PHP02                                          -3.244493      \n",
       "          W10004_1143/PHP02                                          -1.312560      \n",
       "          W10004_1146/PHP02                                          -3.179637      \n",
       "          W10004_1156/PHP02                                          -2.928216      \n",
       "\n",
       "                             T2M_min_fall_X_weather_station_lat.Z037E0012.LH162  \\\n",
       "Env       Hybrid                                                                  \n",
       "DEH1_2020 B14A/H95                                                    0.091233    \n",
       "          B14A/MO17                                                   2.256524    \n",
       "          B14A/OH43                                                   0.018976    \n",
       "          B37/H95                                                     0.749710    \n",
       "          B37/MO17                                                    0.105964    \n",
       "...                                                                        ...    \n",
       "WIH3_2020 W10004_1123/PHP02                                          -1.181373    \n",
       "          W10004_1140/PHP02                                          -0.381126    \n",
       "          W10004_1143/PHP02                                          -1.345995    \n",
       "          W10004_1146/PHP02                                          -0.822198    \n",
       "          W10004_1156/PHP02                                          -0.993057    \n",
       "\n",
       "                             T2M_min_fall_X_weather_station_lat.Z037E0012.PHZ51  \\\n",
       "Env       Hybrid                                                                  \n",
       "DEH1_2020 B14A/H95                                                    0.145871    \n",
       "          B14A/MO17                                                   0.062338    \n",
       "          B14A/OH43                                                   0.383942    \n",
       "          B37/H95                                                     2.545939    \n",
       "          B37/MO17                                                    2.132311    \n",
       "...                                                                        ...    \n",
       "WIH3_2020 W10004_1123/PHP02                                          -3.855827    \n",
       "          W10004_1140/PHP02                                          -2.342838    \n",
       "          W10004_1143/PHP02                                          -4.880805    \n",
       "          W10004_1146/PHP02                                          -2.812860    \n",
       "          W10004_1156/PHP02                                          -3.445996    \n",
       "\n",
       "                             T2M_min_fall_X_weather_station_lat.Z037E0054.DK3IIH6  \\\n",
       "Env       Hybrid                                                                    \n",
       "DEH1_2020 B14A/H95                                                    0.034258      \n",
       "          B14A/MO17                                                   0.349085      \n",
       "          B14A/OH43                                                   0.071493      \n",
       "          B37/H95                                                     1.903598      \n",
       "          B37/MO17                                                    3.139629      \n",
       "...                                                                        ...      \n",
       "WIH3_2020 W10004_1123/PHP02                                          -3.369622      \n",
       "          W10004_1140/PHP02                                          -3.284712      \n",
       "          W10004_1143/PHP02                                          -1.405112      \n",
       "          W10004_1146/PHP02                                          -3.112305      \n",
       "          W10004_1156/PHP02                                          -2.882364      \n",
       "\n",
       "                             T2M_min_fall_X_weather_station_lat.Z037E0054.LH162  \\\n",
       "Env       Hybrid                                                                  \n",
       "DEH1_2020 B14A/H95                                                    0.126232    \n",
       "          B14A/MO17                                                   2.470168    \n",
       "          B14A/OH43                                                   0.041429    \n",
       "          B37/H95                                                     0.706425    \n",
       "          B37/MO17                                                    0.135995    \n",
       "...                                                                        ...    \n",
       "WIH3_2020 W10004_1123/PHP02                                          -1.240058    \n",
       "          W10004_1140/PHP02                                          -0.364913    \n",
       "          W10004_1143/PHP02                                          -1.258215    \n",
       "          W10004_1146/PHP02                                          -0.858131    \n",
       "          W10004_1156/PHP02                                          -1.021300    \n",
       "\n",
       "                             T2M_min_fall_X_weather_station_lat.Z037E0054.PHZ51  \\\n",
       "Env       Hybrid                                                                  \n",
       "DEH1_2020 B14A/H95                                                    0.110504    \n",
       "          B14A/MO17                                                   0.033057    \n",
       "          B14A/OH43                                                   0.308307    \n",
       "          B37/H95                                                     2.467143    \n",
       "          B37/MO17                                                    2.002643    \n",
       "...                                                                        ...    \n",
       "WIH3_2020 W10004_1123/PHP02                                          -3.967480    \n",
       "          W10004_1140/PHP02                                          -2.308045    \n",
       "          W10004_1143/PHP02                                          -4.712408    \n",
       "          W10004_1146/PHP02                                          -2.885331    \n",
       "          W10004_1156/PHP02                                          -3.503119    \n",
       "\n",
       "                             T2M_min_fall_X_weather_station_lat.Z038E0057.DK3IIH6  \\\n",
       "Env       Hybrid                                                                    \n",
       "DEH1_2020 B14A/H95                                                    0.053953      \n",
       "          B14A/MO17                                                   0.472341      \n",
       "          B14A/OH43                                                   0.096054      \n",
       "          B37/H95                                                     1.939109      \n",
       "          B37/MO17                                                    3.365952      \n",
       "...                                                                        ...      \n",
       "WIH3_2020 W10004_1123/PHP02                                          -3.428372      \n",
       "          W10004_1140/PHP02                                          -3.245690      \n",
       "          W10004_1143/PHP02                                          -1.306991      \n",
       "          W10004_1146/PHP02                                          -3.141489      \n",
       "          W10004_1156/PHP02                                          -2.796277      \n",
       "\n",
       "                             T2M_min_fall_X_weather_station_lat.Z038E0057.LH162  \\\n",
       "Env       Hybrid                                                                  \n",
       "DEH1_2020 B14A/H95                                                    0.095481    \n",
       "          B14A/MO17                                                   2.170764    \n",
       "          B14A/OH43                                                   0.025538    \n",
       "          B37/H95                                                     0.726985    \n",
       "          B37/MO17                                                    0.092497    \n",
       "...                                                                        ...    \n",
       "WIH3_2020 W10004_1123/PHP02                                          -1.200871    \n",
       "          W10004_1140/PHP02                                          -0.380396    \n",
       "          W10004_1143/PHP02                                          -1.356763    \n",
       "          W10004_1146/PHP02                                          -0.846374    \n",
       "          W10004_1156/PHP02                                          -1.074306    \n",
       "\n",
       "                             T2M_min_fall_X_weather_station_lat.Z038E0057.PHZ51  \n",
       "Env       Hybrid                                                                 \n",
       "DEH1_2020 B14A/H95                                                    0.141230   \n",
       "          B14A/MO17                                                   0.078023   \n",
       "          B14A/OH43                                                   0.355870   \n",
       "          B37/H95                                                     2.499182   \n",
       "          B37/MO17                                                    2.187366   \n",
       "...                                                                        ...   \n",
       "WIH3_2020 W10004_1123/PHP02                                          -3.905014   \n",
       "          W10004_1140/PHP02                                          -2.339673   \n",
       "          W10004_1143/PHP02                                          -4.895252   \n",
       "          W10004_1146/PHP02                                          -2.856971   \n",
       "          W10004_1156/PHP02                                          -3.598956   \n",
       "\n",
       "[11277 rows x 413952 columns]"
      ]
     },
     "execution_count": 5,
     "metadata": {},
     "output_type": "execute_result"
    }
   ],
   "source": [
    "xtrain"
   ]
  },
  {
   "cell_type": "markdown",
   "id": "e674f3cb",
   "metadata": {},
   "source": [
    "### Training"
   ]
  },
  {
   "cell_type": "code",
   "execution_count": 6,
   "id": "87ce3bbc",
   "metadata": {},
   "outputs": [],
   "source": [
    "# %%time\n",
    "\n",
    "# NCOLS = xtrain.shape[1]\n",
    "# print('features:', NCOLS)\n",
    "\n",
    "# best_params = {'feature_fraction': 0.4953070809776986, 'num_leaves': 247, \n",
    "#                'bagging_fraction': 0.9866458243098336, 'lambda_l1': 3.680660098838679, \n",
    "#                'lambda_l2': 1.1632141265265e-06, 'n_estimators': 232, 'max_depth': 3}\n",
    "# model = lgbm.LGBMRegressor(random_state=42, **best_params)\n",
    "# model.fit(xtrain.iloc[:, :NCOLS], ytrain)\n",
    "\n",
    "# # predict\n",
    "# ypred = model.predict(xval.iloc[:, :NCOLS])\n",
    "\n",
    "# # validate\n",
    "# df_eval = pd.DataFrame()\n",
    "# df_eval['Env'] = xval.index.get_level_values(0)\n",
    "# df_eval['ytrue'] = list(yval)\n",
    "# df_eval['ypred'] = ypred\n",
    "# rmse_per_group = df_eval.groupby('Env').apply(lambda x: mean_squared_error(x['ytrue'], x['ypred'], squared=False))\n",
    "# print(rmse_per_group)\n",
    "\n",
    "# rmse = sum(rmse_per_group) / len(rmse_per_group)\n",
    "# print('RMSE:', rmse)"
   ]
  },
  {
   "cell_type": "code",
   "execution_count": 7,
   "id": "b8f8cde0",
   "metadata": {},
   "outputs": [],
   "source": [
    "# print(r2_score(df_eval['ytrue'], df_eval['ypred']))\n",
    "# df_eval.plot.scatter('ytrue', 'ypred', figsize=(6, 6));"
   ]
  },
  {
   "cell_type": "code",
   "execution_count": 8,
   "id": "722fc063",
   "metadata": {},
   "outputs": [],
   "source": [
    "from sklearn.decomposition import TruncatedSVD"
   ]
  },
  {
   "cell_type": "code",
   "execution_count": 9,
   "id": "bec224ef",
   "metadata": {},
   "outputs": [
    {
     "name": "stdout",
     "output_type": "stream",
     "text": [
      "0.9782664531817062\n",
      "CPU times: user 5min 19s, sys: 8.91 s, total: 5min 28s\n",
      "Wall time: 5min 30s\n"
     ]
    }
   ],
   "source": [
    "%%time\n",
    "\n",
    "n_components = 100\n",
    "svd = TruncatedSVD(n_components=n_components, random_state=42)\n",
    "svd.fit(xtrain)\n",
    "print(svd.explained_variance_ratio_.sum())"
   ]
  },
  {
   "cell_type": "code",
   "execution_count": 10,
   "id": "59dece5d",
   "metadata": {},
   "outputs": [
    {
     "name": "stdout",
     "output_type": "stream",
     "text": [
      "CPU times: user 57.2 s, sys: 0 ns, total: 57.2 s\n",
      "Wall time: 57.4 s\n"
     ]
    }
   ],
   "source": [
    "%%time\n",
    "\n",
    "xtrain_svd = pd.DataFrame(svd.transform(xtrain), index=xtrain.index)\n",
    "xtrain_svd.columns = [f'kron_svd{i}' for i in range(n_components)]\n",
    "\n",
    "xval_svd = pd.DataFrame(svd.transform(xval), index=xval.index)\n",
    "xval_svd.columns = [f'kron_svd{i}' for i in range(n_components)]"
   ]
  },
  {
   "cell_type": "code",
   "execution_count": 11,
   "id": "1940988c",
   "metadata": {},
   "outputs": [],
   "source": [
    "xtrain_lag = pd.read_csv('../output/xtrain.csv', usecols=lambda x: 'yield_lag' in x or x in ['Env', 'Hybrid']).set_index(['Env', 'Hybrid'])\n",
    "xval_lag = pd.read_csv('../output/xval.csv', usecols=lambda x: 'yield_lag' in x or x in ['Env', 'Hybrid']).set_index(['Env', 'Hybrid'])\n",
    "xtrain_svd = xtrain_svd.merge(xtrain_lag, on=['Env', 'Hybrid'], how='inner')\n",
    "xval_svd = xval_svd.merge(xval_lag, on=['Env', 'Hybrid'], how='inner')"
   ]
  },
  {
   "cell_type": "code",
   "execution_count": 12,
   "id": "a67b89c8",
   "metadata": {},
   "outputs": [
    {
     "data": {
      "text/html": [
       "<div>\n",
       "<style scoped>\n",
       "    .dataframe tbody tr th:only-of-type {\n",
       "        vertical-align: middle;\n",
       "    }\n",
       "\n",
       "    .dataframe tbody tr th {\n",
       "        vertical-align: top;\n",
       "    }\n",
       "\n",
       "    .dataframe thead th {\n",
       "        text-align: right;\n",
       "    }\n",
       "</style>\n",
       "<table border=\"1\" class=\"dataframe\">\n",
       "  <thead>\n",
       "    <tr style=\"text-align: right;\">\n",
       "      <th></th>\n",
       "      <th></th>\n",
       "      <th>kron_svd0</th>\n",
       "      <th>kron_svd1</th>\n",
       "      <th>kron_svd2</th>\n",
       "      <th>kron_svd3</th>\n",
       "      <th>kron_svd4</th>\n",
       "      <th>kron_svd5</th>\n",
       "      <th>kron_svd6</th>\n",
       "      <th>kron_svd7</th>\n",
       "      <th>kron_svd8</th>\n",
       "      <th>kron_svd9</th>\n",
       "      <th>...</th>\n",
       "      <th>kron_svd96</th>\n",
       "      <th>kron_svd97</th>\n",
       "      <th>kron_svd98</th>\n",
       "      <th>kron_svd99</th>\n",
       "      <th>mean_yield_lag_2</th>\n",
       "      <th>min_yield_lag_2</th>\n",
       "      <th>p1_yield_lag_2</th>\n",
       "      <th>q1_yield_lag_2</th>\n",
       "      <th>q3_yield_lag_2</th>\n",
       "      <th>p90_yield_lag_2</th>\n",
       "    </tr>\n",
       "    <tr>\n",
       "      <th>Env</th>\n",
       "      <th>Hybrid</th>\n",
       "      <th></th>\n",
       "      <th></th>\n",
       "      <th></th>\n",
       "      <th></th>\n",
       "      <th></th>\n",
       "      <th></th>\n",
       "      <th></th>\n",
       "      <th></th>\n",
       "      <th></th>\n",
       "      <th></th>\n",
       "      <th></th>\n",
       "      <th></th>\n",
       "      <th></th>\n",
       "      <th></th>\n",
       "      <th></th>\n",
       "      <th></th>\n",
       "      <th></th>\n",
       "      <th></th>\n",
       "      <th></th>\n",
       "      <th></th>\n",
       "      <th></th>\n",
       "    </tr>\n",
       "  </thead>\n",
       "  <tbody>\n",
       "    <tr>\n",
       "      <th rowspan=\"5\" valign=\"top\">DEH1_2020</th>\n",
       "      <th>B14A/H95</th>\n",
       "      <td>248.428264</td>\n",
       "      <td>149.167739</td>\n",
       "      <td>79.799394</td>\n",
       "      <td>-56.389536</td>\n",
       "      <td>3.594933</td>\n",
       "      <td>6.172149</td>\n",
       "      <td>1069.873203</td>\n",
       "      <td>47.179482</td>\n",
       "      <td>58.400633</td>\n",
       "      <td>132.148025</td>\n",
       "      <td>...</td>\n",
       "      <td>-50.847670</td>\n",
       "      <td>23.826594</td>\n",
       "      <td>-0.407108</td>\n",
       "      <td>-199.852156</td>\n",
       "      <td>10.056423</td>\n",
       "      <td>0.725594</td>\n",
       "      <td>2.516387</td>\n",
       "      <td>8.232294</td>\n",
       "      <td>11.94657</td>\n",
       "      <td>13.500556</td>\n",
       "    </tr>\n",
       "    <tr>\n",
       "      <th>B14A/MO17</th>\n",
       "      <td>638.149632</td>\n",
       "      <td>584.405947</td>\n",
       "      <td>216.185018</td>\n",
       "      <td>-131.496066</td>\n",
       "      <td>9.219688</td>\n",
       "      <td>16.920591</td>\n",
       "      <td>3652.182661</td>\n",
       "      <td>174.967552</td>\n",
       "      <td>53.726021</td>\n",
       "      <td>277.684811</td>\n",
       "      <td>...</td>\n",
       "      <td>290.686345</td>\n",
       "      <td>98.492887</td>\n",
       "      <td>124.281667</td>\n",
       "      <td>-34.938361</td>\n",
       "      <td>10.056423</td>\n",
       "      <td>0.725594</td>\n",
       "      <td>2.516387</td>\n",
       "      <td>8.232294</td>\n",
       "      <td>11.94657</td>\n",
       "      <td>13.500556</td>\n",
       "    </tr>\n",
       "    <tr>\n",
       "      <th>B14A/OH43</th>\n",
       "      <td>567.602872</td>\n",
       "      <td>383.618623</td>\n",
       "      <td>186.930410</td>\n",
       "      <td>-124.597997</td>\n",
       "      <td>7.300475</td>\n",
       "      <td>9.285236</td>\n",
       "      <td>1745.796884</td>\n",
       "      <td>126.204907</td>\n",
       "      <td>7.715540</td>\n",
       "      <td>142.361136</td>\n",
       "      <td>...</td>\n",
       "      <td>64.499716</td>\n",
       "      <td>133.131111</td>\n",
       "      <td>129.009701</td>\n",
       "      <td>-335.662849</td>\n",
       "      <td>10.056423</td>\n",
       "      <td>0.725594</td>\n",
       "      <td>2.516387</td>\n",
       "      <td>8.232294</td>\n",
       "      <td>11.94657</td>\n",
       "      <td>13.500556</td>\n",
       "    </tr>\n",
       "    <tr>\n",
       "      <th>B37/H95</th>\n",
       "      <td>719.284799</td>\n",
       "      <td>476.099962</td>\n",
       "      <td>363.415321</td>\n",
       "      <td>-165.607471</td>\n",
       "      <td>11.818149</td>\n",
       "      <td>22.535203</td>\n",
       "      <td>3280.430526</td>\n",
       "      <td>-89.958126</td>\n",
       "      <td>1374.731687</td>\n",
       "      <td>1612.072416</td>\n",
       "      <td>...</td>\n",
       "      <td>-54.895246</td>\n",
       "      <td>69.231868</td>\n",
       "      <td>-209.408252</td>\n",
       "      <td>-208.291741</td>\n",
       "      <td>10.056423</td>\n",
       "      <td>0.725594</td>\n",
       "      <td>2.516387</td>\n",
       "      <td>8.232294</td>\n",
       "      <td>11.94657</td>\n",
       "      <td>13.500556</td>\n",
       "    </tr>\n",
       "    <tr>\n",
       "      <th>B37/MO17</th>\n",
       "      <td>894.008467</td>\n",
       "      <td>885.796111</td>\n",
       "      <td>562.104276</td>\n",
       "      <td>-176.724837</td>\n",
       "      <td>13.141619</td>\n",
       "      <td>21.942044</td>\n",
       "      <td>4588.510080</td>\n",
       "      <td>96.372239</td>\n",
       "      <td>711.477869</td>\n",
       "      <td>981.860810</td>\n",
       "      <td>...</td>\n",
       "      <td>-286.172022</td>\n",
       "      <td>181.650400</td>\n",
       "      <td>73.558845</td>\n",
       "      <td>-198.181956</td>\n",
       "      <td>10.056423</td>\n",
       "      <td>0.725594</td>\n",
       "      <td>2.516387</td>\n",
       "      <td>8.232294</td>\n",
       "      <td>11.94657</td>\n",
       "      <td>13.500556</td>\n",
       "    </tr>\n",
       "    <tr>\n",
       "      <th>...</th>\n",
       "      <th>...</th>\n",
       "      <td>...</td>\n",
       "      <td>...</td>\n",
       "      <td>...</td>\n",
       "      <td>...</td>\n",
       "      <td>...</td>\n",
       "      <td>...</td>\n",
       "      <td>...</td>\n",
       "      <td>...</td>\n",
       "      <td>...</td>\n",
       "      <td>...</td>\n",
       "      <td>...</td>\n",
       "      <td>...</td>\n",
       "      <td>...</td>\n",
       "      <td>...</td>\n",
       "      <td>...</td>\n",
       "      <td>...</td>\n",
       "      <td>...</td>\n",
       "      <td>...</td>\n",
       "      <td>...</td>\n",
       "      <td>...</td>\n",
       "      <td>...</td>\n",
       "    </tr>\n",
       "    <tr>\n",
       "      <th rowspan=\"5\" valign=\"top\">WIH3_2020</th>\n",
       "      <th>W10004_1123/PHP02</th>\n",
       "      <td>4584.873861</td>\n",
       "      <td>12182.369842</td>\n",
       "      <td>16527.959222</td>\n",
       "      <td>1465.142403</td>\n",
       "      <td>1515.911143</td>\n",
       "      <td>16787.558879</td>\n",
       "      <td>-72.405282</td>\n",
       "      <td>-229.625439</td>\n",
       "      <td>-210.223591</td>\n",
       "      <td>-397.006221</td>\n",
       "      <td>...</td>\n",
       "      <td>-20.314737</td>\n",
       "      <td>162.705626</td>\n",
       "      <td>166.679889</td>\n",
       "      <td>252.322322</td>\n",
       "      <td>9.010208</td>\n",
       "      <td>1.129919</td>\n",
       "      <td>2.885705</td>\n",
       "      <td>7.453720</td>\n",
       "      <td>10.67770</td>\n",
       "      <td>12.001967</td>\n",
       "    </tr>\n",
       "    <tr>\n",
       "      <th>W10004_1140/PHP02</th>\n",
       "      <td>3506.258688</td>\n",
       "      <td>9164.939005</td>\n",
       "      <td>12496.252357</td>\n",
       "      <td>1120.508986</td>\n",
       "      <td>1148.545094</td>\n",
       "      <td>12672.272342</td>\n",
       "      <td>-507.134788</td>\n",
       "      <td>-195.481007</td>\n",
       "      <td>-94.174181</td>\n",
       "      <td>-233.091339</td>\n",
       "      <td>...</td>\n",
       "      <td>-201.846281</td>\n",
       "      <td>-88.584807</td>\n",
       "      <td>-126.968438</td>\n",
       "      <td>97.170812</td>\n",
       "      <td>9.010208</td>\n",
       "      <td>1.129919</td>\n",
       "      <td>2.885705</td>\n",
       "      <td>7.453720</td>\n",
       "      <td>10.67770</td>\n",
       "      <td>12.001967</td>\n",
       "    </tr>\n",
       "    <tr>\n",
       "      <th>W10004_1143/PHP02</th>\n",
       "      <td>3709.267697</td>\n",
       "      <td>8855.131751</td>\n",
       "      <td>12128.246864</td>\n",
       "      <td>1174.576683</td>\n",
       "      <td>1147.953899</td>\n",
       "      <td>12329.087544</td>\n",
       "      <td>479.047062</td>\n",
       "      <td>-206.822794</td>\n",
       "      <td>174.587045</td>\n",
       "      <td>120.513657</td>\n",
       "      <td>...</td>\n",
       "      <td>104.983134</td>\n",
       "      <td>87.709470</td>\n",
       "      <td>136.145652</td>\n",
       "      <td>-188.698161</td>\n",
       "      <td>9.010208</td>\n",
       "      <td>1.129919</td>\n",
       "      <td>2.885705</td>\n",
       "      <td>7.453720</td>\n",
       "      <td>10.67770</td>\n",
       "      <td>12.001967</td>\n",
       "    </tr>\n",
       "    <tr>\n",
       "      <th>W10004_1146/PHP02</th>\n",
       "      <td>3600.997037</td>\n",
       "      <td>9448.454265</td>\n",
       "      <td>13008.477725</td>\n",
       "      <td>1151.501121</td>\n",
       "      <td>1188.028106</td>\n",
       "      <td>13142.737962</td>\n",
       "      <td>-404.921562</td>\n",
       "      <td>-217.398508</td>\n",
       "      <td>-148.085786</td>\n",
       "      <td>-269.070637</td>\n",
       "      <td>...</td>\n",
       "      <td>160.296514</td>\n",
       "      <td>-183.964563</td>\n",
       "      <td>-95.132800</td>\n",
       "      <td>63.370268</td>\n",
       "      <td>9.010208</td>\n",
       "      <td>1.129919</td>\n",
       "      <td>2.885705</td>\n",
       "      <td>7.453720</td>\n",
       "      <td>10.67770</td>\n",
       "      <td>12.001967</td>\n",
       "    </tr>\n",
       "    <tr>\n",
       "      <th>W10004_1156/PHP02</th>\n",
       "      <td>3794.735789</td>\n",
       "      <td>9517.072792</td>\n",
       "      <td>12932.436781</td>\n",
       "      <td>1208.340342</td>\n",
       "      <td>1207.376630</td>\n",
       "      <td>13154.038560</td>\n",
       "      <td>-381.504936</td>\n",
       "      <td>-187.131855</td>\n",
       "      <td>-71.067194</td>\n",
       "      <td>-201.716201</td>\n",
       "      <td>...</td>\n",
       "      <td>-60.827262</td>\n",
       "      <td>19.092241</td>\n",
       "      <td>155.622593</td>\n",
       "      <td>198.076912</td>\n",
       "      <td>9.010208</td>\n",
       "      <td>1.129919</td>\n",
       "      <td>2.885705</td>\n",
       "      <td>7.453720</td>\n",
       "      <td>10.67770</td>\n",
       "      <td>12.001967</td>\n",
       "    </tr>\n",
       "  </tbody>\n",
       "</table>\n",
       "<p>11277 rows × 106 columns</p>\n",
       "</div>"
      ],
      "text/plain": [
       "                               kron_svd0     kron_svd1     kron_svd2  \\\n",
       "Env       Hybrid                                                       \n",
       "DEH1_2020 B14A/H95            248.428264    149.167739     79.799394   \n",
       "          B14A/MO17           638.149632    584.405947    216.185018   \n",
       "          B14A/OH43           567.602872    383.618623    186.930410   \n",
       "          B37/H95             719.284799    476.099962    363.415321   \n",
       "          B37/MO17            894.008467    885.796111    562.104276   \n",
       "...                                  ...           ...           ...   \n",
       "WIH3_2020 W10004_1123/PHP02  4584.873861  12182.369842  16527.959222   \n",
       "          W10004_1140/PHP02  3506.258688   9164.939005  12496.252357   \n",
       "          W10004_1143/PHP02  3709.267697   8855.131751  12128.246864   \n",
       "          W10004_1146/PHP02  3600.997037   9448.454265  13008.477725   \n",
       "          W10004_1156/PHP02  3794.735789   9517.072792  12932.436781   \n",
       "\n",
       "                               kron_svd3    kron_svd4     kron_svd5  \\\n",
       "Env       Hybrid                                                      \n",
       "DEH1_2020 B14A/H95            -56.389536     3.594933      6.172149   \n",
       "          B14A/MO17          -131.496066     9.219688     16.920591   \n",
       "          B14A/OH43          -124.597997     7.300475      9.285236   \n",
       "          B37/H95            -165.607471    11.818149     22.535203   \n",
       "          B37/MO17           -176.724837    13.141619     21.942044   \n",
       "...                                  ...          ...           ...   \n",
       "WIH3_2020 W10004_1123/PHP02  1465.142403  1515.911143  16787.558879   \n",
       "          W10004_1140/PHP02  1120.508986  1148.545094  12672.272342   \n",
       "          W10004_1143/PHP02  1174.576683  1147.953899  12329.087544   \n",
       "          W10004_1146/PHP02  1151.501121  1188.028106  13142.737962   \n",
       "          W10004_1156/PHP02  1208.340342  1207.376630  13154.038560   \n",
       "\n",
       "                               kron_svd6   kron_svd7    kron_svd8  \\\n",
       "Env       Hybrid                                                    \n",
       "DEH1_2020 B14A/H95           1069.873203   47.179482    58.400633   \n",
       "          B14A/MO17          3652.182661  174.967552    53.726021   \n",
       "          B14A/OH43          1745.796884  126.204907     7.715540   \n",
       "          B37/H95            3280.430526  -89.958126  1374.731687   \n",
       "          B37/MO17           4588.510080   96.372239   711.477869   \n",
       "...                                  ...         ...          ...   \n",
       "WIH3_2020 W10004_1123/PHP02   -72.405282 -229.625439  -210.223591   \n",
       "          W10004_1140/PHP02  -507.134788 -195.481007   -94.174181   \n",
       "          W10004_1143/PHP02   479.047062 -206.822794   174.587045   \n",
       "          W10004_1146/PHP02  -404.921562 -217.398508  -148.085786   \n",
       "          W10004_1156/PHP02  -381.504936 -187.131855   -71.067194   \n",
       "\n",
       "                               kron_svd9  ...  kron_svd96  kron_svd97  \\\n",
       "Env       Hybrid                          ...                           \n",
       "DEH1_2020 B14A/H95            132.148025  ...  -50.847670   23.826594   \n",
       "          B14A/MO17           277.684811  ...  290.686345   98.492887   \n",
       "          B14A/OH43           142.361136  ...   64.499716  133.131111   \n",
       "          B37/H95            1612.072416  ...  -54.895246   69.231868   \n",
       "          B37/MO17            981.860810  ... -286.172022  181.650400   \n",
       "...                                  ...  ...         ...         ...   \n",
       "WIH3_2020 W10004_1123/PHP02  -397.006221  ...  -20.314737  162.705626   \n",
       "          W10004_1140/PHP02  -233.091339  ... -201.846281  -88.584807   \n",
       "          W10004_1143/PHP02   120.513657  ...  104.983134   87.709470   \n",
       "          W10004_1146/PHP02  -269.070637  ...  160.296514 -183.964563   \n",
       "          W10004_1156/PHP02  -201.716201  ...  -60.827262   19.092241   \n",
       "\n",
       "                             kron_svd98  kron_svd99  mean_yield_lag_2  \\\n",
       "Env       Hybrid                                                        \n",
       "DEH1_2020 B14A/H95            -0.407108 -199.852156         10.056423   \n",
       "          B14A/MO17          124.281667  -34.938361         10.056423   \n",
       "          B14A/OH43          129.009701 -335.662849         10.056423   \n",
       "          B37/H95           -209.408252 -208.291741         10.056423   \n",
       "          B37/MO17            73.558845 -198.181956         10.056423   \n",
       "...                                 ...         ...               ...   \n",
       "WIH3_2020 W10004_1123/PHP02  166.679889  252.322322          9.010208   \n",
       "          W10004_1140/PHP02 -126.968438   97.170812          9.010208   \n",
       "          W10004_1143/PHP02  136.145652 -188.698161          9.010208   \n",
       "          W10004_1146/PHP02  -95.132800   63.370268          9.010208   \n",
       "          W10004_1156/PHP02  155.622593  198.076912          9.010208   \n",
       "\n",
       "                             min_yield_lag_2  p1_yield_lag_2  q1_yield_lag_2  \\\n",
       "Env       Hybrid                                                               \n",
       "DEH1_2020 B14A/H95                  0.725594        2.516387        8.232294   \n",
       "          B14A/MO17                 0.725594        2.516387        8.232294   \n",
       "          B14A/OH43                 0.725594        2.516387        8.232294   \n",
       "          B37/H95                   0.725594        2.516387        8.232294   \n",
       "          B37/MO17                  0.725594        2.516387        8.232294   \n",
       "...                                      ...             ...             ...   \n",
       "WIH3_2020 W10004_1123/PHP02         1.129919        2.885705        7.453720   \n",
       "          W10004_1140/PHP02         1.129919        2.885705        7.453720   \n",
       "          W10004_1143/PHP02         1.129919        2.885705        7.453720   \n",
       "          W10004_1146/PHP02         1.129919        2.885705        7.453720   \n",
       "          W10004_1156/PHP02         1.129919        2.885705        7.453720   \n",
       "\n",
       "                             q3_yield_lag_2  p90_yield_lag_2  \n",
       "Env       Hybrid                                              \n",
       "DEH1_2020 B14A/H95                 11.94657        13.500556  \n",
       "          B14A/MO17                11.94657        13.500556  \n",
       "          B14A/OH43                11.94657        13.500556  \n",
       "          B37/H95                  11.94657        13.500556  \n",
       "          B37/MO17                 11.94657        13.500556  \n",
       "...                                     ...              ...  \n",
       "WIH3_2020 W10004_1123/PHP02        10.67770        12.001967  \n",
       "          W10004_1140/PHP02        10.67770        12.001967  \n",
       "          W10004_1143/PHP02        10.67770        12.001967  \n",
       "          W10004_1146/PHP02        10.67770        12.001967  \n",
       "          W10004_1156/PHP02        10.67770        12.001967  \n",
       "\n",
       "[11277 rows x 106 columns]"
      ]
     },
     "execution_count": 12,
     "metadata": {},
     "output_type": "execute_result"
    }
   ],
   "source": [
    "xtrain_svd"
   ]
  },
  {
   "cell_type": "code",
   "execution_count": 13,
   "id": "ab9ca86b",
   "metadata": {},
   "outputs": [],
   "source": [
    "import optuna"
   ]
  },
  {
   "cell_type": "code",
   "execution_count": 14,
   "id": "fb977fdb",
   "metadata": {},
   "outputs": [
    {
     "name": "stderr",
     "output_type": "stream",
     "text": [
      "\u001b[32m[I 2023-02-01 15:43:27,896]\u001b[0m A new study created in memory with name: no-name-e32300ce-7ca6-40ec-bf39-c99304aad4e3\u001b[0m\n"
     ]
    },
    {
     "name": "stdout",
     "output_type": "stream",
     "text": [
      "[LightGBM] [Warning] lambda_l1 is set=0.0024430162614261413, reg_alpha=0.0 will be ignored. Current value: lambda_l1=0.0024430162614261413\n",
      "[LightGBM] [Warning] bagging_fraction is set=0.839196365086843, subsample=1.0 will be ignored. Current value: bagging_fraction=0.839196365086843\n",
      "[LightGBM] [Warning] feature_fraction is set=0.3745401188473625, colsample_bytree=1.0 will be ignored. Current value: feature_fraction=0.3745401188473625\n",
      "[LightGBM] [Warning] lambda_l2 is set=2.5361081166471375e-07, reg_lambda=0.0 will be ignored. Current value: lambda_l2=2.5361081166471375e-07\n"
     ]
    },
    {
     "name": "stderr",
     "output_type": "stream",
     "text": [
      "\u001b[32m[I 2023-02-01 15:43:28,308]\u001b[0m Trial 0 finished with value: 2.312053627107654 and parameters: {'feature_fraction': 0.3745401188473625, 'num_leaves': 244, 'bagging_fraction': 0.839196365086843, 'lambda_l1': 0.0024430162614261413, 'lambda_l2': 2.5361081166471375e-07, 'n_estimators': 55, 'max_depth': 2}. Best is trial 0 with value: 2.312053627107654.\u001b[0m\n"
     ]
    },
    {
     "name": "stdout",
     "output_type": "stream",
     "text": [
      "[LightGBM] [Warning] lambda_l1 is set=1.5320059381854043e-08, reg_alpha=0.0 will be ignored. Current value: lambda_l1=1.5320059381854043e-08\n",
      "[LightGBM] [Warning] bagging_fraction is set=0.8248435466776274, subsample=1.0 will be ignored. Current value: bagging_fraction=0.8248435466776274\n",
      "[LightGBM] [Warning] feature_fraction is set=0.8661761457749352, colsample_bytree=1.0 will be ignored. Current value: feature_fraction=0.8661761457749352\n",
      "[LightGBM] [Warning] lambda_l2 is set=5.360294728728285, reg_lambda=0.0 will be ignored. Current value: lambda_l2=5.360294728728285\n"
     ]
    },
    {
     "name": "stderr",
     "output_type": "stream",
     "text": [
      "\u001b[32m[I 2023-02-01 15:43:29,631]\u001b[0m Trial 1 finished with value: 2.2400657735450116 and parameters: {'feature_fraction': 0.8661761457749352, 'num_leaves': 155, 'bagging_fraction': 0.8248435466776274, 'lambda_l1': 1.5320059381854043e-08, 'lambda_l2': 5.360294728728285, 'n_estimators': 252, 'max_depth': 3}. Best is trial 1 with value: 2.2400657735450116.\u001b[0m\n"
     ]
    },
    {
     "name": "stdout",
     "output_type": "stream",
     "text": [
      "[LightGBM] [Warning] lambda_l1 is set=0.00052821153945323, reg_alpha=0.0 will be ignored. Current value: lambda_l1=0.00052821153945323\n",
      "[LightGBM] [Warning] bagging_fraction is set=0.5825453457757226, subsample=1.0 will be ignored. Current value: bagging_fraction=0.5825453457757226\n",
      "[LightGBM] [Warning] feature_fraction is set=0.18182496720710062, colsample_bytree=1.0 will be ignored. Current value: feature_fraction=0.18182496720710062\n",
      "[LightGBM] [Warning] lambda_l2 is set=7.71800699380605e-05, reg_lambda=0.0 will be ignored. Current value: lambda_l2=7.71800699380605e-05\n"
     ]
    },
    {
     "name": "stderr",
     "output_type": "stream",
     "text": [
      "\u001b[32m[I 2023-02-01 15:43:30,166]\u001b[0m Trial 2 finished with value: 2.234980163433654 and parameters: {'feature_fraction': 0.18182496720710062, 'num_leaves': 48, 'bagging_fraction': 0.5825453457757226, 'lambda_l1': 0.00052821153945323, 'lambda_l2': 7.71800699380605e-05, 'n_estimators': 94, 'max_depth': 5}. Best is trial 2 with value: 2.234980163433654.\u001b[0m\n"
     ]
    },
    {
     "name": "stdout",
     "output_type": "stream",
     "text": [
      "[LightGBM] [Warning] lambda_l1 is set=0.00012724181576752517, reg_alpha=0.0 will be ignored. Current value: lambda_l1=0.00012724181576752517\n",
      "[LightGBM] [Warning] bagging_fraction is set=0.619817105976215, subsample=1.0 will be ignored. Current value: bagging_fraction=0.619817105976215\n",
      "[LightGBM] [Warning] feature_fraction is set=0.13949386065204183, colsample_bytree=1.0 will be ignored. Current value: feature_fraction=0.13949386065204183\n",
      "[LightGBM] [Warning] lambda_l2 is set=0.1165691561324743, reg_lambda=0.0 will be ignored. Current value: lambda_l2=0.1165691561324743\n"
     ]
    },
    {
     "name": "stderr",
     "output_type": "stream",
     "text": [
      "\u001b[32m[I 2023-02-01 15:43:30,546]\u001b[0m Trial 3 finished with value: 2.251969093898755 and parameters: {'feature_fraction': 0.13949386065204183, 'num_leaves': 76, 'bagging_fraction': 0.619817105976215, 'lambda_l1': 0.00012724181576752517, 'lambda_l2': 0.1165691561324743, 'n_estimators': 68, 'max_depth': 4}. Best is trial 2 with value: 2.234980163433654.\u001b[0m\n"
     ]
    },
    {
     "name": "stdout",
     "output_type": "stream",
     "text": [
      "[LightGBM] [Warning] lambda_l1 is set=3.425445902633376e-07, reg_alpha=0.0 will be ignored. Current value: lambda_l1=3.425445902633376e-07\n",
      "[LightGBM] [Warning] bagging_fraction is set=0.764526911140863, subsample=1.0 will be ignored. Current value: bagging_fraction=0.764526911140863\n",
      "[LightGBM] [Warning] feature_fraction is set=0.5924145688620425, colsample_bytree=1.0 will be ignored. Current value: feature_fraction=0.5924145688620425\n",
      "[LightGBM] [Warning] lambda_l2 is set=3.850031979199519e-08, reg_lambda=0.0 will be ignored. Current value: lambda_l2=3.850031979199519e-08\n"
     ]
    },
    {
     "name": "stderr",
     "output_type": "stream",
     "text": [
      "\u001b[32m[I 2023-02-01 15:43:32,226]\u001b[0m Trial 4 finished with value: 2.2448164573095872 and parameters: {'feature_fraction': 0.5924145688620425, 'num_leaves': 13, 'bagging_fraction': 0.764526911140863, 'lambda_l1': 3.425445902633376e-07, 'lambda_l2': 3.850031979199519e-08, 'n_estimators': 286, 'max_depth': 6}. Best is trial 2 with value: 2.234980163433654.\u001b[0m\n"
     ]
    },
    {
     "name": "stdout",
     "output_type": "stream",
     "text": [
      "[LightGBM] [Warning] lambda_l1 is set=0.014391207615728067, reg_alpha=0.0 will be ignored. Current value: lambda_l1=0.014391207615728067\n",
      "[LightGBM] [Warning] bagging_fraction is set=0.45860326840383037, subsample=1.0 will be ignored. Current value: bagging_fraction=0.45860326840383037\n",
      "[LightGBM] [Warning] feature_fraction is set=0.8083973481164611, colsample_bytree=1.0 will be ignored. Current value: feature_fraction=0.8083973481164611\n",
      "[LightGBM] [Warning] lambda_l2 is set=9.148975058772307e-05, reg_lambda=0.0 will be ignored. Current value: lambda_l2=9.148975058772307e-05\n"
     ]
    },
    {
     "name": "stderr",
     "output_type": "stream",
     "text": [
      "\u001b[32m[I 2023-02-01 15:43:32,772]\u001b[0m Trial 5 finished with value: 2.2483254922982474 and parameters: {'feature_fraction': 0.8083973481164611, 'num_leaves': 79, 'bagging_fraction': 0.45860326840383037, 'lambda_l1': 0.014391207615728067, 'lambda_l2': 9.148975058772307e-05, 'n_estimators': 45, 'max_depth': 4}. Best is trial 2 with value: 2.234980163433654.\u001b[0m\n"
     ]
    },
    {
     "name": "stdout",
     "output_type": "stream",
     "text": [
      "[LightGBM] [Warning] lambda_l1 is set=0.009176996354542699, reg_alpha=0.0 will be ignored. Current value: lambda_l1=0.009176996354542699\n",
      "[LightGBM] [Warning] bagging_fraction is set=0.5552679889600102, subsample=1.0 will be ignored. Current value: bagging_fraction=0.5552679889600102\n",
      "[LightGBM] [Warning] feature_fraction is set=0.034388521115218396, colsample_bytree=1.0 will be ignored. Current value: feature_fraction=0.034388521115218396\n",
      "[LightGBM] [Warning] lambda_l2 is set=6.388511557344611e-06, reg_lambda=0.0 will be ignored. Current value: lambda_l2=6.388511557344611e-06\n"
     ]
    },
    {
     "name": "stderr",
     "output_type": "stream",
     "text": [
      "\u001b[32m[I 2023-02-01 15:43:33,221]\u001b[0m Trial 6 finished with value: 2.2312042136747205 and parameters: {'feature_fraction': 0.034388521115218396, 'num_leaves': 233, 'bagging_fraction': 0.5552679889600102, 'lambda_l1': 0.009176996354542699, 'lambda_l2': 6.388511557344611e-06, 'n_estimators': 161, 'max_depth': 4}. Best is trial 6 with value: 2.2312042136747205.\u001b[0m\n"
     ]
    },
    {
     "name": "stdout",
     "output_type": "stream",
     "text": [
      "[LightGBM] [Warning] lambda_l1 is set=2.854239907497756, reg_alpha=0.0 will be ignored. Current value: lambda_l1=2.854239907497756\n",
      "[LightGBM] [Warning] bagging_fraction is set=0.8650796940166687, subsample=1.0 will be ignored. Current value: bagging_fraction=0.8650796940166687\n",
      "[LightGBM] [Warning] feature_fraction is set=0.18485445552552704, colsample_bytree=1.0 will be ignored. Current value: feature_fraction=0.18485445552552704\n",
      "[LightGBM] [Warning] lambda_l2 is set=1.1309571585271483, reg_lambda=0.0 will be ignored. Current value: lambda_l2=1.1309571585271483\n"
     ]
    },
    {
     "name": "stderr",
     "output_type": "stream",
     "text": [
      "\u001b[32m[I 2023-02-01 15:43:34,260]\u001b[0m Trial 7 finished with value: 2.2506978971906366 and parameters: {'feature_fraction': 0.18485445552552704, 'num_leaves': 249, 'bagging_fraction': 0.8650796940166687, 'lambda_l1': 2.854239907497756, 'lambda_l2': 1.1309571585271483, 'n_estimators': 183, 'max_depth': 6}. Best is trial 6 with value: 2.2312042136747205.\u001b[0m\n"
     ]
    },
    {
     "name": "stdout",
     "output_type": "stream",
     "text": [
      "[LightGBM] [Warning] lambda_l1 is set=8.471746987003668e-06, reg_alpha=0.0 will be ignored. Current value: lambda_l1=8.471746987003668e-06\n",
      "[LightGBM] [Warning] bagging_fraction is set=0.4271363733463229, subsample=1.0 will be ignored. Current value: bagging_fraction=0.4271363733463229\n",
      "[LightGBM] [Warning] feature_fraction is set=0.0884925020519195, colsample_bytree=1.0 will be ignored. Current value: feature_fraction=0.0884925020519195\n",
      "[LightGBM] [Warning] lambda_l2 is set=3.148441347423712e-05, reg_lambda=0.0 will be ignored. Current value: lambda_l2=3.148441347423712e-05\n"
     ]
    },
    {
     "name": "stderr",
     "output_type": "stream",
     "text": [
      "\u001b[32m[I 2023-02-01 15:43:34,759]\u001b[0m Trial 8 finished with value: 2.2619259601073787 and parameters: {'feature_fraction': 0.0884925020519195, 'num_leaves': 51, 'bagging_fraction': 0.4271363733463229, 'lambda_l1': 8.471746987003668e-06, 'lambda_l2': 3.148441347423712e-05, 'n_estimators': 88, 'max_depth': 6}. Best is trial 6 with value: 2.2312042136747205.\u001b[0m\n"
     ]
    },
    {
     "name": "stdout",
     "output_type": "stream",
     "text": [
      "[LightGBM] [Warning] lambda_l1 is set=1.8548894229694903e-07, reg_alpha=0.0 will be ignored. Current value: lambda_l1=1.8548894229694903e-07\n",
      "[LightGBM] [Warning] bagging_fraction is set=0.7256176498949491, subsample=1.0 will be ignored. Current value: bagging_fraction=0.7256176498949491\n",
      "[LightGBM] [Warning] feature_fraction is set=0.3567533266935893, colsample_bytree=1.0 will be ignored. Current value: feature_fraction=0.3567533266935893\n",
      "[LightGBM] [Warning] lambda_l2 is set=0.16587190283399655, reg_lambda=0.0 will be ignored. Current value: lambda_l2=0.16587190283399655\n"
     ]
    },
    {
     "name": "stderr",
     "output_type": "stream",
     "text": [
      "\u001b[32m[I 2023-02-01 15:43:35,259]\u001b[0m Trial 9 finished with value: 2.296328537219854 and parameters: {'feature_fraction': 0.3567533266935893, 'num_leaves': 73, 'bagging_fraction': 0.7256176498949491, 'lambda_l1': 1.8548894229694903e-07, 'lambda_l2': 0.16587190283399655, 'n_estimators': 31, 'max_depth': 6}. Best is trial 6 with value: 2.2312042136747205.\u001b[0m\n"
     ]
    },
    {
     "name": "stdout",
     "output_type": "stream",
     "text": [
      "[LightGBM] [Warning] lambda_l1 is set=0.19237494135966834, reg_alpha=0.0 will be ignored. Current value: lambda_l1=0.19237494135966834\n",
      "[LightGBM] [Warning] bagging_fraction is set=0.9817222664727197, subsample=1.0 will be ignored. Current value: bagging_fraction=0.9817222664727197\n",
      "[LightGBM] [Warning] feature_fraction is set=0.02051392850324301, colsample_bytree=1.0 will be ignored. Current value: feature_fraction=0.02051392850324301\n",
      "[LightGBM] [Warning] lambda_l2 is set=6.739006603244534e-07, reg_lambda=0.0 will be ignored. Current value: lambda_l2=6.739006603244534e-07\n"
     ]
    },
    {
     "name": "stderr",
     "output_type": "stream",
     "text": [
      "\u001b[32m[I 2023-02-01 15:43:35,684]\u001b[0m Trial 10 finished with value: 2.2855148511454986 and parameters: {'feature_fraction': 0.02051392850324301, 'num_leaves': 182, 'bagging_fraction': 0.9817222664727197, 'lambda_l1': 0.19237494135966834, 'lambda_l2': 6.739006603244534e-07, 'n_estimators': 167, 'max_depth': 3}. Best is trial 6 with value: 2.2312042136747205.\u001b[0m\n"
     ]
    },
    {
     "name": "stdout",
     "output_type": "stream",
     "text": [
      "[LightGBM] [Warning] lambda_l1 is set=0.0001775837876601946, reg_alpha=0.0 will be ignored. Current value: lambda_l1=0.0001775837876601946\n",
      "[LightGBM] [Warning] bagging_fraction is set=0.590940097979374, subsample=1.0 will be ignored. Current value: bagging_fraction=0.590940097979374\n",
      "[LightGBM] [Warning] feature_fraction is set=0.012038945108446442, colsample_bytree=1.0 will be ignored. Current value: feature_fraction=0.012038945108446442\n",
      "[LightGBM] [Warning] lambda_l2 is set=0.002441003375923454, reg_lambda=0.0 will be ignored. Current value: lambda_l2=0.002441003375923454\n"
     ]
    },
    {
     "name": "stderr",
     "output_type": "stream",
     "text": [
      "\u001b[32m[I 2023-02-01 15:43:36,115]\u001b[0m Trial 11 finished with value: 2.384480063095552 and parameters: {'feature_fraction': 0.012038945108446442, 'num_leaves': 191, 'bagging_fraction': 0.590940097979374, 'lambda_l1': 0.0001775837876601946, 'lambda_l2': 0.002441003375923454, 'n_estimators': 119, 'max_depth': 5}. Best is trial 6 with value: 2.2312042136747205.\u001b[0m\n"
     ]
    },
    {
     "name": "stdout",
     "output_type": "stream",
     "text": [
      "[LightGBM] [Warning] lambda_l1 is set=0.011384113693111311, reg_alpha=0.0 will be ignored. Current value: lambda_l1=0.011384113693111311\n",
      "[LightGBM] [Warning] bagging_fraction is set=0.5853183069331859, subsample=1.0 will be ignored. Current value: bagging_fraction=0.5853183069331859\n",
      "[LightGBM] [Warning] feature_fraction is set=0.24337902263420905, colsample_bytree=1.0 will be ignored. Current value: feature_fraction=0.24337902263420905\n",
      "[LightGBM] [Warning] lambda_l2 is set=4.7844631871840646e-06, reg_lambda=0.0 will be ignored. Current value: lambda_l2=4.7844631871840646e-06\n"
     ]
    },
    {
     "name": "stderr",
     "output_type": "stream",
     "text": [
      "\u001b[32m[I 2023-02-01 15:43:37,084]\u001b[0m Trial 12 finished with value: 2.205852110458948 and parameters: {'feature_fraction': 0.24337902263420905, 'num_leaves': 128, 'bagging_fraction': 0.5853183069331859, 'lambda_l1': 0.011384113693111311, 'lambda_l2': 4.7844631871840646e-06, 'n_estimators': 198, 'max_depth': 5}. Best is trial 12 with value: 2.205852110458948.\u001b[0m\n"
     ]
    },
    {
     "name": "stdout",
     "output_type": "stream",
     "text": [
      "[LightGBM] [Warning] lambda_l1 is set=0.05802878748880696, reg_alpha=0.0 will be ignored. Current value: lambda_l1=0.05802878748880696\n",
      "[LightGBM] [Warning] bagging_fraction is set=0.5057379395903193, subsample=1.0 will be ignored. Current value: bagging_fraction=0.5057379395903193\n",
      "[LightGBM] [Warning] feature_fraction is set=0.2906046747005957, colsample_bytree=1.0 will be ignored. Current value: feature_fraction=0.2906046747005957\n",
      "[LightGBM] [Warning] lambda_l2 is set=3.817371339337113e-06, reg_lambda=0.0 will be ignored. Current value: lambda_l2=3.817371339337113e-06\n"
     ]
    },
    {
     "name": "stderr",
     "output_type": "stream",
     "text": [
      "\u001b[32m[I 2023-02-01 15:43:38,166]\u001b[0m Trial 13 finished with value: 2.1790036933846966 and parameters: {'feature_fraction': 0.2906046747005957, 'num_leaves': 123, 'bagging_fraction': 0.5057379395903193, 'lambda_l1': 0.05802878748880696, 'lambda_l2': 3.817371339337113e-06, 'n_estimators': 202, 'max_depth': 5}. Best is trial 13 with value: 2.1790036933846966.\u001b[0m\n"
     ]
    },
    {
     "name": "stdout",
     "output_type": "stream",
     "text": [
      "[LightGBM] [Warning] lambda_l1 is set=0.22103573192536188, reg_alpha=0.0 will be ignored. Current value: lambda_l1=0.22103573192536188\n",
      "[LightGBM] [Warning] bagging_fraction is set=0.5007799535158548, subsample=1.0 will be ignored. Current value: bagging_fraction=0.5007799535158548\n",
      "[LightGBM] [Warning] feature_fraction is set=0.2982895788017856, colsample_bytree=1.0 will be ignored. Current value: feature_fraction=0.2982895788017856\n",
      "[LightGBM] [Warning] lambda_l2 is set=2.4713782011860853e-06, reg_lambda=0.0 will be ignored. Current value: lambda_l2=2.4713782011860853e-06\n"
     ]
    },
    {
     "name": "stderr",
     "output_type": "stream",
     "text": [
      "\u001b[32m[I 2023-02-01 15:43:39,352]\u001b[0m Trial 14 finished with value: 2.1752111008315373 and parameters: {'feature_fraction': 0.2982895788017856, 'num_leaves': 122, 'bagging_fraction': 0.5007799535158548, 'lambda_l1': 0.22103573192536188, 'lambda_l2': 2.4713782011860853e-06, 'n_estimators': 218, 'max_depth': 5}. Best is trial 14 with value: 2.1752111008315373.\u001b[0m\n"
     ]
    },
    {
     "name": "stdout",
     "output_type": "stream",
     "text": [
      "[LightGBM] [Warning] lambda_l1 is set=8.20525711911934, reg_alpha=0.0 will be ignored. Current value: lambda_l1=8.20525711911934\n",
      "[LightGBM] [Warning] bagging_fraction is set=0.49025940150133107, subsample=1.0 will be ignored. Current value: bagging_fraction=0.49025940150133107\n",
      "[LightGBM] [Warning] feature_fraction is set=0.5125858318483725, colsample_bytree=1.0 will be ignored. Current value: feature_fraction=0.5125858318483725\n",
      "[LightGBM] [Warning] lambda_l2 is set=1.106407839959724e-08, reg_lambda=0.0 will be ignored. Current value: lambda_l2=1.106407839959724e-08\n"
     ]
    },
    {
     "name": "stderr",
     "output_type": "stream",
     "text": [
      "\u001b[32m[I 2023-02-01 15:43:41,184]\u001b[0m Trial 15 finished with value: 2.2512116729103924 and parameters: {'feature_fraction': 0.5125858318483725, 'num_leaves': 120, 'bagging_fraction': 0.49025940150133107, 'lambda_l1': 8.20525711911934, 'lambda_l2': 1.106407839959724e-08, 'n_estimators': 229, 'max_depth': 5}. Best is trial 14 with value: 2.1752111008315373.\u001b[0m\n"
     ]
    },
    {
     "name": "stdout",
     "output_type": "stream",
     "text": [
      "[LightGBM] [Warning] lambda_l1 is set=0.2283879320694494, reg_alpha=0.0 will be ignored. Current value: lambda_l1=0.2283879320694494\n",
      "[LightGBM] [Warning] bagging_fraction is set=0.5014620828272766, subsample=1.0 will be ignored. Current value: bagging_fraction=0.5014620828272766\n",
      "[LightGBM] [Warning] feature_fraction is set=0.3131688761183301, colsample_bytree=1.0 will be ignored. Current value: feature_fraction=0.3131688761183301\n",
      "[LightGBM] [Warning] lambda_l2 is set=0.0008336561698046581, reg_lambda=0.0 will be ignored. Current value: lambda_l2=0.0008336561698046581\n"
     ]
    },
    {
     "name": "stderr",
     "output_type": "stream",
     "text": [
      "\u001b[32m[I 2023-02-01 15:43:42,399]\u001b[0m Trial 16 finished with value: 2.2123718814277034 and parameters: {'feature_fraction': 0.3131688761183301, 'num_leaves': 103, 'bagging_fraction': 0.5014620828272766, 'lambda_l1': 0.2283879320694494, 'lambda_l2': 0.0008336561698046581, 'n_estimators': 224, 'max_depth': 5}. Best is trial 14 with value: 2.1752111008315373.\u001b[0m\n"
     ]
    },
    {
     "name": "stdout",
     "output_type": "stream",
     "text": [
      "[LightGBM] [Warning] lambda_l1 is set=0.27410262472733826, reg_alpha=0.0 will be ignored. Current value: lambda_l1=0.27410262472733826\n",
      "[LightGBM] [Warning] bagging_fraction is set=0.6516296683967093, subsample=1.0 will be ignored. Current value: bagging_fraction=0.6516296683967093\n",
      "[LightGBM] [Warning] feature_fraction is set=0.4400604138607652, colsample_bytree=1.0 will be ignored. Current value: feature_fraction=0.4400604138607652\n",
      "[LightGBM] [Warning] lambda_l2 is set=8.513482595785166e-07, reg_lambda=0.0 will be ignored. Current value: lambda_l2=8.513482595785166e-07\n"
     ]
    },
    {
     "name": "stderr",
     "output_type": "stream",
     "text": [
      "\u001b[32m[I 2023-02-01 15:43:43,422]\u001b[0m Trial 17 finished with value: 2.202122557264827 and parameters: {'feature_fraction': 0.4400604138607652, 'num_leaves': 167, 'bagging_fraction': 0.6516296683967093, 'lambda_l1': 0.27410262472733826, 'lambda_l2': 8.513482595785166e-07, 'n_estimators': 288, 'max_depth': 3}. Best is trial 14 with value: 2.1752111008315373.\u001b[0m\n"
     ]
    },
    {
     "name": "stdout",
     "output_type": "stream",
     "text": [
      "[LightGBM] [Warning] lambda_l1 is set=0.9771702525675117, reg_alpha=0.0 will be ignored. Current value: lambda_l1=0.9771702525675117\n",
      "[LightGBM] [Warning] bagging_fraction is set=0.4031664351817183, subsample=1.0 will be ignored. Current value: bagging_fraction=0.4031664351817183\n",
      "[LightGBM] [Warning] feature_fraction is set=0.26304355633915394, colsample_bytree=1.0 will be ignored. Current value: feature_fraction=0.26304355633915394\n",
      "[LightGBM] [Warning] lambda_l2 is set=6.254675419090565e-06, reg_lambda=0.0 will be ignored. Current value: lambda_l2=6.254675419090565e-06\n"
     ]
    },
    {
     "name": "stderr",
     "output_type": "stream",
     "text": [
      "\u001b[32m[I 2023-02-01 15:43:44,034]\u001b[0m Trial 18 finished with value: 2.2316285949083783 and parameters: {'feature_fraction': 0.26304355633915394, 'num_leaves': 205, 'bagging_fraction': 0.4031664351817183, 'lambda_l1': 0.9771702525675117, 'lambda_l2': 6.254675419090565e-06, 'n_estimators': 123, 'max_depth': 4}. Best is trial 14 with value: 2.1752111008315373.\u001b[0m\n"
     ]
    },
    {
     "name": "stdout",
     "output_type": "stream",
     "text": [
      "[LightGBM] [Warning] lambda_l1 is set=0.08388729678327497, reg_alpha=0.0 will be ignored. Current value: lambda_l1=0.08388729678327497\n",
      "[LightGBM] [Warning] bagging_fraction is set=0.5309097161823206, subsample=1.0 will be ignored. Current value: bagging_fraction=0.5309097161823206\n",
      "[LightGBM] [Warning] feature_fraction is set=0.5996408444196241, colsample_bytree=1.0 will be ignored. Current value: feature_fraction=0.5996408444196241\n",
      "[LightGBM] [Warning] lambda_l2 is set=9.675818032976536e-08, reg_lambda=0.0 will be ignored. Current value: lambda_l2=9.675818032976536e-08\n"
     ]
    },
    {
     "name": "stderr",
     "output_type": "stream",
     "text": [
      "\u001b[32m[I 2023-02-01 15:43:45,806]\u001b[0m Trial 19 finished with value: 2.2531837684211395 and parameters: {'feature_fraction': 0.5996408444196241, 'num_leaves': 151, 'bagging_fraction': 0.5309097161823206, 'lambda_l1': 0.08388729678327497, 'lambda_l2': 9.675818032976536e-08, 'n_estimators': 216, 'max_depth': 5}. Best is trial 14 with value: 2.1752111008315373.\u001b[0m\n"
     ]
    },
    {
     "name": "stdout",
     "output_type": "stream",
     "text": [
      "[LightGBM] [Warning] lambda_l1 is set=1.3110970299009215, reg_alpha=0.0 will be ignored. Current value: lambda_l1=1.3110970299009215\n",
      "[LightGBM] [Warning] bagging_fraction is set=0.5070144485386008, subsample=1.0 will be ignored. Current value: bagging_fraction=0.5070144485386008\n",
      "[LightGBM] [Warning] feature_fraction is set=0.2567069389694278, colsample_bytree=1.0 will be ignored. Current value: feature_fraction=0.2567069389694278\n",
      "[LightGBM] [Warning] lambda_l2 is set=1.378075110436795e-06, reg_lambda=0.0 will be ignored. Current value: lambda_l2=1.378075110436795e-06\n"
     ]
    },
    {
     "name": "stderr",
     "output_type": "stream",
     "text": [
      "\u001b[32m[I 2023-02-01 15:43:46,764]\u001b[0m Trial 20 finished with value: 2.218195658131233 and parameters: {'feature_fraction': 0.2567069389694278, 'num_leaves': 103, 'bagging_fraction': 0.5070144485386008, 'lambda_l1': 1.3110970299009215, 'lambda_l2': 1.378075110436795e-06, 'n_estimators': 262, 'max_depth': 4}. Best is trial 14 with value: 2.1752111008315373.\u001b[0m\n"
     ]
    },
    {
     "name": "stdout",
     "output_type": "stream",
     "text": [
      "[LightGBM] [Warning] lambda_l1 is set=0.08847234457165422, reg_alpha=0.0 will be ignored. Current value: lambda_l1=0.08847234457165422\n",
      "[LightGBM] [Warning] bagging_fraction is set=0.649949504745993, subsample=1.0 will be ignored. Current value: bagging_fraction=0.649949504745993\n",
      "[LightGBM] [Warning] feature_fraction is set=0.42857654162621833, colsample_bytree=1.0 will be ignored. Current value: feature_fraction=0.42857654162621833\n",
      "[LightGBM] [Warning] lambda_l2 is set=6.980902948832612e-07, reg_lambda=0.0 will be ignored. Current value: lambda_l2=6.980902948832612e-07\n"
     ]
    },
    {
     "name": "stderr",
     "output_type": "stream",
     "text": [
      "\u001b[32m[I 2023-02-01 15:43:47,781]\u001b[0m Trial 21 finished with value: 2.1964686486998115 and parameters: {'feature_fraction': 0.42857654162621833, 'num_leaves': 166, 'bagging_fraction': 0.649949504745993, 'lambda_l1': 0.08847234457165422, 'lambda_l2': 6.980902948832612e-07, 'n_estimators': 298, 'max_depth': 3}. Best is trial 14 with value: 2.1752111008315373.\u001b[0m\n"
     ]
    },
    {
     "name": "stdout",
     "output_type": "stream",
     "text": [
      "[LightGBM] [Warning] lambda_l1 is set=0.04484713438032796, reg_alpha=0.0 will be ignored. Current value: lambda_l1=0.04484713438032796\n",
      "[LightGBM] [Warning] bagging_fraction is set=0.6610626673089052, subsample=1.0 will be ignored. Current value: bagging_fraction=0.6610626673089052\n",
      "[LightGBM] [Warning] feature_fraction is set=0.4318577859996767, colsample_bytree=1.0 will be ignored. Current value: feature_fraction=0.4318577859996767\n",
      "[LightGBM] [Warning] lambda_l2 is set=8.430146188689356e-08, reg_lambda=0.0 will be ignored. Current value: lambda_l2=8.430146188689356e-08\n"
     ]
    },
    {
     "name": "stderr",
     "output_type": "stream",
     "text": [
      "\u001b[32m[I 2023-02-01 15:43:48,495]\u001b[0m Trial 22 finished with value: 2.219481296200286 and parameters: {'feature_fraction': 0.4318577859996767, 'num_leaves': 145, 'bagging_fraction': 0.6610626673089052, 'lambda_l1': 0.04484713438032796, 'lambda_l2': 8.430146188689356e-08, 'n_estimators': 257, 'max_depth': 2}. Best is trial 14 with value: 2.1752111008315373.\u001b[0m\n"
     ]
    },
    {
     "name": "stdout",
     "output_type": "stream",
     "text": [
      "[LightGBM] [Warning] lambda_l1 is set=9.487188521013676, reg_alpha=0.0 will be ignored. Current value: lambda_l1=9.487188521013676\n",
      "[LightGBM] [Warning] bagging_fraction is set=0.4562188435141983, subsample=1.0 will be ignored. Current value: bagging_fraction=0.4562188435141983\n",
      "[LightGBM] [Warning] feature_fraction is set=0.36097742761400625, colsample_bytree=1.0 will be ignored. Current value: feature_fraction=0.36097742761400625\n",
      "[LightGBM] [Warning] lambda_l2 is set=4.286462166759075e-07, reg_lambda=0.0 will be ignored. Current value: lambda_l2=4.286462166759075e-07\n"
     ]
    },
    {
     "name": "stderr",
     "output_type": "stream",
     "text": [
      "\u001b[32m[I 2023-02-01 15:43:49,075]\u001b[0m Trial 23 finished with value: 2.2200407848146724 and parameters: {'feature_fraction': 0.36097742761400625, 'num_leaves': 215, 'bagging_fraction': 0.4562188435141983, 'lambda_l1': 9.487188521013676, 'lambda_l2': 4.286462166759075e-07, 'n_estimators': 134, 'max_depth': 3}. Best is trial 14 with value: 2.1752111008315373.\u001b[0m\n"
     ]
    },
    {
     "name": "stdout",
     "output_type": "stream",
     "text": [
      "[LightGBM] [Warning] lambda_l1 is set=0.7818172154414398, reg_alpha=0.0 will be ignored. Current value: lambda_l1=0.7818172154414398\n",
      "[LightGBM] [Warning] bagging_fraction is set=0.5612753379703167, subsample=1.0 will be ignored. Current value: bagging_fraction=0.5612753379703167\n",
      "[LightGBM] [Warning] feature_fraction is set=0.28279212568172696, colsample_bytree=1.0 will be ignored. Current value: feature_fraction=0.28279212568172696\n",
      "[LightGBM] [Warning] lambda_l2 is set=1.7139845784367804e-05, reg_lambda=0.0 will be ignored. Current value: lambda_l2=1.7139845784367804e-05\n"
     ]
    },
    {
     "name": "stderr",
     "output_type": "stream",
     "text": [
      "\u001b[32m[I 2023-02-01 15:43:49,902]\u001b[0m Trial 24 finished with value: 2.199742208747141 and parameters: {'feature_fraction': 0.28279212568172696, 'num_leaves': 112, 'bagging_fraction': 0.5612753379703167, 'lambda_l1': 0.7818172154414398, 'lambda_l2': 1.7139845784367804e-05, 'n_estimators': 198, 'max_depth': 4}. Best is trial 14 with value: 2.1752111008315373.\u001b[0m\n"
     ]
    },
    {
     "name": "stdout",
     "output_type": "stream",
     "text": [
      "[LightGBM] [Warning] lambda_l1 is set=0.04200859570969317, reg_alpha=0.0 will be ignored. Current value: lambda_l1=0.04200859570969317\n",
      "[LightGBM] [Warning] bagging_fraction is set=0.5191572490783045, subsample=1.0 will be ignored. Current value: bagging_fraction=0.5191572490783045\n",
      "[LightGBM] [Warning] feature_fraction is set=0.5047142760952016, colsample_bytree=1.0 will be ignored. Current value: feature_fraction=0.5047142760952016\n",
      "[LightGBM] [Warning] lambda_l2 is set=3.0456799057403425e-06, reg_lambda=0.0 will be ignored. Current value: lambda_l2=3.0456799057403425e-06\n"
     ]
    },
    {
     "name": "stderr",
     "output_type": "stream",
     "text": [
      "\u001b[32m[I 2023-02-01 15:43:50,743]\u001b[0m Trial 25 finished with value: 2.220460418226086 and parameters: {'feature_fraction': 0.5047142760952016, 'num_leaves': 140, 'bagging_fraction': 0.5191572490783045, 'lambda_l1': 0.04200859570969317, 'lambda_l2': 3.0456799057403425e-06, 'n_estimators': 300, 'max_depth': 2}. Best is trial 14 with value: 2.1752111008315373.\u001b[0m\n"
     ]
    },
    {
     "name": "stdout",
     "output_type": "stream",
     "text": [
      "[LightGBM] [Warning] lambda_l1 is set=0.0030881952939905755, reg_alpha=0.0 will be ignored. Current value: lambda_l1=0.0030881952939905755\n",
      "[LightGBM] [Warning] bagging_fraction is set=0.45675718101073476, subsample=1.0 will be ignored. Current value: bagging_fraction=0.45675718101073476\n",
      "[LightGBM] [Warning] feature_fraction is set=0.18721036848716585, colsample_bytree=1.0 will be ignored. Current value: feature_fraction=0.18721036848716585\n",
      "[LightGBM] [Warning] lambda_l2 is set=1.9676523765986512e-07, reg_lambda=0.0 will be ignored. Current value: lambda_l2=1.9676523765986512e-07\n"
     ]
    },
    {
     "name": "stderr",
     "output_type": "stream",
     "text": [
      "\u001b[32m[I 2023-02-01 15:43:51,389]\u001b[0m Trial 26 finished with value: 2.220849225037716 and parameters: {'feature_fraction': 0.18721036848716585, 'num_leaves': 174, 'bagging_fraction': 0.45675718101073476, 'lambda_l1': 0.0030881952939905755, 'lambda_l2': 1.9676523765986512e-07, 'n_estimators': 245, 'max_depth': 3}. Best is trial 14 with value: 2.1752111008315373.\u001b[0m\n"
     ]
    },
    {
     "name": "stdout",
     "output_type": "stream",
     "text": [
      "[LightGBM] [Warning] lambda_l1 is set=0.3403589232848064, reg_alpha=0.0 will be ignored. Current value: lambda_l1=0.3403589232848064\n",
      "[LightGBM] [Warning] bagging_fraction is set=0.6425768918029743, subsample=1.0 will be ignored. Current value: bagging_fraction=0.6425768918029743\n",
      "[LightGBM] [Warning] feature_fraction is set=0.41046354913652605, colsample_bytree=1.0 will be ignored. Current value: feature_fraction=0.41046354913652605\n",
      "[LightGBM] [Warning] lambda_l2 is set=1.3994422540820528e-06, reg_lambda=0.0 will be ignored. Current value: lambda_l2=1.3994422540820528e-06\n"
     ]
    },
    {
     "name": "stderr",
     "output_type": "stream",
     "text": [
      "\u001b[32m[I 2023-02-01 15:43:52,715]\u001b[0m Trial 27 finished with value: 2.2532019854189036 and parameters: {'feature_fraction': 0.41046354913652605, 'num_leaves': 91, 'bagging_fraction': 0.6425768918029743, 'lambda_l1': 0.3403589232848064, 'lambda_l2': 1.3994422540820528e-06, 'n_estimators': 201, 'max_depth': 5}. Best is trial 14 with value: 2.1752111008315373.\u001b[0m\n"
     ]
    },
    {
     "name": "stdout",
     "output_type": "stream",
     "text": [
      "[LightGBM] [Warning] lambda_l1 is set=0.028638712715127235, reg_alpha=0.0 will be ignored. Current value: lambda_l1=0.028638712715127235\n",
      "[LightGBM] [Warning] bagging_fraction is set=0.6886784527195214, subsample=1.0 will be ignored. Current value: bagging_fraction=0.6886784527195214\n",
      "[LightGBM] [Warning] feature_fraction is set=0.3336701878087538, colsample_bytree=1.0 will be ignored. Current value: feature_fraction=0.3336701878087538\n",
      "[LightGBM] [Warning] lambda_l2 is set=2.412436560797139e-08, reg_lambda=0.0 will be ignored. Current value: lambda_l2=2.412436560797139e-08\n"
     ]
    },
    {
     "name": "stderr",
     "output_type": "stream",
     "text": [
      "\u001b[32m[I 2023-02-01 15:43:54,600]\u001b[0m Trial 28 finished with value: 2.270387602230864 and parameters: {'feature_fraction': 0.3336701878087538, 'num_leaves': 128, 'bagging_fraction': 0.6886784527195214, 'lambda_l1': 0.028638712715127235, 'lambda_l2': 2.412436560797139e-08, 'n_estimators': 274, 'max_depth': 6}. Best is trial 14 with value: 2.1752111008315373.\u001b[0m\n"
     ]
    },
    {
     "name": "stdout",
     "output_type": "stream",
     "text": [
      "[LightGBM] [Warning] lambda_l1 is set=0.0030636882704645515, reg_alpha=0.0 will be ignored. Current value: lambda_l1=0.0030636882704645515\n",
      "[LightGBM] [Warning] bagging_fraction is set=0.6135724796890734, subsample=1.0 will be ignored. Current value: bagging_fraction=0.6135724796890734\n",
      "[LightGBM] [Warning] feature_fraction is set=0.38992563832047555, colsample_bytree=1.0 will be ignored. Current value: feature_fraction=0.38992563832047555\n",
      "[LightGBM] [Warning] lambda_l2 is set=2.0278396720593865e-07, reg_lambda=0.0 will be ignored. Current value: lambda_l2=2.0278396720593865e-07\n"
     ]
    },
    {
     "name": "stderr",
     "output_type": "stream",
     "text": [
      "\u001b[32m[I 2023-02-01 15:43:55,253]\u001b[0m Trial 29 finished with value: 2.24010326466145 and parameters: {'feature_fraction': 0.38992563832047555, 'num_leaves': 198, 'bagging_fraction': 0.6135724796890734, 'lambda_l1': 0.0030636882704645515, 'lambda_l2': 2.0278396720593865e-07, 'n_estimators': 238, 'max_depth': 2}. Best is trial 14 with value: 2.1752111008315373.\u001b[0m\n"
     ]
    },
    {
     "name": "stdout",
     "output_type": "stream",
     "text": [
      "[LightGBM] [Warning] lambda_l1 is set=0.09450407986218534, reg_alpha=0.0 will be ignored. Current value: lambda_l1=0.09450407986218534\n",
      "[LightGBM] [Warning] bagging_fraction is set=0.541317007935256, subsample=1.0 will be ignored. Current value: bagging_fraction=0.541317007935256\n",
      "[LightGBM] [Warning] feature_fraction is set=0.3110461653323451, colsample_bytree=1.0 will be ignored. Current value: feature_fraction=0.3110461653323451\n",
      "[LightGBM] [Warning] lambda_l2 is set=1.3598552111536128e-07, reg_lambda=0.0 will be ignored. Current value: lambda_l2=1.3598552111536128e-07\n"
     ]
    },
    {
     "name": "stderr",
     "output_type": "stream",
     "text": [
      "\u001b[32m[I 2023-02-01 15:43:55,574]\u001b[0m Trial 30 finished with value: 2.383133402904085 and parameters: {'feature_fraction': 0.3110461653323451, 'num_leaves': 165, 'bagging_fraction': 0.541317007935256, 'lambda_l1': 0.09450407986218534, 'lambda_l2': 1.3598552111536128e-07, 'n_estimators': 10, 'max_depth': 4}. Best is trial 14 with value: 2.1752111008315373.\u001b[0m\n"
     ]
    },
    {
     "name": "stdout",
     "output_type": "stream",
     "text": [
      "[LightGBM] [Warning] lambda_l1 is set=0.9024731676446582, reg_alpha=0.0 will be ignored. Current value: lambda_l1=0.9024731676446582\n",
      "[LightGBM] [Warning] bagging_fraction is set=0.5684325701518731, subsample=1.0 will be ignored. Current value: bagging_fraction=0.5684325701518731\n",
      "[LightGBM] [Warning] feature_fraction is set=0.24753270879786254, colsample_bytree=1.0 will be ignored. Current value: feature_fraction=0.24753270879786254\n",
      "[LightGBM] [Warning] lambda_l2 is set=1.5401711426348656e-05, reg_lambda=0.0 will be ignored. Current value: lambda_l2=1.5401711426348656e-05\n"
     ]
    },
    {
     "name": "stderr",
     "output_type": "stream",
     "text": [
      "\u001b[32m[I 2023-02-01 15:43:56,323]\u001b[0m Trial 31 finished with value: 2.2081650910252395 and parameters: {'feature_fraction': 0.24753270879786254, 'num_leaves': 111, 'bagging_fraction': 0.5684325701518731, 'lambda_l1': 0.9024731676446582, 'lambda_l2': 1.5401711426348656e-05, 'n_estimators': 184, 'max_depth': 4}. Best is trial 14 with value: 2.1752111008315373.\u001b[0m\n"
     ]
    },
    {
     "name": "stdout",
     "output_type": "stream",
     "text": [
      "[LightGBM] [Warning] lambda_l1 is set=0.6549701489133618, reg_alpha=0.0 will be ignored. Current value: lambda_l1=0.6549701489133618\n",
      "[LightGBM] [Warning] bagging_fraction is set=0.5486715823634511, subsample=1.0 will be ignored. Current value: bagging_fraction=0.5486715823634511\n",
      "[LightGBM] [Warning] feature_fraction is set=0.29664869182024445, colsample_bytree=1.0 will be ignored. Current value: feature_fraction=0.29664869182024445\n",
      "[LightGBM] [Warning] lambda_l2 is set=1.6710740513445283e-05, reg_lambda=0.0 will be ignored. Current value: lambda_l2=1.6710740513445283e-05\n"
     ]
    },
    {
     "name": "stderr",
     "output_type": "stream",
     "text": [
      "\u001b[32m[I 2023-02-01 15:43:57,457]\u001b[0m Trial 32 finished with value: 2.201175192526501 and parameters: {'feature_fraction': 0.29664869182024445, 'num_leaves': 140, 'bagging_fraction': 0.5486715823634511, 'lambda_l1': 0.6549701489133618, 'lambda_l2': 1.6710740513445283e-05, 'n_estimators': 210, 'max_depth': 5}. Best is trial 14 with value: 2.1752111008315373.\u001b[0m\n"
     ]
    },
    {
     "name": "stdout",
     "output_type": "stream",
     "text": [
      "[LightGBM] [Warning] lambda_l1 is set=2.588343149511413, reg_alpha=0.0 will be ignored. Current value: lambda_l1=2.588343149511413\n",
      "[LightGBM] [Warning] bagging_fraction is set=0.6033342295313807, subsample=1.0 will be ignored. Current value: bagging_fraction=0.6033342295313807\n",
      "[LightGBM] [Warning] feature_fraction is set=0.1351828377613874, colsample_bytree=1.0 will be ignored. Current value: feature_fraction=0.1351828377613874\n",
      "[LightGBM] [Warning] lambda_l2 is set=7.764381962196771e-05, reg_lambda=0.0 will be ignored. Current value: lambda_l2=7.764381962196771e-05\n"
     ]
    },
    {
     "name": "stderr",
     "output_type": "stream",
     "text": [
      "\u001b[32m[I 2023-02-01 15:43:57,956]\u001b[0m Trial 33 finished with value: 2.2521257801503656 and parameters: {'feature_fraction': 0.1351828377613874, 'num_leaves': 115, 'bagging_fraction': 0.6033342295313807, 'lambda_l1': 2.588343149511413, 'lambda_l2': 7.764381962196771e-05, 'n_estimators': 143, 'max_depth': 3}. Best is trial 14 with value: 2.1752111008315373.\u001b[0m\n"
     ]
    },
    {
     "name": "stdout",
     "output_type": "stream",
     "text": [
      "[LightGBM] [Warning] lambda_l1 is set=0.13037057156871076, reg_alpha=0.0 will be ignored. Current value: lambda_l1=0.13037057156871076\n",
      "[LightGBM] [Warning] bagging_fraction is set=0.4918441925387113, subsample=1.0 will be ignored. Current value: bagging_fraction=0.4918441925387113\n",
      "[LightGBM] [Warning] feature_fraction is set=0.2124020064200628, colsample_bytree=1.0 will be ignored. Current value: feature_fraction=0.2124020064200628\n",
      "[LightGBM] [Warning] lambda_l2 is set=3.6270531396088828e-06, reg_lambda=0.0 will be ignored. Current value: lambda_l2=3.6270531396088828e-06\n"
     ]
    },
    {
     "name": "stderr",
     "output_type": "stream",
     "text": [
      "\u001b[32m[I 2023-02-01 15:43:58,692]\u001b[0m Trial 34 finished with value: 2.14710973821964 and parameters: {'feature_fraction': 0.2124020064200628, 'num_leaves': 95, 'bagging_fraction': 0.4918441925387113, 'lambda_l1': 0.13037057156871076, 'lambda_l2': 3.6270531396088828e-06, 'n_estimators': 195, 'max_depth': 4}. Best is trial 34 with value: 2.14710973821964.\u001b[0m\n"
     ]
    },
    {
     "name": "stdout",
     "output_type": "stream",
     "text": [
      "[LightGBM] [Warning] lambda_l1 is set=0.0011554464223796277, reg_alpha=0.0 will be ignored. Current value: lambda_l1=0.0011554464223796277\n",
      "[LightGBM] [Warning] bagging_fraction is set=0.478026222793996, subsample=1.0 will be ignored. Current value: bagging_fraction=0.478026222793996\n",
      "[LightGBM] [Warning] feature_fraction is set=0.18106576865727908, colsample_bytree=1.0 will be ignored. Current value: feature_fraction=0.18106576865727908\n",
      "[LightGBM] [Warning] lambda_l2 is set=1.1455194823113772e-06, reg_lambda=0.0 will be ignored. Current value: lambda_l2=1.1455194823113772e-06\n"
     ]
    },
    {
     "name": "stderr",
     "output_type": "stream",
     "text": [
      "\u001b[32m[I 2023-02-01 15:43:59,534]\u001b[0m Trial 35 finished with value: 2.2328687654739574 and parameters: {'feature_fraction': 0.18106576865727908, 'num_leaves': 57, 'bagging_fraction': 0.478026222793996, 'lambda_l1': 0.0011554464223796277, 'lambda_l2': 1.1455194823113772e-06, 'n_estimators': 178, 'max_depth': 5}. Best is trial 34 with value: 2.14710973821964.\u001b[0m\n"
     ]
    },
    {
     "name": "stdout",
     "output_type": "stream",
     "text": [
      "[LightGBM] [Warning] lambda_l1 is set=0.09222899201815812, reg_alpha=0.0 will be ignored. Current value: lambda_l1=0.09222899201815812\n",
      "[LightGBM] [Warning] bagging_fraction is set=0.4015772134456509, subsample=1.0 will be ignored. Current value: bagging_fraction=0.4015772134456509\n",
      "[LightGBM] [Warning] feature_fraction is set=0.22692393088499363, colsample_bytree=1.0 will be ignored. Current value: feature_fraction=0.22692393088499363\n",
      "[LightGBM] [Warning] lambda_l2 is set=4.6851331907646217e-07, reg_lambda=0.0 will be ignored. Current value: lambda_l2=4.6851331907646217e-07\n"
     ]
    },
    {
     "name": "stderr",
     "output_type": "stream",
     "text": [
      "\u001b[32m[I 2023-02-01 15:44:00,254]\u001b[0m Trial 36 finished with value: 2.2320808804268943 and parameters: {'feature_fraction': 0.22692393088499363, 'num_leaves': 92, 'bagging_fraction': 0.4015772134456509, 'lambda_l1': 0.09222899201815812, 'lambda_l2': 4.6851331907646217e-07, 'n_estimators': 265, 'max_depth': 3}. Best is trial 34 with value: 2.14710973821964.\u001b[0m\n"
     ]
    },
    {
     "name": "stdout",
     "output_type": "stream",
     "text": [
      "[LightGBM] [Warning] lambda_l1 is set=0.012002406390259589, reg_alpha=0.0 will be ignored. Current value: lambda_l1=0.012002406390259589\n",
      "[LightGBM] [Warning] bagging_fraction is set=0.50258294864195, subsample=1.0 will be ignored. Current value: bagging_fraction=0.50258294864195\n",
      "[LightGBM] [Warning] feature_fraction is set=0.13740059963707518, colsample_bytree=1.0 will be ignored. Current value: feature_fraction=0.13740059963707518\n",
      "[LightGBM] [Warning] lambda_l2 is set=3.466380872363163e-06, reg_lambda=0.0 will be ignored. Current value: lambda_l2=3.466380872363163e-06\n"
     ]
    },
    {
     "name": "stderr",
     "output_type": "stream",
     "text": [
      "\u001b[32m[I 2023-02-01 15:44:00,807]\u001b[0m Trial 37 finished with value: 2.2112303515980036 and parameters: {'feature_fraction': 0.13740059963707518, 'num_leaves': 156, 'bagging_fraction': 0.50258294864195, 'lambda_l1': 0.012002406390259589, 'lambda_l2': 3.466380872363163e-06, 'n_estimators': 147, 'max_depth': 4}. Best is trial 34 with value: 2.14710973821964.\u001b[0m\n"
     ]
    },
    {
     "name": "stdout",
     "output_type": "stream",
     "text": [
      "[LightGBM] [Warning] lambda_l1 is set=0.004760331049369721, reg_alpha=0.0 will be ignored. Current value: lambda_l1=0.004760331049369721\n",
      "[LightGBM] [Warning] bagging_fraction is set=0.47338925633325457, subsample=1.0 will be ignored. Current value: bagging_fraction=0.47338925633325457\n",
      "[LightGBM] [Warning] feature_fraction is set=0.33835805399319485, colsample_bytree=1.0 will be ignored. Current value: feature_fraction=0.33835805399319485\n",
      "[LightGBM] [Warning] lambda_l2 is set=0.0003228850490747899, reg_lambda=0.0 will be ignored. Current value: lambda_l2=0.0003228850490747899\n"
     ]
    },
    {
     "name": "stderr",
     "output_type": "stream",
     "text": [
      "\u001b[32m[I 2023-02-01 15:44:01,796]\u001b[0m Trial 38 finished with value: 2.202177299311561 and parameters: {'feature_fraction': 0.33835805399319485, 'num_leaves': 28, 'bagging_fraction': 0.47338925633325457, 'lambda_l1': 0.004760331049369721, 'lambda_l2': 0.0003228850490747899, 'n_estimators': 236, 'max_depth': 4}. Best is trial 34 with value: 2.14710973821964.\u001b[0m\n"
     ]
    },
    {
     "name": "stdout",
     "output_type": "stream",
     "text": [
      "[LightGBM] [Warning] lambda_l1 is set=0.0006183065113963006, reg_alpha=0.0 will be ignored. Current value: lambda_l1=0.0006183065113963006\n",
      "[LightGBM] [Warning] bagging_fraction is set=0.4353262217074409, subsample=1.0 will be ignored. Current value: bagging_fraction=0.4353262217074409\n",
      "[LightGBM] [Warning] feature_fraction is set=0.09488625931710726, colsample_bytree=1.0 will be ignored. Current value: feature_fraction=0.09488625931710726\n",
      "[LightGBM] [Warning] lambda_l2 is set=4.143638251553394e-08, reg_lambda=0.0 will be ignored. Current value: lambda_l2=4.143638251553394e-08\n"
     ]
    },
    {
     "name": "stderr",
     "output_type": "stream",
     "text": [
      "\u001b[32m[I 2023-02-01 15:44:02,653]\u001b[0m Trial 39 finished with value: 2.2161351797192315 and parameters: {'feature_fraction': 0.09488625931710726, 'num_leaves': 67, 'bagging_fraction': 0.4353262217074409, 'lambda_l1': 0.0006183065113963006, 'lambda_l2': 4.143638251553394e-08, 'n_estimators': 278, 'max_depth': 5}. Best is trial 34 with value: 2.14710973821964.\u001b[0m\n"
     ]
    },
    {
     "name": "stdout",
     "output_type": "stream",
     "text": [
      "[LightGBM] [Warning] lambda_l1 is set=0.026158315230991998, reg_alpha=0.0 will be ignored. Current value: lambda_l1=0.026158315230991998\n",
      "[LightGBM] [Warning] bagging_fraction is set=0.5296780191431701, subsample=1.0 will be ignored. Current value: bagging_fraction=0.5296780191431701\n",
      "[LightGBM] [Warning] feature_fraction is set=0.47275521193448683, colsample_bytree=1.0 will be ignored. Current value: feature_fraction=0.47275521193448683\n",
      "[LightGBM] [Warning] lambda_l2 is set=2.6203434576342715e-06, reg_lambda=0.0 will be ignored. Current value: lambda_l2=2.6203434576342715e-06\n"
     ]
    },
    {
     "name": "stderr",
     "output_type": "stream",
     "text": [
      "\u001b[32m[I 2023-02-01 15:44:04,147]\u001b[0m Trial 40 finished with value: 2.260865325132666 and parameters: {'feature_fraction': 0.47275521193448683, 'num_leaves': 31, 'bagging_fraction': 0.5296780191431701, 'lambda_l1': 0.026158315230991998, 'lambda_l2': 2.6203434576342715e-06, 'n_estimators': 170, 'max_depth': 6}. Best is trial 34 with value: 2.14710973821964.\u001b[0m\n"
     ]
    },
    {
     "name": "stdout",
     "output_type": "stream",
     "text": [
      "[LightGBM] [Warning] lambda_l1 is set=0.15599056272209533, reg_alpha=0.0 will be ignored. Current value: lambda_l1=0.15599056272209533\n",
      "[LightGBM] [Warning] bagging_fraction is set=0.5640804176215006, subsample=1.0 will be ignored. Current value: bagging_fraction=0.5640804176215006\n",
      "[LightGBM] [Warning] feature_fraction is set=0.29343854854653856, colsample_bytree=1.0 will be ignored. Current value: feature_fraction=0.29343854854653856\n",
      "[LightGBM] [Warning] lambda_l2 is set=2.287349375249889e-05, reg_lambda=0.0 will be ignored. Current value: lambda_l2=2.287349375249889e-05\n"
     ]
    },
    {
     "name": "stderr",
     "output_type": "stream",
     "text": [
      "\u001b[32m[I 2023-02-01 15:44:04,969]\u001b[0m Trial 41 finished with value: 2.1934318452720887 and parameters: {'feature_fraction': 0.29343854854653856, 'num_leaves': 89, 'bagging_fraction': 0.5640804176215006, 'lambda_l1': 0.15599056272209533, 'lambda_l2': 2.287349375249889e-05, 'n_estimators': 192, 'max_depth': 4}. Best is trial 34 with value: 2.14710973821964.\u001b[0m\n"
     ]
    },
    {
     "name": "stdout",
     "output_type": "stream",
     "text": [
      "[LightGBM] [Warning] lambda_l1 is set=0.17024940705028624, reg_alpha=0.0 will be ignored. Current value: lambda_l1=0.17024940705028624\n",
      "[LightGBM] [Warning] bagging_fraction is set=0.576291942115589, subsample=1.0 will be ignored. Current value: bagging_fraction=0.576291942115589\n",
      "[LightGBM] [Warning] feature_fraction is set=0.37746687963220615, colsample_bytree=1.0 will be ignored. Current value: feature_fraction=0.37746687963220615\n",
      "[LightGBM] [Warning] lambda_l2 is set=4.625882243313798e-05, reg_lambda=0.0 will be ignored. Current value: lambda_l2=4.625882243313798e-05\n"
     ]
    },
    {
     "name": "stderr",
     "output_type": "stream",
     "text": [
      "\u001b[32m[I 2023-02-01 15:44:05,892]\u001b[0m Trial 42 finished with value: 2.2058794893101608 and parameters: {'feature_fraction': 0.37746687963220615, 'num_leaves': 87, 'bagging_fraction': 0.576291942115589, 'lambda_l1': 0.17024940705028624, 'lambda_l2': 4.625882243313798e-05, 'n_estimators': 191, 'max_depth': 4}. Best is trial 34 with value: 2.14710973821964.\u001b[0m\n"
     ]
    },
    {
     "name": "stdout",
     "output_type": "stream",
     "text": [
      "[LightGBM] [Warning] lambda_l1 is set=0.060523583555571726, reg_alpha=0.0 will be ignored. Current value: lambda_l1=0.060523583555571726\n",
      "[LightGBM] [Warning] bagging_fraction is set=0.6137465141466161, subsample=1.0 will be ignored. Current value: bagging_fraction=0.6137465141466161\n",
      "[LightGBM] [Warning] feature_fraction is set=0.2025243056516179, colsample_bytree=1.0 will be ignored. Current value: feature_fraction=0.2025243056516179\n",
      "[LightGBM] [Warning] lambda_l2 is set=8.379506261121563e-06, reg_lambda=0.0 will be ignored. Current value: lambda_l2=8.379506261121563e-06\n"
     ]
    },
    {
     "name": "stderr",
     "output_type": "stream",
     "text": [
      "\u001b[32m[I 2023-02-01 15:44:06,581]\u001b[0m Trial 43 finished with value: 2.2021068943863744 and parameters: {'feature_fraction': 0.2025243056516179, 'num_leaves': 100, 'bagging_fraction': 0.6137465141466161, 'lambda_l1': 0.060523583555571726, 'lambda_l2': 8.379506261121563e-06, 'n_estimators': 212, 'max_depth': 3}. Best is trial 34 with value: 2.14710973821964.\u001b[0m\n"
     ]
    },
    {
     "name": "stdout",
     "output_type": "stream",
     "text": [
      "[LightGBM] [Warning] lambda_l1 is set=0.023904587031335526, reg_alpha=0.0 will be ignored. Current value: lambda_l1=0.023904587031335526\n",
      "[LightGBM] [Warning] bagging_fraction is set=0.5301505127509837, subsample=1.0 will be ignored. Current value: bagging_fraction=0.5301505127509837\n",
      "[LightGBM] [Warning] feature_fraction is set=0.315064177467236, colsample_bytree=1.0 will be ignored. Current value: feature_fraction=0.315064177467236\n",
      "[LightGBM] [Warning] lambda_l2 is set=2.0417332163069483e-06, reg_lambda=0.0 will be ignored. Current value: lambda_l2=2.0417332163069483e-06\n"
     ]
    },
    {
     "name": "stderr",
     "output_type": "stream",
     "text": [
      "\u001b[32m[I 2023-02-01 15:44:07,322]\u001b[0m Trial 44 finished with value: 2.201437612541205 and parameters: {'feature_fraction': 0.315064177467236, 'num_leaves': 133, 'bagging_fraction': 0.5301505127509837, 'lambda_l1': 0.023904587031335526, 'lambda_l2': 2.0417332163069483e-06, 'n_estimators': 158, 'max_depth': 4}. Best is trial 34 with value: 2.14710973821964.\u001b[0m\n"
     ]
    },
    {
     "name": "stdout",
     "output_type": "stream",
     "text": [
      "[LightGBM] [Warning] lambda_l1 is set=0.007949873275263229, reg_alpha=0.0 will be ignored. Current value: lambda_l1=0.007949873275263229\n",
      "[LightGBM] [Warning] bagging_fraction is set=0.4896355618172511, subsample=1.0 will be ignored. Current value: bagging_fraction=0.4896355618172511\n",
      "[LightGBM] [Warning] feature_fraction is set=0.2737253299755345, colsample_bytree=1.0 will be ignored. Current value: feature_fraction=0.2737253299755345\n",
      "[LightGBM] [Warning] lambda_l2 is set=5.161629689543506e-07, reg_lambda=0.0 will be ignored. Current value: lambda_l2=5.161629689543506e-07\n"
     ]
    },
    {
     "name": "stderr",
     "output_type": "stream",
     "text": [
      "\u001b[32m[I 2023-02-01 15:44:08,000]\u001b[0m Trial 45 finished with value: 2.2115577266156317 and parameters: {'feature_fraction': 0.2737253299755345, 'num_leaves': 61, 'bagging_fraction': 0.4896355618172511, 'lambda_l1': 0.007949873275263229, 'lambda_l2': 5.161629689543506e-07, 'n_estimators': 101, 'max_depth': 5}. Best is trial 34 with value: 2.14710973821964.\u001b[0m\n"
     ]
    },
    {
     "name": "stdout",
     "output_type": "stream",
     "text": [
      "[LightGBM] [Warning] lambda_l1 is set=0.3792386559529083, reg_alpha=0.0 will be ignored. Current value: lambda_l1=0.3792386559529083\n",
      "[LightGBM] [Warning] bagging_fraction is set=0.5640100733421133, subsample=1.0 will be ignored. Current value: bagging_fraction=0.5640100733421133\n",
      "[LightGBM] [Warning] feature_fraction is set=0.21752400510541686, colsample_bytree=1.0 will be ignored. Current value: feature_fraction=0.21752400510541686\n",
      "[LightGBM] [Warning] lambda_l2 is set=4.155697587224598e-05, reg_lambda=0.0 will be ignored. Current value: lambda_l2=4.155697587224598e-05\n"
     ]
    },
    {
     "name": "stderr",
     "output_type": "stream",
     "text": [
      "\u001b[32m[I 2023-02-01 15:44:09,075]\u001b[0m Trial 46 finished with value: 2.2320522252922554 and parameters: {'feature_fraction': 0.21752400510541686, 'num_leaves': 77, 'bagging_fraction': 0.5640100733421133, 'lambda_l1': 0.3792386559529083, 'lambda_l2': 4.155697587224598e-05, 'n_estimators': 172, 'max_depth': 6}. Best is trial 34 with value: 2.14710973821964.\u001b[0m\n"
     ]
    },
    {
     "name": "stdout",
     "output_type": "stream",
     "text": [
      "[LightGBM] [Warning] lambda_l1 is set=2.7369994797517805, reg_alpha=0.0 will be ignored. Current value: lambda_l1=2.7369994797517805\n",
      "[LightGBM] [Warning] bagging_fraction is set=0.44090670751740363, subsample=1.0 will be ignored. Current value: bagging_fraction=0.44090670751740363\n",
      "[LightGBM] [Warning] feature_fraction is set=0.40224834423641026, colsample_bytree=1.0 will be ignored. Current value: feature_fraction=0.40224834423641026\n",
      "[LightGBM] [Warning] lambda_l2 is set=7.281464069031333e-06, reg_lambda=0.0 will be ignored. Current value: lambda_l2=7.281464069031333e-06\n"
     ]
    },
    {
     "name": "stderr",
     "output_type": "stream",
     "text": [
      "\u001b[32m[I 2023-02-01 15:44:10,166]\u001b[0m Trial 47 finished with value: 2.2387714760194486 and parameters: {'feature_fraction': 0.40224834423641026, 'num_leaves': 41, 'bagging_fraction': 0.44090670751740363, 'lambda_l1': 2.7369994797517805, 'lambda_l2': 7.281464069031333e-06, 'n_estimators': 220, 'max_depth': 4}. Best is trial 34 with value: 2.14710973821964.\u001b[0m\n"
     ]
    },
    {
     "name": "stdout",
     "output_type": "stream",
     "text": [
      "[LightGBM] [Warning] lambda_l1 is set=0.22295845131192138, reg_alpha=0.0 will be ignored. Current value: lambda_l1=0.22295845131192138\n",
      "[LightGBM] [Warning] bagging_fraction is set=0.5875156819800799, subsample=1.0 will be ignored. Current value: bagging_fraction=0.5875156819800799\n",
      "[LightGBM] [Warning] feature_fraction is set=0.35313799859862943, colsample_bytree=1.0 will be ignored. Current value: feature_fraction=0.35313799859862943\n",
      "[LightGBM] [Warning] lambda_l2 is set=0.00020278519964922064, reg_lambda=0.0 will be ignored. Current value: lambda_l2=0.00020278519964922064\n"
     ]
    },
    {
     "name": "stderr",
     "output_type": "stream",
     "text": [
      "\u001b[32m[I 2023-02-01 15:44:11,594]\u001b[0m Trial 48 finished with value: 2.239008685856486 and parameters: {'feature_fraction': 0.35313799859862943, 'num_leaves': 124, 'bagging_fraction': 0.5875156819800799, 'lambda_l1': 0.22295845131192138, 'lambda_l2': 0.00020278519964922064, 'n_estimators': 252, 'max_depth': 5}. Best is trial 34 with value: 2.14710973821964.\u001b[0m\n"
     ]
    },
    {
     "name": "stdout",
     "output_type": "stream",
     "text": [
      "[LightGBM] [Warning] lambda_l1 is set=0.01794624496930765, reg_alpha=0.0 will be ignored. Current value: lambda_l1=0.01794624496930765\n",
      "[LightGBM] [Warning] bagging_fraction is set=0.6344694269840013, subsample=1.0 will be ignored. Current value: bagging_fraction=0.6344694269840013\n",
      "[LightGBM] [Warning] feature_fraction is set=0.06646230276341997, colsample_bytree=1.0 will be ignored. Current value: feature_fraction=0.06646230276341997\n",
      "[LightGBM] [Warning] lambda_l2 is set=3.0567248670950664e-07, reg_lambda=0.0 will be ignored. Current value: lambda_l2=3.0567248670950664e-07\n"
     ]
    },
    {
     "name": "stderr",
     "output_type": "stream",
     "text": [
      "\u001b[32m[I 2023-02-01 15:44:12,259]\u001b[0m Trial 49 finished with value: 2.2368883460306046 and parameters: {'feature_fraction': 0.06646230276341997, 'num_leaves': 158, 'bagging_fraction': 0.6344694269840013, 'lambda_l1': 0.01794624496930765, 'lambda_l2': 3.0567248670950664e-07, 'n_estimators': 207, 'max_depth': 5}. Best is trial 34 with value: 2.14710973821964.\u001b[0m\n"
     ]
    },
    {
     "name": "stdout",
     "output_type": "stream",
     "text": [
      "[LightGBM] [Warning] lambda_l1 is set=0.1118592535704726, reg_alpha=0.0 will be ignored. Current value: lambda_l1=0.1118592535704726\n",
      "[LightGBM] [Warning] bagging_fraction is set=0.5102523227558411, subsample=1.0 will be ignored. Current value: bagging_fraction=0.5102523227558411\n",
      "[LightGBM] [Warning] feature_fraction is set=0.2844932294398398, colsample_bytree=1.0 will be ignored. Current value: feature_fraction=0.2844932294398398\n",
      "[LightGBM] [Warning] lambda_l2 is set=7.780386991003766e-07, reg_lambda=0.0 will be ignored. Current value: lambda_l2=7.780386991003766e-07\n"
     ]
    },
    {
     "name": "stderr",
     "output_type": "stream",
     "text": [
      "\u001b[32m[I 2023-02-01 15:44:12,896]\u001b[0m Trial 50 finished with value: 2.225970893012728 and parameters: {'feature_fraction': 0.2844932294398398, 'num_leaves': 81, 'bagging_fraction': 0.5102523227558411, 'lambda_l1': 0.1118592535704726, 'lambda_l2': 7.780386991003766e-07, 'n_estimators': 186, 'max_depth': 3}. Best is trial 34 with value: 2.14710973821964.\u001b[0m\n"
     ]
    },
    {
     "name": "stdout",
     "output_type": "stream",
     "text": [
      "[LightGBM] [Warning] lambda_l1 is set=0.549422899942819, reg_alpha=0.0 will be ignored. Current value: lambda_l1=0.549422899942819\n",
      "[LightGBM] [Warning] bagging_fraction is set=0.561559082720697, subsample=1.0 will be ignored. Current value: bagging_fraction=0.561559082720697\n",
      "[LightGBM] [Warning] feature_fraction is set=0.2912994139522548, colsample_bytree=1.0 will be ignored. Current value: feature_fraction=0.2912994139522548\n",
      "[LightGBM] [Warning] lambda_l2 is set=1.4721784364309789e-05, reg_lambda=0.0 will be ignored. Current value: lambda_l2=1.4721784364309789e-05\n"
     ]
    },
    {
     "name": "stderr",
     "output_type": "stream",
     "text": [
      "\u001b[32m[I 2023-02-01 15:44:13,747]\u001b[0m Trial 51 finished with value: 2.1979045596425766 and parameters: {'feature_fraction': 0.2912994139522548, 'num_leaves': 101, 'bagging_fraction': 0.561559082720697, 'lambda_l1': 0.549422899942819, 'lambda_l2': 1.4721784364309789e-05, 'n_estimators': 199, 'max_depth': 4}. Best is trial 34 with value: 2.14710973821964.\u001b[0m\n"
     ]
    },
    {
     "name": "stdout",
     "output_type": "stream",
     "text": [
      "[LightGBM] [Warning] lambda_l1 is set=0.4333372773797282, reg_alpha=0.0 will be ignored. Current value: lambda_l1=0.4333372773797282\n",
      "[LightGBM] [Warning] bagging_fraction is set=0.5498779287811351, subsample=1.0 will be ignored. Current value: bagging_fraction=0.5498779287811351\n",
      "[LightGBM] [Warning] feature_fraction is set=0.16327331760501423, colsample_bytree=1.0 will be ignored. Current value: feature_fraction=0.16327331760501423\n",
      "[LightGBM] [Warning] lambda_l2 is set=1.1271536562529609e-05, reg_lambda=0.0 will be ignored. Current value: lambda_l2=1.1271536562529609e-05\n"
     ]
    },
    {
     "name": "stderr",
     "output_type": "stream",
     "text": [
      "\u001b[32m[I 2023-02-01 15:44:14,489]\u001b[0m Trial 52 finished with value: 2.2180074596105688 and parameters: {'feature_fraction': 0.16327331760501423, 'num_leaves': 105, 'bagging_fraction': 0.5498779287811351, 'lambda_l1': 0.4333372773797282, 'lambda_l2': 1.1271536562529609e-05, 'n_estimators': 232, 'max_depth': 4}. Best is trial 34 with value: 2.14710973821964.\u001b[0m\n"
     ]
    },
    {
     "name": "stdout",
     "output_type": "stream",
     "text": [
      "[LightGBM] [Warning] lambda_l1 is set=0.1513968579190927, reg_alpha=0.0 will be ignored. Current value: lambda_l1=0.1513968579190927\n",
      "[LightGBM] [Warning] bagging_fraction is set=0.4843969300602479, subsample=1.0 will be ignored. Current value: bagging_fraction=0.4843969300602479\n",
      "[LightGBM] [Warning] feature_fraction is set=0.2176871763280036, colsample_bytree=1.0 will be ignored. Current value: feature_fraction=0.2176871763280036\n",
      "[LightGBM] [Warning] lambda_l2 is set=2.7053287409130092e-05, reg_lambda=0.0 will be ignored. Current value: lambda_l2=2.7053287409130092e-05\n"
     ]
    },
    {
     "name": "stderr",
     "output_type": "stream",
     "text": [
      "\u001b[32m[I 2023-02-01 15:44:15,221]\u001b[0m Trial 53 finished with value: 2.1370071271725095 and parameters: {'feature_fraction': 0.2176871763280036, 'num_leaves': 92, 'bagging_fraction': 0.4843969300602479, 'lambda_l1': 0.1513968579190927, 'lambda_l2': 2.7053287409130092e-05, 'n_estimators': 194, 'max_depth': 4}. Best is trial 53 with value: 2.1370071271725095.\u001b[0m\n"
     ]
    },
    {
     "name": "stdout",
     "output_type": "stream",
     "text": [
      "[LightGBM] [Warning] lambda_l1 is set=0.05533483571534285, reg_alpha=0.0 will be ignored. Current value: lambda_l1=0.05533483571534285\n",
      "[LightGBM] [Warning] bagging_fraction is set=0.47433565173107317, subsample=1.0 will be ignored. Current value: bagging_fraction=0.47433565173107317\n",
      "[LightGBM] [Warning] feature_fraction is set=0.22983582655987525, colsample_bytree=1.0 will be ignored. Current value: feature_fraction=0.22983582655987525\n",
      "[LightGBM] [Warning] lambda_l2 is set=3.756443243158711e-06, reg_lambda=0.0 will be ignored. Current value: lambda_l2=3.756443243158711e-06\n"
     ]
    },
    {
     "name": "stderr",
     "output_type": "stream",
     "text": [
      "\u001b[32m[I 2023-02-01 15:44:15,885]\u001b[0m Trial 54 finished with value: 2.2329341330749473 and parameters: {'feature_fraction': 0.22983582655987525, 'num_leaves': 92, 'bagging_fraction': 0.47433565173107317, 'lambda_l1': 0.05533483571534285, 'lambda_l2': 3.756443243158711e-06, 'n_estimators': 158, 'max_depth': 4}. Best is trial 53 with value: 2.1370071271725095.\u001b[0m\n"
     ]
    },
    {
     "name": "stdout",
     "output_type": "stream",
     "text": [
      "[LightGBM] [Warning] lambda_l1 is set=0.16642986906868046, reg_alpha=0.0 will be ignored. Current value: lambda_l1=0.16642986906868046\n",
      "[LightGBM] [Warning] bagging_fraction is set=0.5149245095194941, subsample=1.0 will be ignored. Current value: bagging_fraction=0.5149245095194941\n",
      "[LightGBM] [Warning] feature_fraction is set=0.22203462031854354, colsample_bytree=1.0 will be ignored. Current value: feature_fraction=0.22203462031854354\n",
      "[LightGBM] [Warning] lambda_l2 is set=4.357831899572963e-05, reg_lambda=0.0 will be ignored. Current value: lambda_l2=4.357831899572963e-05\n"
     ]
    },
    {
     "name": "stderr",
     "output_type": "stream",
     "text": [
      "\u001b[32m[I 2023-02-01 15:44:16,700]\u001b[0m Trial 55 finished with value: 2.2270822801775774 and parameters: {'feature_fraction': 0.22203462031854354, 'num_leaves': 70, 'bagging_fraction': 0.5149245095194941, 'lambda_l1': 0.16642986906868046, 'lambda_l2': 4.357831899572963e-05, 'n_estimators': 224, 'max_depth': 4}. Best is trial 53 with value: 2.1370071271725095.\u001b[0m\n"
     ]
    },
    {
     "name": "stdout",
     "output_type": "stream",
     "text": [
      "[LightGBM] [Warning] lambda_l1 is set=1.791061190075338, reg_alpha=0.0 will be ignored. Current value: lambda_l1=1.791061190075338\n",
      "[LightGBM] [Warning] bagging_fraction is set=0.4914655812276649, subsample=1.0 will be ignored. Current value: bagging_fraction=0.4914655812276649\n",
      "[LightGBM] [Warning] feature_fraction is set=0.35544787716341825, colsample_bytree=1.0 will be ignored. Current value: feature_fraction=0.35544787716341825\n",
      "[LightGBM] [Warning] lambda_l2 is set=5.302612902495344e-06, reg_lambda=0.0 will be ignored. Current value: lambda_l2=5.302612902495344e-06\n"
     ]
    },
    {
     "name": "stderr",
     "output_type": "stream",
     "text": [
      "\u001b[32m[I 2023-02-01 15:44:17,914]\u001b[0m Trial 56 finished with value: 2.233684234521337 and parameters: {'feature_fraction': 0.35544787716341825, 'num_leaves': 133, 'bagging_fraction': 0.4914655812276649, 'lambda_l1': 1.791061190075338, 'lambda_l2': 5.302612902495344e-06, 'n_estimators': 193, 'max_depth': 5}. Best is trial 53 with value: 2.1370071271725095.\u001b[0m\n"
     ]
    },
    {
     "name": "stdout",
     "output_type": "stream",
     "text": [
      "[LightGBM] [Warning] lambda_l1 is set=0.1368739344237943, reg_alpha=0.0 will be ignored. Current value: lambda_l1=0.1368739344237943\n",
      "[LightGBM] [Warning] bagging_fraction is set=0.425276887040363, subsample=1.0 will be ignored. Current value: bagging_fraction=0.425276887040363\n",
      "[LightGBM] [Warning] feature_fraction is set=0.1570913676497705, colsample_bytree=1.0 will be ignored. Current value: feature_fraction=0.1570913676497705\n",
      "[LightGBM] [Warning] lambda_l2 is set=2.2388790003731272e-06, reg_lambda=0.0 will be ignored. Current value: lambda_l2=2.2388790003731272e-06\n"
     ]
    },
    {
     "name": "stderr",
     "output_type": "stream",
     "text": [
      "\u001b[32m[I 2023-02-01 15:44:18,278]\u001b[0m Trial 57 finished with value: 2.2907789665781597 and parameters: {'feature_fraction': 0.1570913676497705, 'num_leaves': 4, 'bagging_fraction': 0.425276887040363, 'lambda_l1': 0.1368739344237943, 'lambda_l2': 2.2388790003731272e-06, 'n_estimators': 71, 'max_depth': 3}. Best is trial 53 with value: 2.1370071271725095.\u001b[0m\n"
     ]
    },
    {
     "name": "stdout",
     "output_type": "stream",
     "text": [
      "[LightGBM] [Warning] lambda_l1 is set=0.008157933572536837, reg_alpha=0.0 will be ignored. Current value: lambda_l1=0.008157933572536837\n",
      "[LightGBM] [Warning] bagging_fraction is set=0.5349114178505008, subsample=1.0 will be ignored. Current value: bagging_fraction=0.5349114178505008\n",
      "[LightGBM] [Warning] feature_fraction is set=0.2570962959956855, colsample_bytree=1.0 will be ignored. Current value: feature_fraction=0.2570962959956855\n",
      "[LightGBM] [Warning] lambda_l2 is set=2.3425984511771427e-05, reg_lambda=0.0 will be ignored. Current value: lambda_l2=2.3425984511771427e-05\n"
     ]
    },
    {
     "name": "stderr",
     "output_type": "stream",
     "text": [
      "\u001b[32m[I 2023-02-01 15:44:18,925]\u001b[0m Trial 58 finished with value: 2.235414250366152 and parameters: {'feature_fraction': 0.2570962959956855, 'num_leaves': 231, 'bagging_fraction': 0.5349114178505008, 'lambda_l1': 0.008157933572536837, 'lambda_l2': 2.3425984511771427e-05, 'n_estimators': 298, 'max_depth': 2}. Best is trial 53 with value: 2.1370071271725095.\u001b[0m\n"
     ]
    },
    {
     "name": "stdout",
     "output_type": "stream",
     "text": [
      "[LightGBM] [Warning] lambda_l1 is set=4.330204503485457, reg_alpha=0.0 will be ignored. Current value: lambda_l1=4.330204503485457\n",
      "[LightGBM] [Warning] bagging_fraction is set=0.463219275696619, subsample=1.0 will be ignored. Current value: bagging_fraction=0.463219275696619\n",
      "[LightGBM] [Warning] feature_fraction is set=0.3258840637438844, colsample_bytree=1.0 will be ignored. Current value: feature_fraction=0.3258840637438844\n",
      "[LightGBM] [Warning] lambda_l2 is set=1.329550260698326e-06, reg_lambda=0.0 will be ignored. Current value: lambda_l2=1.329550260698326e-06\n"
     ]
    },
    {
     "name": "stderr",
     "output_type": "stream",
     "text": [
      "\u001b[32m[I 2023-02-01 15:44:20,029]\u001b[0m Trial 59 finished with value: 2.2021957355389707 and parameters: {'feature_fraction': 0.3258840637438844, 'num_leaves': 117, 'bagging_fraction': 0.463219275696619, 'lambda_l1': 4.330204503485457, 'lambda_l2': 1.329550260698326e-06, 'n_estimators': 177, 'max_depth': 5}. Best is trial 53 with value: 2.1370071271725095.\u001b[0m\n"
     ]
    },
    {
     "name": "stdout",
     "output_type": "stream",
     "text": [
      "[LightGBM] [Warning] lambda_l1 is set=1.1981472682656251, reg_alpha=0.0 will be ignored. Current value: lambda_l1=1.1981472682656251\n",
      "[LightGBM] [Warning] bagging_fraction is set=0.5959360145376547, subsample=1.0 will be ignored. Current value: bagging_fraction=0.5959360145376547\n",
      "[LightGBM] [Warning] feature_fraction is set=0.11306282925329236, colsample_bytree=1.0 will be ignored. Current value: feature_fraction=0.11306282925329236\n",
      "[LightGBM] [Warning] lambda_l2 is set=6.714913128924913e-06, reg_lambda=0.0 will be ignored. Current value: lambda_l2=6.714913128924913e-06\n"
     ]
    },
    {
     "name": "stderr",
     "output_type": "stream",
     "text": [
      "\u001b[32m[I 2023-02-01 15:44:20,780]\u001b[0m Trial 60 finished with value: 2.266772323181725 and parameters: {'feature_fraction': 0.11306282925329236, 'num_leaves': 183, 'bagging_fraction': 0.5959360145376547, 'lambda_l1': 1.1981472682656251, 'lambda_l2': 6.714913128924913e-06, 'n_estimators': 148, 'max_depth': 6}. Best is trial 53 with value: 2.1370071271725095.\u001b[0m\n"
     ]
    },
    {
     "name": "stdout",
     "output_type": "stream",
     "text": [
      "[LightGBM] [Warning] lambda_l1 is set=0.5076646811789524, reg_alpha=0.0 will be ignored. Current value: lambda_l1=0.5076646811789524\n",
      "[LightGBM] [Warning] bagging_fraction is set=0.5598421563703422, subsample=1.0 will be ignored. Current value: bagging_fraction=0.5598421563703422\n",
      "[LightGBM] [Warning] feature_fraction is set=0.2812269822082812, colsample_bytree=1.0 will be ignored. Current value: feature_fraction=0.2812269822082812\n",
      "[LightGBM] [Warning] lambda_l2 is set=1.2271589761926314e-05, reg_lambda=0.0 will be ignored. Current value: lambda_l2=1.2271589761926314e-05\n"
     ]
    },
    {
     "name": "stderr",
     "output_type": "stream",
     "text": [
      "\u001b[32m[I 2023-02-01 15:44:21,605]\u001b[0m Trial 61 finished with value: 2.1947123508041053 and parameters: {'feature_fraction': 0.2812269822082812, 'num_leaves': 99, 'bagging_fraction': 0.5598421563703422, 'lambda_l1': 0.5076646811789524, 'lambda_l2': 1.2271589761926314e-05, 'n_estimators': 198, 'max_depth': 4}. Best is trial 53 with value: 2.1370071271725095.\u001b[0m\n"
     ]
    },
    {
     "name": "stdout",
     "output_type": "stream",
     "text": [
      "[LightGBM] [Warning] lambda_l1 is set=0.04291055238667687, reg_alpha=0.0 will be ignored. Current value: lambda_l1=0.04291055238667687\n",
      "[LightGBM] [Warning] bagging_fraction is set=0.5118237729066358, subsample=1.0 will be ignored. Current value: bagging_fraction=0.5118237729066358\n",
      "[LightGBM] [Warning] feature_fraction is set=0.17843876848343326, colsample_bytree=1.0 will be ignored. Current value: feature_fraction=0.17843876848343326\n",
      "[LightGBM] [Warning] lambda_l2 is set=2.5991378368638754e-05, reg_lambda=0.0 will be ignored. Current value: lambda_l2=2.5991378368638754e-05\n"
     ]
    },
    {
     "name": "stderr",
     "output_type": "stream",
     "text": [
      "\u001b[32m[I 2023-02-01 15:44:22,469]\u001b[0m Trial 62 finished with value: 2.2168520865226298 and parameters: {'feature_fraction': 0.17843876848343326, 'num_leaves': 85, 'bagging_fraction': 0.5118237729066358, 'lambda_l1': 0.04291055238667687, 'lambda_l2': 2.5991378368638754e-05, 'n_estimators': 244, 'max_depth': 4}. Best is trial 53 with value: 2.1370071271725095.\u001b[0m\n"
     ]
    },
    {
     "name": "stdout",
     "output_type": "stream",
     "text": [
      "[LightGBM] [Warning] lambda_l1 is set=0.3654447901376708, reg_alpha=0.0 will be ignored. Current value: lambda_l1=0.3654447901376708\n",
      "[LightGBM] [Warning] bagging_fraction is set=0.5814713861944517, subsample=1.0 will be ignored. Current value: bagging_fraction=0.5814713861944517\n",
      "[LightGBM] [Warning] feature_fraction is set=0.2503691219294022, colsample_bytree=1.0 will be ignored. Current value: feature_fraction=0.2503691219294022\n",
      "[LightGBM] [Warning] lambda_l2 is set=9.909355161664592e-05, reg_lambda=0.0 will be ignored. Current value: lambda_l2=9.909355161664592e-05\n"
     ]
    },
    {
     "name": "stderr",
     "output_type": "stream",
     "text": [
      "\u001b[32m[I 2023-02-01 15:44:23,291]\u001b[0m Trial 63 finished with value: 2.2092897428775937 and parameters: {'feature_fraction': 0.2503691219294022, 'num_leaves': 121, 'bagging_fraction': 0.5814713861944517, 'lambda_l1': 0.3654447901376708, 'lambda_l2': 9.909355161664592e-05, 'n_estimators': 207, 'max_depth': 4}. Best is trial 53 with value: 2.1370071271725095.\u001b[0m\n"
     ]
    },
    {
     "name": "stdout",
     "output_type": "stream",
     "text": [
      "[LightGBM] [Warning] lambda_l1 is set=0.7305953322677736, reg_alpha=0.0 will be ignored. Current value: lambda_l1=0.7305953322677736\n",
      "[LightGBM] [Warning] bagging_fraction is set=0.5476635775498865, subsample=1.0 will be ignored. Current value: bagging_fraction=0.5476635775498865\n",
      "[LightGBM] [Warning] feature_fraction is set=0.1995766848759662, colsample_bytree=1.0 will be ignored. Current value: feature_fraction=0.1995766848759662\n",
      "[LightGBM] [Warning] lambda_l2 is set=1.0121716203458068e-05, reg_lambda=0.0 will be ignored. Current value: lambda_l2=1.0121716203458068e-05\n"
     ]
    },
    {
     "name": "stderr",
     "output_type": "stream",
     "text": [
      "\u001b[32m[I 2023-02-01 15:44:23,900]\u001b[0m Trial 64 finished with value: 2.210462817952814 and parameters: {'feature_fraction': 0.1995766848759662, 'num_leaves': 108, 'bagging_fraction': 0.5476635775498865, 'lambda_l1': 0.7305953322677736, 'lambda_l2': 1.0121716203458068e-05, 'n_estimators': 166, 'max_depth': 3}. Best is trial 53 with value: 2.1370071271725095.\u001b[0m\n"
     ]
    },
    {
     "name": "stdout",
     "output_type": "stream",
     "text": [
      "[LightGBM] [Warning] lambda_l1 is set=0.22541130984488947, reg_alpha=0.0 will be ignored. Current value: lambda_l1=0.22541130984488947\n",
      "[LightGBM] [Warning] bagging_fraction is set=0.4911911222116979, subsample=1.0 will be ignored. Current value: bagging_fraction=0.4911911222116979\n",
      "[LightGBM] [Warning] feature_fraction is set=0.28739780531157916, colsample_bytree=1.0 will be ignored. Current value: feature_fraction=0.28739780531157916\n",
      "[LightGBM] [Warning] lambda_l2 is set=7.969884228876601e-07, reg_lambda=0.0 will be ignored. Current value: lambda_l2=7.969884228876601e-07\n"
     ]
    },
    {
     "name": "stderr",
     "output_type": "stream",
     "text": [
      "\u001b[32m[I 2023-02-01 15:44:24,798]\u001b[0m Trial 65 finished with value: 2.211161677318859 and parameters: {'feature_fraction': 0.28739780531157916, 'num_leaves': 144, 'bagging_fraction': 0.4911911222116979, 'lambda_l1': 0.22541130984488947, 'lambda_l2': 7.969884228876601e-07, 'n_estimators': 222, 'max_depth': 4}. Best is trial 53 with value: 2.1370071271725095.\u001b[0m\n"
     ]
    },
    {
     "name": "stdout",
     "output_type": "stream",
     "text": [
      "[LightGBM] [Warning] lambda_l1 is set=0.08054016280696256, reg_alpha=0.0 will be ignored. Current value: lambda_l1=0.08054016280696256\n",
      "[LightGBM] [Warning] bagging_fraction is set=0.6295585312984191, subsample=1.0 will be ignored. Current value: bagging_fraction=0.6295585312984191\n",
      "[LightGBM] [Warning] feature_fraction is set=0.3806076204712951, colsample_bytree=1.0 will be ignored. Current value: feature_fraction=0.3806076204712951\n",
      "[LightGBM] [Warning] lambda_l2 is set=4.110168612363893e-06, reg_lambda=0.0 will be ignored. Current value: lambda_l2=4.110168612363893e-06\n"
     ]
    },
    {
     "name": "stderr",
     "output_type": "stream",
     "text": [
      "\u001b[32m[I 2023-02-01 15:44:25,705]\u001b[0m Trial 66 finished with value: 2.214248420976372 and parameters: {'feature_fraction': 0.3806076204712951, 'num_leaves': 96, 'bagging_fraction': 0.6295585312984191, 'lambda_l1': 0.08054016280696256, 'lambda_l2': 4.110168612363893e-06, 'n_estimators': 185, 'max_depth': 4}. Best is trial 53 with value: 2.1370071271725095.\u001b[0m\n"
     ]
    },
    {
     "name": "stdout",
     "output_type": "stream",
     "text": [
      "[LightGBM] [Warning] lambda_l1 is set=5.253745330654342, reg_alpha=0.0 will be ignored. Current value: lambda_l1=5.253745330654342\n",
      "[LightGBM] [Warning] bagging_fraction is set=0.5220879193966893, subsample=1.0 will be ignored. Current value: bagging_fraction=0.5220879193966893\n",
      "[LightGBM] [Warning] feature_fraction is set=0.31365220839359137, colsample_bytree=1.0 will be ignored. Current value: feature_fraction=0.31365220839359137\n",
      "[LightGBM] [Warning] lambda_l2 is set=2.4286327915783273e-05, reg_lambda=0.0 will be ignored. Current value: lambda_l2=2.4286327915783273e-05\n"
     ]
    },
    {
     "name": "stderr",
     "output_type": "stream",
     "text": [
      "\u001b[32m[I 2023-02-01 15:44:26,363]\u001b[0m Trial 67 finished with value: 2.2069453083168598 and parameters: {'feature_fraction': 0.31365220839359137, 'num_leaves': 113, 'bagging_fraction': 0.5220879193966893, 'lambda_l1': 5.253745330654342, 'lambda_l2': 2.4286327915783273e-05, 'n_estimators': 122, 'max_depth': 4}. Best is trial 53 with value: 2.1370071271725095.\u001b[0m\n"
     ]
    },
    {
     "name": "stdout",
     "output_type": "stream",
     "text": [
      "[LightGBM] [Warning] lambda_l1 is set=1.4359129378805566, reg_alpha=0.0 will be ignored. Current value: lambda_l1=1.4359129378805566\n",
      "[LightGBM] [Warning] bagging_fraction is set=0.45081346593088995, subsample=1.0 will be ignored. Current value: bagging_fraction=0.45081346593088995\n",
      "[LightGBM] [Warning] feature_fraction is set=0.43267812979465836, colsample_bytree=1.0 will be ignored. Current value: feature_fraction=0.43267812979465836\n",
      "[LightGBM] [Warning] lambda_l2 is set=2.190936230461661e-06, reg_lambda=0.0 will be ignored. Current value: lambda_l2=2.190936230461661e-06\n"
     ]
    },
    {
     "name": "stderr",
     "output_type": "stream",
     "text": [
      "\u001b[32m[I 2023-02-01 15:44:27,753]\u001b[0m Trial 68 finished with value: 2.2475450254613527 and parameters: {'feature_fraction': 0.43267812979465836, 'num_leaves': 74, 'bagging_fraction': 0.45081346593088995, 'lambda_l1': 1.4359129378805566, 'lambda_l2': 2.190936230461661e-06, 'n_estimators': 200, 'max_depth': 5}. Best is trial 53 with value: 2.1370071271725095.\u001b[0m\n"
     ]
    },
    {
     "name": "stdout",
     "output_type": "stream",
     "text": [
      "[LightGBM] [Warning] lambda_l1 is set=0.025808595181690402, reg_alpha=0.0 will be ignored. Current value: lambda_l1=0.025808595181690402\n",
      "[LightGBM] [Warning] bagging_fraction is set=0.6580208561223938, subsample=1.0 will be ignored. Current value: bagging_fraction=0.6580208561223938\n",
      "[LightGBM] [Warning] feature_fraction is set=0.26430163219976555, colsample_bytree=1.0 will be ignored. Current value: feature_fraction=0.26430163219976555\n",
      "[LightGBM] [Warning] lambda_l2 is set=3.274070153737437e-07, reg_lambda=0.0 will be ignored. Current value: lambda_l2=3.274070153737437e-07\n"
     ]
    },
    {
     "name": "stderr",
     "output_type": "stream",
     "text": [
      "\u001b[32m[I 2023-02-01 15:44:28,827]\u001b[0m Trial 69 finished with value: 2.2146285425162766 and parameters: {'feature_fraction': 0.26430163219976555, 'num_leaves': 136, 'bagging_fraction': 0.6580208561223938, 'lambda_l1': 0.025808595181690402, 'lambda_l2': 3.274070153737437e-07, 'n_estimators': 215, 'max_depth': 5}. Best is trial 53 with value: 2.1370071271725095.\u001b[0m\n"
     ]
    },
    {
     "name": "stdout",
     "output_type": "stream",
     "text": [
      "[LightGBM] [Warning] lambda_l1 is set=0.11157318517507138, reg_alpha=0.0 will be ignored. Current value: lambda_l1=0.11157318517507138\n",
      "[LightGBM] [Warning] bagging_fraction is set=0.6035710340656408, subsample=1.0 will be ignored. Current value: bagging_fraction=0.6035710340656408\n",
      "[LightGBM] [Warning] feature_fraction is set=0.20187358803886815, colsample_bytree=1.0 will be ignored. Current value: feature_fraction=0.20187358803886815\n",
      "[LightGBM] [Warning] lambda_l2 is set=1.216691550066819e-06, reg_lambda=0.0 will be ignored. Current value: lambda_l2=1.216691550066819e-06\n"
     ]
    },
    {
     "name": "stderr",
     "output_type": "stream",
     "text": [
      "\u001b[32m[I 2023-02-01 15:44:29,382]\u001b[0m Trial 70 finished with value: 2.270164258125454 and parameters: {'feature_fraction': 0.20187358803886815, 'num_leaves': 149, 'bagging_fraction': 0.6035710340656408, 'lambda_l1': 0.11157318517507138, 'lambda_l2': 1.216691550066819e-06, 'n_estimators': 138, 'max_depth': 2}. Best is trial 53 with value: 2.1370071271725095.\u001b[0m\n"
     ]
    },
    {
     "name": "stdout",
     "output_type": "stream",
     "text": [
      "[LightGBM] [Warning] lambda_l1 is set=0.38027835316075603, reg_alpha=0.0 will be ignored. Current value: lambda_l1=0.38027835316075603\n",
      "[LightGBM] [Warning] bagging_fraction is set=0.5612222992741889, subsample=1.0 will be ignored. Current value: bagging_fraction=0.5612222992741889\n",
      "[LightGBM] [Warning] feature_fraction is set=0.3047019458457775, colsample_bytree=1.0 will be ignored. Current value: feature_fraction=0.3047019458457775\n",
      "[LightGBM] [Warning] lambda_l2 is set=1.4942378649175073e-05, reg_lambda=0.0 will be ignored. Current value: lambda_l2=1.4942378649175073e-05\n"
     ]
    },
    {
     "name": "stderr",
     "output_type": "stream",
     "text": [
      "\u001b[32m[I 2023-02-01 15:44:30,222]\u001b[0m Trial 71 finished with value: 2.1874912450994715 and parameters: {'feature_fraction': 0.3047019458457775, 'num_leaves': 98, 'bagging_fraction': 0.5612222992741889, 'lambda_l1': 0.38027835316075603, 'lambda_l2': 1.4942378649175073e-05, 'n_estimators': 191, 'max_depth': 4}. Best is trial 53 with value: 2.1370071271725095.\u001b[0m\n"
     ]
    },
    {
     "name": "stdout",
     "output_type": "stream",
     "text": [
      "[LightGBM] [Warning] lambda_l1 is set=0.270465978611744, reg_alpha=0.0 will be ignored. Current value: lambda_l1=0.270465978611744\n",
      "[LightGBM] [Warning] bagging_fraction is set=0.5349883958369172, subsample=1.0 will be ignored. Current value: bagging_fraction=0.5349883958369172\n",
      "[LightGBM] [Warning] feature_fraction is set=0.3565097402465933, colsample_bytree=1.0 will be ignored. Current value: feature_fraction=0.3565097402465933\n",
      "[LightGBM] [Warning] lambda_l2 is set=1.0315229083605538e-05, reg_lambda=0.0 will be ignored. Current value: lambda_l2=1.0315229083605538e-05\n"
     ]
    },
    {
     "name": "stderr",
     "output_type": "stream",
     "text": [
      "\u001b[32m[I 2023-02-01 15:44:31,130]\u001b[0m Trial 72 finished with value: 2.224198936145359 and parameters: {'feature_fraction': 0.3565097402465933, 'num_leaves': 83, 'bagging_fraction': 0.5349883958369172, 'lambda_l1': 0.270465978611744, 'lambda_l2': 1.0315229083605538e-05, 'n_estimators': 190, 'max_depth': 4}. Best is trial 53 with value: 2.1370071271725095.\u001b[0m\n"
     ]
    },
    {
     "name": "stdout",
     "output_type": "stream",
     "text": [
      "[LightGBM] [Warning] lambda_l1 is set=0.5366042248215557, reg_alpha=0.0 will be ignored. Current value: lambda_l1=0.5366042248215557\n",
      "[LightGBM] [Warning] bagging_fraction is set=0.5680095961161535, subsample=1.0 will be ignored. Current value: bagging_fraction=0.5680095961161535\n",
      "[LightGBM] [Warning] feature_fraction is set=0.23485537755272604, colsample_bytree=1.0 will be ignored. Current value: feature_fraction=0.23485537755272604\n",
      "[LightGBM] [Warning] lambda_l2 is set=5.546301684321745e-06, reg_lambda=0.0 will be ignored. Current value: lambda_l2=5.546301684321745e-06\n"
     ]
    },
    {
     "name": "stderr",
     "output_type": "stream",
     "text": [
      "\u001b[32m[I 2023-02-01 15:44:31,732]\u001b[0m Trial 73 finished with value: 2.2393103788799524 and parameters: {'feature_fraction': 0.23485537755272604, 'num_leaves': 125, 'bagging_fraction': 0.5680095961161535, 'lambda_l1': 0.5366042248215557, 'lambda_l2': 5.546301684321745e-06, 'n_estimators': 180, 'max_depth': 3}. Best is trial 53 with value: 2.1370071271725095.\u001b[0m\n"
     ]
    },
    {
     "name": "stdout",
     "output_type": "stream",
     "text": [
      "[LightGBM] [Warning] lambda_l1 is set=0.046513141120665624, reg_alpha=0.0 will be ignored. Current value: lambda_l1=0.046513141120665624\n",
      "[LightGBM] [Warning] bagging_fraction is set=0.5018851880382729, subsample=1.0 will be ignored. Current value: bagging_fraction=0.5018851880382729\n",
      "[LightGBM] [Warning] feature_fraction is set=0.3361913012265993, colsample_bytree=1.0 will be ignored. Current value: feature_fraction=0.3361913012265993\n",
      "[LightGBM] [Warning] lambda_l2 is set=5.825632463308068e-05, reg_lambda=0.0 will be ignored. Current value: lambda_l2=5.825632463308068e-05\n"
     ]
    },
    {
     "name": "stderr",
     "output_type": "stream",
     "text": [
      "\u001b[32m[I 2023-02-01 15:44:32,654]\u001b[0m Trial 74 finished with value: 2.199715215174344 and parameters: {'feature_fraction': 0.3361913012265993, 'num_leaves': 96, 'bagging_fraction': 0.5018851880382729, 'lambda_l1': 0.046513141120665624, 'lambda_l2': 5.825632463308068e-05, 'n_estimators': 207, 'max_depth': 4}. Best is trial 53 with value: 2.1370071271725095.\u001b[0m\n"
     ]
    },
    {
     "name": "stdout",
     "output_type": "stream",
     "text": [
      "[LightGBM] [Warning] lambda_l1 is set=0.16314607434735937, reg_alpha=0.0 will be ignored. Current value: lambda_l1=0.16314607434735937\n",
      "[LightGBM] [Warning] bagging_fraction is set=0.5502982345527531, subsample=1.0 will be ignored. Current value: bagging_fraction=0.5502982345527531\n",
      "[LightGBM] [Warning] feature_fraction is set=0.3065930140723785, colsample_bytree=1.0 will be ignored. Current value: feature_fraction=0.3065930140723785\n",
      "[LightGBM] [Warning] lambda_l2 is set=1.8573957922533677e-05, reg_lambda=0.0 will be ignored. Current value: lambda_l2=1.8573957922533677e-05\n"
     ]
    },
    {
     "name": "stderr",
     "output_type": "stream",
     "text": [
      "\u001b[32m[I 2023-02-01 15:44:33,419]\u001b[0m Trial 75 finished with value: 2.1983237898459937 and parameters: {'feature_fraction': 0.3065930140723785, 'num_leaves': 108, 'bagging_fraction': 0.5502982345527531, 'lambda_l1': 0.16314607434735937, 'lambda_l2': 1.8573957922533677e-05, 'n_estimators': 166, 'max_depth': 4}. Best is trial 53 with value: 2.1370071271725095.\u001b[0m\n"
     ]
    },
    {
     "name": "stdout",
     "output_type": "stream",
     "text": [
      "[LightGBM] [Warning] lambda_l1 is set=0.9164757008637899, reg_alpha=0.0 will be ignored. Current value: lambda_l1=0.9164757008637899\n",
      "[LightGBM] [Warning] bagging_fraction is set=0.47480599815049934, subsample=1.0 will be ignored. Current value: bagging_fraction=0.47480599815049934\n",
      "[LightGBM] [Warning] feature_fraction is set=0.27875964313849444, colsample_bytree=1.0 will be ignored. Current value: feature_fraction=0.27875964313849444\n",
      "[LightGBM] [Warning] lambda_l2 is set=3.730363105260249e-06, reg_lambda=0.0 will be ignored. Current value: lambda_l2=3.730363105260249e-06\n"
     ]
    },
    {
     "name": "stderr",
     "output_type": "stream",
     "text": [
      "\u001b[32m[I 2023-02-01 15:44:34,377]\u001b[0m Trial 76 finished with value: 2.201731732648217 and parameters: {'feature_fraction': 0.27875964313849444, 'num_leaves': 63, 'bagging_fraction': 0.47480599815049934, 'lambda_l1': 0.9164757008637899, 'lambda_l2': 3.730363105260249e-06, 'n_estimators': 240, 'max_depth': 4}. Best is trial 53 with value: 2.1370071271725095.\u001b[0m\n"
     ]
    },
    {
     "name": "stdout",
     "output_type": "stream",
     "text": [
      "[LightGBM] [Warning] lambda_l1 is set=0.0727730876643783, reg_alpha=0.0 will be ignored. Current value: lambda_l1=0.0727730876643783\n",
      "[LightGBM] [Warning] bagging_fraction is set=0.5270702587222498, subsample=1.0 will be ignored. Current value: bagging_fraction=0.5270702587222498\n",
      "[LightGBM] [Warning] feature_fraction is set=0.4143956651519603, colsample_bytree=1.0 will be ignored. Current value: feature_fraction=0.4143956651519603\n",
      "[LightGBM] [Warning] lambda_l2 is set=1.8207768983121097e-06, reg_lambda=0.0 will be ignored. Current value: lambda_l2=1.8207768983121097e-06\n"
     ]
    },
    {
     "name": "stderr",
     "output_type": "stream",
     "text": [
      "\u001b[32m[I 2023-02-01 15:44:35,837]\u001b[0m Trial 77 finished with value: 2.2359478276183005 and parameters: {'feature_fraction': 0.4143956651519603, 'num_leaves': 87, 'bagging_fraction': 0.5270702587222498, 'lambda_l1': 0.0727730876643783, 'lambda_l2': 1.8207768983121097e-06, 'n_estimators': 229, 'max_depth': 5}. Best is trial 53 with value: 2.1370071271725095.\u001b[0m\n"
     ]
    },
    {
     "name": "stdout",
     "output_type": "stream",
     "text": [
      "[LightGBM] [Warning] lambda_l1 is set=0.3422646596995974, reg_alpha=0.0 will be ignored. Current value: lambda_l1=0.3422646596995974\n",
      "[LightGBM] [Warning] bagging_fraction is set=0.5761400027114782, subsample=1.0 will be ignored. Current value: bagging_fraction=0.5761400027114782\n",
      "[LightGBM] [Warning] feature_fraction is set=0.3752930411053182, colsample_bytree=1.0 will be ignored. Current value: feature_fraction=0.3752930411053182\n",
      "[LightGBM] [Warning] lambda_l2 is set=6.167862287174903e-07, reg_lambda=0.0 will be ignored. Current value: lambda_l2=6.167862287174903e-07\n"
     ]
    },
    {
     "name": "stderr",
     "output_type": "stream",
     "text": [
      "\u001b[32m[I 2023-02-01 15:44:36,791]\u001b[0m Trial 78 finished with value: 2.2103138389337724 and parameters: {'feature_fraction': 0.3752930411053182, 'num_leaves': 47, 'bagging_fraction': 0.5761400027114782, 'lambda_l1': 0.3422646596995974, 'lambda_l2': 6.167862287174903e-07, 'n_estimators': 195, 'max_depth': 4}. Best is trial 53 with value: 2.1370071271725095.\u001b[0m\n"
     ]
    },
    {
     "name": "stdout",
     "output_type": "stream",
     "text": [
      "[LightGBM] [Warning] lambda_l1 is set=0.015525023566431956, reg_alpha=0.0 will be ignored. Current value: lambda_l1=0.015525023566431956\n",
      "[LightGBM] [Warning] bagging_fraction is set=0.6153906624611025, subsample=1.0 will be ignored. Current value: bagging_fraction=0.6153906624611025\n",
      "[LightGBM] [Warning] feature_fraction is set=0.2467148602034449, colsample_bytree=1.0 will be ignored. Current value: feature_fraction=0.2467148602034449\n",
      "[LightGBM] [Warning] lambda_l2 is set=3.2961080220920074e-05, reg_lambda=0.0 will be ignored. Current value: lambda_l2=3.2961080220920074e-05\n"
     ]
    },
    {
     "name": "stderr",
     "output_type": "stream",
     "text": [
      "\u001b[32m[I 2023-02-01 15:44:37,383]\u001b[0m Trial 79 finished with value: 2.2355515187365493 and parameters: {'feature_fraction': 0.2467148602034449, 'num_leaves': 101, 'bagging_fraction': 0.6153906624611025, 'lambda_l1': 0.015525023566431956, 'lambda_l2': 3.2961080220920074e-05, 'n_estimators': 175, 'max_depth': 3}. Best is trial 53 with value: 2.1370071271725095.\u001b[0m\n"
     ]
    },
    {
     "name": "stdout",
     "output_type": "stream",
     "text": [
      "[LightGBM] [Warning] lambda_l1 is set=1.9819777542654102, reg_alpha=0.0 will be ignored. Current value: lambda_l1=1.9819777542654102\n",
      "[LightGBM] [Warning] bagging_fraction is set=0.49278450407223384, subsample=1.0 will be ignored. Current value: bagging_fraction=0.49278450407223384\n",
      "[LightGBM] [Warning] feature_fraction is set=0.32486467508859745, colsample_bytree=1.0 will be ignored. Current value: feature_fraction=0.32486467508859745\n",
      "[LightGBM] [Warning] lambda_l2 is set=0.0001266676193427907, reg_lambda=0.0 will be ignored. Current value: lambda_l2=0.0001266676193427907\n"
     ]
    },
    {
     "name": "stderr",
     "output_type": "stream",
     "text": [
      "\u001b[32m[I 2023-02-01 15:44:38,506]\u001b[0m Trial 80 finished with value: 2.1764511186355717 and parameters: {'feature_fraction': 0.32486467508859745, 'num_leaves': 118, 'bagging_fraction': 0.49278450407223384, 'lambda_l1': 1.9819777542654102, 'lambda_l2': 0.0001266676193427907, 'n_estimators': 272, 'max_depth': 4}. Best is trial 53 with value: 2.1370071271725095.\u001b[0m\n"
     ]
    },
    {
     "name": "stdout",
     "output_type": "stream",
     "text": [
      "[LightGBM] [Warning] lambda_l1 is set=2.035588189313447, reg_alpha=0.0 will be ignored. Current value: lambda_l1=2.035588189313447\n",
      "[LightGBM] [Warning] bagging_fraction is set=0.49536079169289904, subsample=1.0 will be ignored. Current value: bagging_fraction=0.49536079169289904\n",
      "[LightGBM] [Warning] feature_fraction is set=0.3302939946812414, colsample_bytree=1.0 will be ignored. Current value: feature_fraction=0.3302939946812414\n",
      "[LightGBM] [Warning] lambda_l2 is set=8.76349449427684e-06, reg_lambda=0.0 will be ignored. Current value: lambda_l2=8.76349449427684e-06\n"
     ]
    },
    {
     "name": "stderr",
     "output_type": "stream",
     "text": [
      "\u001b[32m[I 2023-02-01 15:44:39,694]\u001b[0m Trial 81 finished with value: 2.1884982507526627 and parameters: {'feature_fraction': 0.3302939946812414, 'num_leaves': 116, 'bagging_fraction': 0.49536079169289904, 'lambda_l1': 2.035588189313447, 'lambda_l2': 8.76349449427684e-06, 'n_estimators': 287, 'max_depth': 4}. Best is trial 53 with value: 2.1370071271725095.\u001b[0m\n"
     ]
    },
    {
     "name": "stdout",
     "output_type": "stream",
     "text": [
      "[LightGBM] [Warning] lambda_l1 is set=1.823770286791717, reg_alpha=0.0 will be ignored. Current value: lambda_l1=1.823770286791717\n",
      "[LightGBM] [Warning] bagging_fraction is set=0.48639354815628, subsample=1.0 will be ignored. Current value: bagging_fraction=0.48639354815628\n",
      "[LightGBM] [Warning] feature_fraction is set=0.3223538891800877, colsample_bytree=1.0 will be ignored. Current value: feature_fraction=0.3223538891800877\n",
      "[LightGBM] [Warning] lambda_l2 is set=0.00011134753264426302, reg_lambda=0.0 will be ignored. Current value: lambda_l2=0.00011134753264426302\n"
     ]
    },
    {
     "name": "stderr",
     "output_type": "stream",
     "text": [
      "\u001b[32m[I 2023-02-01 15:44:40,851]\u001b[0m Trial 82 finished with value: 2.1828709667394524 and parameters: {'feature_fraction': 0.3223538891800877, 'num_leaves': 128, 'bagging_fraction': 0.48639354815628, 'lambda_l1': 1.823770286791717, 'lambda_l2': 0.00011134753264426302, 'n_estimators': 286, 'max_depth': 4}. Best is trial 53 with value: 2.1370071271725095.\u001b[0m\n"
     ]
    },
    {
     "name": "stdout",
     "output_type": "stream",
     "text": [
      "[LightGBM] [Warning] lambda_l1 is set=2.194083799873337, reg_alpha=0.0 will be ignored. Current value: lambda_l1=2.194083799873337\n",
      "[LightGBM] [Warning] bagging_fraction is set=0.4944874808531076, subsample=1.0 will be ignored. Current value: bagging_fraction=0.4944874808531076\n",
      "[LightGBM] [Warning] feature_fraction is set=0.33247977705262144, colsample_bytree=1.0 will be ignored. Current value: feature_fraction=0.33247977705262144\n",
      "[LightGBM] [Warning] lambda_l2 is set=0.00011295888563706475, reg_lambda=0.0 will be ignored. Current value: lambda_l2=0.00011295888563706475\n"
     ]
    },
    {
     "name": "stderr",
     "output_type": "stream",
     "text": [
      "\u001b[32m[I 2023-02-01 15:44:42,048]\u001b[0m Trial 83 finished with value: 2.2068733788347012 and parameters: {'feature_fraction': 0.33247977705262144, 'num_leaves': 120, 'bagging_fraction': 0.4944874808531076, 'lambda_l1': 2.194083799873337, 'lambda_l2': 0.00011295888563706475, 'n_estimators': 286, 'max_depth': 4}. Best is trial 53 with value: 2.1370071271725095.\u001b[0m\n"
     ]
    },
    {
     "name": "stdout",
     "output_type": "stream",
     "text": [
      "[LightGBM] [Warning] lambda_l1 is set=3.8519337396086004, reg_alpha=0.0 will be ignored. Current value: lambda_l1=3.8519337396086004\n",
      "[LightGBM] [Warning] bagging_fraction is set=0.48384064593488596, subsample=1.0 will be ignored. Current value: bagging_fraction=0.48384064593488596\n",
      "[LightGBM] [Warning] feature_fraction is set=0.30646808956927274, colsample_bytree=1.0 will be ignored. Current value: feature_fraction=0.30646808956927274\n",
      "[LightGBM] [Warning] lambda_l2 is set=6.696508424620266e-05, reg_lambda=0.0 will be ignored. Current value: lambda_l2=6.696508424620266e-05\n"
     ]
    },
    {
     "name": "stderr",
     "output_type": "stream",
     "text": [
      "\u001b[32m[I 2023-02-01 15:44:43,100]\u001b[0m Trial 84 finished with value: 2.210427194755471 and parameters: {'feature_fraction': 0.30646808956927274, 'num_leaves': 129, 'bagging_fraction': 0.48384064593488596, 'lambda_l1': 3.8519337396086004, 'lambda_l2': 6.696508424620266e-05, 'n_estimators': 257, 'max_depth': 4}. Best is trial 53 with value: 2.1370071271725095.\u001b[0m\n"
     ]
    },
    {
     "name": "stdout",
     "output_type": "stream",
     "text": [
      "[LightGBM] [Warning] lambda_l1 is set=9.222093607847688, reg_alpha=0.0 will be ignored. Current value: lambda_l1=9.222093607847688\n",
      "[LightGBM] [Warning] bagging_fraction is set=0.45662014519237, subsample=1.0 will be ignored. Current value: bagging_fraction=0.45662014519237\n",
      "[LightGBM] [Warning] feature_fraction is set=0.2191342060865723, colsample_bytree=1.0 will be ignored. Current value: feature_fraction=0.2191342060865723\n",
      "[LightGBM] [Warning] lambda_l2 is set=0.00025523055091211216, reg_lambda=0.0 will be ignored. Current value: lambda_l2=0.00025523055091211216\n"
     ]
    },
    {
     "name": "stderr",
     "output_type": "stream",
     "text": [
      "\u001b[32m[I 2023-02-01 15:44:44,065]\u001b[0m Trial 85 finished with value: 2.175103460714254 and parameters: {'feature_fraction': 0.2191342060865723, 'num_leaves': 115, 'bagging_fraction': 0.45662014519237, 'lambda_l1': 9.222093607847688, 'lambda_l2': 0.00025523055091211216, 'n_estimators': 273, 'max_depth': 4}. Best is trial 53 with value: 2.1370071271725095.\u001b[0m\n"
     ]
    },
    {
     "name": "stdout",
     "output_type": "stream",
     "text": [
      "[LightGBM] [Warning] lambda_l1 is set=9.603805434320572, reg_alpha=0.0 will be ignored. Current value: lambda_l1=9.603805434320572\n",
      "[LightGBM] [Warning] bagging_fraction is set=0.4658738494588667, subsample=1.0 will be ignored. Current value: bagging_fraction=0.4658738494588667\n",
      "[LightGBM] [Warning] feature_fraction is set=0.21507592147241675, colsample_bytree=1.0 will be ignored. Current value: feature_fraction=0.21507592147241675\n",
      "[LightGBM] [Warning] lambda_l2 is set=0.0003433224068290312, reg_lambda=0.0 will be ignored. Current value: lambda_l2=0.0003433224068290312\n"
     ]
    },
    {
     "name": "stderr",
     "output_type": "stream",
     "text": [
      "\u001b[32m[I 2023-02-01 15:44:45,032]\u001b[0m Trial 86 finished with value: 2.1767305142415987 and parameters: {'feature_fraction': 0.21507592147241675, 'num_leaves': 116, 'bagging_fraction': 0.4658738494588667, 'lambda_l1': 9.603805434320572, 'lambda_l2': 0.0003433224068290312, 'n_estimators': 277, 'max_depth': 4}. Best is trial 53 with value: 2.1370071271725095.\u001b[0m\n"
     ]
    },
    {
     "name": "stdout",
     "output_type": "stream",
     "text": [
      "[LightGBM] [Warning] lambda_l1 is set=6.950333540774718, reg_alpha=0.0 will be ignored. Current value: lambda_l1=6.950333540774718\n",
      "[LightGBM] [Warning] bagging_fraction is set=0.4658774613660376, subsample=1.0 will be ignored. Current value: bagging_fraction=0.4658774613660376\n",
      "[LightGBM] [Warning] feature_fraction is set=0.21862893767415695, colsample_bytree=1.0 will be ignored. Current value: feature_fraction=0.21862893767415695\n",
      "[LightGBM] [Warning] lambda_l2 is set=0.0004215366415500133, reg_lambda=0.0 will be ignored. Current value: lambda_l2=0.0004215366415500133\n"
     ]
    },
    {
     "name": "stderr",
     "output_type": "stream",
     "text": [
      "\u001b[32m[I 2023-02-01 15:44:45,987]\u001b[0m Trial 87 finished with value: 2.16222135100326 and parameters: {'feature_fraction': 0.21862893767415695, 'num_leaves': 140, 'bagging_fraction': 0.4658774613660376, 'lambda_l1': 6.950333540774718, 'lambda_l2': 0.0004215366415500133, 'n_estimators': 274, 'max_depth': 4}. Best is trial 53 with value: 2.1370071271725095.\u001b[0m\n"
     ]
    },
    {
     "name": "stdout",
     "output_type": "stream",
     "text": [
      "[LightGBM] [Warning] lambda_l1 is set=9.60858027158282, reg_alpha=0.0 will be ignored. Current value: lambda_l1=9.60858027158282\n",
      "[LightGBM] [Warning] bagging_fraction is set=0.4209927332540314, subsample=1.0 will be ignored. Current value: bagging_fraction=0.4209927332540314\n",
      "[LightGBM] [Warning] feature_fraction is set=0.16635728999103305, colsample_bytree=1.0 will be ignored. Current value: feature_fraction=0.16635728999103305\n",
      "[LightGBM] [Warning] lambda_l2 is set=0.0006857125422230353, reg_lambda=0.0 will be ignored. Current value: lambda_l2=0.0006857125422230353\n"
     ]
    },
    {
     "name": "stderr",
     "output_type": "stream",
     "text": [
      "\u001b[32m[I 2023-02-01 15:44:46,860]\u001b[0m Trial 88 finished with value: 2.192301599723338 and parameters: {'feature_fraction': 0.16635728999103305, 'num_leaves': 129, 'bagging_fraction': 0.4209927332540314, 'lambda_l1': 9.60858027158282, 'lambda_l2': 0.0006857125422230353, 'n_estimators': 275, 'max_depth': 4}. Best is trial 53 with value: 2.1370071271725095.\u001b[0m\n"
     ]
    },
    {
     "name": "stdout",
     "output_type": "stream",
     "text": [
      "[LightGBM] [Warning] lambda_l1 is set=6.247850340028966, reg_alpha=0.0 will be ignored. Current value: lambda_l1=6.247850340028966\n",
      "[LightGBM] [Warning] bagging_fraction is set=0.4639688795494561, subsample=1.0 will be ignored. Current value: bagging_fraction=0.4639688795494561\n",
      "[LightGBM] [Warning] feature_fraction is set=0.20876285716396215, colsample_bytree=1.0 will be ignored. Current value: feature_fraction=0.20876285716396215\n",
      "[LightGBM] [Warning] lambda_l2 is set=0.00018100058873810052, reg_lambda=0.0 will be ignored. Current value: lambda_l2=0.00018100058873810052\n"
     ]
    },
    {
     "name": "stderr",
     "output_type": "stream",
     "text": [
      "\u001b[32m[I 2023-02-01 15:44:47,795]\u001b[0m Trial 89 finished with value: 2.270467777273997 and parameters: {'feature_fraction': 0.20876285716396215, 'num_leaves': 139, 'bagging_fraction': 0.4639688795494561, 'lambda_l1': 6.247850340028966, 'lambda_l2': 0.00018100058873810052, 'n_estimators': 272, 'max_depth': 4}. Best is trial 53 with value: 2.1370071271725095.\u001b[0m\n"
     ]
    },
    {
     "name": "stdout",
     "output_type": "stream",
     "text": [
      "[LightGBM] [Warning] lambda_l1 is set=3.3155923279373907, reg_alpha=0.0 will be ignored. Current value: lambda_l1=3.3155923279373907\n",
      "[LightGBM] [Warning] bagging_fraction is set=0.44987157425662505, subsample=1.0 will be ignored. Current value: bagging_fraction=0.44987157425662505\n",
      "[LightGBM] [Warning] feature_fraction is set=0.18733259093456245, colsample_bytree=1.0 will be ignored. Current value: feature_fraction=0.18733259093456245\n",
      "[LightGBM] [Warning] lambda_l2 is set=0.00048672615862086025, reg_lambda=0.0 will be ignored. Current value: lambda_l2=0.00048672615862086025\n"
     ]
    },
    {
     "name": "stderr",
     "output_type": "stream",
     "text": [
      "\u001b[32m[I 2023-02-01 15:44:48,669]\u001b[0m Trial 90 finished with value: 2.2332098242996503 and parameters: {'feature_fraction': 0.18733259093456245, 'num_leaves': 160, 'bagging_fraction': 0.44987157425662505, 'lambda_l1': 3.3155923279373907, 'lambda_l2': 0.00048672615862086025, 'n_estimators': 265, 'max_depth': 4}. Best is trial 53 with value: 2.1370071271725095.\u001b[0m\n"
     ]
    },
    {
     "name": "stdout",
     "output_type": "stream",
     "text": [
      "[LightGBM] [Warning] lambda_l1 is set=8.321516293176566, reg_alpha=0.0 will be ignored. Current value: lambda_l1=8.321516293176566\n",
      "[LightGBM] [Warning] bagging_fraction is set=0.46700528382218054, subsample=1.0 will be ignored. Current value: bagging_fraction=0.46700528382218054\n",
      "[LightGBM] [Warning] feature_fraction is set=0.2343148411722751, colsample_bytree=1.0 will be ignored. Current value: feature_fraction=0.2343148411722751\n",
      "[LightGBM] [Warning] lambda_l2 is set=0.0017346214860924469, reg_lambda=0.0 will be ignored. Current value: lambda_l2=0.0017346214860924469\n"
     ]
    },
    {
     "name": "stderr",
     "output_type": "stream",
     "text": [
      "\u001b[32m[I 2023-02-01 15:44:49,718]\u001b[0m Trial 91 finished with value: 2.2287808326546763 and parameters: {'feature_fraction': 0.2343148411722751, 'num_leaves': 146, 'bagging_fraction': 0.46700528382218054, 'lambda_l1': 8.321516293176566, 'lambda_l2': 0.0017346214860924469, 'n_estimators': 293, 'max_depth': 4}. Best is trial 53 with value: 2.1370071271725095.\u001b[0m\n"
     ]
    },
    {
     "name": "stdout",
     "output_type": "stream",
     "text": [
      "[LightGBM] [Warning] lambda_l1 is set=6.0805766441656575, reg_alpha=0.0 will be ignored. Current value: lambda_l1=6.0805766441656575\n",
      "[LightGBM] [Warning] bagging_fraction is set=0.44385468205209355, subsample=1.0 will be ignored. Current value: bagging_fraction=0.44385468205209355\n",
      "[LightGBM] [Warning] feature_fraction is set=0.2621603031151436, colsample_bytree=1.0 will be ignored. Current value: feature_fraction=0.2621603031151436\n",
      "[LightGBM] [Warning] lambda_l2 is set=0.0002448538327431715, reg_lambda=0.0 will be ignored. Current value: lambda_l2=0.0002448538327431715\n"
     ]
    },
    {
     "name": "stderr",
     "output_type": "stream",
     "text": [
      "\u001b[32m[I 2023-02-01 15:44:50,787]\u001b[0m Trial 92 finished with value: 2.2344179924726526 and parameters: {'feature_fraction': 0.2621603031151436, 'num_leaves': 109, 'bagging_fraction': 0.44385468205209355, 'lambda_l1': 6.0805766441656575, 'lambda_l2': 0.0002448538327431715, 'n_estimators': 283, 'max_depth': 4}. Best is trial 53 with value: 2.1370071271725095.\u001b[0m\n"
     ]
    },
    {
     "name": "stdout",
     "output_type": "stream",
     "text": [
      "[LightGBM] [Warning] lambda_l1 is set=1.483254122777375, reg_alpha=0.0 will be ignored. Current value: lambda_l1=1.483254122777375\n",
      "[LightGBM] [Warning] bagging_fraction is set=0.4794528205562898, subsample=1.0 will be ignored. Current value: bagging_fraction=0.4794528205562898\n",
      "[LightGBM] [Warning] feature_fraction is set=0.14480183432182728, colsample_bytree=1.0 will be ignored. Current value: feature_fraction=0.14480183432182728\n",
      "[LightGBM] [Warning] lambda_l2 is set=0.00014497837837333763, reg_lambda=0.0 will be ignored. Current value: lambda_l2=0.00014497837837333763\n"
     ]
    },
    {
     "name": "stderr",
     "output_type": "stream",
     "text": [
      "\u001b[32m[I 2023-02-01 15:44:51,548]\u001b[0m Trial 93 finished with value: 2.218412875941983 and parameters: {'feature_fraction': 0.14480183432182728, 'num_leaves': 120, 'bagging_fraction': 0.4794528205562898, 'lambda_l1': 1.483254122777375, 'lambda_l2': 0.00014497837837333763, 'n_estimators': 255, 'max_depth': 4}. Best is trial 53 with value: 2.1370071271725095.\u001b[0m\n"
     ]
    },
    {
     "name": "stdout",
     "output_type": "stream",
     "text": [
      "[LightGBM] [Warning] lambda_l1 is set=3.1230445241945883, reg_alpha=0.0 will be ignored. Current value: lambda_l1=3.1230445241945883\n",
      "[LightGBM] [Warning] bagging_fraction is set=0.46233792833034515, subsample=1.0 will be ignored. Current value: bagging_fraction=0.46233792833034515\n",
      "[LightGBM] [Warning] feature_fraction is set=0.21766323169622198, colsample_bytree=1.0 will be ignored. Current value: feature_fraction=0.21766323169622198\n",
      "[LightGBM] [Warning] lambda_l2 is set=8.389206184651699e-05, reg_lambda=0.0 will be ignored. Current value: lambda_l2=8.389206184651699e-05\n"
     ]
    },
    {
     "name": "stderr",
     "output_type": "stream",
     "text": [
      "\u001b[32m[I 2023-02-01 15:44:52,498]\u001b[0m Trial 94 finished with value: 2.160728979449148 and parameters: {'feature_fraction': 0.21766323169622198, 'num_leaves': 133, 'bagging_fraction': 0.46233792833034515, 'lambda_l1': 3.1230445241945883, 'lambda_l2': 8.389206184651699e-05, 'n_estimators': 278, 'max_depth': 4}. Best is trial 53 with value: 2.1370071271725095.\u001b[0m\n"
     ]
    },
    {
     "name": "stdout",
     "output_type": "stream",
     "text": [
      "[LightGBM] [Warning] lambda_l1 is set=3.078377912227542, reg_alpha=0.0 will be ignored. Current value: lambda_l1=3.078377912227542\n",
      "[LightGBM] [Warning] bagging_fraction is set=0.4573011216711282, subsample=1.0 will be ignored. Current value: bagging_fraction=0.4573011216711282\n",
      "[LightGBM] [Warning] feature_fraction is set=0.20858385515816025, colsample_bytree=1.0 will be ignored. Current value: feature_fraction=0.20858385515816025\n",
      "[LightGBM] [Warning] lambda_l2 is set=0.0001274582146736146, reg_lambda=0.0 will be ignored. Current value: lambda_l2=0.0001274582146736146\n"
     ]
    },
    {
     "name": "stderr",
     "output_type": "stream",
     "text": [
      "\u001b[32m[I 2023-02-01 15:44:53,416]\u001b[0m Trial 95 finished with value: 2.262324559543614 and parameters: {'feature_fraction': 0.20858385515816025, 'num_leaves': 133, 'bagging_fraction': 0.4573011216711282, 'lambda_l1': 3.078377912227542, 'lambda_l2': 0.0001274582146736146, 'n_estimators': 269, 'max_depth': 4}. Best is trial 53 with value: 2.1370071271725095.\u001b[0m\n"
     ]
    },
    {
     "name": "stdout",
     "output_type": "stream",
     "text": [
      "[LightGBM] [Warning] lambda_l1 is set=5.1059983496781385, reg_alpha=0.0 will be ignored. Current value: lambda_l1=5.1059983496781385\n",
      "[LightGBM] [Warning] bagging_fraction is set=0.43711134770229065, subsample=1.0 will be ignored. Current value: bagging_fraction=0.43711134770229065\n",
      "[LightGBM] [Warning] feature_fraction is set=0.12256608848110764, colsample_bytree=1.0 will be ignored. Current value: feature_fraction=0.12256608848110764\n",
      "[LightGBM] [Warning] lambda_l2 is set=0.00039184676529018073, reg_lambda=0.0 will be ignored. Current value: lambda_l2=0.00039184676529018073\n"
     ]
    },
    {
     "name": "stderr",
     "output_type": "stream",
     "text": [
      "\u001b[32m[I 2023-02-01 15:44:54,200]\u001b[0m Trial 96 finished with value: 2.2310153640777264 and parameters: {'feature_fraction': 0.12256608848110764, 'num_leaves': 152, 'bagging_fraction': 0.43711134770229065, 'lambda_l1': 5.1059983496781385, 'lambda_l2': 0.00039184676529018073, 'n_estimators': 280, 'max_depth': 4}. Best is trial 53 with value: 2.1370071271725095.\u001b[0m\n"
     ]
    },
    {
     "name": "stdout",
     "output_type": "stream",
     "text": [
      "[LightGBM] [Warning] lambda_l1 is set=1.2399050790007584, reg_alpha=0.0 will be ignored. Current value: lambda_l1=1.2399050790007584\n",
      "[LightGBM] [Warning] bagging_fraction is set=0.4139604438641296, subsample=1.0 will be ignored. Current value: bagging_fraction=0.4139604438641296\n",
      "[LightGBM] [Warning] feature_fraction is set=0.17574349265519118, colsample_bytree=1.0 will be ignored. Current value: feature_fraction=0.17574349265519118\n",
      "[LightGBM] [Warning] lambda_l2 is set=0.0002224292892662754, reg_lambda=0.0 will be ignored. Current value: lambda_l2=0.0002224292892662754\n"
     ]
    },
    {
     "name": "stderr",
     "output_type": "stream",
     "text": [
      "\u001b[32m[I 2023-02-01 15:44:55,295]\u001b[0m Trial 97 finished with value: 2.235003954142711 and parameters: {'feature_fraction': 0.17574349265519118, 'num_leaves': 124, 'bagging_fraction': 0.4139604438641296, 'lambda_l1': 1.2399050790007584, 'lambda_l2': 0.0002224292892662754, 'n_estimators': 249, 'max_depth': 5}. Best is trial 53 with value: 2.1370071271725095.\u001b[0m\n"
     ]
    },
    {
     "name": "stdout",
     "output_type": "stream",
     "text": [
      "[LightGBM] [Warning] lambda_l1 is set=2.3502114580153233, reg_alpha=0.0 will be ignored. Current value: lambda_l1=2.3502114580153233\n",
      "[LightGBM] [Warning] bagging_fraction is set=0.5041844283443783, subsample=1.0 will be ignored. Current value: bagging_fraction=0.5041844283443783\n",
      "[LightGBM] [Warning] feature_fraction is set=0.22246194229307664, colsample_bytree=1.0 will be ignored. Current value: feature_fraction=0.22246194229307664\n",
      "[LightGBM] [Warning] lambda_l2 is set=9.676548686949108e-05, reg_lambda=0.0 will be ignored. Current value: lambda_l2=9.676548686949108e-05\n"
     ]
    },
    {
     "name": "stderr",
     "output_type": "stream",
     "text": [
      "\u001b[32m[I 2023-02-01 15:44:56,224]\u001b[0m Trial 98 finished with value: 2.231612559001524 and parameters: {'feature_fraction': 0.22246194229307664, 'num_leaves': 143, 'bagging_fraction': 0.5041844283443783, 'lambda_l1': 2.3502114580153233, 'lambda_l2': 9.676548686949108e-05, 'n_estimators': 263, 'max_depth': 4}. Best is trial 53 with value: 2.1370071271725095.\u001b[0m\n"
     ]
    },
    {
     "name": "stdout",
     "output_type": "stream",
     "text": [
      "[LightGBM] [Warning] lambda_l1 is set=3.5660921654444366, reg_alpha=0.0 will be ignored. Current value: lambda_l1=3.5660921654444366\n",
      "[LightGBM] [Warning] bagging_fraction is set=0.43254448189295225, subsample=1.0 will be ignored. Current value: bagging_fraction=0.43254448189295225\n",
      "[LightGBM] [Warning] feature_fraction is set=0.24731173691667813, colsample_bytree=1.0 will be ignored. Current value: feature_fraction=0.24731173691667813\n",
      "[LightGBM] [Warning] lambda_l2 is set=5.8048659289168856e-05, reg_lambda=0.0 will be ignored. Current value: lambda_l2=5.8048659289168856e-05\n"
     ]
    },
    {
     "name": "stderr",
     "output_type": "stream",
     "text": [
      "\u001b[32m[I 2023-02-01 15:44:57,592]\u001b[0m Trial 99 finished with value: 2.2268583691359365 and parameters: {'feature_fraction': 0.24731173691667813, 'num_leaves': 113, 'bagging_fraction': 0.43254448189295225, 'lambda_l1': 3.5660921654444366, 'lambda_l2': 5.8048659289168856e-05, 'n_estimators': 292, 'max_depth': 5}. Best is trial 53 with value: 2.1370071271725095.\u001b[0m\n"
     ]
    },
    {
     "name": "stdout",
     "output_type": "stream",
     "text": [
      "[LightGBM] [Warning] lambda_l1 is set=6.531604770250196, reg_alpha=0.0 will be ignored. Current value: lambda_l1=6.531604770250196\n",
      "[LightGBM] [Warning] bagging_fraction is set=0.48056014483324017, subsample=1.0 will be ignored. Current value: bagging_fraction=0.48056014483324017\n",
      "[LightGBM] [Warning] feature_fraction is set=0.15802622019611018, colsample_bytree=1.0 will be ignored. Current value: feature_fraction=0.15802622019611018\n",
      "[LightGBM] [Warning] lambda_l2 is set=0.0003057212936106885, reg_lambda=0.0 will be ignored. Current value: lambda_l2=0.0003057212936106885\n"
     ]
    },
    {
     "name": "stderr",
     "output_type": "stream",
     "text": [
      "\u001b[32m[I 2023-02-01 15:44:58,435]\u001b[0m Trial 100 finished with value: 2.2314290011235838 and parameters: {'feature_fraction': 0.15802622019611018, 'num_leaves': 136, 'bagging_fraction': 0.48056014483324017, 'lambda_l1': 6.531604770250196, 'lambda_l2': 0.0003057212936106885, 'n_estimators': 269, 'max_depth': 4}. Best is trial 53 with value: 2.1370071271725095.\u001b[0m\n"
     ]
    },
    {
     "name": "stdout",
     "output_type": "stream",
     "text": [
      "[LightGBM] [Warning] lambda_l1 is set=0.9191078658528604, reg_alpha=0.0 will be ignored. Current value: lambda_l1=0.9191078658528604\n",
      "[LightGBM] [Warning] bagging_fraction is set=0.5184255387320263, subsample=1.0 will be ignored. Current value: bagging_fraction=0.5184255387320263\n",
      "[LightGBM] [Warning] feature_fraction is set=0.18919313954035377, colsample_bytree=1.0 will be ignored. Current value: feature_fraction=0.18919313954035377\n",
      "[LightGBM] [Warning] lambda_l2 is set=3.982949458586591e-05, reg_lambda=0.0 will be ignored. Current value: lambda_l2=3.982949458586591e-05\n"
     ]
    },
    {
     "name": "stderr",
     "output_type": "stream",
     "text": [
      "\u001b[32m[I 2023-02-01 15:44:59,322]\u001b[0m Trial 101 finished with value: 2.263871405862789 and parameters: {'feature_fraction': 0.18919313954035377, 'num_leaves': 107, 'bagging_fraction': 0.5184255387320263, 'lambda_l1': 0.9191078658528604, 'lambda_l2': 3.982949458586591e-05, 'n_estimators': 279, 'max_depth': 4}. Best is trial 53 with value: 2.1370071271725095.\u001b[0m\n"
     ]
    },
    {
     "name": "stdout",
     "output_type": "stream",
     "text": [
      "[LightGBM] [Warning] lambda_l1 is set=1.6553511384274584, reg_alpha=0.0 will be ignored. Current value: lambda_l1=1.6553511384274584\n",
      "[LightGBM] [Warning] bagging_fraction is set=0.4628838657923257, subsample=1.0 will be ignored. Current value: bagging_fraction=0.4628838657923257\n",
      "[LightGBM] [Warning] feature_fraction is set=0.2751308993042232, colsample_bytree=1.0 will be ignored. Current value: feature_fraction=0.2751308993042232\n",
      "[LightGBM] [Warning] lambda_l2 is set=0.00016823177178294278, reg_lambda=0.0 will be ignored. Current value: lambda_l2=0.00016823177178294278\n"
     ]
    },
    {
     "name": "stderr",
     "output_type": "stream",
     "text": [
      "\u001b[32m[I 2023-02-01 15:45:00,402]\u001b[0m Trial 102 finished with value: 2.189810132356078 and parameters: {'feature_fraction': 0.2751308993042232, 'num_leaves': 93, 'bagging_fraction': 0.4628838657923257, 'lambda_l1': 1.6553511384274584, 'lambda_l2': 0.00016823177178294278, 'n_estimators': 290, 'max_depth': 4}. Best is trial 53 with value: 2.1370071271725095.\u001b[0m\n"
     ]
    },
    {
     "name": "stdout",
     "output_type": "stream",
     "text": [
      "[LightGBM] [Warning] lambda_l1 is set=0.6719368159890201, reg_alpha=0.0 will be ignored. Current value: lambda_l1=0.6719368159890201\n",
      "[LightGBM] [Warning] bagging_fraction is set=0.44755738587844895, subsample=1.0 will be ignored. Current value: bagging_fraction=0.44755738587844895\n",
      "[LightGBM] [Warning] feature_fraction is set=0.22430409235753412, colsample_bytree=1.0 will be ignored. Current value: feature_fraction=0.22430409235753412\n",
      "[LightGBM] [Warning] lambda_l2 is set=9.077080005288717e-05, reg_lambda=0.0 will be ignored. Current value: lambda_l2=9.077080005288717e-05\n"
     ]
    },
    {
     "name": "stderr",
     "output_type": "stream",
     "text": [
      "\u001b[32m[I 2023-02-01 15:45:01,407]\u001b[0m Trial 103 finished with value: 2.222094741958577 and parameters: {'feature_fraction': 0.22430409235753412, 'num_leaves': 117, 'bagging_fraction': 0.44755738587844895, 'lambda_l1': 0.6719368159890201, 'lambda_l2': 9.077080005288717e-05, 'n_estimators': 296, 'max_depth': 4}. Best is trial 53 with value: 2.1370071271725095.\u001b[0m\n"
     ]
    },
    {
     "name": "stdout",
     "output_type": "stream",
     "text": [
      "[LightGBM] [Warning] lambda_l1 is set=8.112034682484776, reg_alpha=0.0 will be ignored. Current value: lambda_l1=8.112034682484776\n",
      "[LightGBM] [Warning] bagging_fraction is set=0.5077757375968133, subsample=1.0 will be ignored. Current value: bagging_fraction=0.5077757375968133\n",
      "[LightGBM] [Warning] feature_fraction is set=0.2662681143263841, colsample_bytree=1.0 will be ignored. Current value: feature_fraction=0.2662681143263841\n",
      "[LightGBM] [Warning] lambda_l2 is set=0.0005566206631267796, reg_lambda=0.0 will be ignored. Current value: lambda_l2=0.0005566206631267796\n"
     ]
    },
    {
     "name": "stderr",
     "output_type": "stream",
     "text": [
      "\u001b[32m[I 2023-02-01 15:45:02,388]\u001b[0m Trial 104 finished with value: 2.2251573845618307 and parameters: {'feature_fraction': 0.2662681143263841, 'num_leaves': 127, 'bagging_fraction': 0.5077757375968133, 'lambda_l1': 8.112034682484776, 'lambda_l2': 0.0005566206631267796, 'n_estimators': 247, 'max_depth': 4}. Best is trial 53 with value: 2.1370071271725095.\u001b[0m\n"
     ]
    },
    {
     "name": "stdout",
     "output_type": "stream",
     "text": [
      "[LightGBM] [Warning] lambda_l1 is set=4.640269477622757, reg_alpha=0.0 will be ignored. Current value: lambda_l1=4.640269477622757\n",
      "[LightGBM] [Warning] bagging_fraction is set=0.4715136789622746, subsample=1.0 will be ignored. Current value: bagging_fraction=0.4715136789622746\n",
      "[LightGBM] [Warning] feature_fraction is set=0.3026862968197995, colsample_bytree=1.0 will be ignored. Current value: feature_fraction=0.3026862968197995\n",
      "[LightGBM] [Warning] lambda_l2 is set=0.0013838578126275497, reg_lambda=0.0 will be ignored. Current value: lambda_l2=0.0013838578126275497\n"
     ]
    },
    {
     "name": "stderr",
     "output_type": "stream",
     "text": [
      "\u001b[32m[I 2023-02-01 15:45:03,452]\u001b[0m Trial 105 finished with value: 2.180425455646406 and parameters: {'feature_fraction': 0.3026862968197995, 'num_leaves': 104, 'bagging_fraction': 0.4715136789622746, 'lambda_l1': 4.640269477622757, 'lambda_l2': 0.0013838578126275497, 'n_estimators': 259, 'max_depth': 4}. Best is trial 53 with value: 2.1370071271725095.\u001b[0m\n"
     ]
    },
    {
     "name": "stdout",
     "output_type": "stream",
     "text": [
      "[LightGBM] [Warning] lambda_l1 is set=4.450542728529625, reg_alpha=0.0 will be ignored. Current value: lambda_l1=4.450542728529625\n",
      "[LightGBM] [Warning] bagging_fraction is set=0.4703673023702469, subsample=1.0 will be ignored. Current value: bagging_fraction=0.4703673023702469\n",
      "[LightGBM] [Warning] feature_fraction is set=0.247020755540069, colsample_bytree=1.0 will be ignored. Current value: feature_fraction=0.247020755540069\n",
      "[LightGBM] [Warning] lambda_l2 is set=0.0014246694768042698, reg_lambda=0.0 will be ignored. Current value: lambda_l2=0.0014246694768042698\n"
     ]
    },
    {
     "name": "stderr",
     "output_type": "stream",
     "text": [
      "\u001b[32m[I 2023-02-01 15:45:04,412]\u001b[0m Trial 106 finished with value: 2.211756375087716 and parameters: {'feature_fraction': 0.247020755540069, 'num_leaves': 122, 'bagging_fraction': 0.4703673023702469, 'lambda_l1': 4.450542728529625, 'lambda_l2': 0.0014246694768042698, 'n_estimators': 259, 'max_depth': 4}. Best is trial 53 with value: 2.1370071271725095.\u001b[0m\n"
     ]
    },
    {
     "name": "stdout",
     "output_type": "stream",
     "text": [
      "[LightGBM] [Warning] lambda_l1 is set=9.387093969913561, reg_alpha=0.0 will be ignored. Current value: lambda_l1=9.387093969913561\n",
      "[LightGBM] [Warning] bagging_fraction is set=0.4874008067048285, subsample=1.0 will be ignored. Current value: bagging_fraction=0.4874008067048285\n",
      "[LightGBM] [Warning] feature_fraction is set=0.21160823944538187, colsample_bytree=1.0 will be ignored. Current value: feature_fraction=0.21160823944538187\n",
      "[LightGBM] [Warning] lambda_l2 is set=0.0003161957274160062, reg_lambda=0.0 will be ignored. Current value: lambda_l2=0.0003161957274160062\n"
     ]
    },
    {
     "name": "stderr",
     "output_type": "stream",
     "text": [
      "\u001b[32m[I 2023-02-01 15:45:05,361]\u001b[0m Trial 107 finished with value: 2.2437838613551557 and parameters: {'feature_fraction': 0.21160823944538187, 'num_leaves': 105, 'bagging_fraction': 0.4874008067048285, 'lambda_l1': 9.387093969913561, 'lambda_l2': 0.0003161957274160062, 'n_estimators': 273, 'max_depth': 4}. Best is trial 53 with value: 2.1370071271725095.\u001b[0m\n"
     ]
    },
    {
     "name": "stdout",
     "output_type": "stream",
     "text": [
      "[LightGBM] [Warning] lambda_l1 is set=3.438271595670502, reg_alpha=0.0 will be ignored. Current value: lambda_l1=3.438271595670502\n",
      "[LightGBM] [Warning] bagging_fraction is set=0.4558695568478831, subsample=1.0 will be ignored. Current value: bagging_fraction=0.4558695568478831\n",
      "[LightGBM] [Warning] feature_fraction is set=0.28758338351378954, colsample_bytree=1.0 will be ignored. Current value: feature_fraction=0.28758338351378954\n",
      "[LightGBM] [Warning] lambda_l2 is set=0.0029550460838836325, reg_lambda=0.0 will be ignored. Current value: lambda_l2=0.0029550460838836325\n"
     ]
    },
    {
     "name": "stderr",
     "output_type": "stream",
     "text": [
      "\u001b[32m[I 2023-02-01 15:45:06,890]\u001b[0m Trial 108 finished with value: 2.18657183957807 and parameters: {'feature_fraction': 0.28758338351378954, 'num_leaves': 134, 'bagging_fraction': 0.4558695568478831, 'lambda_l1': 3.438271595670502, 'lambda_l2': 0.0029550460838836325, 'n_estimators': 300, 'max_depth': 5}. Best is trial 53 with value: 2.1370071271725095.\u001b[0m\n"
     ]
    },
    {
     "name": "stdout",
     "output_type": "stream",
     "text": [
      "[LightGBM] [Warning] lambda_l1 is set=1.5166778542526433, reg_alpha=0.0 will be ignored. Current value: lambda_l1=1.5166778542526433\n",
      "[LightGBM] [Warning] bagging_fraction is set=0.41103500748827404, subsample=1.0 will be ignored. Current value: bagging_fraction=0.41103500748827404\n",
      "[LightGBM] [Warning] feature_fraction is set=0.18592326960980857, colsample_bytree=1.0 will be ignored. Current value: feature_fraction=0.18592326960980857\n",
      "[LightGBM] [Warning] lambda_l2 is set=0.0012389295293684097, reg_lambda=0.0 will be ignored. Current value: lambda_l2=0.0012389295293684097\n"
     ]
    },
    {
     "name": "stderr",
     "output_type": "stream",
     "text": [
      "\u001b[32m[I 2023-02-01 15:45:07,790]\u001b[0m Trial 109 finished with value: 2.241052622588523 and parameters: {'feature_fraction': 0.18592326960980857, 'num_leaves': 79, 'bagging_fraction': 0.41103500748827404, 'lambda_l1': 1.5166778542526433, 'lambda_l2': 0.0012389295293684097, 'n_estimators': 280, 'max_depth': 4}. Best is trial 53 with value: 2.1370071271725095.\u001b[0m\n"
     ]
    },
    {
     "name": "stdout",
     "output_type": "stream",
     "text": [
      "[LightGBM] [Warning] lambda_l1 is set=0.9400053840892771, reg_alpha=0.0 will be ignored. Current value: lambda_l1=0.9400053840892771\n",
      "[LightGBM] [Warning] bagging_fraction is set=0.4306192399156159, subsample=1.0 will be ignored. Current value: bagging_fraction=0.4306192399156159\n",
      "[LightGBM] [Warning] feature_fraction is set=0.14646884603614413, colsample_bytree=1.0 will be ignored. Current value: feature_fraction=0.14646884603614413\n",
      "[LightGBM] [Warning] lambda_l2 is set=0.0004227984758205705, reg_lambda=0.0 will be ignored. Current value: lambda_l2=0.0004227984758205705\n"
     ]
    },
    {
     "name": "stderr",
     "output_type": "stream",
     "text": [
      "\u001b[32m[I 2023-02-01 15:45:08,590]\u001b[0m Trial 110 finished with value: 2.2480827552496967 and parameters: {'feature_fraction': 0.14646884603614413, 'num_leaves': 112, 'bagging_fraction': 0.4306192399156159, 'lambda_l1': 0.9400053840892771, 'lambda_l2': 0.0004227984758205705, 'n_estimators': 265, 'max_depth': 4}. Best is trial 53 with value: 2.1370071271725095.\u001b[0m\n"
     ]
    },
    {
     "name": "stdout",
     "output_type": "stream",
     "text": [
      "[LightGBM] [Warning] lambda_l1 is set=2.8904871220558834, reg_alpha=0.0 will be ignored. Current value: lambda_l1=2.8904871220558834\n",
      "[LightGBM] [Warning] bagging_fraction is set=0.45544605318332726, subsample=1.0 will be ignored. Current value: bagging_fraction=0.45544605318332726\n",
      "[LightGBM] [Warning] feature_fraction is set=0.29297447963338935, colsample_bytree=1.0 will be ignored. Current value: feature_fraction=0.29297447963338935\n",
      "[LightGBM] [Warning] lambda_l2 is set=0.0009176943421812079, reg_lambda=0.0 will be ignored. Current value: lambda_l2=0.0009176943421812079\n"
     ]
    },
    {
     "name": "stderr",
     "output_type": "stream",
     "text": [
      "\u001b[32m[I 2023-02-01 15:45:09,708]\u001b[0m Trial 111 finished with value: 2.222937182110964 and parameters: {'feature_fraction': 0.29297447963338935, 'num_leaves': 135, 'bagging_fraction': 0.45544605318332726, 'lambda_l1': 2.8904871220558834, 'lambda_l2': 0.0009176943421812079, 'n_estimators': 287, 'max_depth': 4}. Best is trial 53 with value: 2.1370071271725095.\u001b[0m\n"
     ]
    },
    {
     "name": "stdout",
     "output_type": "stream",
     "text": [
      "[LightGBM] [Warning] lambda_l1 is set=4.490639628950732, reg_alpha=0.0 will be ignored. Current value: lambda_l1=4.490639628950732\n",
      "[LightGBM] [Warning] bagging_fraction is set=0.44281899486788984, subsample=1.0 will be ignored. Current value: bagging_fraction=0.44281899486788984\n",
      "[LightGBM] [Warning] feature_fraction is set=0.26625202388423114, colsample_bytree=1.0 will be ignored. Current value: feature_fraction=0.26625202388423114\n",
      "[LightGBM] [Warning] lambda_l2 is set=0.0027614444245722893, reg_lambda=0.0 will be ignored. Current value: lambda_l2=0.0027614444245722893\n"
     ]
    },
    {
     "name": "stderr",
     "output_type": "stream",
     "text": [
      "\u001b[32m[I 2023-02-01 15:45:11,187]\u001b[0m Trial 112 finished with value: 2.202490782037773 and parameters: {'feature_fraction': 0.26625202388423114, 'num_leaves': 140, 'bagging_fraction': 0.44281899486788984, 'lambda_l1': 4.490639628950732, 'lambda_l2': 0.0027614444245722893, 'n_estimators': 300, 'max_depth': 5}. Best is trial 53 with value: 2.1370071271725095.\u001b[0m\n"
     ]
    },
    {
     "name": "stdout",
     "output_type": "stream",
     "text": [
      "[LightGBM] [Warning] lambda_l1 is set=2.6106458591427883, reg_alpha=0.0 will be ignored. Current value: lambda_l1=2.6106458591427883\n",
      "[LightGBM] [Warning] bagging_fraction is set=0.47348239071344483, subsample=1.0 will be ignored. Current value: bagging_fraction=0.47348239071344483\n",
      "[LightGBM] [Warning] feature_fraction is set=0.35337681445228164, colsample_bytree=1.0 will be ignored. Current value: feature_fraction=0.35337681445228164\n",
      "[LightGBM] [Warning] lambda_l2 is set=0.0038920328836445552, reg_lambda=0.0 will be ignored. Current value: lambda_l2=0.0038920328836445552\n"
     ]
    },
    {
     "name": "stderr",
     "output_type": "stream",
     "text": [
      "\u001b[32m[I 2023-02-01 15:45:12,827]\u001b[0m Trial 113 finished with value: 2.2392518862364357 and parameters: {'feature_fraction': 0.35337681445228164, 'num_leaves': 129, 'bagging_fraction': 0.47348239071344483, 'lambda_l1': 2.6106458591427883, 'lambda_l2': 0.0038920328836445552, 'n_estimators': 282, 'max_depth': 5}. Best is trial 53 with value: 2.1370071271725095.\u001b[0m\n"
     ]
    },
    {
     "name": "stdout",
     "output_type": "stream",
     "text": [
      "[LightGBM] [Warning] lambda_l1 is set=5.806854529011843, reg_alpha=0.0 will be ignored. Current value: lambda_l1=5.806854529011843\n",
      "[LightGBM] [Warning] bagging_fraction is set=0.49973587814905823, subsample=1.0 will be ignored. Current value: bagging_fraction=0.49973587814905823\n",
      "[LightGBM] [Warning] feature_fraction is set=0.23721225738696206, colsample_bytree=1.0 will be ignored. Current value: feature_fraction=0.23721225738696206\n",
      "[LightGBM] [Warning] lambda_l2 is set=0.0007080884531009997, reg_lambda=0.0 will be ignored. Current value: lambda_l2=0.0007080884531009997\n"
     ]
    },
    {
     "name": "stderr",
     "output_type": "stream",
     "text": [
      "\u001b[32m[I 2023-02-01 15:45:14,131]\u001b[0m Trial 114 finished with value: 2.2497552545885635 and parameters: {'feature_fraction': 0.23721225738696206, 'num_leaves': 118, 'bagging_fraction': 0.49973587814905823, 'lambda_l1': 5.806854529011843, 'lambda_l2': 0.0007080884531009997, 'n_estimators': 274, 'max_depth': 5}. Best is trial 53 with value: 2.1370071271725095.\u001b[0m\n"
     ]
    },
    {
     "name": "stdout",
     "output_type": "stream",
     "text": [
      "[LightGBM] [Warning] lambda_l1 is set=2.2445307145234836, reg_alpha=0.0 will be ignored. Current value: lambda_l1=2.2445307145234836\n",
      "[LightGBM] [Warning] bagging_fraction is set=0.48463611327708367, subsample=1.0 will be ignored. Current value: bagging_fraction=0.48463611327708367\n",
      "[LightGBM] [Warning] feature_fraction is set=0.2716169526412455, colsample_bytree=1.0 will be ignored. Current value: feature_fraction=0.2716169526412455\n",
      "[LightGBM] [Warning] lambda_l2 is set=0.00024199236119656727, reg_lambda=0.0 will be ignored. Current value: lambda_l2=0.00024199236119656727\n"
     ]
    },
    {
     "name": "stderr",
     "output_type": "stream",
     "text": [
      "\u001b[32m[I 2023-02-01 15:45:15,342]\u001b[0m Trial 115 finished with value: 2.2100125313538106 and parameters: {'feature_fraction': 0.2716169526412455, 'num_leaves': 104, 'bagging_fraction': 0.48463611327708367, 'lambda_l1': 2.2445307145234836, 'lambda_l2': 0.00024199236119656727, 'n_estimators': 234, 'max_depth': 5}. Best is trial 53 with value: 2.1370071271725095.\u001b[0m\n"
     ]
    },
    {
     "name": "stdout",
     "output_type": "stream",
     "text": [
      "[LightGBM] [Warning] lambda_l1 is set=0.6321014871435504, reg_alpha=0.0 will be ignored. Current value: lambda_l1=0.6321014871435504\n",
      "[LightGBM] [Warning] bagging_fraction is set=0.4592499420646999, subsample=1.0 will be ignored. Current value: bagging_fraction=0.4592499420646999\n",
      "[LightGBM] [Warning] feature_fraction is set=0.31773431580570144, colsample_bytree=1.0 will be ignored. Current value: feature_fraction=0.31773431580570144\n",
      "[LightGBM] [Warning] lambda_l2 is set=0.0009033314896805634, reg_lambda=0.0 will be ignored. Current value: lambda_l2=0.0009033314896805634\n"
     ]
    },
    {
     "name": "stderr",
     "output_type": "stream",
     "text": [
      "\u001b[32m[I 2023-02-01 15:45:16,450]\u001b[0m Trial 116 finished with value: 2.2117891625047337 and parameters: {'feature_fraction': 0.31773431580570144, 'num_leaves': 154, 'bagging_fraction': 0.4592499420646999, 'lambda_l1': 0.6321014871435504, 'lambda_l2': 0.0009033314896805634, 'n_estimators': 267, 'max_depth': 4}. Best is trial 53 with value: 2.1370071271725095.\u001b[0m\n"
     ]
    },
    {
     "name": "stdout",
     "output_type": "stream",
     "text": [
      "[LightGBM] [Warning] lambda_l1 is set=1.1563155839721355, reg_alpha=0.0 will be ignored. Current value: lambda_l1=1.1563155839721355\n",
      "[LightGBM] [Warning] bagging_fraction is set=0.5146024847147356, subsample=1.0 will be ignored. Current value: bagging_fraction=0.5146024847147356\n",
      "[LightGBM] [Warning] feature_fraction is set=0.2956061424287351, colsample_bytree=1.0 will be ignored. Current value: feature_fraction=0.2956061424287351\n",
      "[LightGBM] [Warning] lambda_l2 is set=0.00542946293676293, reg_lambda=0.0 will be ignored. Current value: lambda_l2=0.00542946293676293\n"
     ]
    },
    {
     "name": "stderr",
     "output_type": "stream",
     "text": [
      "\u001b[32m[I 2023-02-01 15:45:18,434]\u001b[0m Trial 117 finished with value: 2.2660740771500807 and parameters: {'feature_fraction': 0.2956061424287351, 'num_leaves': 149, 'bagging_fraction': 0.5146024847147356, 'lambda_l1': 1.1563155839721355, 'lambda_l2': 0.00542946293676293, 'n_estimators': 293, 'max_depth': 6}. Best is trial 53 with value: 2.1370071271725095.\u001b[0m\n"
     ]
    },
    {
     "name": "stdout",
     "output_type": "stream",
     "text": [
      "[LightGBM] [Warning] lambda_l1 is set=9.714458702568438, reg_alpha=0.0 will be ignored. Current value: lambda_l1=9.714458702568438\n",
      "[LightGBM] [Warning] bagging_fraction is set=0.42272016969397297, subsample=1.0 will be ignored. Current value: bagging_fraction=0.42272016969397297\n",
      "[LightGBM] [Warning] feature_fraction is set=0.39323310539202927, colsample_bytree=1.0 will be ignored. Current value: feature_fraction=0.39323310539202927\n",
      "[LightGBM] [Warning] lambda_l2 is set=7.17986278161107e-05, reg_lambda=0.0 will be ignored. Current value: lambda_l2=7.17986278161107e-05\n"
     ]
    },
    {
     "name": "stderr",
     "output_type": "stream",
     "text": [
      "\u001b[32m[I 2023-02-01 15:45:20,129]\u001b[0m Trial 118 finished with value: 2.2467708453896367 and parameters: {'feature_fraction': 0.39323310539202927, 'num_leaves': 123, 'bagging_fraction': 0.42272016969397297, 'lambda_l1': 9.714458702568438, 'lambda_l2': 7.17986278161107e-05, 'n_estimators': 253, 'max_depth': 5}. Best is trial 53 with value: 2.1370071271725095.\u001b[0m\n"
     ]
    },
    {
     "name": "stdout",
     "output_type": "stream",
     "text": [
      "[LightGBM] [Warning] lambda_l1 is set=3.963809479276609, reg_alpha=0.0 will be ignored. Current value: lambda_l1=3.963809479276609\n",
      "[LightGBM] [Warning] bagging_fraction is set=0.49213237167254503, subsample=1.0 will be ignored. Current value: bagging_fraction=0.49213237167254503\n",
      "[LightGBM] [Warning] feature_fraction is set=0.21666130443895326, colsample_bytree=1.0 will be ignored. Current value: feature_fraction=0.21666130443895326\n",
      "[LightGBM] [Warning] lambda_l2 is set=3.159771994910446e-05, reg_lambda=0.0 will be ignored. Current value: lambda_l2=3.159771994910446e-05\n"
     ]
    },
    {
     "name": "stderr",
     "output_type": "stream",
     "text": [
      "\u001b[32m[I 2023-02-01 15:45:21,001]\u001b[0m Trial 119 finished with value: 2.1535518867921586 and parameters: {'feature_fraction': 0.21666130443895326, 'num_leaves': 174, 'bagging_fraction': 0.49213237167254503, 'lambda_l1': 3.963809479276609, 'lambda_l2': 3.159771994910446e-05, 'n_estimators': 242, 'max_depth': 4}. Best is trial 53 with value: 2.1370071271725095.\u001b[0m\n"
     ]
    },
    {
     "name": "stdout",
     "output_type": "stream",
     "text": [
      "[LightGBM] [Warning] lambda_l1 is set=2.0127759470275732, reg_alpha=0.0 will be ignored. Current value: lambda_l1=2.0127759470275732\n",
      "[LightGBM] [Warning] bagging_fraction is set=0.49569863296698036, subsample=1.0 will be ignored. Current value: bagging_fraction=0.49569863296698036\n",
      "[LightGBM] [Warning] feature_fraction is set=0.19573875166233173, colsample_bytree=1.0 will be ignored. Current value: feature_fraction=0.19573875166233173\n",
      "[LightGBM] [Warning] lambda_l2 is set=3.236948587184497e-05, reg_lambda=0.0 will be ignored. Current value: lambda_l2=3.236948587184497e-05\n"
     ]
    },
    {
     "name": "stderr",
     "output_type": "stream",
     "text": [
      "\u001b[32m[I 2023-02-01 15:45:21,920]\u001b[0m Trial 120 finished with value: 2.213408366440522 and parameters: {'feature_fraction': 0.19573875166233173, 'num_leaves': 224, 'bagging_fraction': 0.49569863296698036, 'lambda_l1': 2.0127759470275732, 'lambda_l2': 3.236948587184497e-05, 'n_estimators': 240, 'max_depth': 4}. Best is trial 53 with value: 2.1370071271725095.\u001b[0m\n"
     ]
    },
    {
     "name": "stdout",
     "output_type": "stream",
     "text": [
      "[LightGBM] [Warning] lambda_l1 is set=3.941851901741996, reg_alpha=0.0 will be ignored. Current value: lambda_l1=3.941851901741996\n",
      "[LightGBM] [Warning] bagging_fraction is set=0.4704721713180328, subsample=1.0 will be ignored. Current value: bagging_fraction=0.4704721713180328\n",
      "[LightGBM] [Warning] feature_fraction is set=0.22615867962116035, colsample_bytree=1.0 will be ignored. Current value: feature_fraction=0.22615867962116035\n",
      "[LightGBM] [Warning] lambda_l2 is set=0.00014892253867086175, reg_lambda=0.0 will be ignored. Current value: lambda_l2=0.00014892253867086175\n"
     ]
    },
    {
     "name": "stderr",
     "output_type": "stream",
     "text": [
      "\u001b[32m[I 2023-02-01 15:45:22,740]\u001b[0m Trial 121 finished with value: 2.224845132867173 and parameters: {'feature_fraction': 0.22615867962116035, 'num_leaves': 190, 'bagging_fraction': 0.4704721713180328, 'lambda_l1': 3.941851901741996, 'lambda_l2': 0.00014892253867086175, 'n_estimators': 216, 'max_depth': 4}. Best is trial 53 with value: 2.1370071271725095.\u001b[0m\n"
     ]
    },
    {
     "name": "stdout",
     "output_type": "stream",
     "text": [
      "[LightGBM] [Warning] lambda_l1 is set=5.971061580465835, reg_alpha=0.0 will be ignored. Current value: lambda_l1=5.971061580465835\n",
      "[LightGBM] [Warning] bagging_fraction is set=0.48453798142794796, subsample=1.0 will be ignored. Current value: bagging_fraction=0.48453798142794796\n",
      "[LightGBM] [Warning] feature_fraction is set=0.24332969820030348, colsample_bytree=1.0 will be ignored. Current value: feature_fraction=0.24332969820030348\n",
      "[LightGBM] [Warning] lambda_l2 is set=7.901732203496692e-05, reg_lambda=0.0 will be ignored. Current value: lambda_l2=7.901732203496692e-05\n"
     ]
    },
    {
     "name": "stderr",
     "output_type": "stream",
     "text": [
      "\u001b[32m[I 2023-02-01 15:45:23,715]\u001b[0m Trial 122 finished with value: 2.2223759636409803 and parameters: {'feature_fraction': 0.24332969820030348, 'num_leaves': 166, 'bagging_fraction': 0.48453798142794796, 'lambda_l1': 5.971061580465835, 'lambda_l2': 7.901732203496692e-05, 'n_estimators': 261, 'max_depth': 4}. Best is trial 53 with value: 2.1370071271725095.\u001b[0m\n"
     ]
    },
    {
     "name": "stdout",
     "output_type": "stream",
     "text": [
      "[LightGBM] [Warning] lambda_l1 is set=3.23849164617651, reg_alpha=0.0 will be ignored. Current value: lambda_l1=3.23849164617651\n",
      "[LightGBM] [Warning] bagging_fraction is set=0.4508258874026143, subsample=1.0 will be ignored. Current value: bagging_fraction=0.4508258874026143\n",
      "[LightGBM] [Warning] feature_fraction is set=0.16615953463589228, colsample_bytree=1.0 will be ignored. Current value: feature_fraction=0.16615953463589228\n",
      "[LightGBM] [Warning] lambda_l2 is set=4.669745767716665e-05, reg_lambda=0.0 will be ignored. Current value: lambda_l2=4.669745767716665e-05\n"
     ]
    },
    {
     "name": "stderr",
     "output_type": "stream",
     "text": [
      "\u001b[32m[I 2023-02-01 15:45:24,581]\u001b[0m Trial 123 finished with value: 2.203452106655566 and parameters: {'feature_fraction': 0.16615953463589228, 'num_leaves': 132, 'bagging_fraction': 0.4508258874026143, 'lambda_l1': 3.23849164617651, 'lambda_l2': 4.669745767716665e-05, 'n_estimators': 277, 'max_depth': 4}. Best is trial 53 with value: 2.1370071271725095.\u001b[0m\n"
     ]
    },
    {
     "name": "stdout",
     "output_type": "stream",
     "text": [
      "[LightGBM] [Warning] lambda_l1 is set=0.2626345021017723, reg_alpha=0.0 will be ignored. Current value: lambda_l1=0.2626345021017723\n",
      "[LightGBM] [Warning] bagging_fraction is set=0.5268331941680275, subsample=1.0 will be ignored. Current value: bagging_fraction=0.5268331941680275\n",
      "[LightGBM] [Warning] feature_fraction is set=0.20437421507543962, colsample_bytree=1.0 will be ignored. Current value: feature_fraction=0.20437421507543962\n",
      "[LightGBM] [Warning] lambda_l2 is set=0.0004865743852965341, reg_lambda=0.0 will be ignored. Current value: lambda_l2=0.0004865743852965341\n"
     ]
    },
    {
     "name": "stderr",
     "output_type": "stream",
     "text": [
      "\u001b[32m[I 2023-02-01 15:45:25,395]\u001b[0m Trial 124 finished with value: 2.2267725664099944 and parameters: {'feature_fraction': 0.20437421507543962, 'num_leaves': 173, 'bagging_fraction': 0.5268331941680275, 'lambda_l1': 0.2626345021017723, 'lambda_l2': 0.0004865743852965341, 'n_estimators': 229, 'max_depth': 4}. Best is trial 53 with value: 2.1370071271725095.\u001b[0m\n"
     ]
    },
    {
     "name": "stdout",
     "output_type": "stream",
     "text": [
      "[LightGBM] [Warning] lambda_l1 is set=1.4236805007019055, reg_alpha=0.0 will be ignored. Current value: lambda_l1=1.4236805007019055\n",
      "[LightGBM] [Warning] bagging_fraction is set=0.5079151054625283, subsample=1.0 will be ignored. Current value: bagging_fraction=0.5079151054625283\n",
      "[LightGBM] [Warning] feature_fraction is set=0.32195494596268714, colsample_bytree=1.0 will be ignored. Current value: feature_fraction=0.32195494596268714\n",
      "[LightGBM] [Warning] lambda_l2 is set=1.898339678218869e-05, reg_lambda=0.0 will be ignored. Current value: lambda_l2=1.898339678218869e-05\n"
     ]
    },
    {
     "name": "stderr",
     "output_type": "stream",
     "text": [
      "\u001b[32m[I 2023-02-01 15:45:26,318]\u001b[0m Trial 125 finished with value: 2.1812536625949184 and parameters: {'feature_fraction': 0.32195494596268714, 'num_leaves': 111, 'bagging_fraction': 0.5079151054625283, 'lambda_l1': 1.4236805007019055, 'lambda_l2': 1.898339678218869e-05, 'n_estimators': 204, 'max_depth': 4}. Best is trial 53 with value: 2.1370071271725095.\u001b[0m\n"
     ]
    },
    {
     "name": "stdout",
     "output_type": "stream",
     "text": [
      "[LightGBM] [Warning] lambda_l1 is set=1.6700199422032844, reg_alpha=0.0 will be ignored. Current value: lambda_l1=1.6700199422032844\n",
      "[LightGBM] [Warning] bagging_fraction is set=0.5113971780488046, subsample=1.0 will be ignored. Current value: bagging_fraction=0.5113971780488046\n",
      "[LightGBM] [Warning] feature_fraction is set=0.3216018675258606, colsample_bytree=1.0 will be ignored. Current value: feature_fraction=0.3216018675258606\n",
      "[LightGBM] [Warning] lambda_l2 is set=1.4889698416332784e-05, reg_lambda=0.0 will be ignored. Current value: lambda_l2=1.4889698416332784e-05\n"
     ]
    },
    {
     "name": "stderr",
     "output_type": "stream",
     "text": [
      "\u001b[32m[I 2023-02-01 15:45:27,240]\u001b[0m Trial 126 finished with value: 2.2060825503774746 and parameters: {'feature_fraction': 0.3216018675258606, 'num_leaves': 211, 'bagging_fraction': 0.5113971780488046, 'lambda_l1': 1.6700199422032844, 'lambda_l2': 1.4889698416332784e-05, 'n_estimators': 205, 'max_depth': 4}. Best is trial 53 with value: 2.1370071271725095.\u001b[0m\n"
     ]
    },
    {
     "name": "stdout",
     "output_type": "stream",
     "text": [
      "[LightGBM] [Warning] lambda_l1 is set=0.8316140261759882, reg_alpha=0.0 will be ignored. Current value: lambda_l1=0.8316140261759882\n",
      "[LightGBM] [Warning] bagging_fraction is set=0.5389420445925639, subsample=1.0 will be ignored. Current value: bagging_fraction=0.5389420445925639\n",
      "[LightGBM] [Warning] feature_fraction is set=0.34647661206675084, colsample_bytree=1.0 will be ignored. Current value: feature_fraction=0.34647661206675084\n",
      "[LightGBM] [Warning] lambda_l2 is set=1.9763831243010415e-05, reg_lambda=0.0 will be ignored. Current value: lambda_l2=1.9763831243010415e-05\n"
     ]
    },
    {
     "name": "stderr",
     "output_type": "stream",
     "text": [
      "\u001b[32m[I 2023-02-01 15:45:28,250]\u001b[0m Trial 127 finished with value: 2.2238207642037597 and parameters: {'feature_fraction': 0.34647661206675084, 'num_leaves': 98, 'bagging_fraction': 0.5389420445925639, 'lambda_l1': 0.8316140261759882, 'lambda_l2': 1.9763831243010415e-05, 'n_estimators': 221, 'max_depth': 4}. Best is trial 53 with value: 2.1370071271725095.\u001b[0m\n"
     ]
    },
    {
     "name": "stdout",
     "output_type": "stream",
     "text": [
      "[LightGBM] [Warning] lambda_l1 is set=0.5143691452180583, reg_alpha=0.0 will be ignored. Current value: lambda_l1=0.5143691452180583\n",
      "[LightGBM] [Warning] bagging_fraction is set=0.4995769764281863, subsample=1.0 will be ignored. Current value: bagging_fraction=0.4995769764281863\n",
      "[LightGBM] [Warning] feature_fraction is set=0.2529185774209565, colsample_bytree=1.0 will be ignored. Current value: feature_fraction=0.2529185774209565\n",
      "[LightGBM] [Warning] lambda_l2 is set=5.6912316775921805e-06, reg_lambda=0.0 will be ignored. Current value: lambda_l2=5.6912316775921805e-06\n"
     ]
    },
    {
     "name": "stderr",
     "output_type": "stream",
     "text": [
      "\u001b[32m[I 2023-02-01 15:45:29,068]\u001b[0m Trial 128 finished with value: 2.210623722346841 and parameters: {'feature_fraction': 0.2529185774209565, 'num_leaves': 112, 'bagging_fraction': 0.4995769764281863, 'lambda_l1': 0.5143691452180583, 'lambda_l2': 5.6912316775921805e-06, 'n_estimators': 203, 'max_depth': 4}. Best is trial 53 with value: 2.1370071271725095.\u001b[0m\n"
     ]
    },
    {
     "name": "stdout",
     "output_type": "stream",
     "text": [
      "[LightGBM] [Warning] lambda_l1 is set=0.12364562928901839, reg_alpha=0.0 will be ignored. Current value: lambda_l1=0.12364562928901839\n",
      "[LightGBM] [Warning] bagging_fraction is set=0.5216448743249157, subsample=1.0 will be ignored. Current value: bagging_fraction=0.5216448743249157\n",
      "[LightGBM] [Warning] feature_fraction is set=0.3626945026696068, colsample_bytree=1.0 will be ignored. Current value: feature_fraction=0.3626945026696068\n",
      "[LightGBM] [Warning] lambda_l2 is set=3.199612993457172e-05, reg_lambda=0.0 will be ignored. Current value: lambda_l2=3.199612993457172e-05\n"
     ]
    },
    {
     "name": "stderr",
     "output_type": "stream",
     "text": [
      "\u001b[32m[I 2023-02-01 15:45:30,144]\u001b[0m Trial 129 finished with value: 2.2279325349145074 and parameters: {'feature_fraction': 0.3626945026696068, 'num_leaves': 248, 'bagging_fraction': 0.5216448743249157, 'lambda_l1': 0.12364562928901839, 'lambda_l2': 3.199612993457172e-05, 'n_estimators': 243, 'max_depth': 4}. Best is trial 53 with value: 2.1370071271725095.\u001b[0m\n"
     ]
    },
    {
     "name": "stdout",
     "output_type": "stream",
     "text": [
      "[LightGBM] [Warning] lambda_l1 is set=6.1498259881552455, reg_alpha=0.0 will be ignored. Current value: lambda_l1=6.1498259881552455\n",
      "[LightGBM] [Warning] bagging_fraction is set=0.4787943031873178, subsample=1.0 will be ignored. Current value: bagging_fraction=0.4787943031873178\n",
      "[LightGBM] [Warning] feature_fraction is set=0.3081542339709037, colsample_bytree=1.0 will be ignored. Current value: feature_fraction=0.3081542339709037\n",
      "[LightGBM] [Warning] lambda_l2 is set=2.6500159909331824e-06, reg_lambda=0.0 will be ignored. Current value: lambda_l2=2.6500159909331824e-06\n"
     ]
    },
    {
     "name": "stderr",
     "output_type": "stream",
     "text": [
      "\u001b[32m[I 2023-02-01 15:45:31,230]\u001b[0m Trial 130 finished with value: 2.215909954373815 and parameters: {'feature_fraction': 0.3081542339709037, 'num_leaves': 116, 'bagging_fraction': 0.4787943031873178, 'lambda_l1': 6.1498259881552455, 'lambda_l2': 2.6500159909331824e-06, 'n_estimators': 256, 'max_depth': 4}. Best is trial 53 with value: 2.1370071271725095.\u001b[0m\n"
     ]
    },
    {
     "name": "stdout",
     "output_type": "stream",
     "text": [
      "[LightGBM] [Warning] lambda_l1 is set=3.7837190602911797, reg_alpha=0.0 will be ignored. Current value: lambda_l1=3.7837190602911797\n",
      "[LightGBM] [Warning] bagging_fraction is set=0.4688393132175963, subsample=1.0 will be ignored. Current value: bagging_fraction=0.4688393132175963\n",
      "[LightGBM] [Warning] feature_fraction is set=0.296896392387135, colsample_bytree=1.0 will be ignored. Current value: feature_fraction=0.296896392387135\n",
      "[LightGBM] [Warning] lambda_l2 is set=0.00012428579214501882, reg_lambda=0.0 will be ignored. Current value: lambda_l2=0.00012428579214501882\n"
     ]
    },
    {
     "name": "stderr",
     "output_type": "stream",
     "text": [
      "\u001b[32m[I 2023-02-01 15:45:32,145]\u001b[0m Trial 131 finished with value: 2.2198454315182468 and parameters: {'feature_fraction': 0.296896392387135, 'num_leaves': 110, 'bagging_fraction': 0.4688393132175963, 'lambda_l1': 3.7837190602911797, 'lambda_l2': 0.00012428579214501882, 'n_estimators': 214, 'max_depth': 4}. Best is trial 53 with value: 2.1370071271725095.\u001b[0m\n"
     ]
    },
    {
     "name": "stdout",
     "output_type": "stream",
     "text": [
      "[LightGBM] [Warning] lambda_l1 is set=9.924757650547969, reg_alpha=0.0 will be ignored. Current value: lambda_l1=9.924757650547969\n",
      "[LightGBM] [Warning] bagging_fraction is set=0.4397962896727249, subsample=1.0 will be ignored. Current value: bagging_fraction=0.4397962896727249\n",
      "[LightGBM] [Warning] feature_fraction is set=0.2806049652760647, colsample_bytree=1.0 will be ignored. Current value: feature_fraction=0.2806049652760647\n",
      "[LightGBM] [Warning] lambda_l2 is set=8.649460222513022e-06, reg_lambda=0.0 will be ignored. Current value: lambda_l2=8.649460222513022e-06\n"
     ]
    },
    {
     "name": "stderr",
     "output_type": "stream",
     "text": [
      "\u001b[32m[I 2023-02-01 15:45:33,279]\u001b[0m Trial 132 finished with value: 2.202595665984793 and parameters: {'feature_fraction': 0.2806049652760647, 'num_leaves': 126, 'bagging_fraction': 0.4397962896727249, 'lambda_l1': 9.924757650547969, 'lambda_l2': 8.649460222513022e-06, 'n_estimators': 285, 'max_depth': 4}. Best is trial 53 with value: 2.1370071271725095.\u001b[0m\n"
     ]
    },
    {
     "name": "stdout",
     "output_type": "stream",
     "text": [
      "[LightGBM] [Warning] lambda_l1 is set=1.1993722559326347, reg_alpha=0.0 will be ignored. Current value: lambda_l1=1.1993722559326347\n",
      "[LightGBM] [Warning] bagging_fraction is set=0.4888279576253559, subsample=1.0 will be ignored. Current value: bagging_fraction=0.4888279576253559\n",
      "[LightGBM] [Warning] feature_fraction is set=0.3400550419343817, colsample_bytree=1.0 will be ignored. Current value: feature_fraction=0.3400550419343817\n",
      "[LightGBM] [Warning] lambda_l2 is set=5.408142832694866e-05, reg_lambda=0.0 will be ignored. Current value: lambda_l2=5.408142832694866e-05\n"
     ]
    },
    {
     "name": "stderr",
     "output_type": "stream",
     "text": [
      "\u001b[32m[I 2023-02-01 15:45:34,428]\u001b[0m Trial 133 finished with value: 2.2110259420644587 and parameters: {'feature_fraction': 0.3400550419343817, 'num_leaves': 91, 'bagging_fraction': 0.4888279576253559, 'lambda_l1': 1.1993722559326347, 'lambda_l2': 5.408142832694866e-05, 'n_estimators': 270, 'max_depth': 4}. Best is trial 53 with value: 2.1370071271725095.\u001b[0m\n"
     ]
    },
    {
     "name": "stdout",
     "output_type": "stream",
     "text": [
      "[LightGBM] [Warning] lambda_l1 is set=2.861377174854581, reg_alpha=0.0 will be ignored. Current value: lambda_l1=2.861377174854581\n",
      "[LightGBM] [Warning] bagging_fraction is set=0.45734509356344333, subsample=1.0 will be ignored. Current value: bagging_fraction=0.45734509356344333\n",
      "[LightGBM] [Warning] feature_fraction is set=0.23121434766497717, colsample_bytree=1.0 will be ignored. Current value: feature_fraction=0.23121434766497717\n",
      "[LightGBM] [Warning] lambda_l2 is set=2.5421180289922805e-05, reg_lambda=0.0 will be ignored. Current value: lambda_l2=2.5421180289922805e-05\n"
     ]
    },
    {
     "name": "stderr",
     "output_type": "stream",
     "text": [
      "\u001b[32m[I 2023-02-01 15:45:35,476]\u001b[0m Trial 134 finished with value: 2.231805522848987 and parameters: {'feature_fraction': 0.23121434766497717, 'num_leaves': 102, 'bagging_fraction': 0.45734509356344333, 'lambda_l1': 2.861377174854581, 'lambda_l2': 2.5421180289922805e-05, 'n_estimators': 210, 'max_depth': 5}. Best is trial 53 with value: 2.1370071271725095.\u001b[0m\n"
     ]
    },
    {
     "name": "stdout",
     "output_type": "stream",
     "text": [
      "[LightGBM] [Warning] lambda_l1 is set=4.929774206541538, reg_alpha=0.0 will be ignored. Current value: lambda_l1=4.929774206541538\n",
      "[LightGBM] [Warning] bagging_fraction is set=0.5044475532358457, subsample=1.0 will be ignored. Current value: bagging_fraction=0.5044475532358457\n",
      "[LightGBM] [Warning] feature_fraction is set=0.21315772306540362, colsample_bytree=1.0 will be ignored. Current value: feature_fraction=0.21315772306540362\n",
      "[LightGBM] [Warning] lambda_l2 is set=0.00021124353764330256, reg_lambda=0.0 will be ignored. Current value: lambda_l2=0.00021124353764330256\n"
     ]
    },
    {
     "name": "stderr",
     "output_type": "stream",
     "text": [
      "\u001b[32m[I 2023-02-01 15:45:36,774]\u001b[0m Trial 135 finished with value: 2.1826811790622322 and parameters: {'feature_fraction': 0.21315772306540362, 'num_leaves': 141, 'bagging_fraction': 0.5044475532358457, 'lambda_l1': 4.929774206541538, 'lambda_l2': 0.00021124353764330256, 'n_estimators': 290, 'max_depth': 5}. Best is trial 53 with value: 2.1370071271725095.\u001b[0m\n"
     ]
    },
    {
     "name": "stdout",
     "output_type": "stream",
     "text": [
      "[LightGBM] [Warning] lambda_l1 is set=2.1338476035171126, reg_alpha=0.0 will be ignored. Current value: lambda_l1=2.1338476035171126\n",
      "[LightGBM] [Warning] bagging_fraction is set=0.5156498644076709, subsample=1.0 will be ignored. Current value: bagging_fraction=0.5156498644076709\n",
      "[LightGBM] [Warning] feature_fraction is set=0.17372698849443707, colsample_bytree=1.0 will be ignored. Current value: feature_fraction=0.17372698849443707\n",
      "[LightGBM] [Warning] lambda_l2 is set=0.00018432568991867177, reg_lambda=0.0 will be ignored. Current value: lambda_l2=0.00018432568991867177\n"
     ]
    },
    {
     "name": "stderr",
     "output_type": "stream",
     "text": [
      "\u001b[32m[I 2023-02-01 15:45:37,580]\u001b[0m Trial 136 finished with value: 2.1970991494091927 and parameters: {'feature_fraction': 0.17372698849443707, 'num_leaves': 139, 'bagging_fraction': 0.5156498644076709, 'lambda_l1': 2.1338476035171126, 'lambda_l2': 0.00018432568991867177, 'n_estimators': 250, 'max_depth': 4}. Best is trial 53 with value: 2.1370071271725095.\u001b[0m\n"
     ]
    },
    {
     "name": "stdout",
     "output_type": "stream",
     "text": [
      "[LightGBM] [Warning] lambda_l1 is set=5.255439822521202, reg_alpha=0.0 will be ignored. Current value: lambda_l1=5.255439822521202\n",
      "[LightGBM] [Warning] bagging_fraction is set=0.5049347189538398, subsample=1.0 will be ignored. Current value: bagging_fraction=0.5049347189538398\n",
      "[LightGBM] [Warning] feature_fraction is set=0.2132350698084027, colsample_bytree=1.0 will be ignored. Current value: feature_fraction=0.2132350698084027\n",
      "[LightGBM] [Warning] lambda_l2 is set=0.0003412782911442957, reg_lambda=0.0 will be ignored. Current value: lambda_l2=0.0003412782911442957\n"
     ]
    },
    {
     "name": "stderr",
     "output_type": "stream",
     "text": [
      "\u001b[32m[I 2023-02-01 15:45:38,503]\u001b[0m Trial 137 finished with value: 2.1528547462545995 and parameters: {'feature_fraction': 0.2132350698084027, 'num_leaves': 121, 'bagging_fraction': 0.5049347189538398, 'lambda_l1': 5.255439822521202, 'lambda_l2': 0.0003412782911442957, 'n_estimators': 261, 'max_depth': 4}. Best is trial 53 with value: 2.1370071271725095.\u001b[0m\n"
     ]
    },
    {
     "name": "stdout",
     "output_type": "stream",
     "text": [
      "[LightGBM] [Warning] lambda_l1 is set=6.916799977804677, reg_alpha=0.0 will be ignored. Current value: lambda_l1=6.916799977804677\n",
      "[LightGBM] [Warning] bagging_fraction is set=0.5404271670504537, subsample=1.0 will be ignored. Current value: bagging_fraction=0.5404271670504537\n",
      "[LightGBM] [Warning] feature_fraction is set=0.2144490745853967, colsample_bytree=1.0 will be ignored. Current value: feature_fraction=0.2144490745853967\n",
      "[LightGBM] [Warning] lambda_l2 is set=0.0002456572073635938, reg_lambda=0.0 will be ignored. Current value: lambda_l2=0.0002456572073635938\n"
     ]
    },
    {
     "name": "stderr",
     "output_type": "stream",
     "text": [
      "\u001b[32m[I 2023-02-01 15:45:39,430]\u001b[0m Trial 138 finished with value: 2.1608521526917315 and parameters: {'feature_fraction': 0.2144490745853967, 'num_leaves': 106, 'bagging_fraction': 0.5404271670504537, 'lambda_l1': 6.916799977804677, 'lambda_l2': 0.0002456572073635938, 'n_estimators': 263, 'max_depth': 4}. Best is trial 53 with value: 2.1370071271725095.\u001b[0m\n"
     ]
    },
    {
     "name": "stdout",
     "output_type": "stream",
     "text": [
      "[LightGBM] [Warning] lambda_l1 is set=7.033562321146011, reg_alpha=0.0 will be ignored. Current value: lambda_l1=7.033562321146011\n",
      "[LightGBM] [Warning] bagging_fraction is set=0.5435253209084903, subsample=1.0 will be ignored. Current value: bagging_fraction=0.5435253209084903\n",
      "[LightGBM] [Warning] feature_fraction is set=0.1355496081036132, colsample_bytree=1.0 will be ignored. Current value: feature_fraction=0.1355496081036132\n",
      "[LightGBM] [Warning] lambda_l2 is set=0.0003358081859076314, reg_lambda=0.0 will be ignored. Current value: lambda_l2=0.0003358081859076314\n"
     ]
    },
    {
     "name": "stderr",
     "output_type": "stream",
     "text": [
      "\u001b[32m[I 2023-02-01 15:45:40,265]\u001b[0m Trial 139 finished with value: 2.1905492495928947 and parameters: {'feature_fraction': 0.1355496081036132, 'num_leaves': 106, 'bagging_fraction': 0.5435253209084903, 'lambda_l1': 7.033562321146011, 'lambda_l2': 0.0003358081859076314, 'n_estimators': 257, 'max_depth': 4}. Best is trial 53 with value: 2.1370071271725095.\u001b[0m\n"
     ]
    },
    {
     "name": "stdout",
     "output_type": "stream",
     "text": [
      "[LightGBM] [Warning] lambda_l1 is set=0.17962336835913845, reg_alpha=0.0 will be ignored. Current value: lambda_l1=0.17962336835913845\n",
      "[LightGBM] [Warning] bagging_fraction is set=0.5271068205361643, subsample=1.0 will be ignored. Current value: bagging_fraction=0.5271068205361643\n",
      "[LightGBM] [Warning] feature_fraction is set=0.19852895908541524, colsample_bytree=1.0 will be ignored. Current value: feature_fraction=0.19852895908541524\n",
      "[LightGBM] [Warning] lambda_l2 is set=4.829634969280612e-06, reg_lambda=0.0 will be ignored. Current value: lambda_l2=4.829634969280612e-06\n"
     ]
    },
    {
     "name": "stderr",
     "output_type": "stream",
     "text": [
      "\u001b[32m[I 2023-02-01 15:45:41,226]\u001b[0m Trial 140 finished with value: 2.2053044305787384 and parameters: {'feature_fraction': 0.19852895908541524, 'num_leaves': 95, 'bagging_fraction': 0.5271068205361643, 'lambda_l1': 0.17962336835913845, 'lambda_l2': 4.829634969280612e-06, 'n_estimators': 262, 'max_depth': 4}. Best is trial 53 with value: 2.1370071271725095.\u001b[0m\n"
     ]
    },
    {
     "name": "stdout",
     "output_type": "stream",
     "text": [
      "[LightGBM] [Warning] lambda_l1 is set=4.682541463252002, reg_alpha=0.0 will be ignored. Current value: lambda_l1=4.682541463252002\n",
      "[LightGBM] [Warning] bagging_fraction is set=0.5035347443473502, subsample=1.0 will be ignored. Current value: bagging_fraction=0.5035347443473502\n",
      "[LightGBM] [Warning] feature_fraction is set=0.21289777991856426, colsample_bytree=1.0 will be ignored. Current value: feature_fraction=0.21289777991856426\n",
      "[LightGBM] [Warning] lambda_l2 is set=0.00023722265973789904, reg_lambda=0.0 will be ignored. Current value: lambda_l2=0.00023722265973789904\n"
     ]
    },
    {
     "name": "stderr",
     "output_type": "stream",
     "text": [
      "\u001b[32m[I 2023-02-01 15:45:42,176]\u001b[0m Trial 141 finished with value: 2.1551885237888775 and parameters: {'feature_fraction': 0.21289777991856426, 'num_leaves': 118, 'bagging_fraction': 0.5035347443473502, 'lambda_l1': 4.682541463252002, 'lambda_l2': 0.00023722265973789904, 'n_estimators': 274, 'max_depth': 4}. Best is trial 53 with value: 2.1370071271725095.\u001b[0m\n"
     ]
    },
    {
     "name": "stdout",
     "output_type": "stream",
     "text": [
      "[LightGBM] [Warning] lambda_l1 is set=4.8963150843326515, reg_alpha=0.0 will be ignored. Current value: lambda_l1=4.8963150843326515\n",
      "[LightGBM] [Warning] bagging_fraction is set=0.4964107238547927, subsample=1.0 will be ignored. Current value: bagging_fraction=0.4964107238547927\n",
      "[LightGBM] [Warning] feature_fraction is set=0.18505431337009634, colsample_bytree=1.0 will be ignored. Current value: feature_fraction=0.18505431337009634\n",
      "[LightGBM] [Warning] lambda_l2 is set=0.0003374746339445146, reg_lambda=0.0 will be ignored. Current value: lambda_l2=0.0003374746339445146\n"
     ]
    },
    {
     "name": "stderr",
     "output_type": "stream",
     "text": [
      "\u001b[32m[I 2023-02-01 15:45:43,075]\u001b[0m Trial 142 finished with value: 2.247812865506463 and parameters: {'feature_fraction': 0.18505431337009634, 'num_leaves': 120, 'bagging_fraction': 0.4964107238547927, 'lambda_l1': 4.8963150843326515, 'lambda_l2': 0.0003374746339445146, 'n_estimators': 273, 'max_depth': 4}. Best is trial 53 with value: 2.1370071271725095.\u001b[0m\n"
     ]
    },
    {
     "name": "stdout",
     "output_type": "stream",
     "text": [
      "[LightGBM] [Warning] lambda_l1 is set=9.64590016766753, reg_alpha=0.0 will be ignored. Current value: lambda_l1=9.64590016766753\n",
      "[LightGBM] [Warning] bagging_fraction is set=0.4790023728896716, subsample=1.0 will be ignored. Current value: bagging_fraction=0.4790023728896716\n",
      "[LightGBM] [Warning] feature_fraction is set=0.21744130427995384, colsample_bytree=1.0 will be ignored. Current value: feature_fraction=0.21744130427995384\n",
      "[LightGBM] [Warning] lambda_l2 is set=0.0005629590453472365, reg_lambda=0.0 will be ignored. Current value: lambda_l2=0.0005629590453472365\n"
     ]
    },
    {
     "name": "stderr",
     "output_type": "stream",
     "text": [
      "\u001b[32m[I 2023-02-01 15:45:44,025]\u001b[0m Trial 143 finished with value: 2.1758631853415356 and parameters: {'feature_fraction': 0.21744130427995384, 'num_leaves': 113, 'bagging_fraction': 0.4790023728896716, 'lambda_l1': 9.64590016766753, 'lambda_l2': 0.0005629590453472365, 'n_estimators': 268, 'max_depth': 4}. Best is trial 53 with value: 2.1370071271725095.\u001b[0m\n"
     ]
    },
    {
     "name": "stdout",
     "output_type": "stream",
     "text": [
      "[LightGBM] [Warning] lambda_l1 is set=9.83424732590843, reg_alpha=0.0 will be ignored. Current value: lambda_l1=9.83424732590843\n",
      "[LightGBM] [Warning] bagging_fraction is set=0.4786998220573584, subsample=1.0 will be ignored. Current value: bagging_fraction=0.4786998220573584\n",
      "[LightGBM] [Warning] feature_fraction is set=0.21992377831909288, colsample_bytree=1.0 will be ignored. Current value: feature_fraction=0.21992377831909288\n",
      "[LightGBM] [Warning] lambda_l2 is set=0.0005920636223877157, reg_lambda=0.0 will be ignored. Current value: lambda_l2=0.0005920636223877157\n"
     ]
    },
    {
     "name": "stderr",
     "output_type": "stream",
     "text": [
      "\u001b[32m[I 2023-02-01 15:45:44,967]\u001b[0m Trial 144 finished with value: 2.1643705892520866 and parameters: {'feature_fraction': 0.21992377831909288, 'num_leaves': 102, 'bagging_fraction': 0.4786998220573584, 'lambda_l1': 9.83424732590843, 'lambda_l2': 0.0005920636223877157, 'n_estimators': 265, 'max_depth': 4}. Best is trial 53 with value: 2.1370071271725095.\u001b[0m\n"
     ]
    },
    {
     "name": "stdout",
     "output_type": "stream",
     "text": [
      "[LightGBM] [Warning] lambda_l1 is set=7.7283589875205045, reg_alpha=0.0 will be ignored. Current value: lambda_l1=7.7283589875205045\n",
      "[LightGBM] [Warning] bagging_fraction is set=0.47748111085255707, subsample=1.0 will be ignored. Current value: bagging_fraction=0.47748111085255707\n",
      "[LightGBM] [Warning] feature_fraction is set=0.22041832146615278, colsample_bytree=1.0 will be ignored. Current value: feature_fraction=0.22041832146615278\n",
      "[LightGBM] [Warning] lambda_l2 is set=0.0004988906487351967, reg_lambda=0.0 will be ignored. Current value: lambda_l2=0.0004988906487351967\n"
     ]
    },
    {
     "name": "stderr",
     "output_type": "stream",
     "text": [
      "\u001b[32m[I 2023-02-01 15:45:45,914]\u001b[0m Trial 145 finished with value: 2.19297363398064 and parameters: {'feature_fraction': 0.22041832146615278, 'num_leaves': 115, 'bagging_fraction': 0.47748111085255707, 'lambda_l1': 7.7283589875205045, 'lambda_l2': 0.0004988906487351967, 'n_estimators': 265, 'max_depth': 4}. Best is trial 53 with value: 2.1370071271725095.\u001b[0m\n"
     ]
    },
    {
     "name": "stdout",
     "output_type": "stream",
     "text": [
      "[LightGBM] [Warning] lambda_l1 is set=8.422683522049352, reg_alpha=0.0 will be ignored. Current value: lambda_l1=8.422683522049352\n",
      "[LightGBM] [Warning] bagging_fraction is set=0.49183524041124094, subsample=1.0 will be ignored. Current value: bagging_fraction=0.49183524041124094\n",
      "[LightGBM] [Warning] feature_fraction is set=0.15728727923479766, colsample_bytree=1.0 will be ignored. Current value: feature_fraction=0.15728727923479766\n",
      "[LightGBM] [Warning] lambda_l2 is set=0.0002651759256245506, reg_lambda=0.0 will be ignored. Current value: lambda_l2=0.0002651759256245506\n"
     ]
    },
    {
     "name": "stderr",
     "output_type": "stream",
     "text": [
      "\u001b[32m[I 2023-02-01 15:45:46,722]\u001b[0m Trial 146 finished with value: 2.2473733314169126 and parameters: {'feature_fraction': 0.15728727923479766, 'num_leaves': 83, 'bagging_fraction': 0.49183524041124094, 'lambda_l1': 8.422683522049352, 'lambda_l2': 0.0002651759256245506, 'n_estimators': 249, 'max_depth': 4}. Best is trial 53 with value: 2.1370071271725095.\u001b[0m\n"
     ]
    },
    {
     "name": "stdout",
     "output_type": "stream",
     "text": [
      "[LightGBM] [Warning] lambda_l1 is set=6.859320373804029, reg_alpha=0.0 will be ignored. Current value: lambda_l1=6.859320373804029\n",
      "[LightGBM] [Warning] bagging_fraction is set=0.534219476193307, subsample=1.0 will be ignored. Current value: bagging_fraction=0.534219476193307\n",
      "[LightGBM] [Warning] feature_fraction is set=0.2525562435080518, colsample_bytree=1.0 will be ignored. Current value: feature_fraction=0.2525562435080518\n",
      "[LightGBM] [Warning] lambda_l2 is set=0.0007765923464696701, reg_lambda=0.0 will be ignored. Current value: lambda_l2=0.0007765923464696701\n"
     ]
    },
    {
     "name": "stderr",
     "output_type": "stream",
     "text": [
      "\u001b[32m[I 2023-02-01 15:45:47,763]\u001b[0m Trial 147 finished with value: 2.2416033494592114 and parameters: {'feature_fraction': 0.2525562435080518, 'num_leaves': 121, 'bagging_fraction': 0.534219476193307, 'lambda_l1': 6.859320373804029, 'lambda_l2': 0.0007765923464696701, 'n_estimators': 276, 'max_depth': 4}. Best is trial 53 with value: 2.1370071271725095.\u001b[0m\n"
     ]
    },
    {
     "name": "stdout",
     "output_type": "stream",
     "text": [
      "[LightGBM] [Warning] lambda_l1 is set=2.876501312125788, reg_alpha=0.0 will be ignored. Current value: lambda_l1=2.876501312125788\n",
      "[LightGBM] [Warning] bagging_fraction is set=0.464342332029465, subsample=1.0 will be ignored. Current value: bagging_fraction=0.464342332029465\n",
      "[LightGBM] [Warning] feature_fraction is set=0.20019016633014763, colsample_bytree=1.0 will be ignored. Current value: feature_fraction=0.20019016633014763\n",
      "[LightGBM] [Warning] lambda_l2 is set=0.00013414234850645768, reg_lambda=0.0 will be ignored. Current value: lambda_l2=0.00013414234850645768\n"
     ]
    },
    {
     "name": "stderr",
     "output_type": "stream",
     "text": [
      "\u001b[32m[I 2023-02-01 15:45:48,762]\u001b[0m Trial 148 finished with value: 2.195666469354978 and parameters: {'feature_fraction': 0.20019016633014763, 'num_leaves': 97, 'bagging_fraction': 0.464342332029465, 'lambda_l1': 2.876501312125788, 'lambda_l2': 0.00013414234850645768, 'n_estimators': 270, 'max_depth': 4}. Best is trial 53 with value: 2.1370071271725095.\u001b[0m\n"
     ]
    },
    {
     "name": "stdout",
     "output_type": "stream",
     "text": [
      "[LightGBM] [Warning] lambda_l1 is set=9.41953707516445, reg_alpha=0.0 will be ignored. Current value: lambda_l1=9.41953707516445\n",
      "[LightGBM] [Warning] bagging_fraction is set=0.5202106297173106, subsample=1.0 will be ignored. Current value: bagging_fraction=0.5202106297173106\n",
      "[LightGBM] [Warning] feature_fraction is set=0.17427537232055215, colsample_bytree=1.0 will be ignored. Current value: feature_fraction=0.17427537232055215\n",
      "[LightGBM] [Warning] lambda_l2 is set=0.0005360277601720993, reg_lambda=0.0 will be ignored. Current value: lambda_l2=0.0005360277601720993\n"
     ]
    },
    {
     "name": "stderr",
     "output_type": "stream",
     "text": [
      "\u001b[32m[I 2023-02-01 15:45:49,658]\u001b[0m Trial 149 finished with value: 2.198956278507696 and parameters: {'feature_fraction': 0.17427537232055215, 'num_leaves': 88, 'bagging_fraction': 0.5202106297173106, 'lambda_l1': 9.41953707516445, 'lambda_l2': 0.0005360277601720993, 'n_estimators': 279, 'max_depth': 4}. Best is trial 53 with value: 2.1370071271725095.\u001b[0m\n"
     ]
    },
    {
     "name": "stdout",
     "output_type": "stream",
     "text": [
      "[LightGBM] [Warning] lambda_l1 is set=0.05872643811832516, reg_alpha=0.0 will be ignored. Current value: lambda_l1=0.05872643811832516\n",
      "[LightGBM] [Warning] bagging_fraction is set=0.4814846190734952, subsample=1.0 will be ignored. Current value: bagging_fraction=0.4814846190734952\n",
      "[LightGBM] [Warning] feature_fraction is set=0.23582696454300003, colsample_bytree=1.0 will be ignored. Current value: feature_fraction=0.23582696454300003\n",
      "[LightGBM] [Warning] lambda_l2 is set=0.00018237264171807127, reg_lambda=0.0 will be ignored. Current value: lambda_l2=0.00018237264171807127\n"
     ]
    },
    {
     "name": "stderr",
     "output_type": "stream",
     "text": [
      "\u001b[32m[I 2023-02-01 15:45:50,595]\u001b[0m Trial 150 finished with value: 2.2537577451415576 and parameters: {'feature_fraction': 0.23582696454300003, 'num_leaves': 109, 'bagging_fraction': 0.4814846190734952, 'lambda_l1': 0.05872643811832516, 'lambda_l2': 0.00018237264171807127, 'n_estimators': 268, 'max_depth': 4}. Best is trial 53 with value: 2.1370071271725095.\u001b[0m\n"
     ]
    },
    {
     "name": "stdout",
     "output_type": "stream",
     "text": [
      "[LightGBM] [Warning] lambda_l1 is set=4.384640597217545, reg_alpha=0.0 will be ignored. Current value: lambda_l1=4.384640597217545\n",
      "[LightGBM] [Warning] bagging_fraction is set=0.4749425992281635, subsample=1.0 will be ignored. Current value: bagging_fraction=0.4749425992281635\n",
      "[LightGBM] [Warning] feature_fraction is set=0.2200111293283569, colsample_bytree=1.0 will be ignored. Current value: feature_fraction=0.2200111293283569\n",
      "[LightGBM] [Warning] lambda_l2 is set=0.0003657368912037177, reg_lambda=0.0 will be ignored. Current value: lambda_l2=0.0003657368912037177\n"
     ]
    },
    {
     "name": "stderr",
     "output_type": "stream",
     "text": [
      "\u001b[32m[I 2023-02-01 15:45:51,511]\u001b[0m Trial 151 finished with value: 2.160611475486946 and parameters: {'feature_fraction': 0.2200111293283569, 'num_leaves': 102, 'bagging_fraction': 0.4749425992281635, 'lambda_l1': 4.384640597217545, 'lambda_l2': 0.0003657368912037177, 'n_estimators': 260, 'max_depth': 4}. Best is trial 53 with value: 2.1370071271725095.\u001b[0m\n"
     ]
    },
    {
     "name": "stdout",
     "output_type": "stream",
     "text": [
      "[LightGBM] [Warning] lambda_l1 is set=5.179897687903109, reg_alpha=0.0 will be ignored. Current value: lambda_l1=5.179897687903109\n",
      "[LightGBM] [Warning] bagging_fraction is set=0.5038075623458799, subsample=1.0 will be ignored. Current value: bagging_fraction=0.5038075623458799\n",
      "[LightGBM] [Warning] feature_fraction is set=0.21526594334314772, colsample_bytree=1.0 will be ignored. Current value: feature_fraction=0.21526594334314772\n",
      "[LightGBM] [Warning] lambda_l2 is set=0.00032912964285707204, reg_lambda=0.0 will be ignored. Current value: lambda_l2=0.00032912964285707204\n"
     ]
    },
    {
     "name": "stderr",
     "output_type": "stream",
     "text": [
      "\u001b[32m[I 2023-02-01 15:45:52,422]\u001b[0m Trial 152 finished with value: 2.153679119670674 and parameters: {'feature_fraction': 0.21526594334314772, 'num_leaves': 115, 'bagging_fraction': 0.5038075623458799, 'lambda_l1': 5.179897687903109, 'lambda_l2': 0.00032912964285707204, 'n_estimators': 255, 'max_depth': 4}. Best is trial 53 with value: 2.1370071271725095.\u001b[0m\n"
     ]
    },
    {
     "name": "stdout",
     "output_type": "stream",
     "text": [
      "[LightGBM] [Warning] lambda_l1 is set=4.790053557298659, reg_alpha=0.0 will be ignored. Current value: lambda_l1=4.790053557298659\n",
      "[LightGBM] [Warning] bagging_fraction is set=0.5046969283324189, subsample=1.0 will be ignored. Current value: bagging_fraction=0.5046969283324189\n",
      "[LightGBM] [Warning] feature_fraction is set=0.21101524131027438, colsample_bytree=1.0 will be ignored. Current value: feature_fraction=0.21101524131027438\n",
      "[LightGBM] [Warning] lambda_l2 is set=0.00029663107984574297, reg_lambda=0.0 will be ignored. Current value: lambda_l2=0.00029663107984574297\n"
     ]
    },
    {
     "name": "stderr",
     "output_type": "stream",
     "text": [
      "\u001b[32m[I 2023-02-01 15:45:53,310]\u001b[0m Trial 153 finished with value: 2.2569055766412536 and parameters: {'feature_fraction': 0.21101524131027438, 'num_leaves': 116, 'bagging_fraction': 0.5046969283324189, 'lambda_l1': 4.790053557298659, 'lambda_l2': 0.00029663107984574297, 'n_estimators': 253, 'max_depth': 4}. Best is trial 53 with value: 2.1370071271725095.\u001b[0m\n"
     ]
    },
    {
     "name": "stdout",
     "output_type": "stream",
     "text": [
      "[LightGBM] [Warning] lambda_l1 is set=6.1544885789695565, reg_alpha=0.0 will be ignored. Current value: lambda_l1=6.1544885789695565\n",
      "[LightGBM] [Warning] bagging_fraction is set=0.4412102112895043, subsample=1.0 will be ignored. Current value: bagging_fraction=0.4412102112895043\n",
      "[LightGBM] [Warning] feature_fraction is set=0.1869432297825862, colsample_bytree=1.0 will be ignored. Current value: feature_fraction=0.1869432297825862\n",
      "[LightGBM] [Warning] lambda_l2 is set=0.0004273617746893094, reg_lambda=0.0 will be ignored. Current value: lambda_l2=0.0004273617746893094\n"
     ]
    },
    {
     "name": "stderr",
     "output_type": "stream",
     "text": [
      "\u001b[32m[I 2023-02-01 15:45:54,194]\u001b[0m Trial 154 finished with value: 2.2379460536868483 and parameters: {'feature_fraction': 0.1869432297825862, 'num_leaves': 102, 'bagging_fraction': 0.4412102112895043, 'lambda_l1': 6.1544885789695565, 'lambda_l2': 0.0004273617746893094, 'n_estimators': 263, 'max_depth': 4}. Best is trial 53 with value: 2.1370071271725095.\u001b[0m\n"
     ]
    },
    {
     "name": "stdout",
     "output_type": "stream",
     "text": [
      "[LightGBM] [Warning] lambda_l1 is set=9.819614332167735, reg_alpha=0.0 will be ignored. Current value: lambda_l1=9.819614332167735\n",
      "[LightGBM] [Warning] bagging_fraction is set=0.4669020247244697, subsample=1.0 will be ignored. Current value: bagging_fraction=0.4669020247244697\n",
      "[LightGBM] [Warning] feature_fraction is set=0.2233151846272557, colsample_bytree=1.0 will be ignored. Current value: feature_fraction=0.2233151846272557\n",
      "[LightGBM] [Warning] lambda_l2 is set=0.0006490432425512784, reg_lambda=0.0 will be ignored. Current value: lambda_l2=0.0006490432425512784\n"
     ]
    },
    {
     "name": "stderr",
     "output_type": "stream",
     "text": [
      "\u001b[32m[I 2023-02-01 15:45:55,109]\u001b[0m Trial 155 finished with value: 2.222741733651647 and parameters: {'feature_fraction': 0.2233151846272557, 'num_leaves': 108, 'bagging_fraction': 0.4669020247244697, 'lambda_l1': 9.819614332167735, 'lambda_l2': 0.0006490432425512784, 'n_estimators': 244, 'max_depth': 4}. Best is trial 53 with value: 2.1370071271725095.\u001b[0m\n"
     ]
    },
    {
     "name": "stdout",
     "output_type": "stream",
     "text": [
      "[LightGBM] [Warning] lambda_l1 is set=3.659887522642365, reg_alpha=0.0 will be ignored. Current value: lambda_l1=3.659887522642365\n",
      "[LightGBM] [Warning] bagging_fraction is set=0.4932385663914043, subsample=1.0 will be ignored. Current value: bagging_fraction=0.4932385663914043\n",
      "[LightGBM] [Warning] feature_fraction is set=0.1139122191629433, colsample_bytree=1.0 will be ignored. Current value: feature_fraction=0.1139122191629433\n",
      "[LightGBM] [Warning] lambda_l2 is set=0.0002306533447247353, reg_lambda=0.0 will be ignored. Current value: lambda_l2=0.0002306533447247353\n"
     ]
    },
    {
     "name": "stderr",
     "output_type": "stream",
     "text": [
      "\u001b[32m[I 2023-02-01 15:45:55,815]\u001b[0m Trial 156 finished with value: 2.2423054435053054 and parameters: {'feature_fraction': 0.1139122191629433, 'num_leaves': 92, 'bagging_fraction': 0.4932385663914043, 'lambda_l1': 3.659887522642365, 'lambda_l2': 0.0002306533447247353, 'n_estimators': 237, 'max_depth': 4}. Best is trial 53 with value: 2.1370071271725095.\u001b[0m\n"
     ]
    },
    {
     "name": "stdout",
     "output_type": "stream",
     "text": [
      "[LightGBM] [Warning] lambda_l1 is set=2.244438416915383, reg_alpha=0.0 will be ignored. Current value: lambda_l1=2.244438416915383\n",
      "[LightGBM] [Warning] bagging_fraction is set=0.4747677556398087, subsample=1.0 will be ignored. Current value: bagging_fraction=0.4747677556398087\n",
      "[LightGBM] [Warning] feature_fraction is set=0.25719448530807726, colsample_bytree=1.0 will be ignored. Current value: feature_fraction=0.25719448530807726\n",
      "[LightGBM] [Warning] lambda_l2 is set=0.0009919317460731446, reg_lambda=0.0 will be ignored. Current value: lambda_l2=0.0009919317460731446\n"
     ]
    },
    {
     "name": "stderr",
     "output_type": "stream",
     "text": [
      "\u001b[32m[I 2023-02-01 15:45:56,792]\u001b[0m Trial 157 finished with value: 2.2234590076569427 and parameters: {'feature_fraction': 0.25719448530807726, 'num_leaves': 100, 'bagging_fraction': 0.4747677556398087, 'lambda_l1': 2.244438416915383, 'lambda_l2': 0.0009919317460731446, 'n_estimators': 259, 'max_depth': 4}. Best is trial 53 with value: 2.1370071271725095.\u001b[0m\n"
     ]
    },
    {
     "name": "stdout",
     "output_type": "stream",
     "text": [
      "[LightGBM] [Warning] lambda_l1 is set=4.4352655143041835, reg_alpha=0.0 will be ignored. Current value: lambda_l1=4.4352655143041835\n",
      "[LightGBM] [Warning] bagging_fraction is set=0.4502299639242769, subsample=1.0 will be ignored. Current value: bagging_fraction=0.4502299639242769\n",
      "[LightGBM] [Warning] feature_fraction is set=0.17370221612501496, colsample_bytree=1.0 will be ignored. Current value: feature_fraction=0.17370221612501496\n",
      "[LightGBM] [Warning] lambda_l2 is set=9.364618291663153e-05, reg_lambda=0.0 will be ignored. Current value: lambda_l2=9.364618291663153e-05\n"
     ]
    },
    {
     "name": "stderr",
     "output_type": "stream",
     "text": [
      "\u001b[32m[I 2023-02-01 15:45:57,656]\u001b[0m Trial 158 finished with value: 2.1964788654574314 and parameters: {'feature_fraction': 0.17370221612501496, 'num_leaves': 125, 'bagging_fraction': 0.4502299639242769, 'lambda_l1': 4.4352655143041835, 'lambda_l2': 9.364618291663153e-05, 'n_estimators': 274, 'max_depth': 4}. Best is trial 53 with value: 2.1370071271725095.\u001b[0m\n"
     ]
    },
    {
     "name": "stdout",
     "output_type": "stream",
     "text": [
      "[LightGBM] [Warning] lambda_l1 is set=2.877751322288518, reg_alpha=0.0 will be ignored. Current value: lambda_l1=2.877751322288518\n",
      "[LightGBM] [Warning] bagging_fraction is set=0.432169052495362, subsample=1.0 will be ignored. Current value: bagging_fraction=0.432169052495362\n",
      "[LightGBM] [Warning] feature_fraction is set=0.14334669140945916, colsample_bytree=1.0 will be ignored. Current value: feature_fraction=0.14334669140945916\n",
      "[LightGBM] [Warning] lambda_l2 is set=0.00032188541395589967, reg_lambda=0.0 will be ignored. Current value: lambda_l2=0.00032188541395589967\n"
     ]
    },
    {
     "name": "stderr",
     "output_type": "stream",
     "text": [
      "\u001b[32m[I 2023-02-01 15:45:58,423]\u001b[0m Trial 159 finished with value: 2.2228637557547892 and parameters: {'feature_fraction': 0.14334669140945916, 'num_leaves': 114, 'bagging_fraction': 0.432169052495362, 'lambda_l1': 2.877751322288518, 'lambda_l2': 0.00032188541395589967, 'n_estimators': 253, 'max_depth': 4}. Best is trial 53 with value: 2.1370071271725095.\u001b[0m\n"
     ]
    },
    {
     "name": "stdout",
     "output_type": "stream",
     "text": [
      "[LightGBM] [Warning] lambda_l1 is set=5.34816111328862, reg_alpha=0.0 will be ignored. Current value: lambda_l1=5.34816111328862\n",
      "[LightGBM] [Warning] bagging_fraction is set=0.4843392450234095, subsample=1.0 will be ignored. Current value: bagging_fraction=0.4843392450234095\n",
      "[LightGBM] [Warning] feature_fraction is set=0.20842508284431802, colsample_bytree=1.0 will be ignored. Current value: feature_fraction=0.20842508284431802\n",
      "[LightGBM] [Warning] lambda_l2 is set=0.00014554304915449096, reg_lambda=0.0 will be ignored. Current value: lambda_l2=0.00014554304915449096\n"
     ]
    },
    {
     "name": "stderr",
     "output_type": "stream",
     "text": [
      "\u001b[32m[I 2023-02-01 15:45:59,381]\u001b[0m Trial 160 finished with value: 2.255096964146952 and parameters: {'feature_fraction': 0.20842508284431802, 'num_leaves': 130, 'bagging_fraction': 0.4843392450234095, 'lambda_l1': 5.34816111328862, 'lambda_l2': 0.00014554304915449096, 'n_estimators': 282, 'max_depth': 4}. Best is trial 53 with value: 2.1370071271725095.\u001b[0m\n"
     ]
    },
    {
     "name": "stdout",
     "output_type": "stream",
     "text": [
      "[LightGBM] [Warning] lambda_l1 is set=9.877546949601221, reg_alpha=0.0 will be ignored. Current value: lambda_l1=9.877546949601221\n",
      "[LightGBM] [Warning] bagging_fraction is set=0.49840160309357856, subsample=1.0 will be ignored. Current value: bagging_fraction=0.49840160309357856\n",
      "[LightGBM] [Warning] feature_fraction is set=0.2228620528378541, colsample_bytree=1.0 will be ignored. Current value: feature_fraction=0.2228620528378541\n",
      "[LightGBM] [Warning] lambda_l2 is set=0.0006461175862205322, reg_lambda=0.0 will be ignored. Current value: lambda_l2=0.0006461175862205322\n"
     ]
    },
    {
     "name": "stderr",
     "output_type": "stream",
     "text": [
      "\u001b[32m[I 2023-02-01 15:46:00,358]\u001b[0m Trial 161 finished with value: 2.2144243319360815 and parameters: {'feature_fraction': 0.2228620528378541, 'num_leaves': 120, 'bagging_fraction': 0.49840160309357856, 'lambda_l1': 9.877546949601221, 'lambda_l2': 0.0006461175862205322, 'n_estimators': 269, 'max_depth': 4}. Best is trial 53 with value: 2.1370071271725095.\u001b[0m\n"
     ]
    },
    {
     "name": "stdout",
     "output_type": "stream",
     "text": [
      "[LightGBM] [Warning] lambda_l1 is set=0.09620633200871079, reg_alpha=0.0 will be ignored. Current value: lambda_l1=0.09620633200871079\n",
      "[LightGBM] [Warning] bagging_fraction is set=0.5138783954945675, subsample=1.0 will be ignored. Current value: bagging_fraction=0.5138783954945675\n",
      "[LightGBM] [Warning] feature_fraction is set=0.2443741628209888, colsample_bytree=1.0 will be ignored. Current value: feature_fraction=0.2443741628209888\n",
      "[LightGBM] [Warning] lambda_l2 is set=1.7393153072528209e-06, reg_lambda=0.0 will be ignored. Current value: lambda_l2=1.7393153072528209e-06\n"
     ]
    },
    {
     "name": "stderr",
     "output_type": "stream",
     "text": [
      "\u001b[32m[I 2023-02-01 15:46:01,313]\u001b[0m Trial 162 finished with value: 2.227772832082197 and parameters: {'feature_fraction': 0.2443741628209888, 'num_leaves': 124, 'bagging_fraction': 0.5138783954945675, 'lambda_l1': 0.09620633200871079, 'lambda_l2': 1.7393153072528209e-06, 'n_estimators': 266, 'max_depth': 4}. Best is trial 53 with value: 2.1370071271725095.\u001b[0m\n"
     ]
    },
    {
     "name": "stdout",
     "output_type": "stream",
     "text": [
      "[LightGBM] [Warning] lambda_l1 is set=0.33319811633708213, reg_alpha=0.0 will be ignored. Current value: lambda_l1=0.33319811633708213\n",
      "[LightGBM] [Warning] bagging_fraction is set=0.5085125537803563, subsample=1.0 will be ignored. Current value: bagging_fraction=0.5085125537803563\n",
      "[LightGBM] [Warning] feature_fraction is set=0.2624332712069499, colsample_bytree=1.0 will be ignored. Current value: feature_fraction=0.2624332712069499\n",
      "[LightGBM] [Warning] lambda_l2 is set=6.619148642085125e-05, reg_lambda=0.0 will be ignored. Current value: lambda_l2=6.619148642085125e-05\n"
     ]
    },
    {
     "name": "stderr",
     "output_type": "stream",
     "text": [
      "\u001b[32m[I 2023-02-01 15:46:02,297]\u001b[0m Trial 163 finished with value: 2.2230250901794495 and parameters: {'feature_fraction': 0.2624332712069499, 'num_leaves': 105, 'bagging_fraction': 0.5085125537803563, 'lambda_l1': 0.33319811633708213, 'lambda_l2': 6.619148642085125e-05, 'n_estimators': 262, 'max_depth': 4}. Best is trial 53 with value: 2.1370071271725095.\u001b[0m\n"
     ]
    },
    {
     "name": "stdout",
     "output_type": "stream",
     "text": [
      "[LightGBM] [Warning] lambda_l1 is set=6.888022889598283, reg_alpha=0.0 will be ignored. Current value: lambda_l1=6.888022889598283\n",
      "[LightGBM] [Warning] bagging_fraction is set=0.4653142460276813, subsample=1.0 will be ignored. Current value: bagging_fraction=0.4653142460276813\n",
      "[LightGBM] [Warning] feature_fraction is set=0.19011544912438247, colsample_bytree=1.0 will be ignored. Current value: feature_fraction=0.19011544912438247\n",
      "[LightGBM] [Warning] lambda_l2 is set=0.00041838011203897867, reg_lambda=0.0 will be ignored. Current value: lambda_l2=0.00041838011203897867\n"
     ]
    },
    {
     "name": "stderr",
     "output_type": "stream",
     "text": [
      "\u001b[32m[I 2023-02-01 15:46:03,108]\u001b[0m Trial 164 finished with value: 2.2284937313597846 and parameters: {'feature_fraction': 0.19011544912438247, 'num_leaves': 114, 'bagging_fraction': 0.4653142460276813, 'lambda_l1': 6.888022889598283, 'lambda_l2': 0.00041838011203897867, 'n_estimators': 229, 'max_depth': 4}. Best is trial 53 with value: 2.1370071271725095.\u001b[0m\n"
     ]
    },
    {
     "name": "stdout",
     "output_type": "stream",
     "text": [
      "[LightGBM] [Warning] lambda_l1 is set=0.03491421001192241, reg_alpha=0.0 will be ignored. Current value: lambda_l1=0.03491421001192241\n",
      "[LightGBM] [Warning] bagging_fraction is set=0.4891949197587702, subsample=1.0 will be ignored. Current value: bagging_fraction=0.4891949197587702\n",
      "[LightGBM] [Warning] feature_fraction is set=0.23589794626913246, colsample_bytree=1.0 will be ignored. Current value: feature_fraction=0.23589794626913246\n",
      "[LightGBM] [Warning] lambda_l2 is set=3.2900517128536854e-06, reg_lambda=0.0 will be ignored. Current value: lambda_l2=3.2900517128536854e-06\n"
     ]
    },
    {
     "name": "stderr",
     "output_type": "stream",
     "text": [
      "\u001b[32m[I 2023-02-01 15:46:03,999]\u001b[0m Trial 165 finished with value: 2.261186141767762 and parameters: {'feature_fraction': 0.23589794626913246, 'num_leaves': 110, 'bagging_fraction': 0.4891949197587702, 'lambda_l1': 0.03491421001192241, 'lambda_l2': 3.2900517128536854e-06, 'n_estimators': 249, 'max_depth': 4}. Best is trial 53 with value: 2.1370071271725095.\u001b[0m\n"
     ]
    },
    {
     "name": "stdout",
     "output_type": "stream",
     "text": [
      "[LightGBM] [Warning] lambda_l1 is set=1.8864567759687816, reg_alpha=0.0 will be ignored. Current value: lambda_l1=1.8864567759687816\n",
      "[LightGBM] [Warning] bagging_fraction is set=0.4778553167970161, subsample=1.0 will be ignored. Current value: bagging_fraction=0.4778553167970161\n",
      "[LightGBM] [Warning] feature_fraction is set=0.15949340590220146, colsample_bytree=1.0 will be ignored. Current value: feature_fraction=0.15949340590220146\n",
      "[LightGBM] [Warning] lambda_l2 is set=0.0002174471124224953, reg_lambda=0.0 will be ignored. Current value: lambda_l2=0.0002174471124224953\n"
     ]
    },
    {
     "name": "stderr",
     "output_type": "stream",
     "text": [
      "\u001b[32m[I 2023-02-01 15:46:04,518]\u001b[0m Trial 166 finished with value: 2.2483778259482614 and parameters: {'feature_fraction': 0.15949340590220146, 'num_leaves': 119, 'bagging_fraction': 0.4778553167970161, 'lambda_l1': 1.8864567759687816, 'lambda_l2': 0.0002174471124224953, 'n_estimators': 113, 'max_depth': 4}. Best is trial 53 with value: 2.1370071271725095.\u001b[0m\n"
     ]
    },
    {
     "name": "stdout",
     "output_type": "stream",
     "text": [
      "[LightGBM] [Warning] lambda_l1 is set=3.7365731991551328, reg_alpha=0.0 will be ignored. Current value: lambda_l1=3.7365731991551328\n",
      "[LightGBM] [Warning] bagging_fraction is set=0.5472910542958386, subsample=1.0 will be ignored. Current value: bagging_fraction=0.5472910542958386\n",
      "[LightGBM] [Warning] feature_fraction is set=0.2059696262664689, colsample_bytree=1.0 will be ignored. Current value: feature_fraction=0.2059696262664689\n",
      "[LightGBM] [Warning] lambda_l2 is set=0.0007991562805149026, reg_lambda=0.0 will be ignored. Current value: lambda_l2=0.0007991562805149026\n"
     ]
    },
    {
     "name": "stderr",
     "output_type": "stream",
     "text": [
      "\u001b[32m[I 2023-02-01 15:46:05,460]\u001b[0m Trial 167 finished with value: 2.25176753397039 and parameters: {'feature_fraction': 0.2059696262664689, 'num_leaves': 178, 'bagging_fraction': 0.5472910542958386, 'lambda_l1': 3.7365731991551328, 'lambda_l2': 0.0007991562805149026, 'n_estimators': 276, 'max_depth': 4}. Best is trial 53 with value: 2.1370071271725095.\u001b[0m\n"
     ]
    },
    {
     "name": "stdout",
     "output_type": "stream",
     "text": [
      "[LightGBM] [Warning] lambda_l1 is set=5.6047007143971594, reg_alpha=0.0 will be ignored. Current value: lambda_l1=5.6047007143971594\n",
      "[LightGBM] [Warning] bagging_fraction is set=0.5278181217332375, subsample=1.0 will be ignored. Current value: bagging_fraction=0.5278181217332375\n",
      "[LightGBM] [Warning] feature_fraction is set=0.221042409076574, colsample_bytree=1.0 will be ignored. Current value: feature_fraction=0.221042409076574\n",
      "[LightGBM] [Warning] lambda_l2 is set=9.499238990820799e-05, reg_lambda=0.0 will be ignored. Current value: lambda_l2=9.499238990820799e-05\n"
     ]
    },
    {
     "name": "stderr",
     "output_type": "stream",
     "text": [
      "\u001b[32m[I 2023-02-01 15:46:06,064]\u001b[0m Trial 168 finished with value: 2.183768684267297 and parameters: {'feature_fraction': 0.221042409076574, 'num_leaves': 96, 'bagging_fraction': 0.5278181217332375, 'lambda_l1': 5.6047007143971594, 'lambda_l2': 9.499238990820799e-05, 'n_estimators': 186, 'max_depth': 3}. Best is trial 53 with value: 2.1370071271725095.\u001b[0m\n"
     ]
    },
    {
     "name": "stdout",
     "output_type": "stream",
     "text": [
      "[LightGBM] [Warning] lambda_l1 is set=1.126903162125227, reg_alpha=0.0 will be ignored. Current value: lambda_l1=1.126903162125227\n",
      "[LightGBM] [Warning] bagging_fraction is set=0.460262168413009, subsample=1.0 will be ignored. Current value: bagging_fraction=0.460262168413009\n",
      "[LightGBM] [Warning] feature_fraction is set=0.24552386671864496, colsample_bytree=1.0 will be ignored. Current value: feature_fraction=0.24552386671864496\n",
      "[LightGBM] [Warning] lambda_l2 is set=0.0017390125601937307, reg_lambda=0.0 will be ignored. Current value: lambda_l2=0.0017390125601937307\n"
     ]
    },
    {
     "name": "stderr",
     "output_type": "stream",
     "text": [
      "\u001b[32m[I 2023-02-01 15:46:07,073]\u001b[0m Trial 169 finished with value: 2.2168128463643226 and parameters: {'feature_fraction': 0.24552386671864496, 'num_leaves': 198, 'bagging_fraction': 0.460262168413009, 'lambda_l1': 1.126903162125227, 'lambda_l2': 0.0017390125601937307, 'n_estimators': 282, 'max_depth': 4}. Best is trial 53 with value: 2.1370071271725095.\u001b[0m\n"
     ]
    },
    {
     "name": "stdout",
     "output_type": "stream",
     "text": [
      "[LightGBM] [Warning] lambda_l1 is set=3.094068546581408, reg_alpha=0.0 will be ignored. Current value: lambda_l1=3.094068546581408\n",
      "[LightGBM] [Warning] bagging_fraction is set=0.5007716212596042, subsample=1.0 will be ignored. Current value: bagging_fraction=0.5007716212596042\n",
      "[LightGBM] [Warning] feature_fraction is set=0.27239877014265085, colsample_bytree=1.0 will be ignored. Current value: feature_fraction=0.27239877014265085\n",
      "[LightGBM] [Warning] lambda_l2 is set=0.00017906618602669966, reg_lambda=0.0 will be ignored. Current value: lambda_l2=0.00017906618602669966\n"
     ]
    },
    {
     "name": "stderr",
     "output_type": "stream",
     "text": [
      "\u001b[32m[I 2023-02-01 15:46:08,078]\u001b[0m Trial 170 finished with value: 2.1813489985222008 and parameters: {'feature_fraction': 0.27239877014265085, 'num_leaves': 128, 'bagging_fraction': 0.5007716212596042, 'lambda_l1': 3.094068546581408, 'lambda_l2': 0.00017906618602669966, 'n_estimators': 258, 'max_depth': 4}. Best is trial 53 with value: 2.1370071271725095.\u001b[0m\n"
     ]
    },
    {
     "name": "stdout",
     "output_type": "stream",
     "text": [
      "[LightGBM] [Warning] lambda_l1 is set=4.335991780281989, reg_alpha=0.0 will be ignored. Current value: lambda_l1=4.335991780281989\n",
      "[LightGBM] [Warning] bagging_fraction is set=0.4789624085432716, subsample=1.0 will be ignored. Current value: bagging_fraction=0.4789624085432716\n",
      "[LightGBM] [Warning] feature_fraction is set=0.19459205568992613, colsample_bytree=1.0 will be ignored. Current value: feature_fraction=0.19459205568992613\n",
      "[LightGBM] [Warning] lambda_l2 is set=9.821350395624092e-07, reg_lambda=0.0 will be ignored. Current value: lambda_l2=9.821350395624092e-07\n"
     ]
    },
    {
     "name": "stderr",
     "output_type": "stream",
     "text": [
      "\u001b[32m[I 2023-02-01 15:46:09,089]\u001b[0m Trial 171 finished with value: 2.204923402823751 and parameters: {'feature_fraction': 0.19459205568992613, 'num_leaves': 102, 'bagging_fraction': 0.4789624085432716, 'lambda_l1': 4.335991780281989, 'lambda_l2': 9.821350395624092e-07, 'n_estimators': 272, 'max_depth': 4}. Best is trial 53 with value: 2.1370071271725095.\u001b[0m\n"
     ]
    },
    {
     "name": "stdout",
     "output_type": "stream",
     "text": [
      "[LightGBM] [Warning] lambda_l1 is set=7.048695651644965, reg_alpha=0.0 will be ignored. Current value: lambda_l1=7.048695651644965\n",
      "[LightGBM] [Warning] bagging_fraction is set=0.47072858545698926, subsample=1.0 will be ignored. Current value: bagging_fraction=0.47072858545698926\n",
      "[LightGBM] [Warning] feature_fraction is set=0.26499120262542375, colsample_bytree=1.0 will be ignored. Current value: feature_fraction=0.26499120262542375\n",
      "[LightGBM] [Warning] lambda_l2 is set=0.001582067082408591, reg_lambda=0.0 will be ignored. Current value: lambda_l2=0.001582067082408591\n"
     ]
    },
    {
     "name": "stderr",
     "output_type": "stream",
     "text": [
      "\u001b[32m[I 2023-02-01 15:46:10,101]\u001b[0m Trial 172 finished with value: 2.2138371818461153 and parameters: {'feature_fraction': 0.26499120262542375, 'num_leaves': 109, 'bagging_fraction': 0.47072858545698926, 'lambda_l1': 7.048695651644965, 'lambda_l2': 0.001582067082408591, 'n_estimators': 260, 'max_depth': 4}. Best is trial 53 with value: 2.1370071271725095.\u001b[0m\n"
     ]
    },
    {
     "name": "stdout",
     "output_type": "stream",
     "text": [
      "[LightGBM] [Warning] lambda_l1 is set=2.104094186684988, reg_alpha=0.0 will be ignored. Current value: lambda_l1=2.104094186684988\n",
      "[LightGBM] [Warning] bagging_fraction is set=0.45202919499161476, subsample=1.0 will be ignored. Current value: bagging_fraction=0.45202919499161476\n",
      "[LightGBM] [Warning] feature_fraction is set=0.23249597992562812, colsample_bytree=1.0 will be ignored. Current value: feature_fraction=0.23249597992562812\n",
      "[LightGBM] [Warning] lambda_l2 is set=0.00036129381424701996, reg_lambda=0.0 will be ignored. Current value: lambda_l2=0.00036129381424701996\n"
     ]
    },
    {
     "name": "stderr",
     "output_type": "stream",
     "text": [
      "\u001b[32m[I 2023-02-01 15:46:11,010]\u001b[0m Trial 173 finished with value: 2.232394683831992 and parameters: {'feature_fraction': 0.23249597992562812, 'num_leaves': 104, 'bagging_fraction': 0.45202919499161476, 'lambda_l1': 2.104094186684988, 'lambda_l2': 0.00036129381424701996, 'n_estimators': 246, 'max_depth': 4}. Best is trial 53 with value: 2.1370071271725095.\u001b[0m\n"
     ]
    },
    {
     "name": "stdout",
     "output_type": "stream",
     "text": [
      "[LightGBM] [Warning] lambda_l1 is set=4.8147916562252915, reg_alpha=0.0 will be ignored. Current value: lambda_l1=4.8147916562252915\n",
      "[LightGBM] [Warning] bagging_fraction is set=0.48473763727244107, subsample=1.0 will be ignored. Current value: bagging_fraction=0.48473763727244107\n",
      "[LightGBM] [Warning] feature_fraction is set=0.1759950074515593, colsample_bytree=1.0 will be ignored. Current value: feature_fraction=0.1759950074515593\n",
      "[LightGBM] [Warning] lambda_l2 is set=0.0011343984783280209, reg_lambda=0.0 will be ignored. Current value: lambda_l2=0.0011343984783280209\n"
     ]
    },
    {
     "name": "stderr",
     "output_type": "stream",
     "text": [
      "\u001b[32m[I 2023-02-01 15:46:11,959]\u001b[0m Trial 174 finished with value: 2.206298170849082 and parameters: {'feature_fraction': 0.1759950074515593, 'num_leaves': 117, 'bagging_fraction': 0.48473763727244107, 'lambda_l1': 4.8147916562252915, 'lambda_l2': 0.0011343984783280209, 'n_estimators': 266, 'max_depth': 4}. Best is trial 53 with value: 2.1370071271725095.\u001b[0m\n"
     ]
    },
    {
     "name": "stdout",
     "output_type": "stream",
     "text": [
      "[LightGBM] [Warning] lambda_l1 is set=0.22718902595703908, reg_alpha=0.0 will be ignored. Current value: lambda_l1=0.22718902595703908\n",
      "[LightGBM] [Warning] bagging_fraction is set=0.5183600348542455, subsample=1.0 will be ignored. Current value: bagging_fraction=0.5183600348542455\n",
      "[LightGBM] [Warning] feature_fraction is set=0.2145313858154883, colsample_bytree=1.0 will be ignored. Current value: feature_fraction=0.2145313858154883\n",
      "[LightGBM] [Warning] lambda_l2 is set=0.0004817463505841842, reg_lambda=0.0 will be ignored. Current value: lambda_l2=0.0004817463505841842\n"
     ]
    },
    {
     "name": "stderr",
     "output_type": "stream",
     "text": [
      "\u001b[32m[I 2023-02-01 15:46:12,842]\u001b[0m Trial 175 finished with value: 2.147024478025534 and parameters: {'feature_fraction': 0.2145313858154883, 'num_leaves': 123, 'bagging_fraction': 0.5183600348542455, 'lambda_l1': 0.22718902595703908, 'lambda_l2': 0.0004817463505841842, 'n_estimators': 254, 'max_depth': 4}. Best is trial 53 with value: 2.1370071271725095.\u001b[0m\n"
     ]
    },
    {
     "name": "stdout",
     "output_type": "stream",
     "text": [
      "[LightGBM] [Warning] lambda_l1 is set=0.23097925770269623, reg_alpha=0.0 will be ignored. Current value: lambda_l1=0.23097925770269623\n",
      "[LightGBM] [Warning] bagging_fraction is set=0.5378332502862142, subsample=1.0 will be ignored. Current value: bagging_fraction=0.5378332502862142\n",
      "[LightGBM] [Warning] feature_fraction is set=0.21202487551771884, colsample_bytree=1.0 will be ignored. Current value: feature_fraction=0.21202487551771884\n",
      "[LightGBM] [Warning] lambda_l2 is set=0.0005368214052363967, reg_lambda=0.0 will be ignored. Current value: lambda_l2=0.0005368214052363967\n"
     ]
    },
    {
     "name": "stderr",
     "output_type": "stream",
     "text": [
      "\u001b[32m[I 2023-02-01 15:46:14,232]\u001b[0m Trial 176 finished with value: 2.3068371770705483 and parameters: {'feature_fraction': 0.21202487551771884, 'num_leaves': 125, 'bagging_fraction': 0.5378332502862142, 'lambda_l1': 0.23097925770269623, 'lambda_l2': 0.0005368214052363967, 'n_estimators': 252, 'max_depth': 6}. Best is trial 53 with value: 2.1370071271725095.\u001b[0m\n"
     ]
    },
    {
     "name": "stdout",
     "output_type": "stream",
     "text": [
      "[LightGBM] [Warning] lambda_l1 is set=0.18104867703485916, reg_alpha=0.0 will be ignored. Current value: lambda_l1=0.18104867703485916\n",
      "[LightGBM] [Warning] bagging_fraction is set=0.5186544258554701, subsample=1.0 will be ignored. Current value: bagging_fraction=0.5186544258554701\n",
      "[LightGBM] [Warning] feature_fraction is set=0.19352847217805716, colsample_bytree=1.0 will be ignored. Current value: feature_fraction=0.19352847217805716\n",
      "[LightGBM] [Warning] lambda_l2 is set=0.00013206969037491981, reg_lambda=0.0 will be ignored. Current value: lambda_l2=0.00013206969037491981\n"
     ]
    },
    {
     "name": "stderr",
     "output_type": "stream",
     "text": [
      "\u001b[32m[I 2023-02-01 15:46:14,630]\u001b[0m Trial 177 finished with value: 2.281004670215197 and parameters: {'feature_fraction': 0.19352847217805716, 'num_leaves': 135, 'bagging_fraction': 0.5186544258554701, 'lambda_l1': 0.18104867703485916, 'lambda_l2': 0.00013206969037491981, 'n_estimators': 39, 'max_depth': 4}. Best is trial 53 with value: 2.1370071271725095.\u001b[0m\n"
     ]
    },
    {
     "name": "stdout",
     "output_type": "stream",
     "text": [
      "[LightGBM] [Warning] lambda_l1 is set=0.07815492527474449, reg_alpha=0.0 will be ignored. Current value: lambda_l1=0.07815492527474449\n",
      "[LightGBM] [Warning] bagging_fraction is set=0.5063549450506193, subsample=1.0 will be ignored. Current value: bagging_fraction=0.5063549450506193\n",
      "[LightGBM] [Warning] feature_fraction is set=0.2379324833543187, colsample_bytree=1.0 will be ignored. Current value: feature_fraction=0.2379324833543187\n",
      "[LightGBM] [Warning] lambda_l2 is set=0.00028920982740109633, reg_lambda=0.0 will be ignored. Current value: lambda_l2=0.00028920982740109633\n"
     ]
    },
    {
     "name": "stderr",
     "output_type": "stream",
     "text": [
      "\u001b[32m[I 2023-02-01 15:46:15,594]\u001b[0m Trial 178 finished with value: 2.239850010740889 and parameters: {'feature_fraction': 0.2379324833543187, 'num_leaves': 119, 'bagging_fraction': 0.5063549450506193, 'lambda_l1': 0.07815492527474449, 'lambda_l2': 0.00028920982740109633, 'n_estimators': 277, 'max_depth': 4}. Best is trial 53 with value: 2.1370071271725095.\u001b[0m\n"
     ]
    },
    {
     "name": "stdout",
     "output_type": "stream",
     "text": [
      "[LightGBM] [Warning] lambda_l1 is set=0.49680566566618506, reg_alpha=0.0 will be ignored. Current value: lambda_l1=0.49680566566618506\n",
      "[LightGBM] [Warning] bagging_fraction is set=0.49422501597130764, subsample=1.0 will be ignored. Current value: bagging_fraction=0.49422501597130764\n",
      "[LightGBM] [Warning] feature_fraction is set=0.1668523458818349, colsample_bytree=1.0 will be ignored. Current value: feature_fraction=0.1668523458818349\n",
      "[LightGBM] [Warning] lambda_l2 is set=4.349976288865337e-05, reg_lambda=0.0 will be ignored. Current value: lambda_l2=4.349976288865337e-05\n"
     ]
    },
    {
     "name": "stderr",
     "output_type": "stream",
     "text": [
      "\u001b[32m[I 2023-02-01 15:46:15,923]\u001b[0m Trial 179 finished with value: 2.316000227083543 and parameters: {'feature_fraction': 0.1668523458818349, 'num_leaves': 113, 'bagging_fraction': 0.49422501597130764, 'lambda_l1': 0.49680566566618506, 'lambda_l2': 4.349976288865337e-05, 'n_estimators': 13, 'max_depth': 4}. Best is trial 53 with value: 2.1370071271725095.\u001b[0m\n"
     ]
    },
    {
     "name": "stdout",
     "output_type": "stream",
     "text": [
      "[LightGBM] [Warning] lambda_l1 is set=0.10701008876281284, reg_alpha=0.0 will be ignored. Current value: lambda_l1=0.10701008876281284\n",
      "[LightGBM] [Warning] bagging_fraction is set=0.5221311303280998, subsample=1.0 will be ignored. Current value: bagging_fraction=0.5221311303280998\n",
      "[LightGBM] [Warning] feature_fraction is set=0.2569542485212135, colsample_bytree=1.0 will be ignored. Current value: feature_fraction=0.2569542485212135\n",
      "[LightGBM] [Warning] lambda_l2 is set=0.0005749445746898956, reg_lambda=0.0 will be ignored. Current value: lambda_l2=0.0005749445746898956\n"
     ]
    },
    {
     "name": "stderr",
     "output_type": "stream",
     "text": [
      "\u001b[32m[I 2023-02-01 15:46:16,905]\u001b[0m Trial 180 finished with value: 2.224166198434194 and parameters: {'feature_fraction': 0.2569542485212135, 'num_leaves': 132, 'bagging_fraction': 0.5221311303280998, 'lambda_l1': 0.10701008876281284, 'lambda_l2': 0.0005749445746898956, 'n_estimators': 271, 'max_depth': 4}. Best is trial 53 with value: 2.1370071271725095.\u001b[0m\n"
     ]
    },
    {
     "name": "stdout",
     "output_type": "stream",
     "text": [
      "[LightGBM] [Warning] lambda_l1 is set=9.912880038182157, reg_alpha=0.0 will be ignored. Current value: lambda_l1=9.912880038182157\n",
      "[LightGBM] [Warning] bagging_fraction is set=0.47152724814551567, subsample=1.0 will be ignored. Current value: bagging_fraction=0.47152724814551567\n",
      "[LightGBM] [Warning] feature_fraction is set=0.21854872560041974, colsample_bytree=1.0 will be ignored. Current value: feature_fraction=0.21854872560041974\n",
      "[LightGBM] [Warning] lambda_l2 is set=0.0010126716454230624, reg_lambda=0.0 will be ignored. Current value: lambda_l2=0.0010126716454230624\n"
     ]
    },
    {
     "name": "stderr",
     "output_type": "stream",
     "text": [
      "\u001b[32m[I 2023-02-01 15:46:17,837]\u001b[0m Trial 181 finished with value: 2.1574833120105685 and parameters: {'feature_fraction': 0.21854872560041974, 'num_leaves': 107, 'bagging_fraction': 0.47152724814551567, 'lambda_l1': 9.912880038182157, 'lambda_l2': 0.0010126716454230624, 'n_estimators': 257, 'max_depth': 4}. Best is trial 53 with value: 2.1370071271725095.\u001b[0m\n"
     ]
    },
    {
     "name": "stdout",
     "output_type": "stream",
     "text": [
      "[LightGBM] [Warning] lambda_l1 is set=6.828573844547695, reg_alpha=0.0 will be ignored. Current value: lambda_l1=6.828573844547695\n",
      "[LightGBM] [Warning] bagging_fraction is set=0.4949526930091944, subsample=1.0 will be ignored. Current value: bagging_fraction=0.4949526930091944\n",
      "[LightGBM] [Warning] feature_fraction is set=0.21461898620942607, colsample_bytree=1.0 will be ignored. Current value: feature_fraction=0.21461898620942607\n",
      "[LightGBM] [Warning] lambda_l2 is set=0.0010141470920913733, reg_lambda=0.0 will be ignored. Current value: lambda_l2=0.0010141470920913733\n"
     ]
    },
    {
     "name": "stderr",
     "output_type": "stream",
     "text": [
      "\u001b[32m[I 2023-02-01 15:46:18,761]\u001b[0m Trial 182 finished with value: 2.170549369346276 and parameters: {'feature_fraction': 0.21461898620942607, 'num_leaves': 123, 'bagging_fraction': 0.4949526930091944, 'lambda_l1': 6.828573844547695, 'lambda_l2': 0.0010141470920913733, 'n_estimators': 257, 'max_depth': 4}. Best is trial 53 with value: 2.1370071271725095.\u001b[0m\n"
     ]
    },
    {
     "name": "stdout",
     "output_type": "stream",
     "text": [
      "[LightGBM] [Warning] lambda_l1 is set=7.184971819608005, reg_alpha=0.0 will be ignored. Current value: lambda_l1=7.184971819608005\n",
      "[LightGBM] [Warning] bagging_fraction is set=0.6852574622816309, subsample=1.0 will be ignored. Current value: bagging_fraction=0.6852574622816309\n",
      "[LightGBM] [Warning] feature_fraction is set=0.22015265106553206, colsample_bytree=1.0 will be ignored. Current value: feature_fraction=0.22015265106553206\n",
      "[LightGBM] [Warning] lambda_l2 is set=0.0009555474688851072, reg_lambda=0.0 will be ignored. Current value: lambda_l2=0.0009555474688851072\n"
     ]
    },
    {
     "name": "stderr",
     "output_type": "stream",
     "text": [
      "\u001b[32m[I 2023-02-01 15:46:19,638]\u001b[0m Trial 183 finished with value: 2.167034170963691 and parameters: {'feature_fraction': 0.22015265106553206, 'num_leaves': 123, 'bagging_fraction': 0.6852574622816309, 'lambda_l1': 7.184971819608005, 'lambda_l2': 0.0009555474688851072, 'n_estimators': 241, 'max_depth': 4}. Best is trial 53 with value: 2.1370071271725095.\u001b[0m\n"
     ]
    },
    {
     "name": "stdout",
     "output_type": "stream",
     "text": [
      "[LightGBM] [Warning] lambda_l1 is set=9.961533680122516, reg_alpha=0.0 will be ignored. Current value: lambda_l1=9.961533680122516\n",
      "[LightGBM] [Warning] bagging_fraction is set=0.756792297081103, subsample=1.0 will be ignored. Current value: bagging_fraction=0.756792297081103\n",
      "[LightGBM] [Warning] feature_fraction is set=0.19689969266177182, colsample_bytree=1.0 will be ignored. Current value: feature_fraction=0.19689969266177182\n",
      "[LightGBM] [Warning] lambda_l2 is set=0.0009221416005363171, reg_lambda=0.0 will be ignored. Current value: lambda_l2=0.0009221416005363171\n"
     ]
    },
    {
     "name": "stderr",
     "output_type": "stream",
     "text": [
      "\u001b[32m[I 2023-02-01 15:46:20,569]\u001b[0m Trial 184 finished with value: 2.2160932352844904 and parameters: {'feature_fraction': 0.19689969266177182, 'num_leaves': 124, 'bagging_fraction': 0.756792297081103, 'lambda_l1': 9.961533680122516, 'lambda_l2': 0.0009221416005363171, 'n_estimators': 239, 'max_depth': 4}. Best is trial 53 with value: 2.1370071271725095.\u001b[0m\n"
     ]
    },
    {
     "name": "stdout",
     "output_type": "stream",
     "text": [
      "[LightGBM] [Warning] lambda_l1 is set=6.351171045335786, reg_alpha=0.0 will be ignored. Current value: lambda_l1=6.351171045335786\n",
      "[LightGBM] [Warning] bagging_fraction is set=0.6231969820918621, subsample=1.0 will be ignored. Current value: bagging_fraction=0.6231969820918621\n",
      "[LightGBM] [Warning] feature_fraction is set=0.22256022353944807, colsample_bytree=1.0 will be ignored. Current value: feature_fraction=0.22256022353944807\n",
      "[LightGBM] [Warning] lambda_l2 is set=0.0020156499805103977, reg_lambda=0.0 will be ignored. Current value: lambda_l2=0.0020156499805103977\n"
     ]
    },
    {
     "name": "stderr",
     "output_type": "stream",
     "text": [
      "\u001b[32m[I 2023-02-01 15:46:21,476]\u001b[0m Trial 185 finished with value: 2.2265345883585637 and parameters: {'feature_fraction': 0.22256022353944807, 'num_leaves': 90, 'bagging_fraction': 0.6231969820918621, 'lambda_l1': 6.351171045335786, 'lambda_l2': 0.0020156499805103977, 'n_estimators': 243, 'max_depth': 4}. Best is trial 53 with value: 2.1370071271725095.\u001b[0m\n"
     ]
    },
    {
     "name": "stdout",
     "output_type": "stream",
     "text": [
      "[LightGBM] [Warning] lambda_l1 is set=3.208790029967317, reg_alpha=0.0 will be ignored. Current value: lambda_l1=3.208790029967317\n",
      "[LightGBM] [Warning] bagging_fraction is set=0.8112722142468303, subsample=1.0 will be ignored. Current value: bagging_fraction=0.8112722142468303\n",
      "[LightGBM] [Warning] feature_fraction is set=0.1459709451101932, colsample_bytree=1.0 will be ignored. Current value: feature_fraction=0.1459709451101932\n",
      "[LightGBM] [Warning] lambda_l2 is set=0.0011011185211261853, reg_lambda=0.0 will be ignored. Current value: lambda_l2=0.0011011185211261853\n"
     ]
    },
    {
     "name": "stderr",
     "output_type": "stream",
     "text": [
      "\u001b[32m[I 2023-02-01 15:46:22,254]\u001b[0m Trial 186 finished with value: 2.2046597964987606 and parameters: {'feature_fraction': 0.1459709451101932, 'num_leaves': 108, 'bagging_fraction': 0.8112722142468303, 'lambda_l1': 3.208790029967317, 'lambda_l2': 0.0011011185211261853, 'n_estimators': 257, 'max_depth': 4}. Best is trial 53 with value: 2.1370071271725095.\u001b[0m\n"
     ]
    },
    {
     "name": "stdout",
     "output_type": "stream",
     "text": [
      "[LightGBM] [Warning] lambda_l1 is set=6.473888401947861, reg_alpha=0.0 will be ignored. Current value: lambda_l1=6.473888401947861\n",
      "[LightGBM] [Warning] bagging_fraction is set=0.7006252490664784, subsample=1.0 will be ignored. Current value: bagging_fraction=0.7006252490664784\n",
      "[LightGBM] [Warning] feature_fraction is set=0.1807015842283007, colsample_bytree=1.0 will be ignored. Current value: feature_fraction=0.1807015842283007\n",
      "[LightGBM] [Warning] lambda_l2 is set=0.0006601083703565602, reg_lambda=0.0 will be ignored. Current value: lambda_l2=0.0006601083703565602\n"
     ]
    },
    {
     "name": "stderr",
     "output_type": "stream",
     "text": [
      "\u001b[32m[I 2023-02-01 15:46:23,129]\u001b[0m Trial 187 finished with value: 2.2242748031030555 and parameters: {'feature_fraction': 0.1807015842283007, 'num_leaves': 99, 'bagging_fraction': 0.7006252490664784, 'lambda_l1': 6.473888401947861, 'lambda_l2': 0.0006601083703565602, 'n_estimators': 235, 'max_depth': 4}. Best is trial 53 with value: 2.1370071271725095.\u001b[0m\n"
     ]
    },
    {
     "name": "stdout",
     "output_type": "stream",
     "text": [
      "[LightGBM] [Warning] lambda_l1 is set=1.6810390282794636, reg_alpha=0.0 will be ignored. Current value: lambda_l1=1.6810390282794636\n",
      "[LightGBM] [Warning] bagging_fraction is set=0.4943717997817376, subsample=1.0 will be ignored. Current value: bagging_fraction=0.4943717997817376\n",
      "[LightGBM] [Warning] feature_fraction is set=0.2401237209324749, colsample_bytree=1.0 will be ignored. Current value: feature_fraction=0.2401237209324749\n",
      "[LightGBM] [Warning] lambda_l2 is set=0.001070004285738352, reg_lambda=0.0 will be ignored. Current value: lambda_l2=0.001070004285738352\n"
     ]
    },
    {
     "name": "stderr",
     "output_type": "stream",
     "text": [
      "\u001b[32m[I 2023-02-01 15:46:24,059]\u001b[0m Trial 188 finished with value: 2.2401114486936655 and parameters: {'feature_fraction': 0.2401237209324749, 'num_leaves': 128, 'bagging_fraction': 0.4943717997817376, 'lambda_l1': 1.6810390282794636, 'lambda_l2': 0.001070004285738352, 'n_estimators': 253, 'max_depth': 4}. Best is trial 53 with value: 2.1370071271725095.\u001b[0m\n"
     ]
    },
    {
     "name": "stdout",
     "output_type": "stream",
     "text": [
      "[LightGBM] [Warning] lambda_l1 is set=0.005737468397642076, reg_alpha=0.0 will be ignored. Current value: lambda_l1=0.005737468397642076\n",
      "[LightGBM] [Warning] bagging_fraction is set=0.5105698173635945, subsample=1.0 will be ignored. Current value: bagging_fraction=0.5105698173635945\n",
      "[LightGBM] [Warning] feature_fraction is set=0.20994708079037203, colsample_bytree=1.0 will be ignored. Current value: feature_fraction=0.20994708079037203\n",
      "[LightGBM] [Warning] lambda_l2 is set=0.0004756704047260955, reg_lambda=0.0 will be ignored. Current value: lambda_l2=0.0004756704047260955\n"
     ]
    },
    {
     "name": "stderr",
     "output_type": "stream",
     "text": [
      "\u001b[32m[I 2023-02-01 15:46:24,898]\u001b[0m Trial 189 finished with value: 2.2382581808909 and parameters: {'feature_fraction': 0.20994708079037203, 'num_leaves': 122, 'bagging_fraction': 0.5105698173635945, 'lambda_l1': 0.005737468397642076, 'lambda_l2': 0.0004756704047260955, 'n_estimators': 247, 'max_depth': 4}. Best is trial 53 with value: 2.1370071271725095.\u001b[0m\n"
     ]
    },
    {
     "name": "stdout",
     "output_type": "stream",
     "text": [
      "[LightGBM] [Warning] lambda_l1 is set=2.627253693987263, reg_alpha=0.0 will be ignored. Current value: lambda_l1=2.627253693987263\n",
      "[LightGBM] [Warning] bagging_fraction is set=0.5583400857902058, subsample=1.0 will be ignored. Current value: bagging_fraction=0.5583400857902058\n",
      "[LightGBM] [Warning] feature_fraction is set=0.2270792789206465, colsample_bytree=1.0 will be ignored. Current value: feature_fraction=0.2270792789206465\n",
      "[LightGBM] [Warning] lambda_l2 is set=0.00023070732627086555, reg_lambda=0.0 will be ignored. Current value: lambda_l2=0.00023070732627086555\n"
     ]
    },
    {
     "name": "stderr",
     "output_type": "stream",
     "text": [
      "\u001b[32m[I 2023-02-01 15:46:25,839]\u001b[0m Trial 190 finished with value: 2.2228056054975083 and parameters: {'feature_fraction': 0.2270792789206465, 'num_leaves': 113, 'bagging_fraction': 0.5583400857902058, 'lambda_l1': 2.627253693987263, 'lambda_l2': 0.00023070732627086555, 'n_estimators': 262, 'max_depth': 4}. Best is trial 53 with value: 2.1370071271725095.\u001b[0m\n"
     ]
    },
    {
     "name": "stdout",
     "output_type": "stream",
     "text": [
      "[LightGBM] [Warning] lambda_l1 is set=9.27456208987192, reg_alpha=0.0 will be ignored. Current value: lambda_l1=9.27456208987192\n",
      "[LightGBM] [Warning] bagging_fraction is set=0.5927428000892975, subsample=1.0 will be ignored. Current value: bagging_fraction=0.5927428000892975\n",
      "[LightGBM] [Warning] feature_fraction is set=0.20704026258151748, colsample_bytree=1.0 will be ignored. Current value: feature_fraction=0.20704026258151748\n",
      "[LightGBM] [Warning] lambda_l2 is set=0.0003113488515575193, reg_lambda=0.0 will be ignored. Current value: lambda_l2=0.0003113488515575193\n"
     ]
    },
    {
     "name": "stderr",
     "output_type": "stream",
     "text": [
      "\u001b[32m[I 2023-02-01 15:46:26,774]\u001b[0m Trial 191 finished with value: 2.247368796774877 and parameters: {'feature_fraction': 0.20704026258151748, 'num_leaves': 117, 'bagging_fraction': 0.5927428000892975, 'lambda_l1': 9.27456208987192, 'lambda_l2': 0.0003113488515575193, 'n_estimators': 265, 'max_depth': 4}. Best is trial 53 with value: 2.1370071271725095.\u001b[0m\n"
     ]
    },
    {
     "name": "stdout",
     "output_type": "stream",
     "text": [
      "[LightGBM] [Warning] lambda_l1 is set=4.045956883537827, reg_alpha=0.0 will be ignored. Current value: lambda_l1=4.045956883537827\n",
      "[LightGBM] [Warning] bagging_fraction is set=0.46351362131220003, subsample=1.0 will be ignored. Current value: bagging_fraction=0.46351362131220003\n",
      "[LightGBM] [Warning] feature_fraction is set=0.25054488487047893, colsample_bytree=1.0 will be ignored. Current value: feature_fraction=0.25054488487047893\n",
      "[LightGBM] [Warning] lambda_l2 is set=0.0004261273188477909, reg_lambda=0.0 will be ignored. Current value: lambda_l2=0.0004261273188477909\n"
     ]
    },
    {
     "name": "stderr",
     "output_type": "stream",
     "text": [
      "\u001b[32m[I 2023-02-01 15:46:27,751]\u001b[0m Trial 192 finished with value: 2.210384237896015 and parameters: {'feature_fraction': 0.25054488487047893, 'num_leaves': 118, 'bagging_fraction': 0.46351362131220003, 'lambda_l1': 4.045956883537827, 'lambda_l2': 0.0004261273188477909, 'n_estimators': 255, 'max_depth': 4}. Best is trial 53 with value: 2.1370071271725095.\u001b[0m\n"
     ]
    },
    {
     "name": "stdout",
     "output_type": "stream",
     "text": [
      "[LightGBM] [Warning] lambda_l1 is set=6.093386701723503, reg_alpha=0.0 will be ignored. Current value: lambda_l1=6.093386701723503\n",
      "[LightGBM] [Warning] bagging_fraction is set=0.6400192828037087, subsample=1.0 will be ignored. Current value: bagging_fraction=0.6400192828037087\n",
      "[LightGBM] [Warning] feature_fraction is set=0.18754048348829713, colsample_bytree=1.0 will be ignored. Current value: feature_fraction=0.18754048348829713\n",
      "[LightGBM] [Warning] lambda_l2 is set=0.0007182198582869902, reg_lambda=0.0 will be ignored. Current value: lambda_l2=0.0007182198582869902\n"
     ]
    },
    {
     "name": "stderr",
     "output_type": "stream",
     "text": [
      "\u001b[32m[I 2023-02-01 15:46:28,649]\u001b[0m Trial 193 finished with value: 2.2481338862445996 and parameters: {'feature_fraction': 0.18754048348829713, 'num_leaves': 108, 'bagging_fraction': 0.6400192828037087, 'lambda_l1': 6.093386701723503, 'lambda_l2': 0.0007182198582869902, 'n_estimators': 267, 'max_depth': 4}. Best is trial 53 with value: 2.1370071271725095.\u001b[0m\n"
     ]
    },
    {
     "name": "stdout",
     "output_type": "stream",
     "text": [
      "[LightGBM] [Warning] lambda_l1 is set=9.79175550405247, reg_alpha=0.0 will be ignored. Current value: lambda_l1=9.79175550405247\n",
      "[LightGBM] [Warning] bagging_fraction is set=0.666418479204052, subsample=1.0 will be ignored. Current value: bagging_fraction=0.666418479204052\n",
      "[LightGBM] [Warning] feature_fraction is set=0.22644827621439043, colsample_bytree=1.0 will be ignored. Current value: feature_fraction=0.22644827621439043\n",
      "[LightGBM] [Warning] lambda_l2 is set=0.00020966065181893617, reg_lambda=0.0 will be ignored. Current value: lambda_l2=0.00020966065181893617\n"
     ]
    },
    {
     "name": "stderr",
     "output_type": "stream",
     "text": [
      "\u001b[32m[I 2023-02-01 15:46:29,782]\u001b[0m Trial 194 finished with value: 2.2152009059676043 and parameters: {'feature_fraction': 0.22644827621439043, 'num_leaves': 122, 'bagging_fraction': 0.666418479204052, 'lambda_l1': 9.79175550405247, 'lambda_l2': 0.00020966065181893617, 'n_estimators': 273, 'max_depth': 4}. Best is trial 53 with value: 2.1370071271725095.\u001b[0m\n"
     ]
    },
    {
     "name": "stdout",
     "output_type": "stream",
     "text": [
      "[LightGBM] [Warning] lambda_l1 is set=5.0090708475415795, reg_alpha=0.0 will be ignored. Current value: lambda_l1=5.0090708475415795\n",
      "[LightGBM] [Warning] bagging_fraction is set=0.4840723997411044, subsample=1.0 will be ignored. Current value: bagging_fraction=0.4840723997411044\n",
      "[LightGBM] [Warning] feature_fraction is set=0.16602426434895576, colsample_bytree=1.0 will be ignored. Current value: feature_fraction=0.16602426434895576\n",
      "[LightGBM] [Warning] lambda_l2 is set=0.00036804522692013503, reg_lambda=0.0 will be ignored. Current value: lambda_l2=0.00036804522692013503\n"
     ]
    },
    {
     "name": "stderr",
     "output_type": "stream",
     "text": [
      "\u001b[32m[I 2023-02-01 15:46:30,628]\u001b[0m Trial 195 finished with value: 2.192994040957537 and parameters: {'feature_fraction': 0.16602426434895576, 'num_leaves': 111, 'bagging_fraction': 0.4840723997411044, 'lambda_l1': 5.0090708475415795, 'lambda_l2': 0.00036804522692013503, 'n_estimators': 261, 'max_depth': 4}. Best is trial 53 with value: 2.1370071271725095.\u001b[0m\n"
     ]
    },
    {
     "name": "stdout",
     "output_type": "stream",
     "text": [
      "[LightGBM] [Warning] lambda_l1 is set=0.0022175884139030754, reg_alpha=0.0 will be ignored. Current value: lambda_l1=0.0022175884139030754\n",
      "[LightGBM] [Warning] bagging_fraction is set=0.44476227109372996, subsample=1.0 will be ignored. Current value: bagging_fraction=0.44476227109372996\n",
      "[LightGBM] [Warning] feature_fraction is set=0.2729145741011475, colsample_bytree=1.0 will be ignored. Current value: feature_fraction=0.2729145741011475\n",
      "[LightGBM] [Warning] lambda_l2 is set=0.00011446434387934767, reg_lambda=0.0 will be ignored. Current value: lambda_l2=0.00011446434387934767\n"
     ]
    },
    {
     "name": "stderr",
     "output_type": "stream",
     "text": [
      "\u001b[32m[I 2023-02-01 15:46:31,652]\u001b[0m Trial 196 finished with value: 2.1853384249198204 and parameters: {'feature_fraction': 0.2729145741011475, 'num_leaves': 130, 'bagging_fraction': 0.44476227109372996, 'lambda_l1': 0.0022175884139030754, 'lambda_l2': 0.00011446434387934767, 'n_estimators': 282, 'max_depth': 4}. Best is trial 53 with value: 2.1370071271725095.\u001b[0m\n"
     ]
    },
    {
     "name": "stdout",
     "output_type": "stream",
     "text": [
      "[LightGBM] [Warning] lambda_l1 is set=3.515188122717168, reg_alpha=0.0 will be ignored. Current value: lambda_l1=3.515188122717168\n",
      "[LightGBM] [Warning] bagging_fraction is set=0.4716229792678351, subsample=1.0 will be ignored. Current value: bagging_fraction=0.4716229792678351\n",
      "[LightGBM] [Warning] feature_fraction is set=0.2100442188986818, colsample_bytree=1.0 will be ignored. Current value: feature_fraction=0.2100442188986818\n",
      "[LightGBM] [Warning] lambda_l2 is set=0.001630400702756581, reg_lambda=0.0 will be ignored. Current value: lambda_l2=0.001630400702756581\n"
     ]
    },
    {
     "name": "stderr",
     "output_type": "stream",
     "text": [
      "\u001b[32m[I 2023-02-01 15:46:32,103]\u001b[0m Trial 197 finished with value: 2.2991694743142417 and parameters: {'feature_fraction': 0.2100442188986818, 'num_leaves': 99, 'bagging_fraction': 0.4716229792678351, 'lambda_l1': 3.515188122717168, 'lambda_l2': 0.001630400702756581, 'n_estimators': 67, 'max_depth': 4}. Best is trial 53 with value: 2.1370071271725095.\u001b[0m\n"
     ]
    },
    {
     "name": "stdout",
     "output_type": "stream",
     "text": [
      "[LightGBM] [Warning] lambda_l1 is set=0.7986074366834202, reg_alpha=0.0 will be ignored. Current value: lambda_l1=0.7986074366834202\n",
      "[LightGBM] [Warning] bagging_fraction is set=0.5001947230032865, subsample=1.0 will be ignored. Current value: bagging_fraction=0.5001947230032865\n",
      "[LightGBM] [Warning] feature_fraction is set=0.19339136711778737, colsample_bytree=1.0 will be ignored. Current value: feature_fraction=0.19339136711778737\n",
      "[LightGBM] [Warning] lambda_l2 is set=0.00016492863605502113, reg_lambda=0.0 will be ignored. Current value: lambda_l2=0.00016492863605502113\n"
     ]
    },
    {
     "name": "stderr",
     "output_type": "stream",
     "text": [
      "\u001b[32m[I 2023-02-01 15:46:32,893]\u001b[0m Trial 198 finished with value: 2.240788384415411 and parameters: {'feature_fraction': 0.19339136711778737, 'num_leaves': 85, 'bagging_fraction': 0.5001947230032865, 'lambda_l1': 0.7986074366834202, 'lambda_l2': 0.00016492863605502113, 'n_estimators': 226, 'max_depth': 4}. Best is trial 53 with value: 2.1370071271725095.\u001b[0m\n"
     ]
    },
    {
     "name": "stdout",
     "output_type": "stream",
     "text": [
      "[LightGBM] [Warning] lambda_l1 is set=6.659990438531627, reg_alpha=0.0 will be ignored. Current value: lambda_l1=6.659990438531627\n",
      "[LightGBM] [Warning] bagging_fraction is set=0.4576441433115496, subsample=1.0 will be ignored. Current value: bagging_fraction=0.4576441433115496\n",
      "[LightGBM] [Warning] feature_fraction is set=0.24553928334065217, colsample_bytree=1.0 will be ignored. Current value: feature_fraction=0.24553928334065217\n",
      "[LightGBM] [Warning] lambda_l2 is set=7.402105849548464e-05, reg_lambda=0.0 will be ignored. Current value: lambda_l2=7.402105849548464e-05\n"
     ]
    },
    {
     "name": "stderr",
     "output_type": "stream",
     "text": [
      "\u001b[32m[I 2023-02-01 15:46:33,847]\u001b[0m Trial 199 finished with value: 2.215455934475638 and parameters: {'feature_fraction': 0.24553928334065217, 'num_leaves': 114, 'bagging_fraction': 0.4576441433115496, 'lambda_l1': 6.659990438531627, 'lambda_l2': 7.402105849548464e-05, 'n_estimators': 250, 'max_depth': 4}. Best is trial 53 with value: 2.1370071271725095.\u001b[0m\n"
     ]
    },
    {
     "name": "stdout",
     "output_type": "stream",
     "text": [
      "Number of finished trials: 200\n",
      "Best trial: {'feature_fraction': 0.2176871763280036, 'num_leaves': 92, 'bagging_fraction': 0.4843969300602479, 'lambda_l1': 0.1513968579190927, 'lambda_l2': 2.7053287409130092e-05, 'n_estimators': 194, 'max_depth': 4}\n",
      "Best RMSE: 2.1370071271725095\n"
     ]
    }
   ],
   "source": [
    "def objective(trial):\n",
    "    \"\"\"\n",
    "    https://medium.com/optuna/lightgbm-tuner-new-optuna-integration-for-hyperparameter-optimization-8b7095e99258\n",
    "    \"\"\"\n",
    "    params = {\n",
    "\n",
    "#         'bagging_freq': trial.suggest_int('bagging_freq', 1, 7),\n",
    "#         'min_child_samples': trial.suggest_int('min_child_samples', 5, 100),\n",
    "        'feature_fraction': trial.suggest_float('feature_fraction', 0.0, 1.0),\n",
    "        'num_leaves': trial.suggest_int('num_leaves', 2, 256),\n",
    "        'bagging_fraction': trial.suggest_float('bagging_fraction', 0.4, 1.0),\n",
    "        'lambda_l1': trial.suggest_float('lambda_l1', 1e-8, 10.0, log=True),\n",
    "        'lambda_l2': trial.suggest_float('lambda_l2', 1e-8, 10.0, log=True),\n",
    "#         'min_samples_leaf': trial.suggest_int('min_samples_leaf', 1, 10),\n",
    "        'n_estimators': trial.suggest_int('n_estimators', 10, 300),\n",
    "        'max_depth': trial.suggest_int('max_depth', 2, 6),\n",
    "        'deterministic': True,\n",
    "        'random_state': 42\n",
    "    }\n",
    "    \n",
    "    model2 = lgbm.LGBMRegressor(**params)\n",
    "    model2.fit(xtrain_svd, ytrain)\n",
    "\n",
    "    # predict\n",
    "    ypred2 = model2.predict(xval_svd)\n",
    "\n",
    "    # validate\n",
    "    df_eval2 = pd.DataFrame()\n",
    "    df_eval2['Env'] = xval_svd.index.get_level_values(0)\n",
    "    df_eval2['ytrue'] = list(yval)\n",
    "    df_eval2['ypred'] = ypred2\n",
    "    rmse_per_group2 = df_eval2.groupby('Env').apply(lambda x: mean_squared_error(x['ytrue'], x['ypred'], squared=False))\n",
    "    # print(rmse_per_group2)\n",
    "\n",
    "    rmse2 = sum(rmse_per_group2) / len(rmse_per_group2)\n",
    "    return rmse2\n",
    "\n",
    "\n",
    "study = optuna.create_study(direction='minimize', sampler=optuna.samplers.TPESampler(seed=42))\n",
    "study.optimize(objective, n_trials=200)\n",
    " \n",
    "print('Number of finished trials:', len(study.trials))\n",
    "print('Best trial:', study.best_trial.params)\n",
    "print('Best RMSE:', study.best_value)"
   ]
  },
  {
   "cell_type": "code",
   "execution_count": 38,
   "id": "8fa3a28d",
   "metadata": {},
   "outputs": [],
   "source": [
    "# svd=100\n",
    "# Best RMSE: 2.1370071271725095\n",
    "\n",
    "# svd=150\n",
    "# Best RMSE: "
   ]
  },
  {
   "cell_type": "markdown",
   "id": "ef1ad748",
   "metadata": {},
   "source": [
    "### Best model"
   ]
  },
  {
   "cell_type": "code",
   "execution_count": 29,
   "id": "2b9d6d83",
   "metadata": {},
   "outputs": [
    {
     "name": "stdout",
     "output_type": "stream",
     "text": [
      "[LightGBM] [Warning] lambda_l1 is set=0.1513968579190927, reg_alpha=0.0 will be ignored. Current value: lambda_l1=0.1513968579190927\n",
      "[LightGBM] [Warning] bagging_fraction is set=0.4843969300602479, subsample=1.0 will be ignored. Current value: bagging_fraction=0.4843969300602479\n",
      "[LightGBM] [Warning] feature_fraction is set=0.2176871763280036, colsample_bytree=1.0 will be ignored. Current value: feature_fraction=0.2176871763280036\n",
      "[LightGBM] [Warning] lambda_l2 is set=2.7053287409130092e-05, reg_lambda=0.0 will be ignored. Current value: lambda_l2=2.7053287409130092e-05\n",
      "Env\n",
      "COH1_2021    3.140941\n",
      "DEH1_2021    1.983771\n",
      "GAH1_2021    1.792483\n",
      "GAH2_2021    2.193423\n",
      "GEH1_2021    2.172410\n",
      "IAH1_2021    2.321187\n",
      "IAH2_2021    1.312160\n",
      "IAH3_2021    2.029762\n",
      "IAH4_2021    1.639407\n",
      "ILH1_2021    1.765333\n",
      "INH1_2021    1.680861\n",
      "MIH1_2021    1.303263\n",
      "MNH1_2021    1.612437\n",
      "NCH1_2021    1.895760\n",
      "NEH1_2021    2.950657\n",
      "NEH2_2021    1.843764\n",
      "NEH3_2021    3.045207\n",
      "NYH2_2021    2.298449\n",
      "NYH3_2021    2.087288\n",
      "NYS1_2021    1.822565\n",
      "SCH1_2021    2.175633\n",
      "TXH1_2021    1.686421\n",
      "TXH2_2021    1.989576\n",
      "TXH3_2021    4.370797\n",
      "WIH1_2021    2.381734\n",
      "WIH2_2021    2.323411\n",
      "WIH3_2021    1.880493\n",
      "dtype: float64\n",
      "RMSE: 2.1370071271725095\n",
      "CPU times: user 833 ms, sys: 20.8 ms, total: 853 ms\n",
      "Wall time: 5.63 s\n"
     ]
    }
   ],
   "source": [
    "%%time\n",
    "\n",
    "best_params = {'feature_fraction': 0.2176871763280036, 'num_leaves': 92, \n",
    "               'bagging_fraction': 0.4843969300602479, 'lambda_l1': 0.1513968579190927, \n",
    "               'lambda_l2': 2.7053287409130092e-05, 'n_estimators': 194, 'max_depth': 4}\n",
    "model2 = lgbm.LGBMRegressor(random_state=42, **best_params)\n",
    "model2.fit(xtrain_svd, ytrain)\n",
    "\n",
    "# predict\n",
    "ypred2 = model2.predict(xval_svd)\n",
    "\n",
    "# validate\n",
    "df_eval2 = pd.DataFrame()\n",
    "df_eval2['Env'] = xval_svd.index.get_level_values(0)\n",
    "df_eval2['Hybrid'] = xval_svd.index.get_level_values(1)\n",
    "df_eval2['ytrue'] = list(yval)\n",
    "df_eval2['ypred'] = ypred2\n",
    "rmse_per_group2 = df_eval2.groupby('Env').apply(lambda x: mean_squared_error(x['ytrue'], x['ypred'], squared=False))\n",
    "print(rmse_per_group2)\n",
    "\n",
    "rmse2 = sum(rmse_per_group2) / len(rmse_per_group2)\n",
    "print('RMSE:', rmse2)"
   ]
  },
  {
   "cell_type": "code",
   "execution_count": 30,
   "id": "7857b0b9",
   "metadata": {},
   "outputs": [
    {
     "name": "stdout",
     "output_type": "stream",
     "text": [
      "0.2973349032402812\n"
     ]
    },
    {
     "data": {
      "image/png": "[encoded data removed]",
      "text/plain": [
       "<Figure size 432x432 with 1 Axes>"
      ]
     },
     "metadata": {
      "needs_background": "light"
     },
     "output_type": "display_data"
    }
   ],
   "source": [
    "print(r2_score(df_eval2['ytrue'], df_eval2['ypred']))\n",
    "df_eval2.plot.scatter('ytrue', 'ypred', figsize=(6, 6));"
   ]
  },
  {
   "cell_type": "code",
   "execution_count": 17,
   "id": "195b9746",
   "metadata": {},
   "outputs": [],
   "source": [
    "df_eval2.to_csv('../output/oof_kronecker_epi_AA.csv', index=False)"
   ]
  },
  {
   "cell_type": "code",
   "execution_count": 18,
   "id": "fb0cfa01",
   "metadata": {},
   "outputs": [
    {
     "name": "stdout",
     "output_type": "stream",
     "text": [
      "-rw-r--r-- 1 igorf samuelbf 839K Jan 31 19:25 ../output/oof_kronecker_additive.csv\r\n",
      "-rw-r--r-- 1 igorf samuelbf 838K Jan 31 22:25 ../output/oof_kronecker_dominant.csv\r\n",
      "-rw-r--r-- 1 igorf samuelbf 839K Feb  1 15:47 ../output/oof_kronecker_epi_AA.csv\r\n"
     ]
    }
   ],
   "source": [
    "!ls -lh ../output/oof_kronecker*"
   ]
  },
  {
   "cell_type": "code",
   "execution_count": null,
   "id": "7e6cd492",
   "metadata": {},
   "outputs": [],
   "source": []
  }
 ],
 "metadata": {
  "kernelspec": {
   "display_name": "Python 3 (ipykernel)",
   "language": "python",
   "name": "python3"
  },
  "language_info": {
   "codemirror_mode": {
    "name": "ipython",
    "version": 3
   },
   "file_extension": ".py",
   "mimetype": "text/x-python",
   "name": "python",
   "nbconvert_exporter": "python",
   "pygments_lexer": "ipython3",
   "version": "3.9.6"
  }
 },
 "nbformat": 4,
 "nbformat_minor": 5
}
